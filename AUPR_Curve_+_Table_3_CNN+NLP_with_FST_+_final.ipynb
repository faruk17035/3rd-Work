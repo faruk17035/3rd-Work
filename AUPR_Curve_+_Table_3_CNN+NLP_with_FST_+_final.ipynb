{
  "nbformat": 4,
  "nbformat_minor": 0,
  "metadata": {
    "colab": {
      "name": "AUPR Curve + Table-3 CNN+NLP with FST + final.ipynb",
      "provenance": [],
      "collapsed_sections": [],
      "include_colab_link": true
    },
    "kernelspec": {
      "name": "python3",
      "display_name": "Python 3"
    },
    "language_info": {
      "name": "python"
    },
    "accelerator": "GPU"
  },
  "cells": [
    {
      "cell_type": "markdown",
      "metadata": {
        "id": "view-in-github",
        "colab_type": "text"
      },
      "source": [
        "<a href=\"https://colab.research.google.com/github/faruk17035/3rd-Work/blob/main/AUPR_Curve_%2B_Table_3_CNN%2BNLP_with_FST_%2B_final.ipynb\" target=\"_parent\"><img src=\"https://colab.research.google.com/assets/colab-badge.svg\" alt=\"Open In Colab\"/></a>"
      ]
    },
    {
      "cell_type": "code",
      "execution_count": 1,
      "metadata": {
        "id": "7Br6zpLoAGvF"
      },
      "outputs": [],
      "source": [
        "import numpy as np\n",
        "import matplotlib.pyplot as plt\n",
        "import pandas as pd"
      ]
    },
    {
      "cell_type": "code",
      "source": [
        "from google.colab import drive \n",
        "drive.mount('/content/gdrive')"
      ],
      "metadata": {
        "colab": {
          "base_uri": "https://localhost:8080/"
        },
        "id": "tJDLOeq5BcYh",
        "outputId": "10512a2d-3f23-4560-c05e-cf68c1776358"
      },
      "execution_count": 2,
      "outputs": [
        {
          "output_type": "stream",
          "name": "stdout",
          "text": [
            "Mounted at /content/gdrive\n"
          ]
        }
      ]
    },
    {
      "cell_type": "markdown",
      "source": [
        "## 1. Golve"
      ],
      "metadata": {
        "id": "8kucoFsOCHRR"
      }
    },
    {
      "cell_type": "code",
      "source": [
        "import pandas as pd\n",
        "from pandas import read_excel\n",
        "file_name = '/content/gdrive/MyDrive/Gloveallghor.csv'\n",
        "# Glove3decimal.csv\n",
        "# Gloveallghor.csv \n",
        "df = pd.read_csv(file_name, index_col=0)\n",
        "#df = pd.read_csv(file_name)\n",
        "print(df.head()) # print the first 5 rows"
      ],
      "metadata": {
        "colab": {
          "base_uri": "https://localhost:8080/"
        },
        "id": "UvztZ5INB9dE",
        "outputId": "65d63882-6e30-4751-b60d-03bac61acf6f"
      },
      "execution_count": 3,
      "outputs": [
        {
          "output_type": "stream",
          "name": "stdout",
          "text": [
            "               tpc1      tpc2      tpc3      tpc4      tpc5      tpc6  \\\n",
            "tpc0                                                                    \n",
            "-0.000004 -0.026288  0.057258  0.045387  0.079776 -0.019956  0.033242   \n",
            "-0.052125  0.002777  0.055245  0.073139  0.070794 -0.026946 -0.014475   \n",
            "-0.036938 -0.040373  0.074364  0.029228  0.067112 -0.032641 -0.002931   \n",
            "-0.007257 -0.031773  0.035037  0.055648  0.086997 -0.015932  0.028711   \n",
            " 0.035118 -0.039462  0.075805  0.013093  0.086463 -0.017675  0.045797   \n",
            "\n",
            "               tpc7      tpc8      tpc9     tpc10  ...    tpc503    tpc504  \\\n",
            "tpc0                                               ...                       \n",
            "-0.000004 -0.010070 -0.022720 -0.029812  0.060112  ...  0.034153 -0.028236   \n",
            "-0.052125 -0.006685 -0.027041 -0.023399  0.123481  ...  0.035826 -0.019969   \n",
            "-0.036938 -0.028603 -0.010675 -0.028728  0.091884  ...  0.027479 -0.015310   \n",
            "-0.007257 -0.005803 -0.021357 -0.030503  0.068238  ...  0.037971 -0.036039   \n",
            " 0.035118 -0.019397 -0.026522 -0.008347  0.045341  ...  0.012862 -0.017681   \n",
            "\n",
            "             tpc505    tpc506    tpc507    tpc508    tpc509    tpc510  \\\n",
            "tpc0                                                                    \n",
            "-0.000004  0.067696 -0.096331  0.025590  0.039283 -0.050542  0.122821   \n",
            "-0.052125  0.041198 -0.089281  0.003722  0.021992 -0.056355  0.113405   \n",
            "-0.036938  0.053065 -0.039859  0.043501  0.054468 -0.056376  0.150060   \n",
            "-0.007257  0.087234 -0.085197  0.009901  0.028044 -0.068661  0.123129   \n",
            " 0.035118  0.083901 -0.106877  0.073434  0.078891 -0.050987  0.136574   \n",
            "\n",
            "             tpc511  Target  \n",
            "tpc0                         \n",
            "-0.000004 -0.076334       0  \n",
            "-0.052125 -0.034552       1  \n",
            "-0.036938 -0.062847       0  \n",
            "-0.007257 -0.058323       0  \n",
            " 0.035118 -0.083851       1  \n",
            "\n",
            "[5 rows x 512 columns]\n"
          ]
        }
      ]
    },
    {
      "cell_type": "code",
      "source": [
        "features = np.array(df.columns[:-1])\n",
        "target = 'Target'\n",
        "\n",
        "X = df[features]\n",
        "y = df[target]"
      ],
      "metadata": {
        "id": "v196ld1bCMgb"
      },
      "execution_count": 4,
      "outputs": []
    },
    {
      "cell_type": "code",
      "source": [
        "pip install shap"
      ],
      "metadata": {
        "colab": {
          "base_uri": "https://localhost:8080/"
        },
        "id": "1PUrWn9RCqQt",
        "outputId": "6a76159c-a01e-4f9a-f190-7580aaa44c17"
      },
      "execution_count": 5,
      "outputs": [
        {
          "output_type": "stream",
          "name": "stdout",
          "text": [
            "Collecting shap\n",
            "  Downloading shap-0.40.0-cp37-cp37m-manylinux2010_x86_64.whl (564 kB)\n",
            "\u001b[?25l\r\u001b[K     |▋                               | 10 kB 22.0 MB/s eta 0:00:01\r\u001b[K     |█▏                              | 20 kB 20.2 MB/s eta 0:00:01\r\u001b[K     |█▊                              | 30 kB 10.4 MB/s eta 0:00:01\r\u001b[K     |██▎                             | 40 kB 8.4 MB/s eta 0:00:01\r\u001b[K     |███                             | 51 kB 4.6 MB/s eta 0:00:01\r\u001b[K     |███▌                            | 61 kB 5.4 MB/s eta 0:00:01\r\u001b[K     |████                            | 71 kB 5.5 MB/s eta 0:00:01\r\u001b[K     |████▋                           | 81 kB 5.9 MB/s eta 0:00:01\r\u001b[K     |█████▏                          | 92 kB 6.6 MB/s eta 0:00:01\r\u001b[K     |█████▉                          | 102 kB 5.4 MB/s eta 0:00:01\r\u001b[K     |██████▍                         | 112 kB 5.4 MB/s eta 0:00:01\r\u001b[K     |███████                         | 122 kB 5.4 MB/s eta 0:00:01\r\u001b[K     |███████▌                        | 133 kB 5.4 MB/s eta 0:00:01\r\u001b[K     |████████▏                       | 143 kB 5.4 MB/s eta 0:00:01\r\u001b[K     |████████▊                       | 153 kB 5.4 MB/s eta 0:00:01\r\u001b[K     |█████████▎                      | 163 kB 5.4 MB/s eta 0:00:01\r\u001b[K     |█████████▉                      | 174 kB 5.4 MB/s eta 0:00:01\r\u001b[K     |██████████▍                     | 184 kB 5.4 MB/s eta 0:00:01\r\u001b[K     |███████████                     | 194 kB 5.4 MB/s eta 0:00:01\r\u001b[K     |███████████▋                    | 204 kB 5.4 MB/s eta 0:00:01\r\u001b[K     |████████████▏                   | 215 kB 5.4 MB/s eta 0:00:01\r\u001b[K     |████████████▊                   | 225 kB 5.4 MB/s eta 0:00:01\r\u001b[K     |█████████████▍                  | 235 kB 5.4 MB/s eta 0:00:01\r\u001b[K     |██████████████                  | 245 kB 5.4 MB/s eta 0:00:01\r\u001b[K     |██████████████▌                 | 256 kB 5.4 MB/s eta 0:00:01\r\u001b[K     |███████████████                 | 266 kB 5.4 MB/s eta 0:00:01\r\u001b[K     |███████████████▋                | 276 kB 5.4 MB/s eta 0:00:01\r\u001b[K     |████████████████▎               | 286 kB 5.4 MB/s eta 0:00:01\r\u001b[K     |████████████████▉               | 296 kB 5.4 MB/s eta 0:00:01\r\u001b[K     |█████████████████▍              | 307 kB 5.4 MB/s eta 0:00:01\r\u001b[K     |██████████████████              | 317 kB 5.4 MB/s eta 0:00:01\r\u001b[K     |██████████████████▋             | 327 kB 5.4 MB/s eta 0:00:01\r\u001b[K     |███████████████████▏            | 337 kB 5.4 MB/s eta 0:00:01\r\u001b[K     |███████████████████▊            | 348 kB 5.4 MB/s eta 0:00:01\r\u001b[K     |████████████████████▎           | 358 kB 5.4 MB/s eta 0:00:01\r\u001b[K     |████████████████████▉           | 368 kB 5.4 MB/s eta 0:00:01\r\u001b[K     |█████████████████████▌          | 378 kB 5.4 MB/s eta 0:00:01\r\u001b[K     |██████████████████████          | 389 kB 5.4 MB/s eta 0:00:01\r\u001b[K     |██████████████████████▋         | 399 kB 5.4 MB/s eta 0:00:01\r\u001b[K     |███████████████████████▏        | 409 kB 5.4 MB/s eta 0:00:01\r\u001b[K     |███████████████████████▉        | 419 kB 5.4 MB/s eta 0:00:01\r\u001b[K     |████████████████████████▍       | 430 kB 5.4 MB/s eta 0:00:01\r\u001b[K     |█████████████████████████       | 440 kB 5.4 MB/s eta 0:00:01\r\u001b[K     |█████████████████████████▌      | 450 kB 5.4 MB/s eta 0:00:01\r\u001b[K     |██████████████████████████      | 460 kB 5.4 MB/s eta 0:00:01\r\u001b[K     |██████████████████████████▊     | 471 kB 5.4 MB/s eta 0:00:01\r\u001b[K     |███████████████████████████▎    | 481 kB 5.4 MB/s eta 0:00:01\r\u001b[K     |███████████████████████████▉    | 491 kB 5.4 MB/s eta 0:00:01\r\u001b[K     |████████████████████████████▍   | 501 kB 5.4 MB/s eta 0:00:01\r\u001b[K     |█████████████████████████████   | 512 kB 5.4 MB/s eta 0:00:01\r\u001b[K     |█████████████████████████████▋  | 522 kB 5.4 MB/s eta 0:00:01\r\u001b[K     |██████████████████████████████▏ | 532 kB 5.4 MB/s eta 0:00:01\r\u001b[K     |██████████████████████████████▊ | 542 kB 5.4 MB/s eta 0:00:01\r\u001b[K     |███████████████████████████████▎| 552 kB 5.4 MB/s eta 0:00:01\r\u001b[K     |████████████████████████████████| 563 kB 5.4 MB/s eta 0:00:01\r\u001b[K     |████████████████████████████████| 564 kB 5.4 MB/s \n",
            "\u001b[?25hRequirement already satisfied: numpy in /usr/local/lib/python3.7/dist-packages (from shap) (1.21.5)\n",
            "Requirement already satisfied: tqdm>4.25.0 in /usr/local/lib/python3.7/dist-packages (from shap) (4.63.0)\n",
            "Requirement already satisfied: pandas in /usr/local/lib/python3.7/dist-packages (from shap) (1.3.5)\n",
            "Requirement already satisfied: cloudpickle in /usr/local/lib/python3.7/dist-packages (from shap) (1.3.0)\n",
            "Requirement already satisfied: scikit-learn in /usr/local/lib/python3.7/dist-packages (from shap) (1.0.2)\n",
            "Requirement already satisfied: packaging>20.9 in /usr/local/lib/python3.7/dist-packages (from shap) (21.3)\n",
            "Collecting slicer==0.0.7\n",
            "  Downloading slicer-0.0.7-py3-none-any.whl (14 kB)\n",
            "Requirement already satisfied: numba in /usr/local/lib/python3.7/dist-packages (from shap) (0.51.2)\n",
            "Requirement already satisfied: scipy in /usr/local/lib/python3.7/dist-packages (from shap) (1.4.1)\n",
            "Requirement already satisfied: pyparsing!=3.0.5,>=2.0.2 in /usr/local/lib/python3.7/dist-packages (from packaging>20.9->shap) (3.0.7)\n",
            "Requirement already satisfied: llvmlite<0.35,>=0.34.0.dev0 in /usr/local/lib/python3.7/dist-packages (from numba->shap) (0.34.0)\n",
            "Requirement already satisfied: setuptools in /usr/local/lib/python3.7/dist-packages (from numba->shap) (57.4.0)\n",
            "Requirement already satisfied: pytz>=2017.3 in /usr/local/lib/python3.7/dist-packages (from pandas->shap) (2018.9)\n",
            "Requirement already satisfied: python-dateutil>=2.7.3 in /usr/local/lib/python3.7/dist-packages (from pandas->shap) (2.8.2)\n",
            "Requirement already satisfied: six>=1.5 in /usr/local/lib/python3.7/dist-packages (from python-dateutil>=2.7.3->pandas->shap) (1.15.0)\n",
            "Requirement already satisfied: joblib>=0.11 in /usr/local/lib/python3.7/dist-packages (from scikit-learn->shap) (1.1.0)\n",
            "Requirement already satisfied: threadpoolctl>=2.0.0 in /usr/local/lib/python3.7/dist-packages (from scikit-learn->shap) (3.1.0)\n",
            "Installing collected packages: slicer, shap\n",
            "Successfully installed shap-0.40.0 slicer-0.0.7\n"
          ]
        }
      ]
    },
    {
      "cell_type": "code",
      "source": [
        "import numpy as np\n",
        "import pandas as pd\n",
        "from sklearn.model_selection import train_test_split\n",
        "import shap\n",
        "import matplotlib.pyplot as plt\n",
        "from sklearn.tree import DecisionTreeClassifier\n",
        "from sklearn.linear_model import LogisticRegression\n",
        "from sklearn.neighbors import KNeighborsClassifier\n",
        "from sklearn.svm import SVC\n",
        "from collections import Counter\n",
        "from imblearn.over_sampling import SMOTE\n",
        "from imblearn.under_sampling import RandomUnderSampler\n",
        "from xgboost import XGBClassifier\n",
        "from sklearn.utils import shuffle\n",
        "from imblearn.pipeline import Pipeline\n",
        "import lightgbm as lgb"
      ],
      "metadata": {
        "id": "ivbJ7TZbCtx8"
      },
      "execution_count": 6,
      "outputs": []
    },
    {
      "cell_type": "code",
      "source": [
        "X_train, X_test, y_train, y_test = train_test_split(X, y, test_size=0.10, random_state=100)"
      ],
      "metadata": {
        "id": "EC4X-Rk6Cxr9"
      },
      "execution_count": 7,
      "outputs": []
    },
    {
      "cell_type": "code",
      "source": [
        "def xgb_shap_values(X_train, y_train, X_test):\n",
        "\n",
        "    model = XGBClassifier()\n",
        "    model.fit(X_train, y_train)\n",
        "    explainer = shap.TreeExplainer(model, X_train)\n",
        "    shap_values_xgb = explainer.shap_values(X_test)\n",
        "    # shap.summary_plot(shap_values_xgb, X_test)\n",
        "    # shap.summary_plot(shap_values_xgb, X_test, plot_type ='bar')\n",
        "    # shap.dependence_plot(\"Age\", shap_values_xgb, X_test, interaction_index = 'rate Po2')\n",
        "    shap_sum = np.abs(shap_values_xgb).mean(axis=0)\n",
        "    importance_df = pd.DataFrame([features, shap_sum.tolist()]).T\n",
        "    importance_df.columns = ['Column Name', 'Shap Importance']\n",
        "    importance_df= importance_df.sort_values('Shap Importance', ascending = False)\n",
        "    return importance_df"
      ],
      "metadata": {
        "id": "xLDwVsgnC2Fc"
      },
      "execution_count": 8,
      "outputs": []
    },
    {
      "cell_type": "code",
      "source": [
        "selected_df = xgb_shap_values(X_train, y_train,  X_test)"
      ],
      "metadata": {
        "id": "ZAV2wf4rC4WV"
      },
      "execution_count": 9,
      "outputs": []
    },
    {
      "cell_type": "code",
      "source": [
        "selected_df = selected_df[0:300]\n",
        "selected_df"
      ],
      "metadata": {
        "colab": {
          "base_uri": "https://localhost:8080/",
          "height": 424
        },
        "id": "LBQa4yTcC6ty",
        "outputId": "01a11641-0bb4-4735-9503-3d640e4e861a"
      },
      "execution_count": 10,
      "outputs": [
        {
          "output_type": "execute_result",
          "data": {
            "text/plain": [
              "    Column Name Shap Importance\n",
              "51        tpc52        0.146468\n",
              "414      tpc415        0.142852\n",
              "283      tpc284        0.095863\n",
              "391      tpc392        0.090305\n",
              "308      tpc309        0.090232\n",
              "..          ...             ...\n",
              "97        tpc98             0.0\n",
              "508      tpc509             0.0\n",
              "396      tpc397             0.0\n",
              "428      tpc429             0.0\n",
              "429      tpc430             0.0\n",
              "\n",
              "[300 rows x 2 columns]"
            ],
            "text/html": [
              "\n",
              "  <div id=\"df-ab1d219a-c42e-44a4-9e1d-0443e0479df3\">\n",
              "    <div class=\"colab-df-container\">\n",
              "      <div>\n",
              "<style scoped>\n",
              "    .dataframe tbody tr th:only-of-type {\n",
              "        vertical-align: middle;\n",
              "    }\n",
              "\n",
              "    .dataframe tbody tr th {\n",
              "        vertical-align: top;\n",
              "    }\n",
              "\n",
              "    .dataframe thead th {\n",
              "        text-align: right;\n",
              "    }\n",
              "</style>\n",
              "<table border=\"1\" class=\"dataframe\">\n",
              "  <thead>\n",
              "    <tr style=\"text-align: right;\">\n",
              "      <th></th>\n",
              "      <th>Column Name</th>\n",
              "      <th>Shap Importance</th>\n",
              "    </tr>\n",
              "  </thead>\n",
              "  <tbody>\n",
              "    <tr>\n",
              "      <th>51</th>\n",
              "      <td>tpc52</td>\n",
              "      <td>0.146468</td>\n",
              "    </tr>\n",
              "    <tr>\n",
              "      <th>414</th>\n",
              "      <td>tpc415</td>\n",
              "      <td>0.142852</td>\n",
              "    </tr>\n",
              "    <tr>\n",
              "      <th>283</th>\n",
              "      <td>tpc284</td>\n",
              "      <td>0.095863</td>\n",
              "    </tr>\n",
              "    <tr>\n",
              "      <th>391</th>\n",
              "      <td>tpc392</td>\n",
              "      <td>0.090305</td>\n",
              "    </tr>\n",
              "    <tr>\n",
              "      <th>308</th>\n",
              "      <td>tpc309</td>\n",
              "      <td>0.090232</td>\n",
              "    </tr>\n",
              "    <tr>\n",
              "      <th>...</th>\n",
              "      <td>...</td>\n",
              "      <td>...</td>\n",
              "    </tr>\n",
              "    <tr>\n",
              "      <th>97</th>\n",
              "      <td>tpc98</td>\n",
              "      <td>0.0</td>\n",
              "    </tr>\n",
              "    <tr>\n",
              "      <th>508</th>\n",
              "      <td>tpc509</td>\n",
              "      <td>0.0</td>\n",
              "    </tr>\n",
              "    <tr>\n",
              "      <th>396</th>\n",
              "      <td>tpc397</td>\n",
              "      <td>0.0</td>\n",
              "    </tr>\n",
              "    <tr>\n",
              "      <th>428</th>\n",
              "      <td>tpc429</td>\n",
              "      <td>0.0</td>\n",
              "    </tr>\n",
              "    <tr>\n",
              "      <th>429</th>\n",
              "      <td>tpc430</td>\n",
              "      <td>0.0</td>\n",
              "    </tr>\n",
              "  </tbody>\n",
              "</table>\n",
              "<p>300 rows × 2 columns</p>\n",
              "</div>\n",
              "      <button class=\"colab-df-convert\" onclick=\"convertToInteractive('df-ab1d219a-c42e-44a4-9e1d-0443e0479df3')\"\n",
              "              title=\"Convert this dataframe to an interactive table.\"\n",
              "              style=\"display:none;\">\n",
              "        \n",
              "  <svg xmlns=\"http://www.w3.org/2000/svg\" height=\"24px\"viewBox=\"0 0 24 24\"\n",
              "       width=\"24px\">\n",
              "    <path d=\"M0 0h24v24H0V0z\" fill=\"none\"/>\n",
              "    <path d=\"M18.56 5.44l.94 2.06.94-2.06 2.06-.94-2.06-.94-.94-2.06-.94 2.06-2.06.94zm-11 1L8.5 8.5l.94-2.06 2.06-.94-2.06-.94L8.5 2.5l-.94 2.06-2.06.94zm10 10l.94 2.06.94-2.06 2.06-.94-2.06-.94-.94-2.06-.94 2.06-2.06.94z\"/><path d=\"M17.41 7.96l-1.37-1.37c-.4-.4-.92-.59-1.43-.59-.52 0-1.04.2-1.43.59L10.3 9.45l-7.72 7.72c-.78.78-.78 2.05 0 2.83L4 21.41c.39.39.9.59 1.41.59.51 0 1.02-.2 1.41-.59l7.78-7.78 2.81-2.81c.8-.78.8-2.07 0-2.86zM5.41 20L4 18.59l7.72-7.72 1.47 1.35L5.41 20z\"/>\n",
              "  </svg>\n",
              "      </button>\n",
              "      \n",
              "  <style>\n",
              "    .colab-df-container {\n",
              "      display:flex;\n",
              "      flex-wrap:wrap;\n",
              "      gap: 12px;\n",
              "    }\n",
              "\n",
              "    .colab-df-convert {\n",
              "      background-color: #E8F0FE;\n",
              "      border: none;\n",
              "      border-radius: 50%;\n",
              "      cursor: pointer;\n",
              "      display: none;\n",
              "      fill: #1967D2;\n",
              "      height: 32px;\n",
              "      padding: 0 0 0 0;\n",
              "      width: 32px;\n",
              "    }\n",
              "\n",
              "    .colab-df-convert:hover {\n",
              "      background-color: #E2EBFA;\n",
              "      box-shadow: 0px 1px 2px rgba(60, 64, 67, 0.3), 0px 1px 3px 1px rgba(60, 64, 67, 0.15);\n",
              "      fill: #174EA6;\n",
              "    }\n",
              "\n",
              "    [theme=dark] .colab-df-convert {\n",
              "      background-color: #3B4455;\n",
              "      fill: #D2E3FC;\n",
              "    }\n",
              "\n",
              "    [theme=dark] .colab-df-convert:hover {\n",
              "      background-color: #434B5C;\n",
              "      box-shadow: 0px 1px 3px 1px rgba(0, 0, 0, 0.15);\n",
              "      filter: drop-shadow(0px 1px 2px rgba(0, 0, 0, 0.3));\n",
              "      fill: #FFFFFF;\n",
              "    }\n",
              "  </style>\n",
              "\n",
              "      <script>\n",
              "        const buttonEl =\n",
              "          document.querySelector('#df-ab1d219a-c42e-44a4-9e1d-0443e0479df3 button.colab-df-convert');\n",
              "        buttonEl.style.display =\n",
              "          google.colab.kernel.accessAllowed ? 'block' : 'none';\n",
              "\n",
              "        async function convertToInteractive(key) {\n",
              "          const element = document.querySelector('#df-ab1d219a-c42e-44a4-9e1d-0443e0479df3');\n",
              "          const dataTable =\n",
              "            await google.colab.kernel.invokeFunction('convertToInteractive',\n",
              "                                                     [key], {});\n",
              "          if (!dataTable) return;\n",
              "\n",
              "          const docLinkHtml = 'Like what you see? Visit the ' +\n",
              "            '<a target=\"_blank\" href=https://colab.research.google.com/notebooks/data_table.ipynb>data table notebook</a>'\n",
              "            + ' to learn more about interactive tables.';\n",
              "          element.innerHTML = '';\n",
              "          dataTable['output_type'] = 'display_data';\n",
              "          await google.colab.output.renderOutput(dataTable, element);\n",
              "          const docLink = document.createElement('div');\n",
              "          docLink.innerHTML = docLinkHtml;\n",
              "          element.appendChild(docLink);\n",
              "        }\n",
              "      </script>\n",
              "    </div>\n",
              "  </div>\n",
              "  "
            ]
          },
          "metadata": {},
          "execution_count": 10
        }
      ]
    },
    {
      "cell_type": "code",
      "source": [
        "selected_df.shape"
      ],
      "metadata": {
        "colab": {
          "base_uri": "https://localhost:8080/"
        },
        "id": "6jpWDP4OC-WI",
        "outputId": "8a041a3a-d75e-4874-a80e-f6b6f02d406f"
      },
      "execution_count": 11,
      "outputs": [
        {
          "output_type": "execute_result",
          "data": {
            "text/plain": [
              "(300, 2)"
            ]
          },
          "metadata": {},
          "execution_count": 11
        }
      ]
    },
    {
      "cell_type": "code",
      "source": [
        "cols = selected_df['Column Name']\n",
        "cols"
      ],
      "metadata": {
        "colab": {
          "base_uri": "https://localhost:8080/"
        },
        "id": "pBYRr5cCDBii",
        "outputId": "d87b20d7-d4ff-4e71-c9ea-c4a396f1e864"
      },
      "execution_count": 12,
      "outputs": [
        {
          "output_type": "execute_result",
          "data": {
            "text/plain": [
              "51      tpc52\n",
              "414    tpc415\n",
              "283    tpc284\n",
              "391    tpc392\n",
              "308    tpc309\n",
              "        ...  \n",
              "97      tpc98\n",
              "508    tpc509\n",
              "396    tpc397\n",
              "428    tpc429\n",
              "429    tpc430\n",
              "Name: Column Name, Length: 300, dtype: object"
            ]
          },
          "metadata": {},
          "execution_count": 12
        }
      ]
    },
    {
      "cell_type": "code",
      "source": [
        "## converting df to numpy array/list\n",
        "trainingdf = np.array(cols)\n",
        "trainingdf"
      ],
      "metadata": {
        "colab": {
          "base_uri": "https://localhost:8080/"
        },
        "id": "RpIviYAXDDN2",
        "outputId": "3dbee315-a5ad-4d1c-e579-2df8324bb8b4"
      },
      "execution_count": 13,
      "outputs": [
        {
          "output_type": "execute_result",
          "data": {
            "text/plain": [
              "array(['tpc52', 'tpc415', 'tpc284', 'tpc392', 'tpc309', 'tpc206',\n",
              "       'tpc433', 'tpc71', 'tpc444', 'tpc342', 'tpc290', 'tpc382',\n",
              "       'tpc168', 'tpc67', 'tpc355', 'tpc21', 'tpc196', 'tpc476', 'tpc470',\n",
              "       'tpc266', 'tpc208', 'tpc221', 'tpc472', 'tpc343', 'tpc350',\n",
              "       'tpc123', 'tpc232', 'tpc255', 'tpc361', 'tpc326', 'tpc242',\n",
              "       'tpc494', 'tpc354', 'tpc230', 'tpc75', 'tpc48', 'tpc439', 'tpc234',\n",
              "       'tpc57', 'tpc374', 'tpc329', 'tpc174', 'tpc406', 'tpc145',\n",
              "       'tpc296', 'tpc431', 'tpc85', 'tpc373', 'tpc267', 'tpc334',\n",
              "       'tpc332', 'tpc12', 'tpc315', 'tpc93', 'tpc493', 'tpc330', 'tpc442',\n",
              "       'tpc323', 'tpc463', 'tpc479', 'tpc107', 'tpc412', 'tpc66', 'tpc17',\n",
              "       'tpc283', 'tpc68', 'tpc33', 'tpc198', 'tpc503', 'tpc14', 'tpc491',\n",
              "       'tpc77', 'tpc35', 'tpc233', 'tpc148', 'tpc29', 'tpc419', 'tpc398',\n",
              "       'tpc428', 'tpc511', 'tpc108', 'tpc306', 'tpc115', 'tpc30',\n",
              "       'tpc187', 'tpc37', 'tpc411', 'tpc366', 'tpc42', 'tpc399', 'tpc134',\n",
              "       'tpc140', 'tpc337', 'tpc307', 'tpc464', 'tpc202', 'tpc449',\n",
              "       'tpc440', 'tpc378', 'tpc418', 'tpc51', 'tpc496', 'tpc403',\n",
              "       'tpc484', 'tpc274', 'tpc393', 'tpc502', 'tpc154', 'tpc351',\n",
              "       'tpc321', 'tpc469', 'tpc80', 'tpc210', 'tpc377', 'tpc333',\n",
              "       'tpc386', 'tpc172', 'tpc446', 'tpc394', 'tpc304', 'tpc191',\n",
              "       'tpc116', 'tpc82', 'tpc178', 'tpc281', 'tpc305', 'tpc369',\n",
              "       'tpc231', 'tpc236', 'tpc159', 'tpc475', 'tpc278', 'tpc15', 'tpc5',\n",
              "       'tpc147', 'tpc492', 'tpc462', 'tpc10', 'tpc390', 'tpc184',\n",
              "       'tpc286', 'tpc498', 'tpc465', 'tpc416', 'tpc408', 'tpc381',\n",
              "       'tpc95', 'tpc257', 'tpc56', 'tpc468', 'tpc207', 'tpc28', 'tpc155',\n",
              "       'tpc7', 'tpc260', 'tpc481', 'tpc31', 'tpc243', 'tpc100', 'tpc219',\n",
              "       'tpc186', 'tpc364', 'tpc483', 'tpc215', 'tpc58', 'tpc427',\n",
              "       'tpc438', 'tpc318', 'tpc339', 'tpc310', 'tpc39', 'tpc63', 'tpc240',\n",
              "       'tpc34', 'tpc223', 'tpc53', 'tpc161', 'tpc477', 'tpc261', 'tpc456',\n",
              "       'tpc325', 'tpc88', 'tpc13', 'tpc157', 'tpc218', 'tpc341', 'tpc40',\n",
              "       'tpc422', 'tpc287', 'tpc443', 'tpc133', 'tpc25', 'tpc279',\n",
              "       'tpc336', 'tpc500', 'tpc211', 'tpc59', 'tpc69', 'tpc505', 'tpc297',\n",
              "       'tpc16', 'tpc473', 'tpc269', 'tpc249', 'tpc8', 'tpc144', 'tpc268',\n",
              "       'tpc452', 'tpc262', 'tpc65', 'tpc499', 'tpc158', 'tpc6', 'tpc137',\n",
              "       'tpc379', 'tpc185', 'tpc289', 'tpc165', 'tpc78', 'tpc314',\n",
              "       'tpc217', 'tpc239', 'tpc226', 'tpc19', 'tpc118', 'tpc303',\n",
              "       'tpc367', 'tpc182', 'tpc251', 'tpc352', 'tpc276', 'tpc26',\n",
              "       'tpc504', 'tpc74', 'tpc27', 'tpc327', 'tpc188', 'tpc434', 'tpc81',\n",
              "       'tpc64', 'tpc271', 'tpc120', 'tpc246', 'tpc256', 'tpc24', 'tpc195',\n",
              "       'tpc273', 'tpc301', 'tpc44', 'tpc122', 'tpc292', 'tpc245',\n",
              "       'tpc204', 'tpc275', 'tpc169', 'tpc248', 'tpc99', 'tpc121',\n",
              "       'tpc282', 'tpc192', 'tpc173', 'tpc436', 'tpc4', 'tpc102', 'tpc153',\n",
              "       'tpc38', 'tpc474', 'tpc50', 'tpc11', 'tpc293', 'tpc331', 'tpc181',\n",
              "       'tpc319', 'tpc46', 'tpc20', 'tpc209', 'tpc124', 'tpc142', 'tpc175',\n",
              "       'tpc227', 'tpc320', 'tpc228', 'tpc400', 'tpc110', 'tpc340',\n",
              "       'tpc387', 'tpc214', 'tpc200', 'tpc22', 'tpc425', 'tpc250',\n",
              "       'tpc298', 'tpc238', 'tpc112', 'tpc432', 'tpc98', 'tpc509',\n",
              "       'tpc397', 'tpc429', 'tpc430'], dtype=object)"
            ]
          },
          "metadata": {},
          "execution_count": 13
        }
      ]
    },
    {
      "cell_type": "code",
      "source": [
        "df1 = X[trainingdf]\n",
        "df1"
      ],
      "metadata": {
        "colab": {
          "base_uri": "https://localhost:8080/",
          "height": 519
        },
        "id": "ZueO1ClQDMso",
        "outputId": "fbaebdc1-714b-4f3c-95b9-9c4ffc6086b5"
      },
      "execution_count": 14,
      "outputs": [
        {
          "output_type": "execute_result",
          "data": {
            "text/plain": [
              "              tpc52    tpc415    tpc284    tpc392    tpc309    tpc206  \\\n",
              "tpc0                                                                    \n",
              "-0.000004  0.000303  0.074675  0.022926 -0.051484 -0.008475 -0.040233   \n",
              "-0.052125 -0.045227  0.069659 -0.011425 -0.083224 -0.014077  0.010146   \n",
              "-0.036938 -0.060085  0.045235 -0.073880 -0.110592 -0.018651 -0.020193   \n",
              "-0.007257 -0.012383  0.064951 -0.004089 -0.036874 -0.018442 -0.056375   \n",
              " 0.035118 -0.061718  0.078552 -0.052266 -0.062800 -0.007323 -0.045689   \n",
              "...             ...       ...       ...       ...       ...       ...   \n",
              "-0.024084 -0.044671  0.071531 -0.023707 -0.072365 -0.009770 -0.025527   \n",
              "-0.040395 -0.045447  0.067351 -0.015519 -0.082072 -0.002864 -0.011700   \n",
              "-0.021230 -0.052384  0.065811 -0.028533 -0.087002 -0.012569 -0.002161   \n",
              "-0.011558 -0.035019  0.080016 -0.017203 -0.075752 -0.017068 -0.027259   \n",
              "-0.048000 -0.041023  0.067424 -0.028115 -0.094444 -0.009024 -0.011000   \n",
              "\n",
              "             tpc433     tpc71    tpc444    tpc342  ...    tpc250    tpc298  \\\n",
              "tpc0                                               ...                       \n",
              "-0.000004  0.045480  0.101563  0.021856  0.093771  ...  0.004587  0.064781   \n",
              "-0.052125  0.046490  0.110789  0.040764  0.073999  ...  0.010780  0.031270   \n",
              "-0.036938  0.088961  0.158629  0.006527  0.112842  ...  0.015034  0.020653   \n",
              "-0.007257  0.011689  0.129302  0.042427  0.096838  ...  0.014366  0.073536   \n",
              " 0.035118  0.090055  0.153193 -0.028659  0.130352  ... -0.008703  0.072602   \n",
              "...             ...       ...       ...       ...  ...       ...       ...   \n",
              "-0.024084  0.064018  0.113907  0.021483  0.104187  ...  0.000790  0.051466   \n",
              "-0.040395  0.015159  0.106801  0.034303  0.085405  ...  0.001254  0.033298   \n",
              "-0.021230  0.067859  0.122120  0.020095  0.092242  ...  0.015585  0.037972   \n",
              "-0.011558  0.054727  0.120826  0.026447  0.102987  ...  0.011478  0.045684   \n",
              "-0.048000  0.056803  0.102561  0.030003  0.087749  ...  0.016719  0.032227   \n",
              "\n",
              "             tpc238    tpc112    tpc432     tpc98    tpc509    tpc397  \\\n",
              "tpc0                                                                    \n",
              "-0.000004 -0.138565  0.057133 -0.066534  0.008166 -0.050542  0.184560   \n",
              "-0.052125 -0.114567  0.078929 -0.024791  0.022345 -0.056355  0.166755   \n",
              "-0.036938 -0.118967  0.049593 -0.070598  0.014044 -0.056376  0.197663   \n",
              "-0.007257 -0.128730  0.050435 -0.074863  0.000866 -0.068661  0.214005   \n",
              " 0.035118 -0.163745  0.012609 -0.096134  0.014237 -0.050987  0.225550   \n",
              "...             ...       ...       ...       ...       ...       ...   \n",
              "-0.024084 -0.124177  0.051152 -0.064689  0.009841 -0.048145  0.179164   \n",
              "-0.040395 -0.098833  0.067631 -0.041674  0.019558 -0.049733  0.191444   \n",
              "-0.021230 -0.124053  0.051597 -0.044834  0.010275 -0.061262  0.177865   \n",
              "-0.011558 -0.152018  0.049478 -0.064057  0.006135 -0.062820  0.193084   \n",
              "-0.048000 -0.113035  0.055939 -0.044400  0.010075 -0.051234  0.193377   \n",
              "\n",
              "             tpc429    tpc430  \n",
              "tpc0                           \n",
              "-0.000004  0.030504 -0.054343  \n",
              "-0.052125  0.010251 -0.116490  \n",
              "-0.036938  0.024113 -0.108956  \n",
              "-0.007257  0.038285 -0.078814  \n",
              " 0.035118  0.045126 -0.048490  \n",
              "...             ...       ...  \n",
              "-0.024084  0.019650 -0.080215  \n",
              "-0.040395  0.002660 -0.088247  \n",
              "-0.021230  0.020387 -0.105878  \n",
              "-0.011558  0.012241 -0.087630  \n",
              "-0.048000  0.035109 -0.088800  \n",
              "\n",
              "[2104 rows x 300 columns]"
            ],
            "text/html": [
              "\n",
              "  <div id=\"df-35f578b6-a252-4e79-8238-7782d1c2216a\">\n",
              "    <div class=\"colab-df-container\">\n",
              "      <div>\n",
              "<style scoped>\n",
              "    .dataframe tbody tr th:only-of-type {\n",
              "        vertical-align: middle;\n",
              "    }\n",
              "\n",
              "    .dataframe tbody tr th {\n",
              "        vertical-align: top;\n",
              "    }\n",
              "\n",
              "    .dataframe thead th {\n",
              "        text-align: right;\n",
              "    }\n",
              "</style>\n",
              "<table border=\"1\" class=\"dataframe\">\n",
              "  <thead>\n",
              "    <tr style=\"text-align: right;\">\n",
              "      <th></th>\n",
              "      <th>tpc52</th>\n",
              "      <th>tpc415</th>\n",
              "      <th>tpc284</th>\n",
              "      <th>tpc392</th>\n",
              "      <th>tpc309</th>\n",
              "      <th>tpc206</th>\n",
              "      <th>tpc433</th>\n",
              "      <th>tpc71</th>\n",
              "      <th>tpc444</th>\n",
              "      <th>tpc342</th>\n",
              "      <th>...</th>\n",
              "      <th>tpc250</th>\n",
              "      <th>tpc298</th>\n",
              "      <th>tpc238</th>\n",
              "      <th>tpc112</th>\n",
              "      <th>tpc432</th>\n",
              "      <th>tpc98</th>\n",
              "      <th>tpc509</th>\n",
              "      <th>tpc397</th>\n",
              "      <th>tpc429</th>\n",
              "      <th>tpc430</th>\n",
              "    </tr>\n",
              "    <tr>\n",
              "      <th>tpc0</th>\n",
              "      <th></th>\n",
              "      <th></th>\n",
              "      <th></th>\n",
              "      <th></th>\n",
              "      <th></th>\n",
              "      <th></th>\n",
              "      <th></th>\n",
              "      <th></th>\n",
              "      <th></th>\n",
              "      <th></th>\n",
              "      <th></th>\n",
              "      <th></th>\n",
              "      <th></th>\n",
              "      <th></th>\n",
              "      <th></th>\n",
              "      <th></th>\n",
              "      <th></th>\n",
              "      <th></th>\n",
              "      <th></th>\n",
              "      <th></th>\n",
              "      <th></th>\n",
              "    </tr>\n",
              "  </thead>\n",
              "  <tbody>\n",
              "    <tr>\n",
              "      <th>-0.000004</th>\n",
              "      <td>0.000303</td>\n",
              "      <td>0.074675</td>\n",
              "      <td>0.022926</td>\n",
              "      <td>-0.051484</td>\n",
              "      <td>-0.008475</td>\n",
              "      <td>-0.040233</td>\n",
              "      <td>0.045480</td>\n",
              "      <td>0.101563</td>\n",
              "      <td>0.021856</td>\n",
              "      <td>0.093771</td>\n",
              "      <td>...</td>\n",
              "      <td>0.004587</td>\n",
              "      <td>0.064781</td>\n",
              "      <td>-0.138565</td>\n",
              "      <td>0.057133</td>\n",
              "      <td>-0.066534</td>\n",
              "      <td>0.008166</td>\n",
              "      <td>-0.050542</td>\n",
              "      <td>0.184560</td>\n",
              "      <td>0.030504</td>\n",
              "      <td>-0.054343</td>\n",
              "    </tr>\n",
              "    <tr>\n",
              "      <th>-0.052125</th>\n",
              "      <td>-0.045227</td>\n",
              "      <td>0.069659</td>\n",
              "      <td>-0.011425</td>\n",
              "      <td>-0.083224</td>\n",
              "      <td>-0.014077</td>\n",
              "      <td>0.010146</td>\n",
              "      <td>0.046490</td>\n",
              "      <td>0.110789</td>\n",
              "      <td>0.040764</td>\n",
              "      <td>0.073999</td>\n",
              "      <td>...</td>\n",
              "      <td>0.010780</td>\n",
              "      <td>0.031270</td>\n",
              "      <td>-0.114567</td>\n",
              "      <td>0.078929</td>\n",
              "      <td>-0.024791</td>\n",
              "      <td>0.022345</td>\n",
              "      <td>-0.056355</td>\n",
              "      <td>0.166755</td>\n",
              "      <td>0.010251</td>\n",
              "      <td>-0.116490</td>\n",
              "    </tr>\n",
              "    <tr>\n",
              "      <th>-0.036938</th>\n",
              "      <td>-0.060085</td>\n",
              "      <td>0.045235</td>\n",
              "      <td>-0.073880</td>\n",
              "      <td>-0.110592</td>\n",
              "      <td>-0.018651</td>\n",
              "      <td>-0.020193</td>\n",
              "      <td>0.088961</td>\n",
              "      <td>0.158629</td>\n",
              "      <td>0.006527</td>\n",
              "      <td>0.112842</td>\n",
              "      <td>...</td>\n",
              "      <td>0.015034</td>\n",
              "      <td>0.020653</td>\n",
              "      <td>-0.118967</td>\n",
              "      <td>0.049593</td>\n",
              "      <td>-0.070598</td>\n",
              "      <td>0.014044</td>\n",
              "      <td>-0.056376</td>\n",
              "      <td>0.197663</td>\n",
              "      <td>0.024113</td>\n",
              "      <td>-0.108956</td>\n",
              "    </tr>\n",
              "    <tr>\n",
              "      <th>-0.007257</th>\n",
              "      <td>-0.012383</td>\n",
              "      <td>0.064951</td>\n",
              "      <td>-0.004089</td>\n",
              "      <td>-0.036874</td>\n",
              "      <td>-0.018442</td>\n",
              "      <td>-0.056375</td>\n",
              "      <td>0.011689</td>\n",
              "      <td>0.129302</td>\n",
              "      <td>0.042427</td>\n",
              "      <td>0.096838</td>\n",
              "      <td>...</td>\n",
              "      <td>0.014366</td>\n",
              "      <td>0.073536</td>\n",
              "      <td>-0.128730</td>\n",
              "      <td>0.050435</td>\n",
              "      <td>-0.074863</td>\n",
              "      <td>0.000866</td>\n",
              "      <td>-0.068661</td>\n",
              "      <td>0.214005</td>\n",
              "      <td>0.038285</td>\n",
              "      <td>-0.078814</td>\n",
              "    </tr>\n",
              "    <tr>\n",
              "      <th>0.035118</th>\n",
              "      <td>-0.061718</td>\n",
              "      <td>0.078552</td>\n",
              "      <td>-0.052266</td>\n",
              "      <td>-0.062800</td>\n",
              "      <td>-0.007323</td>\n",
              "      <td>-0.045689</td>\n",
              "      <td>0.090055</td>\n",
              "      <td>0.153193</td>\n",
              "      <td>-0.028659</td>\n",
              "      <td>0.130352</td>\n",
              "      <td>...</td>\n",
              "      <td>-0.008703</td>\n",
              "      <td>0.072602</td>\n",
              "      <td>-0.163745</td>\n",
              "      <td>0.012609</td>\n",
              "      <td>-0.096134</td>\n",
              "      <td>0.014237</td>\n",
              "      <td>-0.050987</td>\n",
              "      <td>0.225550</td>\n",
              "      <td>0.045126</td>\n",
              "      <td>-0.048490</td>\n",
              "    </tr>\n",
              "    <tr>\n",
              "      <th>...</th>\n",
              "      <td>...</td>\n",
              "      <td>...</td>\n",
              "      <td>...</td>\n",
              "      <td>...</td>\n",
              "      <td>...</td>\n",
              "      <td>...</td>\n",
              "      <td>...</td>\n",
              "      <td>...</td>\n",
              "      <td>...</td>\n",
              "      <td>...</td>\n",
              "      <td>...</td>\n",
              "      <td>...</td>\n",
              "      <td>...</td>\n",
              "      <td>...</td>\n",
              "      <td>...</td>\n",
              "      <td>...</td>\n",
              "      <td>...</td>\n",
              "      <td>...</td>\n",
              "      <td>...</td>\n",
              "      <td>...</td>\n",
              "      <td>...</td>\n",
              "    </tr>\n",
              "    <tr>\n",
              "      <th>-0.024084</th>\n",
              "      <td>-0.044671</td>\n",
              "      <td>0.071531</td>\n",
              "      <td>-0.023707</td>\n",
              "      <td>-0.072365</td>\n",
              "      <td>-0.009770</td>\n",
              "      <td>-0.025527</td>\n",
              "      <td>0.064018</td>\n",
              "      <td>0.113907</td>\n",
              "      <td>0.021483</td>\n",
              "      <td>0.104187</td>\n",
              "      <td>...</td>\n",
              "      <td>0.000790</td>\n",
              "      <td>0.051466</td>\n",
              "      <td>-0.124177</td>\n",
              "      <td>0.051152</td>\n",
              "      <td>-0.064689</td>\n",
              "      <td>0.009841</td>\n",
              "      <td>-0.048145</td>\n",
              "      <td>0.179164</td>\n",
              "      <td>0.019650</td>\n",
              "      <td>-0.080215</td>\n",
              "    </tr>\n",
              "    <tr>\n",
              "      <th>-0.040395</th>\n",
              "      <td>-0.045447</td>\n",
              "      <td>0.067351</td>\n",
              "      <td>-0.015519</td>\n",
              "      <td>-0.082072</td>\n",
              "      <td>-0.002864</td>\n",
              "      <td>-0.011700</td>\n",
              "      <td>0.015159</td>\n",
              "      <td>0.106801</td>\n",
              "      <td>0.034303</td>\n",
              "      <td>0.085405</td>\n",
              "      <td>...</td>\n",
              "      <td>0.001254</td>\n",
              "      <td>0.033298</td>\n",
              "      <td>-0.098833</td>\n",
              "      <td>0.067631</td>\n",
              "      <td>-0.041674</td>\n",
              "      <td>0.019558</td>\n",
              "      <td>-0.049733</td>\n",
              "      <td>0.191444</td>\n",
              "      <td>0.002660</td>\n",
              "      <td>-0.088247</td>\n",
              "    </tr>\n",
              "    <tr>\n",
              "      <th>-0.021230</th>\n",
              "      <td>-0.052384</td>\n",
              "      <td>0.065811</td>\n",
              "      <td>-0.028533</td>\n",
              "      <td>-0.087002</td>\n",
              "      <td>-0.012569</td>\n",
              "      <td>-0.002161</td>\n",
              "      <td>0.067859</td>\n",
              "      <td>0.122120</td>\n",
              "      <td>0.020095</td>\n",
              "      <td>0.092242</td>\n",
              "      <td>...</td>\n",
              "      <td>0.015585</td>\n",
              "      <td>0.037972</td>\n",
              "      <td>-0.124053</td>\n",
              "      <td>0.051597</td>\n",
              "      <td>-0.044834</td>\n",
              "      <td>0.010275</td>\n",
              "      <td>-0.061262</td>\n",
              "      <td>0.177865</td>\n",
              "      <td>0.020387</td>\n",
              "      <td>-0.105878</td>\n",
              "    </tr>\n",
              "    <tr>\n",
              "      <th>-0.011558</th>\n",
              "      <td>-0.035019</td>\n",
              "      <td>0.080016</td>\n",
              "      <td>-0.017203</td>\n",
              "      <td>-0.075752</td>\n",
              "      <td>-0.017068</td>\n",
              "      <td>-0.027259</td>\n",
              "      <td>0.054727</td>\n",
              "      <td>0.120826</td>\n",
              "      <td>0.026447</td>\n",
              "      <td>0.102987</td>\n",
              "      <td>...</td>\n",
              "      <td>0.011478</td>\n",
              "      <td>0.045684</td>\n",
              "      <td>-0.152018</td>\n",
              "      <td>0.049478</td>\n",
              "      <td>-0.064057</td>\n",
              "      <td>0.006135</td>\n",
              "      <td>-0.062820</td>\n",
              "      <td>0.193084</td>\n",
              "      <td>0.012241</td>\n",
              "      <td>-0.087630</td>\n",
              "    </tr>\n",
              "    <tr>\n",
              "      <th>-0.048000</th>\n",
              "      <td>-0.041023</td>\n",
              "      <td>0.067424</td>\n",
              "      <td>-0.028115</td>\n",
              "      <td>-0.094444</td>\n",
              "      <td>-0.009024</td>\n",
              "      <td>-0.011000</td>\n",
              "      <td>0.056803</td>\n",
              "      <td>0.102561</td>\n",
              "      <td>0.030003</td>\n",
              "      <td>0.087749</td>\n",
              "      <td>...</td>\n",
              "      <td>0.016719</td>\n",
              "      <td>0.032227</td>\n",
              "      <td>-0.113035</td>\n",
              "      <td>0.055939</td>\n",
              "      <td>-0.044400</td>\n",
              "      <td>0.010075</td>\n",
              "      <td>-0.051234</td>\n",
              "      <td>0.193377</td>\n",
              "      <td>0.035109</td>\n",
              "      <td>-0.088800</td>\n",
              "    </tr>\n",
              "  </tbody>\n",
              "</table>\n",
              "<p>2104 rows × 300 columns</p>\n",
              "</div>\n",
              "      <button class=\"colab-df-convert\" onclick=\"convertToInteractive('df-35f578b6-a252-4e79-8238-7782d1c2216a')\"\n",
              "              title=\"Convert this dataframe to an interactive table.\"\n",
              "              style=\"display:none;\">\n",
              "        \n",
              "  <svg xmlns=\"http://www.w3.org/2000/svg\" height=\"24px\"viewBox=\"0 0 24 24\"\n",
              "       width=\"24px\">\n",
              "    <path d=\"M0 0h24v24H0V0z\" fill=\"none\"/>\n",
              "    <path d=\"M18.56 5.44l.94 2.06.94-2.06 2.06-.94-2.06-.94-.94-2.06-.94 2.06-2.06.94zm-11 1L8.5 8.5l.94-2.06 2.06-.94-2.06-.94L8.5 2.5l-.94 2.06-2.06.94zm10 10l.94 2.06.94-2.06 2.06-.94-2.06-.94-.94-2.06-.94 2.06-2.06.94z\"/><path d=\"M17.41 7.96l-1.37-1.37c-.4-.4-.92-.59-1.43-.59-.52 0-1.04.2-1.43.59L10.3 9.45l-7.72 7.72c-.78.78-.78 2.05 0 2.83L4 21.41c.39.39.9.59 1.41.59.51 0 1.02-.2 1.41-.59l7.78-7.78 2.81-2.81c.8-.78.8-2.07 0-2.86zM5.41 20L4 18.59l7.72-7.72 1.47 1.35L5.41 20z\"/>\n",
              "  </svg>\n",
              "      </button>\n",
              "      \n",
              "  <style>\n",
              "    .colab-df-container {\n",
              "      display:flex;\n",
              "      flex-wrap:wrap;\n",
              "      gap: 12px;\n",
              "    }\n",
              "\n",
              "    .colab-df-convert {\n",
              "      background-color: #E8F0FE;\n",
              "      border: none;\n",
              "      border-radius: 50%;\n",
              "      cursor: pointer;\n",
              "      display: none;\n",
              "      fill: #1967D2;\n",
              "      height: 32px;\n",
              "      padding: 0 0 0 0;\n",
              "      width: 32px;\n",
              "    }\n",
              "\n",
              "    .colab-df-convert:hover {\n",
              "      background-color: #E2EBFA;\n",
              "      box-shadow: 0px 1px 2px rgba(60, 64, 67, 0.3), 0px 1px 3px 1px rgba(60, 64, 67, 0.15);\n",
              "      fill: #174EA6;\n",
              "    }\n",
              "\n",
              "    [theme=dark] .colab-df-convert {\n",
              "      background-color: #3B4455;\n",
              "      fill: #D2E3FC;\n",
              "    }\n",
              "\n",
              "    [theme=dark] .colab-df-convert:hover {\n",
              "      background-color: #434B5C;\n",
              "      box-shadow: 0px 1px 3px 1px rgba(0, 0, 0, 0.15);\n",
              "      filter: drop-shadow(0px 1px 2px rgba(0, 0, 0, 0.3));\n",
              "      fill: #FFFFFF;\n",
              "    }\n",
              "  </style>\n",
              "\n",
              "      <script>\n",
              "        const buttonEl =\n",
              "          document.querySelector('#df-35f578b6-a252-4e79-8238-7782d1c2216a button.colab-df-convert');\n",
              "        buttonEl.style.display =\n",
              "          google.colab.kernel.accessAllowed ? 'block' : 'none';\n",
              "\n",
              "        async function convertToInteractive(key) {\n",
              "          const element = document.querySelector('#df-35f578b6-a252-4e79-8238-7782d1c2216a');\n",
              "          const dataTable =\n",
              "            await google.colab.kernel.invokeFunction('convertToInteractive',\n",
              "                                                     [key], {});\n",
              "          if (!dataTable) return;\n",
              "\n",
              "          const docLinkHtml = 'Like what you see? Visit the ' +\n",
              "            '<a target=\"_blank\" href=https://colab.research.google.com/notebooks/data_table.ipynb>data table notebook</a>'\n",
              "            + ' to learn more about interactive tables.';\n",
              "          element.innerHTML = '';\n",
              "          dataTable['output_type'] = 'display_data';\n",
              "          await google.colab.output.renderOutput(dataTable, element);\n",
              "          const docLink = document.createElement('div');\n",
              "          docLink.innerHTML = docLinkHtml;\n",
              "          element.appendChild(docLink);\n",
              "        }\n",
              "      </script>\n",
              "    </div>\n",
              "  </div>\n",
              "  "
            ]
          },
          "metadata": {},
          "execution_count": 14
        }
      ]
    },
    {
      "cell_type": "code",
      "source": [
        "X = df1\n",
        "y = y"
      ],
      "metadata": {
        "id": "632QsLS9DQm2"
      },
      "execution_count": 15,
      "outputs": []
    },
    {
      "cell_type": "code",
      "source": [
        "count_classes = pd.value_counts(y, sort = True)\n",
        "\n",
        "count_classes.plot(kind = 'bar', rot=0)\n",
        "\n",
        "plt.title(\"Class Distribution\")\n",
        "\n",
        "LABELS = [\"Zero\", \"One\"]\n",
        "\n",
        "plt.xticks(range(2), LABELS)\n",
        "\n",
        "plt.xlabel(\"Class\")\n",
        "\n",
        "plt.ylabel(\"Frequency\")"
      ],
      "metadata": {
        "colab": {
          "base_uri": "https://localhost:8080/",
          "height": 312
        },
        "id": "FgvISNOvDUqw",
        "outputId": "00889df7-f839-4f9d-95ab-4eb889a8b3f3"
      },
      "execution_count": 16,
      "outputs": [
        {
          "output_type": "execute_result",
          "data": {
            "text/plain": [
              "Text(0, 0.5, 'Frequency')"
            ]
          },
          "metadata": {},
          "execution_count": 16
        },
        {
          "output_type": "display_data",
          "data": {
            "text/plain": [
              "<Figure size 432x288 with 1 Axes>"
            ],
            "image/png": "[encoded data removed]"
          },
          "metadata": {
            "needs_background": "light"
          }
        }
      ]
    },
    {
      "cell_type": "code",
      "source": [
        "One = df[y==1]\n",
        "\n",
        "Zero = df[y==0]\n",
        "\n",
        "print(Zero.shape,One.shape)"
      ],
      "metadata": {
        "colab": {
          "base_uri": "https://localhost:8080/"
        },
        "id": "ZcZp_hNpDXWZ",
        "outputId": "fffd58dd-98cb-4a67-a4c9-9903a25fb0f4"
      },
      "execution_count": 17,
      "outputs": [
        {
          "output_type": "stream",
          "name": "stdout",
          "text": [
            "(1041, 512) (1063, 512)\n"
          ]
        }
      ]
    },
    {
      "cell_type": "code",
      "source": [
        "from imblearn.over_sampling import SMOTE\n",
        "sm = SMOTE(sampling_strategy='minority')\n",
        "X_res,y_res=sm.fit_resample(X,y)"
      ],
      "metadata": {
        "id": "88q5AUBrDaLF"
      },
      "execution_count": 18,
      "outputs": []
    },
    {
      "cell_type": "code",
      "source": [
        "print(X_res.shape)\n",
        "print(y_res.shape)"
      ],
      "metadata": {
        "colab": {
          "base_uri": "https://localhost:8080/"
        },
        "id": "4tQgaCn0DdhC",
        "outputId": "22642e1d-3fd4-4e2d-c59e-cdff7192ba76"
      },
      "execution_count": 19,
      "outputs": [
        {
          "output_type": "stream",
          "name": "stdout",
          "text": [
            "(2126, 300)\n",
            "(2126,)\n"
          ]
        }
      ]
    },
    {
      "cell_type": "code",
      "source": [
        "#Split data into independent (X) and dependent(Y) columns\n",
        "\n",
        "y = y_res\n",
        "X = X_res"
      ],
      "metadata": {
        "id": "vg5zN55WDgNX"
      },
      "execution_count": 20,
      "outputs": []
    },
    {
      "cell_type": "code",
      "source": [
        "from sklearn.model_selection import train_test_split\n",
        "X_train, X_test, y_train, y_test = train_test_split(X, y, test_size = 0.20, random_state = 50)"
      ],
      "metadata": {
        "id": "Rmk5ed39DjH8"
      },
      "execution_count": 21,
      "outputs": []
    },
    {
      "cell_type": "code",
      "source": [
        "print(X_train.shape)\n",
        "print(X_test.shape)"
      ],
      "metadata": {
        "colab": {
          "base_uri": "https://localhost:8080/"
        },
        "id": "JqOEaP3lDnE1",
        "outputId": "e472b1ea-9d0b-4d6f-99ad-e4656fbb62b0"
      },
      "execution_count": 22,
      "outputs": [
        {
          "output_type": "stream",
          "name": "stdout",
          "text": [
            "(1700, 300)\n",
            "(426, 300)\n"
          ]
        }
      ]
    },
    {
      "cell_type": "code",
      "source": [
        "import numpy as np\n",
        "import pandas as pd\n",
        "import tensorflow as tf\n",
        "from tensorflow import keras\n",
        "from tensorflow.keras import Sequential\n",
        "from tensorflow.keras.layers import Flatten, Dense, Dropout, BatchNormalization\n",
        "from tensorflow.keras.layers import Conv1D, MaxPool1D\n",
        "\n",
        "from tensorflow.keras.optimizers import Adam\n",
        "\n",
        "import  seaborn as sns\n",
        "import matplotlib.pyplot as plt\n",
        "from sklearn import datasets, metrics\n",
        "from sklearn.model_selection import train_test_split\n",
        "from sklearn.preprocessing import StandardScaler"
      ],
      "metadata": {
        "id": "Ndok0n6TDqVK"
      },
      "execution_count": 23,
      "outputs": []
    },
    {
      "cell_type": "code",
      "source": [
        "scaler = StandardScaler()\n",
        "X_train = scaler.fit_transform(X_train)\n",
        "X_test = scaler.transform(X_test)"
      ],
      "metadata": {
        "id": "7jCZ_c2dDudg"
      },
      "execution_count": 24,
      "outputs": []
    },
    {
      "cell_type": "code",
      "source": [
        "X_train = X_train.reshape(1700, 300,1)\n",
        "X_test = X_test.reshape(426, 300, 1)"
      ],
      "metadata": {
        "id": "YthJJxYxDx3t"
      },
      "execution_count": 25,
      "outputs": []
    },
    {
      "cell_type": "code",
      "source": [
        "epochs =50\n",
        "model = Sequential()\n",
        "model.add(Conv1D(filters=32, kernel_size=4, activation='relu', input_shape = (300,1))) ##1st conv layer\n",
        "model.add(BatchNormalization())\n",
        "#model.add(Dropout(0.2))\n",
        "\n",
        "model.add(Conv1D(filters=64, kernel_size=4, activation='relu'))  #2nd Conv layer\n",
        "model.add(BatchNormalization())\n",
        "#model.add(Dropout(0.3))\n",
        "\n",
        "model.add(Flatten())    #Flattening\n",
        "model.add(Dense(64, activation='relu'))  ##fully connected layer\n",
        "model.add(Dropout(0.3))\n",
        "\n",
        "model.add(Dense(1, activation='sigmoid'))   #output layer"
      ],
      "metadata": {
        "id": "g81IRTcDD3iS"
      },
      "execution_count": 26,
      "outputs": []
    },
    {
      "cell_type": "code",
      "source": [
        "model.compile(optimizer=Adam(learning_rate=0.00001), loss = 'binary_crossentropy', metrics=['accuracy'])\n",
        "\n",
        "history = model.fit(X_train, y_train, epochs=epochs, batch_size=16,validation_data=(X_test, y_test), verbose=1)"
      ],
      "metadata": {
        "colab": {
          "base_uri": "https://localhost:8080/"
        },
        "id": "Cix5DUYYD9ID",
        "outputId": "13360b73-c119-4810-c1cd-719f34fdf69a"
      },
      "execution_count": 27,
      "outputs": [
        {
          "output_type": "stream",
          "name": "stdout",
          "text": [
            "Epoch 1/50\n",
            "107/107 [==============================] - 13s 12ms/step - loss: 0.7559 - accuracy: 0.5735 - val_loss: 0.6595 - val_accuracy: 0.6033\n",
            "Epoch 2/50\n",
            "107/107 [==============================] - 1s 10ms/step - loss: 0.6416 - accuracy: 0.6571 - val_loss: 0.6424 - val_accuracy: 0.5986\n",
            "Epoch 3/50\n",
            "107/107 [==============================] - 1s 10ms/step - loss: 0.5839 - accuracy: 0.7006 - val_loss: 0.5984 - val_accuracy: 0.6878\n",
            "Epoch 4/50\n",
            "107/107 [==============================] - 1s 9ms/step - loss: 0.5496 - accuracy: 0.7176 - val_loss: 0.5868 - val_accuracy: 0.6667\n",
            "Epoch 5/50\n",
            "107/107 [==============================] - 1s 9ms/step - loss: 0.5173 - accuracy: 0.7406 - val_loss: 0.5828 - val_accuracy: 0.7089\n",
            "Epoch 6/50\n",
            "107/107 [==============================] - 1s 9ms/step - loss: 0.4856 - accuracy: 0.7729 - val_loss: 0.5819 - val_accuracy: 0.6854\n",
            "Epoch 7/50\n",
            "107/107 [==============================] - 1s 9ms/step - loss: 0.4637 - accuracy: 0.7741 - val_loss: 0.5713 - val_accuracy: 0.7136\n",
            "Epoch 8/50\n",
            "107/107 [==============================] - 1s 9ms/step - loss: 0.4427 - accuracy: 0.8012 - val_loss: 0.5688 - val_accuracy: 0.7277\n",
            "Epoch 9/50\n",
            "107/107 [==============================] - 1s 9ms/step - loss: 0.4326 - accuracy: 0.8082 - val_loss: 0.5653 - val_accuracy: 0.7113\n",
            "Epoch 10/50\n",
            "107/107 [==============================] - 1s 9ms/step - loss: 0.4070 - accuracy: 0.8300 - val_loss: 0.5747 - val_accuracy: 0.7136\n",
            "Epoch 11/50\n",
            "107/107 [==============================] - 1s 9ms/step - loss: 0.3872 - accuracy: 0.8371 - val_loss: 0.5737 - val_accuracy: 0.7136\n",
            "Epoch 12/50\n",
            "107/107 [==============================] - 1s 10ms/step - loss: 0.3769 - accuracy: 0.8476 - val_loss: 0.5828 - val_accuracy: 0.7066\n",
            "Epoch 13/50\n",
            "107/107 [==============================] - 1s 9ms/step - loss: 0.3622 - accuracy: 0.8565 - val_loss: 0.5775 - val_accuracy: 0.7160\n",
            "Epoch 14/50\n",
            "107/107 [==============================] - 1s 9ms/step - loss: 0.3404 - accuracy: 0.8718 - val_loss: 0.5799 - val_accuracy: 0.7019\n",
            "Epoch 15/50\n",
            "107/107 [==============================] - 1s 9ms/step - loss: 0.3322 - accuracy: 0.8771 - val_loss: 0.5846 - val_accuracy: 0.7066\n",
            "Epoch 16/50\n",
            "107/107 [==============================] - 1s 9ms/step - loss: 0.3076 - accuracy: 0.8918 - val_loss: 0.5857 - val_accuracy: 0.6995\n",
            "Epoch 17/50\n",
            "107/107 [==============================] - 1s 9ms/step - loss: 0.3060 - accuracy: 0.8959 - val_loss: 0.5742 - val_accuracy: 0.7089\n",
            "Epoch 18/50\n",
            "107/107 [==============================] - 1s 10ms/step - loss: 0.2970 - accuracy: 0.8959 - val_loss: 0.5814 - val_accuracy: 0.7113\n",
            "Epoch 19/50\n",
            "107/107 [==============================] - 1s 9ms/step - loss: 0.2832 - accuracy: 0.9047 - val_loss: 0.5792 - val_accuracy: 0.7277\n",
            "Epoch 20/50\n",
            "107/107 [==============================] - 1s 10ms/step - loss: 0.2837 - accuracy: 0.9147 - val_loss: 0.5918 - val_accuracy: 0.7066\n",
            "Epoch 21/50\n",
            "107/107 [==============================] - 1s 9ms/step - loss: 0.2694 - accuracy: 0.9218 - val_loss: 0.5900 - val_accuracy: 0.7160\n",
            "Epoch 22/50\n",
            "107/107 [==============================] - 1s 9ms/step - loss: 0.2589 - accuracy: 0.9194 - val_loss: 0.5851 - val_accuracy: 0.7136\n",
            "Epoch 23/50\n",
            "107/107 [==============================] - 1s 9ms/step - loss: 0.2555 - accuracy: 0.9235 - val_loss: 0.5877 - val_accuracy: 0.7160\n",
            "Epoch 24/50\n",
            "107/107 [==============================] - 1s 10ms/step - loss: 0.2410 - accuracy: 0.9335 - val_loss: 0.5845 - val_accuracy: 0.7066\n",
            "Epoch 25/50\n",
            "107/107 [==============================] - 1s 9ms/step - loss: 0.2318 - accuracy: 0.9388 - val_loss: 0.5863 - val_accuracy: 0.7136\n",
            "Epoch 26/50\n",
            "107/107 [==============================] - 1s 10ms/step - loss: 0.2340 - accuracy: 0.9388 - val_loss: 0.5810 - val_accuracy: 0.7254\n",
            "Epoch 27/50\n",
            "107/107 [==============================] - 1s 9ms/step - loss: 0.2145 - accuracy: 0.9494 - val_loss: 0.5882 - val_accuracy: 0.7136\n",
            "Epoch 28/50\n",
            "107/107 [==============================] - 1s 9ms/step - loss: 0.2114 - accuracy: 0.9453 - val_loss: 0.6103 - val_accuracy: 0.7066\n",
            "Epoch 29/50\n",
            "107/107 [==============================] - 1s 10ms/step - loss: 0.2061 - accuracy: 0.9494 - val_loss: 0.5985 - val_accuracy: 0.7113\n",
            "Epoch 30/50\n",
            "107/107 [==============================] - 1s 10ms/step - loss: 0.1974 - accuracy: 0.9547 - val_loss: 0.5953 - val_accuracy: 0.7183\n",
            "Epoch 31/50\n",
            "107/107 [==============================] - 1s 9ms/step - loss: 0.1898 - accuracy: 0.9582 - val_loss: 0.5968 - val_accuracy: 0.7160\n",
            "Epoch 32/50\n",
            "107/107 [==============================] - 1s 10ms/step - loss: 0.1839 - accuracy: 0.9618 - val_loss: 0.6048 - val_accuracy: 0.7042\n",
            "Epoch 33/50\n",
            "107/107 [==============================] - 2s 15ms/step - loss: 0.1900 - accuracy: 0.9476 - val_loss: 0.5963 - val_accuracy: 0.7160\n",
            "Epoch 34/50\n",
            "107/107 [==============================] - 1s 9ms/step - loss: 0.1680 - accuracy: 0.9641 - val_loss: 0.6011 - val_accuracy: 0.7277\n",
            "Epoch 35/50\n",
            "107/107 [==============================] - 1s 9ms/step - loss: 0.1710 - accuracy: 0.9706 - val_loss: 0.6039 - val_accuracy: 0.7136\n",
            "Epoch 36/50\n",
            "107/107 [==============================] - 1s 9ms/step - loss: 0.1655 - accuracy: 0.9694 - val_loss: 0.6003 - val_accuracy: 0.7089\n",
            "Epoch 37/50\n",
            "107/107 [==============================] - 1s 10ms/step - loss: 0.1594 - accuracy: 0.9706 - val_loss: 0.6033 - val_accuracy: 0.7113\n",
            "Epoch 38/50\n",
            "107/107 [==============================] - 1s 10ms/step - loss: 0.1510 - accuracy: 0.9729 - val_loss: 0.6121 - val_accuracy: 0.7113\n",
            "Epoch 39/50\n",
            "107/107 [==============================] - 1s 10ms/step - loss: 0.1489 - accuracy: 0.9771 - val_loss: 0.6087 - val_accuracy: 0.7089\n",
            "Epoch 40/50\n",
            "107/107 [==============================] - 1s 10ms/step - loss: 0.1444 - accuracy: 0.9765 - val_loss: 0.6081 - val_accuracy: 0.7066\n",
            "Epoch 41/50\n",
            "107/107 [==============================] - 1s 10ms/step - loss: 0.1398 - accuracy: 0.9788 - val_loss: 0.6131 - val_accuracy: 0.7136\n",
            "Epoch 42/50\n",
            "107/107 [==============================] - 1s 10ms/step - loss: 0.1352 - accuracy: 0.9753 - val_loss: 0.6137 - val_accuracy: 0.7113\n",
            "Epoch 43/50\n",
            "107/107 [==============================] - 1s 9ms/step - loss: 0.1282 - accuracy: 0.9829 - val_loss: 0.6207 - val_accuracy: 0.7113\n",
            "Epoch 44/50\n",
            "107/107 [==============================] - 1s 10ms/step - loss: 0.1312 - accuracy: 0.9771 - val_loss: 0.6256 - val_accuracy: 0.7089\n",
            "Epoch 45/50\n",
            "107/107 [==============================] - 1s 9ms/step - loss: 0.1226 - accuracy: 0.9835 - val_loss: 0.6307 - val_accuracy: 0.6995\n",
            "Epoch 46/50\n",
            "107/107 [==============================] - 1s 10ms/step - loss: 0.1233 - accuracy: 0.9847 - val_loss: 0.6263 - val_accuracy: 0.7160\n",
            "Epoch 47/50\n",
            "107/107 [==============================] - 1s 9ms/step - loss: 0.1130 - accuracy: 0.9865 - val_loss: 0.6347 - val_accuracy: 0.7089\n",
            "Epoch 48/50\n",
            "107/107 [==============================] - 1s 9ms/step - loss: 0.1061 - accuracy: 0.9900 - val_loss: 0.6340 - val_accuracy: 0.7089\n",
            "Epoch 49/50\n",
            "107/107 [==============================] - 1s 10ms/step - loss: 0.1136 - accuracy: 0.9853 - val_loss: 0.6477 - val_accuracy: 0.6948\n",
            "Epoch 50/50\n",
            "107/107 [==============================] - 1s 10ms/step - loss: 0.1045 - accuracy: 0.9876 - val_loss: 0.6489 - val_accuracy: 0.7160\n"
          ]
        }
      ]
    },
    {
      "cell_type": "code",
      "source": [
        "#y_pred = model.predict(X_train).ravel()\n",
        "from sklearn.metrics import roc_curve\n",
        "y_pred_cnn1 = model.predict(X_test).ravel()\n",
        "fpr_1, tpr_1, thresholds = roc_curve(y_test, y_pred_cnn1)\n",
        "from sklearn.metrics import auc\n",
        "auc_score1 = auc(fpr_1, tpr_1)\n",
        "auc_score1"
      ],
      "metadata": {
        "colab": {
          "base_uri": "https://localhost:8080/"
        },
        "id": "-ftmkdAbEBQh",
        "outputId": "a38535f7-bf62-4fad-a1ec-1407b921797c"
      },
      "execution_count": 28,
      "outputs": [
        {
          "output_type": "execute_result",
          "data": {
            "text/plain": [
              "0.7796865648482699"
            ]
          },
          "metadata": {},
          "execution_count": 28
        }
      ]
    },
    {
      "cell_type": "code",
      "source": [
        "from sklearn.metrics import average_precision_score, precision_recall_curve\n",
        "\n",
        "# Data to plot precision - recall curve\n",
        "#y_score = clf.predict_proba(X_test)[:, 1]\n",
        "y_pred_cnn1 = model.predict(X_test).ravel()\n",
        "precision_1, recall_1, thresholds = precision_recall_curve(y_test, y_pred_cnn1)\n",
        "# Use AUC function to calculate the area under the curve of precision recall curve\n",
        "aupr_score1 = auc(recall_1, precision_1)\n",
        "print(aupr_score1)"
      ],
      "metadata": {
        "colab": {
          "base_uri": "https://localhost:8080/"
        },
        "id": "5r23pj7vyzDZ",
        "outputId": "a0cfcab3-9824-4d90-a7d4-c5725ff16cdf"
      },
      "execution_count": 29,
      "outputs": [
        {
          "output_type": "stream",
          "name": "stdout",
          "text": [
            "0.7869972514027987\n"
          ]
        }
      ]
    },
    {
      "cell_type": "code",
      "source": [
        "plt.figure(figsize=(7,6))\n",
        "plt.title('AREA UNDER PRECISION RECALL CURVE')\n",
        "plt.plot(recall_1, precision_1,color='red',label='AUPR = %0.2f' % aupr_score1,marker='.',linewidth=2,markersize=6)\n",
        "plt.legend(loc = 'lower left')\n",
        "plt.ylabel('Precision')\n",
        "plt.xlabel('Recall')"
      ],
      "metadata": {
        "colab": {
          "base_uri": "https://localhost:8080/",
          "height": 421
        },
        "id": "7APraOzjy01z",
        "outputId": "8f8f0d3a-1dbc-496a-eb07-3ffd2282c16a"
      },
      "execution_count": 30,
      "outputs": [
        {
          "output_type": "execute_result",
          "data": {
            "text/plain": [
              "Text(0.5, 0, 'Recall')"
            ]
          },
          "metadata": {},
          "execution_count": 30
        },
        {
          "output_type": "display_data",
          "data": {
            "text/plain": [
              "<Figure size 504x432 with 1 Axes>"
            ],
            "image/png": "[encoded data removed]"
          },
          "metadata": {
            "needs_background": "light"
          }
        }
      ]
    },
    {
      "cell_type": "markdown",
      "source": [
        "## 2.FastText"
      ],
      "metadata": {
        "id": "nH9b4QSUJAFs"
      }
    },
    {
      "cell_type": "code",
      "source": [
        "import pandas as pd\n",
        "from pandas import read_excel\n",
        "file_name = '/content/gdrive/MyDrive/fastAllghor.csv'\n",
        "# Glove3decimal.csv\n",
        "# Gloveallghor.csv \n",
        "df = pd.read_csv(file_name, index_col=0)\n",
        "#df = pd.read_csv(file_name)\n",
        "print(df.head()) # print the first 5 rows"
      ],
      "metadata": {
        "colab": {
          "base_uri": "https://localhost:8080/"
        },
        "id": "8gNZsqomEWEG",
        "outputId": "f720f2ce-48d1-47f2-e7ab-9036ac031b2b"
      },
      "execution_count": 31,
      "outputs": [
        {
          "output_type": "stream",
          "name": "stdout",
          "text": [
            "               tpc1      tpc2      tpc3      tpc4      tpc5      tpc6  \\\n",
            "tpc0                                                                    \n",
            "-0.045342 -0.119586  0.006219 -0.088131  0.107532  0.033074 -0.006158   \n",
            "-0.035070 -0.122000  0.005920 -0.095999  0.114729  0.036265 -0.007036   \n",
            "-0.046473 -0.130959  0.012476 -0.091737  0.110245  0.033604 -0.001858   \n",
            "-0.048181 -0.113189 -0.000034 -0.076156  0.108456  0.039504 -0.002577   \n",
            "-0.053381 -0.134055  0.009311 -0.087240  0.109450  0.019906 -0.003768   \n",
            "\n",
            "               tpc7      tpc8      tpc9     tpc10  ...    tpc503    tpc504  \\\n",
            "tpc0                                               ...                       \n",
            "-0.045342 -0.049008 -0.041383 -0.035325 -0.045906  ...  0.071249 -0.027845   \n",
            "-0.035070 -0.053136 -0.048028 -0.027183 -0.044998  ...  0.066538 -0.027696   \n",
            "-0.046473 -0.046605 -0.042545 -0.005615 -0.042727  ...  0.069494 -0.021039   \n",
            "-0.048181 -0.043908 -0.053065 -0.024547 -0.044380  ...  0.073099 -0.031108   \n",
            "-0.053381 -0.045313 -0.037604 -0.012921 -0.048937  ...  0.064635 -0.022508   \n",
            "\n",
            "             tpc505    tpc506    tpc507    tpc508    tpc509    tpc510  \\\n",
            "tpc0                                                                    \n",
            "-0.045342 -0.030502  0.009951  0.050119  0.098214  0.017533  0.061429   \n",
            "-0.035070 -0.041256  0.003160  0.065386  0.091022  0.004784  0.061484   \n",
            "-0.046473 -0.040292  0.034493  0.052987  0.091800 -0.000009  0.062600   \n",
            "-0.048181 -0.030192  0.012665  0.046753  0.096642  0.025364  0.062720   \n",
            "-0.053381 -0.039198  0.025195  0.034705  0.083352  0.013108  0.063144   \n",
            "\n",
            "             tpc511  Target  \n",
            "tpc0                         \n",
            "-0.045342 -0.049693       0  \n",
            "-0.035070 -0.045020       1  \n",
            "-0.046473 -0.046067       0  \n",
            "-0.048181 -0.049914       0  \n",
            "-0.053381 -0.041926       1  \n",
            "\n",
            "[5 rows x 512 columns]\n"
          ]
        }
      ]
    },
    {
      "cell_type": "code",
      "source": [
        "df.shape"
      ],
      "metadata": {
        "colab": {
          "base_uri": "https://localhost:8080/"
        },
        "id": "WNJtanKKJHqL",
        "outputId": "e9e60e9c-beb1-4391-8919-b4dc1656226f"
      },
      "execution_count": 32,
      "outputs": [
        {
          "output_type": "execute_result",
          "data": {
            "text/plain": [
              "(2104, 512)"
            ]
          },
          "metadata": {},
          "execution_count": 32
        }
      ]
    },
    {
      "cell_type": "code",
      "source": [
        "features = np.array(df.columns[:-1])\n",
        "target = 'Target'\n",
        "\n",
        "X = df[features]\n",
        "y = df[target]"
      ],
      "metadata": {
        "id": "BIieMWf6JOMW"
      },
      "execution_count": 33,
      "outputs": []
    },
    {
      "cell_type": "code",
      "source": [
        "X_train, X_test, y_train, y_test = train_test_split(X, y, test_size=0.10, random_state=50)"
      ],
      "metadata": {
        "id": "H06UOboRJQjP"
      },
      "execution_count": 34,
      "outputs": []
    },
    {
      "cell_type": "code",
      "source": [
        "def xgb_shap_values(X_train, y_train, X_test):\n",
        "\n",
        "    model = XGBClassifier()\n",
        "    model.fit(X_train, y_train)\n",
        "    explainer = shap.TreeExplainer(model, X_train)\n",
        "    shap_values_xgb = explainer.shap_values(X_test)\n",
        "    # shap.summary_plot(shap_values_xgb, X_test)\n",
        "    # shap.summary_plot(shap_values_xgb, X_test, plot_type ='bar')\n",
        "    # shap.dependence_plot(\"Age\", shap_values_xgb, X_test, interaction_index = 'rate Po2')\n",
        "    shap_sum = np.abs(shap_values_xgb).mean(axis=0)\n",
        "    importance_df = pd.DataFrame([features, shap_sum.tolist()]).T\n",
        "    importance_df.columns = ['Column Name', 'Shap Importance']\n",
        "    importance_df= importance_df.sort_values('Shap Importance', ascending = False)\n",
        "    return importance_df"
      ],
      "metadata": {
        "id": "Ac0WMtzVJexh"
      },
      "execution_count": 35,
      "outputs": []
    },
    {
      "cell_type": "code",
      "source": [
        "selected_df = xgb_shap_values(X_train, y_train,  X_test)"
      ],
      "metadata": {
        "id": "BQsaswlFJ2iq"
      },
      "execution_count": 36,
      "outputs": []
    },
    {
      "cell_type": "code",
      "source": [
        "selected_df = selected_df[0:300]\n",
        "selected_df"
      ],
      "metadata": {
        "colab": {
          "base_uri": "https://localhost:8080/",
          "height": 424
        },
        "id": "SbsaragLJ5jR",
        "outputId": "d899bcd8-6906-475c-b860-975c2a215d27"
      },
      "execution_count": 37,
      "outputs": [
        {
          "output_type": "execute_result",
          "data": {
            "text/plain": [
              "    Column Name Shap Importance\n",
              "197      tpc198        0.116124\n",
              "492      tpc493         0.09923\n",
              "84        tpc85        0.094053\n",
              "44        tpc45         0.09286\n",
              "400      tpc401        0.091136\n",
              "..          ...             ...\n",
              "321      tpc322        0.001106\n",
              "449      tpc450        0.000962\n",
              "125      tpc126        0.000946\n",
              "409      tpc410        0.000942\n",
              "234      tpc235        0.000924\n",
              "\n",
              "[300 rows x 2 columns]"
            ],
            "text/html": [
              "\n",
              "  <div id=\"df-0110ad6b-ca65-470a-9201-dcc66f60e9ed\">\n",
              "    <div class=\"colab-df-container\">\n",
              "      <div>\n",
              "<style scoped>\n",
              "    .dataframe tbody tr th:only-of-type {\n",
              "        vertical-align: middle;\n",
              "    }\n",
              "\n",
              "    .dataframe tbody tr th {\n",
              "        vertical-align: top;\n",
              "    }\n",
              "\n",
              "    .dataframe thead th {\n",
              "        text-align: right;\n",
              "    }\n",
              "</style>\n",
              "<table border=\"1\" class=\"dataframe\">\n",
              "  <thead>\n",
              "    <tr style=\"text-align: right;\">\n",
              "      <th></th>\n",
              "      <th>Column Name</th>\n",
              "      <th>Shap Importance</th>\n",
              "    </tr>\n",
              "  </thead>\n",
              "  <tbody>\n",
              "    <tr>\n",
              "      <th>197</th>\n",
              "      <td>tpc198</td>\n",
              "      <td>0.116124</td>\n",
              "    </tr>\n",
              "    <tr>\n",
              "      <th>492</th>\n",
              "      <td>tpc493</td>\n",
              "      <td>0.09923</td>\n",
              "    </tr>\n",
              "    <tr>\n",
              "      <th>84</th>\n",
              "      <td>tpc85</td>\n",
              "      <td>0.094053</td>\n",
              "    </tr>\n",
              "    <tr>\n",
              "      <th>44</th>\n",
              "      <td>tpc45</td>\n",
              "      <td>0.09286</td>\n",
              "    </tr>\n",
              "    <tr>\n",
              "      <th>400</th>\n",
              "      <td>tpc401</td>\n",
              "      <td>0.091136</td>\n",
              "    </tr>\n",
              "    <tr>\n",
              "      <th>...</th>\n",
              "      <td>...</td>\n",
              "      <td>...</td>\n",
              "    </tr>\n",
              "    <tr>\n",
              "      <th>321</th>\n",
              "      <td>tpc322</td>\n",
              "      <td>0.001106</td>\n",
              "    </tr>\n",
              "    <tr>\n",
              "      <th>449</th>\n",
              "      <td>tpc450</td>\n",
              "      <td>0.000962</td>\n",
              "    </tr>\n",
              "    <tr>\n",
              "      <th>125</th>\n",
              "      <td>tpc126</td>\n",
              "      <td>0.000946</td>\n",
              "    </tr>\n",
              "    <tr>\n",
              "      <th>409</th>\n",
              "      <td>tpc410</td>\n",
              "      <td>0.000942</td>\n",
              "    </tr>\n",
              "    <tr>\n",
              "      <th>234</th>\n",
              "      <td>tpc235</td>\n",
              "      <td>0.000924</td>\n",
              "    </tr>\n",
              "  </tbody>\n",
              "</table>\n",
              "<p>300 rows × 2 columns</p>\n",
              "</div>\n",
              "      <button class=\"colab-df-convert\" onclick=\"convertToInteractive('df-0110ad6b-ca65-470a-9201-dcc66f60e9ed')\"\n",
              "              title=\"Convert this dataframe to an interactive table.\"\n",
              "              style=\"display:none;\">\n",
              "        \n",
              "  <svg xmlns=\"http://www.w3.org/2000/svg\" height=\"24px\"viewBox=\"0 0 24 24\"\n",
              "       width=\"24px\">\n",
              "    <path d=\"M0 0h24v24H0V0z\" fill=\"none\"/>\n",
              "    <path d=\"M18.56 5.44l.94 2.06.94-2.06 2.06-.94-2.06-.94-.94-2.06-.94 2.06-2.06.94zm-11 1L8.5 8.5l.94-2.06 2.06-.94-2.06-.94L8.5 2.5l-.94 2.06-2.06.94zm10 10l.94 2.06.94-2.06 2.06-.94-2.06-.94-.94-2.06-.94 2.06-2.06.94z\"/><path d=\"M17.41 7.96l-1.37-1.37c-.4-.4-.92-.59-1.43-.59-.52 0-1.04.2-1.43.59L10.3 9.45l-7.72 7.72c-.78.78-.78 2.05 0 2.83L4 21.41c.39.39.9.59 1.41.59.51 0 1.02-.2 1.41-.59l7.78-7.78 2.81-2.81c.8-.78.8-2.07 0-2.86zM5.41 20L4 18.59l7.72-7.72 1.47 1.35L5.41 20z\"/>\n",
              "  </svg>\n",
              "      </button>\n",
              "      \n",
              "  <style>\n",
              "    .colab-df-container {\n",
              "      display:flex;\n",
              "      flex-wrap:wrap;\n",
              "      gap: 12px;\n",
              "    }\n",
              "\n",
              "    .colab-df-convert {\n",
              "      background-color: #E8F0FE;\n",
              "      border: none;\n",
              "      border-radius: 50%;\n",
              "      cursor: pointer;\n",
              "      display: none;\n",
              "      fill: #1967D2;\n",
              "      height: 32px;\n",
              "      padding: 0 0 0 0;\n",
              "      width: 32px;\n",
              "    }\n",
              "\n",
              "    .colab-df-convert:hover {\n",
              "      background-color: #E2EBFA;\n",
              "      box-shadow: 0px 1px 2px rgba(60, 64, 67, 0.3), 0px 1px 3px 1px rgba(60, 64, 67, 0.15);\n",
              "      fill: #174EA6;\n",
              "    }\n",
              "\n",
              "    [theme=dark] .colab-df-convert {\n",
              "      background-color: #3B4455;\n",
              "      fill: #D2E3FC;\n",
              "    }\n",
              "\n",
              "    [theme=dark] .colab-df-convert:hover {\n",
              "      background-color: #434B5C;\n",
              "      box-shadow: 0px 1px 3px 1px rgba(0, 0, 0, 0.15);\n",
              "      filter: drop-shadow(0px 1px 2px rgba(0, 0, 0, 0.3));\n",
              "      fill: #FFFFFF;\n",
              "    }\n",
              "  </style>\n",
              "\n",
              "      <script>\n",
              "        const buttonEl =\n",
              "          document.querySelector('#df-0110ad6b-ca65-470a-9201-dcc66f60e9ed button.colab-df-convert');\n",
              "        buttonEl.style.display =\n",
              "          google.colab.kernel.accessAllowed ? 'block' : 'none';\n",
              "\n",
              "        async function convertToInteractive(key) {\n",
              "          const element = document.querySelector('#df-0110ad6b-ca65-470a-9201-dcc66f60e9ed');\n",
              "          const dataTable =\n",
              "            await google.colab.kernel.invokeFunction('convertToInteractive',\n",
              "                                                     [key], {});\n",
              "          if (!dataTable) return;\n",
              "\n",
              "          const docLinkHtml = 'Like what you see? Visit the ' +\n",
              "            '<a target=\"_blank\" href=https://colab.research.google.com/notebooks/data_table.ipynb>data table notebook</a>'\n",
              "            + ' to learn more about interactive tables.';\n",
              "          element.innerHTML = '';\n",
              "          dataTable['output_type'] = 'display_data';\n",
              "          await google.colab.output.renderOutput(dataTable, element);\n",
              "          const docLink = document.createElement('div');\n",
              "          docLink.innerHTML = docLinkHtml;\n",
              "          element.appendChild(docLink);\n",
              "        }\n",
              "      </script>\n",
              "    </div>\n",
              "  </div>\n",
              "  "
            ]
          },
          "metadata": {},
          "execution_count": 37
        }
      ]
    },
    {
      "cell_type": "code",
      "source": [
        "selected_df.shape"
      ],
      "metadata": {
        "colab": {
          "base_uri": "https://localhost:8080/"
        },
        "id": "2or3GDHfJ9l4",
        "outputId": "d4829491-8ed2-4705-ad9f-730e8beb6fc0"
      },
      "execution_count": 38,
      "outputs": [
        {
          "output_type": "execute_result",
          "data": {
            "text/plain": [
              "(300, 2)"
            ]
          },
          "metadata": {},
          "execution_count": 38
        }
      ]
    },
    {
      "cell_type": "code",
      "source": [
        "cols = selected_df['Column Name']\n",
        "cols"
      ],
      "metadata": {
        "colab": {
          "base_uri": "https://localhost:8080/"
        },
        "id": "_LPW6dcfKCca",
        "outputId": "6d6b20d7-e72d-4af3-c6fb-311576b735d8"
      },
      "execution_count": 39,
      "outputs": [
        {
          "output_type": "execute_result",
          "data": {
            "text/plain": [
              "197    tpc198\n",
              "492    tpc493\n",
              "84      tpc85\n",
              "44      tpc45\n",
              "400    tpc401\n",
              "        ...  \n",
              "321    tpc322\n",
              "449    tpc450\n",
              "125    tpc126\n",
              "409    tpc410\n",
              "234    tpc235\n",
              "Name: Column Name, Length: 300, dtype: object"
            ]
          },
          "metadata": {},
          "execution_count": 39
        }
      ]
    },
    {
      "cell_type": "code",
      "source": [
        "## converting df to numpy array/list\n",
        "trainingdf = np.array(cols)\n",
        "trainingdf"
      ],
      "metadata": {
        "colab": {
          "base_uri": "https://localhost:8080/"
        },
        "id": "wdg4DdMyKFWF",
        "outputId": "3b54fe6f-6b42-46b4-9d42-be5758652702"
      },
      "execution_count": 40,
      "outputs": [
        {
          "output_type": "execute_result",
          "data": {
            "text/plain": [
              "array(['tpc198', 'tpc493', 'tpc85', 'tpc45', 'tpc401', 'tpc317', 'tpc36',\n",
              "       'tpc168', 'tpc160', 'tpc491', 'tpc122', 'tpc124', 'tpc387',\n",
              "       'tpc468', 'tpc265', 'tpc117', 'tpc87', 'tpc474', 'tpc93', 'tpc120',\n",
              "       'tpc297', 'tpc508', 'tpc268', 'tpc365', 'tpc254', 'tpc484',\n",
              "       'tpc299', 'tpc284', 'tpc43', 'tpc487', 'tpc264', 'tpc161', 'tpc55',\n",
              "       'tpc363', 'tpc445', 'tpc8', 'tpc485', 'tpc348', 'tpc386', 'tpc115',\n",
              "       'tpc286', 'tpc58', 'tpc62', 'tpc371', 'tpc128', 'tpc330', 'tpc141',\n",
              "       'tpc156', 'tpc32', 'tpc159', 'tpc152', 'tpc4', 'tpc26', 'tpc118',\n",
              "       'tpc333', 'tpc290', 'tpc274', 'tpc54', 'tpc415', 'tpc251',\n",
              "       'tpc324', 'tpc337', 'tpc494', 'tpc391', 'tpc78', 'tpc309',\n",
              "       'tpc326', 'tpc436', 'tpc225', 'tpc205', 'tpc296', 'tpc237',\n",
              "       'tpc370', 'tpc104', 'tpc483', 'tpc383', 'tpc171', 'tpc80',\n",
              "       'tpc191', 'tpc414', 'tpc266', 'tpc399', 'tpc495', 'tpc277',\n",
              "       'tpc382', 'tpc405', 'tpc276', 'tpc57', 'tpc52', 'tpc256', 'tpc56',\n",
              "       'tpc83', 'tpc407', 'tpc18', 'tpc3', 'tpc149', 'tpc273', 'tpc319',\n",
              "       'tpc321', 'tpc372', 'tpc272', 'tpc187', 'tpc366', 'tpc188',\n",
              "       'tpc373', 'tpc423', 'tpc336', 'tpc464', 'tpc451', 'tpc102',\n",
              "       'tpc275', 'tpc20', 'tpc192', 'tpc27', 'tpc300', 'tpc375', 'tpc210',\n",
              "       'tpc33', 'tpc148', 'tpc213', 'tpc119', 'tpc458', 'tpc352', 'tpc21',\n",
              "       'tpc327', 'tpc349', 'tpc335', 'tpc480', 'tpc339', 'tpc477',\n",
              "       'tpc291', 'tpc108', 'tpc34', 'tpc247', 'tpc511', 'tpc234', 'tpc40',\n",
              "       'tpc295', 'tpc428', 'tpc255', 'tpc112', 'tpc155', 'tpc499',\n",
              "       'tpc51', 'tpc71', 'tpc216', 'tpc222', 'tpc114', 'tpc129', 'tpc9',\n",
              "       'tpc223', 'tpc232', 'tpc361', 'tpc465', 'tpc422', 'tpc486',\n",
              "       'tpc200', 'tpc398', 'tpc139', 'tpc38', 'tpc194', 'tpc220', 'tpc42',\n",
              "       'tpc279', 'tpc215', 'tpc231', 'tpc411', 'tpc69', 'tpc224', 'tpc64',\n",
              "       'tpc434', 'tpc219', 'tpc305', 'tpc65', 'tpc263', 'tpc389',\n",
              "       'tpc252', 'tpc236', 'tpc37', 'tpc195', 'tpc88', 'tpc479', 'tpc217',\n",
              "       'tpc462', 'tpc98', 'tpc502', 'tpc298', 'tpc227', 'tpc311', 'tpc79',\n",
              "       'tpc380', 'tpc233', 'tpc113', 'tpc125', 'tpc353', 'tpc207',\n",
              "       'tpc229', 'tpc403', 'tpc25', 'tpc238', 'tpc368', 'tpc475',\n",
              "       'tpc318', 'tpc86', 'tpc186', 'tpc109', 'tpc408', 'tpc416', 'tpc13',\n",
              "       'tpc147', 'tpc498', 'tpc142', 'tpc19', 'tpc267', 'tpc476', 'tpc91',\n",
              "       'tpc5', 'tpc446', 'tpc11', 'tpc417', 'tpc246', 'tpc201', 'tpc431',\n",
              "       'tpc460', 'tpc165', 'tpc492', 'tpc271', 'tpc97', 'tpc285',\n",
              "       'tpc110', 'tpc105', 'tpc418', 'tpc50', 'tpc89', 'tpc289', 'tpc419',\n",
              "       'tpc385', 'tpc59', 'tpc338', 'tpc308', 'tpc107', 'tpc402',\n",
              "       'tpc471', 'tpc228', 'tpc47', 'tpc374', 'tpc438', 'tpc73', 'tpc61',\n",
              "       'tpc456', 'tpc510', 'tpc304', 'tpc454', 'tpc314', 'tpc503',\n",
              "       'tpc342', 'tpc185', 'tpc424', 'tpc473', 'tpc53', 'tpc470',\n",
              "       'tpc282', 'tpc49', 'tpc429', 'tpc60', 'tpc392', 'tpc283', 'tpc178',\n",
              "       'tpc173', 'tpc199', 'tpc433', 'tpc437', 'tpc332', 'tpc384',\n",
              "       'tpc240', 'tpc404', 'tpc303', 'tpc179', 'tpc472', 'tpc331',\n",
              "       'tpc106', 'tpc257', 'tpc344', 'tpc459', 'tpc6', 'tpc203', 'tpc397',\n",
              "       'tpc490', 'tpc488', 'tpc153', 'tpc390', 'tpc413', 'tpc177',\n",
              "       'tpc269', 'tpc176', 'tpc322', 'tpc450', 'tpc126', 'tpc410',\n",
              "       'tpc235'], dtype=object)"
            ]
          },
          "metadata": {},
          "execution_count": 40
        }
      ]
    },
    {
      "cell_type": "code",
      "source": [
        "df1 = X[trainingdf]\n",
        "df1"
      ],
      "metadata": {
        "colab": {
          "base_uri": "https://localhost:8080/",
          "height": 519
        },
        "id": "wQHYcXZYKLNt",
        "outputId": "6eac0de9-db05-4dbb-848c-98a94045cd90"
      },
      "execution_count": 41,
      "outputs": [
        {
          "output_type": "execute_result",
          "data": {
            "text/plain": [
              "             tpc198    tpc493     tpc85     tpc45    tpc401    tpc317  \\\n",
              "tpc0                                                                    \n",
              "-0.045342  0.019254  0.003337  0.035640 -0.007473 -0.068853  0.054743   \n",
              "-0.035070  0.025756  0.003777  0.041059 -0.017922 -0.072954  0.065115   \n",
              "-0.046473  0.013189  0.008518  0.043632 -0.038777 -0.063159  0.044884   \n",
              "-0.048181  0.020902 -0.002815  0.038796 -0.007649 -0.065524  0.059886   \n",
              "-0.053381  0.014097 -0.003913  0.029319 -0.009316 -0.062570  0.062862   \n",
              "...             ...       ...       ...       ...       ...       ...   \n",
              "-0.043920  0.022901  0.003494  0.035202 -0.018574 -0.063815  0.050557   \n",
              "-0.041732  0.028656  0.004042  0.040697 -0.018891 -0.073743  0.061508   \n",
              "-0.037013  0.017598  0.005357  0.040747 -0.018776 -0.069738  0.053880   \n",
              "-0.045851  0.023072  0.002050  0.043177 -0.017520 -0.062365  0.057374   \n",
              "-0.047054  0.023070  0.004367  0.042029 -0.020302 -0.064510  0.054592   \n",
              "\n",
              "              tpc36    tpc168    tpc160    tpc491  ...    tpc390    tpc413  \\\n",
              "tpc0                                               ...                       \n",
              "-0.045342 -0.039636  0.034289 -0.006537  0.063238  ...  0.018908  0.077732   \n",
              "-0.035070 -0.035605  0.045051 -0.010033  0.077359  ... -0.000649  0.071938   \n",
              "-0.046473 -0.021634  0.040793 -0.005968  0.073622  ...  0.000087  0.060791   \n",
              "-0.048181 -0.039610  0.028973 -0.009479  0.062704  ...  0.009984  0.075737   \n",
              "-0.053381 -0.025061  0.047203 -0.008625  0.085842  ...  0.016097  0.051959   \n",
              "...             ...       ...       ...       ...  ...       ...       ...   \n",
              "-0.043920 -0.027773  0.039347 -0.008811  0.076823  ...  0.005607  0.069487   \n",
              "-0.041732 -0.032079  0.045077 -0.009843  0.073295  ...  0.004180  0.073103   \n",
              "-0.037013 -0.030543  0.044058 -0.015158  0.078168  ...  0.007715  0.068078   \n",
              "-0.045851 -0.038317  0.038661 -0.003344  0.071792  ...  0.009944  0.073901   \n",
              "-0.047054 -0.028025  0.031902 -0.005834  0.074883  ...  0.000351  0.072110   \n",
              "\n",
              "             tpc177    tpc269    tpc176    tpc322    tpc450    tpc126  \\\n",
              "tpc0                                                                    \n",
              "-0.045342  0.002408  0.008488 -0.039057 -0.000457 -0.051578  0.004806   \n",
              "-0.035070  0.007041  0.002390 -0.043645  0.003818 -0.057032  0.009423   \n",
              "-0.046473 -0.015146  0.010468 -0.051480 -0.000496 -0.045310  0.003620   \n",
              "-0.048181 -0.001286  0.012081 -0.032912  0.000293 -0.060938  0.011099   \n",
              "-0.053381 -0.006542  0.010010 -0.066378 -0.010216 -0.054111 -0.002559   \n",
              "...             ...       ...       ...       ...       ...       ...   \n",
              "-0.043920 -0.003174  0.006329 -0.045447 -0.000693 -0.049187  0.006099   \n",
              "-0.041732  0.006521  0.007843 -0.032309 -0.005606 -0.057777  0.002677   \n",
              "-0.037013 -0.002076  0.011442 -0.047368 -0.003594 -0.050925  0.004861   \n",
              "-0.045851 -0.004980  0.006295 -0.040872 -0.001849 -0.054890  0.006134   \n",
              "-0.047054 -0.000031  0.011708 -0.031235 -0.002699 -0.051866  0.004554   \n",
              "\n",
              "             tpc410    tpc235  \n",
              "tpc0                           \n",
              "-0.045342  0.081871 -0.131077  \n",
              "-0.035070  0.090731 -0.124345  \n",
              "-0.046473  0.084066 -0.145249  \n",
              "-0.048181  0.092287 -0.123043  \n",
              "-0.053381  0.085265 -0.152999  \n",
              "...             ...       ...  \n",
              "-0.043920  0.087276 -0.136520  \n",
              "-0.041732  0.090918 -0.127269  \n",
              "-0.037013  0.086231 -0.129696  \n",
              "-0.045851  0.080434 -0.130845  \n",
              "-0.047054  0.085827 -0.125452  \n",
              "\n",
              "[2104 rows x 300 columns]"
            ],
            "text/html": [
              "\n",
              "  <div id=\"df-6e8cfe9f-9ad1-47a8-9146-4838fc9b8b17\">\n",
              "    <div class=\"colab-df-container\">\n",
              "      <div>\n",
              "<style scoped>\n",
              "    .dataframe tbody tr th:only-of-type {\n",
              "        vertical-align: middle;\n",
              "    }\n",
              "\n",
              "    .dataframe tbody tr th {\n",
              "        vertical-align: top;\n",
              "    }\n",
              "\n",
              "    .dataframe thead th {\n",
              "        text-align: right;\n",
              "    }\n",
              "</style>\n",
              "<table border=\"1\" class=\"dataframe\">\n",
              "  <thead>\n",
              "    <tr style=\"text-align: right;\">\n",
              "      <th></th>\n",
              "      <th>tpc198</th>\n",
              "      <th>tpc493</th>\n",
              "      <th>tpc85</th>\n",
              "      <th>tpc45</th>\n",
              "      <th>tpc401</th>\n",
              "      <th>tpc317</th>\n",
              "      <th>tpc36</th>\n",
              "      <th>tpc168</th>\n",
              "      <th>tpc160</th>\n",
              "      <th>tpc491</th>\n",
              "      <th>...</th>\n",
              "      <th>tpc390</th>\n",
              "      <th>tpc413</th>\n",
              "      <th>tpc177</th>\n",
              "      <th>tpc269</th>\n",
              "      <th>tpc176</th>\n",
              "      <th>tpc322</th>\n",
              "      <th>tpc450</th>\n",
              "      <th>tpc126</th>\n",
              "      <th>tpc410</th>\n",
              "      <th>tpc235</th>\n",
              "    </tr>\n",
              "    <tr>\n",
              "      <th>tpc0</th>\n",
              "      <th></th>\n",
              "      <th></th>\n",
              "      <th></th>\n",
              "      <th></th>\n",
              "      <th></th>\n",
              "      <th></th>\n",
              "      <th></th>\n",
              "      <th></th>\n",
              "      <th></th>\n",
              "      <th></th>\n",
              "      <th></th>\n",
              "      <th></th>\n",
              "      <th></th>\n",
              "      <th></th>\n",
              "      <th></th>\n",
              "      <th></th>\n",
              "      <th></th>\n",
              "      <th></th>\n",
              "      <th></th>\n",
              "      <th></th>\n",
              "      <th></th>\n",
              "    </tr>\n",
              "  </thead>\n",
              "  <tbody>\n",
              "    <tr>\n",
              "      <th>-0.045342</th>\n",
              "      <td>0.019254</td>\n",
              "      <td>0.003337</td>\n",
              "      <td>0.035640</td>\n",
              "      <td>-0.007473</td>\n",
              "      <td>-0.068853</td>\n",
              "      <td>0.054743</td>\n",
              "      <td>-0.039636</td>\n",
              "      <td>0.034289</td>\n",
              "      <td>-0.006537</td>\n",
              "      <td>0.063238</td>\n",
              "      <td>...</td>\n",
              "      <td>0.018908</td>\n",
              "      <td>0.077732</td>\n",
              "      <td>0.002408</td>\n",
              "      <td>0.008488</td>\n",
              "      <td>-0.039057</td>\n",
              "      <td>-0.000457</td>\n",
              "      <td>-0.051578</td>\n",
              "      <td>0.004806</td>\n",
              "      <td>0.081871</td>\n",
              "      <td>-0.131077</td>\n",
              "    </tr>\n",
              "    <tr>\n",
              "      <th>-0.035070</th>\n",
              "      <td>0.025756</td>\n",
              "      <td>0.003777</td>\n",
              "      <td>0.041059</td>\n",
              "      <td>-0.017922</td>\n",
              "      <td>-0.072954</td>\n",
              "      <td>0.065115</td>\n",
              "      <td>-0.035605</td>\n",
              "      <td>0.045051</td>\n",
              "      <td>-0.010033</td>\n",
              "      <td>0.077359</td>\n",
              "      <td>...</td>\n",
              "      <td>-0.000649</td>\n",
              "      <td>0.071938</td>\n",
              "      <td>0.007041</td>\n",
              "      <td>0.002390</td>\n",
              "      <td>-0.043645</td>\n",
              "      <td>0.003818</td>\n",
              "      <td>-0.057032</td>\n",
              "      <td>0.009423</td>\n",
              "      <td>0.090731</td>\n",
              "      <td>-0.124345</td>\n",
              "    </tr>\n",
              "    <tr>\n",
              "      <th>-0.046473</th>\n",
              "      <td>0.013189</td>\n",
              "      <td>0.008518</td>\n",
              "      <td>0.043632</td>\n",
              "      <td>-0.038777</td>\n",
              "      <td>-0.063159</td>\n",
              "      <td>0.044884</td>\n",
              "      <td>-0.021634</td>\n",
              "      <td>0.040793</td>\n",
              "      <td>-0.005968</td>\n",
              "      <td>0.073622</td>\n",
              "      <td>...</td>\n",
              "      <td>0.000087</td>\n",
              "      <td>0.060791</td>\n",
              "      <td>-0.015146</td>\n",
              "      <td>0.010468</td>\n",
              "      <td>-0.051480</td>\n",
              "      <td>-0.000496</td>\n",
              "      <td>-0.045310</td>\n",
              "      <td>0.003620</td>\n",
              "      <td>0.084066</td>\n",
              "      <td>-0.145249</td>\n",
              "    </tr>\n",
              "    <tr>\n",
              "      <th>-0.048181</th>\n",
              "      <td>0.020902</td>\n",
              "      <td>-0.002815</td>\n",
              "      <td>0.038796</td>\n",
              "      <td>-0.007649</td>\n",
              "      <td>-0.065524</td>\n",
              "      <td>0.059886</td>\n",
              "      <td>-0.039610</td>\n",
              "      <td>0.028973</td>\n",
              "      <td>-0.009479</td>\n",
              "      <td>0.062704</td>\n",
              "      <td>...</td>\n",
              "      <td>0.009984</td>\n",
              "      <td>0.075737</td>\n",
              "      <td>-0.001286</td>\n",
              "      <td>0.012081</td>\n",
              "      <td>-0.032912</td>\n",
              "      <td>0.000293</td>\n",
              "      <td>-0.060938</td>\n",
              "      <td>0.011099</td>\n",
              "      <td>0.092287</td>\n",
              "      <td>-0.123043</td>\n",
              "    </tr>\n",
              "    <tr>\n",
              "      <th>-0.053381</th>\n",
              "      <td>0.014097</td>\n",
              "      <td>-0.003913</td>\n",
              "      <td>0.029319</td>\n",
              "      <td>-0.009316</td>\n",
              "      <td>-0.062570</td>\n",
              "      <td>0.062862</td>\n",
              "      <td>-0.025061</td>\n",
              "      <td>0.047203</td>\n",
              "      <td>-0.008625</td>\n",
              "      <td>0.085842</td>\n",
              "      <td>...</td>\n",
              "      <td>0.016097</td>\n",
              "      <td>0.051959</td>\n",
              "      <td>-0.006542</td>\n",
              "      <td>0.010010</td>\n",
              "      <td>-0.066378</td>\n",
              "      <td>-0.010216</td>\n",
              "      <td>-0.054111</td>\n",
              "      <td>-0.002559</td>\n",
              "      <td>0.085265</td>\n",
              "      <td>-0.152999</td>\n",
              "    </tr>\n",
              "    <tr>\n",
              "      <th>...</th>\n",
              "      <td>...</td>\n",
              "      <td>...</td>\n",
              "      <td>...</td>\n",
              "      <td>...</td>\n",
              "      <td>...</td>\n",
              "      <td>...</td>\n",
              "      <td>...</td>\n",
              "      <td>...</td>\n",
              "      <td>...</td>\n",
              "      <td>...</td>\n",
              "      <td>...</td>\n",
              "      <td>...</td>\n",
              "      <td>...</td>\n",
              "      <td>...</td>\n",
              "      <td>...</td>\n",
              "      <td>...</td>\n",
              "      <td>...</td>\n",
              "      <td>...</td>\n",
              "      <td>...</td>\n",
              "      <td>...</td>\n",
              "      <td>...</td>\n",
              "    </tr>\n",
              "    <tr>\n",
              "      <th>-0.043920</th>\n",
              "      <td>0.022901</td>\n",
              "      <td>0.003494</td>\n",
              "      <td>0.035202</td>\n",
              "      <td>-0.018574</td>\n",
              "      <td>-0.063815</td>\n",
              "      <td>0.050557</td>\n",
              "      <td>-0.027773</td>\n",
              "      <td>0.039347</td>\n",
              "      <td>-0.008811</td>\n",
              "      <td>0.076823</td>\n",
              "      <td>...</td>\n",
              "      <td>0.005607</td>\n",
              "      <td>0.069487</td>\n",
              "      <td>-0.003174</td>\n",
              "      <td>0.006329</td>\n",
              "      <td>-0.045447</td>\n",
              "      <td>-0.000693</td>\n",
              "      <td>-0.049187</td>\n",
              "      <td>0.006099</td>\n",
              "      <td>0.087276</td>\n",
              "      <td>-0.136520</td>\n",
              "    </tr>\n",
              "    <tr>\n",
              "      <th>-0.041732</th>\n",
              "      <td>0.028656</td>\n",
              "      <td>0.004042</td>\n",
              "      <td>0.040697</td>\n",
              "      <td>-0.018891</td>\n",
              "      <td>-0.073743</td>\n",
              "      <td>0.061508</td>\n",
              "      <td>-0.032079</td>\n",
              "      <td>0.045077</td>\n",
              "      <td>-0.009843</td>\n",
              "      <td>0.073295</td>\n",
              "      <td>...</td>\n",
              "      <td>0.004180</td>\n",
              "      <td>0.073103</td>\n",
              "      <td>0.006521</td>\n",
              "      <td>0.007843</td>\n",
              "      <td>-0.032309</td>\n",
              "      <td>-0.005606</td>\n",
              "      <td>-0.057777</td>\n",
              "      <td>0.002677</td>\n",
              "      <td>0.090918</td>\n",
              "      <td>-0.127269</td>\n",
              "    </tr>\n",
              "    <tr>\n",
              "      <th>-0.037013</th>\n",
              "      <td>0.017598</td>\n",
              "      <td>0.005357</td>\n",
              "      <td>0.040747</td>\n",
              "      <td>-0.018776</td>\n",
              "      <td>-0.069738</td>\n",
              "      <td>0.053880</td>\n",
              "      <td>-0.030543</td>\n",
              "      <td>0.044058</td>\n",
              "      <td>-0.015158</td>\n",
              "      <td>0.078168</td>\n",
              "      <td>...</td>\n",
              "      <td>0.007715</td>\n",
              "      <td>0.068078</td>\n",
              "      <td>-0.002076</td>\n",
              "      <td>0.011442</td>\n",
              "      <td>-0.047368</td>\n",
              "      <td>-0.003594</td>\n",
              "      <td>-0.050925</td>\n",
              "      <td>0.004861</td>\n",
              "      <td>0.086231</td>\n",
              "      <td>-0.129696</td>\n",
              "    </tr>\n",
              "    <tr>\n",
              "      <th>-0.045851</th>\n",
              "      <td>0.023072</td>\n",
              "      <td>0.002050</td>\n",
              "      <td>0.043177</td>\n",
              "      <td>-0.017520</td>\n",
              "      <td>-0.062365</td>\n",
              "      <td>0.057374</td>\n",
              "      <td>-0.038317</td>\n",
              "      <td>0.038661</td>\n",
              "      <td>-0.003344</td>\n",
              "      <td>0.071792</td>\n",
              "      <td>...</td>\n",
              "      <td>0.009944</td>\n",
              "      <td>0.073901</td>\n",
              "      <td>-0.004980</td>\n",
              "      <td>0.006295</td>\n",
              "      <td>-0.040872</td>\n",
              "      <td>-0.001849</td>\n",
              "      <td>-0.054890</td>\n",
              "      <td>0.006134</td>\n",
              "      <td>0.080434</td>\n",
              "      <td>-0.130845</td>\n",
              "    </tr>\n",
              "    <tr>\n",
              "      <th>-0.047054</th>\n",
              "      <td>0.023070</td>\n",
              "      <td>0.004367</td>\n",
              "      <td>0.042029</td>\n",
              "      <td>-0.020302</td>\n",
              "      <td>-0.064510</td>\n",
              "      <td>0.054592</td>\n",
              "      <td>-0.028025</td>\n",
              "      <td>0.031902</td>\n",
              "      <td>-0.005834</td>\n",
              "      <td>0.074883</td>\n",
              "      <td>...</td>\n",
              "      <td>0.000351</td>\n",
              "      <td>0.072110</td>\n",
              "      <td>-0.000031</td>\n",
              "      <td>0.011708</td>\n",
              "      <td>-0.031235</td>\n",
              "      <td>-0.002699</td>\n",
              "      <td>-0.051866</td>\n",
              "      <td>0.004554</td>\n",
              "      <td>0.085827</td>\n",
              "      <td>-0.125452</td>\n",
              "    </tr>\n",
              "  </tbody>\n",
              "</table>\n",
              "<p>2104 rows × 300 columns</p>\n",
              "</div>\n",
              "      <button class=\"colab-df-convert\" onclick=\"convertToInteractive('df-6e8cfe9f-9ad1-47a8-9146-4838fc9b8b17')\"\n",
              "              title=\"Convert this dataframe to an interactive table.\"\n",
              "              style=\"display:none;\">\n",
              "        \n",
              "  <svg xmlns=\"http://www.w3.org/2000/svg\" height=\"24px\"viewBox=\"0 0 24 24\"\n",
              "       width=\"24px\">\n",
              "    <path d=\"M0 0h24v24H0V0z\" fill=\"none\"/>\n",
              "    <path d=\"M18.56 5.44l.94 2.06.94-2.06 2.06-.94-2.06-.94-.94-2.06-.94 2.06-2.06.94zm-11 1L8.5 8.5l.94-2.06 2.06-.94-2.06-.94L8.5 2.5l-.94 2.06-2.06.94zm10 10l.94 2.06.94-2.06 2.06-.94-2.06-.94-.94-2.06-.94 2.06-2.06.94z\"/><path d=\"M17.41 7.96l-1.37-1.37c-.4-.4-.92-.59-1.43-.59-.52 0-1.04.2-1.43.59L10.3 9.45l-7.72 7.72c-.78.78-.78 2.05 0 2.83L4 21.41c.39.39.9.59 1.41.59.51 0 1.02-.2 1.41-.59l7.78-7.78 2.81-2.81c.8-.78.8-2.07 0-2.86zM5.41 20L4 18.59l7.72-7.72 1.47 1.35L5.41 20z\"/>\n",
              "  </svg>\n",
              "      </button>\n",
              "      \n",
              "  <style>\n",
              "    .colab-df-container {\n",
              "      display:flex;\n",
              "      flex-wrap:wrap;\n",
              "      gap: 12px;\n",
              "    }\n",
              "\n",
              "    .colab-df-convert {\n",
              "      background-color: #E8F0FE;\n",
              "      border: none;\n",
              "      border-radius: 50%;\n",
              "      cursor: pointer;\n",
              "      display: none;\n",
              "      fill: #1967D2;\n",
              "      height: 32px;\n",
              "      padding: 0 0 0 0;\n",
              "      width: 32px;\n",
              "    }\n",
              "\n",
              "    .colab-df-convert:hover {\n",
              "      background-color: #E2EBFA;\n",
              "      box-shadow: 0px 1px 2px rgba(60, 64, 67, 0.3), 0px 1px 3px 1px rgba(60, 64, 67, 0.15);\n",
              "      fill: #174EA6;\n",
              "    }\n",
              "\n",
              "    [theme=dark] .colab-df-convert {\n",
              "      background-color: #3B4455;\n",
              "      fill: #D2E3FC;\n",
              "    }\n",
              "\n",
              "    [theme=dark] .colab-df-convert:hover {\n",
              "      background-color: #434B5C;\n",
              "      box-shadow: 0px 1px 3px 1px rgba(0, 0, 0, 0.15);\n",
              "      filter: drop-shadow(0px 1px 2px rgba(0, 0, 0, 0.3));\n",
              "      fill: #FFFFFF;\n",
              "    }\n",
              "  </style>\n",
              "\n",
              "      <script>\n",
              "        const buttonEl =\n",
              "          document.querySelector('#df-6e8cfe9f-9ad1-47a8-9146-4838fc9b8b17 button.colab-df-convert');\n",
              "        buttonEl.style.display =\n",
              "          google.colab.kernel.accessAllowed ? 'block' : 'none';\n",
              "\n",
              "        async function convertToInteractive(key) {\n",
              "          const element = document.querySelector('#df-6e8cfe9f-9ad1-47a8-9146-4838fc9b8b17');\n",
              "          const dataTable =\n",
              "            await google.colab.kernel.invokeFunction('convertToInteractive',\n",
              "                                                     [key], {});\n",
              "          if (!dataTable) return;\n",
              "\n",
              "          const docLinkHtml = 'Like what you see? Visit the ' +\n",
              "            '<a target=\"_blank\" href=https://colab.research.google.com/notebooks/data_table.ipynb>data table notebook</a>'\n",
              "            + ' to learn more about interactive tables.';\n",
              "          element.innerHTML = '';\n",
              "          dataTable['output_type'] = 'display_data';\n",
              "          await google.colab.output.renderOutput(dataTable, element);\n",
              "          const docLink = document.createElement('div');\n",
              "          docLink.innerHTML = docLinkHtml;\n",
              "          element.appendChild(docLink);\n",
              "        }\n",
              "      </script>\n",
              "    </div>\n",
              "  </div>\n",
              "  "
            ]
          },
          "metadata": {},
          "execution_count": 41
        }
      ]
    },
    {
      "cell_type": "code",
      "source": [
        "X = df1\n",
        "y = y"
      ],
      "metadata": {
        "id": "pbOpk5NiKPQ7"
      },
      "execution_count": 42,
      "outputs": []
    },
    {
      "cell_type": "code",
      "source": [
        "count_classes = pd.value_counts(y, sort = True)\n",
        "\n",
        "count_classes.plot(kind = 'bar', rot=0)\n",
        "\n",
        "plt.title(\"Class Distribution\")\n",
        "\n",
        "LABELS = [\"Zero\", \"One\"]\n",
        "\n",
        "plt.xticks(range(2), LABELS)\n",
        "\n",
        "plt.xlabel(\"Class\")\n",
        "\n",
        "plt.ylabel(\"Frequency\")"
      ],
      "metadata": {
        "colab": {
          "base_uri": "https://localhost:8080/",
          "height": 312
        },
        "id": "FQoCkNtYKSiZ",
        "outputId": "e2259304-1a0c-4db9-8f53-1e281aaaaebc"
      },
      "execution_count": 43,
      "outputs": [
        {
          "output_type": "execute_result",
          "data": {
            "text/plain": [
              "Text(0, 0.5, 'Frequency')"
            ]
          },
          "metadata": {},
          "execution_count": 43
        },
        {
          "output_type": "display_data",
          "data": {
            "text/plain": [
              "<Figure size 432x288 with 1 Axes>"
            ],
            "image/png": "[encoded data removed]"
          },
          "metadata": {
            "needs_background": "light"
          }
        }
      ]
    },
    {
      "cell_type": "code",
      "source": [
        "One = df[y==1]\n",
        "\n",
        "Zero = df[y==0]\n",
        "\n",
        "print(Zero.shape,One.shape)"
      ],
      "metadata": {
        "colab": {
          "base_uri": "https://localhost:8080/"
        },
        "id": "k6hYOl1BKXJ2",
        "outputId": "0a08ffd7-1cc8-4d91-c0c1-937e80c31ed1"
      },
      "execution_count": 44,
      "outputs": [
        {
          "output_type": "stream",
          "name": "stdout",
          "text": [
            "(1041, 512) (1063, 512)\n"
          ]
        }
      ]
    },
    {
      "cell_type": "code",
      "source": [
        "from imblearn.over_sampling import SMOTE\n",
        "sm = SMOTE(sampling_strategy='minority')\n",
        "X_res,y_res=sm.fit_resample(X,y)"
      ],
      "metadata": {
        "id": "g02pYcgkKa2E"
      },
      "execution_count": 45,
      "outputs": []
    },
    {
      "cell_type": "code",
      "source": [
        "print(X_res.shape)\n",
        "print(y_res.shape)"
      ],
      "metadata": {
        "colab": {
          "base_uri": "https://localhost:8080/"
        },
        "id": "UYjvpqWaKe5r",
        "outputId": "407e425f-6d8d-4764-d2cd-2776ee0cce65"
      },
      "execution_count": 46,
      "outputs": [
        {
          "output_type": "stream",
          "name": "stdout",
          "text": [
            "(2126, 300)\n",
            "(2126,)\n"
          ]
        }
      ]
    },
    {
      "cell_type": "code",
      "source": [
        "#Split data into independent (X) and dependent(Y) columns\n",
        "\n",
        "y = y_res\n",
        "X = X_res"
      ],
      "metadata": {
        "id": "ZO9JXJP8KhmD"
      },
      "execution_count": 47,
      "outputs": []
    },
    {
      "cell_type": "code",
      "source": [
        "from sklearn.model_selection import train_test_split\n",
        "X_train, X_test, y_train, y_test = train_test_split(X, y, test_size = 0.20, random_state = 50)"
      ],
      "metadata": {
        "id": "39_OOZRhKnGm"
      },
      "execution_count": 48,
      "outputs": []
    },
    {
      "cell_type": "code",
      "source": [
        "print(X_train.shape)\n",
        "print(X_test.shape)"
      ],
      "metadata": {
        "colab": {
          "base_uri": "https://localhost:8080/"
        },
        "id": "6NE-JP0MKq-u",
        "outputId": "87cedd3d-0554-4c29-e31d-fe1c30724e9f"
      },
      "execution_count": 49,
      "outputs": [
        {
          "output_type": "stream",
          "name": "stdout",
          "text": [
            "(1700, 300)\n",
            "(426, 300)\n"
          ]
        }
      ]
    },
    {
      "cell_type": "code",
      "source": [
        "scaler = StandardScaler()\n",
        "X_train = scaler.fit_transform(X_train)\n",
        "X_test = scaler.transform(X_test)"
      ],
      "metadata": {
        "id": "sz2fo0lIKuAK"
      },
      "execution_count": 50,
      "outputs": []
    },
    {
      "cell_type": "code",
      "source": [
        "X_train = X_train.reshape(1700, 300,1)\n",
        "X_test = X_test.reshape(426, 300, 1)"
      ],
      "metadata": {
        "id": "FvYS_zIyKywU"
      },
      "execution_count": 51,
      "outputs": []
    },
    {
      "cell_type": "code",
      "source": [
        "epochs =50\n",
        "model = Sequential()\n",
        "model.add(Conv1D(filters=32, kernel_size=4, activation='relu', input_shape = (300,1))) ##1st conv layer\n",
        "model.add(BatchNormalization())\n",
        "model.add(Dropout(0.2))\n",
        "\n",
        "model.add(Conv1D(filters=64, kernel_size=4, activation='relu'))  #2nd Conv layer\n",
        "model.add(BatchNormalization())\n",
        "#model.add(Dropout(0.3))\n",
        "\n",
        "model.add(Flatten())    #Flattening\n",
        "model.add(Dense(64, activation='relu'))  ##fully connected layer\n",
        "#model.add(Dropout(0.3))\n",
        "\n",
        "model.add(Dense(1, activation='sigmoid'))   #output layer"
      ],
      "metadata": {
        "id": "K6Xs3RNlK4mo"
      },
      "execution_count": 52,
      "outputs": []
    },
    {
      "cell_type": "code",
      "source": [
        "model.compile(optimizer=Adam(learning_rate=0.00001), loss = 'binary_crossentropy', metrics=['accuracy'])\n",
        "\n",
        "history = model.fit(X_train, y_train, epochs=epochs, batch_size=32,validation_data=(X_test, y_test), verbose=1)"
      ],
      "metadata": {
        "colab": {
          "base_uri": "https://localhost:8080/"
        },
        "id": "A23n0htdLG30",
        "outputId": "fa3e9b56-89dd-4b6a-841f-ecb47ccf3afe"
      },
      "execution_count": 53,
      "outputs": [
        {
          "output_type": "stream",
          "name": "stdout",
          "text": [
            "Epoch 1/50\n",
            "54/54 [==============================] - 5s 30ms/step - loss: 0.7190 - accuracy: 0.5900 - val_loss: 0.6674 - val_accuracy: 0.6596\n",
            "Epoch 2/50\n",
            "54/54 [==============================] - 1s 18ms/step - loss: 0.6406 - accuracy: 0.6612 - val_loss: 0.6472 - val_accuracy: 0.6784\n",
            "Epoch 3/50\n",
            "54/54 [==============================] - 1s 17ms/step - loss: 0.6082 - accuracy: 0.6894 - val_loss: 0.6285 - val_accuracy: 0.6901\n",
            "Epoch 4/50\n",
            "54/54 [==============================] - 1s 20ms/step - loss: 0.5913 - accuracy: 0.6900 - val_loss: 0.6037 - val_accuracy: 0.7207\n",
            "Epoch 5/50\n",
            "54/54 [==============================] - 1s 20ms/step - loss: 0.5570 - accuracy: 0.7206 - val_loss: 0.5956 - val_accuracy: 0.7042\n",
            "Epoch 6/50\n",
            "54/54 [==============================] - 1s 20ms/step - loss: 0.5326 - accuracy: 0.7276 - val_loss: 0.5754 - val_accuracy: 0.7183\n",
            "Epoch 7/50\n",
            "54/54 [==============================] - 1s 17ms/step - loss: 0.5122 - accuracy: 0.7435 - val_loss: 0.5630 - val_accuracy: 0.7160\n",
            "Epoch 8/50\n",
            "54/54 [==============================] - 1s 16ms/step - loss: 0.4942 - accuracy: 0.7588 - val_loss: 0.5562 - val_accuracy: 0.7183\n",
            "Epoch 9/50\n",
            "54/54 [==============================] - 1s 17ms/step - loss: 0.4759 - accuracy: 0.7788 - val_loss: 0.5515 - val_accuracy: 0.7160\n",
            "Epoch 10/50\n",
            "54/54 [==============================] - 1s 17ms/step - loss: 0.4634 - accuracy: 0.7876 - val_loss: 0.5501 - val_accuracy: 0.7113\n",
            "Epoch 11/50\n",
            "54/54 [==============================] - 1s 17ms/step - loss: 0.4495 - accuracy: 0.7988 - val_loss: 0.5476 - val_accuracy: 0.7089\n",
            "Epoch 12/50\n",
            "54/54 [==============================] - 1s 17ms/step - loss: 0.4352 - accuracy: 0.7994 - val_loss: 0.5506 - val_accuracy: 0.7136\n",
            "Epoch 13/50\n",
            "54/54 [==============================] - 1s 16ms/step - loss: 0.4249 - accuracy: 0.8135 - val_loss: 0.5507 - val_accuracy: 0.7042\n",
            "Epoch 14/50\n",
            "54/54 [==============================] - 1s 16ms/step - loss: 0.4115 - accuracy: 0.8171 - val_loss: 0.5456 - val_accuracy: 0.7066\n",
            "Epoch 15/50\n",
            "54/54 [==============================] - 1s 15ms/step - loss: 0.3992 - accuracy: 0.8259 - val_loss: 0.5495 - val_accuracy: 0.7254\n",
            "Epoch 16/50\n",
            "54/54 [==============================] - 1s 16ms/step - loss: 0.3907 - accuracy: 0.8306 - val_loss: 0.5503 - val_accuracy: 0.7183\n",
            "Epoch 17/50\n",
            "54/54 [==============================] - 1s 15ms/step - loss: 0.3795 - accuracy: 0.8435 - val_loss: 0.5501 - val_accuracy: 0.7254\n",
            "Epoch 18/50\n",
            "54/54 [==============================] - 1s 11ms/step - loss: 0.3717 - accuracy: 0.8465 - val_loss: 0.5519 - val_accuracy: 0.7183\n",
            "Epoch 19/50\n",
            "54/54 [==============================] - 1s 11ms/step - loss: 0.3636 - accuracy: 0.8641 - val_loss: 0.5522 - val_accuracy: 0.7324\n",
            "Epoch 20/50\n",
            "54/54 [==============================] - 1s 11ms/step - loss: 0.3592 - accuracy: 0.8571 - val_loss: 0.5551 - val_accuracy: 0.7089\n",
            "Epoch 21/50\n",
            "54/54 [==============================] - 1s 11ms/step - loss: 0.3482 - accuracy: 0.8694 - val_loss: 0.5517 - val_accuracy: 0.7254\n",
            "Epoch 22/50\n",
            "54/54 [==============================] - 1s 11ms/step - loss: 0.3348 - accuracy: 0.8659 - val_loss: 0.5476 - val_accuracy: 0.7347\n",
            "Epoch 23/50\n",
            "54/54 [==============================] - 1s 11ms/step - loss: 0.3303 - accuracy: 0.8653 - val_loss: 0.5500 - val_accuracy: 0.7277\n",
            "Epoch 24/50\n",
            "54/54 [==============================] - 1s 12ms/step - loss: 0.3272 - accuracy: 0.8682 - val_loss: 0.5511 - val_accuracy: 0.7277\n",
            "Epoch 25/50\n",
            "54/54 [==============================] - 1s 11ms/step - loss: 0.3187 - accuracy: 0.8835 - val_loss: 0.5521 - val_accuracy: 0.7324\n",
            "Epoch 26/50\n",
            "54/54 [==============================] - 1s 12ms/step - loss: 0.3140 - accuracy: 0.8853 - val_loss: 0.5535 - val_accuracy: 0.7324\n",
            "Epoch 27/50\n",
            "54/54 [==============================] - 1s 11ms/step - loss: 0.2984 - accuracy: 0.9018 - val_loss: 0.5513 - val_accuracy: 0.7394\n",
            "Epoch 28/50\n",
            "54/54 [==============================] - 1s 11ms/step - loss: 0.2959 - accuracy: 0.8994 - val_loss: 0.5535 - val_accuracy: 0.7160\n",
            "Epoch 29/50\n",
            "54/54 [==============================] - 1s 11ms/step - loss: 0.2908 - accuracy: 0.8935 - val_loss: 0.5481 - val_accuracy: 0.7441\n",
            "Epoch 30/50\n",
            "54/54 [==============================] - 1s 12ms/step - loss: 0.2840 - accuracy: 0.9000 - val_loss: 0.5525 - val_accuracy: 0.7300\n",
            "Epoch 31/50\n",
            "54/54 [==============================] - 1s 12ms/step - loss: 0.2725 - accuracy: 0.9076 - val_loss: 0.5588 - val_accuracy: 0.7441\n",
            "Epoch 32/50\n",
            "54/54 [==============================] - 1s 12ms/step - loss: 0.2699 - accuracy: 0.9076 - val_loss: 0.5573 - val_accuracy: 0.7394\n",
            "Epoch 33/50\n",
            "54/54 [==============================] - 1s 12ms/step - loss: 0.2651 - accuracy: 0.9129 - val_loss: 0.5607 - val_accuracy: 0.7394\n",
            "Epoch 34/50\n",
            "54/54 [==============================] - 1s 12ms/step - loss: 0.2598 - accuracy: 0.9200 - val_loss: 0.5647 - val_accuracy: 0.7347\n",
            "Epoch 35/50\n",
            "54/54 [==============================] - 1s 11ms/step - loss: 0.2547 - accuracy: 0.9259 - val_loss: 0.5619 - val_accuracy: 0.7324\n",
            "Epoch 36/50\n",
            "54/54 [==============================] - 1s 11ms/step - loss: 0.2395 - accuracy: 0.9329 - val_loss: 0.5668 - val_accuracy: 0.7394\n",
            "Epoch 37/50\n",
            "54/54 [==============================] - 1s 12ms/step - loss: 0.2339 - accuracy: 0.9365 - val_loss: 0.5693 - val_accuracy: 0.7371\n",
            "Epoch 38/50\n",
            "54/54 [==============================] - 1s 12ms/step - loss: 0.2385 - accuracy: 0.9300 - val_loss: 0.5697 - val_accuracy: 0.7418\n",
            "Epoch 39/50\n",
            "54/54 [==============================] - 1s 11ms/step - loss: 0.2292 - accuracy: 0.9412 - val_loss: 0.5730 - val_accuracy: 0.7300\n",
            "Epoch 40/50\n",
            "54/54 [==============================] - 1s 11ms/step - loss: 0.2298 - accuracy: 0.9371 - val_loss: 0.5782 - val_accuracy: 0.7277\n",
            "Epoch 41/50\n",
            "54/54 [==============================] - 1s 11ms/step - loss: 0.2231 - accuracy: 0.9418 - val_loss: 0.5768 - val_accuracy: 0.7207\n",
            "Epoch 42/50\n",
            "54/54 [==============================] - 1s 12ms/step - loss: 0.2173 - accuracy: 0.9429 - val_loss: 0.5724 - val_accuracy: 0.7371\n",
            "Epoch 43/50\n",
            "54/54 [==============================] - 1s 12ms/step - loss: 0.2102 - accuracy: 0.9447 - val_loss: 0.5749 - val_accuracy: 0.7488\n",
            "Epoch 44/50\n",
            "54/54 [==============================] - 1s 11ms/step - loss: 0.2071 - accuracy: 0.9471 - val_loss: 0.5878 - val_accuracy: 0.7324\n",
            "Epoch 45/50\n",
            "54/54 [==============================] - 1s 12ms/step - loss: 0.2079 - accuracy: 0.9471 - val_loss: 0.5885 - val_accuracy: 0.7254\n",
            "Epoch 46/50\n",
            "54/54 [==============================] - 1s 12ms/step - loss: 0.1949 - accuracy: 0.9518 - val_loss: 0.5894 - val_accuracy: 0.7324\n",
            "Epoch 47/50\n",
            "54/54 [==============================] - 1s 11ms/step - loss: 0.1980 - accuracy: 0.9500 - val_loss: 0.5922 - val_accuracy: 0.7254\n",
            "Epoch 48/50\n",
            "54/54 [==============================] - 1s 12ms/step - loss: 0.1929 - accuracy: 0.9529 - val_loss: 0.5957 - val_accuracy: 0.7347\n",
            "Epoch 49/50\n",
            "54/54 [==============================] - 1s 11ms/step - loss: 0.1827 - accuracy: 0.9565 - val_loss: 0.5985 - val_accuracy: 0.7300\n",
            "Epoch 50/50\n",
            "54/54 [==============================] - 1s 12ms/step - loss: 0.1807 - accuracy: 0.9618 - val_loss: 0.5975 - val_accuracy: 0.7324\n"
          ]
        }
      ]
    },
    {
      "cell_type": "code",
      "source": [
        "#y_pred = model.predict(X_train).ravel()\n",
        "from sklearn.metrics import roc_curve\n",
        "y_pred_cnn2 = model.predict(X_test).ravel()\n",
        "fpr_2, tpr_2, thresholds = roc_curve(y_test, y_pred_cnn2)\n",
        "from sklearn.metrics import auc\n",
        "auc_score2 = auc(fpr_2, tpr_2)\n",
        "auc_score2"
      ],
      "metadata": {
        "colab": {
          "base_uri": "https://localhost:8080/"
        },
        "id": "lcCsdxtHQGQi",
        "outputId": "fb88376d-5ee7-44f7-a046-90c3778c0cef"
      },
      "execution_count": 54,
      "outputs": [
        {
          "output_type": "execute_result",
          "data": {
            "text/plain": [
              "0.7997029681023209"
            ]
          },
          "metadata": {},
          "execution_count": 54
        }
      ]
    },
    {
      "cell_type": "code",
      "source": [
        "from sklearn.metrics import average_precision_score, precision_recall_curve\n",
        "\n",
        "y_pred_cnn2 = model.predict(X_test).ravel()\n",
        "precision_2, recall_2, thresholds = precision_recall_curve(y_test, y_pred_cnn2)\n",
        "\n",
        "aupr_score2 = auc(recall_2, precision_2)\n",
        "print(aupr_score2)"
      ],
      "metadata": {
        "colab": {
          "base_uri": "https://localhost:8080/"
        },
        "id": "szcTsFVNzv1U",
        "outputId": "2a7ea6fe-41f9-4ccf-84d7-51aaf06b2a6c"
      },
      "execution_count": 55,
      "outputs": [
        {
          "output_type": "stream",
          "name": "stdout",
          "text": [
            "0.7984561860364565\n"
          ]
        }
      ]
    },
    {
      "cell_type": "markdown",
      "source": [
        "## 3.Word2vec"
      ],
      "metadata": {
        "id": "QmS4vvS3RAuY"
      }
    },
    {
      "cell_type": "code",
      "source": [
        "import pandas as pd\n",
        "from pandas import read_excel\n",
        "file_name = '/content/gdrive/MyDrive/word2vecAllghor.csv'\n",
        "# Glove3decimal.csv\n",
        "# Gloveallghor.csv \n",
        "df = pd.read_csv(file_name, index_col=0)\n",
        "#df = pd.read_csv(file_name)\n",
        "print(df.head()) # print the first 5 rows"
      ],
      "metadata": {
        "colab": {
          "base_uri": "https://localhost:8080/"
        },
        "id": "GSeXWBCeQQMP",
        "outputId": "e019b244-d694-44cf-ef2a-a9aeab7b0e0e"
      },
      "execution_count": 56,
      "outputs": [
        {
          "output_type": "stream",
          "name": "stdout",
          "text": [
            "               tpc1      tpc2      tpc3      tpc4      tpc5      tpc6  \\\n",
            "tpc0                                                                    \n",
            "-0.037980 -0.022374 -0.000357 -0.052267 -0.080404 -0.026881  0.054797   \n",
            "-0.046191 -0.036129 -0.002969 -0.074574 -0.081948 -0.029251  0.039459   \n",
            "-0.039378 -0.029917 -0.002562 -0.051458 -0.080362 -0.040203  0.048534   \n",
            "-0.037194 -0.028180  0.002139 -0.050322 -0.086340 -0.028409  0.051199   \n",
            "-0.038799 -0.011877  0.008337 -0.024062 -0.086949 -0.031327  0.053610   \n",
            "\n",
            "               tpc7      tpc8      tpc9     tpc10  ...    tpc503    tpc504  \\\n",
            "tpc0                                               ...                       \n",
            "-0.037980 -0.015409 -0.011325 -0.086878 -0.049168  ... -0.016386  0.069154   \n",
            "-0.046191 -0.008533 -0.009899 -0.084967 -0.047318  ... -0.011916  0.075506   \n",
            "-0.039378  0.002905 -0.015046 -0.078904 -0.044748  ... -0.015752  0.067525   \n",
            "-0.037194 -0.011362 -0.014576 -0.086905 -0.051721  ... -0.008505  0.067997   \n",
            "-0.038799 -0.003705 -0.022229 -0.075298 -0.044640  ... -0.026913  0.064437   \n",
            "\n",
            "             tpc505    tpc506    tpc507    tpc508    tpc509    tpc510  \\\n",
            "tpc0                                                                    \n",
            "-0.037980 -0.036884 -0.063003 -0.025940 -0.018162 -0.058889  0.038233   \n",
            "-0.046191 -0.035777 -0.071198 -0.021577 -0.018990 -0.068998  0.038115   \n",
            "-0.039378 -0.024492 -0.072688 -0.020258 -0.016679 -0.069656  0.024425   \n",
            "-0.037194 -0.035360 -0.068766 -0.022651 -0.016767 -0.059751  0.035481   \n",
            "-0.038799 -0.028088 -0.065136 -0.033341 -0.011983 -0.060205  0.029901   \n",
            "\n",
            "             tpc511  Target  \n",
            "tpc0                         \n",
            "-0.037980 -0.054769       0  \n",
            "-0.046191 -0.053785       1  \n",
            "-0.039378 -0.054232       0  \n",
            "-0.037194 -0.051175       0  \n",
            "-0.038799 -0.052348       1  \n",
            "\n",
            "[5 rows x 512 columns]\n"
          ]
        }
      ]
    },
    {
      "cell_type": "code",
      "source": [
        "features = np.array(df.columns[:-1])\n",
        "target = 'Target'\n",
        "\n",
        "X = df[features]\n",
        "y = df[target]"
      ],
      "metadata": {
        "id": "LPfIhW8FR7DJ"
      },
      "execution_count": 57,
      "outputs": []
    },
    {
      "cell_type": "code",
      "source": [
        "X_train, X_test, y_train, y_test = train_test_split(X, y, test_size=0.10, random_state=100)"
      ],
      "metadata": {
        "id": "Vpj0MIJ8SB_K"
      },
      "execution_count": 58,
      "outputs": []
    },
    {
      "cell_type": "code",
      "source": [
        "def xgb_shap_values(X_train, y_train, X_test):\n",
        "\n",
        "    model = XGBClassifier()\n",
        "    model.fit(X_train, y_train)\n",
        "    explainer = shap.TreeExplainer(model, X_train)\n",
        "    shap_values_xgb = explainer.shap_values(X_test)\n",
        "    # shap.summary_plot(shap_values_xgb, X_test)\n",
        "    # shap.summary_plot(shap_values_xgb, X_test, plot_type ='bar')\n",
        "    # shap.dependence_plot(\"Age\", shap_values_xgb, X_test, interaction_index = 'rate Po2')\n",
        "    shap_sum = np.abs(shap_values_xgb).mean(axis=0)\n",
        "    importance_df = pd.DataFrame([features, shap_sum.tolist()]).T\n",
        "    importance_df.columns = ['Column Name', 'Shap Importance']\n",
        "    importance_df= importance_df.sort_values('Shap Importance', ascending = False)\n",
        "    return importance_df"
      ],
      "metadata": {
        "id": "T8651w22SGU9"
      },
      "execution_count": 59,
      "outputs": []
    },
    {
      "cell_type": "code",
      "source": [
        "selected_df = xgb_shap_values(X_train, y_train,  X_test)"
      ],
      "metadata": {
        "id": "0ZrMyw9OSJNK"
      },
      "execution_count": 60,
      "outputs": []
    },
    {
      "cell_type": "code",
      "source": [
        "selected_df = selected_df[0:300]\n",
        "selected_df"
      ],
      "metadata": {
        "colab": {
          "base_uri": "https://localhost:8080/",
          "height": 424
        },
        "id": "FmoS1dhWSNpi",
        "outputId": "b45f3b20-c2b0-43f7-aea6-d33a28d3913f"
      },
      "execution_count": 61,
      "outputs": [
        {
          "output_type": "execute_result",
          "data": {
            "text/plain": [
              "    Column Name Shap Importance\n",
              "234      tpc235        0.126615\n",
              "60        tpc61        0.107407\n",
              "322      tpc323        0.103303\n",
              "52        tpc53        0.085352\n",
              "30        tpc31        0.072096\n",
              "..          ...             ...\n",
              "75        tpc76        0.000022\n",
              "411      tpc412             0.0\n",
              "373      tpc374             0.0\n",
              "453      tpc454             0.0\n",
              "458      tpc459             0.0\n",
              "\n",
              "[300 rows x 2 columns]"
            ],
            "text/html": [
              "\n",
              "  <div id=\"df-6db7cce1-b692-441c-8c9b-c650d1fa1441\">\n",
              "    <div class=\"colab-df-container\">\n",
              "      <div>\n",
              "<style scoped>\n",
              "    .dataframe tbody tr th:only-of-type {\n",
              "        vertical-align: middle;\n",
              "    }\n",
              "\n",
              "    .dataframe tbody tr th {\n",
              "        vertical-align: top;\n",
              "    }\n",
              "\n",
              "    .dataframe thead th {\n",
              "        text-align: right;\n",
              "    }\n",
              "</style>\n",
              "<table border=\"1\" class=\"dataframe\">\n",
              "  <thead>\n",
              "    <tr style=\"text-align: right;\">\n",
              "      <th></th>\n",
              "      <th>Column Name</th>\n",
              "      <th>Shap Importance</th>\n",
              "    </tr>\n",
              "  </thead>\n",
              "  <tbody>\n",
              "    <tr>\n",
              "      <th>234</th>\n",
              "      <td>tpc235</td>\n",
              "      <td>0.126615</td>\n",
              "    </tr>\n",
              "    <tr>\n",
              "      <th>60</th>\n",
              "      <td>tpc61</td>\n",
              "      <td>0.107407</td>\n",
              "    </tr>\n",
              "    <tr>\n",
              "      <th>322</th>\n",
              "      <td>tpc323</td>\n",
              "      <td>0.103303</td>\n",
              "    </tr>\n",
              "    <tr>\n",
              "      <th>52</th>\n",
              "      <td>tpc53</td>\n",
              "      <td>0.085352</td>\n",
              "    </tr>\n",
              "    <tr>\n",
              "      <th>30</th>\n",
              "      <td>tpc31</td>\n",
              "      <td>0.072096</td>\n",
              "    </tr>\n",
              "    <tr>\n",
              "      <th>...</th>\n",
              "      <td>...</td>\n",
              "      <td>...</td>\n",
              "    </tr>\n",
              "    <tr>\n",
              "      <th>75</th>\n",
              "      <td>tpc76</td>\n",
              "      <td>0.000022</td>\n",
              "    </tr>\n",
              "    <tr>\n",
              "      <th>411</th>\n",
              "      <td>tpc412</td>\n",
              "      <td>0.0</td>\n",
              "    </tr>\n",
              "    <tr>\n",
              "      <th>373</th>\n",
              "      <td>tpc374</td>\n",
              "      <td>0.0</td>\n",
              "    </tr>\n",
              "    <tr>\n",
              "      <th>453</th>\n",
              "      <td>tpc454</td>\n",
              "      <td>0.0</td>\n",
              "    </tr>\n",
              "    <tr>\n",
              "      <th>458</th>\n",
              "      <td>tpc459</td>\n",
              "      <td>0.0</td>\n",
              "    </tr>\n",
              "  </tbody>\n",
              "</table>\n",
              "<p>300 rows × 2 columns</p>\n",
              "</div>\n",
              "      <button class=\"colab-df-convert\" onclick=\"convertToInteractive('df-6db7cce1-b692-441c-8c9b-c650d1fa1441')\"\n",
              "              title=\"Convert this dataframe to an interactive table.\"\n",
              "              style=\"display:none;\">\n",
              "        \n",
              "  <svg xmlns=\"http://www.w3.org/2000/svg\" height=\"24px\"viewBox=\"0 0 24 24\"\n",
              "       width=\"24px\">\n",
              "    <path d=\"M0 0h24v24H0V0z\" fill=\"none\"/>\n",
              "    <path d=\"M18.56 5.44l.94 2.06.94-2.06 2.06-.94-2.06-.94-.94-2.06-.94 2.06-2.06.94zm-11 1L8.5 8.5l.94-2.06 2.06-.94-2.06-.94L8.5 2.5l-.94 2.06-2.06.94zm10 10l.94 2.06.94-2.06 2.06-.94-2.06-.94-.94-2.06-.94 2.06-2.06.94z\"/><path d=\"M17.41 7.96l-1.37-1.37c-.4-.4-.92-.59-1.43-.59-.52 0-1.04.2-1.43.59L10.3 9.45l-7.72 7.72c-.78.78-.78 2.05 0 2.83L4 21.41c.39.39.9.59 1.41.59.51 0 1.02-.2 1.41-.59l7.78-7.78 2.81-2.81c.8-.78.8-2.07 0-2.86zM5.41 20L4 18.59l7.72-7.72 1.47 1.35L5.41 20z\"/>\n",
              "  </svg>\n",
              "      </button>\n",
              "      \n",
              "  <style>\n",
              "    .colab-df-container {\n",
              "      display:flex;\n",
              "      flex-wrap:wrap;\n",
              "      gap: 12px;\n",
              "    }\n",
              "\n",
              "    .colab-df-convert {\n",
              "      background-color: #E8F0FE;\n",
              "      border: none;\n",
              "      border-radius: 50%;\n",
              "      cursor: pointer;\n",
              "      display: none;\n",
              "      fill: #1967D2;\n",
              "      height: 32px;\n",
              "      padding: 0 0 0 0;\n",
              "      width: 32px;\n",
              "    }\n",
              "\n",
              "    .colab-df-convert:hover {\n",
              "      background-color: #E2EBFA;\n",
              "      box-shadow: 0px 1px 2px rgba(60, 64, 67, 0.3), 0px 1px 3px 1px rgba(60, 64, 67, 0.15);\n",
              "      fill: #174EA6;\n",
              "    }\n",
              "\n",
              "    [theme=dark] .colab-df-convert {\n",
              "      background-color: #3B4455;\n",
              "      fill: #D2E3FC;\n",
              "    }\n",
              "\n",
              "    [theme=dark] .colab-df-convert:hover {\n",
              "      background-color: #434B5C;\n",
              "      box-shadow: 0px 1px 3px 1px rgba(0, 0, 0, 0.15);\n",
              "      filter: drop-shadow(0px 1px 2px rgba(0, 0, 0, 0.3));\n",
              "      fill: #FFFFFF;\n",
              "    }\n",
              "  </style>\n",
              "\n",
              "      <script>\n",
              "        const buttonEl =\n",
              "          document.querySelector('#df-6db7cce1-b692-441c-8c9b-c650d1fa1441 button.colab-df-convert');\n",
              "        buttonEl.style.display =\n",
              "          google.colab.kernel.accessAllowed ? 'block' : 'none';\n",
              "\n",
              "        async function convertToInteractive(key) {\n",
              "          const element = document.querySelector('#df-6db7cce1-b692-441c-8c9b-c650d1fa1441');\n",
              "          const dataTable =\n",
              "            await google.colab.kernel.invokeFunction('convertToInteractive',\n",
              "                                                     [key], {});\n",
              "          if (!dataTable) return;\n",
              "\n",
              "          const docLinkHtml = 'Like what you see? Visit the ' +\n",
              "            '<a target=\"_blank\" href=https://colab.research.google.com/notebooks/data_table.ipynb>data table notebook</a>'\n",
              "            + ' to learn more about interactive tables.';\n",
              "          element.innerHTML = '';\n",
              "          dataTable['output_type'] = 'display_data';\n",
              "          await google.colab.output.renderOutput(dataTable, element);\n",
              "          const docLink = document.createElement('div');\n",
              "          docLink.innerHTML = docLinkHtml;\n",
              "          element.appendChild(docLink);\n",
              "        }\n",
              "      </script>\n",
              "    </div>\n",
              "  </div>\n",
              "  "
            ]
          },
          "metadata": {},
          "execution_count": 61
        }
      ]
    },
    {
      "cell_type": "code",
      "source": [
        "cols = selected_df['Column Name']\n",
        "cols"
      ],
      "metadata": {
        "colab": {
          "base_uri": "https://localhost:8080/"
        },
        "id": "uqn2kmpjSRen",
        "outputId": "0050d6a5-bac9-4f6f-9995-d3c3f0be97fc"
      },
      "execution_count": 62,
      "outputs": [
        {
          "output_type": "execute_result",
          "data": {
            "text/plain": [
              "234    tpc235\n",
              "60      tpc61\n",
              "322    tpc323\n",
              "52      tpc53\n",
              "30      tpc31\n",
              "        ...  \n",
              "75      tpc76\n",
              "411    tpc412\n",
              "373    tpc374\n",
              "453    tpc454\n",
              "458    tpc459\n",
              "Name: Column Name, Length: 300, dtype: object"
            ]
          },
          "metadata": {},
          "execution_count": 62
        }
      ]
    },
    {
      "cell_type": "code",
      "source": [
        "## converting df to numpy array/list\n",
        "trainingdf = np.array(cols)\n",
        "trainingdf"
      ],
      "metadata": {
        "colab": {
          "base_uri": "https://localhost:8080/"
        },
        "id": "R3iVc2PFSVKG",
        "outputId": "745fd443-40ff-4867-b9b3-3fe930c30d7d"
      },
      "execution_count": 63,
      "outputs": [
        {
          "output_type": "execute_result",
          "data": {
            "text/plain": [
              "array(['tpc235', 'tpc61', 'tpc323', 'tpc53', 'tpc31', 'tpc240', 'tpc203',\n",
              "       'tpc389', 'tpc371', 'tpc293', 'tpc239', 'tpc272', 'tpc267',\n",
              "       'tpc455', 'tpc479', 'tpc312', 'tpc332', 'tpc403', 'tpc185',\n",
              "       'tpc247', 'tpc314', 'tpc301', 'tpc89', 'tpc300', 'tpc427',\n",
              "       'tpc339', 'tpc442', 'tpc34', 'tpc220', 'tpc346', 'tpc404', 'tpc86',\n",
              "       'tpc218', 'tpc368', 'tpc352', 'tpc106', 'tpc426', 'tpc341',\n",
              "       'tpc419', 'tpc91', 'tpc99', 'tpc194', 'tpc29', 'tpc464', 'tpc271',\n",
              "       'tpc265', 'tpc337', 'tpc199', 'tpc324', 'tpc441', 'tpc292',\n",
              "       'tpc241', 'tpc251', 'tpc338', 'tpc212', 'tpc309', 'tpc150',\n",
              "       'tpc56', 'tpc82', 'tpc180', 'tpc298', 'tpc244', 'tpc22', 'tpc460',\n",
              "       'tpc305', 'tpc435', 'tpc157', 'tpc254', 'tpc330', 'tpc146',\n",
              "       'tpc162', 'tpc92', 'tpc398', 'tpc233', 'tpc252', 'tpc107',\n",
              "       'tpc498', 'tpc41', 'tpc430', 'tpc156', 'tpc73', 'tpc462', 'tpc362',\n",
              "       'tpc4', 'tpc186', 'tpc382', 'tpc226', 'tpc191', 'tpc392', 'tpc12',\n",
              "       'tpc46', 'tpc317', 'tpc420', 'tpc273', 'tpc181', 'tpc140',\n",
              "       'tpc131', 'tpc159', 'tpc509', 'tpc279', 'tpc79', 'tpc447',\n",
              "       'tpc369', 'tpc69', 'tpc274', 'tpc443', 'tpc206', 'tpc118',\n",
              "       'tpc449', 'tpc422', 'tpc262', 'tpc347', 'tpc428', 'tpc103',\n",
              "       'tpc15', 'tpc373', 'tpc129', 'tpc450', 'tpc184', 'tpc200',\n",
              "       'tpc104', 'tpc506', 'tpc45', 'tpc287', 'tpc340', 'tpc8', 'tpc387',\n",
              "       'tpc476', 'tpc52', 'tpc295', 'tpc318', 'tpc11', 'tpc237', 'tpc39',\n",
              "       'tpc160', 'tpc75', 'tpc416', 'tpc248', 'tpc396', 'tpc494', 'tpc96',\n",
              "       'tpc245', 'tpc93', 'tpc327', 'tpc510', 'tpc453', 'tpc228',\n",
              "       'tpc166', 'tpc172', 'tpc432', 'tpc364', 'tpc126', 'tpc390',\n",
              "       'tpc411', 'tpc486', 'tpc277', 'tpc284', 'tpc463', 'tpc313',\n",
              "       'tpc492', 'tpc57', 'tpc154', 'tpc234', 'tpc105', 'tpc283',\n",
              "       'tpc406', 'tpc51', 'tpc112', 'tpc110', 'tpc408', 'tpc482',\n",
              "       'tpc394', 'tpc182', 'tpc90', 'tpc380', 'tpc190', 'tpc405', 'tpc5',\n",
              "       'tpc468', 'tpc26', 'tpc418', 'tpc444', 'tpc395', 'tpc95', 'tpc286',\n",
              "       'tpc424', 'tpc55', 'tpc319', 'tpc135', 'tpc230', 'tpc473',\n",
              "       'tpc342', 'tpc383', 'tpc409', 'tpc47', 'tpc32', 'tpc485', 'tpc372',\n",
              "       'tpc30', 'tpc42', 'tpc331', 'tpc174', 'tpc113', 'tpc148', 'tpc429',\n",
              "       'tpc21', 'tpc361', 'tpc349', 'tpc493', 'tpc334', 'tpc2', 'tpc97',\n",
              "       'tpc213', 'tpc33', 'tpc50', 'tpc259', 'tpc363', 'tpc155', 'tpc315',\n",
              "       'tpc176', 'tpc367', 'tpc294', 'tpc119', 'tpc388', 'tpc469',\n",
              "       'tpc183', 'tpc222', 'tpc255', 'tpc137', 'tpc77', 'tpc496',\n",
              "       'tpc270', 'tpc320', 'tpc207', 'tpc179', 'tpc64', 'tpc111',\n",
              "       'tpc208', 'tpc384', 'tpc264', 'tpc431', 'tpc238', 'tpc260',\n",
              "       'tpc122', 'tpc7', 'tpc336', 'tpc258', 'tpc167', 'tpc487', 'tpc124',\n",
              "       'tpc144', 'tpc456', 'tpc502', 'tpc242', 'tpc504', 'tpc417',\n",
              "       'tpc465', 'tpc511', 'tpc142', 'tpc141', 'tpc445', 'tpc195',\n",
              "       'tpc425', 'tpc436', 'tpc147', 'tpc423', 'tpc139', 'tpc282',\n",
              "       'tpc87', 'tpc178', 'tpc214', 'tpc343', 'tpc109', 'tpc495',\n",
              "       'tpc499', 'tpc188', 'tpc132', 'tpc358', 'tpc143', 'tpc253',\n",
              "       'tpc168', 'tpc14', 'tpc189', 'tpc68', 'tpc84', 'tpc152', 'tpc307',\n",
              "       'tpc196', 'tpc204', 'tpc19', 'tpc391', 'tpc263', 'tpc6', 'tpc437',\n",
              "       'tpc115', 'tpc76', 'tpc412', 'tpc374', 'tpc454', 'tpc459'],\n",
              "      dtype=object)"
            ]
          },
          "metadata": {},
          "execution_count": 63
        }
      ]
    },
    {
      "cell_type": "code",
      "source": [
        "df1 = X[trainingdf]\n",
        "df1"
      ],
      "metadata": {
        "colab": {
          "base_uri": "https://localhost:8080/",
          "height": 519
        },
        "id": "J7fSxv9vSYrB",
        "outputId": "08c7097f-85ab-4bdd-a729-14785b4956a4"
      },
      "execution_count": 64,
      "outputs": [
        {
          "output_type": "execute_result",
          "data": {
            "text/plain": [
              "             tpc235     tpc61    tpc323     tpc53     tpc31    tpc240  \\\n",
              "tpc0                                                                    \n",
              "-0.037980  0.010229 -0.076293 -0.010157 -0.014063  0.018845  0.025981   \n",
              "-0.046191  0.003465 -0.077782 -0.002217 -0.019568  0.013372  0.031366   \n",
              "-0.039378  0.016035 -0.078777 -0.001930 -0.013736  0.012382  0.027654   \n",
              "-0.037194  0.011590 -0.073037 -0.010125 -0.014139  0.021187  0.025382   \n",
              "-0.038799  0.016680 -0.074774 -0.009669 -0.010863  0.021918  0.027000   \n",
              "...             ...       ...       ...       ...       ...       ...   \n",
              "-0.035127  0.011628 -0.074539 -0.006155 -0.016529  0.013776  0.028797   \n",
              "-0.040461  0.008688 -0.075958 -0.001283 -0.016122  0.013885  0.028359   \n",
              "-0.040884  0.007752 -0.077944 -0.005706 -0.018159  0.013817  0.030587   \n",
              "-0.034488  0.011541 -0.074126 -0.007519 -0.019852  0.018725  0.030481   \n",
              "-0.033585  0.010728 -0.076822 -0.005319 -0.015191  0.013801  0.029825   \n",
              "\n",
              "             tpc203    tpc389    tpc371    tpc293  ...    tpc391    tpc263  \\\n",
              "tpc0                                               ...                       \n",
              "-0.037980 -0.019028  0.022855  0.018263 -0.042536  ...  0.004152  0.011371   \n",
              "-0.046191 -0.009494  0.022529  0.024720 -0.045497  ... -0.000296  0.007013   \n",
              "-0.039378 -0.018427  0.021625  0.018813 -0.041178  ...  0.002768  0.002410   \n",
              "-0.037194 -0.021501  0.026131  0.019471 -0.042357  ...  0.005931  0.010582   \n",
              "-0.038799 -0.027026  0.029476  0.019992 -0.050443  ...  0.006267  0.012938   \n",
              "...             ...       ...       ...       ...  ...       ...       ...   \n",
              "-0.035127 -0.016743  0.023555  0.019926 -0.041124  ...  0.003824  0.009079   \n",
              "-0.040461 -0.010707  0.020493  0.025008 -0.043458  ...  0.000345  0.006171   \n",
              "-0.040884 -0.011606  0.024130  0.022553 -0.044897  ...  0.004973  0.008018   \n",
              "-0.034488 -0.019241  0.024588  0.021803 -0.043684  ...  0.007460  0.007447   \n",
              "-0.033585 -0.013191  0.020625  0.019160 -0.042093  ...  0.003957  0.007711   \n",
              "\n",
              "               tpc6    tpc437    tpc115     tpc76    tpc412    tpc374  \\\n",
              "tpc0                                                                    \n",
              "-0.037980  0.054797 -0.009110  0.030380  0.048856 -0.049474 -0.024920   \n",
              "-0.046191  0.039459 -0.015426  0.038641  0.053767 -0.052571 -0.025612   \n",
              "-0.039378  0.048534 -0.008837  0.024834  0.038928 -0.053501 -0.023216   \n",
              "-0.037194  0.051199 -0.008980  0.028575  0.051149 -0.050962 -0.024979   \n",
              "-0.038799  0.053610 -0.005011  0.020714  0.043752 -0.054315 -0.022873   \n",
              "...             ...       ...       ...       ...       ...       ...   \n",
              "-0.035127  0.044721 -0.007578  0.025482  0.046643 -0.048871 -0.021232   \n",
              "-0.040461  0.041946 -0.014679  0.030118  0.054564 -0.052795 -0.020678   \n",
              "-0.040884  0.044535 -0.009816  0.033380  0.049011 -0.050984 -0.025727   \n",
              "-0.034488  0.051656 -0.007410  0.029804  0.050174 -0.051898 -0.022251   \n",
              "-0.033585  0.049788 -0.009107  0.029033  0.046906 -0.051289 -0.021808   \n",
              "\n",
              "             tpc454    tpc459  \n",
              "tpc0                           \n",
              "-0.037980 -0.028861  0.040130  \n",
              "-0.046191 -0.023358  0.037036  \n",
              "-0.039378 -0.027784  0.049514  \n",
              "-0.037194 -0.028587  0.037690  \n",
              "-0.038799 -0.034253  0.046323  \n",
              "...             ...       ...  \n",
              "-0.035127 -0.024121  0.044888  \n",
              "-0.040461 -0.022488  0.039031  \n",
              "-0.040884 -0.025420  0.039912  \n",
              "-0.034488 -0.025690  0.042333  \n",
              "-0.033585 -0.026978  0.041991  \n",
              "\n",
              "[2104 rows x 300 columns]"
            ],
            "text/html": [
              "\n",
              "  <div id=\"df-d83016b2-e8aa-4450-97c2-c37332c78595\">\n",
              "    <div class=\"colab-df-container\">\n",
              "      <div>\n",
              "<style scoped>\n",
              "    .dataframe tbody tr th:only-of-type {\n",
              "        vertical-align: middle;\n",
              "    }\n",
              "\n",
              "    .dataframe tbody tr th {\n",
              "        vertical-align: top;\n",
              "    }\n",
              "\n",
              "    .dataframe thead th {\n",
              "        text-align: right;\n",
              "    }\n",
              "</style>\n",
              "<table border=\"1\" class=\"dataframe\">\n",
              "  <thead>\n",
              "    <tr style=\"text-align: right;\">\n",
              "      <th></th>\n",
              "      <th>tpc235</th>\n",
              "      <th>tpc61</th>\n",
              "      <th>tpc323</th>\n",
              "      <th>tpc53</th>\n",
              "      <th>tpc31</th>\n",
              "      <th>tpc240</th>\n",
              "      <th>tpc203</th>\n",
              "      <th>tpc389</th>\n",
              "      <th>tpc371</th>\n",
              "      <th>tpc293</th>\n",
              "      <th>...</th>\n",
              "      <th>tpc391</th>\n",
              "      <th>tpc263</th>\n",
              "      <th>tpc6</th>\n",
              "      <th>tpc437</th>\n",
              "      <th>tpc115</th>\n",
              "      <th>tpc76</th>\n",
              "      <th>tpc412</th>\n",
              "      <th>tpc374</th>\n",
              "      <th>tpc454</th>\n",
              "      <th>tpc459</th>\n",
              "    </tr>\n",
              "    <tr>\n",
              "      <th>tpc0</th>\n",
              "      <th></th>\n",
              "      <th></th>\n",
              "      <th></th>\n",
              "      <th></th>\n",
              "      <th></th>\n",
              "      <th></th>\n",
              "      <th></th>\n",
              "      <th></th>\n",
              "      <th></th>\n",
              "      <th></th>\n",
              "      <th></th>\n",
              "      <th></th>\n",
              "      <th></th>\n",
              "      <th></th>\n",
              "      <th></th>\n",
              "      <th></th>\n",
              "      <th></th>\n",
              "      <th></th>\n",
              "      <th></th>\n",
              "      <th></th>\n",
              "      <th></th>\n",
              "    </tr>\n",
              "  </thead>\n",
              "  <tbody>\n",
              "    <tr>\n",
              "      <th>-0.037980</th>\n",
              "      <td>0.010229</td>\n",
              "      <td>-0.076293</td>\n",
              "      <td>-0.010157</td>\n",
              "      <td>-0.014063</td>\n",
              "      <td>0.018845</td>\n",
              "      <td>0.025981</td>\n",
              "      <td>-0.019028</td>\n",
              "      <td>0.022855</td>\n",
              "      <td>0.018263</td>\n",
              "      <td>-0.042536</td>\n",
              "      <td>...</td>\n",
              "      <td>0.004152</td>\n",
              "      <td>0.011371</td>\n",
              "      <td>0.054797</td>\n",
              "      <td>-0.009110</td>\n",
              "      <td>0.030380</td>\n",
              "      <td>0.048856</td>\n",
              "      <td>-0.049474</td>\n",
              "      <td>-0.024920</td>\n",
              "      <td>-0.028861</td>\n",
              "      <td>0.040130</td>\n",
              "    </tr>\n",
              "    <tr>\n",
              "      <th>-0.046191</th>\n",
              "      <td>0.003465</td>\n",
              "      <td>-0.077782</td>\n",
              "      <td>-0.002217</td>\n",
              "      <td>-0.019568</td>\n",
              "      <td>0.013372</td>\n",
              "      <td>0.031366</td>\n",
              "      <td>-0.009494</td>\n",
              "      <td>0.022529</td>\n",
              "      <td>0.024720</td>\n",
              "      <td>-0.045497</td>\n",
              "      <td>...</td>\n",
              "      <td>-0.000296</td>\n",
              "      <td>0.007013</td>\n",
              "      <td>0.039459</td>\n",
              "      <td>-0.015426</td>\n",
              "      <td>0.038641</td>\n",
              "      <td>0.053767</td>\n",
              "      <td>-0.052571</td>\n",
              "      <td>-0.025612</td>\n",
              "      <td>-0.023358</td>\n",
              "      <td>0.037036</td>\n",
              "    </tr>\n",
              "    <tr>\n",
              "      <th>-0.039378</th>\n",
              "      <td>0.016035</td>\n",
              "      <td>-0.078777</td>\n",
              "      <td>-0.001930</td>\n",
              "      <td>-0.013736</td>\n",
              "      <td>0.012382</td>\n",
              "      <td>0.027654</td>\n",
              "      <td>-0.018427</td>\n",
              "      <td>0.021625</td>\n",
              "      <td>0.018813</td>\n",
              "      <td>-0.041178</td>\n",
              "      <td>...</td>\n",
              "      <td>0.002768</td>\n",
              "      <td>0.002410</td>\n",
              "      <td>0.048534</td>\n",
              "      <td>-0.008837</td>\n",
              "      <td>0.024834</td>\n",
              "      <td>0.038928</td>\n",
              "      <td>-0.053501</td>\n",
              "      <td>-0.023216</td>\n",
              "      <td>-0.027784</td>\n",
              "      <td>0.049514</td>\n",
              "    </tr>\n",
              "    <tr>\n",
              "      <th>-0.037194</th>\n",
              "      <td>0.011590</td>\n",
              "      <td>-0.073037</td>\n",
              "      <td>-0.010125</td>\n",
              "      <td>-0.014139</td>\n",
              "      <td>0.021187</td>\n",
              "      <td>0.025382</td>\n",
              "      <td>-0.021501</td>\n",
              "      <td>0.026131</td>\n",
              "      <td>0.019471</td>\n",
              "      <td>-0.042357</td>\n",
              "      <td>...</td>\n",
              "      <td>0.005931</td>\n",
              "      <td>0.010582</td>\n",
              "      <td>0.051199</td>\n",
              "      <td>-0.008980</td>\n",
              "      <td>0.028575</td>\n",
              "      <td>0.051149</td>\n",
              "      <td>-0.050962</td>\n",
              "      <td>-0.024979</td>\n",
              "      <td>-0.028587</td>\n",
              "      <td>0.037690</td>\n",
              "    </tr>\n",
              "    <tr>\n",
              "      <th>-0.038799</th>\n",
              "      <td>0.016680</td>\n",
              "      <td>-0.074774</td>\n",
              "      <td>-0.009669</td>\n",
              "      <td>-0.010863</td>\n",
              "      <td>0.021918</td>\n",
              "      <td>0.027000</td>\n",
              "      <td>-0.027026</td>\n",
              "      <td>0.029476</td>\n",
              "      <td>0.019992</td>\n",
              "      <td>-0.050443</td>\n",
              "      <td>...</td>\n",
              "      <td>0.006267</td>\n",
              "      <td>0.012938</td>\n",
              "      <td>0.053610</td>\n",
              "      <td>-0.005011</td>\n",
              "      <td>0.020714</td>\n",
              "      <td>0.043752</td>\n",
              "      <td>-0.054315</td>\n",
              "      <td>-0.022873</td>\n",
              "      <td>-0.034253</td>\n",
              "      <td>0.046323</td>\n",
              "    </tr>\n",
              "    <tr>\n",
              "      <th>...</th>\n",
              "      <td>...</td>\n",
              "      <td>...</td>\n",
              "      <td>...</td>\n",
              "      <td>...</td>\n",
              "      <td>...</td>\n",
              "      <td>...</td>\n",
              "      <td>...</td>\n",
              "      <td>...</td>\n",
              "      <td>...</td>\n",
              "      <td>...</td>\n",
              "      <td>...</td>\n",
              "      <td>...</td>\n",
              "      <td>...</td>\n",
              "      <td>...</td>\n",
              "      <td>...</td>\n",
              "      <td>...</td>\n",
              "      <td>...</td>\n",
              "      <td>...</td>\n",
              "      <td>...</td>\n",
              "      <td>...</td>\n",
              "      <td>...</td>\n",
              "    </tr>\n",
              "    <tr>\n",
              "      <th>-0.035127</th>\n",
              "      <td>0.011628</td>\n",
              "      <td>-0.074539</td>\n",
              "      <td>-0.006155</td>\n",
              "      <td>-0.016529</td>\n",
              "      <td>0.013776</td>\n",
              "      <td>0.028797</td>\n",
              "      <td>-0.016743</td>\n",
              "      <td>0.023555</td>\n",
              "      <td>0.019926</td>\n",
              "      <td>-0.041124</td>\n",
              "      <td>...</td>\n",
              "      <td>0.003824</td>\n",
              "      <td>0.009079</td>\n",
              "      <td>0.044721</td>\n",
              "      <td>-0.007578</td>\n",
              "      <td>0.025482</td>\n",
              "      <td>0.046643</td>\n",
              "      <td>-0.048871</td>\n",
              "      <td>-0.021232</td>\n",
              "      <td>-0.024121</td>\n",
              "      <td>0.044888</td>\n",
              "    </tr>\n",
              "    <tr>\n",
              "      <th>-0.040461</th>\n",
              "      <td>0.008688</td>\n",
              "      <td>-0.075958</td>\n",
              "      <td>-0.001283</td>\n",
              "      <td>-0.016122</td>\n",
              "      <td>0.013885</td>\n",
              "      <td>0.028359</td>\n",
              "      <td>-0.010707</td>\n",
              "      <td>0.020493</td>\n",
              "      <td>0.025008</td>\n",
              "      <td>-0.043458</td>\n",
              "      <td>...</td>\n",
              "      <td>0.000345</td>\n",
              "      <td>0.006171</td>\n",
              "      <td>0.041946</td>\n",
              "      <td>-0.014679</td>\n",
              "      <td>0.030118</td>\n",
              "      <td>0.054564</td>\n",
              "      <td>-0.052795</td>\n",
              "      <td>-0.020678</td>\n",
              "      <td>-0.022488</td>\n",
              "      <td>0.039031</td>\n",
              "    </tr>\n",
              "    <tr>\n",
              "      <th>-0.040884</th>\n",
              "      <td>0.007752</td>\n",
              "      <td>-0.077944</td>\n",
              "      <td>-0.005706</td>\n",
              "      <td>-0.018159</td>\n",
              "      <td>0.013817</td>\n",
              "      <td>0.030587</td>\n",
              "      <td>-0.011606</td>\n",
              "      <td>0.024130</td>\n",
              "      <td>0.022553</td>\n",
              "      <td>-0.044897</td>\n",
              "      <td>...</td>\n",
              "      <td>0.004973</td>\n",
              "      <td>0.008018</td>\n",
              "      <td>0.044535</td>\n",
              "      <td>-0.009816</td>\n",
              "      <td>0.033380</td>\n",
              "      <td>0.049011</td>\n",
              "      <td>-0.050984</td>\n",
              "      <td>-0.025727</td>\n",
              "      <td>-0.025420</td>\n",
              "      <td>0.039912</td>\n",
              "    </tr>\n",
              "    <tr>\n",
              "      <th>-0.034488</th>\n",
              "      <td>0.011541</td>\n",
              "      <td>-0.074126</td>\n",
              "      <td>-0.007519</td>\n",
              "      <td>-0.019852</td>\n",
              "      <td>0.018725</td>\n",
              "      <td>0.030481</td>\n",
              "      <td>-0.019241</td>\n",
              "      <td>0.024588</td>\n",
              "      <td>0.021803</td>\n",
              "      <td>-0.043684</td>\n",
              "      <td>...</td>\n",
              "      <td>0.007460</td>\n",
              "      <td>0.007447</td>\n",
              "      <td>0.051656</td>\n",
              "      <td>-0.007410</td>\n",
              "      <td>0.029804</td>\n",
              "      <td>0.050174</td>\n",
              "      <td>-0.051898</td>\n",
              "      <td>-0.022251</td>\n",
              "      <td>-0.025690</td>\n",
              "      <td>0.042333</td>\n",
              "    </tr>\n",
              "    <tr>\n",
              "      <th>-0.033585</th>\n",
              "      <td>0.010728</td>\n",
              "      <td>-0.076822</td>\n",
              "      <td>-0.005319</td>\n",
              "      <td>-0.015191</td>\n",
              "      <td>0.013801</td>\n",
              "      <td>0.029825</td>\n",
              "      <td>-0.013191</td>\n",
              "      <td>0.020625</td>\n",
              "      <td>0.019160</td>\n",
              "      <td>-0.042093</td>\n",
              "      <td>...</td>\n",
              "      <td>0.003957</td>\n",
              "      <td>0.007711</td>\n",
              "      <td>0.049788</td>\n",
              "      <td>-0.009107</td>\n",
              "      <td>0.029033</td>\n",
              "      <td>0.046906</td>\n",
              "      <td>-0.051289</td>\n",
              "      <td>-0.021808</td>\n",
              "      <td>-0.026978</td>\n",
              "      <td>0.041991</td>\n",
              "    </tr>\n",
              "  </tbody>\n",
              "</table>\n",
              "<p>2104 rows × 300 columns</p>\n",
              "</div>\n",
              "      <button class=\"colab-df-convert\" onclick=\"convertToInteractive('df-d83016b2-e8aa-4450-97c2-c37332c78595')\"\n",
              "              title=\"Convert this dataframe to an interactive table.\"\n",
              "              style=\"display:none;\">\n",
              "        \n",
              "  <svg xmlns=\"http://www.w3.org/2000/svg\" height=\"24px\"viewBox=\"0 0 24 24\"\n",
              "       width=\"24px\">\n",
              "    <path d=\"M0 0h24v24H0V0z\" fill=\"none\"/>\n",
              "    <path d=\"M18.56 5.44l.94 2.06.94-2.06 2.06-.94-2.06-.94-.94-2.06-.94 2.06-2.06.94zm-11 1L8.5 8.5l.94-2.06 2.06-.94-2.06-.94L8.5 2.5l-.94 2.06-2.06.94zm10 10l.94 2.06.94-2.06 2.06-.94-2.06-.94-.94-2.06-.94 2.06-2.06.94z\"/><path d=\"M17.41 7.96l-1.37-1.37c-.4-.4-.92-.59-1.43-.59-.52 0-1.04.2-1.43.59L10.3 9.45l-7.72 7.72c-.78.78-.78 2.05 0 2.83L4 21.41c.39.39.9.59 1.41.59.51 0 1.02-.2 1.41-.59l7.78-7.78 2.81-2.81c.8-.78.8-2.07 0-2.86zM5.41 20L4 18.59l7.72-7.72 1.47 1.35L5.41 20z\"/>\n",
              "  </svg>\n",
              "      </button>\n",
              "      \n",
              "  <style>\n",
              "    .colab-df-container {\n",
              "      display:flex;\n",
              "      flex-wrap:wrap;\n",
              "      gap: 12px;\n",
              "    }\n",
              "\n",
              "    .colab-df-convert {\n",
              "      background-color: #E8F0FE;\n",
              "      border: none;\n",
              "      border-radius: 50%;\n",
              "      cursor: pointer;\n",
              "      display: none;\n",
              "      fill: #1967D2;\n",
              "      height: 32px;\n",
              "      padding: 0 0 0 0;\n",
              "      width: 32px;\n",
              "    }\n",
              "\n",
              "    .colab-df-convert:hover {\n",
              "      background-color: #E2EBFA;\n",
              "      box-shadow: 0px 1px 2px rgba(60, 64, 67, 0.3), 0px 1px 3px 1px rgba(60, 64, 67, 0.15);\n",
              "      fill: #174EA6;\n",
              "    }\n",
              "\n",
              "    [theme=dark] .colab-df-convert {\n",
              "      background-color: #3B4455;\n",
              "      fill: #D2E3FC;\n",
              "    }\n",
              "\n",
              "    [theme=dark] .colab-df-convert:hover {\n",
              "      background-color: #434B5C;\n",
              "      box-shadow: 0px 1px 3px 1px rgba(0, 0, 0, 0.15);\n",
              "      filter: drop-shadow(0px 1px 2px rgba(0, 0, 0, 0.3));\n",
              "      fill: #FFFFFF;\n",
              "    }\n",
              "  </style>\n",
              "\n",
              "      <script>\n",
              "        const buttonEl =\n",
              "          document.querySelector('#df-d83016b2-e8aa-4450-97c2-c37332c78595 button.colab-df-convert');\n",
              "        buttonEl.style.display =\n",
              "          google.colab.kernel.accessAllowed ? 'block' : 'none';\n",
              "\n",
              "        async function convertToInteractive(key) {\n",
              "          const element = document.querySelector('#df-d83016b2-e8aa-4450-97c2-c37332c78595');\n",
              "          const dataTable =\n",
              "            await google.colab.kernel.invokeFunction('convertToInteractive',\n",
              "                                                     [key], {});\n",
              "          if (!dataTable) return;\n",
              "\n",
              "          const docLinkHtml = 'Like what you see? Visit the ' +\n",
              "            '<a target=\"_blank\" href=https://colab.research.google.com/notebooks/data_table.ipynb>data table notebook</a>'\n",
              "            + ' to learn more about interactive tables.';\n",
              "          element.innerHTML = '';\n",
              "          dataTable['output_type'] = 'display_data';\n",
              "          await google.colab.output.renderOutput(dataTable, element);\n",
              "          const docLink = document.createElement('div');\n",
              "          docLink.innerHTML = docLinkHtml;\n",
              "          element.appendChild(docLink);\n",
              "        }\n",
              "      </script>\n",
              "    </div>\n",
              "  </div>\n",
              "  "
            ]
          },
          "metadata": {},
          "execution_count": 64
        }
      ]
    },
    {
      "cell_type": "code",
      "source": [
        "X = df1\n",
        "y = y"
      ],
      "metadata": {
        "id": "Q1xrtHHjScvh"
      },
      "execution_count": 65,
      "outputs": []
    },
    {
      "cell_type": "code",
      "source": [
        "count_classes = pd.value_counts(y, sort = True)\n",
        "\n",
        "count_classes.plot(kind = 'bar', rot=0)\n",
        "\n",
        "plt.title(\"Class Distribution\")\n",
        "\n",
        "LABELS = [\"Zero\", \"One\"]\n",
        "\n",
        "plt.xticks(range(2), LABELS)\n",
        "\n",
        "plt.xlabel(\"Class\")\n",
        "\n",
        "plt.ylabel(\"Frequency\")"
      ],
      "metadata": {
        "colab": {
          "base_uri": "https://localhost:8080/",
          "height": 312
        },
        "id": "HVENmRKgSh2Y",
        "outputId": "b6ed8d17-9b8d-45ba-d25a-d6df3cdbbc02"
      },
      "execution_count": 66,
      "outputs": [
        {
          "output_type": "execute_result",
          "data": {
            "text/plain": [
              "Text(0, 0.5, 'Frequency')"
            ]
          },
          "metadata": {},
          "execution_count": 66
        },
        {
          "output_type": "display_data",
          "data": {
            "text/plain": [
              "<Figure size 432x288 with 1 Axes>"
            ],
            "image/png": "[encoded data removed]"
          },
          "metadata": {
            "needs_background": "light"
          }
        }
      ]
    },
    {
      "cell_type": "code",
      "source": [
        "One = df[y==1]\n",
        "\n",
        "Zero = df[y==0]\n",
        "\n",
        "print(Zero.shape,One.shape)"
      ],
      "metadata": {
        "colab": {
          "base_uri": "https://localhost:8080/"
        },
        "id": "43KIq8HLSmT3",
        "outputId": "5eec4ec7-b48e-402b-fd6e-4878129ec1ec"
      },
      "execution_count": 67,
      "outputs": [
        {
          "output_type": "stream",
          "name": "stdout",
          "text": [
            "(1041, 512) (1063, 512)\n"
          ]
        }
      ]
    },
    {
      "cell_type": "code",
      "source": [
        "from imblearn.over_sampling import SMOTE\n",
        "sm = SMOTE(sampling_strategy='minority')\n",
        "X_res,y_res=sm.fit_resample(X,y)"
      ],
      "metadata": {
        "id": "Cx-vg2OLSqCL"
      },
      "execution_count": 68,
      "outputs": []
    },
    {
      "cell_type": "code",
      "source": [
        "print(X_res.shape)\n",
        "print(y_res.shape)"
      ],
      "metadata": {
        "colab": {
          "base_uri": "https://localhost:8080/"
        },
        "id": "NQc2yGIkStn6",
        "outputId": "abf4b4f6-3b30-4319-cfd1-71894b8e0809"
      },
      "execution_count": 69,
      "outputs": [
        {
          "output_type": "stream",
          "name": "stdout",
          "text": [
            "(2126, 300)\n",
            "(2126,)\n"
          ]
        }
      ]
    },
    {
      "cell_type": "code",
      "source": [
        "#Split data into independent (X) and dependent(Y) columns\n",
        "\n",
        "y = y_res\n",
        "X = X_res"
      ],
      "metadata": {
        "id": "xJhFvguNSv84"
      },
      "execution_count": 70,
      "outputs": []
    },
    {
      "cell_type": "code",
      "source": [
        "from sklearn.model_selection import train_test_split\n",
        "X_train, X_test, y_train, y_test = train_test_split(X, y, test_size = 0.20, random_state = 50)"
      ],
      "metadata": {
        "id": "Y6begU3wSzko"
      },
      "execution_count": 71,
      "outputs": []
    },
    {
      "cell_type": "code",
      "source": [
        "print(X_train.shape)\n",
        "print(X_test.shape)"
      ],
      "metadata": {
        "colab": {
          "base_uri": "https://localhost:8080/"
        },
        "id": "rzLoT1UBS2YT",
        "outputId": "34e3e52e-dc18-47ca-fc65-734061e97e65"
      },
      "execution_count": 72,
      "outputs": [
        {
          "output_type": "stream",
          "name": "stdout",
          "text": [
            "(1700, 300)\n",
            "(426, 300)\n"
          ]
        }
      ]
    },
    {
      "cell_type": "code",
      "source": [
        "scaler = StandardScaler()\n",
        "X_train = scaler.fit_transform(X_train)\n",
        "X_test = scaler.transform(X_test)"
      ],
      "metadata": {
        "id": "0WBjGJqhS6cS"
      },
      "execution_count": 73,
      "outputs": []
    },
    {
      "cell_type": "code",
      "source": [
        "X_train = X_train.reshape(1700, 300,1)\n",
        "X_test = X_test.reshape(426, 300, 1)"
      ],
      "metadata": {
        "id": "Fu0L1zUTS8lf"
      },
      "execution_count": 74,
      "outputs": []
    },
    {
      "cell_type": "code",
      "source": [
        "epochs =40\n",
        "model = Sequential()\n",
        "model.add(Conv1D(filters=32, kernel_size=4, activation='relu', input_shape = (300,1))) ##1st conv layer\n",
        "model.add(BatchNormalization())\n",
        "#model.add(Dropout(0.2))\n",
        "\n",
        "model.add(Conv1D(filters=64, kernel_size=4, activation='relu'))  #2nd Conv layer\n",
        "model.add(BatchNormalization())\n",
        "#model.add(Dropout(0.3))\n",
        "\n",
        "model.add(Flatten())    #Flattening\n",
        "model.add(Dense(64, activation='relu'))  ##fully connected layer\n",
        "model.add(Dropout(0.3))\n",
        "\n",
        "model.add(Dense(1, activation='sigmoid'))   #output layer"
      ],
      "metadata": {
        "id": "v4zaRh0ATDeD"
      },
      "execution_count": 75,
      "outputs": []
    },
    {
      "cell_type": "code",
      "source": [
        "model.compile(optimizer=Adam(learning_rate=0.00001), loss = 'binary_crossentropy', metrics=['accuracy'])\n",
        "\n",
        "history = model.fit(X_train, y_train, epochs=epochs, batch_size=32,validation_data=(X_test, y_test), verbose=1)"
      ],
      "metadata": {
        "colab": {
          "base_uri": "https://localhost:8080/"
        },
        "id": "avGl8bQ7TJr9",
        "outputId": "cd4905b0-32eb-439a-a145-19df781e751e"
      },
      "execution_count": 76,
      "outputs": [
        {
          "output_type": "stream",
          "name": "stdout",
          "text": [
            "Epoch 1/40\n",
            "54/54 [==============================] - 4s 26ms/step - loss: 0.8167 - accuracy: 0.5641 - val_loss: 0.6729 - val_accuracy: 0.6197\n",
            "Epoch 2/40\n",
            "54/54 [==============================] - 1s 18ms/step - loss: 0.6962 - accuracy: 0.6341 - val_loss: 0.6570 - val_accuracy: 0.6455\n",
            "Epoch 3/40\n",
            "54/54 [==============================] - 1s 16ms/step - loss: 0.6346 - accuracy: 0.6635 - val_loss: 0.6364 - val_accuracy: 0.6667\n",
            "Epoch 4/40\n",
            "54/54 [==============================] - 1s 16ms/step - loss: 0.5786 - accuracy: 0.7082 - val_loss: 0.6187 - val_accuracy: 0.6878\n",
            "Epoch 5/40\n",
            "54/54 [==============================] - 1s 16ms/step - loss: 0.5311 - accuracy: 0.7382 - val_loss: 0.6043 - val_accuracy: 0.6784\n",
            "Epoch 6/40\n",
            "54/54 [==============================] - 1s 16ms/step - loss: 0.5012 - accuracy: 0.7459 - val_loss: 0.5975 - val_accuracy: 0.6667\n",
            "Epoch 7/40\n",
            "54/54 [==============================] - 1s 15ms/step - loss: 0.4828 - accuracy: 0.7665 - val_loss: 0.5920 - val_accuracy: 0.6878\n",
            "Epoch 8/40\n",
            "54/54 [==============================] - 1s 16ms/step - loss: 0.4446 - accuracy: 0.7900 - val_loss: 0.5908 - val_accuracy: 0.6901\n",
            "Epoch 9/40\n",
            "54/54 [==============================] - 1s 22ms/step - loss: 0.4358 - accuracy: 0.7918 - val_loss: 0.5972 - val_accuracy: 0.7042\n",
            "Epoch 10/40\n",
            "54/54 [==============================] - 1s 12ms/step - loss: 0.4141 - accuracy: 0.8071 - val_loss: 0.5935 - val_accuracy: 0.7019\n",
            "Epoch 11/40\n",
            "54/54 [==============================] - 1s 12ms/step - loss: 0.4003 - accuracy: 0.8265 - val_loss: 0.5974 - val_accuracy: 0.7160\n",
            "Epoch 12/40\n",
            "54/54 [==============================] - 1s 12ms/step - loss: 0.3818 - accuracy: 0.8347 - val_loss: 0.6044 - val_accuracy: 0.7089\n",
            "Epoch 13/40\n",
            "54/54 [==============================] - 1s 11ms/step - loss: 0.3469 - accuracy: 0.8559 - val_loss: 0.6045 - val_accuracy: 0.6948\n",
            "Epoch 14/40\n",
            "54/54 [==============================] - 1s 11ms/step - loss: 0.3392 - accuracy: 0.8671 - val_loss: 0.6100 - val_accuracy: 0.7019\n",
            "Epoch 15/40\n",
            "54/54 [==============================] - 1s 11ms/step - loss: 0.3434 - accuracy: 0.8582 - val_loss: 0.6118 - val_accuracy: 0.7089\n",
            "Epoch 16/40\n",
            "54/54 [==============================] - 1s 11ms/step - loss: 0.3180 - accuracy: 0.8882 - val_loss: 0.6145 - val_accuracy: 0.6972\n",
            "Epoch 17/40\n",
            "54/54 [==============================] - 1s 11ms/step - loss: 0.3101 - accuracy: 0.8806 - val_loss: 0.6120 - val_accuracy: 0.7042\n",
            "Epoch 18/40\n",
            "54/54 [==============================] - 1s 11ms/step - loss: 0.2910 - accuracy: 0.8976 - val_loss: 0.6122 - val_accuracy: 0.7136\n",
            "Epoch 19/40\n",
            "54/54 [==============================] - 1s 11ms/step - loss: 0.2805 - accuracy: 0.9129 - val_loss: 0.6122 - val_accuracy: 0.7136\n",
            "Epoch 20/40\n",
            "54/54 [==============================] - 1s 11ms/step - loss: 0.2701 - accuracy: 0.9159 - val_loss: 0.6139 - val_accuracy: 0.7113\n",
            "Epoch 21/40\n",
            "54/54 [==============================] - 1s 11ms/step - loss: 0.2587 - accuracy: 0.9271 - val_loss: 0.6196 - val_accuracy: 0.6995\n",
            "Epoch 22/40\n",
            "54/54 [==============================] - 1s 11ms/step - loss: 0.2527 - accuracy: 0.9212 - val_loss: 0.6146 - val_accuracy: 0.7113\n",
            "Epoch 23/40\n",
            "54/54 [==============================] - 1s 11ms/step - loss: 0.2449 - accuracy: 0.9306 - val_loss: 0.6213 - val_accuracy: 0.7113\n",
            "Epoch 24/40\n",
            "54/54 [==============================] - 1s 11ms/step - loss: 0.2397 - accuracy: 0.9282 - val_loss: 0.6187 - val_accuracy: 0.7066\n",
            "Epoch 25/40\n",
            "54/54 [==============================] - 1s 11ms/step - loss: 0.2363 - accuracy: 0.9300 - val_loss: 0.6195 - val_accuracy: 0.7089\n",
            "Epoch 26/40\n",
            "54/54 [==============================] - 1s 11ms/step - loss: 0.2201 - accuracy: 0.9500 - val_loss: 0.6212 - val_accuracy: 0.7113\n",
            "Epoch 27/40\n",
            "54/54 [==============================] - 1s 12ms/step - loss: 0.2276 - accuracy: 0.9282 - val_loss: 0.6228 - val_accuracy: 0.7042\n",
            "Epoch 28/40\n",
            "54/54 [==============================] - 1s 11ms/step - loss: 0.2059 - accuracy: 0.9506 - val_loss: 0.6227 - val_accuracy: 0.7089\n",
            "Epoch 29/40\n",
            "54/54 [==============================] - 1s 11ms/step - loss: 0.2027 - accuracy: 0.9512 - val_loss: 0.6175 - val_accuracy: 0.7066\n",
            "Epoch 30/40\n",
            "54/54 [==============================] - 1s 11ms/step - loss: 0.1983 - accuracy: 0.9494 - val_loss: 0.6199 - val_accuracy: 0.7136\n",
            "Epoch 31/40\n",
            "54/54 [==============================] - 1s 11ms/step - loss: 0.1879 - accuracy: 0.9594 - val_loss: 0.6240 - val_accuracy: 0.7160\n",
            "Epoch 32/40\n",
            "54/54 [==============================] - 1s 11ms/step - loss: 0.1793 - accuracy: 0.9665 - val_loss: 0.6237 - val_accuracy: 0.7066\n",
            "Epoch 33/40\n",
            "54/54 [==============================] - 1s 11ms/step - loss: 0.1819 - accuracy: 0.9588 - val_loss: 0.6256 - val_accuracy: 0.7136\n",
            "Epoch 34/40\n",
            "54/54 [==============================] - 1s 11ms/step - loss: 0.1754 - accuracy: 0.9624 - val_loss: 0.6229 - val_accuracy: 0.7136\n",
            "Epoch 35/40\n",
            "54/54 [==============================] - 1s 11ms/step - loss: 0.1705 - accuracy: 0.9682 - val_loss: 0.6240 - val_accuracy: 0.7207\n",
            "Epoch 36/40\n",
            "54/54 [==============================] - 1s 11ms/step - loss: 0.1745 - accuracy: 0.9606 - val_loss: 0.6258 - val_accuracy: 0.7160\n",
            "Epoch 37/40\n",
            "54/54 [==============================] - 1s 12ms/step - loss: 0.1653 - accuracy: 0.9700 - val_loss: 0.6319 - val_accuracy: 0.7042\n",
            "Epoch 38/40\n",
            "54/54 [==============================] - 1s 11ms/step - loss: 0.1556 - accuracy: 0.9671 - val_loss: 0.6320 - val_accuracy: 0.7089\n",
            "Epoch 39/40\n",
            "54/54 [==============================] - 1s 11ms/step - loss: 0.1552 - accuracy: 0.9712 - val_loss: 0.6347 - val_accuracy: 0.7089\n",
            "Epoch 40/40\n",
            "54/54 [==============================] - 1s 11ms/step - loss: 0.1455 - accuracy: 0.9771 - val_loss: 0.6304 - val_accuracy: 0.7066\n"
          ]
        }
      ]
    },
    {
      "cell_type": "code",
      "source": [
        "#y_pred = model.predict(X_train).ravel()\n",
        "from sklearn.metrics import roc_curve\n",
        "y_pred_cnn3 = model.predict(X_test).ravel()\n",
        "fpr_3, tpr_3, thresholds = roc_curve(y_test, y_pred_cnn3)\n",
        "from sklearn.metrics import auc\n",
        "auc_score3 = auc(fpr_3, tpr_3)\n",
        "auc_score3"
      ],
      "metadata": {
        "colab": {
          "base_uri": "https://localhost:8080/"
        },
        "id": "UhJMPsQ5TN8p",
        "outputId": "7088636b-7ddc-4b81-b0d1-84d0ee236edc"
      },
      "execution_count": 77,
      "outputs": [
        {
          "output_type": "execute_result",
          "data": {
            "text/plain": [
              "0.7837873783610045"
            ]
          },
          "metadata": {},
          "execution_count": 77
        }
      ]
    },
    {
      "cell_type": "code",
      "source": [
        "from sklearn.metrics import average_precision_score, precision_recall_curve\n",
        "y_pred_cnn3 = model.predict(X_test).ravel()\n",
        "precision_3, recall_3, thresholds = precision_recall_curve(y_test, y_pred_cnn3)\n",
        "aupr_score3 = auc(recall_3, precision_3)\n",
        "print(aupr_score3)"
      ],
      "metadata": {
        "colab": {
          "base_uri": "https://localhost:8080/"
        },
        "id": "xswK6Aun0WHZ",
        "outputId": "60d791f1-0c91-4e05-b9d8-9842ff66f827"
      },
      "execution_count": 78,
      "outputs": [
        {
          "output_type": "stream",
          "name": "stdout",
          "text": [
            "0.7768992636765473\n"
          ]
        }
      ]
    },
    {
      "cell_type": "markdown",
      "source": [
        "## 4.Glove+FastText"
      ],
      "metadata": {
        "id": "HsnREG4fUARc"
      }
    },
    {
      "cell_type": "code",
      "source": [
        "import pandas as pd\n",
        "from pandas import read_excel\n",
        "file_name = '/content/gdrive/MyDrive/fasttext+Glove_allghor.csv'\n",
        "# Glove3decimal.csv\n",
        "# Gloveallghor.csv \n",
        "#df = pd.read_csv(file_name, index_col=0)\n",
        "df = pd.read_csv(file_name)\n",
        "print(df.head()) # print the first 5 rows"
      ],
      "metadata": {
        "colab": {
          "base_uri": "https://localhost:8080/"
        },
        "id": "lI-VbDPqTV7h",
        "outputId": "06138208-ef7c-4600-bd99-7c45b8622657"
      },
      "execution_count": 79,
      "outputs": [
        {
          "output_type": "stream",
          "name": "stdout",
          "text": [
            "       tpc0      tpc1      tpc2      tpc3      tpc4      tpc5      tpc6  \\\n",
            "0 -0.045342 -0.119586  0.006219 -0.088131  0.107532  0.033074 -0.006158   \n",
            "1 -0.035070 -0.122000  0.005920 -0.095999  0.114729  0.036265 -0.007036   \n",
            "2 -0.046473 -0.130959  0.012476 -0.091737  0.110245  0.033604 -0.001858   \n",
            "3 -0.048181 -0.113189 -0.000034 -0.076156  0.108456  0.039504 -0.002577   \n",
            "4 -0.053381 -0.134055  0.009311 -0.087240  0.109450  0.019906 -0.003768   \n",
            "\n",
            "       tpc7      tpc8      tpc9  ...   PSSM504   PSSM505   PSSM506   PSSM507  \\\n",
            "0 -0.049008 -0.041383 -0.035325  ...  0.034153 -0.028236  0.067696 -0.096331   \n",
            "1 -0.053136 -0.048028 -0.027183  ...  0.035826 -0.019969  0.041198 -0.089281   \n",
            "2 -0.046605 -0.042545 -0.005615  ...  0.027479 -0.015310  0.053065 -0.039859   \n",
            "3 -0.043908 -0.053065 -0.024547  ...  0.037971 -0.036039  0.087234 -0.085197   \n",
            "4 -0.045313 -0.037604 -0.012921  ...  0.012862 -0.017681  0.083901 -0.106877   \n",
            "\n",
            "    PSSM508   PSSM509   PSSM510   PSSM511   PSSM512  Target  \n",
            "0  0.025590  0.039283 -0.050542  0.122821 -0.076334       0  \n",
            "1  0.003722  0.021992 -0.056355  0.113405 -0.034552       1  \n",
            "2  0.043501  0.054468 -0.056376  0.150060 -0.062847       0  \n",
            "3  0.009901  0.028044 -0.068661  0.123129 -0.058323       0  \n",
            "4  0.073434  0.078891 -0.050987  0.136574 -0.083851       1  \n",
            "\n",
            "[5 rows x 1025 columns]\n"
          ]
        }
      ]
    },
    {
      "cell_type": "code",
      "source": [
        "features = np.array(df.columns[:-1])\n",
        "target = 'Target'\n",
        "\n",
        "X = df[features]\n",
        "y = df[target]"
      ],
      "metadata": {
        "id": "HL2PlmRJUIv8"
      },
      "execution_count": 80,
      "outputs": []
    },
    {
      "cell_type": "code",
      "source": [
        "X_train, X_test, y_train, y_test = train_test_split(X, y, test_size=0.10, random_state=100)"
      ],
      "metadata": {
        "id": "dAP9WXyHURew"
      },
      "execution_count": 81,
      "outputs": []
    },
    {
      "cell_type": "code",
      "source": [
        "def xgb_shap_values(X_train, y_train, X_test):\n",
        "\n",
        "    model = XGBClassifier()\n",
        "    model.fit(X_train, y_train)\n",
        "    explainer = shap.TreeExplainer(model, X_train)\n",
        "    shap_values_xgb = explainer.shap_values(X_test)\n",
        "    # shap.summary_plot(shap_values_xgb, X_test)\n",
        "    # shap.summary_plot(shap_values_xgb, X_test, plot_type ='bar')\n",
        "    # shap.dependence_plot(\"Age\", shap_values_xgb, X_test, interaction_index = 'rate Po2')\n",
        "    shap_sum = np.abs(shap_values_xgb).mean(axis=0)\n",
        "    importance_df = pd.DataFrame([features, shap_sum.tolist()]).T\n",
        "    importance_df.columns = ['Column Name', 'Shap Importance']\n",
        "    importance_df= importance_df.sort_values('Shap Importance', ascending = False)\n",
        "    return importance_df"
      ],
      "metadata": {
        "id": "4wCO2Ga8UVnh"
      },
      "execution_count": 82,
      "outputs": []
    },
    {
      "cell_type": "code",
      "source": [
        "selected_df = xgb_shap_values(X_train, y_train,  X_test)"
      ],
      "metadata": {
        "id": "zFeAYlPGUYLr"
      },
      "execution_count": 83,
      "outputs": []
    },
    {
      "cell_type": "code",
      "source": [
        "selected_df = selected_df[0:300]\n",
        "selected_df"
      ],
      "metadata": {
        "colab": {
          "base_uri": "https://localhost:8080/",
          "height": 424
        },
        "id": "Mpz2Ahq8UdFJ",
        "outputId": "1e7dd444-7217-49ba-a408-83ce7d5da581"
      },
      "execution_count": 84,
      "outputs": [
        {
          "output_type": "execute_result",
          "data": {
            "text/plain": [
              "    Column Name Shap Importance\n",
              "927     PSSM416        0.130554\n",
              "564      PSSM52         0.10725\n",
              "317      tpc317        0.103628\n",
              "160      tpc160        0.086484\n",
              "198      tpc198        0.084436\n",
              "..          ...             ...\n",
              "596      PSSM84        0.003163\n",
              "982     PSSM471        0.003141\n",
              "615     PSSM103        0.003098\n",
              "443      tpc443        0.002986\n",
              "992     PSSM481        0.002954\n",
              "\n",
              "[300 rows x 2 columns]"
            ],
            "text/html": [
              "\n",
              "  <div id=\"df-a8dd9363-8a6f-424d-97d0-130483def3e9\">\n",
              "    <div class=\"colab-df-container\">\n",
              "      <div>\n",
              "<style scoped>\n",
              "    .dataframe tbody tr th:only-of-type {\n",
              "        vertical-align: middle;\n",
              "    }\n",
              "\n",
              "    .dataframe tbody tr th {\n",
              "        vertical-align: top;\n",
              "    }\n",
              "\n",
              "    .dataframe thead th {\n",
              "        text-align: right;\n",
              "    }\n",
              "</style>\n",
              "<table border=\"1\" class=\"dataframe\">\n",
              "  <thead>\n",
              "    <tr style=\"text-align: right;\">\n",
              "      <th></th>\n",
              "      <th>Column Name</th>\n",
              "      <th>Shap Importance</th>\n",
              "    </tr>\n",
              "  </thead>\n",
              "  <tbody>\n",
              "    <tr>\n",
              "      <th>927</th>\n",
              "      <td>PSSM416</td>\n",
              "      <td>0.130554</td>\n",
              "    </tr>\n",
              "    <tr>\n",
              "      <th>564</th>\n",
              "      <td>PSSM52</td>\n",
              "      <td>0.10725</td>\n",
              "    </tr>\n",
              "    <tr>\n",
              "      <th>317</th>\n",
              "      <td>tpc317</td>\n",
              "      <td>0.103628</td>\n",
              "    </tr>\n",
              "    <tr>\n",
              "      <th>160</th>\n",
              "      <td>tpc160</td>\n",
              "      <td>0.086484</td>\n",
              "    </tr>\n",
              "    <tr>\n",
              "      <th>198</th>\n",
              "      <td>tpc198</td>\n",
              "      <td>0.084436</td>\n",
              "    </tr>\n",
              "    <tr>\n",
              "      <th>...</th>\n",
              "      <td>...</td>\n",
              "      <td>...</td>\n",
              "    </tr>\n",
              "    <tr>\n",
              "      <th>596</th>\n",
              "      <td>PSSM84</td>\n",
              "      <td>0.003163</td>\n",
              "    </tr>\n",
              "    <tr>\n",
              "      <th>982</th>\n",
              "      <td>PSSM471</td>\n",
              "      <td>0.003141</td>\n",
              "    </tr>\n",
              "    <tr>\n",
              "      <th>615</th>\n",
              "      <td>PSSM103</td>\n",
              "      <td>0.003098</td>\n",
              "    </tr>\n",
              "    <tr>\n",
              "      <th>443</th>\n",
              "      <td>tpc443</td>\n",
              "      <td>0.002986</td>\n",
              "    </tr>\n",
              "    <tr>\n",
              "      <th>992</th>\n",
              "      <td>PSSM481</td>\n",
              "      <td>0.002954</td>\n",
              "    </tr>\n",
              "  </tbody>\n",
              "</table>\n",
              "<p>300 rows × 2 columns</p>\n",
              "</div>\n",
              "      <button class=\"colab-df-convert\" onclick=\"convertToInteractive('df-a8dd9363-8a6f-424d-97d0-130483def3e9')\"\n",
              "              title=\"Convert this dataframe to an interactive table.\"\n",
              "              style=\"display:none;\">\n",
              "        \n",
              "  <svg xmlns=\"http://www.w3.org/2000/svg\" height=\"24px\"viewBox=\"0 0 24 24\"\n",
              "       width=\"24px\">\n",
              "    <path d=\"M0 0h24v24H0V0z\" fill=\"none\"/>\n",
              "    <path d=\"M18.56 5.44l.94 2.06.94-2.06 2.06-.94-2.06-.94-.94-2.06-.94 2.06-2.06.94zm-11 1L8.5 8.5l.94-2.06 2.06-.94-2.06-.94L8.5 2.5l-.94 2.06-2.06.94zm10 10l.94 2.06.94-2.06 2.06-.94-2.06-.94-.94-2.06-.94 2.06-2.06.94z\"/><path d=\"M17.41 7.96l-1.37-1.37c-.4-.4-.92-.59-1.43-.59-.52 0-1.04.2-1.43.59L10.3 9.45l-7.72 7.72c-.78.78-.78 2.05 0 2.83L4 21.41c.39.39.9.59 1.41.59.51 0 1.02-.2 1.41-.59l7.78-7.78 2.81-2.81c.8-.78.8-2.07 0-2.86zM5.41 20L4 18.59l7.72-7.72 1.47 1.35L5.41 20z\"/>\n",
              "  </svg>\n",
              "      </button>\n",
              "      \n",
              "  <style>\n",
              "    .colab-df-container {\n",
              "      display:flex;\n",
              "      flex-wrap:wrap;\n",
              "      gap: 12px;\n",
              "    }\n",
              "\n",
              "    .colab-df-convert {\n",
              "      background-color: #E8F0FE;\n",
              "      border: none;\n",
              "      border-radius: 50%;\n",
              "      cursor: pointer;\n",
              "      display: none;\n",
              "      fill: #1967D2;\n",
              "      height: 32px;\n",
              "      padding: 0 0 0 0;\n",
              "      width: 32px;\n",
              "    }\n",
              "\n",
              "    .colab-df-convert:hover {\n",
              "      background-color: #E2EBFA;\n",
              "      box-shadow: 0px 1px 2px rgba(60, 64, 67, 0.3), 0px 1px 3px 1px rgba(60, 64, 67, 0.15);\n",
              "      fill: #174EA6;\n",
              "    }\n",
              "\n",
              "    [theme=dark] .colab-df-convert {\n",
              "      background-color: #3B4455;\n",
              "      fill: #D2E3FC;\n",
              "    }\n",
              "\n",
              "    [theme=dark] .colab-df-convert:hover {\n",
              "      background-color: #434B5C;\n",
              "      box-shadow: 0px 1px 3px 1px rgba(0, 0, 0, 0.15);\n",
              "      filter: drop-shadow(0px 1px 2px rgba(0, 0, 0, 0.3));\n",
              "      fill: #FFFFFF;\n",
              "    }\n",
              "  </style>\n",
              "\n",
              "      <script>\n",
              "        const buttonEl =\n",
              "          document.querySelector('#df-a8dd9363-8a6f-424d-97d0-130483def3e9 button.colab-df-convert');\n",
              "        buttonEl.style.display =\n",
              "          google.colab.kernel.accessAllowed ? 'block' : 'none';\n",
              "\n",
              "        async function convertToInteractive(key) {\n",
              "          const element = document.querySelector('#df-a8dd9363-8a6f-424d-97d0-130483def3e9');\n",
              "          const dataTable =\n",
              "            await google.colab.kernel.invokeFunction('convertToInteractive',\n",
              "                                                     [key], {});\n",
              "          if (!dataTable) return;\n",
              "\n",
              "          const docLinkHtml = 'Like what you see? Visit the ' +\n",
              "            '<a target=\"_blank\" href=https://colab.research.google.com/notebooks/data_table.ipynb>data table notebook</a>'\n",
              "            + ' to learn more about interactive tables.';\n",
              "          element.innerHTML = '';\n",
              "          dataTable['output_type'] = 'display_data';\n",
              "          await google.colab.output.renderOutput(dataTable, element);\n",
              "          const docLink = document.createElement('div');\n",
              "          docLink.innerHTML = docLinkHtml;\n",
              "          element.appendChild(docLink);\n",
              "        }\n",
              "      </script>\n",
              "    </div>\n",
              "  </div>\n",
              "  "
            ]
          },
          "metadata": {},
          "execution_count": 84
        }
      ]
    },
    {
      "cell_type": "code",
      "source": [
        "cols = selected_df['Column Name']\n",
        "cols"
      ],
      "metadata": {
        "colab": {
          "base_uri": "https://localhost:8080/"
        },
        "id": "9JEoGnxBUg6q",
        "outputId": "f2ef351f-0866-4547-91fa-daa6f4e7aae2"
      },
      "execution_count": 85,
      "outputs": [
        {
          "output_type": "execute_result",
          "data": {
            "text/plain": [
              "927    PSSM416\n",
              "564     PSSM52\n",
              "317     tpc317\n",
              "160     tpc160\n",
              "198     tpc198\n",
              "        ...   \n",
              "596     PSSM84\n",
              "982    PSSM471\n",
              "615    PSSM103\n",
              "443     tpc443\n",
              "992    PSSM481\n",
              "Name: Column Name, Length: 300, dtype: object"
            ]
          },
          "metadata": {},
          "execution_count": 85
        }
      ]
    },
    {
      "cell_type": "code",
      "source": [
        "## converting df to numpy array/list\n",
        "trainingdf = np.array(cols)\n",
        "trainingdf"
      ],
      "metadata": {
        "colab": {
          "base_uri": "https://localhost:8080/"
        },
        "id": "1MEzJs-hUm0P",
        "outputId": "a2f595b8-394a-400d-fdb4-b6de1aef3820"
      },
      "execution_count": 86,
      "outputs": [
        {
          "output_type": "execute_result",
          "data": {
            "text/plain": [
              "array(['PSSM416', 'PSSM52', 'tpc317', 'tpc160', 'tpc198', 'tpc85',\n",
              "       'PSSM284', 'tpc484', 'tpc275', 'tpc401', 'PSSM309', 'tpc474',\n",
              "       'PSSM206', 'tpc297', 'tpc78', 'PSSM445', 'tpc386', 'tpc45',\n",
              "       'tpc168', 'tpc508', 'tpc171', 'PSSM221', 'tpc122', 'PSSM57',\n",
              "       'PSSM374', 'PSSM392', 'tpc336', 'PSSM75', 'tpc491', 'tpc114',\n",
              "       'tpc348', 'tpc87', 'tpc375', 'tpc200', 'PSSM14', 'PSSM267',\n",
              "       'tpc117', 'PSSM196', 'tpc483', 'PSSM355', 'tpc274', 'tpc330',\n",
              "       'tpc254', 'PSSM251', 'tpc309', 'PSSM477', 'PSSM21', 'tpc487',\n",
              "       'tpc471', 'PSSM337', 'tpc164', 'tpc36', 'PSSM342', 'PSSM434',\n",
              "       'tpc264', 'PSSM93', 'PSSM512', 'PSSM71', 'PSSM450', 'tpc118',\n",
              "       'tpc313', 'tpc26', 'PSSM242', 'tpc9', 'tpc290', 'tpc387',\n",
              "       'PSSM198', 'tpc485', 'tpc115', 'PSSM107', 'tpc415', 'tpc33',\n",
              "       'PSSM506', 'PSSM334', 'PSSM159', 'PSSM438', 'tpc511', 'PSSM122',\n",
              "       'PSSM278', 'tpc363', 'PSSM73', 'tpc493', 'tpc412', 'tpc161',\n",
              "       'PSSM306', 'PSSM298', 'PSSM266', 'PSSM326', 'tpc273', 'tpc278',\n",
              "       'tpc150', 'tpc54', 'PSSM341', 'tpc265', 'PSSM343', 'tpc327',\n",
              "       'tpc416', 'tpc156', 'tpc255', 'PSSM145', 'tpc321', 'tpc223',\n",
              "       'tpc299', 'PSSM125', 'tpc8', 'PSSM35', 'tpc440', 'tpc480',\n",
              "       'tpc222', 'tpc500', 'tpc18', 'PSSM329', 'PSSM277', 'PSSM123',\n",
              "       'tpc303', 'tpc357', 'PSSM86', 'PSSM37', 'tpc382', 'PSSM214',\n",
              "       'tpc399', 'tpc112', 'tpc461', 'tpc225', 'PSSM234', 'tpc37',\n",
              "       'tpc124', 'PSSM473', 'PSSM427', 'tpc120', 'PSSM290', 'tpc349',\n",
              "       'tpc489', 'PSSM441', 'tpc406', 'tpc286', 'PSSM307', 'tpc55',\n",
              "       'tpc155', 'PSSM292', 'tpc180', 'tpc419', 'tpc383', 'tpc21',\n",
              "       'PSSM432', 'PSSM7', 'PSSM239', 'tpc138', 'tpc192', 'tpc371',\n",
              "       'PSSM504', 'tpc49', 'tpc52', 'PSSM85', 'tpc385', 'tpc125',\n",
              "       'PSSM255', 'tpc276', 'tpc58', 'tpc285', 'tpc454', 'PSSM316',\n",
              "       'tpc184', 'PSSM115', 'tpc152', 'PSSM231', 'PSSM365', 'tpc284',\n",
              "       'tpc188', 'PSSM464', 'PSSM224', 'tpc277', 'PSSM296', 'PSSM155',\n",
              "       'tpc39', 'PSSM439', 'tpc342', 'tpc71', 'tpc333', 'PSSM402', 'tpc2',\n",
              "       'PSSM283', 'PSSM249', 'PSSM39', 'tpc12', 'tpc381', 'tpc431',\n",
              "       'PSSM366', 'PSSM148', 'tpc103', 'tpc356', 'PSSM404', 'tpc435',\n",
              "       'tpc142', 'tpc291', 'PSSM480', 'PSSM60', 'tpc477', 'PSSM12',\n",
              "       'PSSM315', 'PSSM4', 'tpc405', 'tpc93', 'tpc365', 'tpc271',\n",
              "       'tpc468', 'tpc479', 'PSSM58', 'tpc307', 'PSSM345', 'tpc205',\n",
              "       'PSSM339', 'PSSM302', 'tpc113', 'tpc324', 'tpc476', 'tpc62',\n",
              "       'PSSM261', 'tpc3', 'PSSM382', 'PSSM430', 'tpc240', 'tpc425',\n",
              "       'tpc64', 'PSSM105', 'PSSM271', 'PSSM325', 'tpc102', 'tpc414',\n",
              "       'tpc231', 'tpc452', 'PSSM312', 'tpc504', 'PSSM160', 'PSSM167',\n",
              "       'PSSM135', 'PSSM351', 'tpc107', 'tpc63', 'tpc377', 'PSSM280',\n",
              "       'PSSM272', 'PSSM63', 'tpc17', 'PSSM300', 'tpc391', 'tpc99',\n",
              "       'PSSM444', 'tpc145', 'tpc174', 'PSSM56', 'PSSM74', 'PSSM287',\n",
              "       'PSSM11', 'PSSM184', 'tpc80', 'tpc236', 'tpc215', 'tpc397',\n",
              "       'tpc380', 'tpc346', 'tpc79', 'PSSM373', 'tpc332', 'tpc263',\n",
              "       'PSSM87', 'PSSM282', 'PSSM66', 'PSSM491', 'PSSM260', 'PSSM494',\n",
              "       'tpc392', 'PSSM210', 'tpc429', 'PSSM336', 'tpc153', 'tpc11',\n",
              "       'tpc213', 'tpc268', 'tpc450', 'PSSM137', 'PSSM254', 'PSSM324',\n",
              "       'tpc501', 'tpc368', 'PSSM393', 'tpc111', 'PSSM453', 'PSSM69',\n",
              "       'PSSM333', 'tpc170', 'tpc59', 'tpc181', 'tpc65', 'tpc128',\n",
              "       'PSSM84', 'PSSM471', 'PSSM103', 'tpc443', 'PSSM481'], dtype=object)"
            ]
          },
          "metadata": {},
          "execution_count": 86
        }
      ]
    },
    {
      "cell_type": "code",
      "source": [
        "df1 = X[trainingdf]\n",
        "df1"
      ],
      "metadata": {
        "colab": {
          "base_uri": "https://localhost:8080/",
          "height": 488
        },
        "id": "mPmbdIoUUr73",
        "outputId": "c3020835-66e5-4553-e4d5-59d2fed81823"
      },
      "execution_count": 87,
      "outputs": [
        {
          "output_type": "execute_result",
          "data": {
            "text/plain": [
              "       PSSM416    PSSM52    tpc317    tpc160    tpc198     tpc85   PSSM284  \\\n",
              "0     0.074675  0.000303  0.054743 -0.006537  0.019254  0.035640  0.022926   \n",
              "1     0.069659 -0.045227  0.065115 -0.010033  0.025756  0.041059 -0.011425   \n",
              "2     0.045235 -0.060085  0.044884 -0.005968  0.013189  0.043632 -0.073880   \n",
              "3     0.064951 -0.012383  0.059886 -0.009479  0.020902  0.038796 -0.004089   \n",
              "4     0.078552 -0.061718  0.062862 -0.008625  0.014097  0.029319 -0.052266   \n",
              "...        ...       ...       ...       ...       ...       ...       ...   \n",
              "2099  0.071531 -0.044671  0.050557 -0.008811  0.022901  0.035202 -0.023707   \n",
              "2100  0.067351 -0.045447  0.061508 -0.009843  0.028656  0.040697 -0.015519   \n",
              "2101  0.065811 -0.052384  0.053880 -0.015158  0.017598  0.040747 -0.028533   \n",
              "2102  0.080016 -0.035019  0.057374 -0.003344  0.023072  0.043177 -0.017203   \n",
              "2103  0.067424 -0.041023  0.054592 -0.005834  0.023070  0.042029 -0.028115   \n",
              "\n",
              "        tpc484    tpc275    tpc401  ...    tpc170     tpc59    tpc181  \\\n",
              "0    -0.015163 -0.047186 -0.068853  ...  0.050211 -0.120951 -0.054883   \n",
              "1    -0.014945 -0.048729 -0.072954  ...  0.055604 -0.136739 -0.048517   \n",
              "2    -0.006281 -0.039897 -0.063159  ...  0.042178 -0.106983 -0.038587   \n",
              "3    -0.013383 -0.055300 -0.065524  ...  0.053789 -0.118954 -0.047608   \n",
              "4    -0.010182 -0.042071 -0.062570  ...  0.033615 -0.107755 -0.044856   \n",
              "...        ...       ...       ...  ...       ...       ...       ...   \n",
              "2099 -0.010078 -0.039779 -0.063815  ...  0.048891 -0.117886 -0.043647   \n",
              "2100 -0.019474 -0.046468 -0.073743  ...  0.055291 -0.141631 -0.050155   \n",
              "2101 -0.010631 -0.041382 -0.069738  ...  0.051729 -0.120211 -0.042780   \n",
              "2102 -0.013531 -0.039304 -0.062365  ...  0.040498 -0.120897 -0.037987   \n",
              "2103 -0.014390 -0.055187 -0.064510  ...  0.048855 -0.123985 -0.047533   \n",
              "\n",
              "         tpc65    tpc128    PSSM84   PSSM471   PSSM103    tpc443   PSSM481  \n",
              "0    -0.155607  0.170089  0.047103 -0.240459 -0.040893 -0.003465  0.155880  \n",
              "1    -0.179391  0.175684  0.005580 -0.211733  0.012064 -0.023681  0.158020  \n",
              "2    -0.195234  0.172634  0.008156 -0.213299 -0.024047 -0.018807  0.113445  \n",
              "3    -0.162462  0.158248  0.043949 -0.239939 -0.041432 -0.005638  0.156230  \n",
              "4    -0.173833  0.160427  0.072549 -0.259170 -0.093650  0.004248  0.122687  \n",
              "...        ...       ...       ...       ...       ...       ...       ...  \n",
              "2099 -0.177037  0.176576  0.023753 -0.244895 -0.036128 -0.011041  0.144846  \n",
              "2100 -0.164752  0.166357  0.028856 -0.216104 -0.009722 -0.017874  0.151821  \n",
              "2101 -0.178786  0.169803  0.014051 -0.220992 -0.020357 -0.019721  0.136304  \n",
              "2102 -0.171936  0.166480  0.035271 -0.233733 -0.026215 -0.016055  0.143721  \n",
              "2103 -0.166367  0.167979  0.034524 -0.233643 -0.021862 -0.010845  0.159317  \n",
              "\n",
              "[2104 rows x 300 columns]"
            ],
            "text/html": [
              "\n",
              "  <div id=\"df-95e3af9d-0fc9-41dc-82b8-9c42e1aa45a1\">\n",
              "    <div class=\"colab-df-container\">\n",
              "      <div>\n",
              "<style scoped>\n",
              "    .dataframe tbody tr th:only-of-type {\n",
              "        vertical-align: middle;\n",
              "    }\n",
              "\n",
              "    .dataframe tbody tr th {\n",
              "        vertical-align: top;\n",
              "    }\n",
              "\n",
              "    .dataframe thead th {\n",
              "        text-align: right;\n",
              "    }\n",
              "</style>\n",
              "<table border=\"1\" class=\"dataframe\">\n",
              "  <thead>\n",
              "    <tr style=\"text-align: right;\">\n",
              "      <th></th>\n",
              "      <th>PSSM416</th>\n",
              "      <th>PSSM52</th>\n",
              "      <th>tpc317</th>\n",
              "      <th>tpc160</th>\n",
              "      <th>tpc198</th>\n",
              "      <th>tpc85</th>\n",
              "      <th>PSSM284</th>\n",
              "      <th>tpc484</th>\n",
              "      <th>tpc275</th>\n",
              "      <th>tpc401</th>\n",
              "      <th>...</th>\n",
              "      <th>tpc170</th>\n",
              "      <th>tpc59</th>\n",
              "      <th>tpc181</th>\n",
              "      <th>tpc65</th>\n",
              "      <th>tpc128</th>\n",
              "      <th>PSSM84</th>\n",
              "      <th>PSSM471</th>\n",
              "      <th>PSSM103</th>\n",
              "      <th>tpc443</th>\n",
              "      <th>PSSM481</th>\n",
              "    </tr>\n",
              "  </thead>\n",
              "  <tbody>\n",
              "    <tr>\n",
              "      <th>0</th>\n",
              "      <td>0.074675</td>\n",
              "      <td>0.000303</td>\n",
              "      <td>0.054743</td>\n",
              "      <td>-0.006537</td>\n",
              "      <td>0.019254</td>\n",
              "      <td>0.035640</td>\n",
              "      <td>0.022926</td>\n",
              "      <td>-0.015163</td>\n",
              "      <td>-0.047186</td>\n",
              "      <td>-0.068853</td>\n",
              "      <td>...</td>\n",
              "      <td>0.050211</td>\n",
              "      <td>-0.120951</td>\n",
              "      <td>-0.054883</td>\n",
              "      <td>-0.155607</td>\n",
              "      <td>0.170089</td>\n",
              "      <td>0.047103</td>\n",
              "      <td>-0.240459</td>\n",
              "      <td>-0.040893</td>\n",
              "      <td>-0.003465</td>\n",
              "      <td>0.155880</td>\n",
              "    </tr>\n",
              "    <tr>\n",
              "      <th>1</th>\n",
              "      <td>0.069659</td>\n",
              "      <td>-0.045227</td>\n",
              "      <td>0.065115</td>\n",
              "      <td>-0.010033</td>\n",
              "      <td>0.025756</td>\n",
              "      <td>0.041059</td>\n",
              "      <td>-0.011425</td>\n",
              "      <td>-0.014945</td>\n",
              "      <td>-0.048729</td>\n",
              "      <td>-0.072954</td>\n",
              "      <td>...</td>\n",
              "      <td>0.055604</td>\n",
              "      <td>-0.136739</td>\n",
              "      <td>-0.048517</td>\n",
              "      <td>-0.179391</td>\n",
              "      <td>0.175684</td>\n",
              "      <td>0.005580</td>\n",
              "      <td>-0.211733</td>\n",
              "      <td>0.012064</td>\n",
              "      <td>-0.023681</td>\n",
              "      <td>0.158020</td>\n",
              "    </tr>\n",
              "    <tr>\n",
              "      <th>2</th>\n",
              "      <td>0.045235</td>\n",
              "      <td>-0.060085</td>\n",
              "      <td>0.044884</td>\n",
              "      <td>-0.005968</td>\n",
              "      <td>0.013189</td>\n",
              "      <td>0.043632</td>\n",
              "      <td>-0.073880</td>\n",
              "      <td>-0.006281</td>\n",
              "      <td>-0.039897</td>\n",
              "      <td>-0.063159</td>\n",
              "      <td>...</td>\n",
              "      <td>0.042178</td>\n",
              "      <td>-0.106983</td>\n",
              "      <td>-0.038587</td>\n",
              "      <td>-0.195234</td>\n",
              "      <td>0.172634</td>\n",
              "      <td>0.008156</td>\n",
              "      <td>-0.213299</td>\n",
              "      <td>-0.024047</td>\n",
              "      <td>-0.018807</td>\n",
              "      <td>0.113445</td>\n",
              "    </tr>\n",
              "    <tr>\n",
              "      <th>3</th>\n",
              "      <td>0.064951</td>\n",
              "      <td>-0.012383</td>\n",
              "      <td>0.059886</td>\n",
              "      <td>-0.009479</td>\n",
              "      <td>0.020902</td>\n",
              "      <td>0.038796</td>\n",
              "      <td>-0.004089</td>\n",
              "      <td>-0.013383</td>\n",
              "      <td>-0.055300</td>\n",
              "      <td>-0.065524</td>\n",
              "      <td>...</td>\n",
              "      <td>0.053789</td>\n",
              "      <td>-0.118954</td>\n",
              "      <td>-0.047608</td>\n",
              "      <td>-0.162462</td>\n",
              "      <td>0.158248</td>\n",
              "      <td>0.043949</td>\n",
              "      <td>-0.239939</td>\n",
              "      <td>-0.041432</td>\n",
              "      <td>-0.005638</td>\n",
              "      <td>0.156230</td>\n",
              "    </tr>\n",
              "    <tr>\n",
              "      <th>4</th>\n",
              "      <td>0.078552</td>\n",
              "      <td>-0.061718</td>\n",
              "      <td>0.062862</td>\n",
              "      <td>-0.008625</td>\n",
              "      <td>0.014097</td>\n",
              "      <td>0.029319</td>\n",
              "      <td>-0.052266</td>\n",
              "      <td>-0.010182</td>\n",
              "      <td>-0.042071</td>\n",
              "      <td>-0.062570</td>\n",
              "      <td>...</td>\n",
              "      <td>0.033615</td>\n",
              "      <td>-0.107755</td>\n",
              "      <td>-0.044856</td>\n",
              "      <td>-0.173833</td>\n",
              "      <td>0.160427</td>\n",
              "      <td>0.072549</td>\n",
              "      <td>-0.259170</td>\n",
              "      <td>-0.093650</td>\n",
              "      <td>0.004248</td>\n",
              "      <td>0.122687</td>\n",
              "    </tr>\n",
              "    <tr>\n",
              "      <th>...</th>\n",
              "      <td>...</td>\n",
              "      <td>...</td>\n",
              "      <td>...</td>\n",
              "      <td>...</td>\n",
              "      <td>...</td>\n",
              "      <td>...</td>\n",
              "      <td>...</td>\n",
              "      <td>...</td>\n",
              "      <td>...</td>\n",
              "      <td>...</td>\n",
              "      <td>...</td>\n",
              "      <td>...</td>\n",
              "      <td>...</td>\n",
              "      <td>...</td>\n",
              "      <td>...</td>\n",
              "      <td>...</td>\n",
              "      <td>...</td>\n",
              "      <td>...</td>\n",
              "      <td>...</td>\n",
              "      <td>...</td>\n",
              "      <td>...</td>\n",
              "    </tr>\n",
              "    <tr>\n",
              "      <th>2099</th>\n",
              "      <td>0.071531</td>\n",
              "      <td>-0.044671</td>\n",
              "      <td>0.050557</td>\n",
              "      <td>-0.008811</td>\n",
              "      <td>0.022901</td>\n",
              "      <td>0.035202</td>\n",
              "      <td>-0.023707</td>\n",
              "      <td>-0.010078</td>\n",
              "      <td>-0.039779</td>\n",
              "      <td>-0.063815</td>\n",
              "      <td>...</td>\n",
              "      <td>0.048891</td>\n",
              "      <td>-0.117886</td>\n",
              "      <td>-0.043647</td>\n",
              "      <td>-0.177037</td>\n",
              "      <td>0.176576</td>\n",
              "      <td>0.023753</td>\n",
              "      <td>-0.244895</td>\n",
              "      <td>-0.036128</td>\n",
              "      <td>-0.011041</td>\n",
              "      <td>0.144846</td>\n",
              "    </tr>\n",
              "    <tr>\n",
              "      <th>2100</th>\n",
              "      <td>0.067351</td>\n",
              "      <td>-0.045447</td>\n",
              "      <td>0.061508</td>\n",
              "      <td>-0.009843</td>\n",
              "      <td>0.028656</td>\n",
              "      <td>0.040697</td>\n",
              "      <td>-0.015519</td>\n",
              "      <td>-0.019474</td>\n",
              "      <td>-0.046468</td>\n",
              "      <td>-0.073743</td>\n",
              "      <td>...</td>\n",
              "      <td>0.055291</td>\n",
              "      <td>-0.141631</td>\n",
              "      <td>-0.050155</td>\n",
              "      <td>-0.164752</td>\n",
              "      <td>0.166357</td>\n",
              "      <td>0.028856</td>\n",
              "      <td>-0.216104</td>\n",
              "      <td>-0.009722</td>\n",
              "      <td>-0.017874</td>\n",
              "      <td>0.151821</td>\n",
              "    </tr>\n",
              "    <tr>\n",
              "      <th>2101</th>\n",
              "      <td>0.065811</td>\n",
              "      <td>-0.052384</td>\n",
              "      <td>0.053880</td>\n",
              "      <td>-0.015158</td>\n",
              "      <td>0.017598</td>\n",
              "      <td>0.040747</td>\n",
              "      <td>-0.028533</td>\n",
              "      <td>-0.010631</td>\n",
              "      <td>-0.041382</td>\n",
              "      <td>-0.069738</td>\n",
              "      <td>...</td>\n",
              "      <td>0.051729</td>\n",
              "      <td>-0.120211</td>\n",
              "      <td>-0.042780</td>\n",
              "      <td>-0.178786</td>\n",
              "      <td>0.169803</td>\n",
              "      <td>0.014051</td>\n",
              "      <td>-0.220992</td>\n",
              "      <td>-0.020357</td>\n",
              "      <td>-0.019721</td>\n",
              "      <td>0.136304</td>\n",
              "    </tr>\n",
              "    <tr>\n",
              "      <th>2102</th>\n",
              "      <td>0.080016</td>\n",
              "      <td>-0.035019</td>\n",
              "      <td>0.057374</td>\n",
              "      <td>-0.003344</td>\n",
              "      <td>0.023072</td>\n",
              "      <td>0.043177</td>\n",
              "      <td>-0.017203</td>\n",
              "      <td>-0.013531</td>\n",
              "      <td>-0.039304</td>\n",
              "      <td>-0.062365</td>\n",
              "      <td>...</td>\n",
              "      <td>0.040498</td>\n",
              "      <td>-0.120897</td>\n",
              "      <td>-0.037987</td>\n",
              "      <td>-0.171936</td>\n",
              "      <td>0.166480</td>\n",
              "      <td>0.035271</td>\n",
              "      <td>-0.233733</td>\n",
              "      <td>-0.026215</td>\n",
              "      <td>-0.016055</td>\n",
              "      <td>0.143721</td>\n",
              "    </tr>\n",
              "    <tr>\n",
              "      <th>2103</th>\n",
              "      <td>0.067424</td>\n",
              "      <td>-0.041023</td>\n",
              "      <td>0.054592</td>\n",
              "      <td>-0.005834</td>\n",
              "      <td>0.023070</td>\n",
              "      <td>0.042029</td>\n",
              "      <td>-0.028115</td>\n",
              "      <td>-0.014390</td>\n",
              "      <td>-0.055187</td>\n",
              "      <td>-0.064510</td>\n",
              "      <td>...</td>\n",
              "      <td>0.048855</td>\n",
              "      <td>-0.123985</td>\n",
              "      <td>-0.047533</td>\n",
              "      <td>-0.166367</td>\n",
              "      <td>0.167979</td>\n",
              "      <td>0.034524</td>\n",
              "      <td>-0.233643</td>\n",
              "      <td>-0.021862</td>\n",
              "      <td>-0.010845</td>\n",
              "      <td>0.159317</td>\n",
              "    </tr>\n",
              "  </tbody>\n",
              "</table>\n",
              "<p>2104 rows × 300 columns</p>\n",
              "</div>\n",
              "      <button class=\"colab-df-convert\" onclick=\"convertToInteractive('df-95e3af9d-0fc9-41dc-82b8-9c42e1aa45a1')\"\n",
              "              title=\"Convert this dataframe to an interactive table.\"\n",
              "              style=\"display:none;\">\n",
              "        \n",
              "  <svg xmlns=\"http://www.w3.org/2000/svg\" height=\"24px\"viewBox=\"0 0 24 24\"\n",
              "       width=\"24px\">\n",
              "    <path d=\"M0 0h24v24H0V0z\" fill=\"none\"/>\n",
              "    <path d=\"M18.56 5.44l.94 2.06.94-2.06 2.06-.94-2.06-.94-.94-2.06-.94 2.06-2.06.94zm-11 1L8.5 8.5l.94-2.06 2.06-.94-2.06-.94L8.5 2.5l-.94 2.06-2.06.94zm10 10l.94 2.06.94-2.06 2.06-.94-2.06-.94-.94-2.06-.94 2.06-2.06.94z\"/><path d=\"M17.41 7.96l-1.37-1.37c-.4-.4-.92-.59-1.43-.59-.52 0-1.04.2-1.43.59L10.3 9.45l-7.72 7.72c-.78.78-.78 2.05 0 2.83L4 21.41c.39.39.9.59 1.41.59.51 0 1.02-.2 1.41-.59l7.78-7.78 2.81-2.81c.8-.78.8-2.07 0-2.86zM5.41 20L4 18.59l7.72-7.72 1.47 1.35L5.41 20z\"/>\n",
              "  </svg>\n",
              "      </button>\n",
              "      \n",
              "  <style>\n",
              "    .colab-df-container {\n",
              "      display:flex;\n",
              "      flex-wrap:wrap;\n",
              "      gap: 12px;\n",
              "    }\n",
              "\n",
              "    .colab-df-convert {\n",
              "      background-color: #E8F0FE;\n",
              "      border: none;\n",
              "      border-radius: 50%;\n",
              "      cursor: pointer;\n",
              "      display: none;\n",
              "      fill: #1967D2;\n",
              "      height: 32px;\n",
              "      padding: 0 0 0 0;\n",
              "      width: 32px;\n",
              "    }\n",
              "\n",
              "    .colab-df-convert:hover {\n",
              "      background-color: #E2EBFA;\n",
              "      box-shadow: 0px 1px 2px rgba(60, 64, 67, 0.3), 0px 1px 3px 1px rgba(60, 64, 67, 0.15);\n",
              "      fill: #174EA6;\n",
              "    }\n",
              "\n",
              "    [theme=dark] .colab-df-convert {\n",
              "      background-color: #3B4455;\n",
              "      fill: #D2E3FC;\n",
              "    }\n",
              "\n",
              "    [theme=dark] .colab-df-convert:hover {\n",
              "      background-color: #434B5C;\n",
              "      box-shadow: 0px 1px 3px 1px rgba(0, 0, 0, 0.15);\n",
              "      filter: drop-shadow(0px 1px 2px rgba(0, 0, 0, 0.3));\n",
              "      fill: #FFFFFF;\n",
              "    }\n",
              "  </style>\n",
              "\n",
              "      <script>\n",
              "        const buttonEl =\n",
              "          document.querySelector('#df-95e3af9d-0fc9-41dc-82b8-9c42e1aa45a1 button.colab-df-convert');\n",
              "        buttonEl.style.display =\n",
              "          google.colab.kernel.accessAllowed ? 'block' : 'none';\n",
              "\n",
              "        async function convertToInteractive(key) {\n",
              "          const element = document.querySelector('#df-95e3af9d-0fc9-41dc-82b8-9c42e1aa45a1');\n",
              "          const dataTable =\n",
              "            await google.colab.kernel.invokeFunction('convertToInteractive',\n",
              "                                                     [key], {});\n",
              "          if (!dataTable) return;\n",
              "\n",
              "          const docLinkHtml = 'Like what you see? Visit the ' +\n",
              "            '<a target=\"_blank\" href=https://colab.research.google.com/notebooks/data_table.ipynb>data table notebook</a>'\n",
              "            + ' to learn more about interactive tables.';\n",
              "          element.innerHTML = '';\n",
              "          dataTable['output_type'] = 'display_data';\n",
              "          await google.colab.output.renderOutput(dataTable, element);\n",
              "          const docLink = document.createElement('div');\n",
              "          docLink.innerHTML = docLinkHtml;\n",
              "          element.appendChild(docLink);\n",
              "        }\n",
              "      </script>\n",
              "    </div>\n",
              "  </div>\n",
              "  "
            ]
          },
          "metadata": {},
          "execution_count": 87
        }
      ]
    },
    {
      "cell_type": "code",
      "source": [
        "X = df1\n",
        "y = y"
      ],
      "metadata": {
        "id": "sxrjHOlaUvt-"
      },
      "execution_count": 88,
      "outputs": []
    },
    {
      "cell_type": "code",
      "source": [
        "count_classes = pd.value_counts(y, sort = True)\n",
        "\n",
        "count_classes.plot(kind = 'bar', rot=0)\n",
        "\n",
        "plt.title(\"Class Distribution\")\n",
        "\n",
        "LABELS = [\"Zero\", \"One\"]\n",
        "\n",
        "plt.xticks(range(2), LABELS)\n",
        "\n",
        "plt.xlabel(\"Class\")\n",
        "\n",
        "plt.ylabel(\"Frequency\")"
      ],
      "metadata": {
        "colab": {
          "base_uri": "https://localhost:8080/",
          "height": 312
        },
        "id": "ZKJZia5gUyYJ",
        "outputId": "2e5a1588-f756-4951-a410-9b8a0c706390"
      },
      "execution_count": 89,
      "outputs": [
        {
          "output_type": "execute_result",
          "data": {
            "text/plain": [
              "Text(0, 0.5, 'Frequency')"
            ]
          },
          "metadata": {},
          "execution_count": 89
        },
        {
          "output_type": "display_data",
          "data": {
            "text/plain": [
              "<Figure size 432x288 with 1 Axes>"
            ],
            "image/png": "[encoded data removed]"
          },
          "metadata": {
            "needs_background": "light"
          }
        }
      ]
    },
    {
      "cell_type": "code",
      "source": [
        "One = df[y==1]\n",
        "\n",
        "Zero = df[y==0]\n",
        "\n",
        "print(Zero.shape,One.shape)"
      ],
      "metadata": {
        "colab": {
          "base_uri": "https://localhost:8080/"
        },
        "id": "wxkrVfSHU0-v",
        "outputId": "6e6e5a14-3d0f-4e98-d741-b3fbc7223ae5"
      },
      "execution_count": 90,
      "outputs": [
        {
          "output_type": "stream",
          "name": "stdout",
          "text": [
            "(1041, 1025) (1063, 1025)\n"
          ]
        }
      ]
    },
    {
      "cell_type": "code",
      "source": [
        "from imblearn.over_sampling import SMOTE\n",
        "sm = SMOTE(sampling_strategy='minority')\n",
        "X_res,y_res=sm.fit_resample(X,y)"
      ],
      "metadata": {
        "id": "6iLsW3ePU3ve"
      },
      "execution_count": 91,
      "outputs": []
    },
    {
      "cell_type": "code",
      "source": [
        "print(X_res.shape)\n",
        "print(y_res.shape)"
      ],
      "metadata": {
        "colab": {
          "base_uri": "https://localhost:8080/"
        },
        "id": "ckr2evDTU743",
        "outputId": "dfd9a1d3-4de0-45eb-c55c-f41e94f62f48"
      },
      "execution_count": 92,
      "outputs": [
        {
          "output_type": "stream",
          "name": "stdout",
          "text": [
            "(2126, 300)\n",
            "(2126,)\n"
          ]
        }
      ]
    },
    {
      "cell_type": "code",
      "source": [
        "#Split data into independent (X) and dependent(Y) columns\n",
        "\n",
        "y = y_res\n",
        "X = X_res"
      ],
      "metadata": {
        "id": "5zFNAiJ-U-Oe"
      },
      "execution_count": 93,
      "outputs": []
    },
    {
      "cell_type": "code",
      "source": [
        "from sklearn.model_selection import train_test_split\n",
        "X_train, X_test, y_train, y_test = train_test_split(X, y, test_size = 0.20, random_state = 0)"
      ],
      "metadata": {
        "id": "og3r02ZpVBu2"
      },
      "execution_count": 94,
      "outputs": []
    },
    {
      "cell_type": "code",
      "source": [
        "print(X_train.shape)\n",
        "print(X_test.shape)"
      ],
      "metadata": {
        "colab": {
          "base_uri": "https://localhost:8080/"
        },
        "id": "ROprevP4VEYA",
        "outputId": "695d941f-4f18-4449-ba1c-3087b2c8452d"
      },
      "execution_count": 95,
      "outputs": [
        {
          "output_type": "stream",
          "name": "stdout",
          "text": [
            "(1700, 300)\n",
            "(426, 300)\n"
          ]
        }
      ]
    },
    {
      "cell_type": "code",
      "source": [
        "scaler = StandardScaler()\n",
        "X_train = scaler.fit_transform(X_train)\n",
        "X_test = scaler.transform(X_test)"
      ],
      "metadata": {
        "id": "AiHdwAfhVGiv"
      },
      "execution_count": 96,
      "outputs": []
    },
    {
      "cell_type": "code",
      "source": [
        "X_train = X_train.reshape(1700, 300,1)\n",
        "X_test = X_test.reshape(426, 300, 1)"
      ],
      "metadata": {
        "id": "k5BaujtCVJ74"
      },
      "execution_count": 97,
      "outputs": []
    },
    {
      "cell_type": "code",
      "source": [
        "epochs =50\n",
        "model = Sequential()\n",
        "model.add(Conv1D(filters=32, kernel_size=4, activation='relu', input_shape = (300,1))) ##1st conv layer\n",
        "model.add(BatchNormalization())\n",
        "#model.add(Dropout(0.2))\n",
        "\n",
        "model.add(Conv1D(filters=64, kernel_size=4, activation='relu'))  #2nd Conv layer\n",
        "model.add(BatchNormalization())\n",
        "#model.add(Dropout(0.3))\n",
        "\n",
        "model.add(Flatten())    #Flattening\n",
        "model.add(Dense(64, activation='relu'))  ##fully connected layer\n",
        "model.add(Dropout(0.3))\n",
        "\n",
        "model.add(Dense(1, activation='sigmoid'))   #output layer"
      ],
      "metadata": {
        "id": "LBS-TYNYVRV1"
      },
      "execution_count": 98,
      "outputs": []
    },
    {
      "cell_type": "code",
      "source": [
        "model.compile(optimizer=Adam(learning_rate=0.00001), loss = 'binary_crossentropy', metrics=['accuracy'])\n",
        "\n",
        "history = model.fit(X_train, y_train, epochs=epochs, batch_size=32,validation_data=(X_test, y_test), verbose=1)"
      ],
      "metadata": {
        "colab": {
          "base_uri": "https://localhost:8080/"
        },
        "id": "ac3kUfI1VYlM",
        "outputId": "0948d138-491b-4fb3-a81a-cdc45cb7e3cf"
      },
      "execution_count": 99,
      "outputs": [
        {
          "output_type": "stream",
          "name": "stdout",
          "text": [
            "Epoch 1/50\n",
            "54/54 [==============================] - 4s 34ms/step - loss: 0.7533 - accuracy: 0.6035 - val_loss: 0.6645 - val_accuracy: 0.6362\n",
            "Epoch 2/50\n",
            "54/54 [==============================] - 1s 16ms/step - loss: 0.6524 - accuracy: 0.6624 - val_loss: 0.6486 - val_accuracy: 0.6502\n",
            "Epoch 3/50\n",
            "54/54 [==============================] - 1s 11ms/step - loss: 0.6190 - accuracy: 0.6729 - val_loss: 0.6306 - val_accuracy: 0.6831\n",
            "Epoch 4/50\n",
            "54/54 [==============================] - 1s 11ms/step - loss: 0.5644 - accuracy: 0.7276 - val_loss: 0.6140 - val_accuracy: 0.7160\n",
            "Epoch 5/50\n",
            "54/54 [==============================] - 1s 11ms/step - loss: 0.5371 - accuracy: 0.7341 - val_loss: 0.5911 - val_accuracy: 0.7183\n",
            "Epoch 6/50\n",
            "54/54 [==============================] - 1s 11ms/step - loss: 0.4860 - accuracy: 0.7624 - val_loss: 0.5821 - val_accuracy: 0.7113\n",
            "Epoch 7/50\n",
            "54/54 [==============================] - 1s 11ms/step - loss: 0.4912 - accuracy: 0.7600 - val_loss: 0.5731 - val_accuracy: 0.7136\n",
            "Epoch 8/50\n",
            "54/54 [==============================] - 1s 11ms/step - loss: 0.4562 - accuracy: 0.7853 - val_loss: 0.5683 - val_accuracy: 0.7136\n",
            "Epoch 9/50\n",
            "54/54 [==============================] - 1s 11ms/step - loss: 0.4364 - accuracy: 0.7924 - val_loss: 0.5681 - val_accuracy: 0.7160\n",
            "Epoch 10/50\n",
            "54/54 [==============================] - 1s 11ms/step - loss: 0.4254 - accuracy: 0.8124 - val_loss: 0.5706 - val_accuracy: 0.7042\n",
            "Epoch 11/50\n",
            "54/54 [==============================] - 1s 11ms/step - loss: 0.4114 - accuracy: 0.8076 - val_loss: 0.5756 - val_accuracy: 0.7019\n",
            "Epoch 12/50\n",
            "54/54 [==============================] - 1s 11ms/step - loss: 0.3904 - accuracy: 0.8359 - val_loss: 0.5746 - val_accuracy: 0.7254\n",
            "Epoch 13/50\n",
            "54/54 [==============================] - 1s 11ms/step - loss: 0.3694 - accuracy: 0.8459 - val_loss: 0.5768 - val_accuracy: 0.7113\n",
            "Epoch 14/50\n",
            "54/54 [==============================] - 1s 11ms/step - loss: 0.3652 - accuracy: 0.8600 - val_loss: 0.5743 - val_accuracy: 0.7160\n",
            "Epoch 15/50\n",
            "54/54 [==============================] - 1s 11ms/step - loss: 0.3554 - accuracy: 0.8459 - val_loss: 0.5787 - val_accuracy: 0.7254\n",
            "Epoch 16/50\n",
            "54/54 [==============================] - 1s 11ms/step - loss: 0.3344 - accuracy: 0.8665 - val_loss: 0.5715 - val_accuracy: 0.7254\n",
            "Epoch 17/50\n",
            "54/54 [==============================] - 1s 11ms/step - loss: 0.3336 - accuracy: 0.8606 - val_loss: 0.5790 - val_accuracy: 0.7324\n",
            "Epoch 18/50\n",
            "54/54 [==============================] - 1s 11ms/step - loss: 0.3062 - accuracy: 0.8900 - val_loss: 0.5793 - val_accuracy: 0.7183\n",
            "Epoch 19/50\n",
            "54/54 [==============================] - 1s 11ms/step - loss: 0.2985 - accuracy: 0.9012 - val_loss: 0.5766 - val_accuracy: 0.7324\n",
            "Epoch 20/50\n",
            "54/54 [==============================] - 1s 11ms/step - loss: 0.2836 - accuracy: 0.9000 - val_loss: 0.5834 - val_accuracy: 0.7207\n",
            "Epoch 21/50\n",
            "54/54 [==============================] - 1s 11ms/step - loss: 0.2942 - accuracy: 0.8971 - val_loss: 0.5791 - val_accuracy: 0.7277\n",
            "Epoch 22/50\n",
            "54/54 [==============================] - 1s 11ms/step - loss: 0.2742 - accuracy: 0.9047 - val_loss: 0.5814 - val_accuracy: 0.7300\n",
            "Epoch 23/50\n",
            "54/54 [==============================] - 1s 10ms/step - loss: 0.2684 - accuracy: 0.9076 - val_loss: 0.5847 - val_accuracy: 0.7207\n",
            "Epoch 24/50\n",
            "54/54 [==============================] - 1s 11ms/step - loss: 0.2478 - accuracy: 0.9218 - val_loss: 0.5784 - val_accuracy: 0.7324\n",
            "Epoch 25/50\n",
            "54/54 [==============================] - 1s 11ms/step - loss: 0.2519 - accuracy: 0.9229 - val_loss: 0.5767 - val_accuracy: 0.7347\n",
            "Epoch 26/50\n",
            "54/54 [==============================] - 1s 11ms/step - loss: 0.2412 - accuracy: 0.9247 - val_loss: 0.5777 - val_accuracy: 0.7230\n",
            "Epoch 27/50\n",
            "54/54 [==============================] - 1s 11ms/step - loss: 0.2399 - accuracy: 0.9388 - val_loss: 0.5767 - val_accuracy: 0.7300\n",
            "Epoch 28/50\n",
            "54/54 [==============================] - 1s 11ms/step - loss: 0.2303 - accuracy: 0.9347 - val_loss: 0.5793 - val_accuracy: 0.7277\n",
            "Epoch 29/50\n",
            "54/54 [==============================] - 1s 11ms/step - loss: 0.2244 - accuracy: 0.9400 - val_loss: 0.5800 - val_accuracy: 0.7418\n",
            "Epoch 30/50\n",
            "54/54 [==============================] - 1s 11ms/step - loss: 0.2158 - accuracy: 0.9447 - val_loss: 0.5889 - val_accuracy: 0.7183\n",
            "Epoch 31/50\n",
            "54/54 [==============================] - 1s 11ms/step - loss: 0.2052 - accuracy: 0.9488 - val_loss: 0.5884 - val_accuracy: 0.7300\n",
            "Epoch 32/50\n",
            "54/54 [==============================] - 1s 11ms/step - loss: 0.2082 - accuracy: 0.9512 - val_loss: 0.5883 - val_accuracy: 0.7254\n",
            "Epoch 33/50\n",
            "54/54 [==============================] - 1s 11ms/step - loss: 0.1954 - accuracy: 0.9506 - val_loss: 0.5880 - val_accuracy: 0.7277\n",
            "Epoch 34/50\n",
            "54/54 [==============================] - 1s 11ms/step - loss: 0.1950 - accuracy: 0.9553 - val_loss: 0.5895 - val_accuracy: 0.7207\n",
            "Epoch 35/50\n",
            "54/54 [==============================] - 1s 11ms/step - loss: 0.1881 - accuracy: 0.9571 - val_loss: 0.5935 - val_accuracy: 0.7207\n",
            "Epoch 36/50\n",
            "54/54 [==============================] - 1s 11ms/step - loss: 0.1799 - accuracy: 0.9606 - val_loss: 0.5956 - val_accuracy: 0.7183\n",
            "Epoch 37/50\n",
            "54/54 [==============================] - 1s 11ms/step - loss: 0.1850 - accuracy: 0.9571 - val_loss: 0.5912 - val_accuracy: 0.7160\n",
            "Epoch 38/50\n",
            "54/54 [==============================] - 1s 11ms/step - loss: 0.1721 - accuracy: 0.9718 - val_loss: 0.5939 - val_accuracy: 0.7183\n",
            "Epoch 39/50\n",
            "54/54 [==============================] - 1s 11ms/step - loss: 0.1675 - accuracy: 0.9700 - val_loss: 0.5993 - val_accuracy: 0.7113\n",
            "Epoch 40/50\n",
            "54/54 [==============================] - 1s 10ms/step - loss: 0.1628 - accuracy: 0.9700 - val_loss: 0.5985 - val_accuracy: 0.7136\n",
            "Epoch 41/50\n",
            "54/54 [==============================] - 1s 11ms/step - loss: 0.1599 - accuracy: 0.9771 - val_loss: 0.5972 - val_accuracy: 0.7183\n",
            "Epoch 42/50\n",
            "54/54 [==============================] - 1s 11ms/step - loss: 0.1617 - accuracy: 0.9665 - val_loss: 0.6010 - val_accuracy: 0.7207\n",
            "Epoch 43/50\n",
            "54/54 [==============================] - 1s 11ms/step - loss: 0.1538 - accuracy: 0.9765 - val_loss: 0.6003 - val_accuracy: 0.7160\n",
            "Epoch 44/50\n",
            "54/54 [==============================] - 1s 11ms/step - loss: 0.1527 - accuracy: 0.9700 - val_loss: 0.6031 - val_accuracy: 0.7136\n",
            "Epoch 45/50\n",
            "54/54 [==============================] - 1s 11ms/step - loss: 0.1428 - accuracy: 0.9747 - val_loss: 0.6088 - val_accuracy: 0.7207\n",
            "Epoch 46/50\n",
            "54/54 [==============================] - 1s 11ms/step - loss: 0.1456 - accuracy: 0.9741 - val_loss: 0.6118 - val_accuracy: 0.7113\n",
            "Epoch 47/50\n",
            "54/54 [==============================] - 1s 11ms/step - loss: 0.1305 - accuracy: 0.9865 - val_loss: 0.6068 - val_accuracy: 0.7160\n",
            "Epoch 48/50\n",
            "54/54 [==============================] - 1s 11ms/step - loss: 0.1361 - accuracy: 0.9818 - val_loss: 0.6040 - val_accuracy: 0.7136\n",
            "Epoch 49/50\n",
            "54/54 [==============================] - 1s 11ms/step - loss: 0.1322 - accuracy: 0.9835 - val_loss: 0.6101 - val_accuracy: 0.7183\n",
            "Epoch 50/50\n",
            "54/54 [==============================] - 1s 11ms/step - loss: 0.1291 - accuracy: 0.9753 - val_loss: 0.6162 - val_accuracy: 0.7113\n"
          ]
        }
      ]
    },
    {
      "cell_type": "code",
      "source": [
        "#y_pred = model.predict(X_train).ravel()\n",
        "from sklearn.metrics import roc_curve\n",
        "y_pred_cnn4 = model.predict(X_test).ravel()\n",
        "fpr_4, tpr_4, thresholds = roc_curve(y_test, y_pred_cnn4)\n",
        "from sklearn.metrics import auc\n",
        "auc_score4 = auc(fpr_4, tpr_4)\n",
        "auc_score4"
      ],
      "metadata": {
        "colab": {
          "base_uri": "https://localhost:8080/"
        },
        "id": "Q9gt8VjjVcje",
        "outputId": "faff4a61-d28d-43d3-a7a7-6c5f0fb3233c"
      },
      "execution_count": 100,
      "outputs": [
        {
          "output_type": "execute_result",
          "data": {
            "text/plain": [
              "0.7831569664902999"
            ]
          },
          "metadata": {},
          "execution_count": 100
        }
      ]
    },
    {
      "cell_type": "code",
      "source": [
        "from sklearn.metrics import average_precision_score, precision_recall_curve\n",
        "y_pred_cnn4 = model.predict(X_test).ravel()\n",
        "precision_4, recall_4, thresholds = precision_recall_curve(y_test, y_pred_cnn4)\n",
        "aupr_score4 = auc(recall_4, precision_4)\n",
        "print(aupr_score4)"
      ],
      "metadata": {
        "colab": {
          "base_uri": "https://localhost:8080/"
        },
        "id": "THxOOmOI0p70",
        "outputId": "2e082785-cd41-43da-8b84-580dcd7e93e5"
      },
      "execution_count": 101,
      "outputs": [
        {
          "output_type": "stream",
          "name": "stdout",
          "text": [
            "0.7695855491449191\n"
          ]
        }
      ]
    },
    {
      "cell_type": "markdown",
      "source": [
        "## 5. Glove+Word2vec"
      ],
      "metadata": {
        "id": "IifR7OA_Wb2j"
      }
    },
    {
      "cell_type": "code",
      "source": [
        "import pandas as pd\n",
        "from pandas import read_excel\n",
        "file_name = '/content/gdrive/MyDrive/word2vec+Glove_allghor.csv'\n",
        "# Glove3decimal.csv\n",
        "# Gloveallghor.csv \n",
        "#df = pd.read_csv(file_name, index_col=0)\n",
        "df = pd.read_csv(file_name)\n",
        "print(df.head()) # print the first 5 rows"
      ],
      "metadata": {
        "colab": {
          "base_uri": "https://localhost:8080/"
        },
        "id": "_YAvYZAmVrrl",
        "outputId": "e88f86dc-2c97-4493-b889-d9439037a612"
      },
      "execution_count": 102,
      "outputs": [
        {
          "output_type": "stream",
          "name": "stdout",
          "text": [
            "       tpc0      tpc1      tpc2      tpc3      tpc4      tpc5      tpc6  \\\n",
            "0 -0.037980 -0.022374 -0.000357 -0.052267 -0.080404 -0.026881  0.054797   \n",
            "1 -0.046191 -0.036129 -0.002969 -0.074574 -0.081948 -0.029251  0.039459   \n",
            "2 -0.039378 -0.029917 -0.002562 -0.051458 -0.080362 -0.040203  0.048534   \n",
            "3 -0.037194 -0.028180  0.002139 -0.050322 -0.086340 -0.028409  0.051199   \n",
            "4 -0.038799 -0.011877  0.008337 -0.024062 -0.086949 -0.031327  0.053610   \n",
            "\n",
            "       tpc7      tpc8      tpc9  ...   PSSM504   PSSM505   PSSM506   PSSM507  \\\n",
            "0 -0.015409 -0.011325 -0.086878  ...  0.034153 -0.028236  0.067696 -0.096331   \n",
            "1 -0.008533 -0.009899 -0.084967  ...  0.035826 -0.019969  0.041198 -0.089281   \n",
            "2  0.002905 -0.015046 -0.078904  ...  0.027479 -0.015310  0.053065 -0.039859   \n",
            "3 -0.011362 -0.014576 -0.086905  ...  0.037971 -0.036039  0.087234 -0.085197   \n",
            "4 -0.003705 -0.022229 -0.075298  ...  0.012862 -0.017681  0.083901 -0.106877   \n",
            "\n",
            "    PSSM508   PSSM509   PSSM510   PSSM511  Glove512  Target  \n",
            "0  0.025590  0.039283 -0.050542  0.122821 -0.076334       0  \n",
            "1  0.003722  0.021992 -0.056355  0.113405 -0.034552       1  \n",
            "2  0.043501  0.054468 -0.056376  0.150060 -0.062847       0  \n",
            "3  0.009901  0.028044 -0.068661  0.123129 -0.058323       0  \n",
            "4  0.073434  0.078891 -0.050987  0.136574 -0.083851       1  \n",
            "\n",
            "[5 rows x 1025 columns]\n"
          ]
        }
      ]
    },
    {
      "cell_type": "code",
      "source": [
        "features = np.array(df.columns[:-1])\n",
        "target = 'Target'\n",
        "\n",
        "X = df[features]\n",
        "y = df[target]"
      ],
      "metadata": {
        "id": "Axv7Z-v-Wk1D"
      },
      "execution_count": 103,
      "outputs": []
    },
    {
      "cell_type": "code",
      "source": [
        "X_train, X_test, y_train, y_test = train_test_split(X, y, test_size=0.10, random_state=100)"
      ],
      "metadata": {
        "id": "hddkhPM8WtuI"
      },
      "execution_count": 104,
      "outputs": []
    },
    {
      "cell_type": "code",
      "source": [
        "def xgb_shap_values(X_train, y_train, X_test):\n",
        "\n",
        "    model = XGBClassifier()\n",
        "    model.fit(X_train, y_train)\n",
        "    explainer = shap.TreeExplainer(model, X_train)\n",
        "    shap_values_xgb = explainer.shap_values(X_test)\n",
        "    # shap.summary_plot(shap_values_xgb, X_test)\n",
        "    # shap.summary_plot(shap_values_xgb, X_test, plot_type ='bar')\n",
        "    # shap.dependence_plot(\"Age\", shap_values_xgb, X_test, interaction_index = 'rate Po2')\n",
        "    shap_sum = np.abs(shap_values_xgb).mean(axis=0)\n",
        "    importance_df = pd.DataFrame([features, shap_sum.tolist()]).T\n",
        "    importance_df.columns = ['Column Name', 'Shap Importance']\n",
        "    importance_df= importance_df.sort_values('Shap Importance', ascending = False)\n",
        "    return importance_df"
      ],
      "metadata": {
        "id": "0jF-ej51Wyaw"
      },
      "execution_count": 105,
      "outputs": []
    },
    {
      "cell_type": "code",
      "source": [
        "selected_df = xgb_shap_values(X_train, y_train,  X_test)"
      ],
      "metadata": {
        "id": "DGIeLZxLW1Ab"
      },
      "execution_count": 106,
      "outputs": []
    },
    {
      "cell_type": "code",
      "source": [
        "selected_df = selected_df[0:300]\n",
        "selected_df"
      ],
      "metadata": {
        "colab": {
          "base_uri": "https://localhost:8080/",
          "height": 424
        },
        "id": "N0jCDZBpW3pp",
        "outputId": "f7c0d741-e325-463b-881e-8b53e5bb9840"
      },
      "execution_count": 107,
      "outputs": [
        {
          "output_type": "execute_result",
          "data": {
            "text/plain": [
              "    Column Name Shap Importance\n",
              "564      PSSM52        0.145192\n",
              "927     PSSM416        0.130272\n",
              "796     PSSM284        0.117195\n",
              "235      tpc235        0.098058\n",
              "61        tpc61        0.092915\n",
              "..          ...             ...\n",
              "593      PSSM81        0.002949\n",
              "153      tpc153        0.002903\n",
              "516       PSSM4        0.002847\n",
              "388      tpc388        0.002829\n",
              "285      tpc285         0.00282\n",
              "\n",
              "[300 rows x 2 columns]"
            ],
            "text/html": [
              "\n",
              "  <div id=\"df-39237f52-1e37-4515-aa8f-90d9ca8cbd08\">\n",
              "    <div class=\"colab-df-container\">\n",
              "      <div>\n",
              "<style scoped>\n",
              "    .dataframe tbody tr th:only-of-type {\n",
              "        vertical-align: middle;\n",
              "    }\n",
              "\n",
              "    .dataframe tbody tr th {\n",
              "        vertical-align: top;\n",
              "    }\n",
              "\n",
              "    .dataframe thead th {\n",
              "        text-align: right;\n",
              "    }\n",
              "</style>\n",
              "<table border=\"1\" class=\"dataframe\">\n",
              "  <thead>\n",
              "    <tr style=\"text-align: right;\">\n",
              "      <th></th>\n",
              "      <th>Column Name</th>\n",
              "      <th>Shap Importance</th>\n",
              "    </tr>\n",
              "  </thead>\n",
              "  <tbody>\n",
              "    <tr>\n",
              "      <th>564</th>\n",
              "      <td>PSSM52</td>\n",
              "      <td>0.145192</td>\n",
              "    </tr>\n",
              "    <tr>\n",
              "      <th>927</th>\n",
              "      <td>PSSM416</td>\n",
              "      <td>0.130272</td>\n",
              "    </tr>\n",
              "    <tr>\n",
              "      <th>796</th>\n",
              "      <td>PSSM284</td>\n",
              "      <td>0.117195</td>\n",
              "    </tr>\n",
              "    <tr>\n",
              "      <th>235</th>\n",
              "      <td>tpc235</td>\n",
              "      <td>0.098058</td>\n",
              "    </tr>\n",
              "    <tr>\n",
              "      <th>61</th>\n",
              "      <td>tpc61</td>\n",
              "      <td>0.092915</td>\n",
              "    </tr>\n",
              "    <tr>\n",
              "      <th>...</th>\n",
              "      <td>...</td>\n",
              "      <td>...</td>\n",
              "    </tr>\n",
              "    <tr>\n",
              "      <th>593</th>\n",
              "      <td>PSSM81</td>\n",
              "      <td>0.002949</td>\n",
              "    </tr>\n",
              "    <tr>\n",
              "      <th>153</th>\n",
              "      <td>tpc153</td>\n",
              "      <td>0.002903</td>\n",
              "    </tr>\n",
              "    <tr>\n",
              "      <th>516</th>\n",
              "      <td>PSSM4</td>\n",
              "      <td>0.002847</td>\n",
              "    </tr>\n",
              "    <tr>\n",
              "      <th>388</th>\n",
              "      <td>tpc388</td>\n",
              "      <td>0.002829</td>\n",
              "    </tr>\n",
              "    <tr>\n",
              "      <th>285</th>\n",
              "      <td>tpc285</td>\n",
              "      <td>0.00282</td>\n",
              "    </tr>\n",
              "  </tbody>\n",
              "</table>\n",
              "<p>300 rows × 2 columns</p>\n",
              "</div>\n",
              "      <button class=\"colab-df-convert\" onclick=\"convertToInteractive('df-39237f52-1e37-4515-aa8f-90d9ca8cbd08')\"\n",
              "              title=\"Convert this dataframe to an interactive table.\"\n",
              "              style=\"display:none;\">\n",
              "        \n",
              "  <svg xmlns=\"http://www.w3.org/2000/svg\" height=\"24px\"viewBox=\"0 0 24 24\"\n",
              "       width=\"24px\">\n",
              "    <path d=\"M0 0h24v24H0V0z\" fill=\"none\"/>\n",
              "    <path d=\"M18.56 5.44l.94 2.06.94-2.06 2.06-.94-2.06-.94-.94-2.06-.94 2.06-2.06.94zm-11 1L8.5 8.5l.94-2.06 2.06-.94-2.06-.94L8.5 2.5l-.94 2.06-2.06.94zm10 10l.94 2.06.94-2.06 2.06-.94-2.06-.94-.94-2.06-.94 2.06-2.06.94z\"/><path d=\"M17.41 7.96l-1.37-1.37c-.4-.4-.92-.59-1.43-.59-.52 0-1.04.2-1.43.59L10.3 9.45l-7.72 7.72c-.78.78-.78 2.05 0 2.83L4 21.41c.39.39.9.59 1.41.59.51 0 1.02-.2 1.41-.59l7.78-7.78 2.81-2.81c.8-.78.8-2.07 0-2.86zM5.41 20L4 18.59l7.72-7.72 1.47 1.35L5.41 20z\"/>\n",
              "  </svg>\n",
              "      </button>\n",
              "      \n",
              "  <style>\n",
              "    .colab-df-container {\n",
              "      display:flex;\n",
              "      flex-wrap:wrap;\n",
              "      gap: 12px;\n",
              "    }\n",
              "\n",
              "    .colab-df-convert {\n",
              "      background-color: #E8F0FE;\n",
              "      border: none;\n",
              "      border-radius: 50%;\n",
              "      cursor: pointer;\n",
              "      display: none;\n",
              "      fill: #1967D2;\n",
              "      height: 32px;\n",
              "      padding: 0 0 0 0;\n",
              "      width: 32px;\n",
              "    }\n",
              "\n",
              "    .colab-df-convert:hover {\n",
              "      background-color: #E2EBFA;\n",
              "      box-shadow: 0px 1px 2px rgba(60, 64, 67, 0.3), 0px 1px 3px 1px rgba(60, 64, 67, 0.15);\n",
              "      fill: #174EA6;\n",
              "    }\n",
              "\n",
              "    [theme=dark] .colab-df-convert {\n",
              "      background-color: #3B4455;\n",
              "      fill: #D2E3FC;\n",
              "    }\n",
              "\n",
              "    [theme=dark] .colab-df-convert:hover {\n",
              "      background-color: #434B5C;\n",
              "      box-shadow: 0px 1px 3px 1px rgba(0, 0, 0, 0.15);\n",
              "      filter: drop-shadow(0px 1px 2px rgba(0, 0, 0, 0.3));\n",
              "      fill: #FFFFFF;\n",
              "    }\n",
              "  </style>\n",
              "\n",
              "      <script>\n",
              "        const buttonEl =\n",
              "          document.querySelector('#df-39237f52-1e37-4515-aa8f-90d9ca8cbd08 button.colab-df-convert');\n",
              "        buttonEl.style.display =\n",
              "          google.colab.kernel.accessAllowed ? 'block' : 'none';\n",
              "\n",
              "        async function convertToInteractive(key) {\n",
              "          const element = document.querySelector('#df-39237f52-1e37-4515-aa8f-90d9ca8cbd08');\n",
              "          const dataTable =\n",
              "            await google.colab.kernel.invokeFunction('convertToInteractive',\n",
              "                                                     [key], {});\n",
              "          if (!dataTable) return;\n",
              "\n",
              "          const docLinkHtml = 'Like what you see? Visit the ' +\n",
              "            '<a target=\"_blank\" href=https://colab.research.google.com/notebooks/data_table.ipynb>data table notebook</a>'\n",
              "            + ' to learn more about interactive tables.';\n",
              "          element.innerHTML = '';\n",
              "          dataTable['output_type'] = 'display_data';\n",
              "          await google.colab.output.renderOutput(dataTable, element);\n",
              "          const docLink = document.createElement('div');\n",
              "          docLink.innerHTML = docLinkHtml;\n",
              "          element.appendChild(docLink);\n",
              "        }\n",
              "      </script>\n",
              "    </div>\n",
              "  </div>\n",
              "  "
            ]
          },
          "metadata": {},
          "execution_count": 107
        }
      ]
    },
    {
      "cell_type": "code",
      "source": [
        "cols = selected_df['Column Name']\n",
        "cols"
      ],
      "metadata": {
        "colab": {
          "base_uri": "https://localhost:8080/"
        },
        "id": "V4NCF4TtW7XI",
        "outputId": "e71bc170-a87e-4079-854f-2edde61dd2a6"
      },
      "execution_count": 108,
      "outputs": [
        {
          "output_type": "execute_result",
          "data": {
            "text/plain": [
              "564     PSSM52\n",
              "927    PSSM416\n",
              "796    PSSM284\n",
              "235     tpc235\n",
              "61       tpc61\n",
              "        ...   \n",
              "593     PSSM81\n",
              "153     tpc153\n",
              "516      PSSM4\n",
              "388     tpc388\n",
              "285     tpc285\n",
              "Name: Column Name, Length: 300, dtype: object"
            ]
          },
          "metadata": {},
          "execution_count": 108
        }
      ]
    },
    {
      "cell_type": "code",
      "source": [
        "## converting df to numpy array/list\n",
        "trainingdf = np.array(cols)\n",
        "trainingdf"
      ],
      "metadata": {
        "colab": {
          "base_uri": "https://localhost:8080/"
        },
        "id": "l4aayxnOW-kp",
        "outputId": "a4bf9f4d-ffa7-4c04-d1c2-b49ecfdb0b55"
      },
      "execution_count": 109,
      "outputs": [
        {
          "output_type": "execute_result",
          "data": {
            "text/plain": [
              "array(['PSSM52', 'PSSM416', 'PSSM284', 'tpc235', 'tpc61', 'PSSM309',\n",
              "       'tpc239', 'tpc312', 'PSSM392', 'PSSM206', 'tpc455', 'tpc389',\n",
              "       'PSSM445', 'tpc53', 'PSSM434', 'tpc240', 'tpc293', 'PSSM266',\n",
              "       'tpc272', 'tpc479', 'tpc252', 'PSSM12', 'PSSM221', 'PSSM230',\n",
              "       'tpc220', 'PSSM242', 'PSSM21', 'PSSM234', 'PSSM196', 'tpc181',\n",
              "       'PSSM75', 'tpc203', 'PSSM382', 'Glove512', 'PSSM57', 'PSSM334',\n",
              "       'tpc427', 'tpc346', 'PSSM71', 'PSSM350', 'PSSM497', 'tpc247',\n",
              "       'PSSM342', 'tpc99', 'PSSM477', 'tpc218', 'tpc371', 'tpc29',\n",
              "       'tpc211', 'PSSM304', 'tpc393', 'PSSM267', 'tpc423', 'PSSM332',\n",
              "       'tpc241', 'PSSM93', 'tpc382', 'tpc107', 'PSSM458', 'PSSM48',\n",
              "       'tpc364', 'PSSM366', 'tpc449', 'tpc353', 'PSSM473', 'PSSM306',\n",
              "       'PSSM168', 'tpc254', 'PSSM37', 'tpc31', 'tpc341', 'PSSM67',\n",
              "       'tpc185', 'PSSM373', 'tpc486', 'PSSM207', 'PSSM443', 'PSSM11',\n",
              "       'tpc82', 'PSSM495', 'tpc301', 'tpc314', 'tpc150', 'tpc338',\n",
              "       'PSSM380', 'PSSM35', 'tpc509', 'PSSM471', 'tpc425', 'tpc369',\n",
              "       'PSSM42', 'tpc264', 'tpc65', 'tpc462', 'tpc262', 'tpc34', 'tpc298',\n",
              "       'PSSM355', 'PSSM174', 'tpc89', 'tpc75', 'PSSM404', 'tpc94',\n",
              "       'tpc404', 'PSSM428', 'tpc453', 'PSSM28', 'PSSM290', 'tpc309',\n",
              "       'tpc157', 'tpc337', 'tpc294', 'PSSM494', 'PSSM361', 'tpc464',\n",
              "       'PSSM506', 'tpc23', 'PSSM134', 'tpc41', 'tpc454', 'PSSM323',\n",
              "       'tpc186', 'tpc498', 'PSSM107', 'PSSM341', 'PSSM289', 'tpc126',\n",
              "       'tpc340', 'tpc213', 'tpc484', 'tpc507', 'tpc403', 'tpc226',\n",
              "       'PSSM257', 'tpc366', 'tpc375', 'tpc450', 'PSSM504', 'tpc122',\n",
              "       'tpc225', 'tpc319', 'PSSM203', 'tpc500', 'tpc311', 'tpc279',\n",
              "       'tpc494', 'tpc461', 'tpc299', 'tpc172', 'tpc159', 'tpc495',\n",
              "       'PSSM56', 'PSSM312', 'tpc266', 'tpc248', 'PSSM17', 'PSSM283',\n",
              "       'PSSM233', 'PSSM330', 'PSSM251', 'PSSM145', 'PSSM231', 'PSSM343',\n",
              "       'tpc441', 'PSSM112', 'tpc38', 'PSSM464', 'PSSM301', 'tpc103',\n",
              "       'PSSM155', 'tpc219', 'tpc260', 'tpc488', 'tpc289', 'PSSM339',\n",
              "       'PSSM454', 'tpc106', 'tpc506', 'tpc5', 'PSSM482', 'tpc426',\n",
              "       'tpc212', 'tpc251', 'tpc419', 'PSSM109', 'PSSM325', 'PSSM156',\n",
              "       'PSSM15', 'tpc431', 'tpc57', 'tpc265', 'tpc164', 'PSSM113',\n",
              "       'tpc368', 'PSSM420', 'tpc131', 'PSSM144', 'PSSM31', 'PSSM311',\n",
              "       'tpc237', 'PSSM280', 'PSSM32', 'PSSM490', 'PSSM66', 'PSSM85',\n",
              "       'PSSM133', 'PSSM365', 'tpc473', 'PSSM455', 'PSSM363', 'tpc96',\n",
              "       'tpc434', 'tpc446', 'PSSM351', 'tpc119', 'PSSM403', 'tpc86',\n",
              "       'PSSM45', 'PSSM296', 'PSSM310', 'tpc292', 'PSSM484', 'tpc458',\n",
              "       'PSSM411', 'PSSM24', 'PSSM148', 'tpc232', 'PSSM63', 'PSSM426',\n",
              "       'PSSM164', 'tpc209', 'tpc412', 'tpc73', 'tpc345', 'PSSM297',\n",
              "       'PSSM260', 'tpc32', 'tpc146', 'PSSM202', 'PSSM394', 'tpc2',\n",
              "       'PSSM476', 'tpc90', 'PSSM374', 'PSSM414', 'PSSM298', 'tpc121',\n",
              "       'tpc257', 'PSSM223', 'tpc199', 'PSSM240', 'tpc46', 'tpc174',\n",
              "       'tpc233', 'tpc339', 'PSSM346', 'PSSM336', 'PSSM278', 'PSSM6',\n",
              "       'tpc428', 'tpc410', 'tpc214', 'PSSM417', 'tpc496', 'tpc30',\n",
              "       'PSSM344', 'PSSM393', 'PSSM129', 'tpc430', 'PSSM22', 'PSSM143',\n",
              "       'PSSM43', 'tpc487', 'PSSM239', 'PSSM303', 'PSSM58', 'PSSM190',\n",
              "       'tpc93', 'PSSM2', 'PSSM220', 'tpc175', 'PSSM34', 'PSSM140',\n",
              "       'PSSM499', 'tpc332', 'PSSM50', 'PSSM503', 'tpc104', 'PSSM319',\n",
              "       'tpc222', 'tpc170', 'PSSM449', 'PSSM379', 'PSSM401', 'tpc510',\n",
              "       'PSSM81', 'tpc153', 'PSSM4', 'tpc388', 'tpc285'], dtype=object)"
            ]
          },
          "metadata": {},
          "execution_count": 109
        }
      ]
    },
    {
      "cell_type": "code",
      "source": [
        "df1 = X[trainingdf]\n",
        "df1"
      ],
      "metadata": {
        "colab": {
          "base_uri": "https://localhost:8080/",
          "height": 488
        },
        "id": "NNbImX_cXCBI",
        "outputId": "5a558ef2-8bf8-4538-cb1e-c021e36b04d2"
      },
      "execution_count": 110,
      "outputs": [
        {
          "output_type": "execute_result",
          "data": {
            "text/plain": [
              "        PSSM52   PSSM416   PSSM284    tpc235     tpc61   PSSM309    tpc239  \\\n",
              "0     0.000303  0.074675  0.022926  0.010229 -0.076293 -0.008475  0.013926   \n",
              "1    -0.045227  0.069659 -0.011425  0.003465 -0.077782 -0.014077  0.016467   \n",
              "2    -0.060085  0.045235 -0.073880  0.016035 -0.078777 -0.018651  0.013065   \n",
              "3    -0.012383  0.064951 -0.004089  0.011590 -0.073037 -0.018442  0.011073   \n",
              "4    -0.061718  0.078552 -0.052266  0.016680 -0.074774 -0.007323  0.009810   \n",
              "...        ...       ...       ...       ...       ...       ...       ...   \n",
              "2099 -0.044671  0.071531 -0.023707  0.011628 -0.074539 -0.009770  0.015182   \n",
              "2100 -0.045447  0.067351 -0.015519  0.008688 -0.075958 -0.002864  0.014385   \n",
              "2101 -0.052384  0.065811 -0.028533  0.007752 -0.077944 -0.012569  0.016328   \n",
              "2102 -0.035019  0.080016 -0.017203  0.011541 -0.074126 -0.017068  0.015239   \n",
              "2103 -0.041023  0.067424 -0.028115  0.010728 -0.076822 -0.009024  0.019335   \n",
              "\n",
              "        tpc312   PSSM392   PSSM206  ...    tpc170   PSSM449   PSSM379  \\\n",
              "0     0.027256 -0.051484 -0.040233  ... -0.000614 -0.106533  0.024215   \n",
              "1     0.029865 -0.083224  0.010146  ... -0.003671 -0.161037 -0.004326   \n",
              "2     0.028626 -0.110592 -0.020193  ... -0.002857 -0.131219  0.001236   \n",
              "3     0.025219 -0.036874 -0.056375  ... -0.002094 -0.103727  0.026874   \n",
              "4     0.022120 -0.062800 -0.045689  ... -0.000980 -0.120236  0.004081   \n",
              "...        ...       ...       ...  ...       ...       ...       ...   \n",
              "2099  0.027533 -0.072365 -0.025527  ... -0.002949 -0.130112  0.008404   \n",
              "2100  0.028595 -0.082072 -0.011700  ... -0.002542 -0.137588  0.004307   \n",
              "2101  0.027305 -0.087002 -0.002161  ... -0.004572 -0.147341 -0.009221   \n",
              "2102  0.027103 -0.075752 -0.027259  ... -0.001014 -0.140272  0.015838   \n",
              "2103  0.027581 -0.094444 -0.011000  ... -0.001168 -0.131235  0.007208   \n",
              "\n",
              "       PSSM401    tpc510    PSSM81    tpc153     PSSM4    tpc388    tpc285  \n",
              "0     0.120059  0.038233  0.035624  0.022382  0.079776  0.042437  0.011874  \n",
              "1     0.116051  0.038115  0.062233  0.021563  0.070794  0.039656  0.013807  \n",
              "2     0.077161  0.024425  0.055215  0.025351  0.067112  0.044888  0.019474  \n",
              "3     0.117216  0.035481  0.044835  0.018017  0.086997  0.044442  0.010127  \n",
              "4     0.100762  0.029901  0.056385  0.021925  0.086463  0.050007  0.016485  \n",
              "...        ...       ...       ...       ...       ...       ...       ...  \n",
              "2099  0.088379  0.032563  0.046400  0.022162  0.088356  0.043506  0.016981  \n",
              "2100  0.098264  0.039050  0.053515  0.021373  0.076066  0.040045  0.009903  \n",
              "2101  0.101151  0.029874  0.046322  0.020667  0.066579  0.045008  0.017228  \n",
              "2102  0.111606  0.038234  0.046258  0.019141  0.078160  0.043391  0.014775  \n",
              "2103  0.103340  0.034650  0.033468  0.022060  0.084796  0.041809  0.011374  \n",
              "\n",
              "[2104 rows x 300 columns]"
            ],
            "text/html": [
              "\n",
              "  <div id=\"df-361b5996-d5fa-4d2f-8ec8-feba214dda26\">\n",
              "    <div class=\"colab-df-container\">\n",
              "      <div>\n",
              "<style scoped>\n",
              "    .dataframe tbody tr th:only-of-type {\n",
              "        vertical-align: middle;\n",
              "    }\n",
              "\n",
              "    .dataframe tbody tr th {\n",
              "        vertical-align: top;\n",
              "    }\n",
              "\n",
              "    .dataframe thead th {\n",
              "        text-align: right;\n",
              "    }\n",
              "</style>\n",
              "<table border=\"1\" class=\"dataframe\">\n",
              "  <thead>\n",
              "    <tr style=\"text-align: right;\">\n",
              "      <th></th>\n",
              "      <th>PSSM52</th>\n",
              "      <th>PSSM416</th>\n",
              "      <th>PSSM284</th>\n",
              "      <th>tpc235</th>\n",
              "      <th>tpc61</th>\n",
              "      <th>PSSM309</th>\n",
              "      <th>tpc239</th>\n",
              "      <th>tpc312</th>\n",
              "      <th>PSSM392</th>\n",
              "      <th>PSSM206</th>\n",
              "      <th>...</th>\n",
              "      <th>tpc170</th>\n",
              "      <th>PSSM449</th>\n",
              "      <th>PSSM379</th>\n",
              "      <th>PSSM401</th>\n",
              "      <th>tpc510</th>\n",
              "      <th>PSSM81</th>\n",
              "      <th>tpc153</th>\n",
              "      <th>PSSM4</th>\n",
              "      <th>tpc388</th>\n",
              "      <th>tpc285</th>\n",
              "    </tr>\n",
              "  </thead>\n",
              "  <tbody>\n",
              "    <tr>\n",
              "      <th>0</th>\n",
              "      <td>0.000303</td>\n",
              "      <td>0.074675</td>\n",
              "      <td>0.022926</td>\n",
              "      <td>0.010229</td>\n",
              "      <td>-0.076293</td>\n",
              "      <td>-0.008475</td>\n",
              "      <td>0.013926</td>\n",
              "      <td>0.027256</td>\n",
              "      <td>-0.051484</td>\n",
              "      <td>-0.040233</td>\n",
              "      <td>...</td>\n",
              "      <td>-0.000614</td>\n",
              "      <td>-0.106533</td>\n",
              "      <td>0.024215</td>\n",
              "      <td>0.120059</td>\n",
              "      <td>0.038233</td>\n",
              "      <td>0.035624</td>\n",
              "      <td>0.022382</td>\n",
              "      <td>0.079776</td>\n",
              "      <td>0.042437</td>\n",
              "      <td>0.011874</td>\n",
              "    </tr>\n",
              "    <tr>\n",
              "      <th>1</th>\n",
              "      <td>-0.045227</td>\n",
              "      <td>0.069659</td>\n",
              "      <td>-0.011425</td>\n",
              "      <td>0.003465</td>\n",
              "      <td>-0.077782</td>\n",
              "      <td>-0.014077</td>\n",
              "      <td>0.016467</td>\n",
              "      <td>0.029865</td>\n",
              "      <td>-0.083224</td>\n",
              "      <td>0.010146</td>\n",
              "      <td>...</td>\n",
              "      <td>-0.003671</td>\n",
              "      <td>-0.161037</td>\n",
              "      <td>-0.004326</td>\n",
              "      <td>0.116051</td>\n",
              "      <td>0.038115</td>\n",
              "      <td>0.062233</td>\n",
              "      <td>0.021563</td>\n",
              "      <td>0.070794</td>\n",
              "      <td>0.039656</td>\n",
              "      <td>0.013807</td>\n",
              "    </tr>\n",
              "    <tr>\n",
              "      <th>2</th>\n",
              "      <td>-0.060085</td>\n",
              "      <td>0.045235</td>\n",
              "      <td>-0.073880</td>\n",
              "      <td>0.016035</td>\n",
              "      <td>-0.078777</td>\n",
              "      <td>-0.018651</td>\n",
              "      <td>0.013065</td>\n",
              "      <td>0.028626</td>\n",
              "      <td>-0.110592</td>\n",
              "      <td>-0.020193</td>\n",
              "      <td>...</td>\n",
              "      <td>-0.002857</td>\n",
              "      <td>-0.131219</td>\n",
              "      <td>0.001236</td>\n",
              "      <td>0.077161</td>\n",
              "      <td>0.024425</td>\n",
              "      <td>0.055215</td>\n",
              "      <td>0.025351</td>\n",
              "      <td>0.067112</td>\n",
              "      <td>0.044888</td>\n",
              "      <td>0.019474</td>\n",
              "    </tr>\n",
              "    <tr>\n",
              "      <th>3</th>\n",
              "      <td>-0.012383</td>\n",
              "      <td>0.064951</td>\n",
              "      <td>-0.004089</td>\n",
              "      <td>0.011590</td>\n",
              "      <td>-0.073037</td>\n",
              "      <td>-0.018442</td>\n",
              "      <td>0.011073</td>\n",
              "      <td>0.025219</td>\n",
              "      <td>-0.036874</td>\n",
              "      <td>-0.056375</td>\n",
              "      <td>...</td>\n",
              "      <td>-0.002094</td>\n",
              "      <td>-0.103727</td>\n",
              "      <td>0.026874</td>\n",
              "      <td>0.117216</td>\n",
              "      <td>0.035481</td>\n",
              "      <td>0.044835</td>\n",
              "      <td>0.018017</td>\n",
              "      <td>0.086997</td>\n",
              "      <td>0.044442</td>\n",
              "      <td>0.010127</td>\n",
              "    </tr>\n",
              "    <tr>\n",
              "      <th>4</th>\n",
              "      <td>-0.061718</td>\n",
              "      <td>0.078552</td>\n",
              "      <td>-0.052266</td>\n",
              "      <td>0.016680</td>\n",
              "      <td>-0.074774</td>\n",
              "      <td>-0.007323</td>\n",
              "      <td>0.009810</td>\n",
              "      <td>0.022120</td>\n",
              "      <td>-0.062800</td>\n",
              "      <td>-0.045689</td>\n",
              "      <td>...</td>\n",
              "      <td>-0.000980</td>\n",
              "      <td>-0.120236</td>\n",
              "      <td>0.004081</td>\n",
              "      <td>0.100762</td>\n",
              "      <td>0.029901</td>\n",
              "      <td>0.056385</td>\n",
              "      <td>0.021925</td>\n",
              "      <td>0.086463</td>\n",
              "      <td>0.050007</td>\n",
              "      <td>0.016485</td>\n",
              "    </tr>\n",
              "    <tr>\n",
              "      <th>...</th>\n",
              "      <td>...</td>\n",
              "      <td>...</td>\n",
              "      <td>...</td>\n",
              "      <td>...</td>\n",
              "      <td>...</td>\n",
              "      <td>...</td>\n",
              "      <td>...</td>\n",
              "      <td>...</td>\n",
              "      <td>...</td>\n",
              "      <td>...</td>\n",
              "      <td>...</td>\n",
              "      <td>...</td>\n",
              "      <td>...</td>\n",
              "      <td>...</td>\n",
              "      <td>...</td>\n",
              "      <td>...</td>\n",
              "      <td>...</td>\n",
              "      <td>...</td>\n",
              "      <td>...</td>\n",
              "      <td>...</td>\n",
              "      <td>...</td>\n",
              "    </tr>\n",
              "    <tr>\n",
              "      <th>2099</th>\n",
              "      <td>-0.044671</td>\n",
              "      <td>0.071531</td>\n",
              "      <td>-0.023707</td>\n",
              "      <td>0.011628</td>\n",
              "      <td>-0.074539</td>\n",
              "      <td>-0.009770</td>\n",
              "      <td>0.015182</td>\n",
              "      <td>0.027533</td>\n",
              "      <td>-0.072365</td>\n",
              "      <td>-0.025527</td>\n",
              "      <td>...</td>\n",
              "      <td>-0.002949</td>\n",
              "      <td>-0.130112</td>\n",
              "      <td>0.008404</td>\n",
              "      <td>0.088379</td>\n",
              "      <td>0.032563</td>\n",
              "      <td>0.046400</td>\n",
              "      <td>0.022162</td>\n",
              "      <td>0.088356</td>\n",
              "      <td>0.043506</td>\n",
              "      <td>0.016981</td>\n",
              "    </tr>\n",
              "    <tr>\n",
              "      <th>2100</th>\n",
              "      <td>-0.045447</td>\n",
              "      <td>0.067351</td>\n",
              "      <td>-0.015519</td>\n",
              "      <td>0.008688</td>\n",
              "      <td>-0.075958</td>\n",
              "      <td>-0.002864</td>\n",
              "      <td>0.014385</td>\n",
              "      <td>0.028595</td>\n",
              "      <td>-0.082072</td>\n",
              "      <td>-0.011700</td>\n",
              "      <td>...</td>\n",
              "      <td>-0.002542</td>\n",
              "      <td>-0.137588</td>\n",
              "      <td>0.004307</td>\n",
              "      <td>0.098264</td>\n",
              "      <td>0.039050</td>\n",
              "      <td>0.053515</td>\n",
              "      <td>0.021373</td>\n",
              "      <td>0.076066</td>\n",
              "      <td>0.040045</td>\n",
              "      <td>0.009903</td>\n",
              "    </tr>\n",
              "    <tr>\n",
              "      <th>2101</th>\n",
              "      <td>-0.052384</td>\n",
              "      <td>0.065811</td>\n",
              "      <td>-0.028533</td>\n",
              "      <td>0.007752</td>\n",
              "      <td>-0.077944</td>\n",
              "      <td>-0.012569</td>\n",
              "      <td>0.016328</td>\n",
              "      <td>0.027305</td>\n",
              "      <td>-0.087002</td>\n",
              "      <td>-0.002161</td>\n",
              "      <td>...</td>\n",
              "      <td>-0.004572</td>\n",
              "      <td>-0.147341</td>\n",
              "      <td>-0.009221</td>\n",
              "      <td>0.101151</td>\n",
              "      <td>0.029874</td>\n",
              "      <td>0.046322</td>\n",
              "      <td>0.020667</td>\n",
              "      <td>0.066579</td>\n",
              "      <td>0.045008</td>\n",
              "      <td>0.017228</td>\n",
              "    </tr>\n",
              "    <tr>\n",
              "      <th>2102</th>\n",
              "      <td>-0.035019</td>\n",
              "      <td>0.080016</td>\n",
              "      <td>-0.017203</td>\n",
              "      <td>0.011541</td>\n",
              "      <td>-0.074126</td>\n",
              "      <td>-0.017068</td>\n",
              "      <td>0.015239</td>\n",
              "      <td>0.027103</td>\n",
              "      <td>-0.075752</td>\n",
              "      <td>-0.027259</td>\n",
              "      <td>...</td>\n",
              "      <td>-0.001014</td>\n",
              "      <td>-0.140272</td>\n",
              "      <td>0.015838</td>\n",
              "      <td>0.111606</td>\n",
              "      <td>0.038234</td>\n",
              "      <td>0.046258</td>\n",
              "      <td>0.019141</td>\n",
              "      <td>0.078160</td>\n",
              "      <td>0.043391</td>\n",
              "      <td>0.014775</td>\n",
              "    </tr>\n",
              "    <tr>\n",
              "      <th>2103</th>\n",
              "      <td>-0.041023</td>\n",
              "      <td>0.067424</td>\n",
              "      <td>-0.028115</td>\n",
              "      <td>0.010728</td>\n",
              "      <td>-0.076822</td>\n",
              "      <td>-0.009024</td>\n",
              "      <td>0.019335</td>\n",
              "      <td>0.027581</td>\n",
              "      <td>-0.094444</td>\n",
              "      <td>-0.011000</td>\n",
              "      <td>...</td>\n",
              "      <td>-0.001168</td>\n",
              "      <td>-0.131235</td>\n",
              "      <td>0.007208</td>\n",
              "      <td>0.103340</td>\n",
              "      <td>0.034650</td>\n",
              "      <td>0.033468</td>\n",
              "      <td>0.022060</td>\n",
              "      <td>0.084796</td>\n",
              "      <td>0.041809</td>\n",
              "      <td>0.011374</td>\n",
              "    </tr>\n",
              "  </tbody>\n",
              "</table>\n",
              "<p>2104 rows × 300 columns</p>\n",
              "</div>\n",
              "      <button class=\"colab-df-convert\" onclick=\"convertToInteractive('df-361b5996-d5fa-4d2f-8ec8-feba214dda26')\"\n",
              "              title=\"Convert this dataframe to an interactive table.\"\n",
              "              style=\"display:none;\">\n",
              "        \n",
              "  <svg xmlns=\"http://www.w3.org/2000/svg\" height=\"24px\"viewBox=\"0 0 24 24\"\n",
              "       width=\"24px\">\n",
              "    <path d=\"M0 0h24v24H0V0z\" fill=\"none\"/>\n",
              "    <path d=\"M18.56 5.44l.94 2.06.94-2.06 2.06-.94-2.06-.94-.94-2.06-.94 2.06-2.06.94zm-11 1L8.5 8.5l.94-2.06 2.06-.94-2.06-.94L8.5 2.5l-.94 2.06-2.06.94zm10 10l.94 2.06.94-2.06 2.06-.94-2.06-.94-.94-2.06-.94 2.06-2.06.94z\"/><path d=\"M17.41 7.96l-1.37-1.37c-.4-.4-.92-.59-1.43-.59-.52 0-1.04.2-1.43.59L10.3 9.45l-7.72 7.72c-.78.78-.78 2.05 0 2.83L4 21.41c.39.39.9.59 1.41.59.51 0 1.02-.2 1.41-.59l7.78-7.78 2.81-2.81c.8-.78.8-2.07 0-2.86zM5.41 20L4 18.59l7.72-7.72 1.47 1.35L5.41 20z\"/>\n",
              "  </svg>\n",
              "      </button>\n",
              "      \n",
              "  <style>\n",
              "    .colab-df-container {\n",
              "      display:flex;\n",
              "      flex-wrap:wrap;\n",
              "      gap: 12px;\n",
              "    }\n",
              "\n",
              "    .colab-df-convert {\n",
              "      background-color: #E8F0FE;\n",
              "      border: none;\n",
              "      border-radius: 50%;\n",
              "      cursor: pointer;\n",
              "      display: none;\n",
              "      fill: #1967D2;\n",
              "      height: 32px;\n",
              "      padding: 0 0 0 0;\n",
              "      width: 32px;\n",
              "    }\n",
              "\n",
              "    .colab-df-convert:hover {\n",
              "      background-color: #E2EBFA;\n",
              "      box-shadow: 0px 1px 2px rgba(60, 64, 67, 0.3), 0px 1px 3px 1px rgba(60, 64, 67, 0.15);\n",
              "      fill: #174EA6;\n",
              "    }\n",
              "\n",
              "    [theme=dark] .colab-df-convert {\n",
              "      background-color: #3B4455;\n",
              "      fill: #D2E3FC;\n",
              "    }\n",
              "\n",
              "    [theme=dark] .colab-df-convert:hover {\n",
              "      background-color: #434B5C;\n",
              "      box-shadow: 0px 1px 3px 1px rgba(0, 0, 0, 0.15);\n",
              "      filter: drop-shadow(0px 1px 2px rgba(0, 0, 0, 0.3));\n",
              "      fill: #FFFFFF;\n",
              "    }\n",
              "  </style>\n",
              "\n",
              "      <script>\n",
              "        const buttonEl =\n",
              "          document.querySelector('#df-361b5996-d5fa-4d2f-8ec8-feba214dda26 button.colab-df-convert');\n",
              "        buttonEl.style.display =\n",
              "          google.colab.kernel.accessAllowed ? 'block' : 'none';\n",
              "\n",
              "        async function convertToInteractive(key) {\n",
              "          const element = document.querySelector('#df-361b5996-d5fa-4d2f-8ec8-feba214dda26');\n",
              "          const dataTable =\n",
              "            await google.colab.kernel.invokeFunction('convertToInteractive',\n",
              "                                                     [key], {});\n",
              "          if (!dataTable) return;\n",
              "\n",
              "          const docLinkHtml = 'Like what you see? Visit the ' +\n",
              "            '<a target=\"_blank\" href=https://colab.research.google.com/notebooks/data_table.ipynb>data table notebook</a>'\n",
              "            + ' to learn more about interactive tables.';\n",
              "          element.innerHTML = '';\n",
              "          dataTable['output_type'] = 'display_data';\n",
              "          await google.colab.output.renderOutput(dataTable, element);\n",
              "          const docLink = document.createElement('div');\n",
              "          docLink.innerHTML = docLinkHtml;\n",
              "          element.appendChild(docLink);\n",
              "        }\n",
              "      </script>\n",
              "    </div>\n",
              "  </div>\n",
              "  "
            ]
          },
          "metadata": {},
          "execution_count": 110
        }
      ]
    },
    {
      "cell_type": "code",
      "source": [
        "X = df1\n",
        "y = y"
      ],
      "metadata": {
        "id": "xiBz8cW1XGLN"
      },
      "execution_count": 111,
      "outputs": []
    },
    {
      "cell_type": "code",
      "source": [
        "count_classes = pd.value_counts(y, sort = True)\n",
        "\n",
        "count_classes.plot(kind = 'bar', rot=0)\n",
        "\n",
        "plt.title(\"Class Distribution\")\n",
        "\n",
        "LABELS = [\"Zero\", \"One\"]\n",
        "\n",
        "plt.xticks(range(2), LABELS)\n",
        "\n",
        "plt.xlabel(\"Class\")\n",
        "\n",
        "plt.ylabel(\"Frequency\")"
      ],
      "metadata": {
        "colab": {
          "base_uri": "https://localhost:8080/",
          "height": 312
        },
        "id": "lh0_wmN-XJVe",
        "outputId": "82f49689-5d99-433f-cac7-6956efedbf2f"
      },
      "execution_count": 112,
      "outputs": [
        {
          "output_type": "execute_result",
          "data": {
            "text/plain": [
              "Text(0, 0.5, 'Frequency')"
            ]
          },
          "metadata": {},
          "execution_count": 112
        },
        {
          "output_type": "display_data",
          "data": {
            "text/plain": [
              "<Figure size 432x288 with 1 Axes>"
            ],
            "image/png": "[encoded data removed]"
          },
          "metadata": {
            "needs_background": "light"
          }
        }
      ]
    },
    {
      "cell_type": "code",
      "source": [
        "One = df[y==1]\n",
        "\n",
        "Zero = df[y==0]\n",
        "\n",
        "print(Zero.shape,One.shape)"
      ],
      "metadata": {
        "colab": {
          "base_uri": "https://localhost:8080/"
        },
        "id": "GBJncT4SXMGi",
        "outputId": "ae062c9e-8437-479b-a9e1-f085620f7136"
      },
      "execution_count": 113,
      "outputs": [
        {
          "output_type": "stream",
          "name": "stdout",
          "text": [
            "(1041, 1025) (1063, 1025)\n"
          ]
        }
      ]
    },
    {
      "cell_type": "code",
      "source": [
        "from imblearn.over_sampling import SMOTE\n",
        "sm = SMOTE(sampling_strategy='minority')\n",
        "X_res,y_res=sm.fit_resample(X,y)"
      ],
      "metadata": {
        "id": "qDMZrLrDXOnf"
      },
      "execution_count": 114,
      "outputs": []
    },
    {
      "cell_type": "code",
      "source": [
        "print(X_res.shape)\n",
        "print(y_res.shape)"
      ],
      "metadata": {
        "colab": {
          "base_uri": "https://localhost:8080/"
        },
        "id": "qdsNUyEcXRt_",
        "outputId": "a1f0f0eb-bcf3-4854-beb0-bafa85704596"
      },
      "execution_count": 115,
      "outputs": [
        {
          "output_type": "stream",
          "name": "stdout",
          "text": [
            "(2126, 300)\n",
            "(2126,)\n"
          ]
        }
      ]
    },
    {
      "cell_type": "code",
      "source": [
        "#Split data into independent (X) and dependent(Y) columns\n",
        "\n",
        "y = y_res\n",
        "X = X_res"
      ],
      "metadata": {
        "id": "DqVtlJ5pXUvu"
      },
      "execution_count": 116,
      "outputs": []
    },
    {
      "cell_type": "code",
      "source": [
        "from sklearn.model_selection import train_test_split\n",
        "X_train, X_test, y_train, y_test = train_test_split(X, y, test_size = 0.20, random_state = 0)"
      ],
      "metadata": {
        "id": "QUyKNshFXYXD"
      },
      "execution_count": 117,
      "outputs": []
    },
    {
      "cell_type": "code",
      "source": [
        "print(X_train.shape)\n",
        "print(X_test.shape)"
      ],
      "metadata": {
        "colab": {
          "base_uri": "https://localhost:8080/"
        },
        "id": "CO5DHbOFXeW-",
        "outputId": "35b6b8c9-375f-479c-b6ae-254b4f2dc115"
      },
      "execution_count": 118,
      "outputs": [
        {
          "output_type": "stream",
          "name": "stdout",
          "text": [
            "(1700, 300)\n",
            "(426, 300)\n"
          ]
        }
      ]
    },
    {
      "cell_type": "code",
      "source": [
        "scaler = StandardScaler()\n",
        "X_train = scaler.fit_transform(X_train)\n",
        "X_test = scaler.transform(X_test)"
      ],
      "metadata": {
        "id": "XwcLzQcTXgeu"
      },
      "execution_count": 119,
      "outputs": []
    },
    {
      "cell_type": "code",
      "source": [
        "X_train = X_train.reshape(1700, 300,1)\n",
        "X_test = X_test.reshape(426, 300, 1)"
      ],
      "metadata": {
        "id": "ZPgaWirTXl7v"
      },
      "execution_count": 120,
      "outputs": []
    },
    {
      "cell_type": "code",
      "source": [
        "epochs =30\n",
        "model = Sequential()\n",
        "model.add(Conv1D(filters=32, kernel_size=4, activation='relu', input_shape = (300,1))) ##1st conv layer\n",
        "model.add(BatchNormalization())\n",
        "#model.add(Dropout(0.2))\n",
        "\n",
        "model.add(Conv1D(filters=64, kernel_size=4, activation='relu'))  #2nd Conv layer\n",
        "model.add(BatchNormalization())\n",
        "#model.add(Dropout(0.3))\n",
        "\n",
        "model.add(Flatten())    #Flattening\n",
        "model.add(Dense(64, activation='relu'))  ##fully connected layer\n",
        "model.add(Dropout(0.3))\n",
        "\n",
        "model.add(Dense(1, activation='sigmoid'))   #output layer"
      ],
      "metadata": {
        "id": "BtJ_aR5fXqkY"
      },
      "execution_count": 121,
      "outputs": []
    },
    {
      "cell_type": "code",
      "source": [
        "model.compile(optimizer=Adam(learning_rate=0.00001), loss = 'binary_crossentropy', metrics=['accuracy'])\n",
        "\n",
        "history = model.fit(X_train, y_train, epochs=epochs, batch_size=32,validation_data=(X_test, y_test), verbose=1)"
      ],
      "metadata": {
        "colab": {
          "base_uri": "https://localhost:8080/"
        },
        "id": "HnGSCuVUXvxb",
        "outputId": "517de163-12c1-4217-e2b4-7a470d899869"
      },
      "execution_count": 122,
      "outputs": [
        {
          "output_type": "stream",
          "name": "stdout",
          "text": [
            "Epoch 1/30\n",
            "54/54 [==============================] - 2s 16ms/step - loss: 0.8134 - accuracy: 0.5847 - val_loss: 0.6719 - val_accuracy: 0.6033\n",
            "Epoch 2/30\n",
            "54/54 [==============================] - 1s 11ms/step - loss: 0.6730 - accuracy: 0.6541 - val_loss: 0.6671 - val_accuracy: 0.5822\n",
            "Epoch 3/30\n",
            "54/54 [==============================] - 1s 11ms/step - loss: 0.6362 - accuracy: 0.6829 - val_loss: 0.6506 - val_accuracy: 0.5962\n",
            "Epoch 4/30\n",
            "54/54 [==============================] - 1s 11ms/step - loss: 0.5554 - accuracy: 0.7147 - val_loss: 0.6343 - val_accuracy: 0.6221\n",
            "Epoch 5/30\n",
            "54/54 [==============================] - 1s 11ms/step - loss: 0.5384 - accuracy: 0.7235 - val_loss: 0.6214 - val_accuracy: 0.6432\n",
            "Epoch 6/30\n",
            "54/54 [==============================] - 1s 11ms/step - loss: 0.5052 - accuracy: 0.7476 - val_loss: 0.6109 - val_accuracy: 0.6526\n",
            "Epoch 7/30\n",
            "54/54 [==============================] - 1s 11ms/step - loss: 0.4733 - accuracy: 0.7771 - val_loss: 0.6032 - val_accuracy: 0.6808\n",
            "Epoch 8/30\n",
            "54/54 [==============================] - 1s 11ms/step - loss: 0.4549 - accuracy: 0.7847 - val_loss: 0.5921 - val_accuracy: 0.6925\n",
            "Epoch 9/30\n",
            "54/54 [==============================] - 1s 11ms/step - loss: 0.4347 - accuracy: 0.7965 - val_loss: 0.5899 - val_accuracy: 0.6995\n",
            "Epoch 10/30\n",
            "54/54 [==============================] - 1s 11ms/step - loss: 0.4040 - accuracy: 0.8259 - val_loss: 0.5940 - val_accuracy: 0.6878\n",
            "Epoch 11/30\n",
            "54/54 [==============================] - 1s 11ms/step - loss: 0.4046 - accuracy: 0.8241 - val_loss: 0.5948 - val_accuracy: 0.6948\n",
            "Epoch 12/30\n",
            "54/54 [==============================] - 1s 11ms/step - loss: 0.3880 - accuracy: 0.8241 - val_loss: 0.5980 - val_accuracy: 0.7042\n",
            "Epoch 13/30\n",
            "54/54 [==============================] - 1s 11ms/step - loss: 0.3639 - accuracy: 0.8524 - val_loss: 0.5978 - val_accuracy: 0.7066\n",
            "Epoch 14/30\n",
            "54/54 [==============================] - 1s 12ms/step - loss: 0.3435 - accuracy: 0.8659 - val_loss: 0.5973 - val_accuracy: 0.7089\n",
            "Epoch 15/30\n",
            "54/54 [==============================] - 1s 12ms/step - loss: 0.3326 - accuracy: 0.8700 - val_loss: 0.5980 - val_accuracy: 0.7042\n",
            "Epoch 16/30\n",
            "54/54 [==============================] - 1s 11ms/step - loss: 0.3182 - accuracy: 0.8824 - val_loss: 0.5973 - val_accuracy: 0.7089\n",
            "Epoch 17/30\n",
            "54/54 [==============================] - 1s 11ms/step - loss: 0.3165 - accuracy: 0.8865 - val_loss: 0.5966 - val_accuracy: 0.7136\n",
            "Epoch 18/30\n",
            "54/54 [==============================] - 1s 11ms/step - loss: 0.3112 - accuracy: 0.8924 - val_loss: 0.6013 - val_accuracy: 0.6995\n",
            "Epoch 19/30\n",
            "54/54 [==============================] - 1s 11ms/step - loss: 0.2916 - accuracy: 0.8935 - val_loss: 0.6058 - val_accuracy: 0.6995\n",
            "Epoch 20/30\n",
            "54/54 [==============================] - 1s 11ms/step - loss: 0.2882 - accuracy: 0.8941 - val_loss: 0.6118 - val_accuracy: 0.6948\n",
            "Epoch 21/30\n",
            "54/54 [==============================] - 1s 11ms/step - loss: 0.2686 - accuracy: 0.9159 - val_loss: 0.6100 - val_accuracy: 0.6925\n",
            "Epoch 22/30\n",
            "54/54 [==============================] - 1s 11ms/step - loss: 0.2628 - accuracy: 0.9182 - val_loss: 0.6053 - val_accuracy: 0.7113\n",
            "Epoch 23/30\n",
            "54/54 [==============================] - 1s 11ms/step - loss: 0.2604 - accuracy: 0.9171 - val_loss: 0.6102 - val_accuracy: 0.7042\n",
            "Epoch 24/30\n",
            "54/54 [==============================] - 1s 11ms/step - loss: 0.2456 - accuracy: 0.9188 - val_loss: 0.6120 - val_accuracy: 0.7066\n",
            "Epoch 25/30\n",
            "54/54 [==============================] - 1s 11ms/step - loss: 0.2413 - accuracy: 0.9229 - val_loss: 0.6116 - val_accuracy: 0.6878\n",
            "Epoch 26/30\n",
            "54/54 [==============================] - 1s 11ms/step - loss: 0.2348 - accuracy: 0.9312 - val_loss: 0.6151 - val_accuracy: 0.7089\n",
            "Epoch 27/30\n",
            "54/54 [==============================] - 1s 11ms/step - loss: 0.2178 - accuracy: 0.9429 - val_loss: 0.6169 - val_accuracy: 0.7019\n",
            "Epoch 28/30\n",
            "54/54 [==============================] - 1s 11ms/step - loss: 0.2139 - accuracy: 0.9406 - val_loss: 0.6191 - val_accuracy: 0.7042\n",
            "Epoch 29/30\n",
            "54/54 [==============================] - 1s 11ms/step - loss: 0.2065 - accuracy: 0.9500 - val_loss: 0.6220 - val_accuracy: 0.6948\n",
            "Epoch 30/30\n",
            "54/54 [==============================] - 1s 11ms/step - loss: 0.1979 - accuracy: 0.9500 - val_loss: 0.6260 - val_accuracy: 0.6901\n"
          ]
        }
      ]
    },
    {
      "cell_type": "code",
      "source": [
        "#y_pred = model.predict(X_train).ravel()\n",
        "from sklearn.metrics import roc_curve\n",
        "y_pred_cnn5 = model.predict(X_test).ravel()\n",
        "fpr_5, tpr_5, thresholds = roc_curve(y_test, y_pred_cnn5)\n",
        "from sklearn.metrics import auc\n",
        "auc_score5 = auc(fpr_5, tpr_5)\n",
        "auc_score5"
      ],
      "metadata": {
        "colab": {
          "base_uri": "https://localhost:8080/"
        },
        "id": "WeQCjBSEXy7V",
        "outputId": "750f8f4b-637a-470d-f5cc-b9d20938b035"
      },
      "execution_count": 123,
      "outputs": [
        {
          "output_type": "execute_result",
          "data": {
            "text/plain": [
              "0.7595458553791886"
            ]
          },
          "metadata": {},
          "execution_count": 123
        }
      ]
    },
    {
      "cell_type": "code",
      "source": [
        "from sklearn.metrics import average_precision_score, precision_recall_curve\n",
        "y_pred_cnn5 = model.predict(X_test).ravel()\n",
        "precision_5, recall_5, thresholds = precision_recall_curve(y_test, y_pred_cnn5)\n",
        "aupr_score5 = auc(recall_5, precision_5)\n",
        "print(aupr_score5)"
      ],
      "metadata": {
        "colab": {
          "base_uri": "https://localhost:8080/"
        },
        "id": "5sdbin4X1Gds",
        "outputId": "3e9d8ee0-1c43-4a48-bc5f-ef80e09b25a6"
      },
      "execution_count": 124,
      "outputs": [
        {
          "output_type": "stream",
          "name": "stdout",
          "text": [
            "0.745852195064852\n"
          ]
        }
      ]
    },
    {
      "cell_type": "markdown",
      "source": [
        "## 6. FastText+Word2vec"
      ],
      "metadata": {
        "id": "-ejogi5Sacds"
      }
    },
    {
      "cell_type": "code",
      "source": [
        "import pandas as pd\n",
        "from pandas import read_excel\n",
        "file_name = '/content/gdrive/MyDrive/word2vec+fasttext_allghor.csv'\n",
        "# Glove3decimal.csv\n",
        "# Gloveallghor.csv \n",
        "#df = pd.read_csv(file_name, index_col=0)\n",
        "df = pd.read_csv(file_name)\n",
        "print(df.head()) # print the first 5 rows"
      ],
      "metadata": {
        "colab": {
          "base_uri": "https://localhost:8080/"
        },
        "id": "cANq7KJ0X8ZB",
        "outputId": "7819d15f-5c58-45f1-f52a-48eacd71ecaf"
      },
      "execution_count": 125,
      "outputs": [
        {
          "output_type": "stream",
          "name": "stdout",
          "text": [
            "       tpc0      tpc1      tpc2      tpc3      tpc4      tpc5      tpc6  \\\n",
            "0 -0.037980 -0.022374 -0.000357 -0.052267 -0.080404 -0.026881  0.054797   \n",
            "1 -0.046191 -0.036129 -0.002969 -0.074574 -0.081948 -0.029251  0.039459   \n",
            "2 -0.039378 -0.029917 -0.002562 -0.051458 -0.080362 -0.040203  0.048534   \n",
            "3 -0.037194 -0.028180  0.002139 -0.050322 -0.086340 -0.028409  0.051199   \n",
            "4 -0.038799 -0.011877  0.008337 -0.024062 -0.086949 -0.031327  0.053610   \n",
            "\n",
            "       tpc7      tpc8      tpc9  ...   PSSM504   PSSM505   PSSM506   PSSM507  \\\n",
            "0 -0.015409 -0.011325 -0.086878  ...  0.071249 -0.027845 -0.030502  0.009951   \n",
            "1 -0.008533 -0.009899 -0.084967  ...  0.066538 -0.027696 -0.041256  0.003160   \n",
            "2  0.002905 -0.015046 -0.078904  ...  0.069494 -0.021039 -0.040292  0.034493   \n",
            "3 -0.011362 -0.014576 -0.086905  ...  0.073099 -0.031108 -0.030192  0.012665   \n",
            "4 -0.003705 -0.022229 -0.075298  ...  0.064635 -0.022508 -0.039198  0.025195   \n",
            "\n",
            "    PSSM508   PSSM509   PSSM510   PSSM511   Fast512  Target  \n",
            "0  0.050119  0.098214  0.017533  0.061429 -0.049693       0  \n",
            "1  0.065386  0.091022  0.004784  0.061484 -0.045020       1  \n",
            "2  0.052987  0.091800 -0.000009  0.062600 -0.046067       0  \n",
            "3  0.046753  0.096642  0.025364  0.062720 -0.049914       0  \n",
            "4  0.034705  0.083352  0.013108  0.063144 -0.041926       1  \n",
            "\n",
            "[5 rows x 1025 columns]\n"
          ]
        }
      ]
    },
    {
      "cell_type": "code",
      "source": [
        "features = np.array(df.columns[:-1])\n",
        "target = 'Target'\n",
        "\n",
        "X = df[features]\n",
        "y = df[target]"
      ],
      "metadata": {
        "id": "9HsyYHwLahH1"
      },
      "execution_count": 126,
      "outputs": []
    },
    {
      "cell_type": "code",
      "source": [
        "X_train, X_test, y_train, y_test = train_test_split(X, y, test_size=0.10, random_state=100)"
      ],
      "metadata": {
        "id": "CyevAxqEamF9"
      },
      "execution_count": 127,
      "outputs": []
    },
    {
      "cell_type": "code",
      "source": [
        "def xgb_shap_values(X_train, y_train, X_test):\n",
        "\n",
        "    model = XGBClassifier()\n",
        "    model.fit(X_train, y_train)\n",
        "    explainer = shap.TreeExplainer(model, X_train)\n",
        "    shap_values_xgb = explainer.shap_values(X_test)\n",
        "    # shap.summary_plot(shap_values_xgb, X_test)\n",
        "    # shap.summary_plot(shap_values_xgb, X_test, plot_type ='bar')\n",
        "    # shap.dependence_plot(\"Age\", shap_values_xgb, X_test, interaction_index = 'rate Po2')\n",
        "    shap_sum = np.abs(shap_values_xgb).mean(axis=0)\n",
        "    importance_df = pd.DataFrame([features, shap_sum.tolist()]).T\n",
        "    importance_df.columns = ['Column Name', 'Shap Importance']\n",
        "    importance_df= importance_df.sort_values('Shap Importance', ascending = False)\n",
        "    return importance_df"
      ],
      "metadata": {
        "id": "GWxlkQSJa0cW"
      },
      "execution_count": 128,
      "outputs": []
    },
    {
      "cell_type": "code",
      "source": [
        "selected_df = xgb_shap_values(X_train, y_train,  X_test)"
      ],
      "metadata": {
        "id": "MLdgEKL_a2wb"
      },
      "execution_count": 129,
      "outputs": []
    },
    {
      "cell_type": "code",
      "source": [
        "selected_df = selected_df[0:300]\n",
        "selected_df"
      ],
      "metadata": {
        "colab": {
          "base_uri": "https://localhost:8080/",
          "height": 424
        },
        "id": "a8lJchNea5mz",
        "outputId": "bb358d9c-55bf-410c-9ed6-82f89c3b0bc5"
      },
      "execution_count": 130,
      "outputs": [
        {
          "output_type": "execute_result",
          "data": {
            "text/plain": [
              "    Column Name Shap Importance\n",
              "829     PSSM317        0.124091\n",
              "235      tpc235        0.084703\n",
              "710     PSSM198         0.08255\n",
              "597      PSSM85         0.07972\n",
              "61        tpc61        0.073022\n",
              "..          ...             ...\n",
              "934     PSSM423        0.002755\n",
              "388      tpc388        0.002714\n",
              "895     PSSM383        0.002701\n",
              "810     PSSM298        0.002692\n",
              "693     PSSM181        0.002667\n",
              "\n",
              "[300 rows x 2 columns]"
            ],
            "text/html": [
              "\n",
              "  <div id=\"df-9be802e2-aa8a-4d58-ab98-ee5ab4e0d3d4\">\n",
              "    <div class=\"colab-df-container\">\n",
              "      <div>\n",
              "<style scoped>\n",
              "    .dataframe tbody tr th:only-of-type {\n",
              "        vertical-align: middle;\n",
              "    }\n",
              "\n",
              "    .dataframe tbody tr th {\n",
              "        vertical-align: top;\n",
              "    }\n",
              "\n",
              "    .dataframe thead th {\n",
              "        text-align: right;\n",
              "    }\n",
              "</style>\n",
              "<table border=\"1\" class=\"dataframe\">\n",
              "  <thead>\n",
              "    <tr style=\"text-align: right;\">\n",
              "      <th></th>\n",
              "      <th>Column Name</th>\n",
              "      <th>Shap Importance</th>\n",
              "    </tr>\n",
              "  </thead>\n",
              "  <tbody>\n",
              "    <tr>\n",
              "      <th>829</th>\n",
              "      <td>PSSM317</td>\n",
              "      <td>0.124091</td>\n",
              "    </tr>\n",
              "    <tr>\n",
              "      <th>235</th>\n",
              "      <td>tpc235</td>\n",
              "      <td>0.084703</td>\n",
              "    </tr>\n",
              "    <tr>\n",
              "      <th>710</th>\n",
              "      <td>PSSM198</td>\n",
              "      <td>0.08255</td>\n",
              "    </tr>\n",
              "    <tr>\n",
              "      <th>597</th>\n",
              "      <td>PSSM85</td>\n",
              "      <td>0.07972</td>\n",
              "    </tr>\n",
              "    <tr>\n",
              "      <th>61</th>\n",
              "      <td>tpc61</td>\n",
              "      <td>0.073022</td>\n",
              "    </tr>\n",
              "    <tr>\n",
              "      <th>...</th>\n",
              "      <td>...</td>\n",
              "      <td>...</td>\n",
              "    </tr>\n",
              "    <tr>\n",
              "      <th>934</th>\n",
              "      <td>PSSM423</td>\n",
              "      <td>0.002755</td>\n",
              "    </tr>\n",
              "    <tr>\n",
              "      <th>388</th>\n",
              "      <td>tpc388</td>\n",
              "      <td>0.002714</td>\n",
              "    </tr>\n",
              "    <tr>\n",
              "      <th>895</th>\n",
              "      <td>PSSM383</td>\n",
              "      <td>0.002701</td>\n",
              "    </tr>\n",
              "    <tr>\n",
              "      <th>810</th>\n",
              "      <td>PSSM298</td>\n",
              "      <td>0.002692</td>\n",
              "    </tr>\n",
              "    <tr>\n",
              "      <th>693</th>\n",
              "      <td>PSSM181</td>\n",
              "      <td>0.002667</td>\n",
              "    </tr>\n",
              "  </tbody>\n",
              "</table>\n",
              "<p>300 rows × 2 columns</p>\n",
              "</div>\n",
              "      <button class=\"colab-df-convert\" onclick=\"convertToInteractive('df-9be802e2-aa8a-4d58-ab98-ee5ab4e0d3d4')\"\n",
              "              title=\"Convert this dataframe to an interactive table.\"\n",
              "              style=\"display:none;\">\n",
              "        \n",
              "  <svg xmlns=\"http://www.w3.org/2000/svg\" height=\"24px\"viewBox=\"0 0 24 24\"\n",
              "       width=\"24px\">\n",
              "    <path d=\"M0 0h24v24H0V0z\" fill=\"none\"/>\n",
              "    <path d=\"M18.56 5.44l.94 2.06.94-2.06 2.06-.94-2.06-.94-.94-2.06-.94 2.06-2.06.94zm-11 1L8.5 8.5l.94-2.06 2.06-.94-2.06-.94L8.5 2.5l-.94 2.06-2.06.94zm10 10l.94 2.06.94-2.06 2.06-.94-2.06-.94-.94-2.06-.94 2.06-2.06.94z\"/><path d=\"M17.41 7.96l-1.37-1.37c-.4-.4-.92-.59-1.43-.59-.52 0-1.04.2-1.43.59L10.3 9.45l-7.72 7.72c-.78.78-.78 2.05 0 2.83L4 21.41c.39.39.9.59 1.41.59.51 0 1.02-.2 1.41-.59l7.78-7.78 2.81-2.81c.8-.78.8-2.07 0-2.86zM5.41 20L4 18.59l7.72-7.72 1.47 1.35L5.41 20z\"/>\n",
              "  </svg>\n",
              "      </button>\n",
              "      \n",
              "  <style>\n",
              "    .colab-df-container {\n",
              "      display:flex;\n",
              "      flex-wrap:wrap;\n",
              "      gap: 12px;\n",
              "    }\n",
              "\n",
              "    .colab-df-convert {\n",
              "      background-color: #E8F0FE;\n",
              "      border: none;\n",
              "      border-radius: 50%;\n",
              "      cursor: pointer;\n",
              "      display: none;\n",
              "      fill: #1967D2;\n",
              "      height: 32px;\n",
              "      padding: 0 0 0 0;\n",
              "      width: 32px;\n",
              "    }\n",
              "\n",
              "    .colab-df-convert:hover {\n",
              "      background-color: #E2EBFA;\n",
              "      box-shadow: 0px 1px 2px rgba(60, 64, 67, 0.3), 0px 1px 3px 1px rgba(60, 64, 67, 0.15);\n",
              "      fill: #174EA6;\n",
              "    }\n",
              "\n",
              "    [theme=dark] .colab-df-convert {\n",
              "      background-color: #3B4455;\n",
              "      fill: #D2E3FC;\n",
              "    }\n",
              "\n",
              "    [theme=dark] .colab-df-convert:hover {\n",
              "      background-color: #434B5C;\n",
              "      box-shadow: 0px 1px 3px 1px rgba(0, 0, 0, 0.15);\n",
              "      filter: drop-shadow(0px 1px 2px rgba(0, 0, 0, 0.3));\n",
              "      fill: #FFFFFF;\n",
              "    }\n",
              "  </style>\n",
              "\n",
              "      <script>\n",
              "        const buttonEl =\n",
              "          document.querySelector('#df-9be802e2-aa8a-4d58-ab98-ee5ab4e0d3d4 button.colab-df-convert');\n",
              "        buttonEl.style.display =\n",
              "          google.colab.kernel.accessAllowed ? 'block' : 'none';\n",
              "\n",
              "        async function convertToInteractive(key) {\n",
              "          const element = document.querySelector('#df-9be802e2-aa8a-4d58-ab98-ee5ab4e0d3d4');\n",
              "          const dataTable =\n",
              "            await google.colab.kernel.invokeFunction('convertToInteractive',\n",
              "                                                     [key], {});\n",
              "          if (!dataTable) return;\n",
              "\n",
              "          const docLinkHtml = 'Like what you see? Visit the ' +\n",
              "            '<a target=\"_blank\" href=https://colab.research.google.com/notebooks/data_table.ipynb>data table notebook</a>'\n",
              "            + ' to learn more about interactive tables.';\n",
              "          element.innerHTML = '';\n",
              "          dataTable['output_type'] = 'display_data';\n",
              "          await google.colab.output.renderOutput(dataTable, element);\n",
              "          const docLink = document.createElement('div');\n",
              "          docLink.innerHTML = docLinkHtml;\n",
              "          element.appendChild(docLink);\n",
              "        }\n",
              "      </script>\n",
              "    </div>\n",
              "  </div>\n",
              "  "
            ]
          },
          "metadata": {},
          "execution_count": 130
        }
      ]
    },
    {
      "cell_type": "code",
      "source": [
        "cols = selected_df['Column Name']\n",
        "cols"
      ],
      "metadata": {
        "colab": {
          "base_uri": "https://localhost:8080/"
        },
        "id": "RWauA35ua9O1",
        "outputId": "8f656e71-4126-4190-b5bb-34456a500d8d"
      },
      "execution_count": 131,
      "outputs": [
        {
          "output_type": "execute_result",
          "data": {
            "text/plain": [
              "829    PSSM317\n",
              "235     tpc235\n",
              "710    PSSM198\n",
              "597     PSSM85\n",
              "61       tpc61\n",
              "        ...   \n",
              "934    PSSM423\n",
              "388     tpc388\n",
              "895    PSSM383\n",
              "810    PSSM298\n",
              "693    PSSM181\n",
              "Name: Column Name, Length: 300, dtype: object"
            ]
          },
          "metadata": {},
          "execution_count": 131
        }
      ]
    },
    {
      "cell_type": "code",
      "source": [
        "## converting df to numpy array/list\n",
        "trainingdf = np.array(cols)\n",
        "trainingdf"
      ],
      "metadata": {
        "colab": {
          "base_uri": "https://localhost:8080/"
        },
        "id": "vUuTGRxwbA4B",
        "outputId": "091c725e-c7be-428c-c213-701aecea7ab4"
      },
      "execution_count": 132,
      "outputs": [
        {
          "output_type": "execute_result",
          "data": {
            "text/plain": [
              "array(['PSSM317', 'tpc235', 'PSSM198', 'PSSM85', 'tpc61', 'PSSM160',\n",
              "       'tpc53', 'tpc293', 'tpc203', 'PSSM45', 'PSSM36', 'PSSM475',\n",
              "       'PSSM168', 'tpc181', 'PSSM122', 'PSSM180', 'tpc312', 'tpc389',\n",
              "       'PSSM486', 'PSSM171', 'PSSM78', 'PSSM330', 'PSSM336', 'PSSM386',\n",
              "       'tpc371', 'PSSM485', 'tpc479', 'PSSM275', 'PSSM297', 'PSSM87',\n",
              "       'tpc455', 'PSSM492', 'PSSM495', 'tpc323', 'PSSM165', 'tpc419',\n",
              "       'PSSM509', 'PSSM268', 'PSSM406', 'tpc427', 'tpc435', 'PSSM152',\n",
              "       'tpc247', 'PSSM264', 'PSSM402', 'PSSM371', 'PSSM309', 'PSSM424',\n",
              "       'PSSM156', 'PSSM335', 'tpc239', 'PSSM93', 'PSSM494', 'PSSM33',\n",
              "       'PSSM254', 'tpc265', 'tpc240', 'tpc185', 'tpc241', 'tpc449',\n",
              "       'PSSM18', 'PSSM465', 'tpc34', 'tpc484', 'PSSM142', 'tpc46',\n",
              "       'PSSM137', 'tpc31', 'PSSM120', 'tpc79', 'tpc498', 'PSSM200',\n",
              "       'PSSM115', 'PSSM500', 'PSSM321', 'PSSM117', 'tpc41', 'tpc337',\n",
              "       'PSSM192', 'PSSM408', 'tpc87', 'tpc99', 'tpc494', 'PSSM363',\n",
              "       'PSSM261', 'PSSM37', 'PSSM387', 'tpc194', 'tpc48', 'tpc157',\n",
              "       'PSSM469', 'PSSM278', 'tpc346', 'tpc509', 'PSSM470', 'tpc392',\n",
              "       'tpc301', 'PSSM276', 'PSSM416', 'tpc382', 'PSSM146', 'tpc166',\n",
              "       'tpc284', 'tpc279', 'PSSM114', 'PSSM118', 'tpc271', 'tpc107',\n",
              "       'tpc233', 'tpc106', 'PSSM223', 'tpc423', 'PSSM307', 'tpc332',\n",
              "       'tpc503', 'PSSM273', 'PSSM286', 'PSSM211', 'PSSM201', 'PSSM379',\n",
              "       'tpc38', 'PSSM26', 'PSSM368', 'tpc422', 'tpc267', 'tpc341',\n",
              "       'tpc29', 'tpc12', 'PSSM238', 'tpc40', 'PSSM129', 'tpc125',\n",
              "       'tpc396', 'tpc278', 'PSSM415', 'PSSM318', 'FAST0', 'tpc220',\n",
              "       'tpc126', 'tpc42', 'PSSM285', 'PSSM300', 'tpc482', 'tpc340',\n",
              "       'PSSM457', 'tpc246', 'tpc122', 'tpc425', 'tpc486', 'PSSM255',\n",
              "       'PSSM484', 'PSSM365', 'tpc329', 'PSSM274', 'tpc442', 'PSSM108',\n",
              "       'tpc103', 'PSSM508', 'tpc264', 'PSSM75', 'PSSM271', 'tpc15',\n",
              "       'PSSM479', 'tpc266', 'tpc89', 'PSSM265', 'PSSM501', 'tpc253',\n",
              "       'tpc183', 'PSSM236', 'tpc373', 'tpc318', 'tpc184', 'tpc82',\n",
              "       'PSSM102', 'tpc230', 'tpc212', 'PSSM290', 'tpc369', 'PSSM488',\n",
              "       'tpc295', 'tpc64', 'tpc326', 'PSSM2', 'tpc116', 'tpc11', 'PSSM476',\n",
              "       'tpc86', 'tpc20', 'PSSM124', 'PSSM391', 'tpc408', 'Fast512',\n",
              "       'tpc453', 'tpc191', 'PSSM101', 'PSSM390', 'PSSM231', 'tpc308',\n",
              "       'tpc206', 'PSSM97', 'tpc63', 'PSSM161', 'tpc448', 'PSSM21',\n",
              "       'PSSM499', 'PSSM372', 'tpc430', 'tpc101', 'PSSM127', 'PSSM496',\n",
              "       'PSSM91', 'tpc207', 'tpc387', 'tpc469', 'PSSM54', 'PSSM139',\n",
              "       'tpc355', 'tpc209', 'tpc251', 'tpc134', 'tpc30', 'tpc432',\n",
              "       'PSSM135', 'tpc458', 'tpc244', 'PSSM11', 'PSSM382', 'tpc274',\n",
              "       'PSSM367', 'PSSM504', 'PSSM467', 'tpc32', 'PSSM155', 'PSSM207',\n",
              "       'PSSM81', 'tpc418', 'PSSM138', 'PSSM405', 'tpc229', 'PSSM299',\n",
              "       'PSSM267', 'tpc150', 'PSSM380', 'PSSM61', 'tpc358', 'PSSM339',\n",
              "       'tpc96', 'tpc292', 'PSSM252', 'PSSM412', 'tpc310', 'tpc270',\n",
              "       'PSSM332', 'tpc199', 'tpc426', 'tpc155', 'tpc433', 'tpc21',\n",
              "       'PSSM244', 'PSSM385', 'tpc429', 'tpc69', 'PSSM40', 'PSSM344',\n",
              "       'tpc262', 'tpc405', 'tpc465', 'PSSM247', 'PSSM434', 'PSSM407',\n",
              "       'tpc320', 'PSSM459', 'PSSM191', 'PSSM241', 'PSSM173', 'tpc417',\n",
              "       'PSSM105', 'PSSM4', 'PSSM56', 'tpc470', 'PSSM109', 'tpc202',\n",
              "       'PSSM471', 'PSSM222', 'PSSM153', 'PSSM455', 'PSSM326', 'tpc225',\n",
              "       'tpc56', 'tpc496', 'PSSM319', 'tpc165', 'tpc55', 'PSSM384',\n",
              "       'PSSM423', 'tpc388', 'PSSM383', 'PSSM298', 'PSSM181'], dtype=object)"
            ]
          },
          "metadata": {},
          "execution_count": 132
        }
      ]
    },
    {
      "cell_type": "code",
      "source": [
        "df1 = X[trainingdf]\n",
        "df1"
      ],
      "metadata": {
        "colab": {
          "base_uri": "https://localhost:8080/",
          "height": 488
        },
        "id": "qKdOfdMxbEiX",
        "outputId": "dd1438cf-a455-4ae2-c3a6-30016f20e498"
      },
      "execution_count": 133,
      "outputs": [
        {
          "output_type": "execute_result",
          "data": {
            "text/plain": [
              "       PSSM317    tpc235   PSSM198    PSSM85     tpc61   PSSM160     tpc53  \\\n",
              "0     0.054743  0.010229  0.019254  0.035640 -0.076293 -0.006537 -0.014063   \n",
              "1     0.065115  0.003465  0.025756  0.041059 -0.077782 -0.010033 -0.019568   \n",
              "2     0.044884  0.016035  0.013189  0.043632 -0.078777 -0.005968 -0.013736   \n",
              "3     0.059886  0.011590  0.020902  0.038796 -0.073037 -0.009479 -0.014139   \n",
              "4     0.062862  0.016680  0.014097  0.029319 -0.074774 -0.008625 -0.010863   \n",
              "...        ...       ...       ...       ...       ...       ...       ...   \n",
              "2099  0.050557  0.011628  0.022901  0.035202 -0.074539 -0.008811 -0.016529   \n",
              "2100  0.061508  0.008688  0.028656  0.040697 -0.075958 -0.009843 -0.016122   \n",
              "2101  0.053880  0.007752  0.017598  0.040747 -0.077944 -0.015158 -0.018159   \n",
              "2102  0.057374  0.011541  0.023072  0.043177 -0.074126 -0.003344 -0.019852   \n",
              "2103  0.054592  0.010728  0.023070  0.042029 -0.076822 -0.005834 -0.015191   \n",
              "\n",
              "        tpc293    tpc203    PSSM45  ...    tpc496   PSSM319    tpc165  \\\n",
              "0    -0.042536 -0.019028 -0.007473  ...  0.020814 -0.025304  0.018445   \n",
              "1    -0.045497 -0.009494 -0.017922  ...  0.022215 -0.025160  0.020701   \n",
              "2    -0.041178 -0.018427 -0.038777  ...  0.018036  0.000761  0.018865   \n",
              "3    -0.042357 -0.021501 -0.007649  ...  0.015546 -0.031406  0.018886   \n",
              "4    -0.050443 -0.027026 -0.009316  ...  0.019897  0.004023  0.024597   \n",
              "...        ...       ...       ...  ...       ...       ...       ...   \n",
              "2099 -0.041124 -0.016743 -0.018574  ...  0.016665 -0.020277  0.020950   \n",
              "2100 -0.043458 -0.010707 -0.018891  ...  0.019871 -0.025143  0.025008   \n",
              "2101 -0.044897 -0.011606 -0.018776  ...  0.021581 -0.019164  0.021748   \n",
              "2102 -0.043684 -0.019241 -0.017520  ...  0.020397 -0.021593  0.019879   \n",
              "2103 -0.042093 -0.013191 -0.020302  ...  0.014990 -0.027215  0.018790   \n",
              "\n",
              "         tpc55   PSSM384   PSSM423    tpc388   PSSM383   PSSM298   PSSM181  \n",
              "0     0.030939  0.112845 -0.060246  0.042437 -0.070173 -0.082324 -0.054883  \n",
              "1     0.028692  0.107158 -0.050187  0.039656 -0.080014 -0.081936 -0.048517  \n",
              "2     0.030225  0.111016 -0.039826  0.044888 -0.091369 -0.067095 -0.038587  \n",
              "3     0.029474  0.106709 -0.048648  0.044442 -0.078895 -0.088016 -0.047608  \n",
              "4     0.025873  0.104224 -0.058865  0.050007 -0.081242 -0.061752 -0.044856  \n",
              "...        ...       ...       ...       ...       ...       ...       ...  \n",
              "2099  0.027696  0.111571 -0.049841  0.043506 -0.083626 -0.075576 -0.043647  \n",
              "2100  0.026779  0.107259 -0.045304  0.040045 -0.084233 -0.088357 -0.050155  \n",
              "2101  0.026681  0.111536 -0.052174  0.045008 -0.080288 -0.073974 -0.042780  \n",
              "2102  0.032453  0.116939 -0.041146  0.043391 -0.081471 -0.080109 -0.037987  \n",
              "2103  0.027864  0.105262 -0.039073  0.041809 -0.080959 -0.077047 -0.047533  \n",
              "\n",
              "[2104 rows x 300 columns]"
            ],
            "text/html": [
              "\n",
              "  <div id=\"df-50180df6-a111-448e-b5ca-2ccaa14dbd41\">\n",
              "    <div class=\"colab-df-container\">\n",
              "      <div>\n",
              "<style scoped>\n",
              "    .dataframe tbody tr th:only-of-type {\n",
              "        vertical-align: middle;\n",
              "    }\n",
              "\n",
              "    .dataframe tbody tr th {\n",
              "        vertical-align: top;\n",
              "    }\n",
              "\n",
              "    .dataframe thead th {\n",
              "        text-align: right;\n",
              "    }\n",
              "</style>\n",
              "<table border=\"1\" class=\"dataframe\">\n",
              "  <thead>\n",
              "    <tr style=\"text-align: right;\">\n",
              "      <th></th>\n",
              "      <th>PSSM317</th>\n",
              "      <th>tpc235</th>\n",
              "      <th>PSSM198</th>\n",
              "      <th>PSSM85</th>\n",
              "      <th>tpc61</th>\n",
              "      <th>PSSM160</th>\n",
              "      <th>tpc53</th>\n",
              "      <th>tpc293</th>\n",
              "      <th>tpc203</th>\n",
              "      <th>PSSM45</th>\n",
              "      <th>...</th>\n",
              "      <th>tpc496</th>\n",
              "      <th>PSSM319</th>\n",
              "      <th>tpc165</th>\n",
              "      <th>tpc55</th>\n",
              "      <th>PSSM384</th>\n",
              "      <th>PSSM423</th>\n",
              "      <th>tpc388</th>\n",
              "      <th>PSSM383</th>\n",
              "      <th>PSSM298</th>\n",
              "      <th>PSSM181</th>\n",
              "    </tr>\n",
              "  </thead>\n",
              "  <tbody>\n",
              "    <tr>\n",
              "      <th>0</th>\n",
              "      <td>0.054743</td>\n",
              "      <td>0.010229</td>\n",
              "      <td>0.019254</td>\n",
              "      <td>0.035640</td>\n",
              "      <td>-0.076293</td>\n",
              "      <td>-0.006537</td>\n",
              "      <td>-0.014063</td>\n",
              "      <td>-0.042536</td>\n",
              "      <td>-0.019028</td>\n",
              "      <td>-0.007473</td>\n",
              "      <td>...</td>\n",
              "      <td>0.020814</td>\n",
              "      <td>-0.025304</td>\n",
              "      <td>0.018445</td>\n",
              "      <td>0.030939</td>\n",
              "      <td>0.112845</td>\n",
              "      <td>-0.060246</td>\n",
              "      <td>0.042437</td>\n",
              "      <td>-0.070173</td>\n",
              "      <td>-0.082324</td>\n",
              "      <td>-0.054883</td>\n",
              "    </tr>\n",
              "    <tr>\n",
              "      <th>1</th>\n",
              "      <td>0.065115</td>\n",
              "      <td>0.003465</td>\n",
              "      <td>0.025756</td>\n",
              "      <td>0.041059</td>\n",
              "      <td>-0.077782</td>\n",
              "      <td>-0.010033</td>\n",
              "      <td>-0.019568</td>\n",
              "      <td>-0.045497</td>\n",
              "      <td>-0.009494</td>\n",
              "      <td>-0.017922</td>\n",
              "      <td>...</td>\n",
              "      <td>0.022215</td>\n",
              "      <td>-0.025160</td>\n",
              "      <td>0.020701</td>\n",
              "      <td>0.028692</td>\n",
              "      <td>0.107158</td>\n",
              "      <td>-0.050187</td>\n",
              "      <td>0.039656</td>\n",
              "      <td>-0.080014</td>\n",
              "      <td>-0.081936</td>\n",
              "      <td>-0.048517</td>\n",
              "    </tr>\n",
              "    <tr>\n",
              "      <th>2</th>\n",
              "      <td>0.044884</td>\n",
              "      <td>0.016035</td>\n",
              "      <td>0.013189</td>\n",
              "      <td>0.043632</td>\n",
              "      <td>-0.078777</td>\n",
              "      <td>-0.005968</td>\n",
              "      <td>-0.013736</td>\n",
              "      <td>-0.041178</td>\n",
              "      <td>-0.018427</td>\n",
              "      <td>-0.038777</td>\n",
              "      <td>...</td>\n",
              "      <td>0.018036</td>\n",
              "      <td>0.000761</td>\n",
              "      <td>0.018865</td>\n",
              "      <td>0.030225</td>\n",
              "      <td>0.111016</td>\n",
              "      <td>-0.039826</td>\n",
              "      <td>0.044888</td>\n",
              "      <td>-0.091369</td>\n",
              "      <td>-0.067095</td>\n",
              "      <td>-0.038587</td>\n",
              "    </tr>\n",
              "    <tr>\n",
              "      <th>3</th>\n",
              "      <td>0.059886</td>\n",
              "      <td>0.011590</td>\n",
              "      <td>0.020902</td>\n",
              "      <td>0.038796</td>\n",
              "      <td>-0.073037</td>\n",
              "      <td>-0.009479</td>\n",
              "      <td>-0.014139</td>\n",
              "      <td>-0.042357</td>\n",
              "      <td>-0.021501</td>\n",
              "      <td>-0.007649</td>\n",
              "      <td>...</td>\n",
              "      <td>0.015546</td>\n",
              "      <td>-0.031406</td>\n",
              "      <td>0.018886</td>\n",
              "      <td>0.029474</td>\n",
              "      <td>0.106709</td>\n",
              "      <td>-0.048648</td>\n",
              "      <td>0.044442</td>\n",
              "      <td>-0.078895</td>\n",
              "      <td>-0.088016</td>\n",
              "      <td>-0.047608</td>\n",
              "    </tr>\n",
              "    <tr>\n",
              "      <th>4</th>\n",
              "      <td>0.062862</td>\n",
              "      <td>0.016680</td>\n",
              "      <td>0.014097</td>\n",
              "      <td>0.029319</td>\n",
              "      <td>-0.074774</td>\n",
              "      <td>-0.008625</td>\n",
              "      <td>-0.010863</td>\n",
              "      <td>-0.050443</td>\n",
              "      <td>-0.027026</td>\n",
              "      <td>-0.009316</td>\n",
              "      <td>...</td>\n",
              "      <td>0.019897</td>\n",
              "      <td>0.004023</td>\n",
              "      <td>0.024597</td>\n",
              "      <td>0.025873</td>\n",
              "      <td>0.104224</td>\n",
              "      <td>-0.058865</td>\n",
              "      <td>0.050007</td>\n",
              "      <td>-0.081242</td>\n",
              "      <td>-0.061752</td>\n",
              "      <td>-0.044856</td>\n",
              "    </tr>\n",
              "    <tr>\n",
              "      <th>...</th>\n",
              "      <td>...</td>\n",
              "      <td>...</td>\n",
              "      <td>...</td>\n",
              "      <td>...</td>\n",
              "      <td>...</td>\n",
              "      <td>...</td>\n",
              "      <td>...</td>\n",
              "      <td>...</td>\n",
              "      <td>...</td>\n",
              "      <td>...</td>\n",
              "      <td>...</td>\n",
              "      <td>...</td>\n",
              "      <td>...</td>\n",
              "      <td>...</td>\n",
              "      <td>...</td>\n",
              "      <td>...</td>\n",
              "      <td>...</td>\n",
              "      <td>...</td>\n",
              "      <td>...</td>\n",
              "      <td>...</td>\n",
              "      <td>...</td>\n",
              "    </tr>\n",
              "    <tr>\n",
              "      <th>2099</th>\n",
              "      <td>0.050557</td>\n",
              "      <td>0.011628</td>\n",
              "      <td>0.022901</td>\n",
              "      <td>0.035202</td>\n",
              "      <td>-0.074539</td>\n",
              "      <td>-0.008811</td>\n",
              "      <td>-0.016529</td>\n",
              "      <td>-0.041124</td>\n",
              "      <td>-0.016743</td>\n",
              "      <td>-0.018574</td>\n",
              "      <td>...</td>\n",
              "      <td>0.016665</td>\n",
              "      <td>-0.020277</td>\n",
              "      <td>0.020950</td>\n",
              "      <td>0.027696</td>\n",
              "      <td>0.111571</td>\n",
              "      <td>-0.049841</td>\n",
              "      <td>0.043506</td>\n",
              "      <td>-0.083626</td>\n",
              "      <td>-0.075576</td>\n",
              "      <td>-0.043647</td>\n",
              "    </tr>\n",
              "    <tr>\n",
              "      <th>2100</th>\n",
              "      <td>0.061508</td>\n",
              "      <td>0.008688</td>\n",
              "      <td>0.028656</td>\n",
              "      <td>0.040697</td>\n",
              "      <td>-0.075958</td>\n",
              "      <td>-0.009843</td>\n",
              "      <td>-0.016122</td>\n",
              "      <td>-0.043458</td>\n",
              "      <td>-0.010707</td>\n",
              "      <td>-0.018891</td>\n",
              "      <td>...</td>\n",
              "      <td>0.019871</td>\n",
              "      <td>-0.025143</td>\n",
              "      <td>0.025008</td>\n",
              "      <td>0.026779</td>\n",
              "      <td>0.107259</td>\n",
              "      <td>-0.045304</td>\n",
              "      <td>0.040045</td>\n",
              "      <td>-0.084233</td>\n",
              "      <td>-0.088357</td>\n",
              "      <td>-0.050155</td>\n",
              "    </tr>\n",
              "    <tr>\n",
              "      <th>2101</th>\n",
              "      <td>0.053880</td>\n",
              "      <td>0.007752</td>\n",
              "      <td>0.017598</td>\n",
              "      <td>0.040747</td>\n",
              "      <td>-0.077944</td>\n",
              "      <td>-0.015158</td>\n",
              "      <td>-0.018159</td>\n",
              "      <td>-0.044897</td>\n",
              "      <td>-0.011606</td>\n",
              "      <td>-0.018776</td>\n",
              "      <td>...</td>\n",
              "      <td>0.021581</td>\n",
              "      <td>-0.019164</td>\n",
              "      <td>0.021748</td>\n",
              "      <td>0.026681</td>\n",
              "      <td>0.111536</td>\n",
              "      <td>-0.052174</td>\n",
              "      <td>0.045008</td>\n",
              "      <td>-0.080288</td>\n",
              "      <td>-0.073974</td>\n",
              "      <td>-0.042780</td>\n",
              "    </tr>\n",
              "    <tr>\n",
              "      <th>2102</th>\n",
              "      <td>0.057374</td>\n",
              "      <td>0.011541</td>\n",
              "      <td>0.023072</td>\n",
              "      <td>0.043177</td>\n",
              "      <td>-0.074126</td>\n",
              "      <td>-0.003344</td>\n",
              "      <td>-0.019852</td>\n",
              "      <td>-0.043684</td>\n",
              "      <td>-0.019241</td>\n",
              "      <td>-0.017520</td>\n",
              "      <td>...</td>\n",
              "      <td>0.020397</td>\n",
              "      <td>-0.021593</td>\n",
              "      <td>0.019879</td>\n",
              "      <td>0.032453</td>\n",
              "      <td>0.116939</td>\n",
              "      <td>-0.041146</td>\n",
              "      <td>0.043391</td>\n",
              "      <td>-0.081471</td>\n",
              "      <td>-0.080109</td>\n",
              "      <td>-0.037987</td>\n",
              "    </tr>\n",
              "    <tr>\n",
              "      <th>2103</th>\n",
              "      <td>0.054592</td>\n",
              "      <td>0.010728</td>\n",
              "      <td>0.023070</td>\n",
              "      <td>0.042029</td>\n",
              "      <td>-0.076822</td>\n",
              "      <td>-0.005834</td>\n",
              "      <td>-0.015191</td>\n",
              "      <td>-0.042093</td>\n",
              "      <td>-0.013191</td>\n",
              "      <td>-0.020302</td>\n",
              "      <td>...</td>\n",
              "      <td>0.014990</td>\n",
              "      <td>-0.027215</td>\n",
              "      <td>0.018790</td>\n",
              "      <td>0.027864</td>\n",
              "      <td>0.105262</td>\n",
              "      <td>-0.039073</td>\n",
              "      <td>0.041809</td>\n",
              "      <td>-0.080959</td>\n",
              "      <td>-0.077047</td>\n",
              "      <td>-0.047533</td>\n",
              "    </tr>\n",
              "  </tbody>\n",
              "</table>\n",
              "<p>2104 rows × 300 columns</p>\n",
              "</div>\n",
              "      <button class=\"colab-df-convert\" onclick=\"convertToInteractive('df-50180df6-a111-448e-b5ca-2ccaa14dbd41')\"\n",
              "              title=\"Convert this dataframe to an interactive table.\"\n",
              "              style=\"display:none;\">\n",
              "        \n",
              "  <svg xmlns=\"http://www.w3.org/2000/svg\" height=\"24px\"viewBox=\"0 0 24 24\"\n",
              "       width=\"24px\">\n",
              "    <path d=\"M0 0h24v24H0V0z\" fill=\"none\"/>\n",
              "    <path d=\"M18.56 5.44l.94 2.06.94-2.06 2.06-.94-2.06-.94-.94-2.06-.94 2.06-2.06.94zm-11 1L8.5 8.5l.94-2.06 2.06-.94-2.06-.94L8.5 2.5l-.94 2.06-2.06.94zm10 10l.94 2.06.94-2.06 2.06-.94-2.06-.94-.94-2.06-.94 2.06-2.06.94z\"/><path d=\"M17.41 7.96l-1.37-1.37c-.4-.4-.92-.59-1.43-.59-.52 0-1.04.2-1.43.59L10.3 9.45l-7.72 7.72c-.78.78-.78 2.05 0 2.83L4 21.41c.39.39.9.59 1.41.59.51 0 1.02-.2 1.41-.59l7.78-7.78 2.81-2.81c.8-.78.8-2.07 0-2.86zM5.41 20L4 18.59l7.72-7.72 1.47 1.35L5.41 20z\"/>\n",
              "  </svg>\n",
              "      </button>\n",
              "      \n",
              "  <style>\n",
              "    .colab-df-container {\n",
              "      display:flex;\n",
              "      flex-wrap:wrap;\n",
              "      gap: 12px;\n",
              "    }\n",
              "\n",
              "    .colab-df-convert {\n",
              "      background-color: #E8F0FE;\n",
              "      border: none;\n",
              "      border-radius: 50%;\n",
              "      cursor: pointer;\n",
              "      display: none;\n",
              "      fill: #1967D2;\n",
              "      height: 32px;\n",
              "      padding: 0 0 0 0;\n",
              "      width: 32px;\n",
              "    }\n",
              "\n",
              "    .colab-df-convert:hover {\n",
              "      background-color: #E2EBFA;\n",
              "      box-shadow: 0px 1px 2px rgba(60, 64, 67, 0.3), 0px 1px 3px 1px rgba(60, 64, 67, 0.15);\n",
              "      fill: #174EA6;\n",
              "    }\n",
              "\n",
              "    [theme=dark] .colab-df-convert {\n",
              "      background-color: #3B4455;\n",
              "      fill: #D2E3FC;\n",
              "    }\n",
              "\n",
              "    [theme=dark] .colab-df-convert:hover {\n",
              "      background-color: #434B5C;\n",
              "      box-shadow: 0px 1px 3px 1px rgba(0, 0, 0, 0.15);\n",
              "      filter: drop-shadow(0px 1px 2px rgba(0, 0, 0, 0.3));\n",
              "      fill: #FFFFFF;\n",
              "    }\n",
              "  </style>\n",
              "\n",
              "      <script>\n",
              "        const buttonEl =\n",
              "          document.querySelector('#df-50180df6-a111-448e-b5ca-2ccaa14dbd41 button.colab-df-convert');\n",
              "        buttonEl.style.display =\n",
              "          google.colab.kernel.accessAllowed ? 'block' : 'none';\n",
              "\n",
              "        async function convertToInteractive(key) {\n",
              "          const element = document.querySelector('#df-50180df6-a111-448e-b5ca-2ccaa14dbd41');\n",
              "          const dataTable =\n",
              "            await google.colab.kernel.invokeFunction('convertToInteractive',\n",
              "                                                     [key], {});\n",
              "          if (!dataTable) return;\n",
              "\n",
              "          const docLinkHtml = 'Like what you see? Visit the ' +\n",
              "            '<a target=\"_blank\" href=https://colab.research.google.com/notebooks/data_table.ipynb>data table notebook</a>'\n",
              "            + ' to learn more about interactive tables.';\n",
              "          element.innerHTML = '';\n",
              "          dataTable['output_type'] = 'display_data';\n",
              "          await google.colab.output.renderOutput(dataTable, element);\n",
              "          const docLink = document.createElement('div');\n",
              "          docLink.innerHTML = docLinkHtml;\n",
              "          element.appendChild(docLink);\n",
              "        }\n",
              "      </script>\n",
              "    </div>\n",
              "  </div>\n",
              "  "
            ]
          },
          "metadata": {},
          "execution_count": 133
        }
      ]
    },
    {
      "cell_type": "code",
      "source": [
        "X = df1\n",
        "y = y"
      ],
      "metadata": {
        "id": "KJyiGmnDbIoP"
      },
      "execution_count": 134,
      "outputs": []
    },
    {
      "cell_type": "code",
      "source": [
        "count_classes = pd.value_counts(y, sort = True)\n",
        "\n",
        "count_classes.plot(kind = 'bar', rot=0)\n",
        "\n",
        "plt.title(\"Class Distribution\")\n",
        "\n",
        "LABELS = [\"Zero\", \"One\"]\n",
        "\n",
        "plt.xticks(range(2), LABELS)\n",
        "\n",
        "plt.xlabel(\"Class\")\n",
        "\n",
        "plt.ylabel(\"Frequency\")"
      ],
      "metadata": {
        "colab": {
          "base_uri": "https://localhost:8080/",
          "height": 312
        },
        "id": "mVuqQruUbLZD",
        "outputId": "8fba235d-75d6-4750-af2c-9c9b49267619"
      },
      "execution_count": 135,
      "outputs": [
        {
          "output_type": "execute_result",
          "data": {
            "text/plain": [
              "Text(0, 0.5, 'Frequency')"
            ]
          },
          "metadata": {},
          "execution_count": 135
        },
        {
          "output_type": "display_data",
          "data": {
            "text/plain": [
              "<Figure size 432x288 with 1 Axes>"
            ],
            "image/png": "[encoded data removed]"
          },
          "metadata": {
            "needs_background": "light"
          }
        }
      ]
    },
    {
      "cell_type": "code",
      "source": [
        "One = df[y==1]\n",
        "\n",
        "Zero = df[y==0]\n",
        "\n",
        "print(Zero.shape,One.shape)"
      ],
      "metadata": {
        "colab": {
          "base_uri": "https://localhost:8080/"
        },
        "id": "y0JPsgc-bNeD",
        "outputId": "cc1a84b7-37e1-4947-df80-99c03a469485"
      },
      "execution_count": 136,
      "outputs": [
        {
          "output_type": "stream",
          "name": "stdout",
          "text": [
            "(1041, 1025) (1063, 1025)\n"
          ]
        }
      ]
    },
    {
      "cell_type": "code",
      "source": [
        "from imblearn.over_sampling import SMOTE\n",
        "sm = SMOTE(sampling_strategy='minority')\n",
        "X_res,y_res=sm.fit_resample(X,y)"
      ],
      "metadata": {
        "id": "oq74cPTQbQtH"
      },
      "execution_count": 137,
      "outputs": []
    },
    {
      "cell_type": "code",
      "source": [
        "print(X_res.shape)\n",
        "print(y_res.shape)"
      ],
      "metadata": {
        "colab": {
          "base_uri": "https://localhost:8080/"
        },
        "id": "ptQzzvw4bUUD",
        "outputId": "b0d6fddc-98b3-4c2e-afca-cff8de1e9c57"
      },
      "execution_count": 138,
      "outputs": [
        {
          "output_type": "stream",
          "name": "stdout",
          "text": [
            "(2126, 300)\n",
            "(2126,)\n"
          ]
        }
      ]
    },
    {
      "cell_type": "code",
      "source": [
        "#Split data into independent (X) and dependent(Y) columns\n",
        "\n",
        "y = y_res\n",
        "X = X_res"
      ],
      "metadata": {
        "id": "KGrYPokTbWep"
      },
      "execution_count": 139,
      "outputs": []
    },
    {
      "cell_type": "code",
      "source": [
        "from sklearn.model_selection import train_test_split\n",
        "X_train, X_test, y_train, y_test = train_test_split(X, y, test_size = 0.20, random_state = 30)"
      ],
      "metadata": {
        "id": "w3d6fyMIbaKa"
      },
      "execution_count": 148,
      "outputs": []
    },
    {
      "cell_type": "code",
      "source": [
        "print(X_train.shape)\n",
        "print(X_test.shape)"
      ],
      "metadata": {
        "colab": {
          "base_uri": "https://localhost:8080/"
        },
        "id": "qkLFYZBObeqA",
        "outputId": "b65a2359-bcd5-4310-ffbe-c8dd48968647"
      },
      "execution_count": 149,
      "outputs": [
        {
          "output_type": "stream",
          "name": "stdout",
          "text": [
            "(1700, 300)\n",
            "(426, 300)\n"
          ]
        }
      ]
    },
    {
      "cell_type": "code",
      "source": [
        "scaler = StandardScaler()\n",
        "X_train = scaler.fit_transform(X_train)\n",
        "X_test = scaler.transform(X_test)"
      ],
      "metadata": {
        "id": "eMppL09kbg_i"
      },
      "execution_count": 150,
      "outputs": []
    },
    {
      "cell_type": "code",
      "source": [
        "X_train = X_train.reshape(1700, 300,1)\n",
        "X_test = X_test.reshape(426, 300, 1)"
      ],
      "metadata": {
        "id": "btWfwnEzbkJX"
      },
      "execution_count": 151,
      "outputs": []
    },
    {
      "cell_type": "code",
      "source": [
        "epochs =20\n",
        "model = Sequential()\n",
        "model.add(Conv1D(filters=32, kernel_size=4, activation='relu', input_shape = (300,1))) ##1st conv layer\n",
        "model.add(BatchNormalization())\n",
        "#model.add(Dropout(0.2))\n",
        "\n",
        "model.add(Conv1D(filters=64, kernel_size=4, activation='relu'))  #2nd Conv layer\n",
        "model.add(BatchNormalization())\n",
        "#model.add(Dropout(0.3))\n",
        "\n",
        "model.add(Flatten())    #Flattening\n",
        "model.add(Dense(64, activation='relu'))  ##fully connected layer\n",
        "model.add(Dropout(0.3))\n",
        "\n",
        "model.add(Dense(1, activation='sigmoid'))   #output layer"
      ],
      "metadata": {
        "id": "vFl-KzBBbnmk"
      },
      "execution_count": 152,
      "outputs": []
    },
    {
      "cell_type": "code",
      "source": [
        "model.compile(optimizer=Adam(learning_rate=0.00001), loss = 'binary_crossentropy', metrics=['accuracy'])\n",
        "\n",
        "history = model.fit(X_train, y_train, epochs=epochs, batch_size=32,validation_data=(X_test, y_test), verbose=1)"
      ],
      "metadata": {
        "colab": {
          "base_uri": "https://localhost:8080/"
        },
        "id": "yIkL7En0buX4",
        "outputId": "2482c213-2b6d-4f1b-c485-c27198dfedfb"
      },
      "execution_count": 153,
      "outputs": [
        {
          "output_type": "stream",
          "name": "stdout",
          "text": [
            "Epoch 1/20\n",
            "54/54 [==============================] - 4s 26ms/step - loss: 0.8547 - accuracy: 0.5747 - val_loss: 0.6752 - val_accuracy: 0.6033\n",
            "Epoch 2/20\n",
            "54/54 [==============================] - 1s 16ms/step - loss: 0.6737 - accuracy: 0.6629 - val_loss: 0.6604 - val_accuracy: 0.6291\n",
            "Epoch 3/20\n",
            "54/54 [==============================] - 1s 14ms/step - loss: 0.5994 - accuracy: 0.6900 - val_loss: 0.6456 - val_accuracy: 0.6244\n",
            "Epoch 4/20\n",
            "54/54 [==============================] - 1s 16ms/step - loss: 0.5531 - accuracy: 0.7300 - val_loss: 0.6259 - val_accuracy: 0.6596\n",
            "Epoch 5/20\n",
            "54/54 [==============================] - 1s 16ms/step - loss: 0.5148 - accuracy: 0.7541 - val_loss: 0.6113 - val_accuracy: 0.6784\n",
            "Epoch 6/20\n",
            "54/54 [==============================] - 1s 12ms/step - loss: 0.5083 - accuracy: 0.7518 - val_loss: 0.6026 - val_accuracy: 0.6737\n",
            "Epoch 7/20\n",
            "54/54 [==============================] - 1s 11ms/step - loss: 0.4637 - accuracy: 0.7888 - val_loss: 0.6020 - val_accuracy: 0.6761\n",
            "Epoch 8/20\n",
            "54/54 [==============================] - 1s 11ms/step - loss: 0.4487 - accuracy: 0.7906 - val_loss: 0.6025 - val_accuracy: 0.6854\n",
            "Epoch 9/20\n",
            "54/54 [==============================] - 1s 11ms/step - loss: 0.4154 - accuracy: 0.8159 - val_loss: 0.6074 - val_accuracy: 0.6784\n",
            "Epoch 10/20\n",
            "54/54 [==============================] - 1s 11ms/step - loss: 0.4087 - accuracy: 0.8182 - val_loss: 0.6096 - val_accuracy: 0.6948\n",
            "Epoch 11/20\n",
            "54/54 [==============================] - 1s 11ms/step - loss: 0.3887 - accuracy: 0.8329 - val_loss: 0.6214 - val_accuracy: 0.6948\n",
            "Epoch 12/20\n",
            "54/54 [==============================] - 1s 11ms/step - loss: 0.3597 - accuracy: 0.8471 - val_loss: 0.6307 - val_accuracy: 0.6831\n",
            "Epoch 13/20\n",
            "54/54 [==============================] - 1s 11ms/step - loss: 0.3562 - accuracy: 0.8459 - val_loss: 0.6216 - val_accuracy: 0.6948\n",
            "Epoch 14/20\n",
            "54/54 [==============================] - 1s 10ms/step - loss: 0.3306 - accuracy: 0.8694 - val_loss: 0.6250 - val_accuracy: 0.6972\n",
            "Epoch 15/20\n",
            "54/54 [==============================] - 1s 11ms/step - loss: 0.3200 - accuracy: 0.8688 - val_loss: 0.6351 - val_accuracy: 0.6972\n",
            "Epoch 16/20\n",
            "54/54 [==============================] - 1s 11ms/step - loss: 0.3082 - accuracy: 0.8841 - val_loss: 0.6320 - val_accuracy: 0.6972\n",
            "Epoch 17/20\n",
            "54/54 [==============================] - 1s 11ms/step - loss: 0.3013 - accuracy: 0.8935 - val_loss: 0.6330 - val_accuracy: 0.6972\n",
            "Epoch 18/20\n",
            "54/54 [==============================] - 1s 11ms/step - loss: 0.2965 - accuracy: 0.8953 - val_loss: 0.6261 - val_accuracy: 0.7019\n",
            "Epoch 19/20\n",
            "54/54 [==============================] - 1s 10ms/step - loss: 0.2851 - accuracy: 0.9018 - val_loss: 0.6309 - val_accuracy: 0.7089\n",
            "Epoch 20/20\n",
            "54/54 [==============================] - 1s 11ms/step - loss: 0.2784 - accuracy: 0.9035 - val_loss: 0.6364 - val_accuracy: 0.7019\n"
          ]
        }
      ]
    },
    {
      "cell_type": "code",
      "source": [
        "#y_pred = model.predict(X_train).ravel()\n",
        "from sklearn.metrics import roc_curve\n",
        "y_pred_cnn6 = model.predict(X_test).ravel()\n",
        "fpr_6, tpr_6, thresholds = roc_curve(y_test, y_pred_cnn6)\n",
        "from sklearn.metrics import auc\n",
        "auc_score6 = auc(fpr_6, tpr_6)\n",
        "auc_score6"
      ],
      "metadata": {
        "colab": {
          "base_uri": "https://localhost:8080/"
        },
        "id": "5lpQnR-gbxhi",
        "outputId": "f28b7ee8-c8dc-41c6-e432-8fb83c560a05"
      },
      "execution_count": 154,
      "outputs": [
        {
          "output_type": "execute_result",
          "data": {
            "text/plain": [
              "0.7642100617828773"
            ]
          },
          "metadata": {},
          "execution_count": 154
        }
      ]
    },
    {
      "cell_type": "code",
      "source": [
        "from sklearn.metrics import average_precision_score, precision_recall_curve\n",
        "y_pred_cnn6 = model.predict(X_test).ravel()\n",
        "precision_6, recall_6, thresholds = precision_recall_curve(y_test, y_pred_cnn6)\n",
        "aupr_score6 = auc(recall_6, precision_6)\n",
        "print(aupr_score6)"
      ],
      "metadata": {
        "colab": {
          "base_uri": "https://localhost:8080/"
        },
        "id": "Z4NMrsiK2E1m",
        "outputId": "7b968eca-d4e9-4133-c72a-cff36a0469ca"
      },
      "execution_count": 155,
      "outputs": [
        {
          "output_type": "stream",
          "name": "stdout",
          "text": [
            "0.7332556366841467\n"
          ]
        }
      ]
    },
    {
      "cell_type": "markdown",
      "source": [
        "## 7. Glove + FastText +Word2vec"
      ],
      "metadata": {
        "id": "nQOEyNFJdyRW"
      }
    },
    {
      "cell_type": "code",
      "source": [
        "import pandas as pd\n",
        "from pandas import read_excel\n",
        "file_name = '/content/gdrive/MyDrive/word2vec+fasttext+glove_allghor.csv'\n",
        "# Glove3decimal.csv\n",
        "# Gloveallghor.csv \n",
        "#df = pd.read_csv(file_name, index_col=0)\n",
        "df = pd.read_csv(file_name)\n",
        "print(df.head()) # print the first 5 rows"
      ],
      "metadata": {
        "colab": {
          "base_uri": "https://localhost:8080/"
        },
        "id": "p_k_uQdDb89E",
        "outputId": "edbe3007-b87d-4ad6-ea42-2d57e702f8ac"
      },
      "execution_count": 156,
      "outputs": [
        {
          "output_type": "stream",
          "name": "stdout",
          "text": [
            "       tpc0      tpc1      tpc2      tpc3      tpc4      tpc5      tpc6  \\\n",
            "0 -0.037980 -0.022374 -0.000357 -0.052267 -0.080404 -0.026881  0.054797   \n",
            "1 -0.046191 -0.036129 -0.002969 -0.074574 -0.081948 -0.029251  0.039459   \n",
            "2 -0.039378 -0.029917 -0.002562 -0.051458 -0.080362 -0.040203  0.048534   \n",
            "3 -0.037194 -0.028180  0.002139 -0.050322 -0.086340 -0.028409  0.051199   \n",
            "4 -0.038799 -0.011877  0.008337 -0.024062 -0.086949 -0.031327  0.053610   \n",
            "\n",
            "       tpc7      tpc8      tpc9  ...   glov503   glov504   glov505   glov506  \\\n",
            "0 -0.015409 -0.011325 -0.086878  ...  0.034153 -0.028236  0.067696 -0.096331   \n",
            "1 -0.008533 -0.009899 -0.084967  ...  0.035826 -0.019969  0.041198 -0.089281   \n",
            "2  0.002905 -0.015046 -0.078904  ...  0.027479 -0.015310  0.053065 -0.039859   \n",
            "3 -0.011362 -0.014576 -0.086905  ...  0.037971 -0.036039  0.087234 -0.085197   \n",
            "4 -0.003705 -0.022229 -0.075298  ...  0.012862 -0.017681  0.083901 -0.106877   \n",
            "\n",
            "    glov507   glov508   glov509   glov510   glov511  Target  \n",
            "0  0.025590  0.039283 -0.050542  0.122821 -0.076334       0  \n",
            "1  0.003722  0.021992 -0.056355  0.113405 -0.034552       1  \n",
            "2  0.043501  0.054468 -0.056376  0.150060 -0.062847       0  \n",
            "3  0.009901  0.028044 -0.068661  0.123129 -0.058323       0  \n",
            "4  0.073434  0.078891 -0.050987  0.136574 -0.083851       1  \n",
            "\n",
            "[5 rows x 1537 columns]\n"
          ]
        }
      ]
    },
    {
      "cell_type": "code",
      "source": [
        "features = np.array(df.columns[:-1])\n",
        "target = 'Target'\n",
        "\n",
        "X = df[features]\n",
        "y = df[target]"
      ],
      "metadata": {
        "id": "jtqGKaO8d1EF"
      },
      "execution_count": 157,
      "outputs": []
    },
    {
      "cell_type": "code",
      "source": [
        "X_train, X_test, y_train, y_test = train_test_split(X, y, test_size=0.10, random_state=100)"
      ],
      "metadata": {
        "id": "G8A4bk5hd6Kg"
      },
      "execution_count": 158,
      "outputs": []
    },
    {
      "cell_type": "code",
      "source": [
        "def xgb_shap_values(X_train, y_train, X_test):\n",
        "\n",
        "    model = XGBClassifier()\n",
        "    model.fit(X_train, y_train)\n",
        "    explainer = shap.TreeExplainer(model, X_train)\n",
        "    shap_values_xgb = explainer.shap_values(X_test)\n",
        "    # shap.summary_plot(shap_values_xgb, X_test)\n",
        "    # shap.summary_plot(shap_values_xgb, X_test, plot_type ='bar')\n",
        "    # shap.dependence_plot(\"Age\", shap_values_xgb, X_test, interaction_index = 'rate Po2')\n",
        "    shap_sum = np.abs(shap_values_xgb).mean(axis=0)\n",
        "    importance_df = pd.DataFrame([features, shap_sum.tolist()]).T\n",
        "    importance_df.columns = ['Column Name', 'Shap Importance']\n",
        "    importance_df= importance_df.sort_values('Shap Importance', ascending = False)\n",
        "    return importance_df"
      ],
      "metadata": {
        "id": "ubifcEukd-qu"
      },
      "execution_count": 159,
      "outputs": []
    },
    {
      "cell_type": "code",
      "source": [
        "selected_df = xgb_shap_values(X_train, y_train,  X_test)"
      ],
      "metadata": {
        "id": "JYMG1VdzeBpg"
      },
      "execution_count": 160,
      "outputs": []
    },
    {
      "cell_type": "code",
      "source": [
        "selected_df = selected_df[0:400]\n",
        "selected_df"
      ],
      "metadata": {
        "colab": {
          "base_uri": "https://localhost:8080/",
          "height": 424
        },
        "id": "29y-TQbveE6n",
        "outputId": "73b9d716-39ed-4962-d050-b351d3d29237"
      },
      "execution_count": 161,
      "outputs": [
        {
          "output_type": "execute_result",
          "data": {
            "text/plain": [
              "     Column Name Shap Importance\n",
              "829      PSSM317        0.126893\n",
              "1439     glov415        0.113084\n",
              "1076      glov52         0.10355\n",
              "61         tpc61        0.089255\n",
              "235       tpc235        0.086827\n",
              "...          ...             ...\n",
              "5           tpc5        0.000767\n",
              "969      PSSM458        0.000764\n",
              "953      PSSM442        0.000739\n",
              "681      PSSM169        0.000698\n",
              "615      PSSM103        0.000665\n",
              "\n",
              "[400 rows x 2 columns]"
            ],
            "text/html": [
              "\n",
              "  <div id=\"df-18bd2374-516a-494b-b68e-7dcff0bbdb8e\">\n",
              "    <div class=\"colab-df-container\">\n",
              "      <div>\n",
              "<style scoped>\n",
              "    .dataframe tbody tr th:only-of-type {\n",
              "        vertical-align: middle;\n",
              "    }\n",
              "\n",
              "    .dataframe tbody tr th {\n",
              "        vertical-align: top;\n",
              "    }\n",
              "\n",
              "    .dataframe thead th {\n",
              "        text-align: right;\n",
              "    }\n",
              "</style>\n",
              "<table border=\"1\" class=\"dataframe\">\n",
              "  <thead>\n",
              "    <tr style=\"text-align: right;\">\n",
              "      <th></th>\n",
              "      <th>Column Name</th>\n",
              "      <th>Shap Importance</th>\n",
              "    </tr>\n",
              "  </thead>\n",
              "  <tbody>\n",
              "    <tr>\n",
              "      <th>829</th>\n",
              "      <td>PSSM317</td>\n",
              "      <td>0.126893</td>\n",
              "    </tr>\n",
              "    <tr>\n",
              "      <th>1439</th>\n",
              "      <td>glov415</td>\n",
              "      <td>0.113084</td>\n",
              "    </tr>\n",
              "    <tr>\n",
              "      <th>1076</th>\n",
              "      <td>glov52</td>\n",
              "      <td>0.10355</td>\n",
              "    </tr>\n",
              "    <tr>\n",
              "      <th>61</th>\n",
              "      <td>tpc61</td>\n",
              "      <td>0.089255</td>\n",
              "    </tr>\n",
              "    <tr>\n",
              "      <th>235</th>\n",
              "      <td>tpc235</td>\n",
              "      <td>0.086827</td>\n",
              "    </tr>\n",
              "    <tr>\n",
              "      <th>...</th>\n",
              "      <td>...</td>\n",
              "      <td>...</td>\n",
              "    </tr>\n",
              "    <tr>\n",
              "      <th>5</th>\n",
              "      <td>tpc5</td>\n",
              "      <td>0.000767</td>\n",
              "    </tr>\n",
              "    <tr>\n",
              "      <th>969</th>\n",
              "      <td>PSSM458</td>\n",
              "      <td>0.000764</td>\n",
              "    </tr>\n",
              "    <tr>\n",
              "      <th>953</th>\n",
              "      <td>PSSM442</td>\n",
              "      <td>0.000739</td>\n",
              "    </tr>\n",
              "    <tr>\n",
              "      <th>681</th>\n",
              "      <td>PSSM169</td>\n",
              "      <td>0.000698</td>\n",
              "    </tr>\n",
              "    <tr>\n",
              "      <th>615</th>\n",
              "      <td>PSSM103</td>\n",
              "      <td>0.000665</td>\n",
              "    </tr>\n",
              "  </tbody>\n",
              "</table>\n",
              "<p>400 rows × 2 columns</p>\n",
              "</div>\n",
              "      <button class=\"colab-df-convert\" onclick=\"convertToInteractive('df-18bd2374-516a-494b-b68e-7dcff0bbdb8e')\"\n",
              "              title=\"Convert this dataframe to an interactive table.\"\n",
              "              style=\"display:none;\">\n",
              "        \n",
              "  <svg xmlns=\"http://www.w3.org/2000/svg\" height=\"24px\"viewBox=\"0 0 24 24\"\n",
              "       width=\"24px\">\n",
              "    <path d=\"M0 0h24v24H0V0z\" fill=\"none\"/>\n",
              "    <path d=\"M18.56 5.44l.94 2.06.94-2.06 2.06-.94-2.06-.94-.94-2.06-.94 2.06-2.06.94zm-11 1L8.5 8.5l.94-2.06 2.06-.94-2.06-.94L8.5 2.5l-.94 2.06-2.06.94zm10 10l.94 2.06.94-2.06 2.06-.94-2.06-.94-.94-2.06-.94 2.06-2.06.94z\"/><path d=\"M17.41 7.96l-1.37-1.37c-.4-.4-.92-.59-1.43-.59-.52 0-1.04.2-1.43.59L10.3 9.45l-7.72 7.72c-.78.78-.78 2.05 0 2.83L4 21.41c.39.39.9.59 1.41.59.51 0 1.02-.2 1.41-.59l7.78-7.78 2.81-2.81c.8-.78.8-2.07 0-2.86zM5.41 20L4 18.59l7.72-7.72 1.47 1.35L5.41 20z\"/>\n",
              "  </svg>\n",
              "      </button>\n",
              "      \n",
              "  <style>\n",
              "    .colab-df-container {\n",
              "      display:flex;\n",
              "      flex-wrap:wrap;\n",
              "      gap: 12px;\n",
              "    }\n",
              "\n",
              "    .colab-df-convert {\n",
              "      background-color: #E8F0FE;\n",
              "      border: none;\n",
              "      border-radius: 50%;\n",
              "      cursor: pointer;\n",
              "      display: none;\n",
              "      fill: #1967D2;\n",
              "      height: 32px;\n",
              "      padding: 0 0 0 0;\n",
              "      width: 32px;\n",
              "    }\n",
              "\n",
              "    .colab-df-convert:hover {\n",
              "      background-color: #E2EBFA;\n",
              "      box-shadow: 0px 1px 2px rgba(60, 64, 67, 0.3), 0px 1px 3px 1px rgba(60, 64, 67, 0.15);\n",
              "      fill: #174EA6;\n",
              "    }\n",
              "\n",
              "    [theme=dark] .colab-df-convert {\n",
              "      background-color: #3B4455;\n",
              "      fill: #D2E3FC;\n",
              "    }\n",
              "\n",
              "    [theme=dark] .colab-df-convert:hover {\n",
              "      background-color: #434B5C;\n",
              "      box-shadow: 0px 1px 3px 1px rgba(0, 0, 0, 0.15);\n",
              "      filter: drop-shadow(0px 1px 2px rgba(0, 0, 0, 0.3));\n",
              "      fill: #FFFFFF;\n",
              "    }\n",
              "  </style>\n",
              "\n",
              "      <script>\n",
              "        const buttonEl =\n",
              "          document.querySelector('#df-18bd2374-516a-494b-b68e-7dcff0bbdb8e button.colab-df-convert');\n",
              "        buttonEl.style.display =\n",
              "          google.colab.kernel.accessAllowed ? 'block' : 'none';\n",
              "\n",
              "        async function convertToInteractive(key) {\n",
              "          const element = document.querySelector('#df-18bd2374-516a-494b-b68e-7dcff0bbdb8e');\n",
              "          const dataTable =\n",
              "            await google.colab.kernel.invokeFunction('convertToInteractive',\n",
              "                                                     [key], {});\n",
              "          if (!dataTable) return;\n",
              "\n",
              "          const docLinkHtml = 'Like what you see? Visit the ' +\n",
              "            '<a target=\"_blank\" href=https://colab.research.google.com/notebooks/data_table.ipynb>data table notebook</a>'\n",
              "            + ' to learn more about interactive tables.';\n",
              "          element.innerHTML = '';\n",
              "          dataTable['output_type'] = 'display_data';\n",
              "          await google.colab.output.renderOutput(dataTable, element);\n",
              "          const docLink = document.createElement('div');\n",
              "          docLink.innerHTML = docLinkHtml;\n",
              "          element.appendChild(docLink);\n",
              "        }\n",
              "      </script>\n",
              "    </div>\n",
              "  </div>\n",
              "  "
            ]
          },
          "metadata": {},
          "execution_count": 161
        }
      ]
    },
    {
      "cell_type": "code",
      "source": [
        "cols = selected_df['Column Name']\n",
        "cols"
      ],
      "metadata": {
        "colab": {
          "base_uri": "https://localhost:8080/"
        },
        "id": "wC15nhkEeIZL",
        "outputId": "5ca84d68-2691-412b-a824-c84a262b5aa7"
      },
      "execution_count": 162,
      "outputs": [
        {
          "output_type": "execute_result",
          "data": {
            "text/plain": [
              "829     PSSM317\n",
              "1439    glov415\n",
              "1076     glov52\n",
              "61        tpc61\n",
              "235      tpc235\n",
              "         ...   \n",
              "5          tpc5\n",
              "969     PSSM458\n",
              "953     PSSM442\n",
              "681     PSSM169\n",
              "615     PSSM103\n",
              "Name: Column Name, Length: 400, dtype: object"
            ]
          },
          "metadata": {},
          "execution_count": 162
        }
      ]
    },
    {
      "cell_type": "code",
      "source": [
        "## converting df to numpy array/list\n",
        "trainingdf = np.array(cols)\n",
        "trainingdf"
      ],
      "metadata": {
        "colab": {
          "base_uri": "https://localhost:8080/"
        },
        "id": "aflePPAKeMBV",
        "outputId": "85cc1660-1d7e-4763-c355-8bcb5f1a6e6b"
      },
      "execution_count": 163,
      "outputs": [
        {
          "output_type": "execute_result",
          "data": {
            "text/plain": [
              "array(['PSSM317', 'glov415', 'glov52', 'tpc61', 'tpc235', 'PSSM85',\n",
              "       'glov284', 'PSSM160', 'glov444', 'PSSM45', 'PSSM168', 'tpc389',\n",
              "       'tpc293', 'glov206', 'PSSM275', 'PSSM198', 'PSSM171', 'tpc181',\n",
              "       'PSSM485', 'tpc455', 'tpc427', 'PSSM297', 'glov309', 'PSSM117',\n",
              "       'tpc479', 'PSSM475', 'PSSM336', 'tpc312', 'PSSM87', 'tpc239',\n",
              "       'glov57', 'PSSM78', 'PSSM509', 'glov392', 'PSSM402', 'PSSM486',\n",
              "       'tpc247', 'glov334', 'tpc419', 'PSSM115', 'tpc371', 'tpc264',\n",
              "       'PSSM492', 'glov374', 'glov221', 'PSSM330', 'tpc345', 'PSSM122',\n",
              "       'PSSM309', 'tpc203', 'glov168', 'glov48', 'glov366', 'PSSM108',\n",
              "       'glov196', 'glov511', 'glov382', 'tpc425', 'glov242', 'tpc31',\n",
              "       'tpc53', 'PSSM290', 'tpc157', 'PSSM2', 'PSSM18', 'PSSM348',\n",
              "       'glov21', 'PSSM318', 'glov298', 'PSSM494', 'PSSM200', 'PSSM274',\n",
              "       'tpc426', 'PSSM462', 'glov173', 'PSSM416', 'PSSM268', 'PSSM307',\n",
              "       'glov364', 'tpc180', 'PSSM327', 'glov355', 'glov12', 'PSSM54',\n",
              "       'PSSM286', 'tpc194', 'tpc166', 'glov342', 'PSSM321', 'tpc153',\n",
              "       'PSSM488', 'glov14', 'PSSM180', 'PSSM484', 'glov215', 'tpc206',\n",
              "       'glov306', 'PSSM15', 'tpc353', 'glov394', 'tpc462', 'glov402',\n",
              "       'tpc107', 'PSSM424', 'glov496', 'glov505', 'glov476', 'glov278',\n",
              "       'PSSM161', 'PSSM472', 'tpc382', 'PSSM222', 'PSSM404', 'tpc279',\n",
              "       'tpc211', 'glov107', 'glov416', 'tpc416', 'glov277', 'tpc55',\n",
              "       'glov93', 'tpc509', 'tpc29', 'glov28', 'glov304', 'PSSM225',\n",
              "       'PSSM260', 'tpc58', 'PSSM371', 'glov346', 'tpc270', 'tpc498',\n",
              "       'glov386', 'tpc410', 'glov267', 'PSSM114', 'glov369', 'tpc265',\n",
              "       'tpc34', 'PSSM264', 'PSSM273', 'PSSM228', 'PSSM118', 'PSSM58',\n",
              "       'PSSM9', 'glov433', 'PSSM152', 'PSSM335', 'glov440', 'tpc380',\n",
              "       'tpc326', 'PSSM386', 'glov68', 'tpc215', 'PSSM420', 'glov360',\n",
              "       'tpc156', 'tpc341', 'glov468', 'PSSM120', 'glov466', 'tpc125',\n",
              "       'tpc252', 'glov230', 'glov329', 'PSSM276', 'PSSM243', 'glov299',\n",
              "       'PSSM129', 'glov115', 'glov282', 'glov11', 'PSSM278', 'tpc159',\n",
              "       'tpc346', 'tpc332', 'PSSM55', 'PSSM49', 'glov133', 'tpc0',\n",
              "       'PSSM316', 'glov75', 'tpc376', 'PSSM142', 'glov287', 'PSSM33',\n",
              "       'PSSM375', 'PSSM67', 'tpc449', 'glov361', 'PSSM372', 'tpc172',\n",
              "       'PSSM329', 'PSSM89', 'PSSM382', 'glov155', 'glov449', 'tpc191',\n",
              "       'PSSM478', 'glov16', 'glov105', 'PSSM131', 'glov250', 'glov354',\n",
              "       'tpc118', 'tpc218', 'tpc330', 'tpc292', 'PSSM333', 'glov341',\n",
              "       'PSSM265', 'PSSM124', 'PSSM37', 'glov419', 'tpc486', 'glov330',\n",
              "       'glov351', 'PSSM397', 'glov255', 'tpc41', 'tpc12', 'PSSM97',\n",
              "       'tpc446', 'tpc103', 'PSSM368', 'PSSM415', 'tpc257', 'glov61',\n",
              "       'tpc82', 'glov395', 'tpc272', 'PSSM255', 'PSSM231', 'tpc485',\n",
              "       'tpc73', 'tpc185', 'PSSM349', 'tpc333', 'PSSM62', 'PSSM36',\n",
              "       'tpc465', 'tpc441', 'glov323', 'glov167', 'PSSM238', 'tpc24',\n",
              "       'tpc99', 'PSSM21', 'glov4', 'tpc204', 'glov37', 'PSSM215',\n",
              "       'tpc222', 'tpc429', 'PSSM99', 'glov185', 'PSSM299', 'tpc81',\n",
              "       'PSSM345', 'glov422', 'PSSM205', 'glov95', 'tpc491', 'PSSM430',\n",
              "       'glov441', 'tpc310', 'tpc408', 'glov24', 'glov223', 'tpc473',\n",
              "       'PSSM146', 'glov87', 'glov224', 'tpc302', 'PSSM259', 'tpc199',\n",
              "       'glov60', 'glov373', 'tpc464', 'PSSM102', 'tpc508', 'PSSM429',\n",
              "       'glov312', 'glov376', 'PSSM41', 'tpc320', 'PSSM510', 'glov169',\n",
              "       'glov266', 'tpc150', 'PSSM310', 'PSSM183', 'tpc414', 'PSSM125',\n",
              "       'tpc15', 'PSSM385', 'tpc321', 'tpc422', 'PSSM343', 'tpc240',\n",
              "       'glov492', 'glov46', 'glov403', 'tpc311', 'tpc253', 'glov336',\n",
              "       'PSSM32', 'PSSM247', 'PSSM444', 'glov99', 'glov470', 'glov74',\n",
              "       'glov86', 'PSSM469', 'tpc506', 'PSSM60', 'PSSM387', 'PSSM172',\n",
              "       'glov63', 'glov40', 'PSSM356', 'glov297', 'tpc170', 'PSSM502',\n",
              "       'PSSM167', 'glov240', 'PSSM181', 'glov153', 'PSSM325', 'tpc428',\n",
              "       'tpc418', 'tpc405', 'glov205', 'PSSM339', 'tpc21', 'tpc63',\n",
              "       'PSSM384', 'PSSM170', 'PSSM322', 'glov55', 'PSSM28', 'PSSM69',\n",
              "       'tpc259', 'tpc42', 'tpc388', 'glov227', 'tpc220', 'PSSM258',\n",
              "       'PSSM6', 'tpc197', 'PSSM31', 'glov102', 'PSSM4', 'PSSM434',\n",
              "       'tpc236', 'PSSM29', 'glov387', 'tpc450', 'tpc267', 'Fast512',\n",
              "       'glov303', 'glov411', 'tpc339', 'PSSM199', 'glov29', 'glov328',\n",
              "       'tpc30', 'glov180', 'PSSM346', 'tpc207', 'tpc260', 'tpc4',\n",
              "       'glov244', 'tpc315', 'PSSM213', 'tpc193', 'glov172', 'tpc49',\n",
              "       'glov248', 'tpc57', 'FAST0', 'glov324', 'glov391', 'glov345',\n",
              "       'glov42', 'tpc188', 'PSSM266', 'glov384', 'tpc138', 'PSSM332',\n",
              "       'glov288', 'tpc298', 'glov34', 'tpc256', 'glov305', 'tpc5',\n",
              "       'PSSM458', 'PSSM442', 'PSSM169', 'PSSM103'], dtype=object)"
            ]
          },
          "metadata": {},
          "execution_count": 163
        }
      ]
    },
    {
      "cell_type": "code",
      "source": [
        "df1 = X[trainingdf]\n",
        "df1"
      ],
      "metadata": {
        "colab": {
          "base_uri": "https://localhost:8080/",
          "height": 488
        },
        "id": "dlfHQ-XFePhv",
        "outputId": "a254e414-a572-4cff-e6f0-10af3b47abb0"
      },
      "execution_count": 164,
      "outputs": [
        {
          "output_type": "execute_result",
          "data": {
            "text/plain": [
              "       PSSM317   glov415    glov52     tpc61    tpc235    PSSM85   glov284  \\\n",
              "0     0.054743  0.074675  0.000303 -0.076293  0.010229  0.035640  0.022926   \n",
              "1     0.065115  0.069659 -0.045227 -0.077782  0.003465  0.041059 -0.011425   \n",
              "2     0.044884  0.045235 -0.060085 -0.078777  0.016035  0.043632 -0.073880   \n",
              "3     0.059886  0.064951 -0.012383 -0.073037  0.011590  0.038796 -0.004089   \n",
              "4     0.062862  0.078552 -0.061718 -0.074774  0.016680  0.029319 -0.052266   \n",
              "...        ...       ...       ...       ...       ...       ...       ...   \n",
              "2099  0.050557  0.071531 -0.044671 -0.074539  0.011628  0.035202 -0.023707   \n",
              "2100  0.061508  0.067351 -0.045447 -0.075958  0.008688  0.040697 -0.015519   \n",
              "2101  0.053880  0.065811 -0.052384 -0.077944  0.007752  0.040747 -0.028533   \n",
              "2102  0.057374  0.080016 -0.035019 -0.074126  0.011541  0.043177 -0.017203   \n",
              "2103  0.054592  0.067424 -0.041023 -0.076822  0.010728  0.042029 -0.028115   \n",
              "\n",
              "       PSSM160   glov444    PSSM45  ...   glov288    tpc298    glov34  \\\n",
              "0    -0.006537  0.021856 -0.007473  ... -0.123889  0.036646 -0.034563   \n",
              "1    -0.010033  0.040764 -0.017922  ... -0.070420  0.031402 -0.058434   \n",
              "2    -0.005968  0.006527 -0.038777  ... -0.105466  0.030607 -0.053441   \n",
              "3    -0.009479  0.042427 -0.007649  ... -0.138197  0.035178 -0.041372   \n",
              "4    -0.008625 -0.028659 -0.009316  ... -0.153823  0.033650 -0.032264   \n",
              "...        ...       ...       ...  ...       ...       ...       ...   \n",
              "2099 -0.008811  0.021483 -0.018574  ... -0.110847  0.034477 -0.048595   \n",
              "2100 -0.009843  0.034303 -0.018891  ... -0.094719  0.032295 -0.044998   \n",
              "2101 -0.015158  0.020095 -0.018776  ... -0.090378  0.034541 -0.060065   \n",
              "2102 -0.003344  0.026447 -0.017520  ... -0.118637  0.033665 -0.039509   \n",
              "2103 -0.005834  0.030003 -0.020302  ... -0.113788  0.033280 -0.034983   \n",
              "\n",
              "        tpc256   glov305      tpc5   PSSM458   PSSM442   PSSM169   PSSM103  \n",
              "0    -0.001354 -0.003513 -0.026881  0.026909  0.075620  0.035480 -0.015384  \n",
              "1    -0.000203 -0.011295 -0.029251  0.017104  0.066409  0.041616 -0.033150  \n",
              "2    -0.010605 -0.011753 -0.040203  0.020127  0.086075  0.041327 -0.035592  \n",
              "3     0.002149 -0.016630 -0.028409  0.017413  0.068884  0.037511 -0.014311  \n",
              "4    -0.006648  0.028629 -0.031327  0.036721  0.079445  0.033758 -0.023862  \n",
              "...        ...       ...       ...       ...       ...       ...       ...  \n",
              "2099 -0.004958  0.005576 -0.032727  0.026583  0.080441  0.037830 -0.028194  \n",
              "2100 -0.000131 -0.019819 -0.030396  0.025655  0.074904  0.040681 -0.023593  \n",
              "2101 -0.003240  0.005724 -0.033411  0.022363  0.068242  0.037914 -0.032532  \n",
              "2102 -0.000768  0.001716 -0.035552  0.020420  0.070560  0.037638 -0.018680  \n",
              "2103 -0.001355 -0.027663 -0.029866  0.022137  0.075701  0.044929 -0.012888  \n",
              "\n",
              "[2104 rows x 400 columns]"
            ],
            "text/html": [
              "\n",
              "  <div id=\"df-9a0ef925-5d41-4068-bb55-f112dcfc1c41\">\n",
              "    <div class=\"colab-df-container\">\n",
              "      <div>\n",
              "<style scoped>\n",
              "    .dataframe tbody tr th:only-of-type {\n",
              "        vertical-align: middle;\n",
              "    }\n",
              "\n",
              "    .dataframe tbody tr th {\n",
              "        vertical-align: top;\n",
              "    }\n",
              "\n",
              "    .dataframe thead th {\n",
              "        text-align: right;\n",
              "    }\n",
              "</style>\n",
              "<table border=\"1\" class=\"dataframe\">\n",
              "  <thead>\n",
              "    <tr style=\"text-align: right;\">\n",
              "      <th></th>\n",
              "      <th>PSSM317</th>\n",
              "      <th>glov415</th>\n",
              "      <th>glov52</th>\n",
              "      <th>tpc61</th>\n",
              "      <th>tpc235</th>\n",
              "      <th>PSSM85</th>\n",
              "      <th>glov284</th>\n",
              "      <th>PSSM160</th>\n",
              "      <th>glov444</th>\n",
              "      <th>PSSM45</th>\n",
              "      <th>...</th>\n",
              "      <th>glov288</th>\n",
              "      <th>tpc298</th>\n",
              "      <th>glov34</th>\n",
              "      <th>tpc256</th>\n",
              "      <th>glov305</th>\n",
              "      <th>tpc5</th>\n",
              "      <th>PSSM458</th>\n",
              "      <th>PSSM442</th>\n",
              "      <th>PSSM169</th>\n",
              "      <th>PSSM103</th>\n",
              "    </tr>\n",
              "  </thead>\n",
              "  <tbody>\n",
              "    <tr>\n",
              "      <th>0</th>\n",
              "      <td>0.054743</td>\n",
              "      <td>0.074675</td>\n",
              "      <td>0.000303</td>\n",
              "      <td>-0.076293</td>\n",
              "      <td>0.010229</td>\n",
              "      <td>0.035640</td>\n",
              "      <td>0.022926</td>\n",
              "      <td>-0.006537</td>\n",
              "      <td>0.021856</td>\n",
              "      <td>-0.007473</td>\n",
              "      <td>...</td>\n",
              "      <td>-0.123889</td>\n",
              "      <td>0.036646</td>\n",
              "      <td>-0.034563</td>\n",
              "      <td>-0.001354</td>\n",
              "      <td>-0.003513</td>\n",
              "      <td>-0.026881</td>\n",
              "      <td>0.026909</td>\n",
              "      <td>0.075620</td>\n",
              "      <td>0.035480</td>\n",
              "      <td>-0.015384</td>\n",
              "    </tr>\n",
              "    <tr>\n",
              "      <th>1</th>\n",
              "      <td>0.065115</td>\n",
              "      <td>0.069659</td>\n",
              "      <td>-0.045227</td>\n",
              "      <td>-0.077782</td>\n",
              "      <td>0.003465</td>\n",
              "      <td>0.041059</td>\n",
              "      <td>-0.011425</td>\n",
              "      <td>-0.010033</td>\n",
              "      <td>0.040764</td>\n",
              "      <td>-0.017922</td>\n",
              "      <td>...</td>\n",
              "      <td>-0.070420</td>\n",
              "      <td>0.031402</td>\n",
              "      <td>-0.058434</td>\n",
              "      <td>-0.000203</td>\n",
              "      <td>-0.011295</td>\n",
              "      <td>-0.029251</td>\n",
              "      <td>0.017104</td>\n",
              "      <td>0.066409</td>\n",
              "      <td>0.041616</td>\n",
              "      <td>-0.033150</td>\n",
              "    </tr>\n",
              "    <tr>\n",
              "      <th>2</th>\n",
              "      <td>0.044884</td>\n",
              "      <td>0.045235</td>\n",
              "      <td>-0.060085</td>\n",
              "      <td>-0.078777</td>\n",
              "      <td>0.016035</td>\n",
              "      <td>0.043632</td>\n",
              "      <td>-0.073880</td>\n",
              "      <td>-0.005968</td>\n",
              "      <td>0.006527</td>\n",
              "      <td>-0.038777</td>\n",
              "      <td>...</td>\n",
              "      <td>-0.105466</td>\n",
              "      <td>0.030607</td>\n",
              "      <td>-0.053441</td>\n",
              "      <td>-0.010605</td>\n",
              "      <td>-0.011753</td>\n",
              "      <td>-0.040203</td>\n",
              "      <td>0.020127</td>\n",
              "      <td>0.086075</td>\n",
              "      <td>0.041327</td>\n",
              "      <td>-0.035592</td>\n",
              "    </tr>\n",
              "    <tr>\n",
              "      <th>3</th>\n",
              "      <td>0.059886</td>\n",
              "      <td>0.064951</td>\n",
              "      <td>-0.012383</td>\n",
              "      <td>-0.073037</td>\n",
              "      <td>0.011590</td>\n",
              "      <td>0.038796</td>\n",
              "      <td>-0.004089</td>\n",
              "      <td>-0.009479</td>\n",
              "      <td>0.042427</td>\n",
              "      <td>-0.007649</td>\n",
              "      <td>...</td>\n",
              "      <td>-0.138197</td>\n",
              "      <td>0.035178</td>\n",
              "      <td>-0.041372</td>\n",
              "      <td>0.002149</td>\n",
              "      <td>-0.016630</td>\n",
              "      <td>-0.028409</td>\n",
              "      <td>0.017413</td>\n",
              "      <td>0.068884</td>\n",
              "      <td>0.037511</td>\n",
              "      <td>-0.014311</td>\n",
              "    </tr>\n",
              "    <tr>\n",
              "      <th>4</th>\n",
              "      <td>0.062862</td>\n",
              "      <td>0.078552</td>\n",
              "      <td>-0.061718</td>\n",
              "      <td>-0.074774</td>\n",
              "      <td>0.016680</td>\n",
              "      <td>0.029319</td>\n",
              "      <td>-0.052266</td>\n",
              "      <td>-0.008625</td>\n",
              "      <td>-0.028659</td>\n",
              "      <td>-0.009316</td>\n",
              "      <td>...</td>\n",
              "      <td>-0.153823</td>\n",
              "      <td>0.033650</td>\n",
              "      <td>-0.032264</td>\n",
              "      <td>-0.006648</td>\n",
              "      <td>0.028629</td>\n",
              "      <td>-0.031327</td>\n",
              "      <td>0.036721</td>\n",
              "      <td>0.079445</td>\n",
              "      <td>0.033758</td>\n",
              "      <td>-0.023862</td>\n",
              "    </tr>\n",
              "    <tr>\n",
              "      <th>...</th>\n",
              "      <td>...</td>\n",
              "      <td>...</td>\n",
              "      <td>...</td>\n",
              "      <td>...</td>\n",
              "      <td>...</td>\n",
              "      <td>...</td>\n",
              "      <td>...</td>\n",
              "      <td>...</td>\n",
              "      <td>...</td>\n",
              "      <td>...</td>\n",
              "      <td>...</td>\n",
              "      <td>...</td>\n",
              "      <td>...</td>\n",
              "      <td>...</td>\n",
              "      <td>...</td>\n",
              "      <td>...</td>\n",
              "      <td>...</td>\n",
              "      <td>...</td>\n",
              "      <td>...</td>\n",
              "      <td>...</td>\n",
              "      <td>...</td>\n",
              "    </tr>\n",
              "    <tr>\n",
              "      <th>2099</th>\n",
              "      <td>0.050557</td>\n",
              "      <td>0.071531</td>\n",
              "      <td>-0.044671</td>\n",
              "      <td>-0.074539</td>\n",
              "      <td>0.011628</td>\n",
              "      <td>0.035202</td>\n",
              "      <td>-0.023707</td>\n",
              "      <td>-0.008811</td>\n",
              "      <td>0.021483</td>\n",
              "      <td>-0.018574</td>\n",
              "      <td>...</td>\n",
              "      <td>-0.110847</td>\n",
              "      <td>0.034477</td>\n",
              "      <td>-0.048595</td>\n",
              "      <td>-0.004958</td>\n",
              "      <td>0.005576</td>\n",
              "      <td>-0.032727</td>\n",
              "      <td>0.026583</td>\n",
              "      <td>0.080441</td>\n",
              "      <td>0.037830</td>\n",
              "      <td>-0.028194</td>\n",
              "    </tr>\n",
              "    <tr>\n",
              "      <th>2100</th>\n",
              "      <td>0.061508</td>\n",
              "      <td>0.067351</td>\n",
              "      <td>-0.045447</td>\n",
              "      <td>-0.075958</td>\n",
              "      <td>0.008688</td>\n",
              "      <td>0.040697</td>\n",
              "      <td>-0.015519</td>\n",
              "      <td>-0.009843</td>\n",
              "      <td>0.034303</td>\n",
              "      <td>-0.018891</td>\n",
              "      <td>...</td>\n",
              "      <td>-0.094719</td>\n",
              "      <td>0.032295</td>\n",
              "      <td>-0.044998</td>\n",
              "      <td>-0.000131</td>\n",
              "      <td>-0.019819</td>\n",
              "      <td>-0.030396</td>\n",
              "      <td>0.025655</td>\n",
              "      <td>0.074904</td>\n",
              "      <td>0.040681</td>\n",
              "      <td>-0.023593</td>\n",
              "    </tr>\n",
              "    <tr>\n",
              "      <th>2101</th>\n",
              "      <td>0.053880</td>\n",
              "      <td>0.065811</td>\n",
              "      <td>-0.052384</td>\n",
              "      <td>-0.077944</td>\n",
              "      <td>0.007752</td>\n",
              "      <td>0.040747</td>\n",
              "      <td>-0.028533</td>\n",
              "      <td>-0.015158</td>\n",
              "      <td>0.020095</td>\n",
              "      <td>-0.018776</td>\n",
              "      <td>...</td>\n",
              "      <td>-0.090378</td>\n",
              "      <td>0.034541</td>\n",
              "      <td>-0.060065</td>\n",
              "      <td>-0.003240</td>\n",
              "      <td>0.005724</td>\n",
              "      <td>-0.033411</td>\n",
              "      <td>0.022363</td>\n",
              "      <td>0.068242</td>\n",
              "      <td>0.037914</td>\n",
              "      <td>-0.032532</td>\n",
              "    </tr>\n",
              "    <tr>\n",
              "      <th>2102</th>\n",
              "      <td>0.057374</td>\n",
              "      <td>0.080016</td>\n",
              "      <td>-0.035019</td>\n",
              "      <td>-0.074126</td>\n",
              "      <td>0.011541</td>\n",
              "      <td>0.043177</td>\n",
              "      <td>-0.017203</td>\n",
              "      <td>-0.003344</td>\n",
              "      <td>0.026447</td>\n",
              "      <td>-0.017520</td>\n",
              "      <td>...</td>\n",
              "      <td>-0.118637</td>\n",
              "      <td>0.033665</td>\n",
              "      <td>-0.039509</td>\n",
              "      <td>-0.000768</td>\n",
              "      <td>0.001716</td>\n",
              "      <td>-0.035552</td>\n",
              "      <td>0.020420</td>\n",
              "      <td>0.070560</td>\n",
              "      <td>0.037638</td>\n",
              "      <td>-0.018680</td>\n",
              "    </tr>\n",
              "    <tr>\n",
              "      <th>2103</th>\n",
              "      <td>0.054592</td>\n",
              "      <td>0.067424</td>\n",
              "      <td>-0.041023</td>\n",
              "      <td>-0.076822</td>\n",
              "      <td>0.010728</td>\n",
              "      <td>0.042029</td>\n",
              "      <td>-0.028115</td>\n",
              "      <td>-0.005834</td>\n",
              "      <td>0.030003</td>\n",
              "      <td>-0.020302</td>\n",
              "      <td>...</td>\n",
              "      <td>-0.113788</td>\n",
              "      <td>0.033280</td>\n",
              "      <td>-0.034983</td>\n",
              "      <td>-0.001355</td>\n",
              "      <td>-0.027663</td>\n",
              "      <td>-0.029866</td>\n",
              "      <td>0.022137</td>\n",
              "      <td>0.075701</td>\n",
              "      <td>0.044929</td>\n",
              "      <td>-0.012888</td>\n",
              "    </tr>\n",
              "  </tbody>\n",
              "</table>\n",
              "<p>2104 rows × 400 columns</p>\n",
              "</div>\n",
              "      <button class=\"colab-df-convert\" onclick=\"convertToInteractive('df-9a0ef925-5d41-4068-bb55-f112dcfc1c41')\"\n",
              "              title=\"Convert this dataframe to an interactive table.\"\n",
              "              style=\"display:none;\">\n",
              "        \n",
              "  <svg xmlns=\"http://www.w3.org/2000/svg\" height=\"24px\"viewBox=\"0 0 24 24\"\n",
              "       width=\"24px\">\n",
              "    <path d=\"M0 0h24v24H0V0z\" fill=\"none\"/>\n",
              "    <path d=\"M18.56 5.44l.94 2.06.94-2.06 2.06-.94-2.06-.94-.94-2.06-.94 2.06-2.06.94zm-11 1L8.5 8.5l.94-2.06 2.06-.94-2.06-.94L8.5 2.5l-.94 2.06-2.06.94zm10 10l.94 2.06.94-2.06 2.06-.94-2.06-.94-.94-2.06-.94 2.06-2.06.94z\"/><path d=\"M17.41 7.96l-1.37-1.37c-.4-.4-.92-.59-1.43-.59-.52 0-1.04.2-1.43.59L10.3 9.45l-7.72 7.72c-.78.78-.78 2.05 0 2.83L4 21.41c.39.39.9.59 1.41.59.51 0 1.02-.2 1.41-.59l7.78-7.78 2.81-2.81c.8-.78.8-2.07 0-2.86zM5.41 20L4 18.59l7.72-7.72 1.47 1.35L5.41 20z\"/>\n",
              "  </svg>\n",
              "      </button>\n",
              "      \n",
              "  <style>\n",
              "    .colab-df-container {\n",
              "      display:flex;\n",
              "      flex-wrap:wrap;\n",
              "      gap: 12px;\n",
              "    }\n",
              "\n",
              "    .colab-df-convert {\n",
              "      background-color: #E8F0FE;\n",
              "      border: none;\n",
              "      border-radius: 50%;\n",
              "      cursor: pointer;\n",
              "      display: none;\n",
              "      fill: #1967D2;\n",
              "      height: 32px;\n",
              "      padding: 0 0 0 0;\n",
              "      width: 32px;\n",
              "    }\n",
              "\n",
              "    .colab-df-convert:hover {\n",
              "      background-color: #E2EBFA;\n",
              "      box-shadow: 0px 1px 2px rgba(60, 64, 67, 0.3), 0px 1px 3px 1px rgba(60, 64, 67, 0.15);\n",
              "      fill: #174EA6;\n",
              "    }\n",
              "\n",
              "    [theme=dark] .colab-df-convert {\n",
              "      background-color: #3B4455;\n",
              "      fill: #D2E3FC;\n",
              "    }\n",
              "\n",
              "    [theme=dark] .colab-df-convert:hover {\n",
              "      background-color: #434B5C;\n",
              "      box-shadow: 0px 1px 3px 1px rgba(0, 0, 0, 0.15);\n",
              "      filter: drop-shadow(0px 1px 2px rgba(0, 0, 0, 0.3));\n",
              "      fill: #FFFFFF;\n",
              "    }\n",
              "  </style>\n",
              "\n",
              "      <script>\n",
              "        const buttonEl =\n",
              "          document.querySelector('#df-9a0ef925-5d41-4068-bb55-f112dcfc1c41 button.colab-df-convert');\n",
              "        buttonEl.style.display =\n",
              "          google.colab.kernel.accessAllowed ? 'block' : 'none';\n",
              "\n",
              "        async function convertToInteractive(key) {\n",
              "          const element = document.querySelector('#df-9a0ef925-5d41-4068-bb55-f112dcfc1c41');\n",
              "          const dataTable =\n",
              "            await google.colab.kernel.invokeFunction('convertToInteractive',\n",
              "                                                     [key], {});\n",
              "          if (!dataTable) return;\n",
              "\n",
              "          const docLinkHtml = 'Like what you see? Visit the ' +\n",
              "            '<a target=\"_blank\" href=https://colab.research.google.com/notebooks/data_table.ipynb>data table notebook</a>'\n",
              "            + ' to learn more about interactive tables.';\n",
              "          element.innerHTML = '';\n",
              "          dataTable['output_type'] = 'display_data';\n",
              "          await google.colab.output.renderOutput(dataTable, element);\n",
              "          const docLink = document.createElement('div');\n",
              "          docLink.innerHTML = docLinkHtml;\n",
              "          element.appendChild(docLink);\n",
              "        }\n",
              "      </script>\n",
              "    </div>\n",
              "  </div>\n",
              "  "
            ]
          },
          "metadata": {},
          "execution_count": 164
        }
      ]
    },
    {
      "cell_type": "code",
      "source": [
        "X = df1\n",
        "y = y"
      ],
      "metadata": {
        "id": "Gq8DGMu8eT0Q"
      },
      "execution_count": 165,
      "outputs": []
    },
    {
      "cell_type": "code",
      "source": [
        "count_classes = pd.value_counts(y, sort = True)\n",
        "\n",
        "count_classes.plot(kind = 'bar', rot=0)\n",
        "\n",
        "plt.title(\"Class Distribution\")\n",
        "\n",
        "LABELS = [\"Zero\", \"One\"]\n",
        "\n",
        "plt.xticks(range(2), LABELS)\n",
        "\n",
        "plt.xlabel(\"Class\")\n",
        "\n",
        "plt.ylabel(\"Frequency\")"
      ],
      "metadata": {
        "colab": {
          "base_uri": "https://localhost:8080/",
          "height": 312
        },
        "id": "76TIgvZFeWdD",
        "outputId": "6217a4e1-373c-45be-d790-9ecba8e9962c"
      },
      "execution_count": 166,
      "outputs": [
        {
          "output_type": "execute_result",
          "data": {
            "text/plain": [
              "Text(0, 0.5, 'Frequency')"
            ]
          },
          "metadata": {},
          "execution_count": 166
        },
        {
          "output_type": "display_data",
          "data": {
            "text/plain": [
              "<Figure size 432x288 with 1 Axes>"
            ],
            "image/png": "[encoded data removed]"
          },
          "metadata": {
            "needs_background": "light"
          }
        }
      ]
    },
    {
      "cell_type": "code",
      "source": [
        "One = df[y==1]\n",
        "\n",
        "Zero = df[y==0]\n",
        "\n",
        "print(Zero.shape,One.shape)"
      ],
      "metadata": {
        "colab": {
          "base_uri": "https://localhost:8080/"
        },
        "id": "jDKTbZopeYh6",
        "outputId": "9535f4bd-a856-4217-8d2b-21093d38fe71"
      },
      "execution_count": 167,
      "outputs": [
        {
          "output_type": "stream",
          "name": "stdout",
          "text": [
            "(1041, 1537) (1063, 1537)\n"
          ]
        }
      ]
    },
    {
      "cell_type": "code",
      "source": [
        "from imblearn.over_sampling import SMOTE\n",
        "sm = SMOTE(sampling_strategy='minority')\n",
        "X_res,y_res=sm.fit_resample(X,y)"
      ],
      "metadata": {
        "id": "Ja_kNVfXebyw"
      },
      "execution_count": 168,
      "outputs": []
    },
    {
      "cell_type": "code",
      "source": [
        "print(X_res.shape)\n",
        "print(y_res.shape)"
      ],
      "metadata": {
        "colab": {
          "base_uri": "https://localhost:8080/"
        },
        "id": "7j1mvBKWefTw",
        "outputId": "aaf0e910-8d44-41c5-883f-788d56ad5ea9"
      },
      "execution_count": 169,
      "outputs": [
        {
          "output_type": "stream",
          "name": "stdout",
          "text": [
            "(2126, 400)\n",
            "(2126,)\n"
          ]
        }
      ]
    },
    {
      "cell_type": "code",
      "source": [
        "#Split data into independent (X) and dependent(Y) columns\n",
        "\n",
        "y = y_res\n",
        "X = X_res"
      ],
      "metadata": {
        "id": "FE_5-jj4eiAz"
      },
      "execution_count": 170,
      "outputs": []
    },
    {
      "cell_type": "code",
      "source": [
        "from sklearn.model_selection import train_test_split\n",
        "X_train, X_test, y_train, y_test = train_test_split(X, y, test_size = 0.20, random_state = 20)"
      ],
      "metadata": {
        "id": "X2GiMmPkelLj"
      },
      "execution_count": 179,
      "outputs": []
    },
    {
      "cell_type": "code",
      "source": [
        "print(X_train.shape)\n",
        "print(X_test.shape)"
      ],
      "metadata": {
        "colab": {
          "base_uri": "https://localhost:8080/"
        },
        "id": "wln4eK9-en7V",
        "outputId": "c054e4ab-c1e7-4d08-e27f-44e96ed31de0"
      },
      "execution_count": 180,
      "outputs": [
        {
          "output_type": "stream",
          "name": "stdout",
          "text": [
            "(1700, 400)\n",
            "(426, 400)\n"
          ]
        }
      ]
    },
    {
      "cell_type": "code",
      "source": [
        "scaler = StandardScaler()\n",
        "X_train = scaler.fit_transform(X_train)\n",
        "X_test = scaler.transform(X_test)"
      ],
      "metadata": {
        "id": "2UEd_v-Geqj6"
      },
      "execution_count": 181,
      "outputs": []
    },
    {
      "cell_type": "code",
      "source": [
        "X_train = X_train.reshape(1700, 400,1)\n",
        "X_test = X_test.reshape(426, 400, 1)"
      ],
      "metadata": {
        "id": "uP5vkINDeuSR"
      },
      "execution_count": 182,
      "outputs": []
    },
    {
      "cell_type": "code",
      "source": [
        "epochs =20\n",
        "model = Sequential()\n",
        "model.add(Conv1D(filters=32, kernel_size=4, activation='relu', input_shape = (400,1))) ##1st conv layer\n",
        "model.add(BatchNormalization())\n",
        "#model.add(Dropout(0.2))\n",
        "\n",
        "model.add(Conv1D(filters=64, kernel_size=4, activation='relu'))  #2nd Conv layer\n",
        "model.add(BatchNormalization())\n",
        "#model.add(Dropout(0.3))\n",
        "\n",
        "model.add(Flatten())    #Flattening\n",
        "model.add(Dense(64, activation='relu'))  ##fully connected layer\n",
        "model.add(Dropout(0.3))\n",
        "\n",
        "model.add(Dense(1, activation='sigmoid'))   #output layer"
      ],
      "metadata": {
        "id": "iGCn9Rojeys2"
      },
      "execution_count": 183,
      "outputs": []
    },
    {
      "cell_type": "code",
      "source": [
        "model.compile(optimizer=Adam(learning_rate=0.00001), loss = 'binary_crossentropy', metrics=['accuracy'])\n",
        "\n",
        "history = model.fit(X_train, y_train, epochs=epochs, batch_size=32,validation_data=(X_test, y_test), verbose=1)"
      ],
      "metadata": {
        "colab": {
          "base_uri": "https://localhost:8080/"
        },
        "id": "UAbKeUdBfD_j",
        "outputId": "b251024f-1c8d-429c-d86a-8f71f8a78598"
      },
      "execution_count": 184,
      "outputs": [
        {
          "output_type": "stream",
          "name": "stdout",
          "text": [
            "Epoch 1/20\n",
            "54/54 [==============================] - 3s 24ms/step - loss: 0.7490 - accuracy: 0.5988 - val_loss: 0.6693 - val_accuracy: 0.6221\n",
            "Epoch 2/20\n",
            "54/54 [==============================] - 1s 16ms/step - loss: 0.6135 - accuracy: 0.6847 - val_loss: 0.6533 - val_accuracy: 0.6103\n",
            "Epoch 3/20\n",
            "54/54 [==============================] - 1s 16ms/step - loss: 0.5636 - accuracy: 0.7094 - val_loss: 0.6390 - val_accuracy: 0.6362\n",
            "Epoch 4/20\n",
            "54/54 [==============================] - 1s 20ms/step - loss: 0.5076 - accuracy: 0.7600 - val_loss: 0.6214 - val_accuracy: 0.6197\n",
            "Epoch 5/20\n",
            "54/54 [==============================] - 1s 17ms/step - loss: 0.4903 - accuracy: 0.7600 - val_loss: 0.6086 - val_accuracy: 0.6268\n",
            "Epoch 6/20\n",
            "54/54 [==============================] - 1s 12ms/step - loss: 0.4556 - accuracy: 0.7912 - val_loss: 0.6046 - val_accuracy: 0.6573\n",
            "Epoch 7/20\n",
            "54/54 [==============================] - 1s 12ms/step - loss: 0.4296 - accuracy: 0.8106 - val_loss: 0.6015 - val_accuracy: 0.6455\n",
            "Epoch 8/20\n",
            "54/54 [==============================] - 1s 12ms/step - loss: 0.3972 - accuracy: 0.8341 - val_loss: 0.6099 - val_accuracy: 0.6526\n",
            "Epoch 9/20\n",
            "54/54 [==============================] - 1s 12ms/step - loss: 0.3797 - accuracy: 0.8441 - val_loss: 0.6180 - val_accuracy: 0.6338\n",
            "Epoch 10/20\n",
            "54/54 [==============================] - 1s 11ms/step - loss: 0.3509 - accuracy: 0.8635 - val_loss: 0.6232 - val_accuracy: 0.6526\n",
            "Epoch 11/20\n",
            "54/54 [==============================] - 1s 12ms/step - loss: 0.3357 - accuracy: 0.8688 - val_loss: 0.6293 - val_accuracy: 0.6432\n",
            "Epoch 12/20\n",
            "54/54 [==============================] - 1s 11ms/step - loss: 0.3063 - accuracy: 0.8924 - val_loss: 0.6315 - val_accuracy: 0.6643\n",
            "Epoch 13/20\n",
            "54/54 [==============================] - 1s 11ms/step - loss: 0.3128 - accuracy: 0.8841 - val_loss: 0.6363 - val_accuracy: 0.6549\n",
            "Epoch 14/20\n",
            "54/54 [==============================] - 1s 11ms/step - loss: 0.2994 - accuracy: 0.8947 - val_loss: 0.6374 - val_accuracy: 0.6620\n",
            "Epoch 15/20\n",
            "54/54 [==============================] - 1s 11ms/step - loss: 0.2826 - accuracy: 0.8971 - val_loss: 0.6359 - val_accuracy: 0.6620\n",
            "Epoch 16/20\n",
            "54/54 [==============================] - 1s 11ms/step - loss: 0.2679 - accuracy: 0.9118 - val_loss: 0.6324 - val_accuracy: 0.6502\n",
            "Epoch 17/20\n",
            "54/54 [==============================] - 1s 11ms/step - loss: 0.2495 - accuracy: 0.9294 - val_loss: 0.6433 - val_accuracy: 0.6455\n",
            "Epoch 18/20\n",
            "54/54 [==============================] - 1s 11ms/step - loss: 0.2491 - accuracy: 0.9241 - val_loss: 0.6414 - val_accuracy: 0.6667\n",
            "Epoch 19/20\n",
            "54/54 [==============================] - 1s 11ms/step - loss: 0.2401 - accuracy: 0.9365 - val_loss: 0.6440 - val_accuracy: 0.6714\n",
            "Epoch 20/20\n",
            "54/54 [==============================] - 1s 11ms/step - loss: 0.2241 - accuracy: 0.9418 - val_loss: 0.6490 - val_accuracy: 0.6596\n"
          ]
        }
      ]
    },
    {
      "cell_type": "code",
      "source": [
        "#y_pred = model.predict(X_train).ravel()\n",
        "from sklearn.metrics import roc_curve\n",
        "y_pred_cnn7 = model.predict(X_test).ravel()\n",
        "fpr_7, tpr_7, thresholds = roc_curve(y_test, y_pred_cnn7)\n",
        "from sklearn.metrics import auc\n",
        "auc_score7 = auc(fpr_7, tpr_7)\n",
        "auc_score7"
      ],
      "metadata": {
        "colab": {
          "base_uri": "https://localhost:8080/"
        },
        "id": "Wiayfaw_fHLx",
        "outputId": "9a3bcacb-7267-4dea-999c-b1605155df94"
      },
      "execution_count": 185,
      "outputs": [
        {
          "output_type": "execute_result",
          "data": {
            "text/plain": [
              "0.7378117475535134"
            ]
          },
          "metadata": {},
          "execution_count": 185
        }
      ]
    },
    {
      "cell_type": "code",
      "source": [
        "from sklearn.metrics import average_precision_score, precision_recall_curve\n",
        "y_pred_cnn7 = model.predict(X_test).ravel()\n",
        "precision_7, recall_7, thresholds = precision_recall_curve(y_test, y_pred_cnn7)\n",
        "aupr_score7 = auc(recall_7, precision_7)\n",
        "print(aupr_score7)"
      ],
      "metadata": {
        "colab": {
          "base_uri": "https://localhost:8080/"
        },
        "id": "GpF8JKPS2cmn",
        "outputId": "a22aaa45-a643-4978-8da0-9d58fa4624aa"
      },
      "execution_count": 186,
      "outputs": [
        {
          "output_type": "stream",
          "name": "stdout",
          "text": [
            "0.7115855553308698\n"
          ]
        }
      ]
    },
    {
      "cell_type": "code",
      "source": [
        "#auc_score1 = 0.8832\n",
        "#auc_score2 = 0.8489\n",
        "#auc_score3 = 0.8263\n",
        "#auc_score4 = 0.8559\n",
        "#auc_score5 = 0.8567\n",
        "#auc_score6 = 0.8519\n",
        "#auc_score7 = 0.8061\n",
        "\n",
        "aupr_score1 = 0.78699\n",
        "aupr_score2 = 0.798456\n",
        "aupr_score3 = 0.7748\n",
        "aupr_score4 = 0.7612\n",
        "aupr_score5 = 0.74485\n",
        "aupr_score6 = 0.7332\n",
        "aupr_score7 = 0.71158"
      ],
      "metadata": {
        "id": "5QL09IDWfM8U"
      },
      "execution_count": 188,
      "outputs": []
    },
    {
      "cell_type": "code",
      "source": [
        "sns.set_style(\"white\")\n",
        "plt.figure(figsize=(8,6))\n",
        "\n",
        "plt.plot(recall_2,precision_2, color = \"green\", label = \"Glove - %0.2f \" %aupr_score2, lw = 2)\n",
        "plt.plot(recall_1,precision_1, color = \"orange\", label = \"FastText - %0.2f \" %aupr_score1, lw = 2)\n",
        "plt.plot(recall_3,precision_3, color = \"red\", label = \"Word2vec - %0.2f \" %aupr_score3, lw = 2)\n",
        "plt.plot(recall_4,precision_4, color = \"blue\", label = \"Glove + FastText - %0.2f \" %aupr_score4, lw = 2)\n",
        "\n",
        "plt.plot(recall_5,precision_5, color = \"magenta\", label = \"Glove + Word2vec - %0.2f \" %aupr_score5, lw = 2)\n",
        "plt.plot(recall_6,precision_6, color = \"indigo\", label = \"FastText + Word2vec - %0.2f \" %aupr_score6, lw = 2)\n",
        "plt.plot(recall_7,precision_7, color = \"cyan\", label = \"Glove + FastText +Word2vec - %0.2f \" %aupr_score7, lw = 2)\n",
        "\n",
        "#plt.plot([0,1], [0,1], color = 'purple', lw=2, linestyle='--')\n",
        "plt.xlabel('Recall', fontsize = 19)\n",
        "plt.ylabel('Precision', fontsize=19)\n",
        "plt.title('Result of CNN with feature selection', fontsize=22)\n",
        "plt.legend(loc = \"lower left\", fontsize=11)\n",
        "\n",
        "plt.xticks(fontsize=13)\n",
        "plt.yticks(fontsize=13)\n",
        "plt.savefig('AUPR_all',dpi=300)\n",
        "plt.show()"
      ],
      "metadata": {
        "colab": {
          "base_uri": "https://localhost:8080/",
          "height": 422
        },
        "id": "IHDKs6JL__F7",
        "outputId": "06300bfd-eb6b-4be7-f15b-43722eaaabb4"
      },
      "execution_count": 191,
      "outputs": [
        {
          "output_type": "display_data",
          "data": {
            "text/plain": [
              "<Figure size 576x432 with 1 Axes>"
            ],
            "image/png": "[encoded data removed]"
          },
          "metadata": {}
        }
      ]
    },
    {
      "cell_type": "code",
      "source": [
        "sns.set_style(\"white\")\n",
        "plt.figure(figsize=(8,6))\n",
        "\n",
        "plt.plot(fpr_1,tpr_1, color = \"green\", label = \"Glove - %0.2f \" %auc_score1, lw = 4)\n",
        "plt.plot(fpr_2,tpr_2, color = \"orange\", label = \"FastText - %0.2f \" %auc_score2, lw = 4)\n",
        "plt.plot(fpr_3,tpr_3, color = \"red\", label = \"Word2vec - %0.2f \" %auc_score3, lw = 4)\n",
        "plt.plot(fpr_4,tpr_4, color = \"blue\", label = \"Glove + FastText - %0.2f \" %auc_score4, lw = 4)\n",
        "\n",
        "plt.plot(fpr_5,tpr_5, color = \"magenta\", label = \"Glove + Word2vec - %0.2f \" %auc_score5, lw = 4)\n",
        "plt.plot(fpr_6,tpr_6, color = \"indigo\", label = \"FastText + Word2vec - %0.2f \" %auc_score6, lw = 4)\n",
        "plt.plot(fpr_7,tpr_7, color = \"cyan\", label = \"Glove + FastText +Word2vec - %0.2f \" %auc_score7, lw = 4)\n",
        "\n",
        "plt.plot([0,1], [0,1], color = 'purple', lw=2, linestyle='--')\n",
        "plt.xlabel('False Positive Rate', fontsize = 19)\n",
        "plt.ylabel('True Positive Rate', fontsize=19)\n",
        "plt.title('Result of CNN with feature selection', fontsize=22)\n",
        "plt.legend(loc = \"lower right\", fontsize=11)\n",
        "\n",
        "plt.xticks(fontsize=13)\n",
        "plt.yticks(fontsize=13)\n",
        "plt.savefig('ROC_all',dpi=300)\n",
        "plt.show()"
      ],
      "metadata": {
        "colab": {
          "base_uri": "https://localhost:8080/",
          "height": 422
        },
        "id": "Uccx6XoQgsDU",
        "outputId": "c86deb99-c77f-4dfa-de5a-4f90e99cb801"
      },
      "execution_count": null,
      "outputs": [
        {
          "output_type": "display_data",
          "data": {
            "text/plain": [
              "<Figure size 576x432 with 1 Axes>"
            ],
            "image/png": "[encoded data removed]"
          },
          "metadata": {}
        }
      ]
    },
    {
      "cell_type": "code",
      "source": [
        ""
      ],
      "metadata": {
        "id": "refApZTviBN3"
      },
      "execution_count": null,
      "outputs": []
    }
  ]
}