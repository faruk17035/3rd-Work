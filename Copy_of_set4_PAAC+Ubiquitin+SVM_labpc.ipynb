{
  "cells": [
    {
      "cell_type": "markdown",
      "metadata": {
        "id": "view-in-github",
        "colab_type": "text"
      },
      "source": [
        "<a href=\"https://colab.research.google.com/github/faruk17035/3rd-Work/blob/main/Copy_of_set4_PAAC%2BUbiquitin%2BSVM_labpc.ipynb\" target=\"_parent\"><img src=\"https://colab.research.google.com/assets/colab-badge.svg\" alt=\"Open In Colab\"/></a>"
      ]
    },
    {
      "cell_type": "code",
      "execution_count": 1,
      "metadata": {
        "id": "L8OSAZyrwZZU"
      },
      "outputs": [],
      "source": [
        "import numpy as np\n",
        "import matplotlib.pyplot as plt\n",
        "import pandas as pd"
      ]
    },
    {
      "cell_type": "code",
      "source": [
        "from google.colab import drive\n",
        "drive.mount('/content/drive/')"
      ],
      "metadata": {
        "colab": {
          "base_uri": "https://localhost:8080/"
        },
        "id": "OA1rUI_KCmHk",
        "outputId": "dd72e130-acfa-4fe5-9ec1-87d39b70fd7a"
      },
      "execution_count": 2,
      "outputs": [
        {
          "output_type": "stream",
          "name": "stdout",
          "text": [
            "Mounted at /content/drive/\n"
          ]
        }
      ]
    },
    {
      "cell_type": "code",
      "execution_count": 3,
      "metadata": {
        "colab": {
          "base_uri": "https://localhost:8080/",
          "height": 424
        },
        "id": "pKWbJ0-o0dLZ",
        "outputId": "d361f872-7719-4339-dd25-e8b9daca0081"
      },
      "outputs": [
        {
          "output_type": "execute_result",
          "data": {
            "text/plain": [
              "        A1    A2    A3    A4    A5    A6    A7     A8     A9  A10  ...  \\\n",
              "0     4.37  0.00  0.72  0.51  0.44  0.72  0.64  0.493   89.7  -73  ...   \n",
              "1     4.17  1.53  3.23  2.93  1.00  0.83  0.53  0.365  102.0  145  ...   \n",
              "2     4.66  2.02  1.96  2.03  0.60  0.98  0.53  0.314  113.9  189  ...   \n",
              "3     4.50  0.05  0.97  0.81  0.35  0.55  0.84  0.507   54.9  -70  ...   \n",
              "4     4.76  0.46  0.05  0.14  0.44  0.65  0.97  0.511   68.4  -78  ...   \n",
              "...    ...   ...   ...   ...   ...   ...   ...    ...    ...  ...  ...   \n",
              "4603  3.95  2.22  1.45  1.67  0.73  0.98  0.37  0.462  102.0  151  ...   \n",
              "4604  4.70  2.65  0.77  1.08  0.73  0.77  0.97  0.305  135.4  145  ...   \n",
              "4605  4.76  0.46  0.05  0.14  0.44  0.65  0.97  0.511   68.4  -78  ...   \n",
              "4606  4.17  1.53  3.23  2.93  1.00  0.83  0.53  0.365  102.0  145  ...   \n",
              "4607  4.35  0.61  1.18  1.56  1.00  0.77  0.37  0.357   52.6   16  ...   \n",
              "\n",
              "      A14329  A14330  A14331  A14332  A14333  A14334  A14335  A14336  A14337  \\\n",
              "0       3.83   -7.92   -1.89   -0.31   -0.33   -0.34   -0.28    -3.1   -4.81   \n",
              "1       3.83   -7.92   -1.89   -0.31   -0.33   -0.34   -0.28    -3.1   -4.81   \n",
              "2       3.67   -7.96   -2.22   -0.36   -0.34   -0.38   -0.33    -3.7   -4.65   \n",
              "3      -2.31    3.88    0.56    0.09    0.13    0.14    0.15     4.1    1.52   \n",
              "4      -2.35    4.04    0.74    0.12    0.23    0.23    0.21     8.2    2.30   \n",
              "...      ...     ...     ...     ...     ...     ...     ...     ...     ...   \n",
              "4603   -1.97    4.02    0.25    0.04    0.01    0.03    0.05    -1.2    0.78   \n",
              "4604    3.83   -7.92   -1.89   -0.31   -0.33   -0.34   -0.28    -3.1   -4.81   \n",
              "4605   -2.35    4.04    0.74    0.12    0.23    0.23    0.21     8.2    2.30   \n",
              "4606    1.78   -4.47   -0.96   -0.16   -0.36   -0.38   -0.32    -2.0   -6.04   \n",
              "4607   -1.97    4.02    0.25    0.04    0.01    0.03    0.05    -1.2    0.78   \n",
              "\n",
              "      Target  \n",
              "0          1  \n",
              "1          1  \n",
              "2          1  \n",
              "3          1  \n",
              "4          1  \n",
              "...      ...  \n",
              "4603       0  \n",
              "4604       0  \n",
              "4605       0  \n",
              "4606       0  \n",
              "4607       0  \n",
              "\n",
              "[4608 rows x 14338 columns]"
            ],
            "text/html": [
              "\n",
              "  <div id=\"df-f189fd3c-1ba1-4680-8138-93a960ce2465\">\n",
              "    <div class=\"colab-df-container\">\n",
              "      <div>\n",
              "<style scoped>\n",
              "    .dataframe tbody tr th:only-of-type {\n",
              "        vertical-align: middle;\n",
              "    }\n",
              "\n",
              "    .dataframe tbody tr th {\n",
              "        vertical-align: top;\n",
              "    }\n",
              "\n",
              "    .dataframe thead th {\n",
              "        text-align: right;\n",
              "    }\n",
              "</style>\n",
              "<table border=\"1\" class=\"dataframe\">\n",
              "  <thead>\n",
              "    <tr style=\"text-align: right;\">\n",
              "      <th></th>\n",
              "      <th>A1</th>\n",
              "      <th>A2</th>\n",
              "      <th>A3</th>\n",
              "      <th>A4</th>\n",
              "      <th>A5</th>\n",
              "      <th>A6</th>\n",
              "      <th>A7</th>\n",
              "      <th>A8</th>\n",
              "      <th>A9</th>\n",
              "      <th>A10</th>\n",
              "      <th>...</th>\n",
              "      <th>A14329</th>\n",
              "      <th>A14330</th>\n",
              "      <th>A14331</th>\n",
              "      <th>A14332</th>\n",
              "      <th>A14333</th>\n",
              "      <th>A14334</th>\n",
              "      <th>A14335</th>\n",
              "      <th>A14336</th>\n",
              "      <th>A14337</th>\n",
              "      <th>Target</th>\n",
              "    </tr>\n",
              "  </thead>\n",
              "  <tbody>\n",
              "    <tr>\n",
              "      <th>0</th>\n",
              "      <td>4.37</td>\n",
              "      <td>0.00</td>\n",
              "      <td>0.72</td>\n",
              "      <td>0.51</td>\n",
              "      <td>0.44</td>\n",
              "      <td>0.72</td>\n",
              "      <td>0.64</td>\n",
              "      <td>0.493</td>\n",
              "      <td>89.7</td>\n",
              "      <td>-73</td>\n",
              "      <td>...</td>\n",
              "      <td>3.83</td>\n",
              "      <td>-7.92</td>\n",
              "      <td>-1.89</td>\n",
              "      <td>-0.31</td>\n",
              "      <td>-0.33</td>\n",
              "      <td>-0.34</td>\n",
              "      <td>-0.28</td>\n",
              "      <td>-3.1</td>\n",
              "      <td>-4.81</td>\n",
              "      <td>1</td>\n",
              "    </tr>\n",
              "    <tr>\n",
              "      <th>1</th>\n",
              "      <td>4.17</td>\n",
              "      <td>1.53</td>\n",
              "      <td>3.23</td>\n",
              "      <td>2.93</td>\n",
              "      <td>1.00</td>\n",
              "      <td>0.83</td>\n",
              "      <td>0.53</td>\n",
              "      <td>0.365</td>\n",
              "      <td>102.0</td>\n",
              "      <td>145</td>\n",
              "      <td>...</td>\n",
              "      <td>3.83</td>\n",
              "      <td>-7.92</td>\n",
              "      <td>-1.89</td>\n",
              "      <td>-0.31</td>\n",
              "      <td>-0.33</td>\n",
              "      <td>-0.34</td>\n",
              "      <td>-0.28</td>\n",
              "      <td>-3.1</td>\n",
              "      <td>-4.81</td>\n",
              "      <td>1</td>\n",
              "    </tr>\n",
              "    <tr>\n",
              "      <th>2</th>\n",
              "      <td>4.66</td>\n",
              "      <td>2.02</td>\n",
              "      <td>1.96</td>\n",
              "      <td>2.03</td>\n",
              "      <td>0.60</td>\n",
              "      <td>0.98</td>\n",
              "      <td>0.53</td>\n",
              "      <td>0.314</td>\n",
              "      <td>113.9</td>\n",
              "      <td>189</td>\n",
              "      <td>...</td>\n",
              "      <td>3.67</td>\n",
              "      <td>-7.96</td>\n",
              "      <td>-2.22</td>\n",
              "      <td>-0.36</td>\n",
              "      <td>-0.34</td>\n",
              "      <td>-0.38</td>\n",
              "      <td>-0.33</td>\n",
              "      <td>-3.7</td>\n",
              "      <td>-4.65</td>\n",
              "      <td>1</td>\n",
              "    </tr>\n",
              "    <tr>\n",
              "      <th>3</th>\n",
              "      <td>4.50</td>\n",
              "      <td>0.05</td>\n",
              "      <td>0.97</td>\n",
              "      <td>0.81</td>\n",
              "      <td>0.35</td>\n",
              "      <td>0.55</td>\n",
              "      <td>0.84</td>\n",
              "      <td>0.507</td>\n",
              "      <td>54.9</td>\n",
              "      <td>-70</td>\n",
              "      <td>...</td>\n",
              "      <td>-2.31</td>\n",
              "      <td>3.88</td>\n",
              "      <td>0.56</td>\n",
              "      <td>0.09</td>\n",
              "      <td>0.13</td>\n",
              "      <td>0.14</td>\n",
              "      <td>0.15</td>\n",
              "      <td>4.1</td>\n",
              "      <td>1.52</td>\n",
              "      <td>1</td>\n",
              "    </tr>\n",
              "    <tr>\n",
              "      <th>4</th>\n",
              "      <td>4.76</td>\n",
              "      <td>0.46</td>\n",
              "      <td>0.05</td>\n",
              "      <td>0.14</td>\n",
              "      <td>0.44</td>\n",
              "      <td>0.65</td>\n",
              "      <td>0.97</td>\n",
              "      <td>0.511</td>\n",
              "      <td>68.4</td>\n",
              "      <td>-78</td>\n",
              "      <td>...</td>\n",
              "      <td>-2.35</td>\n",
              "      <td>4.04</td>\n",
              "      <td>0.74</td>\n",
              "      <td>0.12</td>\n",
              "      <td>0.23</td>\n",
              "      <td>0.23</td>\n",
              "      <td>0.21</td>\n",
              "      <td>8.2</td>\n",
              "      <td>2.30</td>\n",
              "      <td>1</td>\n",
              "    </tr>\n",
              "    <tr>\n",
              "      <th>...</th>\n",
              "      <td>...</td>\n",
              "      <td>...</td>\n",
              "      <td>...</td>\n",
              "      <td>...</td>\n",
              "      <td>...</td>\n",
              "      <td>...</td>\n",
              "      <td>...</td>\n",
              "      <td>...</td>\n",
              "      <td>...</td>\n",
              "      <td>...</td>\n",
              "      <td>...</td>\n",
              "      <td>...</td>\n",
              "      <td>...</td>\n",
              "      <td>...</td>\n",
              "      <td>...</td>\n",
              "      <td>...</td>\n",
              "      <td>...</td>\n",
              "      <td>...</td>\n",
              "      <td>...</td>\n",
              "      <td>...</td>\n",
              "      <td>...</td>\n",
              "    </tr>\n",
              "    <tr>\n",
              "      <th>4603</th>\n",
              "      <td>3.95</td>\n",
              "      <td>2.22</td>\n",
              "      <td>1.45</td>\n",
              "      <td>1.67</td>\n",
              "      <td>0.73</td>\n",
              "      <td>0.98</td>\n",
              "      <td>0.37</td>\n",
              "      <td>0.462</td>\n",
              "      <td>102.0</td>\n",
              "      <td>151</td>\n",
              "      <td>...</td>\n",
              "      <td>-1.97</td>\n",
              "      <td>4.02</td>\n",
              "      <td>0.25</td>\n",
              "      <td>0.04</td>\n",
              "      <td>0.01</td>\n",
              "      <td>0.03</td>\n",
              "      <td>0.05</td>\n",
              "      <td>-1.2</td>\n",
              "      <td>0.78</td>\n",
              "      <td>0</td>\n",
              "    </tr>\n",
              "    <tr>\n",
              "      <th>4604</th>\n",
              "      <td>4.70</td>\n",
              "      <td>2.65</td>\n",
              "      <td>0.77</td>\n",
              "      <td>1.08</td>\n",
              "      <td>0.73</td>\n",
              "      <td>0.77</td>\n",
              "      <td>0.97</td>\n",
              "      <td>0.305</td>\n",
              "      <td>135.4</td>\n",
              "      <td>145</td>\n",
              "      <td>...</td>\n",
              "      <td>3.83</td>\n",
              "      <td>-7.92</td>\n",
              "      <td>-1.89</td>\n",
              "      <td>-0.31</td>\n",
              "      <td>-0.33</td>\n",
              "      <td>-0.34</td>\n",
              "      <td>-0.28</td>\n",
              "      <td>-3.1</td>\n",
              "      <td>-4.81</td>\n",
              "      <td>0</td>\n",
              "    </tr>\n",
              "    <tr>\n",
              "      <th>4605</th>\n",
              "      <td>4.76</td>\n",
              "      <td>0.46</td>\n",
              "      <td>0.05</td>\n",
              "      <td>0.14</td>\n",
              "      <td>0.44</td>\n",
              "      <td>0.65</td>\n",
              "      <td>0.97</td>\n",
              "      <td>0.511</td>\n",
              "      <td>68.4</td>\n",
              "      <td>-78</td>\n",
              "      <td>...</td>\n",
              "      <td>-2.35</td>\n",
              "      <td>4.04</td>\n",
              "      <td>0.74</td>\n",
              "      <td>0.12</td>\n",
              "      <td>0.23</td>\n",
              "      <td>0.23</td>\n",
              "      <td>0.21</td>\n",
              "      <td>8.2</td>\n",
              "      <td>2.30</td>\n",
              "      <td>0</td>\n",
              "    </tr>\n",
              "    <tr>\n",
              "      <th>4606</th>\n",
              "      <td>4.17</td>\n",
              "      <td>1.53</td>\n",
              "      <td>3.23</td>\n",
              "      <td>2.93</td>\n",
              "      <td>1.00</td>\n",
              "      <td>0.83</td>\n",
              "      <td>0.53</td>\n",
              "      <td>0.365</td>\n",
              "      <td>102.0</td>\n",
              "      <td>145</td>\n",
              "      <td>...</td>\n",
              "      <td>1.78</td>\n",
              "      <td>-4.47</td>\n",
              "      <td>-0.96</td>\n",
              "      <td>-0.16</td>\n",
              "      <td>-0.36</td>\n",
              "      <td>-0.38</td>\n",
              "      <td>-0.32</td>\n",
              "      <td>-2.0</td>\n",
              "      <td>-6.04</td>\n",
              "      <td>0</td>\n",
              "    </tr>\n",
              "    <tr>\n",
              "      <th>4607</th>\n",
              "      <td>4.35</td>\n",
              "      <td>0.61</td>\n",
              "      <td>1.18</td>\n",
              "      <td>1.56</td>\n",
              "      <td>1.00</td>\n",
              "      <td>0.77</td>\n",
              "      <td>0.37</td>\n",
              "      <td>0.357</td>\n",
              "      <td>52.6</td>\n",
              "      <td>16</td>\n",
              "      <td>...</td>\n",
              "      <td>-1.97</td>\n",
              "      <td>4.02</td>\n",
              "      <td>0.25</td>\n",
              "      <td>0.04</td>\n",
              "      <td>0.01</td>\n",
              "      <td>0.03</td>\n",
              "      <td>0.05</td>\n",
              "      <td>-1.2</td>\n",
              "      <td>0.78</td>\n",
              "      <td>0</td>\n",
              "    </tr>\n",
              "  </tbody>\n",
              "</table>\n",
              "<p>4608 rows × 14338 columns</p>\n",
              "</div>\n",
              "      <button class=\"colab-df-convert\" onclick=\"convertToInteractive('df-f189fd3c-1ba1-4680-8138-93a960ce2465')\"\n",
              "              title=\"Convert this dataframe to an interactive table.\"\n",
              "              style=\"display:none;\">\n",
              "        \n",
              "  <svg xmlns=\"http://www.w3.org/2000/svg\" height=\"24px\"viewBox=\"0 0 24 24\"\n",
              "       width=\"24px\">\n",
              "    <path d=\"M0 0h24v24H0V0z\" fill=\"none\"/>\n",
              "    <path d=\"M18.56 5.44l.94 2.06.94-2.06 2.06-.94-2.06-.94-.94-2.06-.94 2.06-2.06.94zm-11 1L8.5 8.5l.94-2.06 2.06-.94-2.06-.94L8.5 2.5l-.94 2.06-2.06.94zm10 10l.94 2.06.94-2.06 2.06-.94-2.06-.94-.94-2.06-.94 2.06-2.06.94z\"/><path d=\"M17.41 7.96l-1.37-1.37c-.4-.4-.92-.59-1.43-.59-.52 0-1.04.2-1.43.59L10.3 9.45l-7.72 7.72c-.78.78-.78 2.05 0 2.83L4 21.41c.39.39.9.59 1.41.59.51 0 1.02-.2 1.41-.59l7.78-7.78 2.81-2.81c.8-.78.8-2.07 0-2.86zM5.41 20L4 18.59l7.72-7.72 1.47 1.35L5.41 20z\"/>\n",
              "  </svg>\n",
              "      </button>\n",
              "      \n",
              "  <style>\n",
              "    .colab-df-container {\n",
              "      display:flex;\n",
              "      flex-wrap:wrap;\n",
              "      gap: 12px;\n",
              "    }\n",
              "\n",
              "    .colab-df-convert {\n",
              "      background-color: #E8F0FE;\n",
              "      border: none;\n",
              "      border-radius: 50%;\n",
              "      cursor: pointer;\n",
              "      display: none;\n",
              "      fill: #1967D2;\n",
              "      height: 32px;\n",
              "      padding: 0 0 0 0;\n",
              "      width: 32px;\n",
              "    }\n",
              "\n",
              "    .colab-df-convert:hover {\n",
              "      background-color: #E2EBFA;\n",
              "      box-shadow: 0px 1px 2px rgba(60, 64, 67, 0.3), 0px 1px 3px 1px rgba(60, 64, 67, 0.15);\n",
              "      fill: #174EA6;\n",
              "    }\n",
              "\n",
              "    [theme=dark] .colab-df-convert {\n",
              "      background-color: #3B4455;\n",
              "      fill: #D2E3FC;\n",
              "    }\n",
              "\n",
              "    [theme=dark] .colab-df-convert:hover {\n",
              "      background-color: #434B5C;\n",
              "      box-shadow: 0px 1px 3px 1px rgba(0, 0, 0, 0.15);\n",
              "      filter: drop-shadow(0px 1px 2px rgba(0, 0, 0, 0.3));\n",
              "      fill: #FFFFFF;\n",
              "    }\n",
              "  </style>\n",
              "\n",
              "      <script>\n",
              "        const buttonEl =\n",
              "          document.querySelector('#df-f189fd3c-1ba1-4680-8138-93a960ce2465 button.colab-df-convert');\n",
              "        buttonEl.style.display =\n",
              "          google.colab.kernel.accessAllowed ? 'block' : 'none';\n",
              "\n",
              "        async function convertToInteractive(key) {\n",
              "          const element = document.querySelector('#df-f189fd3c-1ba1-4680-8138-93a960ce2465');\n",
              "          const dataTable =\n",
              "            await google.colab.kernel.invokeFunction('convertToInteractive',\n",
              "                                                     [key], {});\n",
              "          if (!dataTable) return;\n",
              "\n",
              "          const docLinkHtml = 'Like what you see? Visit the ' +\n",
              "            '<a target=\"_blank\" href=https://colab.research.google.com/notebooks/data_table.ipynb>data table notebook</a>'\n",
              "            + ' to learn more about interactive tables.';\n",
              "          element.innerHTML = '';\n",
              "          dataTable['output_type'] = 'display_data';\n",
              "          await google.colab.output.renderOutput(dataTable, element);\n",
              "          const docLink = document.createElement('div');\n",
              "          docLink.innerHTML = docLinkHtml;\n",
              "          element.appendChild(docLink);\n",
              "        }\n",
              "      </script>\n",
              "    </div>\n",
              "  </div>\n",
              "  "
            ]
          },
          "metadata": {},
          "execution_count": 3
        }
      ],
      "source": [
        "import pandas as pd\n",
        "import numpy as np\n",
        "from pandas import read_csv\n",
        "file_name = '/content/drive/MyDrive/data/set4/AAINDEX_set4.csv'\n",
        "df = pd.read_csv(file_name)\n",
        "#print(df.head()) # print the first 5 rows\n",
        "df"
      ]
    },
    {
      "cell_type": "code",
      "source": [
        "df.shape"
      ],
      "metadata": {
        "colab": {
          "base_uri": "https://localhost:8080/"
        },
        "id": "6PjBaPMrB_nd",
        "outputId": "40c1f47e-fe66-4463-de4e-8e2345464506"
      },
      "execution_count": 4,
      "outputs": [
        {
          "output_type": "execute_result",
          "data": {
            "text/plain": [
              "(4608, 14338)"
            ]
          },
          "metadata": {},
          "execution_count": 4
        }
      ]
    },
    {
      "cell_type": "code",
      "source": [
        "#Create independent and Dependent Features\n",
        "columns = df.columns.tolist()\n",
        "# Filter the columns to remove data we do not want \n",
        "columns = [c for c in columns if c not in [\"Target\"]]\n",
        "# Store the variable we are predicting \n",
        "target = \"Target\"\n",
        "# Define a random state \n",
        "state = np.random.RandomState(42)\n",
        "X = df[columns]\n",
        "Y = df[target]\n",
        "X_outliers = state.uniform(low=0, high=1, size=(X.shape[0], X.shape[1]))\n",
        "# Print the shapes of X & Y\n",
        "print(X.shape)\n",
        "print(Y.shape)"
      ],
      "metadata": {
        "colab": {
          "base_uri": "https://localhost:8080/"
        },
        "id": "AcwQPN7PCBFi",
        "outputId": "9ca77262-593e-45a4-b4d1-4346e614f073"
      },
      "execution_count": 5,
      "outputs": [
        {
          "output_type": "stream",
          "name": "stdout",
          "text": [
            "(4608, 14337)\n",
            "(4608,)\n"
          ]
        }
      ]
    },
    {
      "cell_type": "code",
      "source": [
        "count_classes = pd.value_counts(df['Target'], sort = True)\n",
        "\n",
        "count_classes.plot(kind = 'bar', rot=0)\n",
        "\n",
        "plt.title(\"Class Distribution\")\n",
        "\n",
        "LABELS = [\"Zero\", \"One\"]\n",
        "\n",
        "plt.xticks(range(2), LABELS)\n",
        "\n",
        "plt.xlabel(\"Class\")\n",
        "\n",
        "plt.ylabel(\"Frequency\")"
      ],
      "metadata": {
        "colab": {
          "base_uri": "https://localhost:8080/",
          "height": 312
        },
        "id": "Mmvw9pJ3CBdc",
        "outputId": "00a6c2ee-b46a-40a6-d819-cb2b6e5630ad"
      },
      "execution_count": 6,
      "outputs": [
        {
          "output_type": "execute_result",
          "data": {
            "text/plain": [
              "Text(0, 0.5, 'Frequency')"
            ]
          },
          "metadata": {},
          "execution_count": 6
        },
        {
          "output_type": "display_data",
          "data": {
            "text/plain": [
              "<Figure size 432x288 with 1 Axes>"
            ],
            "image/png": "[encoded data removed]"
          },
          "metadata": {
            "needs_background": "light"
          }
        }
      ]
    },
    {
      "cell_type": "code",
      "source": [
        "One = df[df['Target']==1]\n",
        "\n",
        "Zero = df[df['Target']==0]"
      ],
      "metadata": {
        "id": "HyCs_kUOCBra"
      },
      "execution_count": 7,
      "outputs": []
    },
    {
      "cell_type": "code",
      "source": [
        "print(Zero.shape,One.shape)"
      ],
      "metadata": {
        "colab": {
          "base_uri": "https://localhost:8080/"
        },
        "id": "xbMb9sXwCuue",
        "outputId": "fd86c99d-4301-4354-9c8f-77139aeb8698"
      },
      "execution_count": 8,
      "outputs": [
        {
          "output_type": "stream",
          "name": "stdout",
          "text": [
            "(4345, 14338) (263, 14338)\n"
          ]
        }
      ]
    },
    {
      "cell_type": "markdown",
      "source": [
        "## Applying ADASYN"
      ],
      "metadata": {
        "id": "A6V21m1xC3n8"
      }
    },
    {
      "cell_type": "code",
      "source": [
        "from imblearn.over_sampling import ADASYN\n",
        "sm = ADASYN(random_state = 50)\n",
        "X_res,y_res=sm.fit_resample(X,Y)"
      ],
      "metadata": {
        "id": "V-DWEi_pC02s"
      },
      "execution_count": 9,
      "outputs": []
    },
    {
      "cell_type": "code",
      "source": [
        "print(X_res.shape)\n",
        "print(y_res.shape)"
      ],
      "metadata": {
        "colab": {
          "base_uri": "https://localhost:8080/"
        },
        "id": "V9l7csDBCui4",
        "outputId": "61018e94-6a0a-45e1-e1ce-5f2573cc8759"
      },
      "execution_count": 10,
      "outputs": [
        {
          "output_type": "stream",
          "name": "stdout",
          "text": [
            "(8659, 14337)\n",
            "(8659,)\n"
          ]
        }
      ]
    },
    {
      "cell_type": "code",
      "source": [
        "#Split data into independent (X) and dependent(Y) columns\n",
        "\n",
        "y = y_res\n",
        "X = X_res"
      ],
      "metadata": {
        "id": "FuMffcWZCuZn"
      },
      "execution_count": 11,
      "outputs": []
    },
    {
      "cell_type": "code",
      "execution_count": 12,
      "metadata": {
        "id": "znLCEa5E2GQW"
      },
      "outputs": [],
      "source": [
        "from sklearn.model_selection import train_test_split\n",
        "X_train, X_test, y_train, y_test = train_test_split(X, y, test_size = 0.20, random_state = 50)"
      ]
    },
    {
      "cell_type": "code",
      "execution_count": 13,
      "metadata": {
        "id": "pZOyOjBM2LtY"
      },
      "outputs": [],
      "source": [
        "### Feature scaling\n",
        "from sklearn.preprocessing import StandardScaler\n",
        "sc = StandardScaler()\n",
        "X_train = sc.fit_transform(X_train)\n",
        "X_test = sc.transform(X_test)"
      ]
    },
    {
      "cell_type": "code",
      "source": [
        "from sklearn.svm import SVC\n",
        "classifier = SVC(kernel = 'rbf',C=10,gamma=0.001, probability=True)\n",
        "#classifier = SVC()"
      ],
      "metadata": {
        "id": "NIdydXKeOCn0"
      },
      "execution_count": null,
      "outputs": []
    },
    {
      "cell_type": "code",
      "source": [
        "classifier.fit(X_train, y_train)\n",
        "y_pred = classifier.predict(X_test)"
      ],
      "metadata": {
        "id": "E01G-HPkmYFD"
      },
      "execution_count": null,
      "outputs": []
    },
    {
      "cell_type": "code",
      "source": [
        "from sklearn.metrics import confusion_matrix, accuracy_score\n",
        "cm = confusion_matrix(y_test, y_pred)\n",
        "print(cm)\n",
        "accuracy_score(y_test, y_pred)"
      ],
      "metadata": {
        "colab": {
          "base_uri": "https://localhost:8080/"
        },
        "id": "UFsMA0G0mX8Y",
        "outputId": "f5747813-5437-4e59-a7b3-4b98741960cc"
      },
      "execution_count": null,
      "outputs": [
        {
          "output_type": "stream",
          "name": "stdout",
          "text": [
            "[[342  92]\n",
            " [ 53 374]]\n"
          ]
        },
        {
          "output_type": "execute_result",
          "data": {
            "text/plain": [
              "0.8315911730545877"
            ]
          },
          "metadata": {},
          "execution_count": 31
        }
      ]
    },
    {
      "cell_type": "code",
      "source": [
        "from sklearn.metrics import roc_auc_score\n",
        "print(\"AUC = \",roc_auc_score(y_test,y_pred))"
      ],
      "metadata": {
        "colab": {
          "base_uri": "https://localhost:8080/"
        },
        "id": "uX-wVO0qmXvL",
        "outputId": "ae9680aa-73a9-4527-e91f-ca60c9bb950b"
      },
      "execution_count": null,
      "outputs": [
        {
          "output_type": "stream",
          "name": "stdout",
          "text": [
            "AUC =  0.9742159137436878\n"
          ]
        }
      ]
    },
    {
      "cell_type": "code",
      "source": [
        " from sklearn.metrics import matthews_corrcoef,confusion_matrix\n",
        "matthews_corrcoef(y_test,y_pred)"
      ],
      "metadata": {
        "colab": {
          "base_uri": "https://localhost:8080/"
        },
        "id": "EEdmSKETmrS1",
        "outputId": "5a258c5b-3768-44ef-eae6-9d9061db34af"
      },
      "execution_count": null,
      "outputs": [
        {
          "output_type": "execute_result",
          "data": {
            "text/plain": [
              "0.9488463179400867"
            ]
          },
          "metadata": {},
          "execution_count": 475
        }
      ]
    },
    {
      "cell_type": "code",
      "source": [
        "TP = cm[0][0]\n",
        "TN = cm[1][1]\n",
        "FP = cm[0][1]\n",
        "FN = cm[1][0]\n",
        "print('True Positives:', TP)\n",
        "print('True Negatives:', TN)\n",
        "print('False Positives:', FP)\n",
        "print('False Negatives:', FN)"
      ],
      "metadata": {
        "colab": {
          "base_uri": "https://localhost:8080/"
        },
        "id": "BNqWlfBomrP4",
        "outputId": "ff8403f7-84d6-43c9-f288-34ea1e107732"
      },
      "execution_count": null,
      "outputs": [
        {
          "output_type": "stream",
          "name": "stdout",
          "text": [
            "True Positives: 409\n",
            "True Negatives: 425\n",
            "False Positives: 16\n",
            "False Negatives: 6\n"
          ]
        }
      ]
    },
    {
      "cell_type": "code",
      "source": [
        "sensitivity=(TP/(TP+FN))\n",
        "sensitivity"
      ],
      "metadata": {
        "colab": {
          "base_uri": "https://localhost:8080/"
        },
        "id": "883lRa-imrMQ",
        "outputId": "e4c2aaee-90f1-46a1-87d2-3b8a88cf6f4a"
      },
      "execution_count": null,
      "outputs": [
        {
          "output_type": "execute_result",
          "data": {
            "text/plain": [
              "0.9855421686746988"
            ]
          },
          "metadata": {},
          "execution_count": 477
        }
      ]
    },
    {
      "cell_type": "code",
      "source": [
        "specificity = (TN/(TN+FP))\n",
        "specificity"
      ],
      "metadata": {
        "colab": {
          "base_uri": "https://localhost:8080/"
        },
        "id": "x2ZLhsZbmrKY",
        "outputId": "70313015-375c-4d22-b1b5-105260e8a219"
      },
      "execution_count": null,
      "outputs": [
        {
          "output_type": "execute_result",
          "data": {
            "text/plain": [
              "0.963718820861678"
            ]
          },
          "metadata": {},
          "execution_count": 478
        }
      ]
    },
    {
      "cell_type": "code",
      "source": [
        "\n",
        "\n",
        "\n",
        "\n",
        "\n",
        "\n",
        "\n",
        "\n",
        "\n",
        "\n",
        "\n",
        "\n",
        "\n",
        "\n",
        "\n",
        "\n",
        "\n",
        "\n",
        "\n",
        "\n",
        "\n",
        "\n",
        "\n",
        "\n",
        "\n",
        "\n",
        "\n",
        "\n",
        "\n",
        "\n",
        "\n",
        "\n",
        "\n",
        "\n",
        "\n",
        "\n",
        " "
      ],
      "metadata": {
        "id": "K_NK7nOtmrGd"
      },
      "execution_count": null,
      "outputs": []
    },
    {
      "cell_type": "code",
      "source": [],
      "metadata": {
        "id": "MvAzwK90mrEY"
      },
      "execution_count": null,
      "outputs": []
    },
    {
      "cell_type": "code",
      "source": [],
      "metadata": {
        "id": "NJsUIyrfmq9A"
      },
      "execution_count": null,
      "outputs": []
    },
    {
      "cell_type": "code",
      "source": [],
      "metadata": {
        "id": "fEdg8aMFmq0K"
      },
      "execution_count": null,
      "outputs": []
    },
    {
      "cell_type": "code",
      "source": [
        "from sklearn.model_selection import cross_val_score\n",
        "accuracies = cross_val_score(estimator = classifier, X = X_train, y = y_train, cv = 10)\n",
        "print(\"Accuracy: {:.2f} %\".format(accuracies.mean()*100))\n",
        "print(\"Standard Deviation: {:.2f} %\".format(accuracies.std()*100))"
      ],
      "metadata": {
        "colab": {
          "base_uri": "https://localhost:8080/"
        },
        "id": "_fIcwltD1-Qi",
        "outputId": "df8da220-437a-414d-ad4e-5d2bb16ed72e"
      },
      "execution_count": null,
      "outputs": [
        {
          "output_type": "stream",
          "name": "stdout",
          "text": [
            "Accuracy: 97.29 %\n",
            "Standard Deviation: 2.11 %\n"
          ]
        }
      ]
    },
    {
      "cell_type": "code",
      "source": [
        "from sklearn.model_selection import cross_val_predict\n",
        "from sklearn.metrics import confusion_matrix,accuracy_score\n",
        "y_pred = cross_val_predict(classifier, X_train, y_train, cv=10)\n",
        "cmann = confusion_matrix(y_train, y_pred)\n",
        "print(cmann)\n",
        "accuracy = (cmann[0][0]+cmann[1][1])/(cmann[0][1] + cmann[1][0] +cmann[0][0] +cmann[1][1]) \n",
        "print(accuracy*100)\n",
        "ACC = accuracy_score(y_train,y_pred)\n",
        "print(ACC)"
      ],
      "metadata": {
        "colab": {
          "base_uri": "https://localhost:8080/"
        },
        "id": "0ptvHDPt2DvY",
        "outputId": "5e749631-d6f4-4035-f3d4-a615063d04e8"
      },
      "execution_count": null,
      "outputs": [
        {
          "output_type": "stream",
          "name": "stdout",
          "text": [
            "[[383  19]\n",
            " [  2 371]]\n",
            "97.29032258064517\n",
            "0.9729032258064516\n"
          ]
        }
      ]
    },
    {
      "cell_type": "code",
      "source": [
        "from sklearn.metrics import roc_auc_score\n",
        "print(\"AUC = \",roc_auc_score(y_train,y_pred))"
      ],
      "metadata": {
        "colab": {
          "base_uri": "https://localhost:8080/"
        },
        "id": "-cNk9DlB2aFe",
        "outputId": "55e04dbd-10de-4eac-9751-7737efb38683"
      },
      "execution_count": null,
      "outputs": [
        {
          "output_type": "stream",
          "name": "stdout",
          "text": [
            "AUC =  0.973687194056527\n"
          ]
        }
      ]
    },
    {
      "cell_type": "code",
      "execution_count": null,
      "metadata": {
        "colab": {
          "base_uri": "https://localhost:8080/"
        },
        "id": "YoFKVd9g3Rtr",
        "outputId": "a4d8e17c-01a5-4532-b011-d79e45a5aa11"
      },
      "outputs": [
        {
          "output_type": "execute_result",
          "data": {
            "text/plain": [
              "0.9467305983559786"
            ]
          },
          "metadata": {},
          "execution_count": 116
        }
      ],
      "source": [
        "from sklearn.metrics import matthews_corrcoef,confusion_matrix\n",
        "#matthews_corrcoef(y_test,y_pred)\n",
        "matthews_corrcoef(y_train,y_pred)"
      ]
    },
    {
      "cell_type": "code",
      "execution_count": null,
      "metadata": {
        "colab": {
          "base_uri": "https://localhost:8080/"
        },
        "id": "YuFBtQaz3mYa",
        "outputId": "cda32b63-3854-478b-c012-769e95091260"
      },
      "outputs": [
        {
          "output_type": "stream",
          "name": "stdout",
          "text": [
            "True Positives: 383\n",
            "True Negatives: 371\n",
            "False Positives: 19\n",
            "False Negatives: 2\n"
          ]
        }
      ],
      "source": [
        "TP = cmann[0][0]\n",
        "TN = cmann[1][1]\n",
        "FP = cmann[0][1]\n",
        "FN = cmann[1][0]\n",
        "print('True Positives:', TP)\n",
        "print('True Negatives:', TN)\n",
        "print('False Positives:', FP)\n",
        "print('False Negatives:', FN)"
      ]
    },
    {
      "cell_type": "code",
      "execution_count": null,
      "metadata": {
        "colab": {
          "base_uri": "https://localhost:8080/"
        },
        "id": "kWvxKtY13pr4",
        "outputId": "684ee7e9-d621-4ea2-d977-b07cdbfa2ef6"
      },
      "outputs": [
        {
          "output_type": "execute_result",
          "data": {
            "text/plain": [
              "0.9948051948051948"
            ]
          },
          "metadata": {},
          "execution_count": 118
        }
      ],
      "source": [
        "sensitivity=(TP/(TP+FN))\n",
        "sensitivity"
      ]
    },
    {
      "cell_type": "code",
      "execution_count": null,
      "metadata": {
        "colab": {
          "base_uri": "https://localhost:8080/"
        },
        "id": "WjUAP5VT3tTZ",
        "outputId": "7b70fc61-10d9-4448-d4b9-89b8eaa92197"
      },
      "outputs": [
        {
          "output_type": "execute_result",
          "data": {
            "text/plain": [
              "0.9512820512820512"
            ]
          },
          "metadata": {},
          "execution_count": 119
        }
      ],
      "source": [
        "specificity = (TN/(TN+FP))\n",
        "specificity"
      ]
    },
    {
      "cell_type": "code",
      "execution_count": null,
      "metadata": {
        "colab": {
          "base_uri": "https://localhost:8080/"
        },
        "id": "5UGSflLs3v8b",
        "outputId": "93658059-6e11-4db4-efeb-0bb962d4d097"
      },
      "outputs": [
        {
          "output_type": "stream",
          "name": "stdout",
          "text": [
            "0.9527363184079602\n",
            "0.9948051948051948\n"
          ]
        }
      ],
      "source": [
        "precision = (TP/(TP+FP))\n",
        "recall = (TP/(TP+FN))\n",
        "print(precision)\n",
        "print(recall)"
      ]
    },
    {
      "cell_type": "code",
      "execution_count": null,
      "metadata": {
        "colab": {
          "base_uri": "https://localhost:8080/"
        },
        "id": "BS7V_wWt3yPY",
        "outputId": "e6d8ce02-e291-49b5-f769-be3dc777af77"
      },
      "outputs": [
        {
          "output_type": "execute_result",
          "data": {
            "text/plain": [
              "0.9733163913595935"
            ]
          },
          "metadata": {},
          "execution_count": 121
        }
      ],
      "source": [
        "f1 = (2*(precision*recall))/(precision+recall)\n",
        "f1"
      ]
    },
    {
      "cell_type": "code",
      "execution_count": null,
      "metadata": {
        "id": "OS-yhvWN30ij"
      },
      "outputs": [],
      "source": []
    }
  ],
  "metadata": {
    "accelerator": "GPU",
    "colab": {
      "name": "Copy of set4_PAAC+Ubiquitin+SVM.ipynb",
      "provenance": [],
      "collapsed_sections": [],
      "include_colab_link": true
    },
    "gpuClass": "standard",
    "kernelspec": {
      "display_name": "Python 3",
      "name": "python3"
    },
    "language_info": {
      "name": "python"
    }
  },
  "nbformat": 4,
  "nbformat_minor": 0
}