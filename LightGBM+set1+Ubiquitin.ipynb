{
  "nbformat": 4,
  "nbformat_minor": 0,
  "metadata": {
    "colab": {
      "name": "LightGBM+set1+Ubiquitin.ipynb",
      "provenance": [],
      "authorship_tag": "ABX9TyN/Ok8hQr6mgbDQ+79fDH3M",
      "include_colab_link": true
    },
    "kernelspec": {
      "name": "python3",
      "display_name": "Python 3"
    },
    "language_info": {
      "name": "python"
    }
  },
  "cells": [
    {
      "cell_type": "markdown",
      "metadata": {
        "id": "view-in-github",
        "colab_type": "text"
      },
      "source": [
        "<a href=\"https://colab.research.google.com/github/faruk17035/3rd-Work/blob/main/LightGBM%2Bset1%2BUbiquitin.ipynb\" target=\"_parent\"><img src=\"https://colab.research.google.com/assets/colab-badge.svg\" alt=\"Open In Colab\"/></a>"
      ]
    },
    {
      "cell_type": "code",
      "execution_count": 1,
      "metadata": {
        "id": "fPox7pv1Ue3t"
      },
      "outputs": [],
      "source": [
        "import numpy as np\n",
        "import matplotlib.pyplot as plt\n",
        "import pandas as pd"
      ]
    },
    {
      "cell_type": "code",
      "source": [
        "from google.colab import drive\n",
        "drive.mount('/content/drive/')"
      ],
      "metadata": {
        "colab": {
          "base_uri": "https://localhost:8080/"
        },
        "id": "FQ4Z-GczUrFK",
        "outputId": "7d43a830-db15-4b04-8410-e58b49d8617d"
      },
      "execution_count": 163,
      "outputs": [
        {
          "output_type": "stream",
          "name": "stdout",
          "text": [
            "Drive already mounted at /content/drive/; to attempt to forcibly remount, call drive.mount(\"/content/drive/\", force_remount=True).\n"
          ]
        }
      ]
    },
    {
      "cell_type": "code",
      "source": [
        "import pandas as pd\n",
        "import numpy as np\n",
        "from pandas import read_csv\n",
        "file_name = '/content/drive/MyDrive/dataset/set3/PAAC_set3.csv' \n",
        "df = pd.read_csv(file_name)\n",
        "df"
      ],
      "metadata": {
        "colab": {
          "base_uri": "https://localhost:8080/",
          "height": 488
        },
        "id": "ACLz06d8Ut4G",
        "outputId": "c3ecc6ee-5183-48bc-8ef5-c2c8f5524f07"
      },
      "execution_count": 211,
      "outputs": [
        {
          "output_type": "execute_result",
          "data": {
            "text/plain": [
              "          PAAC1     PAAC2     PAAC3     PAAC4  PAAC5     PAAC6     PAAC7  \\\n",
              "0      0.418383  1.255149  1.255149  0.000000    0.0  0.418383  0.418383   \n",
              "1      0.472824  0.472824  0.472824  0.945648    0.0  0.000000  0.000000   \n",
              "2      0.000000  0.436770  0.873539  1.747078    0.0  0.873539  0.436770   \n",
              "3      0.921663  0.460831  1.382494  0.000000    0.0  0.460831  0.460831   \n",
              "4      0.406953  1.220860  0.813907  0.406953    0.0  0.406953  1.220860   \n",
              "...         ...       ...       ...       ...    ...       ...       ...   \n",
              "12231  0.000000  1.399521  0.000000  0.000000    0.0  0.466507  1.399521   \n",
              "12232  0.000000  0.852196  0.000000  0.426098    0.0  2.130490  2.130490   \n",
              "12233  1.835859  0.458965  0.917930  0.458965    0.0  0.458965  0.917930   \n",
              "12234  0.490720  1.962881  0.490720  0.490720    0.0  0.490720  0.000000   \n",
              "12235  0.000000  1.546558  0.000000  1.031038    0.0  0.515519  1.546558   \n",
              "\n",
              "          PAAC8     PAAC9    PAAC10  ...    PAAC25    PAAC26    PAAC27  \\\n",
              "0      1.255149  0.836766  0.418383  ...  0.030603  0.039000  0.048488   \n",
              "1      1.891295  0.472824  0.000000  ...  0.037490  0.038036  0.033278   \n",
              "2      0.436770  0.436770  0.436770  ...  0.044776  0.045003  0.038801   \n",
              "3      0.000000  0.000000  0.460831  ...  0.042662  0.046097  0.047408   \n",
              "4      0.406953  0.000000  0.406953  ...  0.044659  0.042088  0.054695   \n",
              "...         ...       ...       ...  ...       ...       ...       ...   \n",
              "12231  0.466507  0.466507  0.000000  ...  0.036190  0.043032  0.044776   \n",
              "12232  0.426098  0.426098  0.000000  ...  0.052239  0.033931  0.047687   \n",
              "12233  0.000000  0.000000  0.000000  ...  0.030298  0.052950  0.034688   \n",
              "12234  0.000000  0.490720  0.000000  ...  0.034536  0.048018  0.045315   \n",
              "12235  1.031038  0.515519  0.000000  ...  0.033347  0.033885  0.047247   \n",
              "\n",
              "         PAAC28    PAAC29    PAAC30    PAAC31    PAAC32    PAAC33  Target  \n",
              "0      0.047625  0.055403  0.042392  0.029802  0.052396  0.033058       1  \n",
              "1      0.037099  0.030071  0.041940  0.039903  0.051875  0.036776       1  \n",
              "2      0.040104  0.049823  0.056618  0.049219  0.041525  0.039583       1  \n",
              "3      0.040307  0.041904  0.032269  0.046344  0.036817  0.038731       1  \n",
              "4      0.041973  0.053871  0.050426  0.046580  0.047335  0.051053       1  \n",
              "...         ...       ...       ...       ...       ...       ...     ...  \n",
              "12231  0.043907  0.024024  0.040783  0.047584  0.030870  0.054533       0  \n",
              "12232  0.046713  0.050932  0.047543  0.041887  0.034332  0.044114       0  \n",
              "12233  0.046696  0.038379  0.042808  0.047945  0.028479  0.040564       0  \n",
              "12234  0.028944  0.037847  0.043421  0.052395  0.036390  0.037408       0  \n",
              "12235  0.040066  0.033231  0.031225  0.031257  0.042913  0.041518       0  \n",
              "\n",
              "[12236 rows x 34 columns]"
            ],
            "text/html": [
              "\n",
              "  <div id=\"df-9805e7ac-e834-4043-aff4-2fce06c0c234\">\n",
              "    <div class=\"colab-df-container\">\n",
              "      <div>\n",
              "<style scoped>\n",
              "    .dataframe tbody tr th:only-of-type {\n",
              "        vertical-align: middle;\n",
              "    }\n",
              "\n",
              "    .dataframe tbody tr th {\n",
              "        vertical-align: top;\n",
              "    }\n",
              "\n",
              "    .dataframe thead th {\n",
              "        text-align: right;\n",
              "    }\n",
              "</style>\n",
              "<table border=\"1\" class=\"dataframe\">\n",
              "  <thead>\n",
              "    <tr style=\"text-align: right;\">\n",
              "      <th></th>\n",
              "      <th>PAAC1</th>\n",
              "      <th>PAAC2</th>\n",
              "      <th>PAAC3</th>\n",
              "      <th>PAAC4</th>\n",
              "      <th>PAAC5</th>\n",
              "      <th>PAAC6</th>\n",
              "      <th>PAAC7</th>\n",
              "      <th>PAAC8</th>\n",
              "      <th>PAAC9</th>\n",
              "      <th>PAAC10</th>\n",
              "      <th>...</th>\n",
              "      <th>PAAC25</th>\n",
              "      <th>PAAC26</th>\n",
              "      <th>PAAC27</th>\n",
              "      <th>PAAC28</th>\n",
              "      <th>PAAC29</th>\n",
              "      <th>PAAC30</th>\n",
              "      <th>PAAC31</th>\n",
              "      <th>PAAC32</th>\n",
              "      <th>PAAC33</th>\n",
              "      <th>Target</th>\n",
              "    </tr>\n",
              "  </thead>\n",
              "  <tbody>\n",
              "    <tr>\n",
              "      <th>0</th>\n",
              "      <td>0.418383</td>\n",
              "      <td>1.255149</td>\n",
              "      <td>1.255149</td>\n",
              "      <td>0.000000</td>\n",
              "      <td>0.0</td>\n",
              "      <td>0.418383</td>\n",
              "      <td>0.418383</td>\n",
              "      <td>1.255149</td>\n",
              "      <td>0.836766</td>\n",
              "      <td>0.418383</td>\n",
              "      <td>...</td>\n",
              "      <td>0.030603</td>\n",
              "      <td>0.039000</td>\n",
              "      <td>0.048488</td>\n",
              "      <td>0.047625</td>\n",
              "      <td>0.055403</td>\n",
              "      <td>0.042392</td>\n",
              "      <td>0.029802</td>\n",
              "      <td>0.052396</td>\n",
              "      <td>0.033058</td>\n",
              "      <td>1</td>\n",
              "    </tr>\n",
              "    <tr>\n",
              "      <th>1</th>\n",
              "      <td>0.472824</td>\n",
              "      <td>0.472824</td>\n",
              "      <td>0.472824</td>\n",
              "      <td>0.945648</td>\n",
              "      <td>0.0</td>\n",
              "      <td>0.000000</td>\n",
              "      <td>0.000000</td>\n",
              "      <td>1.891295</td>\n",
              "      <td>0.472824</td>\n",
              "      <td>0.000000</td>\n",
              "      <td>...</td>\n",
              "      <td>0.037490</td>\n",
              "      <td>0.038036</td>\n",
              "      <td>0.033278</td>\n",
              "      <td>0.037099</td>\n",
              "      <td>0.030071</td>\n",
              "      <td>0.041940</td>\n",
              "      <td>0.039903</td>\n",
              "      <td>0.051875</td>\n",
              "      <td>0.036776</td>\n",
              "      <td>1</td>\n",
              "    </tr>\n",
              "    <tr>\n",
              "      <th>2</th>\n",
              "      <td>0.000000</td>\n",
              "      <td>0.436770</td>\n",
              "      <td>0.873539</td>\n",
              "      <td>1.747078</td>\n",
              "      <td>0.0</td>\n",
              "      <td>0.873539</td>\n",
              "      <td>0.436770</td>\n",
              "      <td>0.436770</td>\n",
              "      <td>0.436770</td>\n",
              "      <td>0.436770</td>\n",
              "      <td>...</td>\n",
              "      <td>0.044776</td>\n",
              "      <td>0.045003</td>\n",
              "      <td>0.038801</td>\n",
              "      <td>0.040104</td>\n",
              "      <td>0.049823</td>\n",
              "      <td>0.056618</td>\n",
              "      <td>0.049219</td>\n",
              "      <td>0.041525</td>\n",
              "      <td>0.039583</td>\n",
              "      <td>1</td>\n",
              "    </tr>\n",
              "    <tr>\n",
              "      <th>3</th>\n",
              "      <td>0.921663</td>\n",
              "      <td>0.460831</td>\n",
              "      <td>1.382494</td>\n",
              "      <td>0.000000</td>\n",
              "      <td>0.0</td>\n",
              "      <td>0.460831</td>\n",
              "      <td>0.460831</td>\n",
              "      <td>0.000000</td>\n",
              "      <td>0.000000</td>\n",
              "      <td>0.460831</td>\n",
              "      <td>...</td>\n",
              "      <td>0.042662</td>\n",
              "      <td>0.046097</td>\n",
              "      <td>0.047408</td>\n",
              "      <td>0.040307</td>\n",
              "      <td>0.041904</td>\n",
              "      <td>0.032269</td>\n",
              "      <td>0.046344</td>\n",
              "      <td>0.036817</td>\n",
              "      <td>0.038731</td>\n",
              "      <td>1</td>\n",
              "    </tr>\n",
              "    <tr>\n",
              "      <th>4</th>\n",
              "      <td>0.406953</td>\n",
              "      <td>1.220860</td>\n",
              "      <td>0.813907</td>\n",
              "      <td>0.406953</td>\n",
              "      <td>0.0</td>\n",
              "      <td>0.406953</td>\n",
              "      <td>1.220860</td>\n",
              "      <td>0.406953</td>\n",
              "      <td>0.000000</td>\n",
              "      <td>0.406953</td>\n",
              "      <td>...</td>\n",
              "      <td>0.044659</td>\n",
              "      <td>0.042088</td>\n",
              "      <td>0.054695</td>\n",
              "      <td>0.041973</td>\n",
              "      <td>0.053871</td>\n",
              "      <td>0.050426</td>\n",
              "      <td>0.046580</td>\n",
              "      <td>0.047335</td>\n",
              "      <td>0.051053</td>\n",
              "      <td>1</td>\n",
              "    </tr>\n",
              "    <tr>\n",
              "      <th>...</th>\n",
              "      <td>...</td>\n",
              "      <td>...</td>\n",
              "      <td>...</td>\n",
              "      <td>...</td>\n",
              "      <td>...</td>\n",
              "      <td>...</td>\n",
              "      <td>...</td>\n",
              "      <td>...</td>\n",
              "      <td>...</td>\n",
              "      <td>...</td>\n",
              "      <td>...</td>\n",
              "      <td>...</td>\n",
              "      <td>...</td>\n",
              "      <td>...</td>\n",
              "      <td>...</td>\n",
              "      <td>...</td>\n",
              "      <td>...</td>\n",
              "      <td>...</td>\n",
              "      <td>...</td>\n",
              "      <td>...</td>\n",
              "      <td>...</td>\n",
              "    </tr>\n",
              "    <tr>\n",
              "      <th>12231</th>\n",
              "      <td>0.000000</td>\n",
              "      <td>1.399521</td>\n",
              "      <td>0.000000</td>\n",
              "      <td>0.000000</td>\n",
              "      <td>0.0</td>\n",
              "      <td>0.466507</td>\n",
              "      <td>1.399521</td>\n",
              "      <td>0.466507</td>\n",
              "      <td>0.466507</td>\n",
              "      <td>0.000000</td>\n",
              "      <td>...</td>\n",
              "      <td>0.036190</td>\n",
              "      <td>0.043032</td>\n",
              "      <td>0.044776</td>\n",
              "      <td>0.043907</td>\n",
              "      <td>0.024024</td>\n",
              "      <td>0.040783</td>\n",
              "      <td>0.047584</td>\n",
              "      <td>0.030870</td>\n",
              "      <td>0.054533</td>\n",
              "      <td>0</td>\n",
              "    </tr>\n",
              "    <tr>\n",
              "      <th>12232</th>\n",
              "      <td>0.000000</td>\n",
              "      <td>0.852196</td>\n",
              "      <td>0.000000</td>\n",
              "      <td>0.426098</td>\n",
              "      <td>0.0</td>\n",
              "      <td>2.130490</td>\n",
              "      <td>2.130490</td>\n",
              "      <td>0.426098</td>\n",
              "      <td>0.426098</td>\n",
              "      <td>0.000000</td>\n",
              "      <td>...</td>\n",
              "      <td>0.052239</td>\n",
              "      <td>0.033931</td>\n",
              "      <td>0.047687</td>\n",
              "      <td>0.046713</td>\n",
              "      <td>0.050932</td>\n",
              "      <td>0.047543</td>\n",
              "      <td>0.041887</td>\n",
              "      <td>0.034332</td>\n",
              "      <td>0.044114</td>\n",
              "      <td>0</td>\n",
              "    </tr>\n",
              "    <tr>\n",
              "      <th>12233</th>\n",
              "      <td>1.835859</td>\n",
              "      <td>0.458965</td>\n",
              "      <td>0.917930</td>\n",
              "      <td>0.458965</td>\n",
              "      <td>0.0</td>\n",
              "      <td>0.458965</td>\n",
              "      <td>0.917930</td>\n",
              "      <td>0.000000</td>\n",
              "      <td>0.000000</td>\n",
              "      <td>0.000000</td>\n",
              "      <td>...</td>\n",
              "      <td>0.030298</td>\n",
              "      <td>0.052950</td>\n",
              "      <td>0.034688</td>\n",
              "      <td>0.046696</td>\n",
              "      <td>0.038379</td>\n",
              "      <td>0.042808</td>\n",
              "      <td>0.047945</td>\n",
              "      <td>0.028479</td>\n",
              "      <td>0.040564</td>\n",
              "      <td>0</td>\n",
              "    </tr>\n",
              "    <tr>\n",
              "      <th>12234</th>\n",
              "      <td>0.490720</td>\n",
              "      <td>1.962881</td>\n",
              "      <td>0.490720</td>\n",
              "      <td>0.490720</td>\n",
              "      <td>0.0</td>\n",
              "      <td>0.490720</td>\n",
              "      <td>0.000000</td>\n",
              "      <td>0.000000</td>\n",
              "      <td>0.490720</td>\n",
              "      <td>0.000000</td>\n",
              "      <td>...</td>\n",
              "      <td>0.034536</td>\n",
              "      <td>0.048018</td>\n",
              "      <td>0.045315</td>\n",
              "      <td>0.028944</td>\n",
              "      <td>0.037847</td>\n",
              "      <td>0.043421</td>\n",
              "      <td>0.052395</td>\n",
              "      <td>0.036390</td>\n",
              "      <td>0.037408</td>\n",
              "      <td>0</td>\n",
              "    </tr>\n",
              "    <tr>\n",
              "      <th>12235</th>\n",
              "      <td>0.000000</td>\n",
              "      <td>1.546558</td>\n",
              "      <td>0.000000</td>\n",
              "      <td>1.031038</td>\n",
              "      <td>0.0</td>\n",
              "      <td>0.515519</td>\n",
              "      <td>1.546558</td>\n",
              "      <td>1.031038</td>\n",
              "      <td>0.515519</td>\n",
              "      <td>0.000000</td>\n",
              "      <td>...</td>\n",
              "      <td>0.033347</td>\n",
              "      <td>0.033885</td>\n",
              "      <td>0.047247</td>\n",
              "      <td>0.040066</td>\n",
              "      <td>0.033231</td>\n",
              "      <td>0.031225</td>\n",
              "      <td>0.031257</td>\n",
              "      <td>0.042913</td>\n",
              "      <td>0.041518</td>\n",
              "      <td>0</td>\n",
              "    </tr>\n",
              "  </tbody>\n",
              "</table>\n",
              "<p>12236 rows × 34 columns</p>\n",
              "</div>\n",
              "      <button class=\"colab-df-convert\" onclick=\"convertToInteractive('df-9805e7ac-e834-4043-aff4-2fce06c0c234')\"\n",
              "              title=\"Convert this dataframe to an interactive table.\"\n",
              "              style=\"display:none;\">\n",
              "        \n",
              "  <svg xmlns=\"http://www.w3.org/2000/svg\" height=\"24px\"viewBox=\"0 0 24 24\"\n",
              "       width=\"24px\">\n",
              "    <path d=\"M0 0h24v24H0V0z\" fill=\"none\"/>\n",
              "    <path d=\"M18.56 5.44l.94 2.06.94-2.06 2.06-.94-2.06-.94-.94-2.06-.94 2.06-2.06.94zm-11 1L8.5 8.5l.94-2.06 2.06-.94-2.06-.94L8.5 2.5l-.94 2.06-2.06.94zm10 10l.94 2.06.94-2.06 2.06-.94-2.06-.94-.94-2.06-.94 2.06-2.06.94z\"/><path d=\"M17.41 7.96l-1.37-1.37c-.4-.4-.92-.59-1.43-.59-.52 0-1.04.2-1.43.59L10.3 9.45l-7.72 7.72c-.78.78-.78 2.05 0 2.83L4 21.41c.39.39.9.59 1.41.59.51 0 1.02-.2 1.41-.59l7.78-7.78 2.81-2.81c.8-.78.8-2.07 0-2.86zM5.41 20L4 18.59l7.72-7.72 1.47 1.35L5.41 20z\"/>\n",
              "  </svg>\n",
              "      </button>\n",
              "      \n",
              "  <style>\n",
              "    .colab-df-container {\n",
              "      display:flex;\n",
              "      flex-wrap:wrap;\n",
              "      gap: 12px;\n",
              "    }\n",
              "\n",
              "    .colab-df-convert {\n",
              "      background-color: #E8F0FE;\n",
              "      border: none;\n",
              "      border-radius: 50%;\n",
              "      cursor: pointer;\n",
              "      display: none;\n",
              "      fill: #1967D2;\n",
              "      height: 32px;\n",
              "      padding: 0 0 0 0;\n",
              "      width: 32px;\n",
              "    }\n",
              "\n",
              "    .colab-df-convert:hover {\n",
              "      background-color: #E2EBFA;\n",
              "      box-shadow: 0px 1px 2px rgba(60, 64, 67, 0.3), 0px 1px 3px 1px rgba(60, 64, 67, 0.15);\n",
              "      fill: #174EA6;\n",
              "    }\n",
              "\n",
              "    [theme=dark] .colab-df-convert {\n",
              "      background-color: #3B4455;\n",
              "      fill: #D2E3FC;\n",
              "    }\n",
              "\n",
              "    [theme=dark] .colab-df-convert:hover {\n",
              "      background-color: #434B5C;\n",
              "      box-shadow: 0px 1px 3px 1px rgba(0, 0, 0, 0.15);\n",
              "      filter: drop-shadow(0px 1px 2px rgba(0, 0, 0, 0.3));\n",
              "      fill: #FFFFFF;\n",
              "    }\n",
              "  </style>\n",
              "\n",
              "      <script>\n",
              "        const buttonEl =\n",
              "          document.querySelector('#df-9805e7ac-e834-4043-aff4-2fce06c0c234 button.colab-df-convert');\n",
              "        buttonEl.style.display =\n",
              "          google.colab.kernel.accessAllowed ? 'block' : 'none';\n",
              "\n",
              "        async function convertToInteractive(key) {\n",
              "          const element = document.querySelector('#df-9805e7ac-e834-4043-aff4-2fce06c0c234');\n",
              "          const dataTable =\n",
              "            await google.colab.kernel.invokeFunction('convertToInteractive',\n",
              "                                                     [key], {});\n",
              "          if (!dataTable) return;\n",
              "\n",
              "          const docLinkHtml = 'Like what you see? Visit the ' +\n",
              "            '<a target=\"_blank\" href=https://colab.research.google.com/notebooks/data_table.ipynb>data table notebook</a>'\n",
              "            + ' to learn more about interactive tables.';\n",
              "          element.innerHTML = '';\n",
              "          dataTable['output_type'] = 'display_data';\n",
              "          await google.colab.output.renderOutput(dataTable, element);\n",
              "          const docLink = document.createElement('div');\n",
              "          docLink.innerHTML = docLinkHtml;\n",
              "          element.appendChild(docLink);\n",
              "        }\n",
              "      </script>\n",
              "    </div>\n",
              "  </div>\n",
              "  "
            ]
          },
          "metadata": {},
          "execution_count": 211
        }
      ]
    },
    {
      "cell_type": "code",
      "source": [
        "y = df['Target'].values\n",
        "X = df.drop('Target', axis=1).values"
      ],
      "metadata": {
        "id": "HdgMxgsDVivy"
      },
      "execution_count": 212,
      "outputs": []
    },
    {
      "cell_type": "code",
      "source": [
        "from sklearn.model_selection import train_test_split\n",
        "X_train, X_test, y_train, y_test = train_test_split(X, y, test_size = 0.10, random_state = 20)"
      ],
      "metadata": {
        "id": "b61SOMYsVmGJ"
      },
      "execution_count": 213,
      "outputs": []
    },
    {
      "cell_type": "code",
      "source": [
        "### Feature scaling\n",
        "from sklearn.preprocessing import StandardScaler\n",
        "sc = StandardScaler()\n",
        "X_train = sc.fit_transform(X_train)\n",
        "X_test = sc.transform(X_test)"
      ],
      "metadata": {
        "id": "ALKchuHpVos-"
      },
      "execution_count": 214,
      "outputs": []
    },
    {
      "cell_type": "code",
      "source": [
        "# build the lightgbm model\n",
        "import lightgbm as lgb\n",
        "#clf = lgb.LGBMClassifier()\n",
        "#clf.fit(X_train, y_train)\n",
        "clf = lgb.LGBMClassifier(boosting_type='gbdt', num_leaves=50, max_depth= 30, learning_rate=0.1)\n",
        "clf.fit(X_train, y_train)"
      ],
      "metadata": {
        "colab": {
          "base_uri": "https://localhost:8080/"
        },
        "id": "Hl8DKWwUVrbY",
        "outputId": "bd4f2a5f-d4ae-4475-a523-59e39c8d58f3"
      },
      "execution_count": 223,
      "outputs": [
        {
          "output_type": "execute_result",
          "data": {
            "text/plain": [
              "LGBMClassifier(max_depth=30, num_leaves=50)"
            ]
          },
          "metadata": {},
          "execution_count": 223
        }
      ]
    },
    {
      "cell_type": "code",
      "source": [
        "y_pred = clf.predict(X_test)"
      ],
      "metadata": {
        "id": "G2S1bh0lWCG8"
      },
      "execution_count": 224,
      "outputs": []
    },
    {
      "cell_type": "code",
      "source": [
        "from sklearn.metrics import confusion_matrix, accuracy_score\n",
        "cm = confusion_matrix(y_test, y_pred)\n",
        "print(cm)\n",
        "accuracy_score(y_test, y_pred)"
      ],
      "metadata": {
        "colab": {
          "base_uri": "https://localhost:8080/"
        },
        "id": "ZKv2SnNFWRov",
        "outputId": "530115b1-076b-4527-a7a8-efce4f4a6520"
      },
      "execution_count": 225,
      "outputs": [
        {
          "output_type": "stream",
          "name": "stdout",
          "text": [
            "[[350 239]\n",
            " [174 461]]\n"
          ]
        },
        {
          "output_type": "execute_result",
          "data": {
            "text/plain": [
              "0.6625816993464052"
            ]
          },
          "metadata": {},
          "execution_count": 225
        }
      ]
    },
    {
      "cell_type": "code",
      "source": [
        "from sklearn.metrics import roc_auc_score\n",
        "print(\"AUC = \",roc_auc_score(y_test,y_pred))"
      ],
      "metadata": {
        "colab": {
          "base_uri": "https://localhost:8080/"
        },
        "id": "6CRyS-O0WUHg",
        "outputId": "e14dca28-5b65-41ee-b21b-07bc281245d7"
      },
      "execution_count": 226,
      "outputs": [
        {
          "output_type": "stream",
          "name": "stdout",
          "text": [
            "AUC =  0.6601058781064931\n"
          ]
        }
      ]
    },
    {
      "cell_type": "code",
      "source": [
        "from sklearn.metrics import matthews_corrcoef,confusion_matrix\n",
        "matthews_corrcoef(y_test,y_pred)"
      ],
      "metadata": {
        "colab": {
          "base_uri": "https://localhost:8080/"
        },
        "id": "4R79nQ2UWYCK",
        "outputId": "eec57b63-1e1a-41ed-d833-45752c53d01a"
      },
      "execution_count": 227,
      "outputs": [
        {
          "output_type": "execute_result",
          "data": {
            "text/plain": [
              "0.3233457217212421"
            ]
          },
          "metadata": {},
          "execution_count": 227
        }
      ]
    },
    {
      "cell_type": "code",
      "source": [
        "TP = cm[0][0]\n",
        "TN = cm[1][1]\n",
        "FP = cm[0][1]\n",
        "FN = cm[1][0]\n",
        "print('True Positives:', TP)\n",
        "print('True Negatives:', TN)\n",
        "print('False Positives:', FP)\n",
        "print('False Negatives:', FN)"
      ],
      "metadata": {
        "colab": {
          "base_uri": "https://localhost:8080/"
        },
        "id": "tsSeYsiSWdv1",
        "outputId": "41026e8a-f339-4432-b324-ded0ca212fb2"
      },
      "execution_count": 228,
      "outputs": [
        {
          "output_type": "stream",
          "name": "stdout",
          "text": [
            "True Positives: 350\n",
            "True Negatives: 461\n",
            "False Positives: 239\n",
            "False Negatives: 174\n"
          ]
        }
      ]
    },
    {
      "cell_type": "code",
      "source": [
        "sensitivity=(TP/(TP+FN))\n",
        "sensitivity"
      ],
      "metadata": {
        "colab": {
          "base_uri": "https://localhost:8080/"
        },
        "id": "Oha7_yLPWgIY",
        "outputId": "d4e423aa-aba4-4071-cc95-b1ff3d4eaf52"
      },
      "execution_count": 229,
      "outputs": [
        {
          "output_type": "execute_result",
          "data": {
            "text/plain": [
              "0.6679389312977099"
            ]
          },
          "metadata": {},
          "execution_count": 229
        }
      ]
    },
    {
      "cell_type": "code",
      "source": [
        "specificity = (TN/(TN+FP))\n",
        "specificity"
      ],
      "metadata": {
        "colab": {
          "base_uri": "https://localhost:8080/"
        },
        "id": "c90-0rgWWjbQ",
        "outputId": "59da0aa6-7a68-4b47-d829-7fb98bae213e"
      },
      "execution_count": 230,
      "outputs": [
        {
          "output_type": "execute_result",
          "data": {
            "text/plain": [
              "0.6585714285714286"
            ]
          },
          "metadata": {},
          "execution_count": 230
        }
      ]
    },
    {
      "cell_type": "code",
      "source": [],
      "metadata": {
        "id": "KscISzuzWlCS"
      },
      "execution_count": null,
      "outputs": []
    }
  ]
}