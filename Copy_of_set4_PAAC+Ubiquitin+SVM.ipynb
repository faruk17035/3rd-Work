{
  "cells": [
    {
      "cell_type": "markdown",
      "metadata": {
        "id": "view-in-github",
        "colab_type": "text"
      },
      "source": [
        "<a href=\"https://colab.research.google.com/github/faruk17035/3rd-Work/blob/main/Copy_of_set4_PAAC%2BUbiquitin%2BSVM.ipynb\" target=\"_parent\"><img src=\"https://colab.research.google.com/assets/colab-badge.svg\" alt=\"Open In Colab\"/></a>"
      ]
    },
    {
      "cell_type": "code",
      "execution_count": 1,
      "metadata": {
        "id": "L8OSAZyrwZZU"
      },
      "outputs": [],
      "source": [
        "import numpy as np\n",
        "import matplotlib.pyplot as plt\n",
        "import pandas as pd"
      ]
    },
    {
      "cell_type": "code",
      "execution_count": 2,
      "metadata": {
        "colab": {
          "base_uri": "https://localhost:8080/"
        },
        "id": "aEg61GEn0HEW",
        "outputId": "5fbbbd1e-a975-4c93-832f-b48b3040d806"
      },
      "outputs": [
        {
          "output_type": "stream",
          "name": "stdout",
          "text": [
            "Mounted at /content/drive/\n"
          ]
        }
      ],
      "source": [
        "from google.colab import drive\n",
        "drive.mount('/content/drive/')"
      ]
    },
    {
      "cell_type": "code",
      "execution_count": 3,
      "metadata": {
        "colab": {
          "base_uri": "https://localhost:8080/",
          "height": 488
        },
        "id": "pKWbJ0-o0dLZ",
        "outputId": "8efca246-e62a-4bb0-f611-e81c8762d368"
      },
      "outputs": [
        {
          "output_type": "execute_result",
          "data": {
            "text/plain": [
              "         PAAC1     PAAC2     PAAC3     PAAC4    PAAC5     PAAC6     PAAC7  \\\n",
              "0     0.419183  0.000000  0.838366  0.419183  0.00000  0.419183  2.515099   \n",
              "1     0.000000  0.428440  0.428440  1.713759  0.00000  0.000000  0.856879   \n",
              "2     0.393259  0.393259  0.393259  0.393259  0.00000  0.393259  1.179776   \n",
              "3     0.392759  0.785518  0.000000  0.392759  0.00000  1.178277  1.571036   \n",
              "4     3.149282  0.449897  1.349692  0.899795  0.00000  0.449897  1.349692   \n",
              "...        ...       ...       ...       ...      ...       ...       ...   \n",
              "4603  0.000000  0.000000  0.803190  0.401595  0.00000  0.000000  0.803190   \n",
              "4604  0.000000  0.401442  0.802885  0.802885  0.00000  0.000000  0.802885   \n",
              "4605  0.727584  0.363792  0.363792  0.363792  0.00000  0.363792  1.455167   \n",
              "4606  0.554510  0.000000  1.663530  0.000000  0.55451  1.109020  1.663530   \n",
              "4607  1.520036  0.760018  0.380009  0.760018  0.00000  0.380009  1.140027   \n",
              "\n",
              "         PAAC8     PAAC9    PAAC10  ...    PAAC26    PAAC27    PAAC28  \\\n",
              "0     0.838366  0.000000  0.419183  ...  0.036380  0.045900  0.043365   \n",
              "1     0.856879  0.000000  0.856879  ...  0.030927  0.048900  0.041737   \n",
              "2     0.000000  0.393259  0.786518  ...  0.054790  0.035906  0.059732   \n",
              "3     0.000000  0.000000  0.392759  ...  0.051130  0.040844  0.024033   \n",
              "4     0.000000  0.000000  0.449897  ...  0.033054  0.032509  0.046175   \n",
              "...        ...       ...       ...  ...       ...       ...       ...   \n",
              "4603  0.401595  0.000000  2.409570  ...  0.047279  0.040930  0.045856   \n",
              "4604  0.802885  0.000000  0.802885  ...  0.046812  0.034486  0.040316   \n",
              "4605  0.363792  0.000000  0.363792  ...  0.035729  0.047250  0.040410   \n",
              "4606  1.109020  0.000000  0.554510  ...  0.034099  0.031799  0.034772   \n",
              "4607  0.380009  0.000000  1.140027  ...  0.055547  0.022755  0.045882   \n",
              "\n",
              "        PAAC29    PAAC30    PAAC31    PAAC32    PAAC33    PAAC34  Target  \n",
              "0     0.033756  0.044384  0.044099  0.046178  0.038228  0.040030       1  \n",
              "1     0.042691  0.032421  0.040099  0.043921  0.054399  0.043498       1  \n",
              "2     0.040130  0.051415  0.056425  0.037721  0.051927  0.022336       1  \n",
              "3     0.047743  0.058581  0.032913  0.032390  0.050491  0.055199       1  \n",
              "4     0.037245  0.034576  0.041872  0.034799  0.029539  0.048914       1  \n",
              "...        ...       ...       ...       ...       ...       ...     ...  \n",
              "4603  0.042741  0.037102  0.051245  0.046160  0.046941  0.043825       0  \n",
              "4604  0.033441  0.041429  0.041329  0.038051  0.051707  0.055172       0  \n",
              "4605  0.048496  0.047384  0.042312  0.054959  0.046394  0.055619       0  \n",
              "4606  0.026557  0.035774  0.024593  0.039705  0.034196  0.024691       0  \n",
              "4607  0.042221  0.046072  0.023338  0.049550  0.060519  0.040439       0  \n",
              "\n",
              "[4608 rows x 35 columns]"
            ],
            "text/html": [
              "\n",
              "  <div id=\"df-69a27999-8b0b-4b74-a6e8-4a6401c76bdb\">\n",
              "    <div class=\"colab-df-container\">\n",
              "      <div>\n",
              "<style scoped>\n",
              "    .dataframe tbody tr th:only-of-type {\n",
              "        vertical-align: middle;\n",
              "    }\n",
              "\n",
              "    .dataframe tbody tr th {\n",
              "        vertical-align: top;\n",
              "    }\n",
              "\n",
              "    .dataframe thead th {\n",
              "        text-align: right;\n",
              "    }\n",
              "</style>\n",
              "<table border=\"1\" class=\"dataframe\">\n",
              "  <thead>\n",
              "    <tr style=\"text-align: right;\">\n",
              "      <th></th>\n",
              "      <th>PAAC1</th>\n",
              "      <th>PAAC2</th>\n",
              "      <th>PAAC3</th>\n",
              "      <th>PAAC4</th>\n",
              "      <th>PAAC5</th>\n",
              "      <th>PAAC6</th>\n",
              "      <th>PAAC7</th>\n",
              "      <th>PAAC8</th>\n",
              "      <th>PAAC9</th>\n",
              "      <th>PAAC10</th>\n",
              "      <th>...</th>\n",
              "      <th>PAAC26</th>\n",
              "      <th>PAAC27</th>\n",
              "      <th>PAAC28</th>\n",
              "      <th>PAAC29</th>\n",
              "      <th>PAAC30</th>\n",
              "      <th>PAAC31</th>\n",
              "      <th>PAAC32</th>\n",
              "      <th>PAAC33</th>\n",
              "      <th>PAAC34</th>\n",
              "      <th>Target</th>\n",
              "    </tr>\n",
              "  </thead>\n",
              "  <tbody>\n",
              "    <tr>\n",
              "      <th>0</th>\n",
              "      <td>0.419183</td>\n",
              "      <td>0.000000</td>\n",
              "      <td>0.838366</td>\n",
              "      <td>0.419183</td>\n",
              "      <td>0.00000</td>\n",
              "      <td>0.419183</td>\n",
              "      <td>2.515099</td>\n",
              "      <td>0.838366</td>\n",
              "      <td>0.000000</td>\n",
              "      <td>0.419183</td>\n",
              "      <td>...</td>\n",
              "      <td>0.036380</td>\n",
              "      <td>0.045900</td>\n",
              "      <td>0.043365</td>\n",
              "      <td>0.033756</td>\n",
              "      <td>0.044384</td>\n",
              "      <td>0.044099</td>\n",
              "      <td>0.046178</td>\n",
              "      <td>0.038228</td>\n",
              "      <td>0.040030</td>\n",
              "      <td>1</td>\n",
              "    </tr>\n",
              "    <tr>\n",
              "      <th>1</th>\n",
              "      <td>0.000000</td>\n",
              "      <td>0.428440</td>\n",
              "      <td>0.428440</td>\n",
              "      <td>1.713759</td>\n",
              "      <td>0.00000</td>\n",
              "      <td>0.000000</td>\n",
              "      <td>0.856879</td>\n",
              "      <td>0.856879</td>\n",
              "      <td>0.000000</td>\n",
              "      <td>0.856879</td>\n",
              "      <td>...</td>\n",
              "      <td>0.030927</td>\n",
              "      <td>0.048900</td>\n",
              "      <td>0.041737</td>\n",
              "      <td>0.042691</td>\n",
              "      <td>0.032421</td>\n",
              "      <td>0.040099</td>\n",
              "      <td>0.043921</td>\n",
              "      <td>0.054399</td>\n",
              "      <td>0.043498</td>\n",
              "      <td>1</td>\n",
              "    </tr>\n",
              "    <tr>\n",
              "      <th>2</th>\n",
              "      <td>0.393259</td>\n",
              "      <td>0.393259</td>\n",
              "      <td>0.393259</td>\n",
              "      <td>0.393259</td>\n",
              "      <td>0.00000</td>\n",
              "      <td>0.393259</td>\n",
              "      <td>1.179776</td>\n",
              "      <td>0.000000</td>\n",
              "      <td>0.393259</td>\n",
              "      <td>0.786518</td>\n",
              "      <td>...</td>\n",
              "      <td>0.054790</td>\n",
              "      <td>0.035906</td>\n",
              "      <td>0.059732</td>\n",
              "      <td>0.040130</td>\n",
              "      <td>0.051415</td>\n",
              "      <td>0.056425</td>\n",
              "      <td>0.037721</td>\n",
              "      <td>0.051927</td>\n",
              "      <td>0.022336</td>\n",
              "      <td>1</td>\n",
              "    </tr>\n",
              "    <tr>\n",
              "      <th>3</th>\n",
              "      <td>0.392759</td>\n",
              "      <td>0.785518</td>\n",
              "      <td>0.000000</td>\n",
              "      <td>0.392759</td>\n",
              "      <td>0.00000</td>\n",
              "      <td>1.178277</td>\n",
              "      <td>1.571036</td>\n",
              "      <td>0.000000</td>\n",
              "      <td>0.000000</td>\n",
              "      <td>0.392759</td>\n",
              "      <td>...</td>\n",
              "      <td>0.051130</td>\n",
              "      <td>0.040844</td>\n",
              "      <td>0.024033</td>\n",
              "      <td>0.047743</td>\n",
              "      <td>0.058581</td>\n",
              "      <td>0.032913</td>\n",
              "      <td>0.032390</td>\n",
              "      <td>0.050491</td>\n",
              "      <td>0.055199</td>\n",
              "      <td>1</td>\n",
              "    </tr>\n",
              "    <tr>\n",
              "      <th>4</th>\n",
              "      <td>3.149282</td>\n",
              "      <td>0.449897</td>\n",
              "      <td>1.349692</td>\n",
              "      <td>0.899795</td>\n",
              "      <td>0.00000</td>\n",
              "      <td>0.449897</td>\n",
              "      <td>1.349692</td>\n",
              "      <td>0.000000</td>\n",
              "      <td>0.000000</td>\n",
              "      <td>0.449897</td>\n",
              "      <td>...</td>\n",
              "      <td>0.033054</td>\n",
              "      <td>0.032509</td>\n",
              "      <td>0.046175</td>\n",
              "      <td>0.037245</td>\n",
              "      <td>0.034576</td>\n",
              "      <td>0.041872</td>\n",
              "      <td>0.034799</td>\n",
              "      <td>0.029539</td>\n",
              "      <td>0.048914</td>\n",
              "      <td>1</td>\n",
              "    </tr>\n",
              "    <tr>\n",
              "      <th>...</th>\n",
              "      <td>...</td>\n",
              "      <td>...</td>\n",
              "      <td>...</td>\n",
              "      <td>...</td>\n",
              "      <td>...</td>\n",
              "      <td>...</td>\n",
              "      <td>...</td>\n",
              "      <td>...</td>\n",
              "      <td>...</td>\n",
              "      <td>...</td>\n",
              "      <td>...</td>\n",
              "      <td>...</td>\n",
              "      <td>...</td>\n",
              "      <td>...</td>\n",
              "      <td>...</td>\n",
              "      <td>...</td>\n",
              "      <td>...</td>\n",
              "      <td>...</td>\n",
              "      <td>...</td>\n",
              "      <td>...</td>\n",
              "      <td>...</td>\n",
              "    </tr>\n",
              "    <tr>\n",
              "      <th>4603</th>\n",
              "      <td>0.000000</td>\n",
              "      <td>0.000000</td>\n",
              "      <td>0.803190</td>\n",
              "      <td>0.401595</td>\n",
              "      <td>0.00000</td>\n",
              "      <td>0.000000</td>\n",
              "      <td>0.803190</td>\n",
              "      <td>0.401595</td>\n",
              "      <td>0.000000</td>\n",
              "      <td>2.409570</td>\n",
              "      <td>...</td>\n",
              "      <td>0.047279</td>\n",
              "      <td>0.040930</td>\n",
              "      <td>0.045856</td>\n",
              "      <td>0.042741</td>\n",
              "      <td>0.037102</td>\n",
              "      <td>0.051245</td>\n",
              "      <td>0.046160</td>\n",
              "      <td>0.046941</td>\n",
              "      <td>0.043825</td>\n",
              "      <td>0</td>\n",
              "    </tr>\n",
              "    <tr>\n",
              "      <th>4604</th>\n",
              "      <td>0.000000</td>\n",
              "      <td>0.401442</td>\n",
              "      <td>0.802885</td>\n",
              "      <td>0.802885</td>\n",
              "      <td>0.00000</td>\n",
              "      <td>0.000000</td>\n",
              "      <td>0.802885</td>\n",
              "      <td>0.802885</td>\n",
              "      <td>0.000000</td>\n",
              "      <td>0.802885</td>\n",
              "      <td>...</td>\n",
              "      <td>0.046812</td>\n",
              "      <td>0.034486</td>\n",
              "      <td>0.040316</td>\n",
              "      <td>0.033441</td>\n",
              "      <td>0.041429</td>\n",
              "      <td>0.041329</td>\n",
              "      <td>0.038051</td>\n",
              "      <td>0.051707</td>\n",
              "      <td>0.055172</td>\n",
              "      <td>0</td>\n",
              "    </tr>\n",
              "    <tr>\n",
              "      <th>4605</th>\n",
              "      <td>0.727584</td>\n",
              "      <td>0.363792</td>\n",
              "      <td>0.363792</td>\n",
              "      <td>0.363792</td>\n",
              "      <td>0.00000</td>\n",
              "      <td>0.363792</td>\n",
              "      <td>1.455167</td>\n",
              "      <td>0.363792</td>\n",
              "      <td>0.000000</td>\n",
              "      <td>0.363792</td>\n",
              "      <td>...</td>\n",
              "      <td>0.035729</td>\n",
              "      <td>0.047250</td>\n",
              "      <td>0.040410</td>\n",
              "      <td>0.048496</td>\n",
              "      <td>0.047384</td>\n",
              "      <td>0.042312</td>\n",
              "      <td>0.054959</td>\n",
              "      <td>0.046394</td>\n",
              "      <td>0.055619</td>\n",
              "      <td>0</td>\n",
              "    </tr>\n",
              "    <tr>\n",
              "      <th>4606</th>\n",
              "      <td>0.554510</td>\n",
              "      <td>0.000000</td>\n",
              "      <td>1.663530</td>\n",
              "      <td>0.000000</td>\n",
              "      <td>0.55451</td>\n",
              "      <td>1.109020</td>\n",
              "      <td>1.663530</td>\n",
              "      <td>1.109020</td>\n",
              "      <td>0.000000</td>\n",
              "      <td>0.554510</td>\n",
              "      <td>...</td>\n",
              "      <td>0.034099</td>\n",
              "      <td>0.031799</td>\n",
              "      <td>0.034772</td>\n",
              "      <td>0.026557</td>\n",
              "      <td>0.035774</td>\n",
              "      <td>0.024593</td>\n",
              "      <td>0.039705</td>\n",
              "      <td>0.034196</td>\n",
              "      <td>0.024691</td>\n",
              "      <td>0</td>\n",
              "    </tr>\n",
              "    <tr>\n",
              "      <th>4607</th>\n",
              "      <td>1.520036</td>\n",
              "      <td>0.760018</td>\n",
              "      <td>0.380009</td>\n",
              "      <td>0.760018</td>\n",
              "      <td>0.00000</td>\n",
              "      <td>0.380009</td>\n",
              "      <td>1.140027</td>\n",
              "      <td>0.380009</td>\n",
              "      <td>0.000000</td>\n",
              "      <td>1.140027</td>\n",
              "      <td>...</td>\n",
              "      <td>0.055547</td>\n",
              "      <td>0.022755</td>\n",
              "      <td>0.045882</td>\n",
              "      <td>0.042221</td>\n",
              "      <td>0.046072</td>\n",
              "      <td>0.023338</td>\n",
              "      <td>0.049550</td>\n",
              "      <td>0.060519</td>\n",
              "      <td>0.040439</td>\n",
              "      <td>0</td>\n",
              "    </tr>\n",
              "  </tbody>\n",
              "</table>\n",
              "<p>4608 rows × 35 columns</p>\n",
              "</div>\n",
              "      <button class=\"colab-df-convert\" onclick=\"convertToInteractive('df-69a27999-8b0b-4b74-a6e8-4a6401c76bdb')\"\n",
              "              title=\"Convert this dataframe to an interactive table.\"\n",
              "              style=\"display:none;\">\n",
              "        \n",
              "  <svg xmlns=\"http://www.w3.org/2000/svg\" height=\"24px\"viewBox=\"0 0 24 24\"\n",
              "       width=\"24px\">\n",
              "    <path d=\"M0 0h24v24H0V0z\" fill=\"none\"/>\n",
              "    <path d=\"M18.56 5.44l.94 2.06.94-2.06 2.06-.94-2.06-.94-.94-2.06-.94 2.06-2.06.94zm-11 1L8.5 8.5l.94-2.06 2.06-.94-2.06-.94L8.5 2.5l-.94 2.06-2.06.94zm10 10l.94 2.06.94-2.06 2.06-.94-2.06-.94-.94-2.06-.94 2.06-2.06.94z\"/><path d=\"M17.41 7.96l-1.37-1.37c-.4-.4-.92-.59-1.43-.59-.52 0-1.04.2-1.43.59L10.3 9.45l-7.72 7.72c-.78.78-.78 2.05 0 2.83L4 21.41c.39.39.9.59 1.41.59.51 0 1.02-.2 1.41-.59l7.78-7.78 2.81-2.81c.8-.78.8-2.07 0-2.86zM5.41 20L4 18.59l7.72-7.72 1.47 1.35L5.41 20z\"/>\n",
              "  </svg>\n",
              "      </button>\n",
              "      \n",
              "  <style>\n",
              "    .colab-df-container {\n",
              "      display:flex;\n",
              "      flex-wrap:wrap;\n",
              "      gap: 12px;\n",
              "    }\n",
              "\n",
              "    .colab-df-convert {\n",
              "      background-color: #E8F0FE;\n",
              "      border: none;\n",
              "      border-radius: 50%;\n",
              "      cursor: pointer;\n",
              "      display: none;\n",
              "      fill: #1967D2;\n",
              "      height: 32px;\n",
              "      padding: 0 0 0 0;\n",
              "      width: 32px;\n",
              "    }\n",
              "\n",
              "    .colab-df-convert:hover {\n",
              "      background-color: #E2EBFA;\n",
              "      box-shadow: 0px 1px 2px rgba(60, 64, 67, 0.3), 0px 1px 3px 1px rgba(60, 64, 67, 0.15);\n",
              "      fill: #174EA6;\n",
              "    }\n",
              "\n",
              "    [theme=dark] .colab-df-convert {\n",
              "      background-color: #3B4455;\n",
              "      fill: #D2E3FC;\n",
              "    }\n",
              "\n",
              "    [theme=dark] .colab-df-convert:hover {\n",
              "      background-color: #434B5C;\n",
              "      box-shadow: 0px 1px 3px 1px rgba(0, 0, 0, 0.15);\n",
              "      filter: drop-shadow(0px 1px 2px rgba(0, 0, 0, 0.3));\n",
              "      fill: #FFFFFF;\n",
              "    }\n",
              "  </style>\n",
              "\n",
              "      <script>\n",
              "        const buttonEl =\n",
              "          document.querySelector('#df-69a27999-8b0b-4b74-a6e8-4a6401c76bdb button.colab-df-convert');\n",
              "        buttonEl.style.display =\n",
              "          google.colab.kernel.accessAllowed ? 'block' : 'none';\n",
              "\n",
              "        async function convertToInteractive(key) {\n",
              "          const element = document.querySelector('#df-69a27999-8b0b-4b74-a6e8-4a6401c76bdb');\n",
              "          const dataTable =\n",
              "            await google.colab.kernel.invokeFunction('convertToInteractive',\n",
              "                                                     [key], {});\n",
              "          if (!dataTable) return;\n",
              "\n",
              "          const docLinkHtml = 'Like what you see? Visit the ' +\n",
              "            '<a target=\"_blank\" href=https://colab.research.google.com/notebooks/data_table.ipynb>data table notebook</a>'\n",
              "            + ' to learn more about interactive tables.';\n",
              "          element.innerHTML = '';\n",
              "          dataTable['output_type'] = 'display_data';\n",
              "          await google.colab.output.renderOutput(dataTable, element);\n",
              "          const docLink = document.createElement('div');\n",
              "          docLink.innerHTML = docLinkHtml;\n",
              "          element.appendChild(docLink);\n",
              "        }\n",
              "      </script>\n",
              "    </div>\n",
              "  </div>\n",
              "  "
            ]
          },
          "metadata": {},
          "execution_count": 3
        }
      ],
      "source": [
        "import pandas as pd\n",
        "import numpy as np\n",
        "from pandas import read_csv\n",
        "file_name = '/content/drive/MyDrive/dataset/set4/PAAC_set4.csv'\n",
        "df = pd.read_csv(file_name)\n",
        "#print(df.head()) # print the first 5 rows\n",
        "df"
      ]
    },
    {
      "cell_type": "code",
      "source": [
        "df.shape"
      ],
      "metadata": {
        "colab": {
          "base_uri": "https://localhost:8080/"
        },
        "id": "6PjBaPMrB_nd",
        "outputId": "bffb4868-1107-4a03-b02b-c9d79e01d9c4"
      },
      "execution_count": 4,
      "outputs": [
        {
          "output_type": "execute_result",
          "data": {
            "text/plain": [
              "(4608, 35)"
            ]
          },
          "metadata": {},
          "execution_count": 4
        }
      ]
    },
    {
      "cell_type": "code",
      "source": [
        "#Create independent and Dependent Features\n",
        "columns = df.columns.tolist()\n",
        "# Filter the columns to remove data we do not want \n",
        "columns = [c for c in columns if c not in [\"Target\"]]\n",
        "# Store the variable we are predicting \n",
        "target = \"Target\"\n",
        "# Define a random state \n",
        "state = np.random.RandomState(42)\n",
        "X = df[columns]\n",
        "Y = df[target]\n",
        "X_outliers = state.uniform(low=0, high=1, size=(X.shape[0], X.shape[1]))\n",
        "# Print the shapes of X & Y\n",
        "print(X.shape)\n",
        "print(Y.shape)"
      ],
      "metadata": {
        "colab": {
          "base_uri": "https://localhost:8080/"
        },
        "id": "AcwQPN7PCBFi",
        "outputId": "ad41034c-e63c-4d44-d95d-9a1a44c08d43"
      },
      "execution_count": 5,
      "outputs": [
        {
          "output_type": "stream",
          "name": "stdout",
          "text": [
            "(4608, 34)\n",
            "(4608,)\n"
          ]
        }
      ]
    },
    {
      "cell_type": "code",
      "source": [
        "count_classes = pd.value_counts(df['Target'], sort = True)\n",
        "\n",
        "count_classes.plot(kind = 'bar', rot=0)\n",
        "\n",
        "plt.title(\"Class Distribution\")\n",
        "\n",
        "LABELS = [\"Zero\", \"One\"]\n",
        "\n",
        "plt.xticks(range(2), LABELS)\n",
        "\n",
        "plt.xlabel(\"Class\")\n",
        "\n",
        "plt.ylabel(\"Frequency\")"
      ],
      "metadata": {
        "colab": {
          "base_uri": "https://localhost:8080/",
          "height": 312
        },
        "id": "Mmvw9pJ3CBdc",
        "outputId": "88c17bc4-a539-48f2-bf20-981b1855ed9f"
      },
      "execution_count": 6,
      "outputs": [
        {
          "output_type": "execute_result",
          "data": {
            "text/plain": [
              "Text(0, 0.5, 'Frequency')"
            ]
          },
          "metadata": {},
          "execution_count": 6
        },
        {
          "output_type": "display_data",
          "data": {
            "text/plain": [
              "<Figure size 432x288 with 1 Axes>"
            ],
            "image/png": "[encoded data removed]"
          },
          "metadata": {
            "needs_background": "light"
          }
        }
      ]
    },
    {
      "cell_type": "code",
      "source": [
        "One = df[df['Target']==1]\n",
        "\n",
        "Zero = df[df['Target']==0]"
      ],
      "metadata": {
        "id": "HyCs_kUOCBra"
      },
      "execution_count": 7,
      "outputs": []
    },
    {
      "cell_type": "code",
      "source": [
        "print(Zero.shape,One.shape)"
      ],
      "metadata": {
        "colab": {
          "base_uri": "https://localhost:8080/"
        },
        "id": "xbMb9sXwCuue",
        "outputId": "c58ce9f1-ee2b-4103-d97f-a09eb68d4688"
      },
      "execution_count": 8,
      "outputs": [
        {
          "output_type": "stream",
          "name": "stdout",
          "text": [
            "(4345, 35) (263, 35)\n"
          ]
        }
      ]
    },
    {
      "cell_type": "markdown",
      "source": [
        "## Applying ADASYN"
      ],
      "metadata": {
        "id": "A6V21m1xC3n8"
      }
    },
    {
      "cell_type": "code",
      "source": [
        "from imblearn.over_sampling import ADASYN\n",
        "sm = ADASYN(random_state = 20)\n",
        "X_res,y_res=sm.fit_resample(X,Y)"
      ],
      "metadata": {
        "id": "V-DWEi_pC02s"
      },
      "execution_count": 9,
      "outputs": []
    },
    {
      "cell_type": "code",
      "source": [
        "print(X_res.shape)\n",
        "print(y_res.shape)"
      ],
      "metadata": {
        "colab": {
          "base_uri": "https://localhost:8080/"
        },
        "id": "V9l7csDBCui4",
        "outputId": "3a99eef1-1da2-4963-8f44-38a7e6775cec"
      },
      "execution_count": 10,
      "outputs": [
        {
          "output_type": "stream",
          "name": "stdout",
          "text": [
            "(8609, 34)\n",
            "(8609,)\n"
          ]
        }
      ]
    },
    {
      "cell_type": "code",
      "source": [
        "#Split data into independent (X) and dependent(Y) columns\n",
        "\n",
        "y = y_res\n",
        "X = X_res"
      ],
      "metadata": {
        "id": "FuMffcWZCuZn"
      },
      "execution_count": 11,
      "outputs": []
    },
    {
      "cell_type": "code",
      "execution_count": null,
      "metadata": {
        "id": "znLCEa5E2GQW"
      },
      "outputs": [],
      "source": [
        "from sklearn.model_selection import train_test_split\n",
        "X_train, X_test, y_train, y_test = train_test_split(X, y, test_size = 0.20, random_state = 20)"
      ]
    },
    {
      "cell_type": "code",
      "execution_count": null,
      "metadata": {
        "id": "pZOyOjBM2LtY"
      },
      "outputs": [],
      "source": [
        "### Feature scaling\n",
        "from sklearn.preprocessing import StandardScaler\n",
        "sc = StandardScaler()\n",
        "X_train = sc.fit_transform(X_train)\n",
        "X_test = sc.transform(X_test)"
      ]
    },
    {
      "cell_type": "code",
      "source": [
        "from sklearn.svm import SVC\n",
        "classifier = SVC(kernel = 'rbf',C=50,gamma=0.0001, probability=True)\n",
        "#classifier = SVC()"
      ],
      "metadata": {
        "id": "NIdydXKeOCn0"
      },
      "execution_count": null,
      "outputs": []
    },
    {
      "cell_type": "code",
      "source": [
        "classifier.fit(X_train, y_train)\n",
        "y_pred = classifier.predict(X_test)"
      ],
      "metadata": {
        "id": "E01G-HPkmYFD"
      },
      "execution_count": null,
      "outputs": []
    },
    {
      "cell_type": "code",
      "source": [
        "from sklearn.metrics import confusion_matrix, accuracy_score\n",
        "cm = confusion_matrix(y_test, y_pred)\n",
        "print(cm)\n",
        "accuracy_score(y_test, y_pred)"
      ],
      "metadata": {
        "colab": {
          "base_uri": "https://localhost:8080/"
        },
        "id": "UFsMA0G0mX8Y",
        "outputId": "370f1a2e-6bfe-4b3e-e68d-73513921130a"
      },
      "execution_count": null,
      "outputs": [
        {
          "output_type": "stream",
          "name": "stdout",
          "text": [
            "[[272   7]\n",
            " [  3 294]]\n"
          ]
        },
        {
          "output_type": "execute_result",
          "data": {
            "text/plain": [
              "0.9826388888888888"
            ]
          },
          "metadata": {},
          "execution_count": 194
        }
      ]
    },
    {
      "cell_type": "code",
      "source": [
        "from sklearn.metrics import roc_auc_score\n",
        "print(\"AUC = \",roc_auc_score(y_test,y_pred))"
      ],
      "metadata": {
        "colab": {
          "base_uri": "https://localhost:8080/"
        },
        "id": "uX-wVO0qmXvL",
        "outputId": "7417fb74-fd25-47aa-e79c-a2891b35a54d"
      },
      "execution_count": null,
      "outputs": [
        {
          "output_type": "stream",
          "name": "stdout",
          "text": [
            "AUC =  0.9824046920821115\n"
          ]
        }
      ]
    },
    {
      "cell_type": "code",
      "source": [
        "from sklearn.metrics import matthews_corrcoef,confusion_matrix\n",
        "matthews_corrcoef(y_test,y_pred)"
      ],
      "metadata": {
        "colab": {
          "base_uri": "https://localhost:8080/"
        },
        "id": "EEdmSKETmrS1",
        "outputId": "64a14398-768c-48fb-a6d9-033834608211"
      },
      "execution_count": null,
      "outputs": [
        {
          "output_type": "execute_result",
          "data": {
            "text/plain": [
              "0.9653221034161232"
            ]
          },
          "metadata": {},
          "execution_count": 196
        }
      ]
    },
    {
      "cell_type": "code",
      "source": [
        "TP = cm[0][0]\n",
        "TN = cm[1][1]\n",
        "FP = cm[0][1]\n",
        "FN = cm[1][0]\n",
        "print('True Positives:', TP)\n",
        "print('True Negatives:', TN)\n",
        "print('False Positives:', FP)\n",
        "print('False Negatives:', FN)"
      ],
      "metadata": {
        "colab": {
          "base_uri": "https://localhost:8080/"
        },
        "id": "BNqWlfBomrP4",
        "outputId": "c8532be5-1568-4fd3-bd36-62d13940cf2a"
      },
      "execution_count": null,
      "outputs": [
        {
          "output_type": "stream",
          "name": "stdout",
          "text": [
            "True Positives: 272\n",
            "True Negatives: 294\n",
            "False Positives: 7\n",
            "False Negatives: 3\n"
          ]
        }
      ]
    },
    {
      "cell_type": "code",
      "source": [
        "sensitivity=(TP/(TP+FN))\n",
        "sensitivity"
      ],
      "metadata": {
        "colab": {
          "base_uri": "https://localhost:8080/"
        },
        "id": "883lRa-imrMQ",
        "outputId": "51f608ce-88a3-40f1-dcb3-6cf9b18e4d26"
      },
      "execution_count": null,
      "outputs": [
        {
          "output_type": "execute_result",
          "data": {
            "text/plain": [
              "0.9890909090909091"
            ]
          },
          "metadata": {},
          "execution_count": 198
        }
      ]
    },
    {
      "cell_type": "code",
      "source": [
        "specificity = (TN/(TN+FP))\n",
        "specificity"
      ],
      "metadata": {
        "colab": {
          "base_uri": "https://localhost:8080/"
        },
        "id": "x2ZLhsZbmrKY",
        "outputId": "7b87033b-d990-4882-ba2f-d019ea162537"
      },
      "execution_count": null,
      "outputs": [
        {
          "output_type": "execute_result",
          "data": {
            "text/plain": [
              "0.9767441860465116"
            ]
          },
          "metadata": {},
          "execution_count": 199
        }
      ]
    },
    {
      "cell_type": "code",
      "source": [],
      "metadata": {
        "id": "K_NK7nOtmrGd"
      },
      "execution_count": null,
      "outputs": []
    },
    {
      "cell_type": "code",
      "source": [],
      "metadata": {
        "id": "MvAzwK90mrEY"
      },
      "execution_count": null,
      "outputs": []
    },
    {
      "cell_type": "code",
      "source": [],
      "metadata": {
        "id": "NJsUIyrfmq9A"
      },
      "execution_count": null,
      "outputs": []
    },
    {
      "cell_type": "code",
      "source": [],
      "metadata": {
        "id": "fEdg8aMFmq0K"
      },
      "execution_count": null,
      "outputs": []
    },
    {
      "cell_type": "code",
      "source": [
        "from sklearn.model_selection import cross_val_score\n",
        "accuracies = cross_val_score(estimator = classifier, X = X_train, y = y_train, cv = 10)\n",
        "print(\"Accuracy: {:.2f} %\".format(accuracies.mean()*100))\n",
        "print(\"Standard Deviation: {:.2f} %\".format(accuracies.std()*100))"
      ],
      "metadata": {
        "colab": {
          "base_uri": "https://localhost:8080/"
        },
        "id": "_fIcwltD1-Qi",
        "outputId": "df8da220-437a-414d-ad4e-5d2bb16ed72e"
      },
      "execution_count": null,
      "outputs": [
        {
          "output_type": "stream",
          "name": "stdout",
          "text": [
            "Accuracy: 97.29 %\n",
            "Standard Deviation: 2.11 %\n"
          ]
        }
      ]
    },
    {
      "cell_type": "code",
      "source": [
        "from sklearn.model_selection import cross_val_predict\n",
        "from sklearn.metrics import confusion_matrix,accuracy_score\n",
        "y_pred = cross_val_predict(classifier, X_train, y_train, cv=10)\n",
        "cmann = confusion_matrix(y_train, y_pred)\n",
        "print(cmann)\n",
        "accuracy = (cmann[0][0]+cmann[1][1])/(cmann[0][1] + cmann[1][0] +cmann[0][0] +cmann[1][1]) \n",
        "print(accuracy*100)\n",
        "ACC = accuracy_score(y_train,y_pred)\n",
        "print(ACC)"
      ],
      "metadata": {
        "colab": {
          "base_uri": "https://localhost:8080/"
        },
        "id": "0ptvHDPt2DvY",
        "outputId": "5e749631-d6f4-4035-f3d4-a615063d04e8"
      },
      "execution_count": null,
      "outputs": [
        {
          "output_type": "stream",
          "name": "stdout",
          "text": [
            "[[383  19]\n",
            " [  2 371]]\n",
            "97.29032258064517\n",
            "0.9729032258064516\n"
          ]
        }
      ]
    },
    {
      "cell_type": "code",
      "source": [
        "from sklearn.metrics import roc_auc_score\n",
        "print(\"AUC = \",roc_auc_score(y_train,y_pred))"
      ],
      "metadata": {
        "colab": {
          "base_uri": "https://localhost:8080/"
        },
        "id": "-cNk9DlB2aFe",
        "outputId": "55e04dbd-10de-4eac-9751-7737efb38683"
      },
      "execution_count": null,
      "outputs": [
        {
          "output_type": "stream",
          "name": "stdout",
          "text": [
            "AUC =  0.973687194056527\n"
          ]
        }
      ]
    },
    {
      "cell_type": "code",
      "execution_count": null,
      "metadata": {
        "colab": {
          "base_uri": "https://localhost:8080/"
        },
        "id": "YoFKVd9g3Rtr",
        "outputId": "a4d8e17c-01a5-4532-b011-d79e45a5aa11"
      },
      "outputs": [
        {
          "output_type": "execute_result",
          "data": {
            "text/plain": [
              "0.9467305983559786"
            ]
          },
          "metadata": {},
          "execution_count": 116
        }
      ],
      "source": [
        "from sklearn.metrics import matthews_corrcoef,confusion_matrix\n",
        "#matthews_corrcoef(y_test,y_pred)\n",
        "matthews_corrcoef(y_train,y_pred)"
      ]
    },
    {
      "cell_type": "code",
      "execution_count": null,
      "metadata": {
        "colab": {
          "base_uri": "https://localhost:8080/"
        },
        "id": "YuFBtQaz3mYa",
        "outputId": "cda32b63-3854-478b-c012-769e95091260"
      },
      "outputs": [
        {
          "output_type": "stream",
          "name": "stdout",
          "text": [
            "True Positives: 383\n",
            "True Negatives: 371\n",
            "False Positives: 19\n",
            "False Negatives: 2\n"
          ]
        }
      ],
      "source": [
        "TP = cmann[0][0]\n",
        "TN = cmann[1][1]\n",
        "FP = cmann[0][1]\n",
        "FN = cmann[1][0]\n",
        "print('True Positives:', TP)\n",
        "print('True Negatives:', TN)\n",
        "print('False Positives:', FP)\n",
        "print('False Negatives:', FN)"
      ]
    },
    {
      "cell_type": "code",
      "execution_count": null,
      "metadata": {
        "colab": {
          "base_uri": "https://localhost:8080/"
        },
        "id": "kWvxKtY13pr4",
        "outputId": "684ee7e9-d621-4ea2-d977-b07cdbfa2ef6"
      },
      "outputs": [
        {
          "output_type": "execute_result",
          "data": {
            "text/plain": [
              "0.9948051948051948"
            ]
          },
          "metadata": {},
          "execution_count": 118
        }
      ],
      "source": [
        "sensitivity=(TP/(TP+FN))\n",
        "sensitivity"
      ]
    },
    {
      "cell_type": "code",
      "execution_count": null,
      "metadata": {
        "colab": {
          "base_uri": "https://localhost:8080/"
        },
        "id": "WjUAP5VT3tTZ",
        "outputId": "7b70fc61-10d9-4448-d4b9-89b8eaa92197"
      },
      "outputs": [
        {
          "output_type": "execute_result",
          "data": {
            "text/plain": [
              "0.9512820512820512"
            ]
          },
          "metadata": {},
          "execution_count": 119
        }
      ],
      "source": [
        "specificity = (TN/(TN+FP))\n",
        "specificity"
      ]
    },
    {
      "cell_type": "code",
      "execution_count": null,
      "metadata": {
        "colab": {
          "base_uri": "https://localhost:8080/"
        },
        "id": "5UGSflLs3v8b",
        "outputId": "93658059-6e11-4db4-efeb-0bb962d4d097"
      },
      "outputs": [
        {
          "output_type": "stream",
          "name": "stdout",
          "text": [
            "0.9527363184079602\n",
            "0.9948051948051948\n"
          ]
        }
      ],
      "source": [
        "precision = (TP/(TP+FP))\n",
        "recall = (TP/(TP+FN))\n",
        "print(precision)\n",
        "print(recall)"
      ]
    },
    {
      "cell_type": "code",
      "execution_count": null,
      "metadata": {
        "colab": {
          "base_uri": "https://localhost:8080/"
        },
        "id": "BS7V_wWt3yPY",
        "outputId": "e6d8ce02-e291-49b5-f769-be3dc777af77"
      },
      "outputs": [
        {
          "output_type": "execute_result",
          "data": {
            "text/plain": [
              "0.9733163913595935"
            ]
          },
          "metadata": {},
          "execution_count": 121
        }
      ],
      "source": [
        "f1 = (2*(precision*recall))/(precision+recall)\n",
        "f1"
      ]
    },
    {
      "cell_type": "code",
      "execution_count": null,
      "metadata": {
        "id": "OS-yhvWN30ij"
      },
      "outputs": [],
      "source": []
    }
  ],
  "metadata": {
    "accelerator": "GPU",
    "colab": {
      "name": "Copy of set4_PAAC+Ubiquitin+SVM.ipynb",
      "provenance": [],
      "collapsed_sections": [],
      "include_colab_link": true
    },
    "gpuClass": "standard",
    "kernelspec": {
      "display_name": "Python 3",
      "name": "python3"
    },
    "language_info": {
      "name": "python"
    }
  },
  "nbformat": 4,
  "nbformat_minor": 0
}