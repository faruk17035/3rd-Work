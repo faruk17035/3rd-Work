{
  "nbformat": 4,
  "nbformat_minor": 0,
  "metadata": {
    "colab": {
      "name": "3rd work+calcium+AAC+SVM+10 fold cross validation.ipynb",
      "provenance": [],
      "authorship_tag": "ABX9TyNVvyvPeqh8zV+4kl0VKDKv",
      "include_colab_link": true
    },
    "kernelspec": {
      "name": "python3",
      "display_name": "Python 3"
    },
    "language_info": {
      "name": "python"
    }
  },
  "cells": [
    {
      "cell_type": "markdown",
      "metadata": {
        "id": "view-in-github",
        "colab_type": "text"
      },
      "source": [
        "<a href=\"https://colab.research.google.com/github/faruk17035/3rd-Work/blob/main/3rd_work%2Bcalcium%2BAAC%2BSVM%2B10_fold_cross_validation.ipynb\" target=\"_parent\"><img src=\"https://colab.research.google.com/assets/colab-badge.svg\" alt=\"Open In Colab\"/></a>"
      ]
    },
    {
      "cell_type": "code",
      "execution_count": 1,
      "metadata": {
        "id": "Ly2LvKXLVlOs"
      },
      "outputs": [],
      "source": [
        "import numpy as np\n",
        "import matplotlib.pyplot as plt\n",
        "import pandas as pd"
      ]
    },
    {
      "cell_type": "code",
      "source": [
        "from google.colab import drive \n",
        "drive.mount('/content/gdrive')"
      ],
      "metadata": {
        "colab": {
          "base_uri": "https://localhost:8080/"
        },
        "id": "PeLHU7OFWE5t",
        "outputId": "b0b3f863-e9c9-4e2b-aa48-7a4abe1e6a59"
      },
      "execution_count": 2,
      "outputs": [
        {
          "output_type": "stream",
          "name": "stdout",
          "text": [
            "Mounted at /content/gdrive\n"
          ]
        }
      ]
    },
    {
      "cell_type": "code",
      "source": [
        "import pandas as pd\n",
        "from pandas import read_excel\n",
        "file_name = '/content/gdrive/MyDrive/calcium/cal_AAC.csv' \n",
        "#df = pd.read_excel(file_name, index_col=0)\n",
        "df = pd.read_csv(file_name)\n",
        "#print(df.head()) # print the first 5 rows\n",
        "df"
      ],
      "metadata": {
        "colab": {
          "base_uri": "https://localhost:8080/",
          "height": 488
        },
        "id": "6nr2AeguWJnR",
        "outputId": "b578b89f-4538-45d4-8d59-14c2dbdc6c19"
      },
      "execution_count": 30,
      "outputs": [
        {
          "output_type": "execute_result",
          "data": {
            "text/plain": [
              "            A1        A2        A3        A4        A5        A6        A7  \\\n",
              "0     0.034483  0.120690  0.043103  0.060345  0.051724  0.103448  0.017241   \n",
              "1     0.062762  0.050209  0.041841  0.083682  0.037657  0.087866  0.012552   \n",
              "2     0.084507  0.112676  0.028169  0.000000  0.000000  0.070423  0.014085   \n",
              "3     0.085714  0.114286  0.028571  0.014286  0.000000  0.057143  0.014286   \n",
              "4     0.085366  0.085366  0.073171  0.060976  0.109756  0.036585  0.000000   \n",
              "...        ...       ...       ...       ...       ...       ...       ...   \n",
              "1296  0.037500  0.000000  0.025000  0.012500  0.100000  0.087500  0.037500   \n",
              "1297  0.036585  0.060976  0.012195  0.012195  0.097561  0.012195  0.048780   \n",
              "1298  0.072289  0.036145  0.060241  0.048193  0.024096  0.060241  0.024096   \n",
              "1299  0.141026  0.000000  0.038462  0.051282  0.025641  0.051282  0.000000   \n",
              "1300  0.035294  0.023529  0.035294  0.047059  0.035294  0.047059  0.011765   \n",
              "\n",
              "            A8        A9       A10  ...       A12       A13       A14  \\\n",
              "0     0.060345  0.094828  0.051724  ...  0.043103  0.025862  0.017241   \n",
              "1     0.037657  0.062762  0.071130  ...  0.066946  0.025105  0.016736   \n",
              "2     0.042254  0.098592  0.098592  ...  0.014085  0.014085  0.028169   \n",
              "3     0.028571  0.100000  0.128571  ...  0.000000  0.014286  0.028571   \n",
              "4     0.012195  0.073171  0.109756  ...  0.036585  0.036585  0.012195   \n",
              "...        ...       ...       ...  ...       ...       ...       ...   \n",
              "1296  0.050000  0.050000  0.187500  ...  0.050000  0.037500  0.050000   \n",
              "1297  0.097561  0.036585  0.158537  ...  0.060976  0.048780  0.060976   \n",
              "1298  0.024096  0.048193  0.096386  ...  0.048193  0.072289  0.096386   \n",
              "1299  0.076923  0.025641  0.089744  ...  0.051282  0.038462  0.064103   \n",
              "1300  0.094118  0.035294  0.094118  ...  0.105882  0.035294  0.082353   \n",
              "\n",
              "           A15       A16       A17       A18       A19       A20  Target  \n",
              "0     0.043103  0.060345  0.060345  0.068966  0.000000  0.017241       1  \n",
              "1     0.066946  0.083682  0.054393  0.058577  0.008368  0.041841       1  \n",
              "2     0.084507  0.098592  0.112676  0.042254  0.000000  0.014085       1  \n",
              "3     0.085714  0.071429  0.114286  0.057143  0.000000  0.028571       1  \n",
              "4     0.024390  0.060976  0.048780  0.036585  0.024390  0.012195       1  \n",
              "...        ...       ...       ...       ...       ...       ...     ...  \n",
              "1296  0.012500  0.050000  0.062500  0.087500  0.037500  0.012500       0  \n",
              "1297  0.012195  0.036585  0.048780  0.048780  0.012195  0.085366       0  \n",
              "1298  0.036145  0.072289  0.096386  0.012048  0.000000  0.036145       0  \n",
              "1299  0.076923  0.115385  0.012821  0.064103  0.012821  0.012821       0  \n",
              "1300  0.082353  0.058824  0.058824  0.011765  0.023529  0.070588       0  \n",
              "\n",
              "[1301 rows x 21 columns]"
            ],
            "text/html": [
              "\n",
              "  <div id=\"df-fbbf439d-044d-4025-8235-722ce75b21f4\">\n",
              "    <div class=\"colab-df-container\">\n",
              "      <div>\n",
              "<style scoped>\n",
              "    .dataframe tbody tr th:only-of-type {\n",
              "        vertical-align: middle;\n",
              "    }\n",
              "\n",
              "    .dataframe tbody tr th {\n",
              "        vertical-align: top;\n",
              "    }\n",
              "\n",
              "    .dataframe thead th {\n",
              "        text-align: right;\n",
              "    }\n",
              "</style>\n",
              "<table border=\"1\" class=\"dataframe\">\n",
              "  <thead>\n",
              "    <tr style=\"text-align: right;\">\n",
              "      <th></th>\n",
              "      <th>A1</th>\n",
              "      <th>A2</th>\n",
              "      <th>A3</th>\n",
              "      <th>A4</th>\n",
              "      <th>A5</th>\n",
              "      <th>A6</th>\n",
              "      <th>A7</th>\n",
              "      <th>A8</th>\n",
              "      <th>A9</th>\n",
              "      <th>A10</th>\n",
              "      <th>...</th>\n",
              "      <th>A12</th>\n",
              "      <th>A13</th>\n",
              "      <th>A14</th>\n",
              "      <th>A15</th>\n",
              "      <th>A16</th>\n",
              "      <th>A17</th>\n",
              "      <th>A18</th>\n",
              "      <th>A19</th>\n",
              "      <th>A20</th>\n",
              "      <th>Target</th>\n",
              "    </tr>\n",
              "  </thead>\n",
              "  <tbody>\n",
              "    <tr>\n",
              "      <th>0</th>\n",
              "      <td>0.034483</td>\n",
              "      <td>0.120690</td>\n",
              "      <td>0.043103</td>\n",
              "      <td>0.060345</td>\n",
              "      <td>0.051724</td>\n",
              "      <td>0.103448</td>\n",
              "      <td>0.017241</td>\n",
              "      <td>0.060345</td>\n",
              "      <td>0.094828</td>\n",
              "      <td>0.051724</td>\n",
              "      <td>...</td>\n",
              "      <td>0.043103</td>\n",
              "      <td>0.025862</td>\n",
              "      <td>0.017241</td>\n",
              "      <td>0.043103</td>\n",
              "      <td>0.060345</td>\n",
              "      <td>0.060345</td>\n",
              "      <td>0.068966</td>\n",
              "      <td>0.000000</td>\n",
              "      <td>0.017241</td>\n",
              "      <td>1</td>\n",
              "    </tr>\n",
              "    <tr>\n",
              "      <th>1</th>\n",
              "      <td>0.062762</td>\n",
              "      <td>0.050209</td>\n",
              "      <td>0.041841</td>\n",
              "      <td>0.083682</td>\n",
              "      <td>0.037657</td>\n",
              "      <td>0.087866</td>\n",
              "      <td>0.012552</td>\n",
              "      <td>0.037657</td>\n",
              "      <td>0.062762</td>\n",
              "      <td>0.071130</td>\n",
              "      <td>...</td>\n",
              "      <td>0.066946</td>\n",
              "      <td>0.025105</td>\n",
              "      <td>0.016736</td>\n",
              "      <td>0.066946</td>\n",
              "      <td>0.083682</td>\n",
              "      <td>0.054393</td>\n",
              "      <td>0.058577</td>\n",
              "      <td>0.008368</td>\n",
              "      <td>0.041841</td>\n",
              "      <td>1</td>\n",
              "    </tr>\n",
              "    <tr>\n",
              "      <th>2</th>\n",
              "      <td>0.084507</td>\n",
              "      <td>0.112676</td>\n",
              "      <td>0.028169</td>\n",
              "      <td>0.000000</td>\n",
              "      <td>0.000000</td>\n",
              "      <td>0.070423</td>\n",
              "      <td>0.014085</td>\n",
              "      <td>0.042254</td>\n",
              "      <td>0.098592</td>\n",
              "      <td>0.098592</td>\n",
              "      <td>...</td>\n",
              "      <td>0.014085</td>\n",
              "      <td>0.014085</td>\n",
              "      <td>0.028169</td>\n",
              "      <td>0.084507</td>\n",
              "      <td>0.098592</td>\n",
              "      <td>0.112676</td>\n",
              "      <td>0.042254</td>\n",
              "      <td>0.000000</td>\n",
              "      <td>0.014085</td>\n",
              "      <td>1</td>\n",
              "    </tr>\n",
              "    <tr>\n",
              "      <th>3</th>\n",
              "      <td>0.085714</td>\n",
              "      <td>0.114286</td>\n",
              "      <td>0.028571</td>\n",
              "      <td>0.014286</td>\n",
              "      <td>0.000000</td>\n",
              "      <td>0.057143</td>\n",
              "      <td>0.014286</td>\n",
              "      <td>0.028571</td>\n",
              "      <td>0.100000</td>\n",
              "      <td>0.128571</td>\n",
              "      <td>...</td>\n",
              "      <td>0.000000</td>\n",
              "      <td>0.014286</td>\n",
              "      <td>0.028571</td>\n",
              "      <td>0.085714</td>\n",
              "      <td>0.071429</td>\n",
              "      <td>0.114286</td>\n",
              "      <td>0.057143</td>\n",
              "      <td>0.000000</td>\n",
              "      <td>0.028571</td>\n",
              "      <td>1</td>\n",
              "    </tr>\n",
              "    <tr>\n",
              "      <th>4</th>\n",
              "      <td>0.085366</td>\n",
              "      <td>0.085366</td>\n",
              "      <td>0.073171</td>\n",
              "      <td>0.060976</td>\n",
              "      <td>0.109756</td>\n",
              "      <td>0.036585</td>\n",
              "      <td>0.000000</td>\n",
              "      <td>0.012195</td>\n",
              "      <td>0.073171</td>\n",
              "      <td>0.109756</td>\n",
              "      <td>...</td>\n",
              "      <td>0.036585</td>\n",
              "      <td>0.036585</td>\n",
              "      <td>0.012195</td>\n",
              "      <td>0.024390</td>\n",
              "      <td>0.060976</td>\n",
              "      <td>0.048780</td>\n",
              "      <td>0.036585</td>\n",
              "      <td>0.024390</td>\n",
              "      <td>0.012195</td>\n",
              "      <td>1</td>\n",
              "    </tr>\n",
              "    <tr>\n",
              "      <th>...</th>\n",
              "      <td>...</td>\n",
              "      <td>...</td>\n",
              "      <td>...</td>\n",
              "      <td>...</td>\n",
              "      <td>...</td>\n",
              "      <td>...</td>\n",
              "      <td>...</td>\n",
              "      <td>...</td>\n",
              "      <td>...</td>\n",
              "      <td>...</td>\n",
              "      <td>...</td>\n",
              "      <td>...</td>\n",
              "      <td>...</td>\n",
              "      <td>...</td>\n",
              "      <td>...</td>\n",
              "      <td>...</td>\n",
              "      <td>...</td>\n",
              "      <td>...</td>\n",
              "      <td>...</td>\n",
              "      <td>...</td>\n",
              "      <td>...</td>\n",
              "    </tr>\n",
              "    <tr>\n",
              "      <th>1296</th>\n",
              "      <td>0.037500</td>\n",
              "      <td>0.000000</td>\n",
              "      <td>0.025000</td>\n",
              "      <td>0.012500</td>\n",
              "      <td>0.100000</td>\n",
              "      <td>0.087500</td>\n",
              "      <td>0.037500</td>\n",
              "      <td>0.050000</td>\n",
              "      <td>0.050000</td>\n",
              "      <td>0.187500</td>\n",
              "      <td>...</td>\n",
              "      <td>0.050000</td>\n",
              "      <td>0.037500</td>\n",
              "      <td>0.050000</td>\n",
              "      <td>0.012500</td>\n",
              "      <td>0.050000</td>\n",
              "      <td>0.062500</td>\n",
              "      <td>0.087500</td>\n",
              "      <td>0.037500</td>\n",
              "      <td>0.012500</td>\n",
              "      <td>0</td>\n",
              "    </tr>\n",
              "    <tr>\n",
              "      <th>1297</th>\n",
              "      <td>0.036585</td>\n",
              "      <td>0.060976</td>\n",
              "      <td>0.012195</td>\n",
              "      <td>0.012195</td>\n",
              "      <td>0.097561</td>\n",
              "      <td>0.012195</td>\n",
              "      <td>0.048780</td>\n",
              "      <td>0.097561</td>\n",
              "      <td>0.036585</td>\n",
              "      <td>0.158537</td>\n",
              "      <td>...</td>\n",
              "      <td>0.060976</td>\n",
              "      <td>0.048780</td>\n",
              "      <td>0.060976</td>\n",
              "      <td>0.012195</td>\n",
              "      <td>0.036585</td>\n",
              "      <td>0.048780</td>\n",
              "      <td>0.048780</td>\n",
              "      <td>0.012195</td>\n",
              "      <td>0.085366</td>\n",
              "      <td>0</td>\n",
              "    </tr>\n",
              "    <tr>\n",
              "      <th>1298</th>\n",
              "      <td>0.072289</td>\n",
              "      <td>0.036145</td>\n",
              "      <td>0.060241</td>\n",
              "      <td>0.048193</td>\n",
              "      <td>0.024096</td>\n",
              "      <td>0.060241</td>\n",
              "      <td>0.024096</td>\n",
              "      <td>0.024096</td>\n",
              "      <td>0.048193</td>\n",
              "      <td>0.096386</td>\n",
              "      <td>...</td>\n",
              "      <td>0.048193</td>\n",
              "      <td>0.072289</td>\n",
              "      <td>0.096386</td>\n",
              "      <td>0.036145</td>\n",
              "      <td>0.072289</td>\n",
              "      <td>0.096386</td>\n",
              "      <td>0.012048</td>\n",
              "      <td>0.000000</td>\n",
              "      <td>0.036145</td>\n",
              "      <td>0</td>\n",
              "    </tr>\n",
              "    <tr>\n",
              "      <th>1299</th>\n",
              "      <td>0.141026</td>\n",
              "      <td>0.000000</td>\n",
              "      <td>0.038462</td>\n",
              "      <td>0.051282</td>\n",
              "      <td>0.025641</td>\n",
              "      <td>0.051282</td>\n",
              "      <td>0.000000</td>\n",
              "      <td>0.076923</td>\n",
              "      <td>0.025641</td>\n",
              "      <td>0.089744</td>\n",
              "      <td>...</td>\n",
              "      <td>0.051282</td>\n",
              "      <td>0.038462</td>\n",
              "      <td>0.064103</td>\n",
              "      <td>0.076923</td>\n",
              "      <td>0.115385</td>\n",
              "      <td>0.012821</td>\n",
              "      <td>0.064103</td>\n",
              "      <td>0.012821</td>\n",
              "      <td>0.012821</td>\n",
              "      <td>0</td>\n",
              "    </tr>\n",
              "    <tr>\n",
              "      <th>1300</th>\n",
              "      <td>0.035294</td>\n",
              "      <td>0.023529</td>\n",
              "      <td>0.035294</td>\n",
              "      <td>0.047059</td>\n",
              "      <td>0.035294</td>\n",
              "      <td>0.047059</td>\n",
              "      <td>0.011765</td>\n",
              "      <td>0.094118</td>\n",
              "      <td>0.035294</td>\n",
              "      <td>0.094118</td>\n",
              "      <td>...</td>\n",
              "      <td>0.105882</td>\n",
              "      <td>0.035294</td>\n",
              "      <td>0.082353</td>\n",
              "      <td>0.082353</td>\n",
              "      <td>0.058824</td>\n",
              "      <td>0.058824</td>\n",
              "      <td>0.011765</td>\n",
              "      <td>0.023529</td>\n",
              "      <td>0.070588</td>\n",
              "      <td>0</td>\n",
              "    </tr>\n",
              "  </tbody>\n",
              "</table>\n",
              "<p>1301 rows × 21 columns</p>\n",
              "</div>\n",
              "      <button class=\"colab-df-convert\" onclick=\"convertToInteractive('df-fbbf439d-044d-4025-8235-722ce75b21f4')\"\n",
              "              title=\"Convert this dataframe to an interactive table.\"\n",
              "              style=\"display:none;\">\n",
              "        \n",
              "  <svg xmlns=\"http://www.w3.org/2000/svg\" height=\"24px\"viewBox=\"0 0 24 24\"\n",
              "       width=\"24px\">\n",
              "    <path d=\"M0 0h24v24H0V0z\" fill=\"none\"/>\n",
              "    <path d=\"M18.56 5.44l.94 2.06.94-2.06 2.06-.94-2.06-.94-.94-2.06-.94 2.06-2.06.94zm-11 1L8.5 8.5l.94-2.06 2.06-.94-2.06-.94L8.5 2.5l-.94 2.06-2.06.94zm10 10l.94 2.06.94-2.06 2.06-.94-2.06-.94-.94-2.06-.94 2.06-2.06.94z\"/><path d=\"M17.41 7.96l-1.37-1.37c-.4-.4-.92-.59-1.43-.59-.52 0-1.04.2-1.43.59L10.3 9.45l-7.72 7.72c-.78.78-.78 2.05 0 2.83L4 21.41c.39.39.9.59 1.41.59.51 0 1.02-.2 1.41-.59l7.78-7.78 2.81-2.81c.8-.78.8-2.07 0-2.86zM5.41 20L4 18.59l7.72-7.72 1.47 1.35L5.41 20z\"/>\n",
              "  </svg>\n",
              "      </button>\n",
              "      \n",
              "  <style>\n",
              "    .colab-df-container {\n",
              "      display:flex;\n",
              "      flex-wrap:wrap;\n",
              "      gap: 12px;\n",
              "    }\n",
              "\n",
              "    .colab-df-convert {\n",
              "      background-color: #E8F0FE;\n",
              "      border: none;\n",
              "      border-radius: 50%;\n",
              "      cursor: pointer;\n",
              "      display: none;\n",
              "      fill: #1967D2;\n",
              "      height: 32px;\n",
              "      padding: 0 0 0 0;\n",
              "      width: 32px;\n",
              "    }\n",
              "\n",
              "    .colab-df-convert:hover {\n",
              "      background-color: #E2EBFA;\n",
              "      box-shadow: 0px 1px 2px rgba(60, 64, 67, 0.3), 0px 1px 3px 1px rgba(60, 64, 67, 0.15);\n",
              "      fill: #174EA6;\n",
              "    }\n",
              "\n",
              "    [theme=dark] .colab-df-convert {\n",
              "      background-color: #3B4455;\n",
              "      fill: #D2E3FC;\n",
              "    }\n",
              "\n",
              "    [theme=dark] .colab-df-convert:hover {\n",
              "      background-color: #434B5C;\n",
              "      box-shadow: 0px 1px 3px 1px rgba(0, 0, 0, 0.15);\n",
              "      filter: drop-shadow(0px 1px 2px rgba(0, 0, 0, 0.3));\n",
              "      fill: #FFFFFF;\n",
              "    }\n",
              "  </style>\n",
              "\n",
              "      <script>\n",
              "        const buttonEl =\n",
              "          document.querySelector('#df-fbbf439d-044d-4025-8235-722ce75b21f4 button.colab-df-convert');\n",
              "        buttonEl.style.display =\n",
              "          google.colab.kernel.accessAllowed ? 'block' : 'none';\n",
              "\n",
              "        async function convertToInteractive(key) {\n",
              "          const element = document.querySelector('#df-fbbf439d-044d-4025-8235-722ce75b21f4');\n",
              "          const dataTable =\n",
              "            await google.colab.kernel.invokeFunction('convertToInteractive',\n",
              "                                                     [key], {});\n",
              "          if (!dataTable) return;\n",
              "\n",
              "          const docLinkHtml = 'Like what you see? Visit the ' +\n",
              "            '<a target=\"_blank\" href=https://colab.research.google.com/notebooks/data_table.ipynb>data table notebook</a>'\n",
              "            + ' to learn more about interactive tables.';\n",
              "          element.innerHTML = '';\n",
              "          dataTable['output_type'] = 'display_data';\n",
              "          await google.colab.output.renderOutput(dataTable, element);\n",
              "          const docLink = document.createElement('div');\n",
              "          docLink.innerHTML = docLinkHtml;\n",
              "          element.appendChild(docLink);\n",
              "        }\n",
              "      </script>\n",
              "    </div>\n",
              "  </div>\n",
              "  "
            ]
          },
          "metadata": {},
          "execution_count": 30
        }
      ]
    },
    {
      "cell_type": "code",
      "source": [
        "#Split data into independent (X) and dependent(Y) columns\n",
        "\n",
        "y = df['Target'].values\n",
        "X = df.drop('Target', axis=1).values"
      ],
      "metadata": {
        "id": "NWj7BJbIWTLz"
      },
      "execution_count": 31,
      "outputs": []
    },
    {
      "cell_type": "code",
      "source": [
        "from sklearn.model_selection import train_test_split\n",
        "X_train, X_test, y_train, y_test = train_test_split(X, y, test_size = 0.05, random_state = 100)"
      ],
      "metadata": {
        "id": "dB87ePcBWXRu"
      },
      "execution_count": 32,
      "outputs": []
    },
    {
      "cell_type": "code",
      "source": [
        "### Feature scaling\n",
        "from sklearn.preprocessing import StandardScaler\n",
        "sc = StandardScaler()\n",
        "X_train = sc.fit_transform(X_train)\n",
        "X_test = sc.transform(X_test)"
      ],
      "metadata": {
        "id": "rm-soynBWbCo"
      },
      "execution_count": 33,
      "outputs": []
    },
    {
      "cell_type": "code",
      "source": [
        "### Feature scaling\n",
        "from sklearn.preprocessing import StandardScaler\n",
        "sc = StandardScaler()\n",
        "X_train = sc.fit_transform(X_train)\n",
        "X_test = sc.transform(X_test)"
      ],
      "metadata": {
        "id": "eAgppGktYzpw"
      },
      "execution_count": 34,
      "outputs": []
    },
    {
      "cell_type": "code",
      "source": [
        "from sklearn.svm import SVC\n",
        "classifier = SVC(kernel = 'linear', random_state = 100)"
      ],
      "metadata": {
        "id": "dTIK5upeWeGF"
      },
      "execution_count": 35,
      "outputs": []
    },
    {
      "cell_type": "code",
      "source": [
        "from sklearn.model_selection import cross_val_score\n",
        "accuracies = cross_val_score(estimator = classifier, X = X_train, y = y_train, cv = 10)\n",
        "print(\"Accuracy: {:.2f} %\".format(accuracies.mean()*100))\n",
        "print(\"Standard Deviation: {:.2f} %\".format(accuracies.std()*100))"
      ],
      "metadata": {
        "colab": {
          "base_uri": "https://localhost:8080/"
        },
        "id": "FmZnygvbWglv",
        "outputId": "b1f57a02-2a67-4ca4-9e03-a1d1c59a1d10"
      },
      "execution_count": 36,
      "outputs": [
        {
          "output_type": "stream",
          "name": "stdout",
          "text": [
            "Accuracy: 95.87 %\n",
            "Standard Deviation: 1.92 %\n"
          ]
        }
      ]
    },
    {
      "cell_type": "code",
      "source": [
        "from sklearn.model_selection import cross_val_predict\n",
        "from sklearn.metrics import confusion_matrix,accuracy_score\n",
        "y_pred = cross_val_predict(classifier, X_train, y_train, cv=5)\n",
        "cmann = confusion_matrix(y_train, y_pred)\n",
        "print(cmann)\n",
        "accuracy = (cmann[0][0]+cmann[1][1])/(cmann[0][1] + cmann[1][0] +cmann[0][0] +cmann[1][1]) \n",
        "print(accuracy*100)"
      ],
      "metadata": {
        "colab": {
          "base_uri": "https://localhost:8080/"
        },
        "id": "CQa5XsEoWjkF",
        "outputId": "a75dc86d-41fb-4dff-a18a-34b50e9861e7"
      },
      "execution_count": 9,
      "outputs": [
        {
          "output_type": "stream",
          "name": "stdout",
          "text": [
            "[[839  21]\n",
            " [ 21 159]]\n",
            "95.96153846153847\n"
          ]
        }
      ]
    },
    {
      "cell_type": "code",
      "source": [
        "from sklearn.metrics import roc_auc_score\n",
        "print(\"AUC = \",roc_auc_score(y_train,y_pred))"
      ],
      "metadata": {
        "colab": {
          "base_uri": "https://localhost:8080/"
        },
        "id": "VS0n6snVWn4n",
        "outputId": "7f74cb0b-29f4-4877-bb3a-5c0444d7fa2e"
      },
      "execution_count": 10,
      "outputs": [
        {
          "output_type": "stream",
          "name": "stdout",
          "text": [
            "AUC =  0.9294573643410853\n"
          ]
        }
      ]
    },
    {
      "cell_type": "code",
      "source": [
        "from sklearn.metrics import matthews_corrcoef,confusion_matrix\n",
        "matthews_corrcoef(y_train,y_pred)"
      ],
      "metadata": {
        "colab": {
          "base_uri": "https://localhost:8080/"
        },
        "id": "gPwQpGzgWrZP",
        "outputId": "9e42c3f2-1971-4738-e993-c3d9f2424645"
      },
      "execution_count": 11,
      "outputs": [
        {
          "output_type": "execute_result",
          "data": {
            "text/plain": [
              "0.8589147286821706"
            ]
          },
          "metadata": {},
          "execution_count": 11
        }
      ]
    },
    {
      "cell_type": "code",
      "source": [
        "TP = cmann[0][0]\n",
        "TN = cmann[1][1]\n",
        "FP = cmann[0][1]\n",
        "FN = cmann[1][0]\n",
        "print('True Positives:', TP)\n",
        "print('True Negatives:', TN)\n",
        "print('False Positives:', FP)\n",
        "print('False Negatives:', FN)"
      ],
      "metadata": {
        "colab": {
          "base_uri": "https://localhost:8080/"
        },
        "id": "zXMo49xFWtlQ",
        "outputId": "9d17ca9c-7faa-4289-e654-238021535ed6"
      },
      "execution_count": 12,
      "outputs": [
        {
          "output_type": "stream",
          "name": "stdout",
          "text": [
            "True Positives: 839\n",
            "True Negatives: 159\n",
            "False Positives: 21\n",
            "False Negatives: 21\n"
          ]
        }
      ]
    },
    {
      "cell_type": "code",
      "source": [
        "sensitivity=(TP/(TP+FN))\n",
        "sensitivity"
      ],
      "metadata": {
        "colab": {
          "base_uri": "https://localhost:8080/"
        },
        "id": "EHPOTr1OWw6U",
        "outputId": "d406edda-8ab0-4a61-d004-bfcbcdd6d19c"
      },
      "execution_count": 13,
      "outputs": [
        {
          "output_type": "execute_result",
          "data": {
            "text/plain": [
              "0.9755813953488373"
            ]
          },
          "metadata": {},
          "execution_count": 13
        }
      ]
    },
    {
      "cell_type": "code",
      "source": [
        "specificity = (TN/(TN+FP))\n",
        "specificity"
      ],
      "metadata": {
        "colab": {
          "base_uri": "https://localhost:8080/"
        },
        "id": "IMlIvVpBW0On",
        "outputId": "4f2323d1-561e-43b2-9dee-031808d6fb1b"
      },
      "execution_count": 14,
      "outputs": [
        {
          "output_type": "execute_result",
          "data": {
            "text/plain": [
              "0.8833333333333333"
            ]
          },
          "metadata": {},
          "execution_count": 14
        }
      ]
    },
    {
      "cell_type": "code",
      "source": [
        "precision = (TP/(TP+FP))\n",
        "recall = (TP/(TP+FN))\n",
        "print(precision)\n",
        "print(recall)"
      ],
      "metadata": {
        "colab": {
          "base_uri": "https://localhost:8080/"
        },
        "id": "Nlhs-ERmW3AX",
        "outputId": "00706de9-bbe8-4486-d7d5-4bdfd3839cfc"
      },
      "execution_count": 15,
      "outputs": [
        {
          "output_type": "stream",
          "name": "stdout",
          "text": [
            "0.9755813953488373\n",
            "0.9755813953488373\n"
          ]
        }
      ]
    },
    {
      "cell_type": "code",
      "source": [
        "f1 = (2*(precision*recall))/(precision+recall)\n",
        "f1"
      ],
      "metadata": {
        "colab": {
          "base_uri": "https://localhost:8080/"
        },
        "id": "E7POsWuSW5Po",
        "outputId": "97239620-69de-4d7e-c763-bff5ac58d5f9"
      },
      "execution_count": 16,
      "outputs": [
        {
          "output_type": "execute_result",
          "data": {
            "text/plain": [
              "0.9755813953488373"
            ]
          },
          "metadata": {},
          "execution_count": 16
        }
      ]
    },
    {
      "cell_type": "code",
      "source": [
        "## AUPR score\n",
        "from sklearn.metrics import average_precision_score\n",
        "average_precision_score(y_train,y_pred)"
      ],
      "metadata": {
        "colab": {
          "base_uri": "https://localhost:8080/"
        },
        "id": "CHtvvY8JW8wa",
        "outputId": "cd8ce5d2-2977-46b5-c2e2-d3235233c212"
      },
      "execution_count": 17,
      "outputs": [
        {
          "output_type": "execute_result",
          "data": {
            "text/plain": [
              "0.8004700854700855"
            ]
          },
          "metadata": {},
          "execution_count": 17
        }
      ]
    },
    {
      "cell_type": "code",
      "source": [
        ""
      ],
      "metadata": {
        "id": "iF-TgD_3W_NA"
      },
      "execution_count": null,
      "outputs": []
    }
  ]
}