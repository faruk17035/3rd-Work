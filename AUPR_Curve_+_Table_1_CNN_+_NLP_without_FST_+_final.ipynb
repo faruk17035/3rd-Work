{
  "nbformat": 4,
  "nbformat_minor": 0,
  "metadata": {
    "colab": {
      "name": "AUPR Curve + Table 1 - CNN + NLP without FST + final.ipynb",
      "provenance": [],
      "include_colab_link": true
    },
    "kernelspec": {
      "name": "python3",
      "display_name": "Python 3"
    },
    "language_info": {
      "name": "python"
    },
    "accelerator": "GPU"
  },
  "cells": [
    {
      "cell_type": "markdown",
      "metadata": {
        "id": "view-in-github",
        "colab_type": "text"
      },
      "source": [
        "<a href=\"https://colab.research.google.com/github/faruk17035/3rd-Work/blob/main/AUPR_Curve_%2B_Table_1_CNN_%2B_NLP_without_FST_%2B_final.ipynb\" target=\"_parent\"><img src=\"https://colab.research.google.com/assets/colab-badge.svg\" alt=\"Open In Colab\"/></a>"
      ]
    },
    {
      "cell_type": "code",
      "execution_count": 1,
      "metadata": {
        "id": "916Au-1BVeIG"
      },
      "outputs": [],
      "source": [
        "import numpy as np\n",
        "import matplotlib.pyplot as plt\n",
        "import pandas as pd"
      ]
    },
    {
      "cell_type": "code",
      "source": [
        "from google.colab import drive \n",
        "drive.mount('/content/gdrive')\n"
      ],
      "metadata": {
        "colab": {
          "base_uri": "https://localhost:8080/"
        },
        "id": "L7oz46chW5SY",
        "outputId": "c7e42421-cf0d-4178-e901-4f60f687c8e2"
      },
      "execution_count": 2,
      "outputs": [
        {
          "output_type": "stream",
          "name": "stdout",
          "text": [
            "Mounted at /content/gdrive\n"
          ]
        }
      ]
    },
    {
      "cell_type": "markdown",
      "source": [
        "## 1. Golve"
      ],
      "metadata": {
        "id": "URmOYWMSZcw7"
      }
    },
    {
      "cell_type": "code",
      "source": [
        "import pandas as pd\n",
        "from pandas import read_excel\n",
        "file_name = '/content/gdrive/MyDrive/Gloveallghor.csv'\n",
        "# Glove3decimal.csv\n",
        "# Gloveallghor.csv \n",
        "df = pd.read_csv(file_name, index_col=0)\n",
        "#df = pd.read_csv(file_name)\n",
        "#print(df.head()) # print the first 5 rows\n",
        "df"
      ],
      "metadata": {
        "colab": {
          "base_uri": "https://localhost:8080/",
          "height": 519
        },
        "id": "JoEI4QMjXGHx",
        "outputId": "1d34942f-521d-4198-cd22-8b74c44089f1"
      },
      "execution_count": 3,
      "outputs": [
        {
          "output_type": "execute_result",
          "data": {
            "text/plain": [
              "               tpc1      tpc2      tpc3      tpc4      tpc5      tpc6  \\\n",
              "tpc0                                                                    \n",
              "-0.000004 -0.026288  0.057258  0.045387  0.079776 -0.019956  0.033242   \n",
              "-0.052125  0.002777  0.055245  0.073139  0.070794 -0.026946 -0.014475   \n",
              "-0.036938 -0.040373  0.074364  0.029228  0.067112 -0.032641 -0.002931   \n",
              "-0.007257 -0.031773  0.035037  0.055648  0.086997 -0.015932  0.028711   \n",
              " 0.035118 -0.039462  0.075805  0.013093  0.086463 -0.017675  0.045797   \n",
              "...             ...       ...       ...       ...       ...       ...   \n",
              "-0.024084 -0.038977  0.045345  0.050300  0.088356 -0.036006  0.004999   \n",
              "-0.040395 -0.015846  0.046104  0.063116  0.076066 -0.020300 -0.006292   \n",
              "-0.021230 -0.021154  0.059532  0.041542  0.066579 -0.030356  0.008117   \n",
              "-0.011558 -0.019526  0.055057  0.040428  0.078160 -0.015140  0.015938   \n",
              "-0.048000 -0.024602  0.039493  0.046793  0.084796 -0.022024  0.030557   \n",
              "\n",
              "               tpc7      tpc8      tpc9     tpc10  ...    tpc503    tpc504  \\\n",
              "tpc0                                               ...                       \n",
              "-0.000004 -0.010070 -0.022720 -0.029812  0.060112  ...  0.034153 -0.028236   \n",
              "-0.052125 -0.006685 -0.027041 -0.023399  0.123481  ...  0.035826 -0.019969   \n",
              "-0.036938 -0.028603 -0.010675 -0.028728  0.091884  ...  0.027479 -0.015310   \n",
              "-0.007257 -0.005803 -0.021357 -0.030503  0.068238  ...  0.037971 -0.036039   \n",
              " 0.035118 -0.019397 -0.026522 -0.008347  0.045341  ...  0.012862 -0.017681   \n",
              "...             ...       ...       ...       ...  ...       ...       ...   \n",
              "-0.024084 -0.015416 -0.018522 -0.023612  0.077028  ...  0.035764 -0.030800   \n",
              "-0.040395  0.003073 -0.015343 -0.005723  0.105389  ...  0.036054 -0.019750   \n",
              "-0.021230 -0.009785 -0.013954 -0.015007  0.094058  ...  0.029697 -0.020232   \n",
              "-0.011558 -0.008062  0.001450 -0.020774  0.075814  ...  0.039605 -0.026920   \n",
              "-0.048000 -0.014954 -0.008104 -0.018897  0.093376  ...  0.028596 -0.026300   \n",
              "\n",
              "             tpc505    tpc506    tpc507    tpc508    tpc509    tpc510  \\\n",
              "tpc0                                                                    \n",
              "-0.000004  0.067696 -0.096331  0.025590  0.039283 -0.050542  0.122821   \n",
              "-0.052125  0.041198 -0.089281  0.003722  0.021992 -0.056355  0.113405   \n",
              "-0.036938  0.053065 -0.039859  0.043501  0.054468 -0.056376  0.150060   \n",
              "-0.007257  0.087234 -0.085197  0.009901  0.028044 -0.068661  0.123129   \n",
              " 0.035118  0.083901 -0.106877  0.073434  0.078891 -0.050987  0.136574   \n",
              "...             ...       ...       ...       ...       ...       ...   \n",
              "-0.024084  0.053166 -0.087982  0.036373  0.044850 -0.048145  0.133063   \n",
              "-0.040395  0.043185 -0.082701  0.003797  0.002908 -0.049733  0.128894   \n",
              "-0.021230  0.058662 -0.077783  0.034834  0.037907 -0.061262  0.119205   \n",
              "-0.011558  0.071995 -0.083947  0.026094  0.040602 -0.062820  0.153210   \n",
              "-0.048000  0.062159 -0.085314  0.010173  0.034104 -0.051234  0.124544   \n",
              "\n",
              "             tpc511  Target  \n",
              "tpc0                         \n",
              "-0.000004 -0.076334       0  \n",
              "-0.052125 -0.034552       1  \n",
              "-0.036938 -0.062847       0  \n",
              "-0.007257 -0.058323       0  \n",
              " 0.035118 -0.083851       1  \n",
              "...             ...     ...  \n",
              "-0.024084 -0.077309       1  \n",
              "-0.040395 -0.050292       1  \n",
              "-0.021230 -0.055102       1  \n",
              "-0.011558 -0.068933       1  \n",
              "-0.048000 -0.066235       1  \n",
              "\n",
              "[2104 rows x 512 columns]"
            ],
            "text/html": [
              "\n",
              "  <div id=\"df-9f509098-04df-4dbb-b0a5-8239e6e17d25\">\n",
              "    <div class=\"colab-df-container\">\n",
              "      <div>\n",
              "<style scoped>\n",
              "    .dataframe tbody tr th:only-of-type {\n",
              "        vertical-align: middle;\n",
              "    }\n",
              "\n",
              "    .dataframe tbody tr th {\n",
              "        vertical-align: top;\n",
              "    }\n",
              "\n",
              "    .dataframe thead th {\n",
              "        text-align: right;\n",
              "    }\n",
              "</style>\n",
              "<table border=\"1\" class=\"dataframe\">\n",
              "  <thead>\n",
              "    <tr style=\"text-align: right;\">\n",
              "      <th></th>\n",
              "      <th>tpc1</th>\n",
              "      <th>tpc2</th>\n",
              "      <th>tpc3</th>\n",
              "      <th>tpc4</th>\n",
              "      <th>tpc5</th>\n",
              "      <th>tpc6</th>\n",
              "      <th>tpc7</th>\n",
              "      <th>tpc8</th>\n",
              "      <th>tpc9</th>\n",
              "      <th>tpc10</th>\n",
              "      <th>...</th>\n",
              "      <th>tpc503</th>\n",
              "      <th>tpc504</th>\n",
              "      <th>tpc505</th>\n",
              "      <th>tpc506</th>\n",
              "      <th>tpc507</th>\n",
              "      <th>tpc508</th>\n",
              "      <th>tpc509</th>\n",
              "      <th>tpc510</th>\n",
              "      <th>tpc511</th>\n",
              "      <th>Target</th>\n",
              "    </tr>\n",
              "    <tr>\n",
              "      <th>tpc0</th>\n",
              "      <th></th>\n",
              "      <th></th>\n",
              "      <th></th>\n",
              "      <th></th>\n",
              "      <th></th>\n",
              "      <th></th>\n",
              "      <th></th>\n",
              "      <th></th>\n",
              "      <th></th>\n",
              "      <th></th>\n",
              "      <th></th>\n",
              "      <th></th>\n",
              "      <th></th>\n",
              "      <th></th>\n",
              "      <th></th>\n",
              "      <th></th>\n",
              "      <th></th>\n",
              "      <th></th>\n",
              "      <th></th>\n",
              "      <th></th>\n",
              "      <th></th>\n",
              "    </tr>\n",
              "  </thead>\n",
              "  <tbody>\n",
              "    <tr>\n",
              "      <th>-0.000004</th>\n",
              "      <td>-0.026288</td>\n",
              "      <td>0.057258</td>\n",
              "      <td>0.045387</td>\n",
              "      <td>0.079776</td>\n",
              "      <td>-0.019956</td>\n",
              "      <td>0.033242</td>\n",
              "      <td>-0.010070</td>\n",
              "      <td>-0.022720</td>\n",
              "      <td>-0.029812</td>\n",
              "      <td>0.060112</td>\n",
              "      <td>...</td>\n",
              "      <td>0.034153</td>\n",
              "      <td>-0.028236</td>\n",
              "      <td>0.067696</td>\n",
              "      <td>-0.096331</td>\n",
              "      <td>0.025590</td>\n",
              "      <td>0.039283</td>\n",
              "      <td>-0.050542</td>\n",
              "      <td>0.122821</td>\n",
              "      <td>-0.076334</td>\n",
              "      <td>0</td>\n",
              "    </tr>\n",
              "    <tr>\n",
              "      <th>-0.052125</th>\n",
              "      <td>0.002777</td>\n",
              "      <td>0.055245</td>\n",
              "      <td>0.073139</td>\n",
              "      <td>0.070794</td>\n",
              "      <td>-0.026946</td>\n",
              "      <td>-0.014475</td>\n",
              "      <td>-0.006685</td>\n",
              "      <td>-0.027041</td>\n",
              "      <td>-0.023399</td>\n",
              "      <td>0.123481</td>\n",
              "      <td>...</td>\n",
              "      <td>0.035826</td>\n",
              "      <td>-0.019969</td>\n",
              "      <td>0.041198</td>\n",
              "      <td>-0.089281</td>\n",
              "      <td>0.003722</td>\n",
              "      <td>0.021992</td>\n",
              "      <td>-0.056355</td>\n",
              "      <td>0.113405</td>\n",
              "      <td>-0.034552</td>\n",
              "      <td>1</td>\n",
              "    </tr>\n",
              "    <tr>\n",
              "      <th>-0.036938</th>\n",
              "      <td>-0.040373</td>\n",
              "      <td>0.074364</td>\n",
              "      <td>0.029228</td>\n",
              "      <td>0.067112</td>\n",
              "      <td>-0.032641</td>\n",
              "      <td>-0.002931</td>\n",
              "      <td>-0.028603</td>\n",
              "      <td>-0.010675</td>\n",
              "      <td>-0.028728</td>\n",
              "      <td>0.091884</td>\n",
              "      <td>...</td>\n",
              "      <td>0.027479</td>\n",
              "      <td>-0.015310</td>\n",
              "      <td>0.053065</td>\n",
              "      <td>-0.039859</td>\n",
              "      <td>0.043501</td>\n",
              "      <td>0.054468</td>\n",
              "      <td>-0.056376</td>\n",
              "      <td>0.150060</td>\n",
              "      <td>-0.062847</td>\n",
              "      <td>0</td>\n",
              "    </tr>\n",
              "    <tr>\n",
              "      <th>-0.007257</th>\n",
              "      <td>-0.031773</td>\n",
              "      <td>0.035037</td>\n",
              "      <td>0.055648</td>\n",
              "      <td>0.086997</td>\n",
              "      <td>-0.015932</td>\n",
              "      <td>0.028711</td>\n",
              "      <td>-0.005803</td>\n",
              "      <td>-0.021357</td>\n",
              "      <td>-0.030503</td>\n",
              "      <td>0.068238</td>\n",
              "      <td>...</td>\n",
              "      <td>0.037971</td>\n",
              "      <td>-0.036039</td>\n",
              "      <td>0.087234</td>\n",
              "      <td>-0.085197</td>\n",
              "      <td>0.009901</td>\n",
              "      <td>0.028044</td>\n",
              "      <td>-0.068661</td>\n",
              "      <td>0.123129</td>\n",
              "      <td>-0.058323</td>\n",
              "      <td>0</td>\n",
              "    </tr>\n",
              "    <tr>\n",
              "      <th>0.035118</th>\n",
              "      <td>-0.039462</td>\n",
              "      <td>0.075805</td>\n",
              "      <td>0.013093</td>\n",
              "      <td>0.086463</td>\n",
              "      <td>-0.017675</td>\n",
              "      <td>0.045797</td>\n",
              "      <td>-0.019397</td>\n",
              "      <td>-0.026522</td>\n",
              "      <td>-0.008347</td>\n",
              "      <td>0.045341</td>\n",
              "      <td>...</td>\n",
              "      <td>0.012862</td>\n",
              "      <td>-0.017681</td>\n",
              "      <td>0.083901</td>\n",
              "      <td>-0.106877</td>\n",
              "      <td>0.073434</td>\n",
              "      <td>0.078891</td>\n",
              "      <td>-0.050987</td>\n",
              "      <td>0.136574</td>\n",
              "      <td>-0.083851</td>\n",
              "      <td>1</td>\n",
              "    </tr>\n",
              "    <tr>\n",
              "      <th>...</th>\n",
              "      <td>...</td>\n",
              "      <td>...</td>\n",
              "      <td>...</td>\n",
              "      <td>...</td>\n",
              "      <td>...</td>\n",
              "      <td>...</td>\n",
              "      <td>...</td>\n",
              "      <td>...</td>\n",
              "      <td>...</td>\n",
              "      <td>...</td>\n",
              "      <td>...</td>\n",
              "      <td>...</td>\n",
              "      <td>...</td>\n",
              "      <td>...</td>\n",
              "      <td>...</td>\n",
              "      <td>...</td>\n",
              "      <td>...</td>\n",
              "      <td>...</td>\n",
              "      <td>...</td>\n",
              "      <td>...</td>\n",
              "      <td>...</td>\n",
              "    </tr>\n",
              "    <tr>\n",
              "      <th>-0.024084</th>\n",
              "      <td>-0.038977</td>\n",
              "      <td>0.045345</td>\n",
              "      <td>0.050300</td>\n",
              "      <td>0.088356</td>\n",
              "      <td>-0.036006</td>\n",
              "      <td>0.004999</td>\n",
              "      <td>-0.015416</td>\n",
              "      <td>-0.018522</td>\n",
              "      <td>-0.023612</td>\n",
              "      <td>0.077028</td>\n",
              "      <td>...</td>\n",
              "      <td>0.035764</td>\n",
              "      <td>-0.030800</td>\n",
              "      <td>0.053166</td>\n",
              "      <td>-0.087982</td>\n",
              "      <td>0.036373</td>\n",
              "      <td>0.044850</td>\n",
              "      <td>-0.048145</td>\n",
              "      <td>0.133063</td>\n",
              "      <td>-0.077309</td>\n",
              "      <td>1</td>\n",
              "    </tr>\n",
              "    <tr>\n",
              "      <th>-0.040395</th>\n",
              "      <td>-0.015846</td>\n",
              "      <td>0.046104</td>\n",
              "      <td>0.063116</td>\n",
              "      <td>0.076066</td>\n",
              "      <td>-0.020300</td>\n",
              "      <td>-0.006292</td>\n",
              "      <td>0.003073</td>\n",
              "      <td>-0.015343</td>\n",
              "      <td>-0.005723</td>\n",
              "      <td>0.105389</td>\n",
              "      <td>...</td>\n",
              "      <td>0.036054</td>\n",
              "      <td>-0.019750</td>\n",
              "      <td>0.043185</td>\n",
              "      <td>-0.082701</td>\n",
              "      <td>0.003797</td>\n",
              "      <td>0.002908</td>\n",
              "      <td>-0.049733</td>\n",
              "      <td>0.128894</td>\n",
              "      <td>-0.050292</td>\n",
              "      <td>1</td>\n",
              "    </tr>\n",
              "    <tr>\n",
              "      <th>-0.021230</th>\n",
              "      <td>-0.021154</td>\n",
              "      <td>0.059532</td>\n",
              "      <td>0.041542</td>\n",
              "      <td>0.066579</td>\n",
              "      <td>-0.030356</td>\n",
              "      <td>0.008117</td>\n",
              "      <td>-0.009785</td>\n",
              "      <td>-0.013954</td>\n",
              "      <td>-0.015007</td>\n",
              "      <td>0.094058</td>\n",
              "      <td>...</td>\n",
              "      <td>0.029697</td>\n",
              "      <td>-0.020232</td>\n",
              "      <td>0.058662</td>\n",
              "      <td>-0.077783</td>\n",
              "      <td>0.034834</td>\n",
              "      <td>0.037907</td>\n",
              "      <td>-0.061262</td>\n",
              "      <td>0.119205</td>\n",
              "      <td>-0.055102</td>\n",
              "      <td>1</td>\n",
              "    </tr>\n",
              "    <tr>\n",
              "      <th>-0.011558</th>\n",
              "      <td>-0.019526</td>\n",
              "      <td>0.055057</td>\n",
              "      <td>0.040428</td>\n",
              "      <td>0.078160</td>\n",
              "      <td>-0.015140</td>\n",
              "      <td>0.015938</td>\n",
              "      <td>-0.008062</td>\n",
              "      <td>0.001450</td>\n",
              "      <td>-0.020774</td>\n",
              "      <td>0.075814</td>\n",
              "      <td>...</td>\n",
              "      <td>0.039605</td>\n",
              "      <td>-0.026920</td>\n",
              "      <td>0.071995</td>\n",
              "      <td>-0.083947</td>\n",
              "      <td>0.026094</td>\n",
              "      <td>0.040602</td>\n",
              "      <td>-0.062820</td>\n",
              "      <td>0.153210</td>\n",
              "      <td>-0.068933</td>\n",
              "      <td>1</td>\n",
              "    </tr>\n",
              "    <tr>\n",
              "      <th>-0.048000</th>\n",
              "      <td>-0.024602</td>\n",
              "      <td>0.039493</td>\n",
              "      <td>0.046793</td>\n",
              "      <td>0.084796</td>\n",
              "      <td>-0.022024</td>\n",
              "      <td>0.030557</td>\n",
              "      <td>-0.014954</td>\n",
              "      <td>-0.008104</td>\n",
              "      <td>-0.018897</td>\n",
              "      <td>0.093376</td>\n",
              "      <td>...</td>\n",
              "      <td>0.028596</td>\n",
              "      <td>-0.026300</td>\n",
              "      <td>0.062159</td>\n",
              "      <td>-0.085314</td>\n",
              "      <td>0.010173</td>\n",
              "      <td>0.034104</td>\n",
              "      <td>-0.051234</td>\n",
              "      <td>0.124544</td>\n",
              "      <td>-0.066235</td>\n",
              "      <td>1</td>\n",
              "    </tr>\n",
              "  </tbody>\n",
              "</table>\n",
              "<p>2104 rows × 512 columns</p>\n",
              "</div>\n",
              "      <button class=\"colab-df-convert\" onclick=\"convertToInteractive('df-9f509098-04df-4dbb-b0a5-8239e6e17d25')\"\n",
              "              title=\"Convert this dataframe to an interactive table.\"\n",
              "              style=\"display:none;\">\n",
              "        \n",
              "  <svg xmlns=\"http://www.w3.org/2000/svg\" height=\"24px\"viewBox=\"0 0 24 24\"\n",
              "       width=\"24px\">\n",
              "    <path d=\"M0 0h24v24H0V0z\" fill=\"none\"/>\n",
              "    <path d=\"M18.56 5.44l.94 2.06.94-2.06 2.06-.94-2.06-.94-.94-2.06-.94 2.06-2.06.94zm-11 1L8.5 8.5l.94-2.06 2.06-.94-2.06-.94L8.5 2.5l-.94 2.06-2.06.94zm10 10l.94 2.06.94-2.06 2.06-.94-2.06-.94-.94-2.06-.94 2.06-2.06.94z\"/><path d=\"M17.41 7.96l-1.37-1.37c-.4-.4-.92-.59-1.43-.59-.52 0-1.04.2-1.43.59L10.3 9.45l-7.72 7.72c-.78.78-.78 2.05 0 2.83L4 21.41c.39.39.9.59 1.41.59.51 0 1.02-.2 1.41-.59l7.78-7.78 2.81-2.81c.8-.78.8-2.07 0-2.86zM5.41 20L4 18.59l7.72-7.72 1.47 1.35L5.41 20z\"/>\n",
              "  </svg>\n",
              "      </button>\n",
              "      \n",
              "  <style>\n",
              "    .colab-df-container {\n",
              "      display:flex;\n",
              "      flex-wrap:wrap;\n",
              "      gap: 12px;\n",
              "    }\n",
              "\n",
              "    .colab-df-convert {\n",
              "      background-color: #E8F0FE;\n",
              "      border: none;\n",
              "      border-radius: 50%;\n",
              "      cursor: pointer;\n",
              "      display: none;\n",
              "      fill: #1967D2;\n",
              "      height: 32px;\n",
              "      padding: 0 0 0 0;\n",
              "      width: 32px;\n",
              "    }\n",
              "\n",
              "    .colab-df-convert:hover {\n",
              "      background-color: #E2EBFA;\n",
              "      box-shadow: 0px 1px 2px rgba(60, 64, 67, 0.3), 0px 1px 3px 1px rgba(60, 64, 67, 0.15);\n",
              "      fill: #174EA6;\n",
              "    }\n",
              "\n",
              "    [theme=dark] .colab-df-convert {\n",
              "      background-color: #3B4455;\n",
              "      fill: #D2E3FC;\n",
              "    }\n",
              "\n",
              "    [theme=dark] .colab-df-convert:hover {\n",
              "      background-color: #434B5C;\n",
              "      box-shadow: 0px 1px 3px 1px rgba(0, 0, 0, 0.15);\n",
              "      filter: drop-shadow(0px 1px 2px rgba(0, 0, 0, 0.3));\n",
              "      fill: #FFFFFF;\n",
              "    }\n",
              "  </style>\n",
              "\n",
              "      <script>\n",
              "        const buttonEl =\n",
              "          document.querySelector('#df-9f509098-04df-4dbb-b0a5-8239e6e17d25 button.colab-df-convert');\n",
              "        buttonEl.style.display =\n",
              "          google.colab.kernel.accessAllowed ? 'block' : 'none';\n",
              "\n",
              "        async function convertToInteractive(key) {\n",
              "          const element = document.querySelector('#df-9f509098-04df-4dbb-b0a5-8239e6e17d25');\n",
              "          const dataTable =\n",
              "            await google.colab.kernel.invokeFunction('convertToInteractive',\n",
              "                                                     [key], {});\n",
              "          if (!dataTable) return;\n",
              "\n",
              "          const docLinkHtml = 'Like what you see? Visit the ' +\n",
              "            '<a target=\"_blank\" href=https://colab.research.google.com/notebooks/data_table.ipynb>data table notebook</a>'\n",
              "            + ' to learn more about interactive tables.';\n",
              "          element.innerHTML = '';\n",
              "          dataTable['output_type'] = 'display_data';\n",
              "          await google.colab.output.renderOutput(dataTable, element);\n",
              "          const docLink = document.createElement('div');\n",
              "          docLink.innerHTML = docLinkHtml;\n",
              "          element.appendChild(docLink);\n",
              "        }\n",
              "      </script>\n",
              "    </div>\n",
              "  </div>\n",
              "  "
            ]
          },
          "metadata": {},
          "execution_count": 3
        }
      ]
    },
    {
      "cell_type": "code",
      "source": [
        "df.shape"
      ],
      "metadata": {
        "colab": {
          "base_uri": "https://localhost:8080/"
        },
        "id": "QKQfCWyRZgQQ",
        "outputId": "63c010df-809d-428f-d5a5-f93f8834e8a4"
      },
      "execution_count": 4,
      "outputs": [
        {
          "output_type": "execute_result",
          "data": {
            "text/plain": [
              "(2104, 512)"
            ]
          },
          "metadata": {},
          "execution_count": 4
        }
      ]
    },
    {
      "cell_type": "code",
      "source": [
        "features = np.array(df.columns[:-1])\n",
        "target = 'Target'"
      ],
      "metadata": {
        "id": "ttajK_uSZjMV"
      },
      "execution_count": 5,
      "outputs": []
    },
    {
      "cell_type": "code",
      "source": [
        "X = df[features]\n",
        "y = df[target]"
      ],
      "metadata": {
        "id": "WqDD1v8dZlA7"
      },
      "execution_count": 6,
      "outputs": []
    },
    {
      "cell_type": "code",
      "source": [
        "#Create independent and Dependent Features\n",
        "columns = df.columns.tolist()\n",
        "# Filter the columns to remove data we do not want \n",
        "columns = [c for c in columns if c not in [\"Target\"]]\n",
        "# Store the variable we are predicting \n",
        "target = \"Target\"\n",
        "# Define a random state \n",
        "state = np.random.RandomState(0)\n",
        "X = X\n",
        "y = y\n",
        "X_outliers = state.uniform(low=0, high=1, size=(X.shape[0], X.shape[1]))\n",
        "# Print the shapes of X & Y\n",
        "print(X.shape)\n",
        "print(y.shape)"
      ],
      "metadata": {
        "colab": {
          "base_uri": "https://localhost:8080/"
        },
        "id": "e8m678EFZm7u",
        "outputId": "52d684ad-dbe0-4dda-de44-5582205cf165"
      },
      "execution_count": 7,
      "outputs": [
        {
          "output_type": "stream",
          "name": "stdout",
          "text": [
            "(2104, 511)\n",
            "(2104,)\n"
          ]
        }
      ]
    },
    {
      "cell_type": "code",
      "source": [
        "count_classes = pd.value_counts(y, sort = True)\n",
        "\n",
        "count_classes.plot(kind = 'bar', rot=0)\n",
        "\n",
        "plt.title(\"Class Distribution\")\n",
        "\n",
        "LABELS = [\"Zero\", \"One\"]\n",
        "\n",
        "plt.xticks(range(2), LABELS)\n",
        "\n",
        "plt.xlabel(\"Class\")\n",
        "\n",
        "plt.ylabel(\"Frequency\")"
      ],
      "metadata": {
        "colab": {
          "base_uri": "https://localhost:8080/",
          "height": 312
        },
        "id": "VrAbV7s9Zp2q",
        "outputId": "caa3e9af-c3f9-479c-ea91-f30b4aa9da2f"
      },
      "execution_count": 8,
      "outputs": [
        {
          "output_type": "execute_result",
          "data": {
            "text/plain": [
              "Text(0, 0.5, 'Frequency')"
            ]
          },
          "metadata": {},
          "execution_count": 8
        },
        {
          "output_type": "display_data",
          "data": {
            "text/plain": [
              "<Figure size 432x288 with 1 Axes>"
            ],
            "image/png": "[encoded data removed]"
          },
          "metadata": {
            "needs_background": "light"
          }
        }
      ]
    },
    {
      "cell_type": "code",
      "source": [
        "One = df[y==1]\n",
        "\n",
        "Zero = df[y==0]\n",
        "\n",
        "print(Zero.shape,One.shape)"
      ],
      "metadata": {
        "colab": {
          "base_uri": "https://localhost:8080/"
        },
        "id": "08nYWec1Zu_N",
        "outputId": "b10cfbc3-73e5-43d8-a0f5-014dbac1d5f0"
      },
      "execution_count": 9,
      "outputs": [
        {
          "output_type": "stream",
          "name": "stdout",
          "text": [
            "(1041, 512) (1063, 512)\n"
          ]
        }
      ]
    },
    {
      "cell_type": "code",
      "source": [
        "from imblearn.over_sampling import SMOTE\n",
        "sm = SMOTE(sampling_strategy='minority')\n",
        "X_res,y_res=sm.fit_resample(X,y)"
      ],
      "metadata": {
        "id": "eHKhPNqQZxkA"
      },
      "execution_count": 10,
      "outputs": []
    },
    {
      "cell_type": "code",
      "source": [
        "print(X_res.shape)\n",
        "print(y_res.shape)"
      ],
      "metadata": {
        "colab": {
          "base_uri": "https://localhost:8080/"
        },
        "id": "r8O_a06HZz3a",
        "outputId": "4c8f312e-f567-4741-c896-dc24bbb37473"
      },
      "execution_count": 11,
      "outputs": [
        {
          "output_type": "stream",
          "name": "stdout",
          "text": [
            "(2126, 511)\n",
            "(2126,)\n"
          ]
        }
      ]
    },
    {
      "cell_type": "code",
      "source": [
        "#Split data into independent (X) and dependent(Y) columns\n",
        "\n",
        "y = y_res\n",
        "X = X_res"
      ],
      "metadata": {
        "id": "BgpZaIucZ5i5"
      },
      "execution_count": 12,
      "outputs": []
    },
    {
      "cell_type": "code",
      "source": [
        "X.shape"
      ],
      "metadata": {
        "colab": {
          "base_uri": "https://localhost:8080/"
        },
        "id": "SH3no0p2Z86J",
        "outputId": "bc7c3806-03a8-4d90-cb3e-fb7806d72360"
      },
      "execution_count": 13,
      "outputs": [
        {
          "output_type": "execute_result",
          "data": {
            "text/plain": [
              "(2126, 511)"
            ]
          },
          "metadata": {},
          "execution_count": 13
        }
      ]
    },
    {
      "cell_type": "code",
      "source": [
        "from sklearn.model_selection import train_test_split\n",
        "X_train, X_test, y_train, y_test = train_test_split(X, y, test_size = 0.20, random_state = 50)"
      ],
      "metadata": {
        "id": "glE5-olpZ_nk"
      },
      "execution_count": 14,
      "outputs": []
    },
    {
      "cell_type": "code",
      "source": [
        "print(X_train.shape)\n",
        "print(X_test.shape)"
      ],
      "metadata": {
        "colab": {
          "base_uri": "https://localhost:8080/"
        },
        "id": "TBS1TEphaCMp",
        "outputId": "cc68d030-a466-4ca4-8e5d-367312dbea46"
      },
      "execution_count": 15,
      "outputs": [
        {
          "output_type": "stream",
          "name": "stdout",
          "text": [
            "(1700, 511)\n",
            "(426, 511)\n"
          ]
        }
      ]
    },
    {
      "cell_type": "code",
      "source": [
        "import numpy as np\n",
        "import pandas as pd\n",
        "import tensorflow as tf\n",
        "from tensorflow import keras\n",
        "from tensorflow.keras import Sequential\n",
        "from tensorflow.keras.layers import Flatten, Dense, Dropout, BatchNormalization\n",
        "from tensorflow.keras.layers import Conv1D, MaxPool1D\n",
        "\n",
        "from tensorflow.keras.optimizers import Adam\n",
        "\n",
        "import  seaborn as sns\n",
        "import matplotlib.pyplot as plt\n",
        "from sklearn import datasets, metrics\n",
        "from sklearn.model_selection import train_test_split\n",
        "from sklearn.preprocessing import StandardScaler"
      ],
      "metadata": {
        "id": "2N1JhOTlbHlC"
      },
      "execution_count": 16,
      "outputs": []
    },
    {
      "cell_type": "code",
      "source": [
        "scaler = StandardScaler()\n",
        "X_train = scaler.fit_transform(X_train)\n",
        "X_test = scaler.transform(X_test)"
      ],
      "metadata": {
        "id": "VcQ4CaA3bL1j"
      },
      "execution_count": 17,
      "outputs": []
    },
    {
      "cell_type": "code",
      "source": [
        "X_train = X_train.reshape(1700, 511,1)\n",
        "X_test = X_test.reshape(426, 511, 1)"
      ],
      "metadata": {
        "id": "simw7iRLbO1Y"
      },
      "execution_count": 18,
      "outputs": []
    },
    {
      "cell_type": "code",
      "source": [
        "epochs = 50\n",
        "model = Sequential()\n",
        "model.add(Conv1D(filters=32, kernel_size=4, activation='relu', input_shape = (511,1))) ##1st conv layer\n",
        "model.add(BatchNormalization())\n",
        "model.add(Dropout(0.2))\n",
        "\n",
        "model.add(Conv1D(filters=64, kernel_size=4, activation='relu'))  #2nd Conv layer\n",
        "model.add(BatchNormalization())\n",
        "#model.add(Dropout(0.3))\n",
        "\n",
        "model.add(Flatten())    #Flattening\n",
        "model.add(Dense(64, activation='relu'))  ##fully connected layer\n",
        "#model.add(Dropout(0.3))\n",
        "\n",
        "model.add(Dense(1, activation='sigmoid'))   #output layer"
      ],
      "metadata": {
        "id": "Gn9TRqRzbQ5v"
      },
      "execution_count": 19,
      "outputs": []
    },
    {
      "cell_type": "code",
      "source": [
        "model.compile(optimizer=Adam(learning_rate=0.00001), loss = 'binary_crossentropy', metrics=['accuracy'])\n",
        "\n",
        "history = model.fit(X_train, y_train, epochs=epochs, batch_size=32,validation_data=(X_test, y_test), verbose=1)"
      ],
      "metadata": {
        "colab": {
          "base_uri": "https://localhost:8080/"
        },
        "id": "_TlWdNd0bVzi",
        "outputId": "21d1810d-90ab-404d-b940-36093767e790"
      },
      "execution_count": 20,
      "outputs": [
        {
          "output_type": "stream",
          "name": "stdout",
          "text": [
            "Epoch 1/50\n",
            "54/54 [==============================] - 12s 20ms/step - loss: 0.7265 - accuracy: 0.5771 - val_loss: 0.6785 - val_accuracy: 0.6315\n",
            "Epoch 2/50\n",
            "54/54 [==============================] - 1s 13ms/step - loss: 0.6526 - accuracy: 0.6341 - val_loss: 0.6649 - val_accuracy: 0.6291\n",
            "Epoch 3/50\n",
            "54/54 [==============================] - 1s 13ms/step - loss: 0.5857 - accuracy: 0.7041 - val_loss: 0.6563 - val_accuracy: 0.5962\n",
            "Epoch 4/50\n",
            "54/54 [==============================] - 1s 13ms/step - loss: 0.5575 - accuracy: 0.7300 - val_loss: 0.6310 - val_accuracy: 0.6737\n",
            "Epoch 5/50\n",
            "54/54 [==============================] - 1s 13ms/step - loss: 0.5349 - accuracy: 0.7359 - val_loss: 0.6199 - val_accuracy: 0.6502\n",
            "Epoch 6/50\n",
            "54/54 [==============================] - 1s 13ms/step - loss: 0.5034 - accuracy: 0.7606 - val_loss: 0.5965 - val_accuracy: 0.6878\n",
            "Epoch 7/50\n",
            "54/54 [==============================] - 1s 12ms/step - loss: 0.4802 - accuracy: 0.7718 - val_loss: 0.5915 - val_accuracy: 0.7066\n",
            "Epoch 8/50\n",
            "54/54 [==============================] - 1s 12ms/step - loss: 0.4685 - accuracy: 0.7782 - val_loss: 0.5877 - val_accuracy: 0.7019\n",
            "Epoch 9/50\n",
            "54/54 [==============================] - 1s 13ms/step - loss: 0.4475 - accuracy: 0.7929 - val_loss: 0.5944 - val_accuracy: 0.6831\n",
            "Epoch 10/50\n",
            "54/54 [==============================] - 1s 12ms/step - loss: 0.4222 - accuracy: 0.8171 - val_loss: 0.5755 - val_accuracy: 0.7160\n",
            "Epoch 11/50\n",
            "54/54 [==============================] - 1s 12ms/step - loss: 0.4191 - accuracy: 0.8118 - val_loss: 0.5773 - val_accuracy: 0.6972\n",
            "Epoch 12/50\n",
            "54/54 [==============================] - 1s 12ms/step - loss: 0.3953 - accuracy: 0.8288 - val_loss: 0.5831 - val_accuracy: 0.7089\n",
            "Epoch 13/50\n",
            "54/54 [==============================] - 1s 12ms/step - loss: 0.3855 - accuracy: 0.8488 - val_loss: 0.5905 - val_accuracy: 0.7066\n",
            "Epoch 14/50\n",
            "54/54 [==============================] - 1s 13ms/step - loss: 0.3821 - accuracy: 0.8471 - val_loss: 0.5844 - val_accuracy: 0.7066\n",
            "Epoch 15/50\n",
            "54/54 [==============================] - 1s 12ms/step - loss: 0.3578 - accuracy: 0.8565 - val_loss: 0.5888 - val_accuracy: 0.7207\n",
            "Epoch 16/50\n",
            "54/54 [==============================] - 1s 12ms/step - loss: 0.3472 - accuracy: 0.8624 - val_loss: 0.5968 - val_accuracy: 0.7207\n",
            "Epoch 17/50\n",
            "54/54 [==============================] - 1s 12ms/step - loss: 0.3469 - accuracy: 0.8618 - val_loss: 0.5999 - val_accuracy: 0.7207\n",
            "Epoch 18/50\n",
            "54/54 [==============================] - 1s 12ms/step - loss: 0.3294 - accuracy: 0.8782 - val_loss: 0.5844 - val_accuracy: 0.7300\n",
            "Epoch 19/50\n",
            "54/54 [==============================] - 1s 12ms/step - loss: 0.3141 - accuracy: 0.8818 - val_loss: 0.5960 - val_accuracy: 0.7183\n",
            "Epoch 20/50\n",
            "54/54 [==============================] - 1s 12ms/step - loss: 0.3101 - accuracy: 0.8812 - val_loss: 0.6060 - val_accuracy: 0.7160\n",
            "Epoch 21/50\n",
            "54/54 [==============================] - 1s 12ms/step - loss: 0.2929 - accuracy: 0.9059 - val_loss: 0.5926 - val_accuracy: 0.7089\n",
            "Epoch 22/50\n",
            "54/54 [==============================] - 1s 12ms/step - loss: 0.2893 - accuracy: 0.8918 - val_loss: 0.6052 - val_accuracy: 0.7113\n",
            "Epoch 23/50\n",
            "54/54 [==============================] - 1s 14ms/step - loss: 0.2773 - accuracy: 0.9076 - val_loss: 0.5999 - val_accuracy: 0.7254\n",
            "Epoch 24/50\n",
            "54/54 [==============================] - 1s 13ms/step - loss: 0.2757 - accuracy: 0.9006 - val_loss: 0.6118 - val_accuracy: 0.7113\n",
            "Epoch 25/50\n",
            "54/54 [==============================] - 1s 12ms/step - loss: 0.2657 - accuracy: 0.9159 - val_loss: 0.6011 - val_accuracy: 0.7042\n",
            "Epoch 26/50\n",
            "54/54 [==============================] - 1s 14ms/step - loss: 0.2552 - accuracy: 0.9247 - val_loss: 0.6162 - val_accuracy: 0.7042\n",
            "Epoch 27/50\n",
            "54/54 [==============================] - 1s 12ms/step - loss: 0.2489 - accuracy: 0.9206 - val_loss: 0.6254 - val_accuracy: 0.7207\n",
            "Epoch 28/50\n",
            "54/54 [==============================] - 1s 12ms/step - loss: 0.2341 - accuracy: 0.9324 - val_loss: 0.6161 - val_accuracy: 0.7160\n",
            "Epoch 29/50\n",
            "54/54 [==============================] - 1s 12ms/step - loss: 0.2234 - accuracy: 0.9388 - val_loss: 0.6185 - val_accuracy: 0.7089\n",
            "Epoch 30/50\n",
            "54/54 [==============================] - 1s 12ms/step - loss: 0.2227 - accuracy: 0.9406 - val_loss: 0.6247 - val_accuracy: 0.7230\n",
            "Epoch 31/50\n",
            "54/54 [==============================] - 1s 12ms/step - loss: 0.2170 - accuracy: 0.9471 - val_loss: 0.6381 - val_accuracy: 0.6972\n",
            "Epoch 32/50\n",
            "54/54 [==============================] - 1s 12ms/step - loss: 0.2061 - accuracy: 0.9476 - val_loss: 0.6234 - val_accuracy: 0.7230\n",
            "Epoch 33/50\n",
            "54/54 [==============================] - 1s 12ms/step - loss: 0.2058 - accuracy: 0.9512 - val_loss: 0.6284 - val_accuracy: 0.7230\n",
            "Epoch 34/50\n",
            "54/54 [==============================] - 1s 12ms/step - loss: 0.1998 - accuracy: 0.9541 - val_loss: 0.6395 - val_accuracy: 0.7042\n",
            "Epoch 35/50\n",
            "54/54 [==============================] - 1s 12ms/step - loss: 0.1933 - accuracy: 0.9547 - val_loss: 0.6276 - val_accuracy: 0.7207\n",
            "Epoch 36/50\n",
            "54/54 [==============================] - 1s 12ms/step - loss: 0.1854 - accuracy: 0.9582 - val_loss: 0.6497 - val_accuracy: 0.7042\n",
            "Epoch 37/50\n",
            "54/54 [==============================] - 1s 16ms/step - loss: 0.1826 - accuracy: 0.9576 - val_loss: 0.6402 - val_accuracy: 0.7183\n",
            "Epoch 38/50\n",
            "54/54 [==============================] - 1s 16ms/step - loss: 0.1799 - accuracy: 0.9571 - val_loss: 0.6454 - val_accuracy: 0.7019\n",
            "Epoch 39/50\n",
            "54/54 [==============================] - 1s 12ms/step - loss: 0.1703 - accuracy: 0.9612 - val_loss: 0.6551 - val_accuracy: 0.7089\n",
            "Epoch 40/50\n",
            "54/54 [==============================] - 1s 12ms/step - loss: 0.1668 - accuracy: 0.9635 - val_loss: 0.6504 - val_accuracy: 0.7089\n",
            "Epoch 41/50\n",
            "54/54 [==============================] - 1s 12ms/step - loss: 0.1674 - accuracy: 0.9641 - val_loss: 0.6417 - val_accuracy: 0.7230\n",
            "Epoch 42/50\n",
            "54/54 [==============================] - 1s 12ms/step - loss: 0.1630 - accuracy: 0.9671 - val_loss: 0.6460 - val_accuracy: 0.7136\n",
            "Epoch 43/50\n",
            "54/54 [==============================] - 1s 13ms/step - loss: 0.1571 - accuracy: 0.9694 - val_loss: 0.6587 - val_accuracy: 0.6925\n",
            "Epoch 44/50\n",
            "54/54 [==============================] - 1s 12ms/step - loss: 0.1455 - accuracy: 0.9741 - val_loss: 0.6482 - val_accuracy: 0.7160\n",
            "Epoch 45/50\n",
            "54/54 [==============================] - 1s 12ms/step - loss: 0.1445 - accuracy: 0.9718 - val_loss: 0.6618 - val_accuracy: 0.7207\n",
            "Epoch 46/50\n",
            "54/54 [==============================] - 1s 14ms/step - loss: 0.1471 - accuracy: 0.9729 - val_loss: 0.6690 - val_accuracy: 0.7136\n",
            "Epoch 47/50\n",
            "54/54 [==============================] - 1s 12ms/step - loss: 0.1426 - accuracy: 0.9724 - val_loss: 0.6625 - val_accuracy: 0.7066\n",
            "Epoch 48/50\n",
            "54/54 [==============================] - 1s 12ms/step - loss: 0.1325 - accuracy: 0.9788 - val_loss: 0.6650 - val_accuracy: 0.7042\n",
            "Epoch 49/50\n",
            "54/54 [==============================] - 1s 12ms/step - loss: 0.1309 - accuracy: 0.9800 - val_loss: 0.6669 - val_accuracy: 0.7183\n",
            "Epoch 50/50\n",
            "54/54 [==============================] - 1s 12ms/step - loss: 0.1337 - accuracy: 0.9735 - val_loss: 0.6809 - val_accuracy: 0.7277\n"
          ]
        }
      ]
    },
    {
      "cell_type": "code",
      "source": [
        "#y_pred = model.predict(X_train).ravel()\n",
        "from sklearn.metrics import roc_curve\n",
        "y_pred_cnn1 = model.predict(X_test).ravel()\n",
        "fpr_1, tpr_1, thresholds = roc_curve(y_test, y_pred_cnn1)\n",
        "from sklearn.metrics import auc\n",
        "auc_score1 = auc(fpr_1, tpr_1)\n",
        "auc_score1"
      ],
      "metadata": {
        "colab": {
          "base_uri": "https://localhost:8080/"
        },
        "id": "7aoRYQwzbZXT",
        "outputId": "9f583acc-bca0-47a7-e29c-383a80882034"
      },
      "execution_count": 23,
      "outputs": [
        {
          "output_type": "execute_result",
          "data": {
            "text/plain": [
              "0.7773590760977989"
            ]
          },
          "metadata": {},
          "execution_count": 23
        }
      ]
    },
    {
      "cell_type": "markdown",
      "source": [
        "#### for AUPR Curve"
      ],
      "metadata": {
        "id": "txRzhDPfHWrp"
      }
    },
    {
      "cell_type": "code",
      "source": [
        "from sklearn.metrics import average_precision_score, precision_recall_curve\n",
        "\n",
        "# Data to plot precision - recall curve\n",
        "#y_score = clf.predict_proba(X_test)[:, 1]\n",
        "y_pred_cnn1 = model.predict(X_test).ravel()\n",
        "precision_1, recall_1, thresholds = precision_recall_curve(y_test, y_pred_cnn1)\n",
        "# Use AUC function to calculate the area under the curve of precision recall curve\n",
        "aupr_score1 = auc(recall_1, precision_1)\n",
        "print(aupr_score1)"
      ],
      "metadata": {
        "colab": {
          "base_uri": "https://localhost:8080/"
        },
        "id": "K-9vceMpHRXa",
        "outputId": "629c9ce0-28d7-47ec-b1d7-2d88f68b6308"
      },
      "execution_count": 24,
      "outputs": [
        {
          "output_type": "stream",
          "name": "stdout",
          "text": [
            "0.7807311443869752\n"
          ]
        }
      ]
    },
    {
      "cell_type": "code",
      "source": [
        "plt.figure(figsize=(7,6))\n",
        "plt.title('AREA UNDER PRECISION RECALL CURVE')\n",
        "plt.plot(recall_1, precision_1,color='red',label='AUPR = %0.2f' % aupr_score1,marker='.',linewidth=2,markersize=6)\n",
        "plt.legend(loc = 'lower left')\n",
        "plt.ylabel('Precision')\n",
        "plt.xlabel('Recall')"
      ],
      "metadata": {
        "colab": {
          "base_uri": "https://localhost:8080/",
          "height": 421
        },
        "id": "0zNxFfx2lP6S",
        "outputId": "441f1aa5-8f3e-44ee-cb7b-63d903cd1850"
      },
      "execution_count": 25,
      "outputs": [
        {
          "output_type": "execute_result",
          "data": {
            "text/plain": [
              "Text(0.5, 0, 'Recall')"
            ]
          },
          "metadata": {},
          "execution_count": 25
        },
        {
          "output_type": "display_data",
          "data": {
            "text/plain": [
              "<Figure size 504x432 with 1 Axes>"
            ],
            "image/png": "[encoded data removed]"
          },
          "metadata": {
            "needs_background": "light"
          }
        }
      ]
    },
    {
      "cell_type": "code",
      "source": [
        "#aupr = auc(0.6410, 0.8621)\n",
        "#aupr\n",
        "#aupr = auc(recall, precision)"
      ],
      "metadata": {
        "id": "eg2-RpkQIGQ9"
      },
      "execution_count": null,
      "outputs": []
    },
    {
      "cell_type": "markdown",
      "source": [
        "## 2.FastText"
      ],
      "metadata": {
        "id": "dH_ke-WAb2WO"
      }
    },
    {
      "cell_type": "code",
      "source": [
        "import pandas as pd\n",
        "from pandas import read_excel\n",
        "file_name = '/content/gdrive/MyDrive/fastAllghor.csv'\n",
        "# Glove3decimal.csv\n",
        "# Gloveallghor.csv \n",
        "df = pd.read_csv(file_name, index_col=0)\n",
        "#df = pd.read_csv(file_name)\n",
        "#print(df.head()) # print the first 5 rows\n",
        "df"
      ],
      "metadata": {
        "colab": {
          "base_uri": "https://localhost:8080/",
          "height": 519
        },
        "id": "5CmQqaJRbum9",
        "outputId": "69b12d68-89c3-446b-f4a2-24ed8b946679"
      },
      "execution_count": 26,
      "outputs": [
        {
          "output_type": "execute_result",
          "data": {
            "text/plain": [
              "               tpc1      tpc2      tpc3      tpc4      tpc5      tpc6  \\\n",
              "tpc0                                                                    \n",
              "-0.045342 -0.119586  0.006219 -0.088131  0.107532  0.033074 -0.006158   \n",
              "-0.035070 -0.122000  0.005920 -0.095999  0.114729  0.036265 -0.007036   \n",
              "-0.046473 -0.130959  0.012476 -0.091737  0.110245  0.033604 -0.001858   \n",
              "-0.048181 -0.113189 -0.000034 -0.076156  0.108456  0.039504 -0.002577   \n",
              "-0.053381 -0.134055  0.009311 -0.087240  0.109450  0.019906 -0.003768   \n",
              "...             ...       ...       ...       ...       ...       ...   \n",
              "-0.043920 -0.121584  0.014005 -0.084963  0.104718  0.033611 -0.004889   \n",
              "-0.041732 -0.114830 -0.000689 -0.084804  0.112233  0.035672 -0.006310   \n",
              "-0.037013 -0.125557  0.010711 -0.091457  0.110572  0.035698 -0.007552   \n",
              "-0.045851 -0.126291  0.007172 -0.090301  0.109970  0.027051 -0.006653   \n",
              "-0.047054 -0.123709 -0.001829 -0.087501  0.110263  0.043022 -0.012459   \n",
              "\n",
              "               tpc7      tpc8      tpc9     tpc10  ...    tpc503    tpc504  \\\n",
              "tpc0                                               ...                       \n",
              "-0.045342 -0.049008 -0.041383 -0.035325 -0.045906  ...  0.071249 -0.027845   \n",
              "-0.035070 -0.053136 -0.048028 -0.027183 -0.044998  ...  0.066538 -0.027696   \n",
              "-0.046473 -0.046605 -0.042545 -0.005615 -0.042727  ...  0.069494 -0.021039   \n",
              "-0.048181 -0.043908 -0.053065 -0.024547 -0.044380  ...  0.073099 -0.031108   \n",
              "-0.053381 -0.045313 -0.037604 -0.012921 -0.048937  ...  0.064635 -0.022508   \n",
              "...             ...       ...       ...       ...  ...       ...       ...   \n",
              "-0.043920 -0.048137 -0.042125 -0.022699 -0.044211  ...  0.076293 -0.031191   \n",
              "-0.041732 -0.052984 -0.049038 -0.023203 -0.043603  ...  0.066840 -0.038906   \n",
              "-0.037013 -0.050016 -0.041856 -0.017896 -0.047057  ...  0.066956 -0.019128   \n",
              "-0.045851 -0.046381 -0.048598 -0.013344 -0.051054  ...  0.066740 -0.025152   \n",
              "-0.047054 -0.051207 -0.038934 -0.031419 -0.045069  ...  0.078383 -0.028687   \n",
              "\n",
              "             tpc505    tpc506    tpc507    tpc508    tpc509    tpc510  \\\n",
              "tpc0                                                                    \n",
              "-0.045342 -0.030502  0.009951  0.050119  0.098214  0.017533  0.061429   \n",
              "-0.035070 -0.041256  0.003160  0.065386  0.091022  0.004784  0.061484   \n",
              "-0.046473 -0.040292  0.034493  0.052987  0.091800 -0.000009  0.062600   \n",
              "-0.048181 -0.030192  0.012665  0.046753  0.096642  0.025364  0.062720   \n",
              "-0.053381 -0.039198  0.025195  0.034705  0.083352  0.013108  0.063144   \n",
              "...             ...       ...       ...       ...       ...       ...   \n",
              "-0.043920 -0.032939  0.020326  0.051676  0.095220  0.010814  0.061951   \n",
              "-0.041732 -0.038633  0.006369  0.062928  0.092793  0.014985  0.062366   \n",
              "-0.037013 -0.042517  0.015693  0.063621  0.087850  0.004585  0.062977   \n",
              "-0.045851 -0.032163  0.016364  0.059071  0.096043  0.014732  0.065633   \n",
              "-0.047054 -0.033017  0.015891  0.055597  0.085173  0.012147  0.066171   \n",
              "\n",
              "             tpc511  Target  \n",
              "tpc0                         \n",
              "-0.045342 -0.049693       0  \n",
              "-0.035070 -0.045020       1  \n",
              "-0.046473 -0.046067       0  \n",
              "-0.048181 -0.049914       0  \n",
              "-0.053381 -0.041926       1  \n",
              "...             ...     ...  \n",
              "-0.043920 -0.038777       1  \n",
              "-0.041732 -0.047240       1  \n",
              "-0.037013 -0.052326       1  \n",
              "-0.045851 -0.040951       1  \n",
              "-0.047054 -0.033621       1  \n",
              "\n",
              "[2104 rows x 512 columns]"
            ],
            "text/html": [
              "\n",
              "  <div id=\"df-04930c56-5a93-4f36-8b9e-8cd023515b17\">\n",
              "    <div class=\"colab-df-container\">\n",
              "      <div>\n",
              "<style scoped>\n",
              "    .dataframe tbody tr th:only-of-type {\n",
              "        vertical-align: middle;\n",
              "    }\n",
              "\n",
              "    .dataframe tbody tr th {\n",
              "        vertical-align: top;\n",
              "    }\n",
              "\n",
              "    .dataframe thead th {\n",
              "        text-align: right;\n",
              "    }\n",
              "</style>\n",
              "<table border=\"1\" class=\"dataframe\">\n",
              "  <thead>\n",
              "    <tr style=\"text-align: right;\">\n",
              "      <th></th>\n",
              "      <th>tpc1</th>\n",
              "      <th>tpc2</th>\n",
              "      <th>tpc3</th>\n",
              "      <th>tpc4</th>\n",
              "      <th>tpc5</th>\n",
              "      <th>tpc6</th>\n",
              "      <th>tpc7</th>\n",
              "      <th>tpc8</th>\n",
              "      <th>tpc9</th>\n",
              "      <th>tpc10</th>\n",
              "      <th>...</th>\n",
              "      <th>tpc503</th>\n",
              "      <th>tpc504</th>\n",
              "      <th>tpc505</th>\n",
              "      <th>tpc506</th>\n",
              "      <th>tpc507</th>\n",
              "      <th>tpc508</th>\n",
              "      <th>tpc509</th>\n",
              "      <th>tpc510</th>\n",
              "      <th>tpc511</th>\n",
              "      <th>Target</th>\n",
              "    </tr>\n",
              "    <tr>\n",
              "      <th>tpc0</th>\n",
              "      <th></th>\n",
              "      <th></th>\n",
              "      <th></th>\n",
              "      <th></th>\n",
              "      <th></th>\n",
              "      <th></th>\n",
              "      <th></th>\n",
              "      <th></th>\n",
              "      <th></th>\n",
              "      <th></th>\n",
              "      <th></th>\n",
              "      <th></th>\n",
              "      <th></th>\n",
              "      <th></th>\n",
              "      <th></th>\n",
              "      <th></th>\n",
              "      <th></th>\n",
              "      <th></th>\n",
              "      <th></th>\n",
              "      <th></th>\n",
              "      <th></th>\n",
              "    </tr>\n",
              "  </thead>\n",
              "  <tbody>\n",
              "    <tr>\n",
              "      <th>-0.045342</th>\n",
              "      <td>-0.119586</td>\n",
              "      <td>0.006219</td>\n",
              "      <td>-0.088131</td>\n",
              "      <td>0.107532</td>\n",
              "      <td>0.033074</td>\n",
              "      <td>-0.006158</td>\n",
              "      <td>-0.049008</td>\n",
              "      <td>-0.041383</td>\n",
              "      <td>-0.035325</td>\n",
              "      <td>-0.045906</td>\n",
              "      <td>...</td>\n",
              "      <td>0.071249</td>\n",
              "      <td>-0.027845</td>\n",
              "      <td>-0.030502</td>\n",
              "      <td>0.009951</td>\n",
              "      <td>0.050119</td>\n",
              "      <td>0.098214</td>\n",
              "      <td>0.017533</td>\n",
              "      <td>0.061429</td>\n",
              "      <td>-0.049693</td>\n",
              "      <td>0</td>\n",
              "    </tr>\n",
              "    <tr>\n",
              "      <th>-0.035070</th>\n",
              "      <td>-0.122000</td>\n",
              "      <td>0.005920</td>\n",
              "      <td>-0.095999</td>\n",
              "      <td>0.114729</td>\n",
              "      <td>0.036265</td>\n",
              "      <td>-0.007036</td>\n",
              "      <td>-0.053136</td>\n",
              "      <td>-0.048028</td>\n",
              "      <td>-0.027183</td>\n",
              "      <td>-0.044998</td>\n",
              "      <td>...</td>\n",
              "      <td>0.066538</td>\n",
              "      <td>-0.027696</td>\n",
              "      <td>-0.041256</td>\n",
              "      <td>0.003160</td>\n",
              "      <td>0.065386</td>\n",
              "      <td>0.091022</td>\n",
              "      <td>0.004784</td>\n",
              "      <td>0.061484</td>\n",
              "      <td>-0.045020</td>\n",
              "      <td>1</td>\n",
              "    </tr>\n",
              "    <tr>\n",
              "      <th>-0.046473</th>\n",
              "      <td>-0.130959</td>\n",
              "      <td>0.012476</td>\n",
              "      <td>-0.091737</td>\n",
              "      <td>0.110245</td>\n",
              "      <td>0.033604</td>\n",
              "      <td>-0.001858</td>\n",
              "      <td>-0.046605</td>\n",
              "      <td>-0.042545</td>\n",
              "      <td>-0.005615</td>\n",
              "      <td>-0.042727</td>\n",
              "      <td>...</td>\n",
              "      <td>0.069494</td>\n",
              "      <td>-0.021039</td>\n",
              "      <td>-0.040292</td>\n",
              "      <td>0.034493</td>\n",
              "      <td>0.052987</td>\n",
              "      <td>0.091800</td>\n",
              "      <td>-0.000009</td>\n",
              "      <td>0.062600</td>\n",
              "      <td>-0.046067</td>\n",
              "      <td>0</td>\n",
              "    </tr>\n",
              "    <tr>\n",
              "      <th>-0.048181</th>\n",
              "      <td>-0.113189</td>\n",
              "      <td>-0.000034</td>\n",
              "      <td>-0.076156</td>\n",
              "      <td>0.108456</td>\n",
              "      <td>0.039504</td>\n",
              "      <td>-0.002577</td>\n",
              "      <td>-0.043908</td>\n",
              "      <td>-0.053065</td>\n",
              "      <td>-0.024547</td>\n",
              "      <td>-0.044380</td>\n",
              "      <td>...</td>\n",
              "      <td>0.073099</td>\n",
              "      <td>-0.031108</td>\n",
              "      <td>-0.030192</td>\n",
              "      <td>0.012665</td>\n",
              "      <td>0.046753</td>\n",
              "      <td>0.096642</td>\n",
              "      <td>0.025364</td>\n",
              "      <td>0.062720</td>\n",
              "      <td>-0.049914</td>\n",
              "      <td>0</td>\n",
              "    </tr>\n",
              "    <tr>\n",
              "      <th>-0.053381</th>\n",
              "      <td>-0.134055</td>\n",
              "      <td>0.009311</td>\n",
              "      <td>-0.087240</td>\n",
              "      <td>0.109450</td>\n",
              "      <td>0.019906</td>\n",
              "      <td>-0.003768</td>\n",
              "      <td>-0.045313</td>\n",
              "      <td>-0.037604</td>\n",
              "      <td>-0.012921</td>\n",
              "      <td>-0.048937</td>\n",
              "      <td>...</td>\n",
              "      <td>0.064635</td>\n",
              "      <td>-0.022508</td>\n",
              "      <td>-0.039198</td>\n",
              "      <td>0.025195</td>\n",
              "      <td>0.034705</td>\n",
              "      <td>0.083352</td>\n",
              "      <td>0.013108</td>\n",
              "      <td>0.063144</td>\n",
              "      <td>-0.041926</td>\n",
              "      <td>1</td>\n",
              "    </tr>\n",
              "    <tr>\n",
              "      <th>...</th>\n",
              "      <td>...</td>\n",
              "      <td>...</td>\n",
              "      <td>...</td>\n",
              "      <td>...</td>\n",
              "      <td>...</td>\n",
              "      <td>...</td>\n",
              "      <td>...</td>\n",
              "      <td>...</td>\n",
              "      <td>...</td>\n",
              "      <td>...</td>\n",
              "      <td>...</td>\n",
              "      <td>...</td>\n",
              "      <td>...</td>\n",
              "      <td>...</td>\n",
              "      <td>...</td>\n",
              "      <td>...</td>\n",
              "      <td>...</td>\n",
              "      <td>...</td>\n",
              "      <td>...</td>\n",
              "      <td>...</td>\n",
              "      <td>...</td>\n",
              "    </tr>\n",
              "    <tr>\n",
              "      <th>-0.043920</th>\n",
              "      <td>-0.121584</td>\n",
              "      <td>0.014005</td>\n",
              "      <td>-0.084963</td>\n",
              "      <td>0.104718</td>\n",
              "      <td>0.033611</td>\n",
              "      <td>-0.004889</td>\n",
              "      <td>-0.048137</td>\n",
              "      <td>-0.042125</td>\n",
              "      <td>-0.022699</td>\n",
              "      <td>-0.044211</td>\n",
              "      <td>...</td>\n",
              "      <td>0.076293</td>\n",
              "      <td>-0.031191</td>\n",
              "      <td>-0.032939</td>\n",
              "      <td>0.020326</td>\n",
              "      <td>0.051676</td>\n",
              "      <td>0.095220</td>\n",
              "      <td>0.010814</td>\n",
              "      <td>0.061951</td>\n",
              "      <td>-0.038777</td>\n",
              "      <td>1</td>\n",
              "    </tr>\n",
              "    <tr>\n",
              "      <th>-0.041732</th>\n",
              "      <td>-0.114830</td>\n",
              "      <td>-0.000689</td>\n",
              "      <td>-0.084804</td>\n",
              "      <td>0.112233</td>\n",
              "      <td>0.035672</td>\n",
              "      <td>-0.006310</td>\n",
              "      <td>-0.052984</td>\n",
              "      <td>-0.049038</td>\n",
              "      <td>-0.023203</td>\n",
              "      <td>-0.043603</td>\n",
              "      <td>...</td>\n",
              "      <td>0.066840</td>\n",
              "      <td>-0.038906</td>\n",
              "      <td>-0.038633</td>\n",
              "      <td>0.006369</td>\n",
              "      <td>0.062928</td>\n",
              "      <td>0.092793</td>\n",
              "      <td>0.014985</td>\n",
              "      <td>0.062366</td>\n",
              "      <td>-0.047240</td>\n",
              "      <td>1</td>\n",
              "    </tr>\n",
              "    <tr>\n",
              "      <th>-0.037013</th>\n",
              "      <td>-0.125557</td>\n",
              "      <td>0.010711</td>\n",
              "      <td>-0.091457</td>\n",
              "      <td>0.110572</td>\n",
              "      <td>0.035698</td>\n",
              "      <td>-0.007552</td>\n",
              "      <td>-0.050016</td>\n",
              "      <td>-0.041856</td>\n",
              "      <td>-0.017896</td>\n",
              "      <td>-0.047057</td>\n",
              "      <td>...</td>\n",
              "      <td>0.066956</td>\n",
              "      <td>-0.019128</td>\n",
              "      <td>-0.042517</td>\n",
              "      <td>0.015693</td>\n",
              "      <td>0.063621</td>\n",
              "      <td>0.087850</td>\n",
              "      <td>0.004585</td>\n",
              "      <td>0.062977</td>\n",
              "      <td>-0.052326</td>\n",
              "      <td>1</td>\n",
              "    </tr>\n",
              "    <tr>\n",
              "      <th>-0.045851</th>\n",
              "      <td>-0.126291</td>\n",
              "      <td>0.007172</td>\n",
              "      <td>-0.090301</td>\n",
              "      <td>0.109970</td>\n",
              "      <td>0.027051</td>\n",
              "      <td>-0.006653</td>\n",
              "      <td>-0.046381</td>\n",
              "      <td>-0.048598</td>\n",
              "      <td>-0.013344</td>\n",
              "      <td>-0.051054</td>\n",
              "      <td>...</td>\n",
              "      <td>0.066740</td>\n",
              "      <td>-0.025152</td>\n",
              "      <td>-0.032163</td>\n",
              "      <td>0.016364</td>\n",
              "      <td>0.059071</td>\n",
              "      <td>0.096043</td>\n",
              "      <td>0.014732</td>\n",
              "      <td>0.065633</td>\n",
              "      <td>-0.040951</td>\n",
              "      <td>1</td>\n",
              "    </tr>\n",
              "    <tr>\n",
              "      <th>-0.047054</th>\n",
              "      <td>-0.123709</td>\n",
              "      <td>-0.001829</td>\n",
              "      <td>-0.087501</td>\n",
              "      <td>0.110263</td>\n",
              "      <td>0.043022</td>\n",
              "      <td>-0.012459</td>\n",
              "      <td>-0.051207</td>\n",
              "      <td>-0.038934</td>\n",
              "      <td>-0.031419</td>\n",
              "      <td>-0.045069</td>\n",
              "      <td>...</td>\n",
              "      <td>0.078383</td>\n",
              "      <td>-0.028687</td>\n",
              "      <td>-0.033017</td>\n",
              "      <td>0.015891</td>\n",
              "      <td>0.055597</td>\n",
              "      <td>0.085173</td>\n",
              "      <td>0.012147</td>\n",
              "      <td>0.066171</td>\n",
              "      <td>-0.033621</td>\n",
              "      <td>1</td>\n",
              "    </tr>\n",
              "  </tbody>\n",
              "</table>\n",
              "<p>2104 rows × 512 columns</p>\n",
              "</div>\n",
              "      <button class=\"colab-df-convert\" onclick=\"convertToInteractive('df-04930c56-5a93-4f36-8b9e-8cd023515b17')\"\n",
              "              title=\"Convert this dataframe to an interactive table.\"\n",
              "              style=\"display:none;\">\n",
              "        \n",
              "  <svg xmlns=\"http://www.w3.org/2000/svg\" height=\"24px\"viewBox=\"0 0 24 24\"\n",
              "       width=\"24px\">\n",
              "    <path d=\"M0 0h24v24H0V0z\" fill=\"none\"/>\n",
              "    <path d=\"M18.56 5.44l.94 2.06.94-2.06 2.06-.94-2.06-.94-.94-2.06-.94 2.06-2.06.94zm-11 1L8.5 8.5l.94-2.06 2.06-.94-2.06-.94L8.5 2.5l-.94 2.06-2.06.94zm10 10l.94 2.06.94-2.06 2.06-.94-2.06-.94-.94-2.06-.94 2.06-2.06.94z\"/><path d=\"M17.41 7.96l-1.37-1.37c-.4-.4-.92-.59-1.43-.59-.52 0-1.04.2-1.43.59L10.3 9.45l-7.72 7.72c-.78.78-.78 2.05 0 2.83L4 21.41c.39.39.9.59 1.41.59.51 0 1.02-.2 1.41-.59l7.78-7.78 2.81-2.81c.8-.78.8-2.07 0-2.86zM5.41 20L4 18.59l7.72-7.72 1.47 1.35L5.41 20z\"/>\n",
              "  </svg>\n",
              "      </button>\n",
              "      \n",
              "  <style>\n",
              "    .colab-df-container {\n",
              "      display:flex;\n",
              "      flex-wrap:wrap;\n",
              "      gap: 12px;\n",
              "    }\n",
              "\n",
              "    .colab-df-convert {\n",
              "      background-color: #E8F0FE;\n",
              "      border: none;\n",
              "      border-radius: 50%;\n",
              "      cursor: pointer;\n",
              "      display: none;\n",
              "      fill: #1967D2;\n",
              "      height: 32px;\n",
              "      padding: 0 0 0 0;\n",
              "      width: 32px;\n",
              "    }\n",
              "\n",
              "    .colab-df-convert:hover {\n",
              "      background-color: #E2EBFA;\n",
              "      box-shadow: 0px 1px 2px rgba(60, 64, 67, 0.3), 0px 1px 3px 1px rgba(60, 64, 67, 0.15);\n",
              "      fill: #174EA6;\n",
              "    }\n",
              "\n",
              "    [theme=dark] .colab-df-convert {\n",
              "      background-color: #3B4455;\n",
              "      fill: #D2E3FC;\n",
              "    }\n",
              "\n",
              "    [theme=dark] .colab-df-convert:hover {\n",
              "      background-color: #434B5C;\n",
              "      box-shadow: 0px 1px 3px 1px rgba(0, 0, 0, 0.15);\n",
              "      filter: drop-shadow(0px 1px 2px rgba(0, 0, 0, 0.3));\n",
              "      fill: #FFFFFF;\n",
              "    }\n",
              "  </style>\n",
              "\n",
              "      <script>\n",
              "        const buttonEl =\n",
              "          document.querySelector('#df-04930c56-5a93-4f36-8b9e-8cd023515b17 button.colab-df-convert');\n",
              "        buttonEl.style.display =\n",
              "          google.colab.kernel.accessAllowed ? 'block' : 'none';\n",
              "\n",
              "        async function convertToInteractive(key) {\n",
              "          const element = document.querySelector('#df-04930c56-5a93-4f36-8b9e-8cd023515b17');\n",
              "          const dataTable =\n",
              "            await google.colab.kernel.invokeFunction('convertToInteractive',\n",
              "                                                     [key], {});\n",
              "          if (!dataTable) return;\n",
              "\n",
              "          const docLinkHtml = 'Like what you see? Visit the ' +\n",
              "            '<a target=\"_blank\" href=https://colab.research.google.com/notebooks/data_table.ipynb>data table notebook</a>'\n",
              "            + ' to learn more about interactive tables.';\n",
              "          element.innerHTML = '';\n",
              "          dataTable['output_type'] = 'display_data';\n",
              "          await google.colab.output.renderOutput(dataTable, element);\n",
              "          const docLink = document.createElement('div');\n",
              "          docLink.innerHTML = docLinkHtml;\n",
              "          element.appendChild(docLink);\n",
              "        }\n",
              "      </script>\n",
              "    </div>\n",
              "  </div>\n",
              "  "
            ]
          },
          "metadata": {},
          "execution_count": 26
        }
      ]
    },
    {
      "cell_type": "code",
      "source": [
        "df.shape"
      ],
      "metadata": {
        "colab": {
          "base_uri": "https://localhost:8080/"
        },
        "id": "avRPAGa9cKEg",
        "outputId": "3c9f4879-4213-4bbf-b75f-52e1315ff867"
      },
      "execution_count": 27,
      "outputs": [
        {
          "output_type": "execute_result",
          "data": {
            "text/plain": [
              "(2104, 512)"
            ]
          },
          "metadata": {},
          "execution_count": 27
        }
      ]
    },
    {
      "cell_type": "code",
      "source": [
        "features = np.array(df.columns[:-1])\n",
        "target = 'Target'\n",
        "\n",
        "X = df[features]\n",
        "y = df[target]"
      ],
      "metadata": {
        "id": "65OovneCcRiF"
      },
      "execution_count": 28,
      "outputs": []
    },
    {
      "cell_type": "code",
      "source": [
        "#Create independent and Dependent Features\n",
        "columns = df.columns.tolist()\n",
        "# Filter the columns to remove data we do not want \n",
        "columns = [c for c in columns if c not in [\"Target\"]]\n",
        "# Store the variable we are predicting \n",
        "target = \"Target\"\n",
        "# Define a random state \n",
        "state = np.random.RandomState(0)\n",
        "X = X\n",
        "y = y\n",
        "X_outliers = state.uniform(low=0, high=1, size=(X.shape[0], X.shape[1]))\n",
        "# Print the shapes of X & Y\n",
        "print(X.shape)\n",
        "print(y.shape)"
      ],
      "metadata": {
        "colab": {
          "base_uri": "https://localhost:8080/"
        },
        "id": "6WVrfbF8cXcr",
        "outputId": "dbcdc946-07e9-4d2c-ecd8-ab07940438bb"
      },
      "execution_count": 29,
      "outputs": [
        {
          "output_type": "stream",
          "name": "stdout",
          "text": [
            "(2104, 511)\n",
            "(2104,)\n"
          ]
        }
      ]
    },
    {
      "cell_type": "code",
      "source": [
        "count_classes = pd.value_counts(y, sort = True)\n",
        "\n",
        "count_classes.plot(kind = 'bar', rot=0)\n",
        "\n",
        "plt.title(\"Class Distribution\")\n",
        "\n",
        "LABELS = [\"Zero\", \"One\"]\n",
        "\n",
        "plt.xticks(range(2), LABELS)\n",
        "\n",
        "plt.xlabel(\"Class\")\n",
        "\n",
        "plt.ylabel(\"Frequency\")"
      ],
      "metadata": {
        "colab": {
          "base_uri": "https://localhost:8080/",
          "height": 312
        },
        "id": "BwUwBFuOchyG",
        "outputId": "92b07730-b332-4153-f2b8-f197f45cb781"
      },
      "execution_count": 30,
      "outputs": [
        {
          "output_type": "execute_result",
          "data": {
            "text/plain": [
              "Text(0, 0.5, 'Frequency')"
            ]
          },
          "metadata": {},
          "execution_count": 30
        },
        {
          "output_type": "display_data",
          "data": {
            "text/plain": [
              "<Figure size 432x288 with 1 Axes>"
            ],
            "image/png": "[encoded data removed]"
          },
          "metadata": {
            "needs_background": "light"
          }
        }
      ]
    },
    {
      "cell_type": "code",
      "source": [
        "One = df[y==1]\n",
        "\n",
        "Zero = df[y==0]\n",
        "\n",
        "print(Zero.shape,One.shape)"
      ],
      "metadata": {
        "colab": {
          "base_uri": "https://localhost:8080/"
        },
        "id": "kfaIu8abcltt",
        "outputId": "51bd3635-8351-4e8e-f360-83d5f964d6fe"
      },
      "execution_count": 31,
      "outputs": [
        {
          "output_type": "stream",
          "name": "stdout",
          "text": [
            "(1041, 512) (1063, 512)\n"
          ]
        }
      ]
    },
    {
      "cell_type": "code",
      "source": [
        "from imblearn.over_sampling import SMOTE\n",
        "sm = SMOTE(sampling_strategy='minority')\n",
        "X_res,y_res=sm.fit_resample(X,y)"
      ],
      "metadata": {
        "id": "4iHYlHHmcpQg"
      },
      "execution_count": 32,
      "outputs": []
    },
    {
      "cell_type": "code",
      "source": [
        "print(X_res.shape)\n",
        "print(y_res.shape)"
      ],
      "metadata": {
        "colab": {
          "base_uri": "https://localhost:8080/"
        },
        "id": "Xxb9z6X1csgz",
        "outputId": "a143516b-7964-49dd-c66f-f2ef4b666895"
      },
      "execution_count": 33,
      "outputs": [
        {
          "output_type": "stream",
          "name": "stdout",
          "text": [
            "(2126, 511)\n",
            "(2126,)\n"
          ]
        }
      ]
    },
    {
      "cell_type": "code",
      "source": [
        "#Split data into independent (X) and dependent(Y) columns\n",
        "\n",
        "y = y_res\n",
        "X = X_res\n",
        "\n",
        "X.shape"
      ],
      "metadata": {
        "colab": {
          "base_uri": "https://localhost:8080/"
        },
        "id": "WXtbRcwNcveK",
        "outputId": "4d0382db-a66e-475b-a332-e6c36748d8ac"
      },
      "execution_count": 34,
      "outputs": [
        {
          "output_type": "execute_result",
          "data": {
            "text/plain": [
              "(2126, 511)"
            ]
          },
          "metadata": {},
          "execution_count": 34
        }
      ]
    },
    {
      "cell_type": "code",
      "source": [
        "from sklearn.model_selection import train_test_split\n",
        "X_train, X_test, y_train, y_test = train_test_split(X, y, test_size = 0.20, random_state = 50)"
      ],
      "metadata": {
        "id": "2WSqtsfjc19C"
      },
      "execution_count": 35,
      "outputs": []
    },
    {
      "cell_type": "code",
      "source": [
        "print(X_train.shape)\n",
        "print(X_test.shape)"
      ],
      "metadata": {
        "colab": {
          "base_uri": "https://localhost:8080/"
        },
        "id": "PJcRdkhAc4wZ",
        "outputId": "8209dcb5-9077-4ff4-f78e-b0f79e013b41"
      },
      "execution_count": 36,
      "outputs": [
        {
          "output_type": "stream",
          "name": "stdout",
          "text": [
            "(1700, 511)\n",
            "(426, 511)\n"
          ]
        }
      ]
    },
    {
      "cell_type": "code",
      "source": [
        "import numpy as np\n",
        "import pandas as pd\n",
        "import tensorflow as tf\n",
        "from tensorflow import keras\n",
        "from tensorflow.keras import Sequential\n",
        "from tensorflow.keras.layers import Flatten, Dense, Dropout, BatchNormalization\n",
        "from tensorflow.keras.layers import Conv1D, MaxPool1D\n",
        "\n",
        "from tensorflow.keras.optimizers import Adam\n",
        "\n",
        "import  seaborn as sns\n",
        "import matplotlib.pyplot as plt\n",
        "from sklearn import datasets, metrics\n",
        "from sklearn.model_selection import train_test_split\n",
        "from sklearn.preprocessing import StandardScaler"
      ],
      "metadata": {
        "id": "qSaD9Ladc7t5"
      },
      "execution_count": 37,
      "outputs": []
    },
    {
      "cell_type": "code",
      "source": [
        "scaler = StandardScaler()\n",
        "X_train = scaler.fit_transform(X_train)\n",
        "X_test = scaler.transform(X_test)"
      ],
      "metadata": {
        "id": "jd1fYopMc_aL"
      },
      "execution_count": 38,
      "outputs": []
    },
    {
      "cell_type": "code",
      "source": [
        "X_train = X_train.reshape(1700, 511,1)\n",
        "X_test = X_test.reshape(426, 511, 1)"
      ],
      "metadata": {
        "id": "fLdLeyDBdBk7"
      },
      "execution_count": 39,
      "outputs": []
    },
    {
      "cell_type": "code",
      "source": [
        "epochs =50\n",
        "model = Sequential()\n",
        "model.add(Conv1D(filters=32, kernel_size=4, activation='relu', input_shape = (511,1))) ##1st conv layer\n",
        "model.add(BatchNormalization())\n",
        "model.add(Dropout(0.1))\n",
        "\n",
        "model.add(Conv1D(filters=64, kernel_size=4, activation='relu'))  #2nd Conv layer\n",
        "model.add(BatchNormalization())\n",
        "#model.add(Dropout(0.3))\n",
        "\n",
        "model.add(Flatten())    #Flattening\n",
        "model.add(Dense(64, activation='relu'))  ##fully connected layer\n",
        "#model.add(Dropout(0.3))\n",
        "\n",
        "model.add(Dense(1, activation='sigmoid'))   #output layer"
      ],
      "metadata": {
        "id": "-YUvaw0_dEpB"
      },
      "execution_count": 40,
      "outputs": []
    },
    {
      "cell_type": "code",
      "source": [
        "model.compile(optimizer=Adam(learning_rate=0.00001), loss = 'binary_crossentropy', metrics=['accuracy'])\n",
        "\n",
        "history = model.fit(X_train, y_train, epochs=epochs, batch_size=32,validation_data=(X_test, y_test), verbose=1)"
      ],
      "metadata": {
        "colab": {
          "base_uri": "https://localhost:8080/"
        },
        "id": "3eJctnt1dJFJ",
        "outputId": "e793e235-0af5-4485-9fdf-d9834d06511e"
      },
      "execution_count": 41,
      "outputs": [
        {
          "output_type": "stream",
          "name": "stdout",
          "text": [
            "Epoch 1/50\n",
            "54/54 [==============================] - 4s 38ms/step - loss: 0.7146 - accuracy: 0.6082 - val_loss: 0.6661 - val_accuracy: 0.6385\n",
            "Epoch 2/50\n",
            "54/54 [==============================] - 1s 13ms/step - loss: 0.5867 - accuracy: 0.6924 - val_loss: 0.6573 - val_accuracy: 0.6174\n",
            "Epoch 3/50\n",
            "54/54 [==============================] - 1s 13ms/step - loss: 0.5438 - accuracy: 0.7171 - val_loss: 0.6371 - val_accuracy: 0.6549\n",
            "Epoch 4/50\n",
            "54/54 [==============================] - 1s 13ms/step - loss: 0.4911 - accuracy: 0.7529 - val_loss: 0.6158 - val_accuracy: 0.6761\n",
            "Epoch 5/50\n",
            "54/54 [==============================] - 1s 12ms/step - loss: 0.4647 - accuracy: 0.7806 - val_loss: 0.6000 - val_accuracy: 0.6784\n",
            "Epoch 6/50\n",
            "54/54 [==============================] - 1s 12ms/step - loss: 0.4282 - accuracy: 0.8141 - val_loss: 0.5902 - val_accuracy: 0.6925\n",
            "Epoch 7/50\n",
            "54/54 [==============================] - 1s 13ms/step - loss: 0.4109 - accuracy: 0.8294 - val_loss: 0.5840 - val_accuracy: 0.6972\n",
            "Epoch 8/50\n",
            "54/54 [==============================] - 1s 13ms/step - loss: 0.3884 - accuracy: 0.8382 - val_loss: 0.5943 - val_accuracy: 0.7113\n",
            "Epoch 9/50\n",
            "54/54 [==============================] - 1s 12ms/step - loss: 0.3550 - accuracy: 0.8682 - val_loss: 0.5906 - val_accuracy: 0.7066\n",
            "Epoch 10/50\n",
            "54/54 [==============================] - 1s 12ms/step - loss: 0.3487 - accuracy: 0.8771 - val_loss: 0.5876 - val_accuracy: 0.7230\n",
            "Epoch 11/50\n",
            "54/54 [==============================] - 1s 12ms/step - loss: 0.3233 - accuracy: 0.8918 - val_loss: 0.5976 - val_accuracy: 0.7042\n",
            "Epoch 12/50\n",
            "54/54 [==============================] - 1s 13ms/step - loss: 0.3035 - accuracy: 0.8988 - val_loss: 0.5988 - val_accuracy: 0.7183\n",
            "Epoch 13/50\n",
            "54/54 [==============================] - 1s 12ms/step - loss: 0.2961 - accuracy: 0.9059 - val_loss: 0.5982 - val_accuracy: 0.7066\n",
            "Epoch 14/50\n",
            "54/54 [==============================] - 1s 12ms/step - loss: 0.2827 - accuracy: 0.9118 - val_loss: 0.6073 - val_accuracy: 0.6948\n",
            "Epoch 15/50\n",
            "54/54 [==============================] - 1s 13ms/step - loss: 0.2642 - accuracy: 0.9235 - val_loss: 0.6130 - val_accuracy: 0.7066\n",
            "Epoch 16/50\n",
            "54/54 [==============================] - 1s 12ms/step - loss: 0.2600 - accuracy: 0.9318 - val_loss: 0.6118 - val_accuracy: 0.7136\n",
            "Epoch 17/50\n",
            "54/54 [==============================] - 1s 12ms/step - loss: 0.2468 - accuracy: 0.9318 - val_loss: 0.6074 - val_accuracy: 0.7183\n",
            "Epoch 18/50\n",
            "54/54 [==============================] - 1s 12ms/step - loss: 0.2331 - accuracy: 0.9412 - val_loss: 0.6085 - val_accuracy: 0.7160\n",
            "Epoch 19/50\n",
            "54/54 [==============================] - 1s 12ms/step - loss: 0.2187 - accuracy: 0.9506 - val_loss: 0.6180 - val_accuracy: 0.7136\n",
            "Epoch 20/50\n",
            "54/54 [==============================] - 1s 13ms/step - loss: 0.2133 - accuracy: 0.9535 - val_loss: 0.6081 - val_accuracy: 0.7254\n",
            "Epoch 21/50\n",
            "54/54 [==============================] - 1s 12ms/step - loss: 0.2002 - accuracy: 0.9594 - val_loss: 0.6201 - val_accuracy: 0.7066\n",
            "Epoch 22/50\n",
            "54/54 [==============================] - 1s 12ms/step - loss: 0.1891 - accuracy: 0.9676 - val_loss: 0.6194 - val_accuracy: 0.7066\n",
            "Epoch 23/50\n",
            "54/54 [==============================] - 1s 13ms/step - loss: 0.1839 - accuracy: 0.9671 - val_loss: 0.6217 - val_accuracy: 0.7183\n",
            "Epoch 24/50\n",
            "54/54 [==============================] - 1s 12ms/step - loss: 0.1787 - accuracy: 0.9647 - val_loss: 0.6322 - val_accuracy: 0.7183\n",
            "Epoch 25/50\n",
            "54/54 [==============================] - 1s 13ms/step - loss: 0.1734 - accuracy: 0.9635 - val_loss: 0.6297 - val_accuracy: 0.7207\n",
            "Epoch 26/50\n",
            "54/54 [==============================] - 1s 13ms/step - loss: 0.1676 - accuracy: 0.9735 - val_loss: 0.6310 - val_accuracy: 0.7160\n",
            "Epoch 27/50\n",
            "54/54 [==============================] - 1s 12ms/step - loss: 0.1569 - accuracy: 0.9753 - val_loss: 0.6359 - val_accuracy: 0.7254\n",
            "Epoch 28/50\n",
            "54/54 [==============================] - 1s 12ms/step - loss: 0.1458 - accuracy: 0.9824 - val_loss: 0.6443 - val_accuracy: 0.7207\n",
            "Epoch 29/50\n",
            "54/54 [==============================] - 1s 14ms/step - loss: 0.1425 - accuracy: 0.9812 - val_loss: 0.6391 - val_accuracy: 0.7207\n",
            "Epoch 30/50\n",
            "54/54 [==============================] - 1s 13ms/step - loss: 0.1403 - accuracy: 0.9818 - val_loss: 0.6559 - val_accuracy: 0.7183\n",
            "Epoch 31/50\n",
            "54/54 [==============================] - 1s 13ms/step - loss: 0.1300 - accuracy: 0.9859 - val_loss: 0.6446 - val_accuracy: 0.7089\n",
            "Epoch 32/50\n",
            "54/54 [==============================] - 1s 12ms/step - loss: 0.1245 - accuracy: 0.9876 - val_loss: 0.6524 - val_accuracy: 0.7113\n",
            "Epoch 33/50\n",
            "54/54 [==============================] - 1s 12ms/step - loss: 0.1210 - accuracy: 0.9882 - val_loss: 0.6487 - val_accuracy: 0.7230\n",
            "Epoch 34/50\n",
            "54/54 [==============================] - 1s 13ms/step - loss: 0.1156 - accuracy: 0.9894 - val_loss: 0.6608 - val_accuracy: 0.7042\n",
            "Epoch 35/50\n",
            "54/54 [==============================] - 1s 13ms/step - loss: 0.1146 - accuracy: 0.9888 - val_loss: 0.6583 - val_accuracy: 0.7183\n",
            "Epoch 36/50\n",
            "54/54 [==============================] - 1s 12ms/step - loss: 0.1083 - accuracy: 0.9888 - val_loss: 0.6586 - val_accuracy: 0.7183\n",
            "Epoch 37/50\n",
            "54/54 [==============================] - 1s 13ms/step - loss: 0.1020 - accuracy: 0.9912 - val_loss: 0.6617 - val_accuracy: 0.7230\n",
            "Epoch 38/50\n",
            "54/54 [==============================] - 1s 12ms/step - loss: 0.0986 - accuracy: 0.9941 - val_loss: 0.6728 - val_accuracy: 0.7066\n",
            "Epoch 39/50\n",
            "54/54 [==============================] - 1s 12ms/step - loss: 0.0975 - accuracy: 0.9912 - val_loss: 0.6743 - val_accuracy: 0.7160\n",
            "Epoch 40/50\n",
            "54/54 [==============================] - 1s 13ms/step - loss: 0.0930 - accuracy: 0.9924 - val_loss: 0.6678 - val_accuracy: 0.7183\n",
            "Epoch 41/50\n",
            "54/54 [==============================] - 1s 12ms/step - loss: 0.0917 - accuracy: 0.9906 - val_loss: 0.6807 - val_accuracy: 0.7207\n",
            "Epoch 42/50\n",
            "54/54 [==============================] - 1s 13ms/step - loss: 0.0863 - accuracy: 0.9935 - val_loss: 0.6815 - val_accuracy: 0.7254\n",
            "Epoch 43/50\n",
            "54/54 [==============================] - 1s 12ms/step - loss: 0.0870 - accuracy: 0.9918 - val_loss: 0.6830 - val_accuracy: 0.7230\n",
            "Epoch 44/50\n",
            "54/54 [==============================] - 1s 14ms/step - loss: 0.0778 - accuracy: 0.9959 - val_loss: 0.6868 - val_accuracy: 0.7277\n",
            "Epoch 45/50\n",
            "54/54 [==============================] - 1s 12ms/step - loss: 0.0776 - accuracy: 0.9935 - val_loss: 0.7046 - val_accuracy: 0.7113\n",
            "Epoch 46/50\n",
            "54/54 [==============================] - 1s 13ms/step - loss: 0.0758 - accuracy: 0.9924 - val_loss: 0.6941 - val_accuracy: 0.7136\n",
            "Epoch 47/50\n",
            "54/54 [==============================] - 1s 13ms/step - loss: 0.0721 - accuracy: 0.9941 - val_loss: 0.6965 - val_accuracy: 0.7183\n",
            "Epoch 48/50\n",
            "54/54 [==============================] - 1s 12ms/step - loss: 0.0698 - accuracy: 0.9971 - val_loss: 0.7069 - val_accuracy: 0.7160\n",
            "Epoch 49/50\n",
            "54/54 [==============================] - 1s 12ms/step - loss: 0.0667 - accuracy: 0.9976 - val_loss: 0.7049 - val_accuracy: 0.7254\n",
            "Epoch 50/50\n",
            "54/54 [==============================] - 1s 13ms/step - loss: 0.0653 - accuracy: 0.9965 - val_loss: 0.7100 - val_accuracy: 0.7136\n"
          ]
        }
      ]
    },
    {
      "cell_type": "code",
      "source": [
        "#y_pred = model.predict(X_train).ravel()\n",
        "from sklearn.metrics import roc_curve\n",
        "y_pred_cnn2 = model.predict(X_test).ravel()\n",
        "fpr_2, tpr_2, thresholds = roc_curve(y_test, y_pred_cnn2)\n",
        "from sklearn.metrics import auc\n",
        "auc_score2 = auc(fpr_2, tpr_2)\n",
        "auc_score2"
      ],
      "metadata": {
        "colab": {
          "base_uri": "https://localhost:8080/"
        },
        "id": "yvRmTLTvdNJe",
        "outputId": "76e5dcd5-25c1-4b2f-908e-62aaa52cc0a2"
      },
      "execution_count": 42,
      "outputs": [
        {
          "output_type": "execute_result",
          "data": {
            "text/plain": [
              "0.7785560703123269"
            ]
          },
          "metadata": {},
          "execution_count": 42
        }
      ]
    },
    {
      "cell_type": "code",
      "source": [
        "from sklearn.metrics import average_precision_score, precision_recall_curve\n",
        "\n",
        "y_pred_cnn2 = model.predict(X_test).ravel()\n",
        "precision_2, recall_2, thresholds = precision_recall_curve(y_test, y_pred_cnn2)\n",
        "\n",
        "aupr_score2 = auc(recall_2, precision_2)\n",
        "print(aupr_score2)"
      ],
      "metadata": {
        "colab": {
          "base_uri": "https://localhost:8080/"
        },
        "id": "A6uOJNwQSSrR",
        "outputId": "d89f895e-3411-45ac-f86a-836d82db2294"
      },
      "execution_count": 43,
      "outputs": [
        {
          "output_type": "stream",
          "name": "stdout",
          "text": [
            "0.7716753586992818\n"
          ]
        }
      ]
    },
    {
      "cell_type": "markdown",
      "source": [
        "## 3.Word2Vec"
      ],
      "metadata": {
        "id": "FVdrqCAqdf33"
      }
    },
    {
      "cell_type": "code",
      "source": [
        "import pandas as pd\n",
        "from pandas import read_excel\n",
        "file_name = '/content/gdrive/MyDrive/word2vecAllghor.csv'\n",
        "# Glove3decimal.csv\n",
        "# Gloveallghor.csv \n",
        "df = pd.read_csv(file_name, index_col=0)\n",
        "#df = pd.read_csv(file_name)\n",
        "#print(df.head()) # print the first 5 rows\n",
        "df"
      ],
      "metadata": {
        "colab": {
          "base_uri": "https://localhost:8080/",
          "height": 519
        },
        "id": "MjqSFInSdbtN",
        "outputId": "08266782-a8eb-40ec-8fbc-9b4240bd4c7f"
      },
      "execution_count": 44,
      "outputs": [
        {
          "output_type": "execute_result",
          "data": {
            "text/plain": [
              "               tpc1      tpc2      tpc3      tpc4      tpc5      tpc6  \\\n",
              "tpc0                                                                    \n",
              "-0.037980 -0.022374 -0.000357 -0.052267 -0.080404 -0.026881  0.054797   \n",
              "-0.046191 -0.036129 -0.002969 -0.074574 -0.081948 -0.029251  0.039459   \n",
              "-0.039378 -0.029917 -0.002562 -0.051458 -0.080362 -0.040203  0.048534   \n",
              "-0.037194 -0.028180  0.002139 -0.050322 -0.086340 -0.028409  0.051199   \n",
              "-0.038799 -0.011877  0.008337 -0.024062 -0.086949 -0.031327  0.053610   \n",
              "...             ...       ...       ...       ...       ...       ...   \n",
              "-0.035127 -0.025364 -0.005092 -0.051440 -0.087592 -0.032727  0.044721   \n",
              "-0.040461 -0.027793 -0.002266 -0.064466 -0.082948 -0.030396  0.041946   \n",
              "-0.040884 -0.032834  0.000521 -0.061286 -0.083521 -0.033411  0.044535   \n",
              "-0.034488 -0.028598  0.003122 -0.053502 -0.086741 -0.035552  0.051656   \n",
              "-0.033585 -0.027803 -0.003410 -0.054876 -0.079687 -0.029866  0.049788   \n",
              "\n",
              "               tpc7      tpc8      tpc9     tpc10  ...    tpc503    tpc504  \\\n",
              "tpc0                                               ...                       \n",
              "-0.037980 -0.015409 -0.011325 -0.086878 -0.049168  ... -0.016386  0.069154   \n",
              "-0.046191 -0.008533 -0.009899 -0.084967 -0.047318  ... -0.011916  0.075506   \n",
              "-0.039378  0.002905 -0.015046 -0.078904 -0.044748  ... -0.015752  0.067525   \n",
              "-0.037194 -0.011362 -0.014576 -0.086905 -0.051721  ... -0.008505  0.067997   \n",
              "-0.038799 -0.003705 -0.022229 -0.075298 -0.044640  ... -0.026913  0.064437   \n",
              "...             ...       ...       ...       ...  ...       ...       ...   \n",
              "-0.035127 -0.005408 -0.013662 -0.085221 -0.048389  ... -0.017075  0.070939   \n",
              "-0.040461 -0.009911 -0.010617 -0.082913 -0.043966  ... -0.015115  0.075318   \n",
              "-0.040884 -0.003691 -0.013037 -0.082547 -0.047447  ... -0.013392  0.072140   \n",
              "-0.034488 -0.006196 -0.015891 -0.088053 -0.047078  ... -0.017452  0.070110   \n",
              "-0.033585 -0.004600 -0.015356 -0.086367 -0.048841  ... -0.013011  0.068105   \n",
              "\n",
              "             tpc505    tpc506    tpc507    tpc508    tpc509    tpc510  \\\n",
              "tpc0                                                                    \n",
              "-0.037980 -0.036884 -0.063003 -0.025940 -0.018162 -0.058889  0.038233   \n",
              "-0.046191 -0.035777 -0.071198 -0.021577 -0.018990 -0.068998  0.038115   \n",
              "-0.039378 -0.024492 -0.072688 -0.020258 -0.016679 -0.069656  0.024425   \n",
              "-0.037194 -0.035360 -0.068766 -0.022651 -0.016767 -0.059751  0.035481   \n",
              "-0.038799 -0.028088 -0.065136 -0.033341 -0.011983 -0.060205  0.029901   \n",
              "...             ...       ...       ...       ...       ...       ...   \n",
              "-0.035127 -0.032283 -0.065380 -0.024029 -0.016608 -0.063072  0.032563   \n",
              "-0.040461 -0.036529 -0.067973 -0.021901 -0.015374 -0.065092  0.039050   \n",
              "-0.040884 -0.033799 -0.066692 -0.023416 -0.023398 -0.068315  0.029874   \n",
              "-0.034488 -0.032353 -0.062976 -0.025610 -0.019817 -0.068944  0.038234   \n",
              "-0.033585 -0.034487 -0.065462 -0.021642 -0.014466 -0.061377  0.034650   \n",
              "\n",
              "             tpc511  Target  \n",
              "tpc0                         \n",
              "-0.037980 -0.054769       0  \n",
              "-0.046191 -0.053785       1  \n",
              "-0.039378 -0.054232       0  \n",
              "-0.037194 -0.051175       0  \n",
              "-0.038799 -0.052348       1  \n",
              "...             ...     ...  \n",
              "-0.035127 -0.052832       1  \n",
              "-0.040461 -0.050543       1  \n",
              "-0.040884 -0.052421       1  \n",
              "-0.034488 -0.052655       1  \n",
              "-0.033585 -0.055413       1  \n",
              "\n",
              "[2104 rows x 512 columns]"
            ],
            "text/html": [
              "\n",
              "  <div id=\"df-dff675d5-a59d-4c43-9992-01dba597dea3\">\n",
              "    <div class=\"colab-df-container\">\n",
              "      <div>\n",
              "<style scoped>\n",
              "    .dataframe tbody tr th:only-of-type {\n",
              "        vertical-align: middle;\n",
              "    }\n",
              "\n",
              "    .dataframe tbody tr th {\n",
              "        vertical-align: top;\n",
              "    }\n",
              "\n",
              "    .dataframe thead th {\n",
              "        text-align: right;\n",
              "    }\n",
              "</style>\n",
              "<table border=\"1\" class=\"dataframe\">\n",
              "  <thead>\n",
              "    <tr style=\"text-align: right;\">\n",
              "      <th></th>\n",
              "      <th>tpc1</th>\n",
              "      <th>tpc2</th>\n",
              "      <th>tpc3</th>\n",
              "      <th>tpc4</th>\n",
              "      <th>tpc5</th>\n",
              "      <th>tpc6</th>\n",
              "      <th>tpc7</th>\n",
              "      <th>tpc8</th>\n",
              "      <th>tpc9</th>\n",
              "      <th>tpc10</th>\n",
              "      <th>...</th>\n",
              "      <th>tpc503</th>\n",
              "      <th>tpc504</th>\n",
              "      <th>tpc505</th>\n",
              "      <th>tpc506</th>\n",
              "      <th>tpc507</th>\n",
              "      <th>tpc508</th>\n",
              "      <th>tpc509</th>\n",
              "      <th>tpc510</th>\n",
              "      <th>tpc511</th>\n",
              "      <th>Target</th>\n",
              "    </tr>\n",
              "    <tr>\n",
              "      <th>tpc0</th>\n",
              "      <th></th>\n",
              "      <th></th>\n",
              "      <th></th>\n",
              "      <th></th>\n",
              "      <th></th>\n",
              "      <th></th>\n",
              "      <th></th>\n",
              "      <th></th>\n",
              "      <th></th>\n",
              "      <th></th>\n",
              "      <th></th>\n",
              "      <th></th>\n",
              "      <th></th>\n",
              "      <th></th>\n",
              "      <th></th>\n",
              "      <th></th>\n",
              "      <th></th>\n",
              "      <th></th>\n",
              "      <th></th>\n",
              "      <th></th>\n",
              "      <th></th>\n",
              "    </tr>\n",
              "  </thead>\n",
              "  <tbody>\n",
              "    <tr>\n",
              "      <th>-0.037980</th>\n",
              "      <td>-0.022374</td>\n",
              "      <td>-0.000357</td>\n",
              "      <td>-0.052267</td>\n",
              "      <td>-0.080404</td>\n",
              "      <td>-0.026881</td>\n",
              "      <td>0.054797</td>\n",
              "      <td>-0.015409</td>\n",
              "      <td>-0.011325</td>\n",
              "      <td>-0.086878</td>\n",
              "      <td>-0.049168</td>\n",
              "      <td>...</td>\n",
              "      <td>-0.016386</td>\n",
              "      <td>0.069154</td>\n",
              "      <td>-0.036884</td>\n",
              "      <td>-0.063003</td>\n",
              "      <td>-0.025940</td>\n",
              "      <td>-0.018162</td>\n",
              "      <td>-0.058889</td>\n",
              "      <td>0.038233</td>\n",
              "      <td>-0.054769</td>\n",
              "      <td>0</td>\n",
              "    </tr>\n",
              "    <tr>\n",
              "      <th>-0.046191</th>\n",
              "      <td>-0.036129</td>\n",
              "      <td>-0.002969</td>\n",
              "      <td>-0.074574</td>\n",
              "      <td>-0.081948</td>\n",
              "      <td>-0.029251</td>\n",
              "      <td>0.039459</td>\n",
              "      <td>-0.008533</td>\n",
              "      <td>-0.009899</td>\n",
              "      <td>-0.084967</td>\n",
              "      <td>-0.047318</td>\n",
              "      <td>...</td>\n",
              "      <td>-0.011916</td>\n",
              "      <td>0.075506</td>\n",
              "      <td>-0.035777</td>\n",
              "      <td>-0.071198</td>\n",
              "      <td>-0.021577</td>\n",
              "      <td>-0.018990</td>\n",
              "      <td>-0.068998</td>\n",
              "      <td>0.038115</td>\n",
              "      <td>-0.053785</td>\n",
              "      <td>1</td>\n",
              "    </tr>\n",
              "    <tr>\n",
              "      <th>-0.039378</th>\n",
              "      <td>-0.029917</td>\n",
              "      <td>-0.002562</td>\n",
              "      <td>-0.051458</td>\n",
              "      <td>-0.080362</td>\n",
              "      <td>-0.040203</td>\n",
              "      <td>0.048534</td>\n",
              "      <td>0.002905</td>\n",
              "      <td>-0.015046</td>\n",
              "      <td>-0.078904</td>\n",
              "      <td>-0.044748</td>\n",
              "      <td>...</td>\n",
              "      <td>-0.015752</td>\n",
              "      <td>0.067525</td>\n",
              "      <td>-0.024492</td>\n",
              "      <td>-0.072688</td>\n",
              "      <td>-0.020258</td>\n",
              "      <td>-0.016679</td>\n",
              "      <td>-0.069656</td>\n",
              "      <td>0.024425</td>\n",
              "      <td>-0.054232</td>\n",
              "      <td>0</td>\n",
              "    </tr>\n",
              "    <tr>\n",
              "      <th>-0.037194</th>\n",
              "      <td>-0.028180</td>\n",
              "      <td>0.002139</td>\n",
              "      <td>-0.050322</td>\n",
              "      <td>-0.086340</td>\n",
              "      <td>-0.028409</td>\n",
              "      <td>0.051199</td>\n",
              "      <td>-0.011362</td>\n",
              "      <td>-0.014576</td>\n",
              "      <td>-0.086905</td>\n",
              "      <td>-0.051721</td>\n",
              "      <td>...</td>\n",
              "      <td>-0.008505</td>\n",
              "      <td>0.067997</td>\n",
              "      <td>-0.035360</td>\n",
              "      <td>-0.068766</td>\n",
              "      <td>-0.022651</td>\n",
              "      <td>-0.016767</td>\n",
              "      <td>-0.059751</td>\n",
              "      <td>0.035481</td>\n",
              "      <td>-0.051175</td>\n",
              "      <td>0</td>\n",
              "    </tr>\n",
              "    <tr>\n",
              "      <th>-0.038799</th>\n",
              "      <td>-0.011877</td>\n",
              "      <td>0.008337</td>\n",
              "      <td>-0.024062</td>\n",
              "      <td>-0.086949</td>\n",
              "      <td>-0.031327</td>\n",
              "      <td>0.053610</td>\n",
              "      <td>-0.003705</td>\n",
              "      <td>-0.022229</td>\n",
              "      <td>-0.075298</td>\n",
              "      <td>-0.044640</td>\n",
              "      <td>...</td>\n",
              "      <td>-0.026913</td>\n",
              "      <td>0.064437</td>\n",
              "      <td>-0.028088</td>\n",
              "      <td>-0.065136</td>\n",
              "      <td>-0.033341</td>\n",
              "      <td>-0.011983</td>\n",
              "      <td>-0.060205</td>\n",
              "      <td>0.029901</td>\n",
              "      <td>-0.052348</td>\n",
              "      <td>1</td>\n",
              "    </tr>\n",
              "    <tr>\n",
              "      <th>...</th>\n",
              "      <td>...</td>\n",
              "      <td>...</td>\n",
              "      <td>...</td>\n",
              "      <td>...</td>\n",
              "      <td>...</td>\n",
              "      <td>...</td>\n",
              "      <td>...</td>\n",
              "      <td>...</td>\n",
              "      <td>...</td>\n",
              "      <td>...</td>\n",
              "      <td>...</td>\n",
              "      <td>...</td>\n",
              "      <td>...</td>\n",
              "      <td>...</td>\n",
              "      <td>...</td>\n",
              "      <td>...</td>\n",
              "      <td>...</td>\n",
              "      <td>...</td>\n",
              "      <td>...</td>\n",
              "      <td>...</td>\n",
              "      <td>...</td>\n",
              "    </tr>\n",
              "    <tr>\n",
              "      <th>-0.035127</th>\n",
              "      <td>-0.025364</td>\n",
              "      <td>-0.005092</td>\n",
              "      <td>-0.051440</td>\n",
              "      <td>-0.087592</td>\n",
              "      <td>-0.032727</td>\n",
              "      <td>0.044721</td>\n",
              "      <td>-0.005408</td>\n",
              "      <td>-0.013662</td>\n",
              "      <td>-0.085221</td>\n",
              "      <td>-0.048389</td>\n",
              "      <td>...</td>\n",
              "      <td>-0.017075</td>\n",
              "      <td>0.070939</td>\n",
              "      <td>-0.032283</td>\n",
              "      <td>-0.065380</td>\n",
              "      <td>-0.024029</td>\n",
              "      <td>-0.016608</td>\n",
              "      <td>-0.063072</td>\n",
              "      <td>0.032563</td>\n",
              "      <td>-0.052832</td>\n",
              "      <td>1</td>\n",
              "    </tr>\n",
              "    <tr>\n",
              "      <th>-0.040461</th>\n",
              "      <td>-0.027793</td>\n",
              "      <td>-0.002266</td>\n",
              "      <td>-0.064466</td>\n",
              "      <td>-0.082948</td>\n",
              "      <td>-0.030396</td>\n",
              "      <td>0.041946</td>\n",
              "      <td>-0.009911</td>\n",
              "      <td>-0.010617</td>\n",
              "      <td>-0.082913</td>\n",
              "      <td>-0.043966</td>\n",
              "      <td>...</td>\n",
              "      <td>-0.015115</td>\n",
              "      <td>0.075318</td>\n",
              "      <td>-0.036529</td>\n",
              "      <td>-0.067973</td>\n",
              "      <td>-0.021901</td>\n",
              "      <td>-0.015374</td>\n",
              "      <td>-0.065092</td>\n",
              "      <td>0.039050</td>\n",
              "      <td>-0.050543</td>\n",
              "      <td>1</td>\n",
              "    </tr>\n",
              "    <tr>\n",
              "      <th>-0.040884</th>\n",
              "      <td>-0.032834</td>\n",
              "      <td>0.000521</td>\n",
              "      <td>-0.061286</td>\n",
              "      <td>-0.083521</td>\n",
              "      <td>-0.033411</td>\n",
              "      <td>0.044535</td>\n",
              "      <td>-0.003691</td>\n",
              "      <td>-0.013037</td>\n",
              "      <td>-0.082547</td>\n",
              "      <td>-0.047447</td>\n",
              "      <td>...</td>\n",
              "      <td>-0.013392</td>\n",
              "      <td>0.072140</td>\n",
              "      <td>-0.033799</td>\n",
              "      <td>-0.066692</td>\n",
              "      <td>-0.023416</td>\n",
              "      <td>-0.023398</td>\n",
              "      <td>-0.068315</td>\n",
              "      <td>0.029874</td>\n",
              "      <td>-0.052421</td>\n",
              "      <td>1</td>\n",
              "    </tr>\n",
              "    <tr>\n",
              "      <th>-0.034488</th>\n",
              "      <td>-0.028598</td>\n",
              "      <td>0.003122</td>\n",
              "      <td>-0.053502</td>\n",
              "      <td>-0.086741</td>\n",
              "      <td>-0.035552</td>\n",
              "      <td>0.051656</td>\n",
              "      <td>-0.006196</td>\n",
              "      <td>-0.015891</td>\n",
              "      <td>-0.088053</td>\n",
              "      <td>-0.047078</td>\n",
              "      <td>...</td>\n",
              "      <td>-0.017452</td>\n",
              "      <td>0.070110</td>\n",
              "      <td>-0.032353</td>\n",
              "      <td>-0.062976</td>\n",
              "      <td>-0.025610</td>\n",
              "      <td>-0.019817</td>\n",
              "      <td>-0.068944</td>\n",
              "      <td>0.038234</td>\n",
              "      <td>-0.052655</td>\n",
              "      <td>1</td>\n",
              "    </tr>\n",
              "    <tr>\n",
              "      <th>-0.033585</th>\n",
              "      <td>-0.027803</td>\n",
              "      <td>-0.003410</td>\n",
              "      <td>-0.054876</td>\n",
              "      <td>-0.079687</td>\n",
              "      <td>-0.029866</td>\n",
              "      <td>0.049788</td>\n",
              "      <td>-0.004600</td>\n",
              "      <td>-0.015356</td>\n",
              "      <td>-0.086367</td>\n",
              "      <td>-0.048841</td>\n",
              "      <td>...</td>\n",
              "      <td>-0.013011</td>\n",
              "      <td>0.068105</td>\n",
              "      <td>-0.034487</td>\n",
              "      <td>-0.065462</td>\n",
              "      <td>-0.021642</td>\n",
              "      <td>-0.014466</td>\n",
              "      <td>-0.061377</td>\n",
              "      <td>0.034650</td>\n",
              "      <td>-0.055413</td>\n",
              "      <td>1</td>\n",
              "    </tr>\n",
              "  </tbody>\n",
              "</table>\n",
              "<p>2104 rows × 512 columns</p>\n",
              "</div>\n",
              "      <button class=\"colab-df-convert\" onclick=\"convertToInteractive('df-dff675d5-a59d-4c43-9992-01dba597dea3')\"\n",
              "              title=\"Convert this dataframe to an interactive table.\"\n",
              "              style=\"display:none;\">\n",
              "        \n",
              "  <svg xmlns=\"http://www.w3.org/2000/svg\" height=\"24px\"viewBox=\"0 0 24 24\"\n",
              "       width=\"24px\">\n",
              "    <path d=\"M0 0h24v24H0V0z\" fill=\"none\"/>\n",
              "    <path d=\"M18.56 5.44l.94 2.06.94-2.06 2.06-.94-2.06-.94-.94-2.06-.94 2.06-2.06.94zm-11 1L8.5 8.5l.94-2.06 2.06-.94-2.06-.94L8.5 2.5l-.94 2.06-2.06.94zm10 10l.94 2.06.94-2.06 2.06-.94-2.06-.94-.94-2.06-.94 2.06-2.06.94z\"/><path d=\"M17.41 7.96l-1.37-1.37c-.4-.4-.92-.59-1.43-.59-.52 0-1.04.2-1.43.59L10.3 9.45l-7.72 7.72c-.78.78-.78 2.05 0 2.83L4 21.41c.39.39.9.59 1.41.59.51 0 1.02-.2 1.41-.59l7.78-7.78 2.81-2.81c.8-.78.8-2.07 0-2.86zM5.41 20L4 18.59l7.72-7.72 1.47 1.35L5.41 20z\"/>\n",
              "  </svg>\n",
              "      </button>\n",
              "      \n",
              "  <style>\n",
              "    .colab-df-container {\n",
              "      display:flex;\n",
              "      flex-wrap:wrap;\n",
              "      gap: 12px;\n",
              "    }\n",
              "\n",
              "    .colab-df-convert {\n",
              "      background-color: #E8F0FE;\n",
              "      border: none;\n",
              "      border-radius: 50%;\n",
              "      cursor: pointer;\n",
              "      display: none;\n",
              "      fill: #1967D2;\n",
              "      height: 32px;\n",
              "      padding: 0 0 0 0;\n",
              "      width: 32px;\n",
              "    }\n",
              "\n",
              "    .colab-df-convert:hover {\n",
              "      background-color: #E2EBFA;\n",
              "      box-shadow: 0px 1px 2px rgba(60, 64, 67, 0.3), 0px 1px 3px 1px rgba(60, 64, 67, 0.15);\n",
              "      fill: #174EA6;\n",
              "    }\n",
              "\n",
              "    [theme=dark] .colab-df-convert {\n",
              "      background-color: #3B4455;\n",
              "      fill: #D2E3FC;\n",
              "    }\n",
              "\n",
              "    [theme=dark] .colab-df-convert:hover {\n",
              "      background-color: #434B5C;\n",
              "      box-shadow: 0px 1px 3px 1px rgba(0, 0, 0, 0.15);\n",
              "      filter: drop-shadow(0px 1px 2px rgba(0, 0, 0, 0.3));\n",
              "      fill: #FFFFFF;\n",
              "    }\n",
              "  </style>\n",
              "\n",
              "      <script>\n",
              "        const buttonEl =\n",
              "          document.querySelector('#df-dff675d5-a59d-4c43-9992-01dba597dea3 button.colab-df-convert');\n",
              "        buttonEl.style.display =\n",
              "          google.colab.kernel.accessAllowed ? 'block' : 'none';\n",
              "\n",
              "        async function convertToInteractive(key) {\n",
              "          const element = document.querySelector('#df-dff675d5-a59d-4c43-9992-01dba597dea3');\n",
              "          const dataTable =\n",
              "            await google.colab.kernel.invokeFunction('convertToInteractive',\n",
              "                                                     [key], {});\n",
              "          if (!dataTable) return;\n",
              "\n",
              "          const docLinkHtml = 'Like what you see? Visit the ' +\n",
              "            '<a target=\"_blank\" href=https://colab.research.google.com/notebooks/data_table.ipynb>data table notebook</a>'\n",
              "            + ' to learn more about interactive tables.';\n",
              "          element.innerHTML = '';\n",
              "          dataTable['output_type'] = 'display_data';\n",
              "          await google.colab.output.renderOutput(dataTable, element);\n",
              "          const docLink = document.createElement('div');\n",
              "          docLink.innerHTML = docLinkHtml;\n",
              "          element.appendChild(docLink);\n",
              "        }\n",
              "      </script>\n",
              "    </div>\n",
              "  </div>\n",
              "  "
            ]
          },
          "metadata": {},
          "execution_count": 44
        }
      ]
    },
    {
      "cell_type": "code",
      "source": [
        "df.shape"
      ],
      "metadata": {
        "colab": {
          "base_uri": "https://localhost:8080/"
        },
        "id": "C8eh_8DBdpHS",
        "outputId": "e192050b-6b6e-40be-b479-c5884c80c27e"
      },
      "execution_count": 45,
      "outputs": [
        {
          "output_type": "execute_result",
          "data": {
            "text/plain": [
              "(2104, 512)"
            ]
          },
          "metadata": {},
          "execution_count": 45
        }
      ]
    },
    {
      "cell_type": "code",
      "source": [
        "features = np.array(df.columns[:-1])\n",
        "target = 'Target'\n",
        "\n",
        "X = df[features]\n",
        "y = df[target]"
      ],
      "metadata": {
        "id": "Z3UPqwTldtMe"
      },
      "execution_count": 46,
      "outputs": []
    },
    {
      "cell_type": "code",
      "source": [
        "#Create independent and Dependent Features\n",
        "columns = df.columns.tolist()\n",
        "# Filter the columns to remove data we do not want \n",
        "columns = [c for c in columns if c not in [\"Target\"]]\n",
        "# Store the variable we are predicting \n",
        "target = \"Target\"\n",
        "# Define a random state \n",
        "state = np.random.RandomState(0)\n",
        "X = X\n",
        "y = y\n",
        "X_outliers = state.uniform(low=0, high=1, size=(X.shape[0], X.shape[1]))\n",
        "# Print the shapes of X & Y\n",
        "print(X.shape)\n",
        "print(y.shape)"
      ],
      "metadata": {
        "colab": {
          "base_uri": "https://localhost:8080/"
        },
        "id": "DOAXHOEadvuf",
        "outputId": "902353bc-1cad-4b1d-d95e-e3565d25e719"
      },
      "execution_count": 47,
      "outputs": [
        {
          "output_type": "stream",
          "name": "stdout",
          "text": [
            "(2104, 511)\n",
            "(2104,)\n"
          ]
        }
      ]
    },
    {
      "cell_type": "code",
      "source": [
        "count_classes = pd.value_counts(y, sort = True)\n",
        "\n",
        "count_classes.plot(kind = 'bar', rot=0)\n",
        "\n",
        "plt.title(\"Class Distribution\")\n",
        "\n",
        "LABELS = [\"Zero\", \"One\"]\n",
        "\n",
        "plt.xticks(range(2), LABELS)\n",
        "\n",
        "plt.xlabel(\"Class\")\n",
        "\n",
        "plt.ylabel(\"Frequency\")"
      ],
      "metadata": {
        "colab": {
          "base_uri": "https://localhost:8080/",
          "height": 312
        },
        "id": "__wH0p4mdzF1",
        "outputId": "a4496146-afeb-4904-e2f3-95bed10af5c8"
      },
      "execution_count": 48,
      "outputs": [
        {
          "output_type": "execute_result",
          "data": {
            "text/plain": [
              "Text(0, 0.5, 'Frequency')"
            ]
          },
          "metadata": {},
          "execution_count": 48
        },
        {
          "output_type": "display_data",
          "data": {
            "text/plain": [
              "<Figure size 432x288 with 1 Axes>"
            ],
            "image/png": "[encoded data removed]"
          },
          "metadata": {
            "needs_background": "light"
          }
        }
      ]
    },
    {
      "cell_type": "code",
      "source": [
        "One = df[y==1]\n",
        "\n",
        "Zero = df[y==0]\n",
        "\n",
        "print(Zero.shape,One.shape)"
      ],
      "metadata": {
        "colab": {
          "base_uri": "https://localhost:8080/"
        },
        "id": "l2ySeUtTfSc9",
        "outputId": "522df48b-d3a6-42c5-9685-d5c6d66e4f3d"
      },
      "execution_count": 49,
      "outputs": [
        {
          "output_type": "stream",
          "name": "stdout",
          "text": [
            "(1041, 512) (1063, 512)\n"
          ]
        }
      ]
    },
    {
      "cell_type": "code",
      "source": [
        "from imblearn.over_sampling import SMOTE\n",
        "sm = SMOTE(sampling_strategy='minority')\n",
        "X_res,y_res=sm.fit_resample(X,y)"
      ],
      "metadata": {
        "id": "yd0v6ZEYfW_u"
      },
      "execution_count": 50,
      "outputs": []
    },
    {
      "cell_type": "code",
      "source": [
        "print(X_res.shape)\n",
        "print(y_res.shape)"
      ],
      "metadata": {
        "colab": {
          "base_uri": "https://localhost:8080/"
        },
        "id": "7yVrZP5Lfa7J",
        "outputId": "659a868f-f6fd-4c02-ab55-325c7146b6dd"
      },
      "execution_count": 51,
      "outputs": [
        {
          "output_type": "stream",
          "name": "stdout",
          "text": [
            "(2126, 511)\n",
            "(2126,)\n"
          ]
        }
      ]
    },
    {
      "cell_type": "code",
      "source": [
        "#Split data into independent (X) and dependent(Y) columns\n",
        "\n",
        "y = y_res\n",
        "X = X_res"
      ],
      "metadata": {
        "id": "gxhK12ghfd9D"
      },
      "execution_count": 52,
      "outputs": []
    },
    {
      "cell_type": "code",
      "source": [
        "X.shape"
      ],
      "metadata": {
        "colab": {
          "base_uri": "https://localhost:8080/"
        },
        "id": "63-_3ILefhhS",
        "outputId": "2a054f3d-2e4b-4045-f7ea-56aaa9a12c5d"
      },
      "execution_count": 53,
      "outputs": [
        {
          "output_type": "execute_result",
          "data": {
            "text/plain": [
              "(2126, 511)"
            ]
          },
          "metadata": {},
          "execution_count": 53
        }
      ]
    },
    {
      "cell_type": "code",
      "source": [
        "from sklearn.model_selection import train_test_split\n",
        "X_train, X_test, y_train, y_test = train_test_split(X, y, test_size = 0.20, random_state = 50)"
      ],
      "metadata": {
        "id": "iue7umd1fj49"
      },
      "execution_count": 54,
      "outputs": []
    },
    {
      "cell_type": "code",
      "source": [
        "print(X_train.shape)\n",
        "print(X_test.shape)"
      ],
      "metadata": {
        "colab": {
          "base_uri": "https://localhost:8080/"
        },
        "id": "2agMKy3_fm7q",
        "outputId": "9828a44e-e83b-4c78-c3d6-b0bff636dbc5"
      },
      "execution_count": 55,
      "outputs": [
        {
          "output_type": "stream",
          "name": "stdout",
          "text": [
            "(1700, 511)\n",
            "(426, 511)\n"
          ]
        }
      ]
    },
    {
      "cell_type": "code",
      "source": [
        "scaler = StandardScaler()\n",
        "X_train = scaler.fit_transform(X_train)\n",
        "X_test = scaler.transform(X_test)"
      ],
      "metadata": {
        "id": "b6yxyDc_fpgg"
      },
      "execution_count": 56,
      "outputs": []
    },
    {
      "cell_type": "code",
      "source": [
        "X_train = X_train.reshape(1700, 511,1)\n",
        "X_test = X_test.reshape(426, 511, 1)"
      ],
      "metadata": {
        "id": "68YIMGzFfvTh"
      },
      "execution_count": 57,
      "outputs": []
    },
    {
      "cell_type": "code",
      "source": [
        "epochs =50\n",
        "model = Sequential()\n",
        "model.add(Conv1D(filters=32, kernel_size=4, activation='relu', input_shape = (511,1))) ##1st conv layer\n",
        "model.add(BatchNormalization())\n",
        "model.add(Dropout(0.2))\n",
        "\n",
        "model.add(Conv1D(filters=64, kernel_size=4, activation='relu'))  #2nd Conv layer\n",
        "model.add(BatchNormalization())\n",
        "#model.add(Dropout(0.3))\n",
        "\n",
        "model.add(Flatten())    #Flattening\n",
        "model.add(Dense(64, activation='relu'))  ##fully connected layer\n",
        "#model.add(Dropout(0.3))\n",
        "\n",
        "model.add(Dense(1, activation='sigmoid'))   #output layer"
      ],
      "metadata": {
        "id": "upbRBvT1fxxj"
      },
      "execution_count": 59,
      "outputs": []
    },
    {
      "cell_type": "code",
      "source": [
        "model.compile(optimizer=Adam(learning_rate=0.00001), loss = 'binary_crossentropy', metrics=['accuracy'])\n",
        "\n",
        "history = model.fit(X_train, y_train, epochs=epochs, batch_size=32,validation_data=(X_test, y_test), verbose=1)"
      ],
      "metadata": {
        "colab": {
          "base_uri": "https://localhost:8080/"
        },
        "id": "vlsAGJpyf06a",
        "outputId": "7ed50316-7199-4c4b-a8ab-2cc25cb56678"
      },
      "execution_count": 60,
      "outputs": [
        {
          "output_type": "stream",
          "name": "stdout",
          "text": [
            "Epoch 1/50\n",
            "54/54 [==============================] - 4s 25ms/step - loss: 0.7856 - accuracy: 0.5606 - val_loss: 0.6740 - val_accuracy: 0.6103\n",
            "Epoch 2/50\n",
            "54/54 [==============================] - 1s 14ms/step - loss: 0.6496 - accuracy: 0.6482 - val_loss: 0.6612 - val_accuracy: 0.6150\n",
            "Epoch 3/50\n",
            "54/54 [==============================] - 1s 13ms/step - loss: 0.5914 - accuracy: 0.7029 - val_loss: 0.6338 - val_accuracy: 0.6573\n",
            "Epoch 4/50\n",
            "54/54 [==============================] - 1s 12ms/step - loss: 0.5465 - accuracy: 0.7224 - val_loss: 0.6231 - val_accuracy: 0.6432\n",
            "Epoch 5/50\n",
            "54/54 [==============================] - 1s 12ms/step - loss: 0.5155 - accuracy: 0.7524 - val_loss: 0.6111 - val_accuracy: 0.6714\n",
            "Epoch 6/50\n",
            "54/54 [==============================] - 1s 12ms/step - loss: 0.4822 - accuracy: 0.7588 - val_loss: 0.6130 - val_accuracy: 0.6596\n",
            "Epoch 7/50\n",
            "54/54 [==============================] - 1s 12ms/step - loss: 0.4553 - accuracy: 0.7935 - val_loss: 0.6093 - val_accuracy: 0.6690\n",
            "Epoch 8/50\n",
            "54/54 [==============================] - 1s 13ms/step - loss: 0.4337 - accuracy: 0.8029 - val_loss: 0.6044 - val_accuracy: 0.6737\n",
            "Epoch 9/50\n",
            "54/54 [==============================] - 1s 12ms/step - loss: 0.4214 - accuracy: 0.8141 - val_loss: 0.6217 - val_accuracy: 0.6690\n",
            "Epoch 10/50\n",
            "54/54 [==============================] - 1s 13ms/step - loss: 0.3940 - accuracy: 0.8335 - val_loss: 0.6180 - val_accuracy: 0.6831\n",
            "Epoch 11/50\n",
            "54/54 [==============================] - 1s 12ms/step - loss: 0.3709 - accuracy: 0.8488 - val_loss: 0.6167 - val_accuracy: 0.6854\n",
            "Epoch 12/50\n",
            "54/54 [==============================] - 1s 12ms/step - loss: 0.3604 - accuracy: 0.8594 - val_loss: 0.6358 - val_accuracy: 0.6925\n",
            "Epoch 13/50\n",
            "54/54 [==============================] - 1s 12ms/step - loss: 0.3408 - accuracy: 0.8718 - val_loss: 0.6313 - val_accuracy: 0.7066\n",
            "Epoch 14/50\n",
            "54/54 [==============================] - 1s 12ms/step - loss: 0.3283 - accuracy: 0.8853 - val_loss: 0.6358 - val_accuracy: 0.6878\n",
            "Epoch 15/50\n",
            "54/54 [==============================] - 1s 12ms/step - loss: 0.3080 - accuracy: 0.8959 - val_loss: 0.6343 - val_accuracy: 0.6995\n",
            "Epoch 16/50\n",
            "54/54 [==============================] - 1s 12ms/step - loss: 0.3019 - accuracy: 0.9024 - val_loss: 0.6432 - val_accuracy: 0.6925\n",
            "Epoch 17/50\n",
            "54/54 [==============================] - 1s 12ms/step - loss: 0.2830 - accuracy: 0.9147 - val_loss: 0.6364 - val_accuracy: 0.7066\n",
            "Epoch 18/50\n",
            "54/54 [==============================] - 1s 13ms/step - loss: 0.2729 - accuracy: 0.9200 - val_loss: 0.6446 - val_accuracy: 0.6972\n",
            "Epoch 19/50\n",
            "54/54 [==============================] - 1s 12ms/step - loss: 0.2630 - accuracy: 0.9259 - val_loss: 0.6604 - val_accuracy: 0.6901\n",
            "Epoch 20/50\n",
            "54/54 [==============================] - 1s 12ms/step - loss: 0.2523 - accuracy: 0.9182 - val_loss: 0.6518 - val_accuracy: 0.6878\n",
            "Epoch 21/50\n",
            "54/54 [==============================] - 1s 12ms/step - loss: 0.2467 - accuracy: 0.9324 - val_loss: 0.6509 - val_accuracy: 0.7230\n",
            "Epoch 22/50\n",
            "54/54 [==============================] - 1s 12ms/step - loss: 0.2339 - accuracy: 0.9412 - val_loss: 0.6539 - val_accuracy: 0.6948\n",
            "Epoch 23/50\n",
            "54/54 [==============================] - 1s 12ms/step - loss: 0.2196 - accuracy: 0.9482 - val_loss: 0.6640 - val_accuracy: 0.6972\n",
            "Epoch 24/50\n",
            "54/54 [==============================] - 1s 12ms/step - loss: 0.2148 - accuracy: 0.9500 - val_loss: 0.6695 - val_accuracy: 0.6995\n",
            "Epoch 25/50\n",
            "54/54 [==============================] - 1s 12ms/step - loss: 0.2060 - accuracy: 0.9453 - val_loss: 0.6655 - val_accuracy: 0.6948\n",
            "Epoch 26/50\n",
            "54/54 [==============================] - 1s 12ms/step - loss: 0.1984 - accuracy: 0.9541 - val_loss: 0.6680 - val_accuracy: 0.6948\n",
            "Epoch 27/50\n",
            "54/54 [==============================] - 1s 12ms/step - loss: 0.1899 - accuracy: 0.9518 - val_loss: 0.6775 - val_accuracy: 0.6878\n",
            "Epoch 28/50\n",
            "54/54 [==============================] - 1s 13ms/step - loss: 0.1869 - accuracy: 0.9553 - val_loss: 0.6799 - val_accuracy: 0.7089\n",
            "Epoch 29/50\n",
            "54/54 [==============================] - 1s 12ms/step - loss: 0.1756 - accuracy: 0.9659 - val_loss: 0.6827 - val_accuracy: 0.6948\n",
            "Epoch 30/50\n",
            "54/54 [==============================] - 1s 12ms/step - loss: 0.1700 - accuracy: 0.9700 - val_loss: 0.6808 - val_accuracy: 0.6995\n",
            "Epoch 31/50\n",
            "54/54 [==============================] - 1s 12ms/step - loss: 0.1643 - accuracy: 0.9671 - val_loss: 0.6963 - val_accuracy: 0.6901\n",
            "Epoch 32/50\n",
            "54/54 [==============================] - 1s 12ms/step - loss: 0.1654 - accuracy: 0.9641 - val_loss: 0.7011 - val_accuracy: 0.6901\n",
            "Epoch 33/50\n",
            "54/54 [==============================] - 1s 12ms/step - loss: 0.1587 - accuracy: 0.9682 - val_loss: 0.6886 - val_accuracy: 0.7136\n",
            "Epoch 34/50\n",
            "54/54 [==============================] - 1s 12ms/step - loss: 0.1486 - accuracy: 0.9735 - val_loss: 0.7149 - val_accuracy: 0.6878\n",
            "Epoch 35/50\n",
            "54/54 [==============================] - 1s 12ms/step - loss: 0.1451 - accuracy: 0.9794 - val_loss: 0.7174 - val_accuracy: 0.6995\n",
            "Epoch 36/50\n",
            "54/54 [==============================] - 1s 12ms/step - loss: 0.1389 - accuracy: 0.9776 - val_loss: 0.7110 - val_accuracy: 0.6925\n",
            "Epoch 37/50\n",
            "54/54 [==============================] - 1s 12ms/step - loss: 0.1356 - accuracy: 0.9765 - val_loss: 0.7193 - val_accuracy: 0.7019\n",
            "Epoch 38/50\n",
            "54/54 [==============================] - 1s 12ms/step - loss: 0.1273 - accuracy: 0.9865 - val_loss: 0.7271 - val_accuracy: 0.7042\n",
            "Epoch 39/50\n",
            "54/54 [==============================] - 1s 12ms/step - loss: 0.1262 - accuracy: 0.9782 - val_loss: 0.7193 - val_accuracy: 0.7042\n",
            "Epoch 40/50\n",
            "54/54 [==============================] - 1s 12ms/step - loss: 0.1208 - accuracy: 0.9829 - val_loss: 0.7195 - val_accuracy: 0.7160\n",
            "Epoch 41/50\n",
            "54/54 [==============================] - 1s 12ms/step - loss: 0.1175 - accuracy: 0.9829 - val_loss: 0.7378 - val_accuracy: 0.6995\n",
            "Epoch 42/50\n",
            "54/54 [==============================] - 1s 12ms/step - loss: 0.1093 - accuracy: 0.9871 - val_loss: 0.7237 - val_accuracy: 0.6995\n",
            "Epoch 43/50\n",
            "54/54 [==============================] - 1s 13ms/step - loss: 0.1078 - accuracy: 0.9871 - val_loss: 0.7284 - val_accuracy: 0.7277\n",
            "Epoch 44/50\n",
            "54/54 [==============================] - 1s 12ms/step - loss: 0.1039 - accuracy: 0.9865 - val_loss: 0.7495 - val_accuracy: 0.6948\n",
            "Epoch 45/50\n",
            "54/54 [==============================] - 1s 13ms/step - loss: 0.1030 - accuracy: 0.9871 - val_loss: 0.7494 - val_accuracy: 0.6972\n",
            "Epoch 46/50\n",
            "54/54 [==============================] - 1s 12ms/step - loss: 0.1016 - accuracy: 0.9853 - val_loss: 0.7608 - val_accuracy: 0.6948\n",
            "Epoch 47/50\n",
            "54/54 [==============================] - 1s 12ms/step - loss: 0.0973 - accuracy: 0.9853 - val_loss: 0.7644 - val_accuracy: 0.7019\n",
            "Epoch 48/50\n",
            "54/54 [==============================] - 1s 12ms/step - loss: 0.0957 - accuracy: 0.9865 - val_loss: 0.7776 - val_accuracy: 0.6854\n",
            "Epoch 49/50\n",
            "54/54 [==============================] - 1s 12ms/step - loss: 0.0861 - accuracy: 0.9918 - val_loss: 0.7532 - val_accuracy: 0.6972\n",
            "Epoch 50/50\n",
            "54/54 [==============================] - 1s 12ms/step - loss: 0.0851 - accuracy: 0.9918 - val_loss: 0.7711 - val_accuracy: 0.6948\n"
          ]
        }
      ]
    },
    {
      "cell_type": "code",
      "source": [
        "#y_pred = model.predict(X_train).ravel()\n",
        "from sklearn.metrics import roc_curve\n",
        "y_pred_cnn3 = model.predict(X_test).ravel()\n",
        "fpr_3, tpr_3, thresholds = roc_curve(y_test, y_pred_cnn3)\n",
        "from sklearn.metrics import auc\n",
        "auc_score3 = auc(fpr_3, tpr_3)\n",
        "auc_score3"
      ],
      "metadata": {
        "colab": {
          "base_uri": "https://localhost:8080/"
        },
        "id": "cFB-6kOYf4Kk",
        "outputId": "b7c00a68-77c2-4100-fc14-3d2a1f7864c8"
      },
      "execution_count": 61,
      "outputs": [
        {
          "output_type": "execute_result",
          "data": {
            "text/plain": [
              "0.770775607917895"
            ]
          },
          "metadata": {},
          "execution_count": 61
        }
      ]
    },
    {
      "cell_type": "code",
      "source": [
        "from sklearn.metrics import average_precision_score, precision_recall_curve\n",
        "y_pred_cnn3 = model.predict(X_test).ravel()\n",
        "precision_3, recall_3, thresholds = precision_recall_curve(y_test, y_pred_cnn3)\n",
        "aupr_score3 = auc(recall_3, precision_3)\n",
        "print(aupr_score3)"
      ],
      "metadata": {
        "colab": {
          "base_uri": "https://localhost:8080/"
        },
        "id": "E49oavbiU3BW",
        "outputId": "92e3ccd8-f3ff-4e1b-f1a2-5fc3fb38c785"
      },
      "execution_count": 62,
      "outputs": [
        {
          "output_type": "stream",
          "name": "stdout",
          "text": [
            "0.7444984872871666\n"
          ]
        }
      ]
    },
    {
      "cell_type": "markdown",
      "source": [
        "## 4.Glove+FastText"
      ],
      "metadata": {
        "id": "Y3xCkEzFhElV"
      }
    },
    {
      "cell_type": "code",
      "source": [
        "import pandas as pd\n",
        "from pandas import read_excel\n",
        "file_name = '/content/gdrive/MyDrive/fasttext+Glove_allghor.csv'\n",
        "# Glove3decimal.csv\n",
        "# Gloveallghor.csv \n",
        "#df = pd.read_csv(file_name, index_col=0)\n",
        "df = pd.read_csv(file_name)\n",
        "print(df.head()) # print the first 5 rows"
      ],
      "metadata": {
        "colab": {
          "base_uri": "https://localhost:8080/"
        },
        "id": "biSWqF8EgGBk",
        "outputId": "e532317b-985b-4f18-fea5-18da84b16341"
      },
      "execution_count": 63,
      "outputs": [
        {
          "output_type": "stream",
          "name": "stdout",
          "text": [
            "       tpc0      tpc1      tpc2      tpc3      tpc4      tpc5      tpc6  \\\n",
            "0 -0.045342 -0.119586  0.006219 -0.088131  0.107532  0.033074 -0.006158   \n",
            "1 -0.035070 -0.122000  0.005920 -0.095999  0.114729  0.036265 -0.007036   \n",
            "2 -0.046473 -0.130959  0.012476 -0.091737  0.110245  0.033604 -0.001858   \n",
            "3 -0.048181 -0.113189 -0.000034 -0.076156  0.108456  0.039504 -0.002577   \n",
            "4 -0.053381 -0.134055  0.009311 -0.087240  0.109450  0.019906 -0.003768   \n",
            "\n",
            "       tpc7      tpc8      tpc9  ...   PSSM504   PSSM505   PSSM506   PSSM507  \\\n",
            "0 -0.049008 -0.041383 -0.035325  ...  0.034153 -0.028236  0.067696 -0.096331   \n",
            "1 -0.053136 -0.048028 -0.027183  ...  0.035826 -0.019969  0.041198 -0.089281   \n",
            "2 -0.046605 -0.042545 -0.005615  ...  0.027479 -0.015310  0.053065 -0.039859   \n",
            "3 -0.043908 -0.053065 -0.024547  ...  0.037971 -0.036039  0.087234 -0.085197   \n",
            "4 -0.045313 -0.037604 -0.012921  ...  0.012862 -0.017681  0.083901 -0.106877   \n",
            "\n",
            "    PSSM508   PSSM509   PSSM510   PSSM511   PSSM512  Target  \n",
            "0  0.025590  0.039283 -0.050542  0.122821 -0.076334       0  \n",
            "1  0.003722  0.021992 -0.056355  0.113405 -0.034552       1  \n",
            "2  0.043501  0.054468 -0.056376  0.150060 -0.062847       0  \n",
            "3  0.009901  0.028044 -0.068661  0.123129 -0.058323       0  \n",
            "4  0.073434  0.078891 -0.050987  0.136574 -0.083851       1  \n",
            "\n",
            "[5 rows x 1025 columns]\n"
          ]
        }
      ]
    },
    {
      "cell_type": "code",
      "source": [
        "df.shape"
      ],
      "metadata": {
        "colab": {
          "base_uri": "https://localhost:8080/"
        },
        "id": "JrZJkxTUhpLi",
        "outputId": "0599495f-dee5-43d9-9b38-1553a3ae8bb6"
      },
      "execution_count": 64,
      "outputs": [
        {
          "output_type": "execute_result",
          "data": {
            "text/plain": [
              "(2104, 1025)"
            ]
          },
          "metadata": {},
          "execution_count": 64
        }
      ]
    },
    {
      "cell_type": "code",
      "source": [
        "features = np.array(df.columns[:-1])\n",
        "target = 'Target'"
      ],
      "metadata": {
        "id": "st-uLHTwhtom"
      },
      "execution_count": 65,
      "outputs": []
    },
    {
      "cell_type": "code",
      "source": [
        "X = df[features]\n",
        "y = df[target]"
      ],
      "metadata": {
        "id": "Z_efZIhbhv7F"
      },
      "execution_count": 66,
      "outputs": []
    },
    {
      "cell_type": "code",
      "source": [
        "#Create independent and Dependent Features\n",
        "columns = df.columns.tolist()\n",
        "# Filter the columns to remove data we do not want \n",
        "columns = [c for c in columns if c not in [\"Target\"]]\n",
        "# Store the variable we are predicting \n",
        "target = \"Target\"\n",
        "# Define a random state \n",
        "state = np.random.RandomState(0)\n",
        "X = X\n",
        "y = y\n",
        "X_outliers = state.uniform(low=0, high=1, size=(X.shape[0], X.shape[1]))\n",
        "# Print the shapes of X & Y\n",
        "print(X.shape)\n",
        "print(y.shape)"
      ],
      "metadata": {
        "colab": {
          "base_uri": "https://localhost:8080/"
        },
        "id": "adGnIBedhyUs",
        "outputId": "f4426d86-74b2-4729-f0db-5d42f1dd5635"
      },
      "execution_count": 67,
      "outputs": [
        {
          "output_type": "stream",
          "name": "stdout",
          "text": [
            "(2104, 1024)\n",
            "(2104,)\n"
          ]
        }
      ]
    },
    {
      "cell_type": "code",
      "source": [
        "count_classes = pd.value_counts(y, sort = True)\n",
        "\n",
        "count_classes.plot(kind = 'bar', rot=0)\n",
        "\n",
        "plt.title(\"Class Distribution\")\n",
        "\n",
        "LABELS = [\"Zero\", \"One\"]\n",
        "\n",
        "plt.xticks(range(2), LABELS)\n",
        "\n",
        "plt.xlabel(\"Class\")\n",
        "\n",
        "plt.ylabel(\"Frequency\")"
      ],
      "metadata": {
        "colab": {
          "base_uri": "https://localhost:8080/",
          "height": 312
        },
        "id": "cOHLrrJuh1ZZ",
        "outputId": "b908debc-4ea4-4591-e934-1bf7aee44b68"
      },
      "execution_count": 68,
      "outputs": [
        {
          "output_type": "execute_result",
          "data": {
            "text/plain": [
              "Text(0, 0.5, 'Frequency')"
            ]
          },
          "metadata": {},
          "execution_count": 68
        },
        {
          "output_type": "display_data",
          "data": {
            "text/plain": [
              "<Figure size 432x288 with 1 Axes>"
            ],
            "image/png": "[encoded data removed]"
          },
          "metadata": {
            "needs_background": "light"
          }
        }
      ]
    },
    {
      "cell_type": "code",
      "source": [
        "One = df[y==1]\n",
        "\n",
        "Zero = df[y==0]\n",
        "\n",
        "print(Zero.shape,One.shape)"
      ],
      "metadata": {
        "colab": {
          "base_uri": "https://localhost:8080/"
        },
        "id": "nWvxCfQnh5qE",
        "outputId": "d3dad3ab-758e-4ade-fa04-784640f46c8e"
      },
      "execution_count": 69,
      "outputs": [
        {
          "output_type": "stream",
          "name": "stdout",
          "text": [
            "(1041, 1025) (1063, 1025)\n"
          ]
        }
      ]
    },
    {
      "cell_type": "code",
      "source": [
        "from imblearn.over_sampling import SMOTE\n",
        "sm = SMOTE(sampling_strategy='minority')\n",
        "X_res,y_res=sm.fit_resample(X,y)"
      ],
      "metadata": {
        "id": "5Kdclvcjh8vV"
      },
      "execution_count": 70,
      "outputs": []
    },
    {
      "cell_type": "code",
      "source": [
        "print(X_res.shape)\n",
        "print(y_res.shape)"
      ],
      "metadata": {
        "colab": {
          "base_uri": "https://localhost:8080/"
        },
        "id": "mwB_AmxZh_4X",
        "outputId": "1ef4f31c-c2b3-4f13-ed85-c3e2e7c23ec4"
      },
      "execution_count": 71,
      "outputs": [
        {
          "output_type": "stream",
          "name": "stdout",
          "text": [
            "(2126, 1024)\n",
            "(2126,)\n"
          ]
        }
      ]
    },
    {
      "cell_type": "code",
      "source": [
        "#Split data into independent (X) and dependent(Y) columns\n",
        "\n",
        "y = y_res\n",
        "X = X_res"
      ],
      "metadata": {
        "id": "CHDmPM05iCv_"
      },
      "execution_count": 72,
      "outputs": []
    },
    {
      "cell_type": "code",
      "source": [
        "X.shape"
      ],
      "metadata": {
        "colab": {
          "base_uri": "https://localhost:8080/"
        },
        "id": "5Cq14Q63iFzL",
        "outputId": "44ff0fd2-86a1-4ac1-f5bd-7babde690344"
      },
      "execution_count": 73,
      "outputs": [
        {
          "output_type": "execute_result",
          "data": {
            "text/plain": [
              "(2126, 1024)"
            ]
          },
          "metadata": {},
          "execution_count": 73
        }
      ]
    },
    {
      "cell_type": "code",
      "source": [
        "from sklearn.model_selection import train_test_split\n",
        "X_train, X_test, y_train, y_test = train_test_split(X, y, test_size = 0.20, random_state = 0)"
      ],
      "metadata": {
        "id": "M0eACgC9iIwu"
      },
      "execution_count": 82,
      "outputs": []
    },
    {
      "cell_type": "code",
      "source": [
        "print(X_train.shape)\n",
        "print(X_test.shape)"
      ],
      "metadata": {
        "colab": {
          "base_uri": "https://localhost:8080/"
        },
        "id": "akOdefBciLYC",
        "outputId": "5ac42130-898e-4c32-ed63-c755b91800f1"
      },
      "execution_count": 83,
      "outputs": [
        {
          "output_type": "stream",
          "name": "stdout",
          "text": [
            "(1700, 1024)\n",
            "(426, 1024)\n"
          ]
        }
      ]
    },
    {
      "cell_type": "code",
      "source": [
        "scaler = StandardScaler()\n",
        "X_train = scaler.fit_transform(X_train)\n",
        "X_test = scaler.transform(X_test)"
      ],
      "metadata": {
        "id": "L-4igj6liQ1J"
      },
      "execution_count": 84,
      "outputs": []
    },
    {
      "cell_type": "code",
      "source": [
        "X_train = X_train.reshape(1700, 1024,1)\n",
        "X_test = X_test.reshape(426, 1024, 1)"
      ],
      "metadata": {
        "id": "JVUMLxNkiVHF"
      },
      "execution_count": 85,
      "outputs": []
    },
    {
      "cell_type": "code",
      "source": [
        "epochs =50\n",
        "model = Sequential()\n",
        "model.add(Conv1D(filters=32, kernel_size=4, activation='relu', input_shape = (1024,1))) ##1st conv layer\n",
        "model.add(BatchNormalization())\n",
        "model.add(Dropout(0.2))\n",
        "\n",
        "model.add(Conv1D(filters=64, kernel_size=4, activation='relu'))  #2nd Conv layer\n",
        "model.add(BatchNormalization())\n",
        "#model.add(Dropout(0.3))\n",
        "\n",
        "model.add(Flatten())    #Flattening\n",
        "model.add(Dense(64, activation='relu'))  ##fully connected layer\n",
        "#model.add(Dropout(0.3))\n",
        "\n",
        "model.add(Dense(1, activation='sigmoid'))   #output layer"
      ],
      "metadata": {
        "id": "qNZVAr8PidVW"
      },
      "execution_count": 86,
      "outputs": []
    },
    {
      "cell_type": "code",
      "source": [
        "model.compile(optimizer=Adam(learning_rate=0.00001), loss = 'binary_crossentropy', metrics=['accuracy'])\n",
        "\n",
        "history = model.fit(X_train, y_train, epochs=epochs, batch_size=32,validation_data=(X_test, y_test), verbose=1)"
      ],
      "metadata": {
        "colab": {
          "base_uri": "https://localhost:8080/"
        },
        "id": "b907TRpOik5-",
        "outputId": "858af2ec-4649-4f17-990c-1210163070d4"
      },
      "execution_count": 87,
      "outputs": [
        {
          "output_type": "stream",
          "name": "stdout",
          "text": [
            "Epoch 1/50\n",
            "54/54 [==============================] - 4s 31ms/step - loss: 0.7239 - accuracy: 0.6088 - val_loss: 0.6536 - val_accuracy: 0.6432\n",
            "Epoch 2/50\n",
            "54/54 [==============================] - 1s 21ms/step - loss: 0.5862 - accuracy: 0.6965 - val_loss: 0.6246 - val_accuracy: 0.6667\n",
            "Epoch 3/50\n",
            "54/54 [==============================] - 1s 21ms/step - loss: 0.5294 - accuracy: 0.7341 - val_loss: 0.6119 - val_accuracy: 0.6831\n",
            "Epoch 4/50\n",
            "54/54 [==============================] - 1s 17ms/step - loss: 0.4879 - accuracy: 0.7606 - val_loss: 0.6037 - val_accuracy: 0.6737\n",
            "Epoch 5/50\n",
            "54/54 [==============================] - 1s 18ms/step - loss: 0.4441 - accuracy: 0.7988 - val_loss: 0.6023 - val_accuracy: 0.6878\n",
            "Epoch 6/50\n",
            "54/54 [==============================] - 1s 17ms/step - loss: 0.4112 - accuracy: 0.8141 - val_loss: 0.5996 - val_accuracy: 0.6854\n",
            "Epoch 7/50\n",
            "54/54 [==============================] - 1s 18ms/step - loss: 0.3723 - accuracy: 0.8465 - val_loss: 0.6096 - val_accuracy: 0.6737\n",
            "Epoch 8/50\n",
            "54/54 [==============================] - 1s 18ms/step - loss: 0.3472 - accuracy: 0.8671 - val_loss: 0.6210 - val_accuracy: 0.6761\n",
            "Epoch 9/50\n",
            "54/54 [==============================] - 1s 18ms/step - loss: 0.3324 - accuracy: 0.8694 - val_loss: 0.6257 - val_accuracy: 0.7042\n",
            "Epoch 10/50\n",
            "54/54 [==============================] - 1s 17ms/step - loss: 0.3139 - accuracy: 0.8859 - val_loss: 0.6449 - val_accuracy: 0.6972\n",
            "Epoch 11/50\n",
            "54/54 [==============================] - 1s 17ms/step - loss: 0.2888 - accuracy: 0.9006 - val_loss: 0.6301 - val_accuracy: 0.7019\n",
            "Epoch 12/50\n",
            "54/54 [==============================] - 1s 17ms/step - loss: 0.2680 - accuracy: 0.9159 - val_loss: 0.6339 - val_accuracy: 0.6972\n",
            "Epoch 13/50\n",
            "54/54 [==============================] - 1s 18ms/step - loss: 0.2610 - accuracy: 0.9224 - val_loss: 0.6583 - val_accuracy: 0.6925\n",
            "Epoch 14/50\n",
            "54/54 [==============================] - 1s 17ms/step - loss: 0.2544 - accuracy: 0.9206 - val_loss: 0.6519 - val_accuracy: 0.6972\n",
            "Epoch 15/50\n",
            "54/54 [==============================] - 1s 17ms/step - loss: 0.2198 - accuracy: 0.9471 - val_loss: 0.6639 - val_accuracy: 0.6972\n",
            "Epoch 16/50\n",
            "54/54 [==============================] - 1s 17ms/step - loss: 0.2141 - accuracy: 0.9476 - val_loss: 0.6622 - val_accuracy: 0.6854\n",
            "Epoch 17/50\n",
            "54/54 [==============================] - 1s 17ms/step - loss: 0.2018 - accuracy: 0.9465 - val_loss: 0.6838 - val_accuracy: 0.7019\n",
            "Epoch 18/50\n",
            "54/54 [==============================] - 1s 17ms/step - loss: 0.1877 - accuracy: 0.9547 - val_loss: 0.6710 - val_accuracy: 0.7136\n",
            "Epoch 19/50\n",
            "54/54 [==============================] - 1s 17ms/step - loss: 0.1789 - accuracy: 0.9612 - val_loss: 0.6713 - val_accuracy: 0.6925\n",
            "Epoch 20/50\n",
            "54/54 [==============================] - 1s 18ms/step - loss: 0.1643 - accuracy: 0.9712 - val_loss: 0.6959 - val_accuracy: 0.6972\n",
            "Epoch 21/50\n",
            "54/54 [==============================] - 1s 18ms/step - loss: 0.1589 - accuracy: 0.9671 - val_loss: 0.6897 - val_accuracy: 0.6972\n",
            "Epoch 22/50\n",
            "54/54 [==============================] - 1s 18ms/step - loss: 0.1506 - accuracy: 0.9706 - val_loss: 0.6993 - val_accuracy: 0.6995\n",
            "Epoch 23/50\n",
            "54/54 [==============================] - 1s 18ms/step - loss: 0.1549 - accuracy: 0.9729 - val_loss: 0.7044 - val_accuracy: 0.6948\n",
            "Epoch 24/50\n",
            "54/54 [==============================] - 1s 18ms/step - loss: 0.1387 - accuracy: 0.9712 - val_loss: 0.7223 - val_accuracy: 0.6972\n",
            "Epoch 25/50\n",
            "54/54 [==============================] - 1s 18ms/step - loss: 0.1298 - accuracy: 0.9747 - val_loss: 0.7315 - val_accuracy: 0.7160\n",
            "Epoch 26/50\n",
            "54/54 [==============================] - 1s 17ms/step - loss: 0.1233 - accuracy: 0.9859 - val_loss: 0.7098 - val_accuracy: 0.7089\n",
            "Epoch 27/50\n",
            "54/54 [==============================] - 1s 17ms/step - loss: 0.1174 - accuracy: 0.9800 - val_loss: 0.7342 - val_accuracy: 0.7113\n",
            "Epoch 28/50\n",
            "54/54 [==============================] - 1s 17ms/step - loss: 0.1156 - accuracy: 0.9847 - val_loss: 0.7362 - val_accuracy: 0.7066\n",
            "Epoch 29/50\n",
            "54/54 [==============================] - 1s 17ms/step - loss: 0.1075 - accuracy: 0.9871 - val_loss: 0.7489 - val_accuracy: 0.7042\n",
            "Epoch 30/50\n",
            "54/54 [==============================] - 1s 18ms/step - loss: 0.1102 - accuracy: 0.9829 - val_loss: 0.7908 - val_accuracy: 0.6831\n",
            "Epoch 31/50\n",
            "54/54 [==============================] - 1s 17ms/step - loss: 0.0992 - accuracy: 0.9871 - val_loss: 0.7581 - val_accuracy: 0.7089\n",
            "Epoch 32/50\n",
            "54/54 [==============================] - 1s 18ms/step - loss: 0.0936 - accuracy: 0.9876 - val_loss: 0.7589 - val_accuracy: 0.6972\n",
            "Epoch 33/50\n",
            "54/54 [==============================] - 1s 18ms/step - loss: 0.0939 - accuracy: 0.9871 - val_loss: 0.7712 - val_accuracy: 0.7160\n",
            "Epoch 34/50\n",
            "54/54 [==============================] - 1s 16ms/step - loss: 0.0863 - accuracy: 0.9929 - val_loss: 0.7728 - val_accuracy: 0.7160\n",
            "Epoch 35/50\n",
            "54/54 [==============================] - 1s 17ms/step - loss: 0.0820 - accuracy: 0.9918 - val_loss: 0.7632 - val_accuracy: 0.7042\n",
            "Epoch 36/50\n",
            "54/54 [==============================] - 1s 17ms/step - loss: 0.0776 - accuracy: 0.9912 - val_loss: 0.7784 - val_accuracy: 0.7113\n",
            "Epoch 37/50\n",
            "54/54 [==============================] - 1s 18ms/step - loss: 0.0758 - accuracy: 0.9906 - val_loss: 0.7994 - val_accuracy: 0.7019\n",
            "Epoch 38/50\n",
            "54/54 [==============================] - 1s 18ms/step - loss: 0.0735 - accuracy: 0.9947 - val_loss: 0.7891 - val_accuracy: 0.7019\n",
            "Epoch 39/50\n",
            "54/54 [==============================] - 1s 16ms/step - loss: 0.0746 - accuracy: 0.9935 - val_loss: 0.8117 - val_accuracy: 0.6972\n",
            "Epoch 40/50\n",
            "54/54 [==============================] - 1s 18ms/step - loss: 0.0710 - accuracy: 0.9906 - val_loss: 0.7938 - val_accuracy: 0.7089\n",
            "Epoch 41/50\n",
            "54/54 [==============================] - 1s 18ms/step - loss: 0.0680 - accuracy: 0.9900 - val_loss: 0.7950 - val_accuracy: 0.7042\n",
            "Epoch 42/50\n",
            "54/54 [==============================] - 1s 17ms/step - loss: 0.0628 - accuracy: 0.9924 - val_loss: 0.7979 - val_accuracy: 0.6972\n",
            "Epoch 43/50\n",
            "54/54 [==============================] - 1s 18ms/step - loss: 0.0584 - accuracy: 0.9965 - val_loss: 0.8111 - val_accuracy: 0.7113\n",
            "Epoch 44/50\n",
            "54/54 [==============================] - 1s 18ms/step - loss: 0.0562 - accuracy: 0.9965 - val_loss: 0.8302 - val_accuracy: 0.7113\n",
            "Epoch 45/50\n",
            "54/54 [==============================] - 1s 18ms/step - loss: 0.0564 - accuracy: 0.9959 - val_loss: 0.8286 - val_accuracy: 0.7019\n",
            "Epoch 46/50\n",
            "54/54 [==============================] - 1s 18ms/step - loss: 0.0522 - accuracy: 0.9953 - val_loss: 0.8272 - val_accuracy: 0.6948\n",
            "Epoch 47/50\n",
            "54/54 [==============================] - 1s 19ms/step - loss: 0.0503 - accuracy: 0.9959 - val_loss: 0.8235 - val_accuracy: 0.7066\n",
            "Epoch 48/50\n",
            "54/54 [==============================] - 1s 18ms/step - loss: 0.0529 - accuracy: 0.9953 - val_loss: 0.8472 - val_accuracy: 0.7113\n",
            "Epoch 49/50\n",
            "54/54 [==============================] - 1s 17ms/step - loss: 0.0484 - accuracy: 0.9971 - val_loss: 0.8325 - val_accuracy: 0.7042\n",
            "Epoch 50/50\n",
            "54/54 [==============================] - 1s 17ms/step - loss: 0.0476 - accuracy: 0.9947 - val_loss: 0.8519 - val_accuracy: 0.7183\n"
          ]
        }
      ]
    },
    {
      "cell_type": "code",
      "source": [
        "#y_pred = model.predict(X_train).ravel()\n",
        "from sklearn.metrics import roc_curve\n",
        "y_pred_cnn4 = model.predict(X_test).ravel()\n",
        "fpr_4, tpr_4, thresholds = roc_curve(y_test, y_pred_cnn4)\n",
        "from sklearn.metrics import auc\n",
        "auc_score4 = auc(fpr_4, tpr_4)\n",
        "auc_score4"
      ],
      "metadata": {
        "colab": {
          "base_uri": "https://localhost:8080/"
        },
        "id": "neO_IjX0iozS",
        "outputId": "1ce19884-7388-4e12-d8d5-3baed806ffa7"
      },
      "execution_count": 88,
      "outputs": [
        {
          "output_type": "execute_result",
          "data": {
            "text/plain": [
              "0.7612433862433863"
            ]
          },
          "metadata": {},
          "execution_count": 88
        }
      ]
    },
    {
      "cell_type": "code",
      "source": [
        "from sklearn.metrics import average_precision_score, precision_recall_curve\n",
        "y_pred_cnn4 = model.predict(X_test).ravel()\n",
        "precision_4, recall_4, thresholds = precision_recall_curve(y_test, y_pred_cnn4)\n",
        "aupr_score4 = auc(recall_4, precision_4)\n",
        "print(aupr_score4)"
      ],
      "metadata": {
        "colab": {
          "base_uri": "https://localhost:8080/"
        },
        "id": "sBsOW1HbYLBm",
        "outputId": "b0db6336-9097-42f9-cc60-7934f41e20b3"
      },
      "execution_count": 89,
      "outputs": [
        {
          "output_type": "stream",
          "name": "stdout",
          "text": [
            "0.727478688761841\n"
          ]
        }
      ]
    },
    {
      "cell_type": "markdown",
      "source": [
        "## 5. Glove+Word2vec"
      ],
      "metadata": {
        "id": "zaswjsEgkd22"
      }
    },
    {
      "cell_type": "code",
      "source": [
        "import pandas as pd\n",
        "from pandas import read_excel\n",
        "file_name = '/content/gdrive/MyDrive/word2vec+Glove_allghor.csv'\n",
        "# Glove3decimal.csv\n",
        "# Gloveallghor.csv \n",
        "#df = pd.read_csv(file_name, index_col=0)\n",
        "df = pd.read_csv(file_name)\n",
        "#print(df.head()) # print the first 5 rows\n",
        "df"
      ],
      "metadata": {
        "colab": {
          "base_uri": "https://localhost:8080/",
          "height": 488
        },
        "id": "tXQBd6sFi2yo",
        "outputId": "13ba66f8-202e-4a11-a997-115bf11d1854"
      },
      "execution_count": 90,
      "outputs": [
        {
          "output_type": "execute_result",
          "data": {
            "text/plain": [
              "          tpc0      tpc1      tpc2      tpc3      tpc4      tpc5      tpc6  \\\n",
              "0    -0.037980 -0.022374 -0.000357 -0.052267 -0.080404 -0.026881  0.054797   \n",
              "1    -0.046191 -0.036129 -0.002969 -0.074574 -0.081948 -0.029251  0.039459   \n",
              "2    -0.039378 -0.029917 -0.002562 -0.051458 -0.080362 -0.040203  0.048534   \n",
              "3    -0.037194 -0.028180  0.002139 -0.050322 -0.086340 -0.028409  0.051199   \n",
              "4    -0.038799 -0.011877  0.008337 -0.024062 -0.086949 -0.031327  0.053610   \n",
              "...        ...       ...       ...       ...       ...       ...       ...   \n",
              "2099 -0.035127 -0.025364 -0.005092 -0.051440 -0.087592 -0.032727  0.044721   \n",
              "2100 -0.040461 -0.027793 -0.002266 -0.064466 -0.082948 -0.030396  0.041946   \n",
              "2101 -0.040884 -0.032834  0.000521 -0.061286 -0.083521 -0.033411  0.044535   \n",
              "2102 -0.034488 -0.028598  0.003122 -0.053502 -0.086741 -0.035552  0.051656   \n",
              "2103 -0.033585 -0.027803 -0.003410 -0.054876 -0.079687 -0.029866  0.049788   \n",
              "\n",
              "          tpc7      tpc8      tpc9  ...   PSSM504   PSSM505   PSSM506  \\\n",
              "0    -0.015409 -0.011325 -0.086878  ...  0.034153 -0.028236  0.067696   \n",
              "1    -0.008533 -0.009899 -0.084967  ...  0.035826 -0.019969  0.041198   \n",
              "2     0.002905 -0.015046 -0.078904  ...  0.027479 -0.015310  0.053065   \n",
              "3    -0.011362 -0.014576 -0.086905  ...  0.037971 -0.036039  0.087234   \n",
              "4    -0.003705 -0.022229 -0.075298  ...  0.012862 -0.017681  0.083901   \n",
              "...        ...       ...       ...  ...       ...       ...       ...   \n",
              "2099 -0.005408 -0.013662 -0.085221  ...  0.035764 -0.030800  0.053166   \n",
              "2100 -0.009911 -0.010617 -0.082913  ...  0.036054 -0.019750  0.043185   \n",
              "2101 -0.003691 -0.013037 -0.082547  ...  0.029697 -0.020232  0.058662   \n",
              "2102 -0.006196 -0.015891 -0.088053  ...  0.039605 -0.026920  0.071995   \n",
              "2103 -0.004600 -0.015356 -0.086367  ...  0.028596 -0.026300  0.062159   \n",
              "\n",
              "       PSSM507   PSSM508   PSSM509   PSSM510   PSSM511  Glove512  Target  \n",
              "0    -0.096331  0.025590  0.039283 -0.050542  0.122821 -0.076334       0  \n",
              "1    -0.089281  0.003722  0.021992 -0.056355  0.113405 -0.034552       1  \n",
              "2    -0.039859  0.043501  0.054468 -0.056376  0.150060 -0.062847       0  \n",
              "3    -0.085197  0.009901  0.028044 -0.068661  0.123129 -0.058323       0  \n",
              "4    -0.106877  0.073434  0.078891 -0.050987  0.136574 -0.083851       1  \n",
              "...        ...       ...       ...       ...       ...       ...     ...  \n",
              "2099 -0.087982  0.036373  0.044850 -0.048145  0.133063 -0.077309       1  \n",
              "2100 -0.082701  0.003797  0.002908 -0.049733  0.128894 -0.050292       1  \n",
              "2101 -0.077783  0.034834  0.037907 -0.061262  0.119205 -0.055102       1  \n",
              "2102 -0.083947  0.026094  0.040602 -0.062820  0.153210 -0.068933       1  \n",
              "2103 -0.085314  0.010173  0.034104 -0.051234  0.124544 -0.066235       1  \n",
              "\n",
              "[2104 rows x 1025 columns]"
            ],
            "text/html": [
              "\n",
              "  <div id=\"df-6c8fe436-1162-4583-98a3-672a177300fa\">\n",
              "    <div class=\"colab-df-container\">\n",
              "      <div>\n",
              "<style scoped>\n",
              "    .dataframe tbody tr th:only-of-type {\n",
              "        vertical-align: middle;\n",
              "    }\n",
              "\n",
              "    .dataframe tbody tr th {\n",
              "        vertical-align: top;\n",
              "    }\n",
              "\n",
              "    .dataframe thead th {\n",
              "        text-align: right;\n",
              "    }\n",
              "</style>\n",
              "<table border=\"1\" class=\"dataframe\">\n",
              "  <thead>\n",
              "    <tr style=\"text-align: right;\">\n",
              "      <th></th>\n",
              "      <th>tpc0</th>\n",
              "      <th>tpc1</th>\n",
              "      <th>tpc2</th>\n",
              "      <th>tpc3</th>\n",
              "      <th>tpc4</th>\n",
              "      <th>tpc5</th>\n",
              "      <th>tpc6</th>\n",
              "      <th>tpc7</th>\n",
              "      <th>tpc8</th>\n",
              "      <th>tpc9</th>\n",
              "      <th>...</th>\n",
              "      <th>PSSM504</th>\n",
              "      <th>PSSM505</th>\n",
              "      <th>PSSM506</th>\n",
              "      <th>PSSM507</th>\n",
              "      <th>PSSM508</th>\n",
              "      <th>PSSM509</th>\n",
              "      <th>PSSM510</th>\n",
              "      <th>PSSM511</th>\n",
              "      <th>Glove512</th>\n",
              "      <th>Target</th>\n",
              "    </tr>\n",
              "  </thead>\n",
              "  <tbody>\n",
              "    <tr>\n",
              "      <th>0</th>\n",
              "      <td>-0.037980</td>\n",
              "      <td>-0.022374</td>\n",
              "      <td>-0.000357</td>\n",
              "      <td>-0.052267</td>\n",
              "      <td>-0.080404</td>\n",
              "      <td>-0.026881</td>\n",
              "      <td>0.054797</td>\n",
              "      <td>-0.015409</td>\n",
              "      <td>-0.011325</td>\n",
              "      <td>-0.086878</td>\n",
              "      <td>...</td>\n",
              "      <td>0.034153</td>\n",
              "      <td>-0.028236</td>\n",
              "      <td>0.067696</td>\n",
              "      <td>-0.096331</td>\n",
              "      <td>0.025590</td>\n",
              "      <td>0.039283</td>\n",
              "      <td>-0.050542</td>\n",
              "      <td>0.122821</td>\n",
              "      <td>-0.076334</td>\n",
              "      <td>0</td>\n",
              "    </tr>\n",
              "    <tr>\n",
              "      <th>1</th>\n",
              "      <td>-0.046191</td>\n",
              "      <td>-0.036129</td>\n",
              "      <td>-0.002969</td>\n",
              "      <td>-0.074574</td>\n",
              "      <td>-0.081948</td>\n",
              "      <td>-0.029251</td>\n",
              "      <td>0.039459</td>\n",
              "      <td>-0.008533</td>\n",
              "      <td>-0.009899</td>\n",
              "      <td>-0.084967</td>\n",
              "      <td>...</td>\n",
              "      <td>0.035826</td>\n",
              "      <td>-0.019969</td>\n",
              "      <td>0.041198</td>\n",
              "      <td>-0.089281</td>\n",
              "      <td>0.003722</td>\n",
              "      <td>0.021992</td>\n",
              "      <td>-0.056355</td>\n",
              "      <td>0.113405</td>\n",
              "      <td>-0.034552</td>\n",
              "      <td>1</td>\n",
              "    </tr>\n",
              "    <tr>\n",
              "      <th>2</th>\n",
              "      <td>-0.039378</td>\n",
              "      <td>-0.029917</td>\n",
              "      <td>-0.002562</td>\n",
              "      <td>-0.051458</td>\n",
              "      <td>-0.080362</td>\n",
              "      <td>-0.040203</td>\n",
              "      <td>0.048534</td>\n",
              "      <td>0.002905</td>\n",
              "      <td>-0.015046</td>\n",
              "      <td>-0.078904</td>\n",
              "      <td>...</td>\n",
              "      <td>0.027479</td>\n",
              "      <td>-0.015310</td>\n",
              "      <td>0.053065</td>\n",
              "      <td>-0.039859</td>\n",
              "      <td>0.043501</td>\n",
              "      <td>0.054468</td>\n",
              "      <td>-0.056376</td>\n",
              "      <td>0.150060</td>\n",
              "      <td>-0.062847</td>\n",
              "      <td>0</td>\n",
              "    </tr>\n",
              "    <tr>\n",
              "      <th>3</th>\n",
              "      <td>-0.037194</td>\n",
              "      <td>-0.028180</td>\n",
              "      <td>0.002139</td>\n",
              "      <td>-0.050322</td>\n",
              "      <td>-0.086340</td>\n",
              "      <td>-0.028409</td>\n",
              "      <td>0.051199</td>\n",
              "      <td>-0.011362</td>\n",
              "      <td>-0.014576</td>\n",
              "      <td>-0.086905</td>\n",
              "      <td>...</td>\n",
              "      <td>0.037971</td>\n",
              "      <td>-0.036039</td>\n",
              "      <td>0.087234</td>\n",
              "      <td>-0.085197</td>\n",
              "      <td>0.009901</td>\n",
              "      <td>0.028044</td>\n",
              "      <td>-0.068661</td>\n",
              "      <td>0.123129</td>\n",
              "      <td>-0.058323</td>\n",
              "      <td>0</td>\n",
              "    </tr>\n",
              "    <tr>\n",
              "      <th>4</th>\n",
              "      <td>-0.038799</td>\n",
              "      <td>-0.011877</td>\n",
              "      <td>0.008337</td>\n",
              "      <td>-0.024062</td>\n",
              "      <td>-0.086949</td>\n",
              "      <td>-0.031327</td>\n",
              "      <td>0.053610</td>\n",
              "      <td>-0.003705</td>\n",
              "      <td>-0.022229</td>\n",
              "      <td>-0.075298</td>\n",
              "      <td>...</td>\n",
              "      <td>0.012862</td>\n",
              "      <td>-0.017681</td>\n",
              "      <td>0.083901</td>\n",
              "      <td>-0.106877</td>\n",
              "      <td>0.073434</td>\n",
              "      <td>0.078891</td>\n",
              "      <td>-0.050987</td>\n",
              "      <td>0.136574</td>\n",
              "      <td>-0.083851</td>\n",
              "      <td>1</td>\n",
              "    </tr>\n",
              "    <tr>\n",
              "      <th>...</th>\n",
              "      <td>...</td>\n",
              "      <td>...</td>\n",
              "      <td>...</td>\n",
              "      <td>...</td>\n",
              "      <td>...</td>\n",
              "      <td>...</td>\n",
              "      <td>...</td>\n",
              "      <td>...</td>\n",
              "      <td>...</td>\n",
              "      <td>...</td>\n",
              "      <td>...</td>\n",
              "      <td>...</td>\n",
              "      <td>...</td>\n",
              "      <td>...</td>\n",
              "      <td>...</td>\n",
              "      <td>...</td>\n",
              "      <td>...</td>\n",
              "      <td>...</td>\n",
              "      <td>...</td>\n",
              "      <td>...</td>\n",
              "      <td>...</td>\n",
              "    </tr>\n",
              "    <tr>\n",
              "      <th>2099</th>\n",
              "      <td>-0.035127</td>\n",
              "      <td>-0.025364</td>\n",
              "      <td>-0.005092</td>\n",
              "      <td>-0.051440</td>\n",
              "      <td>-0.087592</td>\n",
              "      <td>-0.032727</td>\n",
              "      <td>0.044721</td>\n",
              "      <td>-0.005408</td>\n",
              "      <td>-0.013662</td>\n",
              "      <td>-0.085221</td>\n",
              "      <td>...</td>\n",
              "      <td>0.035764</td>\n",
              "      <td>-0.030800</td>\n",
              "      <td>0.053166</td>\n",
              "      <td>-0.087982</td>\n",
              "      <td>0.036373</td>\n",
              "      <td>0.044850</td>\n",
              "      <td>-0.048145</td>\n",
              "      <td>0.133063</td>\n",
              "      <td>-0.077309</td>\n",
              "      <td>1</td>\n",
              "    </tr>\n",
              "    <tr>\n",
              "      <th>2100</th>\n",
              "      <td>-0.040461</td>\n",
              "      <td>-0.027793</td>\n",
              "      <td>-0.002266</td>\n",
              "      <td>-0.064466</td>\n",
              "      <td>-0.082948</td>\n",
              "      <td>-0.030396</td>\n",
              "      <td>0.041946</td>\n",
              "      <td>-0.009911</td>\n",
              "      <td>-0.010617</td>\n",
              "      <td>-0.082913</td>\n",
              "      <td>...</td>\n",
              "      <td>0.036054</td>\n",
              "      <td>-0.019750</td>\n",
              "      <td>0.043185</td>\n",
              "      <td>-0.082701</td>\n",
              "      <td>0.003797</td>\n",
              "      <td>0.002908</td>\n",
              "      <td>-0.049733</td>\n",
              "      <td>0.128894</td>\n",
              "      <td>-0.050292</td>\n",
              "      <td>1</td>\n",
              "    </tr>\n",
              "    <tr>\n",
              "      <th>2101</th>\n",
              "      <td>-0.040884</td>\n",
              "      <td>-0.032834</td>\n",
              "      <td>0.000521</td>\n",
              "      <td>-0.061286</td>\n",
              "      <td>-0.083521</td>\n",
              "      <td>-0.033411</td>\n",
              "      <td>0.044535</td>\n",
              "      <td>-0.003691</td>\n",
              "      <td>-0.013037</td>\n",
              "      <td>-0.082547</td>\n",
              "      <td>...</td>\n",
              "      <td>0.029697</td>\n",
              "      <td>-0.020232</td>\n",
              "      <td>0.058662</td>\n",
              "      <td>-0.077783</td>\n",
              "      <td>0.034834</td>\n",
              "      <td>0.037907</td>\n",
              "      <td>-0.061262</td>\n",
              "      <td>0.119205</td>\n",
              "      <td>-0.055102</td>\n",
              "      <td>1</td>\n",
              "    </tr>\n",
              "    <tr>\n",
              "      <th>2102</th>\n",
              "      <td>-0.034488</td>\n",
              "      <td>-0.028598</td>\n",
              "      <td>0.003122</td>\n",
              "      <td>-0.053502</td>\n",
              "      <td>-0.086741</td>\n",
              "      <td>-0.035552</td>\n",
              "      <td>0.051656</td>\n",
              "      <td>-0.006196</td>\n",
              "      <td>-0.015891</td>\n",
              "      <td>-0.088053</td>\n",
              "      <td>...</td>\n",
              "      <td>0.039605</td>\n",
              "      <td>-0.026920</td>\n",
              "      <td>0.071995</td>\n",
              "      <td>-0.083947</td>\n",
              "      <td>0.026094</td>\n",
              "      <td>0.040602</td>\n",
              "      <td>-0.062820</td>\n",
              "      <td>0.153210</td>\n",
              "      <td>-0.068933</td>\n",
              "      <td>1</td>\n",
              "    </tr>\n",
              "    <tr>\n",
              "      <th>2103</th>\n",
              "      <td>-0.033585</td>\n",
              "      <td>-0.027803</td>\n",
              "      <td>-0.003410</td>\n",
              "      <td>-0.054876</td>\n",
              "      <td>-0.079687</td>\n",
              "      <td>-0.029866</td>\n",
              "      <td>0.049788</td>\n",
              "      <td>-0.004600</td>\n",
              "      <td>-0.015356</td>\n",
              "      <td>-0.086367</td>\n",
              "      <td>...</td>\n",
              "      <td>0.028596</td>\n",
              "      <td>-0.026300</td>\n",
              "      <td>0.062159</td>\n",
              "      <td>-0.085314</td>\n",
              "      <td>0.010173</td>\n",
              "      <td>0.034104</td>\n",
              "      <td>-0.051234</td>\n",
              "      <td>0.124544</td>\n",
              "      <td>-0.066235</td>\n",
              "      <td>1</td>\n",
              "    </tr>\n",
              "  </tbody>\n",
              "</table>\n",
              "<p>2104 rows × 1025 columns</p>\n",
              "</div>\n",
              "      <button class=\"colab-df-convert\" onclick=\"convertToInteractive('df-6c8fe436-1162-4583-98a3-672a177300fa')\"\n",
              "              title=\"Convert this dataframe to an interactive table.\"\n",
              "              style=\"display:none;\">\n",
              "        \n",
              "  <svg xmlns=\"http://www.w3.org/2000/svg\" height=\"24px\"viewBox=\"0 0 24 24\"\n",
              "       width=\"24px\">\n",
              "    <path d=\"M0 0h24v24H0V0z\" fill=\"none\"/>\n",
              "    <path d=\"M18.56 5.44l.94 2.06.94-2.06 2.06-.94-2.06-.94-.94-2.06-.94 2.06-2.06.94zm-11 1L8.5 8.5l.94-2.06 2.06-.94-2.06-.94L8.5 2.5l-.94 2.06-2.06.94zm10 10l.94 2.06.94-2.06 2.06-.94-2.06-.94-.94-2.06-.94 2.06-2.06.94z\"/><path d=\"M17.41 7.96l-1.37-1.37c-.4-.4-.92-.59-1.43-.59-.52 0-1.04.2-1.43.59L10.3 9.45l-7.72 7.72c-.78.78-.78 2.05 0 2.83L4 21.41c.39.39.9.59 1.41.59.51 0 1.02-.2 1.41-.59l7.78-7.78 2.81-2.81c.8-.78.8-2.07 0-2.86zM5.41 20L4 18.59l7.72-7.72 1.47 1.35L5.41 20z\"/>\n",
              "  </svg>\n",
              "      </button>\n",
              "      \n",
              "  <style>\n",
              "    .colab-df-container {\n",
              "      display:flex;\n",
              "      flex-wrap:wrap;\n",
              "      gap: 12px;\n",
              "    }\n",
              "\n",
              "    .colab-df-convert {\n",
              "      background-color: #E8F0FE;\n",
              "      border: none;\n",
              "      border-radius: 50%;\n",
              "      cursor: pointer;\n",
              "      display: none;\n",
              "      fill: #1967D2;\n",
              "      height: 32px;\n",
              "      padding: 0 0 0 0;\n",
              "      width: 32px;\n",
              "    }\n",
              "\n",
              "    .colab-df-convert:hover {\n",
              "      background-color: #E2EBFA;\n",
              "      box-shadow: 0px 1px 2px rgba(60, 64, 67, 0.3), 0px 1px 3px 1px rgba(60, 64, 67, 0.15);\n",
              "      fill: #174EA6;\n",
              "    }\n",
              "\n",
              "    [theme=dark] .colab-df-convert {\n",
              "      background-color: #3B4455;\n",
              "      fill: #D2E3FC;\n",
              "    }\n",
              "\n",
              "    [theme=dark] .colab-df-convert:hover {\n",
              "      background-color: #434B5C;\n",
              "      box-shadow: 0px 1px 3px 1px rgba(0, 0, 0, 0.15);\n",
              "      filter: drop-shadow(0px 1px 2px rgba(0, 0, 0, 0.3));\n",
              "      fill: #FFFFFF;\n",
              "    }\n",
              "  </style>\n",
              "\n",
              "      <script>\n",
              "        const buttonEl =\n",
              "          document.querySelector('#df-6c8fe436-1162-4583-98a3-672a177300fa button.colab-df-convert');\n",
              "        buttonEl.style.display =\n",
              "          google.colab.kernel.accessAllowed ? 'block' : 'none';\n",
              "\n",
              "        async function convertToInteractive(key) {\n",
              "          const element = document.querySelector('#df-6c8fe436-1162-4583-98a3-672a177300fa');\n",
              "          const dataTable =\n",
              "            await google.colab.kernel.invokeFunction('convertToInteractive',\n",
              "                                                     [key], {});\n",
              "          if (!dataTable) return;\n",
              "\n",
              "          const docLinkHtml = 'Like what you see? Visit the ' +\n",
              "            '<a target=\"_blank\" href=https://colab.research.google.com/notebooks/data_table.ipynb>data table notebook</a>'\n",
              "            + ' to learn more about interactive tables.';\n",
              "          element.innerHTML = '';\n",
              "          dataTable['output_type'] = 'display_data';\n",
              "          await google.colab.output.renderOutput(dataTable, element);\n",
              "          const docLink = document.createElement('div');\n",
              "          docLink.innerHTML = docLinkHtml;\n",
              "          element.appendChild(docLink);\n",
              "        }\n",
              "      </script>\n",
              "    </div>\n",
              "  </div>\n",
              "  "
            ]
          },
          "metadata": {},
          "execution_count": 90
        }
      ]
    },
    {
      "cell_type": "code",
      "source": [
        "df.shape"
      ],
      "metadata": {
        "colab": {
          "base_uri": "https://localhost:8080/"
        },
        "id": "8jmao35kk-0B",
        "outputId": "399a67c7-0b64-440d-9e72-b59ef795f308"
      },
      "execution_count": 91,
      "outputs": [
        {
          "output_type": "execute_result",
          "data": {
            "text/plain": [
              "(2104, 1025)"
            ]
          },
          "metadata": {},
          "execution_count": 91
        }
      ]
    },
    {
      "cell_type": "code",
      "source": [
        "features = np.array(df.columns[:-1])\n",
        "target = 'Target'"
      ],
      "metadata": {
        "id": "ncid3fRWlFCA"
      },
      "execution_count": 92,
      "outputs": []
    },
    {
      "cell_type": "code",
      "source": [
        "X = df[features]\n",
        "y = df[target]"
      ],
      "metadata": {
        "id": "9_KIaUVAlHxD"
      },
      "execution_count": 93,
      "outputs": []
    },
    {
      "cell_type": "code",
      "source": [
        "#Create independent and Dependent Features\n",
        "columns = df.columns.tolist()\n",
        "# Filter the columns to remove data we do not want \n",
        "columns = [c for c in columns if c not in [\"Target\"]]\n",
        "# Store the variable we are predicting \n",
        "target = \"Target\"\n",
        "# Define a random state \n",
        "state = np.random.RandomState(0)\n",
        "X = X\n",
        "y = y\n",
        "X_outliers = state.uniform(low=0, high=1, size=(X.shape[0], X.shape[1]))\n",
        "# Print the shapes of X & Y\n",
        "print(X.shape)\n",
        "print(y.shape)"
      ],
      "metadata": {
        "colab": {
          "base_uri": "https://localhost:8080/"
        },
        "id": "M-yUK517lKD-",
        "outputId": "b4b6e8a3-039a-42d9-b465-4c6592f3e762"
      },
      "execution_count": 94,
      "outputs": [
        {
          "output_type": "stream",
          "name": "stdout",
          "text": [
            "(2104, 1024)\n",
            "(2104,)\n"
          ]
        }
      ]
    },
    {
      "cell_type": "code",
      "source": [
        "count_classes = pd.value_counts(y, sort = True)\n",
        "\n",
        "count_classes.plot(kind = 'bar', rot=0)\n",
        "\n",
        "plt.title(\"Class Distribution\")\n",
        "\n",
        "LABELS = [\"Zero\", \"One\"]\n",
        "\n",
        "plt.xticks(range(2), LABELS)\n",
        "\n",
        "plt.xlabel(\"Class\")\n",
        "\n",
        "plt.ylabel(\"Frequency\")"
      ],
      "metadata": {
        "colab": {
          "base_uri": "https://localhost:8080/",
          "height": 312
        },
        "id": "XkqubE3glN1g",
        "outputId": "7524fa6a-3f39-4ca2-8068-c56d23107da3"
      },
      "execution_count": 95,
      "outputs": [
        {
          "output_type": "execute_result",
          "data": {
            "text/plain": [
              "Text(0, 0.5, 'Frequency')"
            ]
          },
          "metadata": {},
          "execution_count": 95
        },
        {
          "output_type": "display_data",
          "data": {
            "text/plain": [
              "<Figure size 432x288 with 1 Axes>"
            ],
            "image/png": "[encoded data removed]"
          },
          "metadata": {
            "needs_background": "light"
          }
        }
      ]
    },
    {
      "cell_type": "code",
      "source": [
        "One = df[y==1]\n",
        "\n",
        "Zero = df[y==0]\n",
        "\n",
        "print(Zero.shape,One.shape)"
      ],
      "metadata": {
        "colab": {
          "base_uri": "https://localhost:8080/"
        },
        "id": "IreXELODlSZr",
        "outputId": "24502c07-3fe4-4e5d-e0d8-bd997c6c83e4"
      },
      "execution_count": 96,
      "outputs": [
        {
          "output_type": "stream",
          "name": "stdout",
          "text": [
            "(1041, 1025) (1063, 1025)\n"
          ]
        }
      ]
    },
    {
      "cell_type": "code",
      "source": [
        "from imblearn.over_sampling import SMOTE\n",
        "sm = SMOTE(sampling_strategy='minority')\n",
        "X_res,y_res=sm.fit_resample(X,y)"
      ],
      "metadata": {
        "id": "PmmVxKdolV38"
      },
      "execution_count": 97,
      "outputs": []
    },
    {
      "cell_type": "code",
      "source": [
        "print(X_res.shape)\n",
        "print(y_res.shape)"
      ],
      "metadata": {
        "colab": {
          "base_uri": "https://localhost:8080/"
        },
        "id": "r8NsR9cdlZBq",
        "outputId": "b0661a44-86bf-4a52-e1f5-8b55f3898d08"
      },
      "execution_count": 98,
      "outputs": [
        {
          "output_type": "stream",
          "name": "stdout",
          "text": [
            "(2126, 1024)\n",
            "(2126,)\n"
          ]
        }
      ]
    },
    {
      "cell_type": "code",
      "source": [
        "#Split data into independent (X) and dependent(Y) columns\n",
        "\n",
        "y = y_res\n",
        "X = X_res"
      ],
      "metadata": {
        "id": "YrNew36blbxs"
      },
      "execution_count": 99,
      "outputs": []
    },
    {
      "cell_type": "code",
      "source": [
        "from sklearn.model_selection import train_test_split\n",
        "X_train, X_test, y_train, y_test = train_test_split(X, y, test_size = 0.20, random_state = 0)"
      ],
      "metadata": {
        "id": "CL6qgbIPlerp"
      },
      "execution_count": 100,
      "outputs": []
    },
    {
      "cell_type": "code",
      "source": [
        "print(X_train.shape)\n",
        "print(X_test.shape)"
      ],
      "metadata": {
        "colab": {
          "base_uri": "https://localhost:8080/"
        },
        "id": "-GW3cSKylkSx",
        "outputId": "440962b9-9ab0-4642-ed63-363d193ff929"
      },
      "execution_count": 101,
      "outputs": [
        {
          "output_type": "stream",
          "name": "stdout",
          "text": [
            "(1700, 1024)\n",
            "(426, 1024)\n"
          ]
        }
      ]
    },
    {
      "cell_type": "code",
      "source": [
        "scaler = StandardScaler()\n",
        "X_train = scaler.fit_transform(X_train)\n",
        "X_test = scaler.transform(X_test)"
      ],
      "metadata": {
        "id": "GZQm6c9bln9L"
      },
      "execution_count": 102,
      "outputs": []
    },
    {
      "cell_type": "code",
      "source": [
        "X_train = X_train.reshape(1700, 1024,1)\n",
        "X_test = X_test.reshape(426, 1024, 1)"
      ],
      "metadata": {
        "id": "m5PzFsKmlr_j"
      },
      "execution_count": null,
      "outputs": []
    },
    {
      "cell_type": "code",
      "source": [
        "epochs =50\n",
        "model = Sequential()\n",
        "model.add(Conv1D(filters=32, kernel_size=4, activation='relu', input_shape = (1024,1))) ##1st conv layer\n",
        "model.add(BatchNormalization())\n",
        "#model.add(Dropout(0.2))\n",
        "\n",
        "model.add(Conv1D(filters=64, kernel_size=4, activation='relu'))  #2nd Conv layer\n",
        "model.add(BatchNormalization())\n",
        "#model.add(Dropout(0.3))\n",
        "\n",
        "model.add(Flatten())    #Flattening\n",
        "model.add(Dense(64, activation='relu'))  ##fully connected layer\n",
        "model.add(Dropout(0.3))\n",
        "\n",
        "model.add(Dense(1, activation='sigmoid'))   #output layer"
      ],
      "metadata": {
        "id": "m1DpIERnl0DA"
      },
      "execution_count": 103,
      "outputs": []
    },
    {
      "cell_type": "code",
      "source": [
        "model.compile(optimizer=Adam(learning_rate=0.00001), loss = 'binary_crossentropy', metrics=['accuracy'])\n",
        "\n",
        "history = model.fit(X_train, y_train, epochs=epochs, batch_size=32,validation_data=(X_test, y_test), verbose=1)"
      ],
      "metadata": {
        "colab": {
          "base_uri": "https://localhost:8080/"
        },
        "id": "y_U_1cwJl5dn",
        "outputId": "17b103c6-2bef-43d8-e09f-69a3b647c848"
      },
      "execution_count": 104,
      "outputs": [
        {
          "output_type": "stream",
          "name": "stdout",
          "text": [
            "Epoch 1/50\n",
            "54/54 [==============================] - 4s 32ms/step - loss: 0.7721 - accuracy: 0.5953 - val_loss: 0.6704 - val_accuracy: 0.6408\n",
            "Epoch 2/50\n",
            "54/54 [==============================] - 1s 20ms/step - loss: 0.5817 - accuracy: 0.6894 - val_loss: 0.6532 - val_accuracy: 0.6408\n",
            "Epoch 3/50\n",
            "54/54 [==============================] - 1s 18ms/step - loss: 0.4943 - accuracy: 0.7553 - val_loss: 0.6334 - val_accuracy: 0.6784\n",
            "Epoch 4/50\n",
            "54/54 [==============================] - 1s 18ms/step - loss: 0.4386 - accuracy: 0.8135 - val_loss: 0.6132 - val_accuracy: 0.6667\n",
            "Epoch 5/50\n",
            "54/54 [==============================] - 1s 17ms/step - loss: 0.3954 - accuracy: 0.8312 - val_loss: 0.5981 - val_accuracy: 0.6925\n",
            "Epoch 6/50\n",
            "54/54 [==============================] - 1s 18ms/step - loss: 0.3493 - accuracy: 0.8594 - val_loss: 0.5900 - val_accuracy: 0.6878\n",
            "Epoch 7/50\n",
            "54/54 [==============================] - 1s 17ms/step - loss: 0.3128 - accuracy: 0.8888 - val_loss: 0.5849 - val_accuracy: 0.7113\n",
            "Epoch 8/50\n",
            "54/54 [==============================] - 1s 18ms/step - loss: 0.2854 - accuracy: 0.9135 - val_loss: 0.5915 - val_accuracy: 0.6831\n",
            "Epoch 9/50\n",
            "54/54 [==============================] - 1s 16ms/step - loss: 0.2632 - accuracy: 0.9229 - val_loss: 0.5980 - val_accuracy: 0.6784\n",
            "Epoch 10/50\n",
            "54/54 [==============================] - 1s 18ms/step - loss: 0.2390 - accuracy: 0.9312 - val_loss: 0.6039 - val_accuracy: 0.7066\n",
            "Epoch 11/50\n",
            "54/54 [==============================] - 1s 17ms/step - loss: 0.2192 - accuracy: 0.9453 - val_loss: 0.6170 - val_accuracy: 0.6995\n",
            "Epoch 12/50\n",
            "54/54 [==============================] - 1s 16ms/step - loss: 0.2044 - accuracy: 0.9482 - val_loss: 0.6201 - val_accuracy: 0.6925\n",
            "Epoch 13/50\n",
            "54/54 [==============================] - 1s 16ms/step - loss: 0.1862 - accuracy: 0.9612 - val_loss: 0.6299 - val_accuracy: 0.7019\n",
            "Epoch 14/50\n",
            "54/54 [==============================] - 1s 17ms/step - loss: 0.1779 - accuracy: 0.9618 - val_loss: 0.6336 - val_accuracy: 0.7042\n",
            "Epoch 15/50\n",
            "54/54 [==============================] - 1s 17ms/step - loss: 0.1594 - accuracy: 0.9629 - val_loss: 0.6468 - val_accuracy: 0.7019\n",
            "Epoch 16/50\n",
            "54/54 [==============================] - 1s 18ms/step - loss: 0.1507 - accuracy: 0.9741 - val_loss: 0.6499 - val_accuracy: 0.6948\n",
            "Epoch 17/50\n",
            "54/54 [==============================] - 1s 18ms/step - loss: 0.1436 - accuracy: 0.9788 - val_loss: 0.6512 - val_accuracy: 0.7136\n",
            "Epoch 18/50\n",
            "54/54 [==============================] - 1s 18ms/step - loss: 0.1376 - accuracy: 0.9759 - val_loss: 0.6533 - val_accuracy: 0.7042\n",
            "Epoch 19/50\n",
            "54/54 [==============================] - 1s 18ms/step - loss: 0.1279 - accuracy: 0.9747 - val_loss: 0.6600 - val_accuracy: 0.6925\n",
            "Epoch 20/50\n",
            "54/54 [==============================] - 1s 17ms/step - loss: 0.1134 - accuracy: 0.9859 - val_loss: 0.6632 - val_accuracy: 0.6948\n",
            "Epoch 21/50\n",
            "54/54 [==============================] - 1s 17ms/step - loss: 0.1077 - accuracy: 0.9859 - val_loss: 0.6558 - val_accuracy: 0.7254\n",
            "Epoch 22/50\n",
            "54/54 [==============================] - 1s 18ms/step - loss: 0.1014 - accuracy: 0.9882 - val_loss: 0.6708 - val_accuracy: 0.7113\n",
            "Epoch 23/50\n",
            "54/54 [==============================] - 1s 16ms/step - loss: 0.0981 - accuracy: 0.9859 - val_loss: 0.6849 - val_accuracy: 0.7113\n",
            "Epoch 24/50\n",
            "54/54 [==============================] - 1s 18ms/step - loss: 0.0901 - accuracy: 0.9906 - val_loss: 0.6913 - val_accuracy: 0.7042\n",
            "Epoch 25/50\n",
            "54/54 [==============================] - 1s 18ms/step - loss: 0.0893 - accuracy: 0.9894 - val_loss: 0.7019 - val_accuracy: 0.6925\n",
            "Epoch 26/50\n",
            "54/54 [==============================] - 1s 17ms/step - loss: 0.0785 - accuracy: 0.9941 - val_loss: 0.6886 - val_accuracy: 0.7089\n",
            "Epoch 27/50\n",
            "54/54 [==============================] - 1s 17ms/step - loss: 0.0813 - accuracy: 0.9882 - val_loss: 0.7053 - val_accuracy: 0.6995\n",
            "Epoch 28/50\n",
            "54/54 [==============================] - 1s 16ms/step - loss: 0.0741 - accuracy: 0.9918 - val_loss: 0.7180 - val_accuracy: 0.6854\n",
            "Epoch 29/50\n",
            "54/54 [==============================] - 1s 16ms/step - loss: 0.0666 - accuracy: 0.9947 - val_loss: 0.7228 - val_accuracy: 0.6948\n",
            "Epoch 30/50\n",
            "54/54 [==============================] - 1s 16ms/step - loss: 0.0644 - accuracy: 0.9965 - val_loss: 0.7285 - val_accuracy: 0.6995\n",
            "Epoch 31/50\n",
            "54/54 [==============================] - 1s 16ms/step - loss: 0.0596 - accuracy: 0.9953 - val_loss: 0.7379 - val_accuracy: 0.6925\n",
            "Epoch 32/50\n",
            "54/54 [==============================] - 1s 16ms/step - loss: 0.0582 - accuracy: 0.9971 - val_loss: 0.7375 - val_accuracy: 0.6972\n",
            "Epoch 33/50\n",
            "54/54 [==============================] - 1s 18ms/step - loss: 0.0558 - accuracy: 0.9953 - val_loss: 0.7412 - val_accuracy: 0.6972\n",
            "Epoch 34/50\n",
            "54/54 [==============================] - 1s 18ms/step - loss: 0.0554 - accuracy: 0.9947 - val_loss: 0.7413 - val_accuracy: 0.6925\n",
            "Epoch 35/50\n",
            "54/54 [==============================] - 1s 18ms/step - loss: 0.0544 - accuracy: 0.9976 - val_loss: 0.7438 - val_accuracy: 0.6972\n",
            "Epoch 36/50\n",
            "54/54 [==============================] - 1s 17ms/step - loss: 0.0538 - accuracy: 0.9929 - val_loss: 0.7604 - val_accuracy: 0.6995\n",
            "Epoch 37/50\n",
            "54/54 [==============================] - 1s 17ms/step - loss: 0.0471 - accuracy: 0.9959 - val_loss: 0.7765 - val_accuracy: 0.6948\n",
            "Epoch 38/50\n",
            "54/54 [==============================] - 1s 17ms/step - loss: 0.0457 - accuracy: 0.9976 - val_loss: 0.7694 - val_accuracy: 0.6901\n",
            "Epoch 39/50\n",
            "54/54 [==============================] - 1s 17ms/step - loss: 0.0430 - accuracy: 0.9965 - val_loss: 0.7579 - val_accuracy: 0.6995\n",
            "Epoch 40/50\n",
            "54/54 [==============================] - 1s 18ms/step - loss: 0.0418 - accuracy: 0.9976 - val_loss: 0.7718 - val_accuracy: 0.7019\n",
            "Epoch 41/50\n",
            "54/54 [==============================] - 1s 16ms/step - loss: 0.0387 - accuracy: 0.9994 - val_loss: 0.7740 - val_accuracy: 0.7019\n",
            "Epoch 42/50\n",
            "54/54 [==============================] - 1s 16ms/step - loss: 0.0370 - accuracy: 0.9976 - val_loss: 0.7873 - val_accuracy: 0.6948\n",
            "Epoch 43/50\n",
            "54/54 [==============================] - 1s 18ms/step - loss: 0.0361 - accuracy: 0.9994 - val_loss: 0.7975 - val_accuracy: 0.6925\n",
            "Epoch 44/50\n",
            "54/54 [==============================] - 1s 18ms/step - loss: 0.0323 - accuracy: 0.9976 - val_loss: 0.8073 - val_accuracy: 0.6972\n",
            "Epoch 45/50\n",
            "54/54 [==============================] - 1s 18ms/step - loss: 0.0384 - accuracy: 0.9965 - val_loss: 0.8047 - val_accuracy: 0.7019\n",
            "Epoch 46/50\n",
            "54/54 [==============================] - 1s 18ms/step - loss: 0.0347 - accuracy: 0.9976 - val_loss: 0.8063 - val_accuracy: 0.6972\n",
            "Epoch 47/50\n",
            "54/54 [==============================] - 1s 17ms/step - loss: 0.0343 - accuracy: 0.9971 - val_loss: 0.7993 - val_accuracy: 0.6995\n",
            "Epoch 48/50\n",
            "54/54 [==============================] - 1s 18ms/step - loss: 0.0317 - accuracy: 1.0000 - val_loss: 0.8107 - val_accuracy: 0.7066\n",
            "Epoch 49/50\n",
            "54/54 [==============================] - 1s 17ms/step - loss: 0.0293 - accuracy: 0.9971 - val_loss: 0.8282 - val_accuracy: 0.6948\n",
            "Epoch 50/50\n",
            "54/54 [==============================] - 1s 17ms/step - loss: 0.0299 - accuracy: 0.9965 - val_loss: 0.8231 - val_accuracy: 0.6948\n"
          ]
        }
      ]
    },
    {
      "cell_type": "code",
      "source": [
        "#y_pred = model.predict(X_train).ravel()\n",
        "from sklearn.metrics import roc_curve\n",
        "y_pred_cnn5 = model.predict(X_test).ravel()\n",
        "fpr_5, tpr_5, thresholds = roc_curve(y_test, y_pred_cnn5)\n",
        "from sklearn.metrics import auc\n",
        "auc_score5 = auc(fpr_5, tpr_5)\n",
        "auc_score5"
      ],
      "metadata": {
        "colab": {
          "base_uri": "https://localhost:8080/"
        },
        "id": "bSVsGzVBl9L_",
        "outputId": "169d5a0b-2229-4012-9536-87e87a58ae8f"
      },
      "execution_count": 105,
      "outputs": [
        {
          "output_type": "execute_result",
          "data": {
            "text/plain": [
              "0.7570987654320989"
            ]
          },
          "metadata": {},
          "execution_count": 105
        }
      ]
    },
    {
      "cell_type": "code",
      "source": [
        "from sklearn.metrics import average_precision_score, precision_recall_curve\n",
        "y_pred_cnn5 = model.predict(X_test).ravel()\n",
        "precision_5, recall_5, thresholds = precision_recall_curve(y_test, y_pred_cnn5)\n",
        "aupr_score5 = auc(recall_5, precision_5)\n",
        "print(aupr_score5)"
      ],
      "metadata": {
        "colab": {
          "base_uri": "https://localhost:8080/"
        },
        "id": "PyW5wsCnY7jn",
        "outputId": "1637326c-54b1-4437-8257-bfbd205a4376"
      },
      "execution_count": 106,
      "outputs": [
        {
          "output_type": "stream",
          "name": "stdout",
          "text": [
            "0.7089563797042637\n"
          ]
        }
      ]
    },
    {
      "cell_type": "markdown",
      "source": [
        "## 6. FastText+Word2vec"
      ],
      "metadata": {
        "id": "4qPK0FI6mVs2"
      }
    },
    {
      "cell_type": "code",
      "source": [
        "import pandas as pd\n",
        "from pandas import read_excel\n",
        "file_name = '/content/gdrive/MyDrive/word2vec+fasttext_allghor.csv'\n",
        "# Glove3decimal.csv\n",
        "# Gloveallghor.csv \n",
        "#df = pd.read_csv(file_name, index_col=0)\n",
        "df = pd.read_csv(file_name)\n",
        "print(df.head()) # print the first 5 rows"
      ],
      "metadata": {
        "colab": {
          "base_uri": "https://localhost:8080/"
        },
        "id": "8YCK1szdmNbt",
        "outputId": "ebea1400-2745-469c-8448-b7029c9c68b0"
      },
      "execution_count": 107,
      "outputs": [
        {
          "output_type": "stream",
          "name": "stdout",
          "text": [
            "       tpc0      tpc1      tpc2      tpc3      tpc4      tpc5      tpc6  \\\n",
            "0 -0.037980 -0.022374 -0.000357 -0.052267 -0.080404 -0.026881  0.054797   \n",
            "1 -0.046191 -0.036129 -0.002969 -0.074574 -0.081948 -0.029251  0.039459   \n",
            "2 -0.039378 -0.029917 -0.002562 -0.051458 -0.080362 -0.040203  0.048534   \n",
            "3 -0.037194 -0.028180  0.002139 -0.050322 -0.086340 -0.028409  0.051199   \n",
            "4 -0.038799 -0.011877  0.008337 -0.024062 -0.086949 -0.031327  0.053610   \n",
            "\n",
            "       tpc7      tpc8      tpc9  ...   PSSM504   PSSM505   PSSM506   PSSM507  \\\n",
            "0 -0.015409 -0.011325 -0.086878  ...  0.071249 -0.027845 -0.030502  0.009951   \n",
            "1 -0.008533 -0.009899 -0.084967  ...  0.066538 -0.027696 -0.041256  0.003160   \n",
            "2  0.002905 -0.015046 -0.078904  ...  0.069494 -0.021039 -0.040292  0.034493   \n",
            "3 -0.011362 -0.014576 -0.086905  ...  0.073099 -0.031108 -0.030192  0.012665   \n",
            "4 -0.003705 -0.022229 -0.075298  ...  0.064635 -0.022508 -0.039198  0.025195   \n",
            "\n",
            "    PSSM508   PSSM509   PSSM510   PSSM511   Fast512  Target  \n",
            "0  0.050119  0.098214  0.017533  0.061429 -0.049693       0  \n",
            "1  0.065386  0.091022  0.004784  0.061484 -0.045020       1  \n",
            "2  0.052987  0.091800 -0.000009  0.062600 -0.046067       0  \n",
            "3  0.046753  0.096642  0.025364  0.062720 -0.049914       0  \n",
            "4  0.034705  0.083352  0.013108  0.063144 -0.041926       1  \n",
            "\n",
            "[5 rows x 1025 columns]\n"
          ]
        }
      ]
    },
    {
      "cell_type": "code",
      "source": [
        "df.shape"
      ],
      "metadata": {
        "colab": {
          "base_uri": "https://localhost:8080/"
        },
        "id": "AfrLmcjOoQuN",
        "outputId": "d3e6c505-6fa9-4da4-93e3-078d32a56082"
      },
      "execution_count": 108,
      "outputs": [
        {
          "output_type": "execute_result",
          "data": {
            "text/plain": [
              "(2104, 1025)"
            ]
          },
          "metadata": {},
          "execution_count": 108
        }
      ]
    },
    {
      "cell_type": "code",
      "source": [
        "features = np.array(df.columns[:-1])\n",
        "target = 'Target'\n",
        "\n",
        "X = df[features]\n",
        "y = df[target]"
      ],
      "metadata": {
        "id": "fKlxUpnMoU-z"
      },
      "execution_count": 109,
      "outputs": []
    },
    {
      "cell_type": "code",
      "source": [
        "#Create independent and Dependent Features\n",
        "columns = df.columns.tolist()\n",
        "# Filter the columns to remove data we do not want \n",
        "columns = [c for c in columns if c not in [\"Target\"]]\n",
        "# Store the variable we are predicting \n",
        "target = \"Target\"\n",
        "# Define a random state \n",
        "state = np.random.RandomState(0)\n",
        "X = X\n",
        "y = y\n",
        "X_outliers = state.uniform(low=0, high=1, size=(X.shape[0], X.shape[1]))\n",
        "# Print the shapes of X & Y\n",
        "print(X.shape)\n",
        "print(y.shape)"
      ],
      "metadata": {
        "colab": {
          "base_uri": "https://localhost:8080/"
        },
        "id": "czRbRl6joZdL",
        "outputId": "5336d48f-c4c4-4a39-c49a-acf2acd1d5ec"
      },
      "execution_count": 110,
      "outputs": [
        {
          "output_type": "stream",
          "name": "stdout",
          "text": [
            "(2104, 1024)\n",
            "(2104,)\n"
          ]
        }
      ]
    },
    {
      "cell_type": "code",
      "source": [
        "count_classes = pd.value_counts(y, sort = True)\n",
        "\n",
        "count_classes.plot(kind = 'bar', rot=0)\n",
        "\n",
        "plt.title(\"Class Distribution\")\n",
        "\n",
        "LABELS = [\"Zero\", \"One\"]\n",
        "\n",
        "plt.xticks(range(2), LABELS)\n",
        "\n",
        "plt.xlabel(\"Class\")\n",
        "\n",
        "plt.ylabel(\"Frequency\")"
      ],
      "metadata": {
        "colab": {
          "base_uri": "https://localhost:8080/",
          "height": 312
        },
        "id": "WeAK0KILod03",
        "outputId": "83b2d98c-8dec-4cd1-a2a6-90f7525346de"
      },
      "execution_count": 111,
      "outputs": [
        {
          "output_type": "execute_result",
          "data": {
            "text/plain": [
              "Text(0, 0.5, 'Frequency')"
            ]
          },
          "metadata": {},
          "execution_count": 111
        },
        {
          "output_type": "display_data",
          "data": {
            "text/plain": [
              "<Figure size 432x288 with 1 Axes>"
            ],
            "image/png": "[encoded data removed]"
          },
          "metadata": {
            "needs_background": "light"
          }
        }
      ]
    },
    {
      "cell_type": "code",
      "source": [
        "One = df[y==1]\n",
        "\n",
        "Zero = df[y==0]\n",
        "\n",
        "print(Zero.shape,One.shape)"
      ],
      "metadata": {
        "colab": {
          "base_uri": "https://localhost:8080/"
        },
        "id": "BCID3uMMojWc",
        "outputId": "7ecaafe7-f151-4b2e-c052-46eed571e7d4"
      },
      "execution_count": 112,
      "outputs": [
        {
          "output_type": "stream",
          "name": "stdout",
          "text": [
            "(1041, 1025) (1063, 1025)\n"
          ]
        }
      ]
    },
    {
      "cell_type": "code",
      "source": [
        "from imblearn.over_sampling import SMOTE\n",
        "sm = SMOTE(sampling_strategy='minority')\n",
        "X_res,y_res=sm.fit_resample(X,y)"
      ],
      "metadata": {
        "id": "qP2PoR3xomjx"
      },
      "execution_count": 113,
      "outputs": []
    },
    {
      "cell_type": "code",
      "source": [
        "print(X_res.shape)\n",
        "print(y_res.shape)"
      ],
      "metadata": {
        "colab": {
          "base_uri": "https://localhost:8080/"
        },
        "id": "Y6o5cMrGotmN",
        "outputId": "eec57397-793f-46ee-c01c-f00b694e787c"
      },
      "execution_count": 114,
      "outputs": [
        {
          "output_type": "stream",
          "name": "stdout",
          "text": [
            "(2126, 1024)\n",
            "(2126,)\n"
          ]
        }
      ]
    },
    {
      "cell_type": "code",
      "source": [
        "#Split data into independent (X) and dependent(Y) columns\n",
        "\n",
        "y = y_res\n",
        "X = X_res"
      ],
      "metadata": {
        "id": "xjEh0q-Woww2"
      },
      "execution_count": 115,
      "outputs": []
    },
    {
      "cell_type": "code",
      "source": [
        "from sklearn.model_selection import train_test_split\n",
        "X_train, X_test, y_train, y_test = train_test_split(X, y, test_size = 0.20, random_state = 20)"
      ],
      "metadata": {
        "id": "gqvsn3XXozyC"
      },
      "execution_count": 129,
      "outputs": []
    },
    {
      "cell_type": "code",
      "source": [
        "print(X_train.shape)\n",
        "print(X_test.shape)"
      ],
      "metadata": {
        "colab": {
          "base_uri": "https://localhost:8080/"
        },
        "id": "exHcqMaso6z7",
        "outputId": "6b1c92e5-c148-40ce-87a4-2dd33c35993d"
      },
      "execution_count": 130,
      "outputs": [
        {
          "output_type": "stream",
          "name": "stdout",
          "text": [
            "(1700, 1024)\n",
            "(426, 1024)\n"
          ]
        }
      ]
    },
    {
      "cell_type": "code",
      "source": [
        "scaler = StandardScaler()\n",
        "X_train = scaler.fit_transform(X_train)\n",
        "X_test = scaler.transform(X_test)"
      ],
      "metadata": {
        "id": "9JuQXFFgo967"
      },
      "execution_count": 131,
      "outputs": []
    },
    {
      "cell_type": "code",
      "source": [
        "X_train = X_train.reshape(1700, 1024,1)\n",
        "X_test = X_test.reshape(426, 1024, 1)"
      ],
      "metadata": {
        "id": "Xrvew4PvpA5K"
      },
      "execution_count": 132,
      "outputs": []
    },
    {
      "cell_type": "code",
      "source": [
        "epochs =40\n",
        "model = Sequential()\n",
        "model.add(Conv1D(filters=32, kernel_size=4, activation='relu', input_shape = (1024,1))) ##1st conv layer\n",
        "model.add(BatchNormalization())\n",
        "model.add(Dropout(0.2))\n",
        "\n",
        "model.add(Conv1D(filters=64, kernel_size=4, activation='relu'))  #2nd Conv layer\n",
        "model.add(BatchNormalization())\n",
        "#model.add(Dropout(0.3))\n",
        "\n",
        "model.add(Flatten())    #Flattening\n",
        "model.add(Dense(64, activation='relu'))  ##fully connected layer\n",
        "#model.add(Dropout(0.3))\n",
        "\n",
        "model.add(Dense(1, activation='sigmoid'))   #output layer"
      ],
      "metadata": {
        "id": "HLzNrZPPpIkA"
      },
      "execution_count": 133,
      "outputs": []
    },
    {
      "cell_type": "code",
      "source": [
        "model.compile(optimizer=Adam(learning_rate=0.00001), loss = 'binary_crossentropy', metrics=['accuracy'])\n",
        "\n",
        "history = model.fit(X_train, y_train, epochs=epochs, batch_size=32,validation_data=(X_test, y_test), verbose=1)"
      ],
      "metadata": {
        "colab": {
          "base_uri": "https://localhost:8080/"
        },
        "id": "h8n3oJeupNyP",
        "outputId": "ff75e67d-c35f-44c1-be28-e3f83aeae0ba"
      },
      "execution_count": 134,
      "outputs": [
        {
          "output_type": "stream",
          "name": "stdout",
          "text": [
            "Epoch 1/40\n",
            "54/54 [==============================] - 4s 33ms/step - loss: 0.7339 - accuracy: 0.6065 - val_loss: 0.6666 - val_accuracy: 0.6080\n",
            "Epoch 2/40\n",
            "54/54 [==============================] - 1s 24ms/step - loss: 0.5646 - accuracy: 0.7282 - val_loss: 0.6681 - val_accuracy: 0.5681\n",
            "Epoch 3/40\n",
            "54/54 [==============================] - 1s 22ms/step - loss: 0.5078 - accuracy: 0.7600 - val_loss: 0.6381 - val_accuracy: 0.6244\n",
            "Epoch 4/40\n",
            "54/54 [==============================] - 1s 21ms/step - loss: 0.4385 - accuracy: 0.8000 - val_loss: 0.6787 - val_accuracy: 0.6103\n",
            "Epoch 5/40\n",
            "54/54 [==============================] - 1s 21ms/step - loss: 0.3940 - accuracy: 0.8312 - val_loss: 0.6540 - val_accuracy: 0.6009\n",
            "Epoch 6/40\n",
            "54/54 [==============================] - 1s 18ms/step - loss: 0.3596 - accuracy: 0.8582 - val_loss: 0.6507 - val_accuracy: 0.6502\n",
            "Epoch 7/40\n",
            "54/54 [==============================] - 1s 17ms/step - loss: 0.3278 - accuracy: 0.8694 - val_loss: 0.6453 - val_accuracy: 0.6643\n",
            "Epoch 8/40\n",
            "54/54 [==============================] - 1s 18ms/step - loss: 0.2929 - accuracy: 0.8947 - val_loss: 0.6710 - val_accuracy: 0.6502\n",
            "Epoch 9/40\n",
            "54/54 [==============================] - 1s 18ms/step - loss: 0.2641 - accuracy: 0.9135 - val_loss: 0.6652 - val_accuracy: 0.6737\n",
            "Epoch 10/40\n",
            "54/54 [==============================] - 1s 17ms/step - loss: 0.2542 - accuracy: 0.9065 - val_loss: 0.7257 - val_accuracy: 0.6338\n",
            "Epoch 11/40\n",
            "54/54 [==============================] - 1s 17ms/step - loss: 0.2230 - accuracy: 0.9300 - val_loss: 0.7191 - val_accuracy: 0.6714\n",
            "Epoch 12/40\n",
            "54/54 [==============================] - 1s 17ms/step - loss: 0.2054 - accuracy: 0.9382 - val_loss: 0.7444 - val_accuracy: 0.6596\n",
            "Epoch 13/40\n",
            "54/54 [==============================] - 1s 18ms/step - loss: 0.1897 - accuracy: 0.9494 - val_loss: 0.7283 - val_accuracy: 0.6620\n",
            "Epoch 14/40\n",
            "54/54 [==============================] - 1s 17ms/step - loss: 0.1717 - accuracy: 0.9582 - val_loss: 0.7496 - val_accuracy: 0.6667\n",
            "Epoch 15/40\n",
            "54/54 [==============================] - 1s 18ms/step - loss: 0.1701 - accuracy: 0.9559 - val_loss: 0.8033 - val_accuracy: 0.6573\n",
            "Epoch 16/40\n",
            "54/54 [==============================] - 1s 17ms/step - loss: 0.1539 - accuracy: 0.9635 - val_loss: 0.7653 - val_accuracy: 0.6432\n",
            "Epoch 17/40\n",
            "54/54 [==============================] - 1s 18ms/step - loss: 0.1427 - accuracy: 0.9700 - val_loss: 0.7535 - val_accuracy: 0.6620\n",
            "Epoch 18/40\n",
            "54/54 [==============================] - 1s 18ms/step - loss: 0.1315 - accuracy: 0.9729 - val_loss: 0.7845 - val_accuracy: 0.6643\n",
            "Epoch 19/40\n",
            "54/54 [==============================] - 1s 18ms/step - loss: 0.1236 - accuracy: 0.9782 - val_loss: 0.7710 - val_accuracy: 0.6526\n",
            "Epoch 20/40\n",
            "54/54 [==============================] - 1s 17ms/step - loss: 0.1163 - accuracy: 0.9794 - val_loss: 0.8246 - val_accuracy: 0.6667\n",
            "Epoch 21/40\n",
            "54/54 [==============================] - 1s 18ms/step - loss: 0.1154 - accuracy: 0.9794 - val_loss: 0.8346 - val_accuracy: 0.6737\n",
            "Epoch 22/40\n",
            "54/54 [==============================] - 1s 18ms/step - loss: 0.1088 - accuracy: 0.9812 - val_loss: 0.8094 - val_accuracy: 0.6526\n",
            "Epoch 23/40\n",
            "54/54 [==============================] - 1s 18ms/step - loss: 0.0964 - accuracy: 0.9829 - val_loss: 0.8339 - val_accuracy: 0.6643\n",
            "Epoch 24/40\n",
            "54/54 [==============================] - 1s 18ms/step - loss: 0.0910 - accuracy: 0.9876 - val_loss: 0.8352 - val_accuracy: 0.6620\n",
            "Epoch 25/40\n",
            "54/54 [==============================] - 1s 17ms/step - loss: 0.0921 - accuracy: 0.9829 - val_loss: 0.8516 - val_accuracy: 0.6690\n",
            "Epoch 26/40\n",
            "54/54 [==============================] - 1s 18ms/step - loss: 0.0844 - accuracy: 0.9876 - val_loss: 0.8336 - val_accuracy: 0.6643\n",
            "Epoch 27/40\n",
            "54/54 [==============================] - 1s 18ms/step - loss: 0.0763 - accuracy: 0.9906 - val_loss: 0.8462 - val_accuracy: 0.6596\n",
            "Epoch 28/40\n",
            "54/54 [==============================] - 1s 18ms/step - loss: 0.0718 - accuracy: 0.9918 - val_loss: 0.8657 - val_accuracy: 0.6667\n",
            "Epoch 29/40\n",
            "54/54 [==============================] - 1s 18ms/step - loss: 0.0689 - accuracy: 0.9924 - val_loss: 0.8629 - val_accuracy: 0.6549\n",
            "Epoch 30/40\n",
            "54/54 [==============================] - 1s 18ms/step - loss: 0.0671 - accuracy: 0.9900 - val_loss: 0.8539 - val_accuracy: 0.6620\n",
            "Epoch 31/40\n",
            "54/54 [==============================] - 1s 17ms/step - loss: 0.0620 - accuracy: 0.9935 - val_loss: 0.9130 - val_accuracy: 0.6643\n",
            "Epoch 32/40\n",
            "54/54 [==============================] - 1s 17ms/step - loss: 0.0644 - accuracy: 0.9912 - val_loss: 0.9248 - val_accuracy: 0.6690\n",
            "Epoch 33/40\n",
            "54/54 [==============================] - 1s 18ms/step - loss: 0.0581 - accuracy: 0.9924 - val_loss: 0.8992 - val_accuracy: 0.6502\n",
            "Epoch 34/40\n",
            "54/54 [==============================] - 1s 18ms/step - loss: 0.0558 - accuracy: 0.9929 - val_loss: 0.9064 - val_accuracy: 0.6455\n",
            "Epoch 35/40\n",
            "54/54 [==============================] - 1s 17ms/step - loss: 0.0523 - accuracy: 0.9941 - val_loss: 0.9408 - val_accuracy: 0.6526\n",
            "Epoch 36/40\n",
            "54/54 [==============================] - 1s 17ms/step - loss: 0.0530 - accuracy: 0.9959 - val_loss: 0.9558 - val_accuracy: 0.6385\n",
            "Epoch 37/40\n",
            "54/54 [==============================] - 1s 19ms/step - loss: 0.0518 - accuracy: 0.9941 - val_loss: 0.9707 - val_accuracy: 0.6667\n",
            "Epoch 38/40\n",
            "54/54 [==============================] - 1s 17ms/step - loss: 0.0454 - accuracy: 0.9947 - val_loss: 0.9580 - val_accuracy: 0.6714\n",
            "Epoch 39/40\n",
            "54/54 [==============================] - 1s 18ms/step - loss: 0.0429 - accuracy: 0.9971 - val_loss: 0.9990 - val_accuracy: 0.6690\n",
            "Epoch 40/40\n",
            "54/54 [==============================] - 1s 17ms/step - loss: 0.0414 - accuracy: 0.9959 - val_loss: 0.9779 - val_accuracy: 0.6667\n"
          ]
        }
      ]
    },
    {
      "cell_type": "code",
      "source": [
        "#y_pred = model.predict(X_train).ravel()\n",
        "from sklearn.metrics import roc_curve\n",
        "y_pred_cnn6 = model.predict(X_test).ravel()\n",
        "fpr_6, tpr_6, thresholds = roc_curve(y_test, y_pred_cnn6)\n",
        "from sklearn.metrics import auc\n",
        "auc_score6 = auc(fpr_6, tpr_6)\n",
        "auc_score6"
      ],
      "metadata": {
        "colab": {
          "base_uri": "https://localhost:8080/"
        },
        "id": "DzORKueZpRqD",
        "outputId": "8bb6dcf0-0fdf-4a83-a997-5b21994d6d59"
      },
      "execution_count": 135,
      "outputs": [
        {
          "output_type": "execute_result",
          "data": {
            "text/plain": [
              "0.7211115774591884"
            ]
          },
          "metadata": {},
          "execution_count": 135
        }
      ]
    },
    {
      "cell_type": "code",
      "source": [
        "from sklearn.metrics import average_precision_score, precision_recall_curve\n",
        "y_pred_cnn6 = model.predict(X_test).ravel()\n",
        "precision_6, recall_6, thresholds = precision_recall_curve(y_test, y_pred_cnn6)\n",
        "aupr_score6 = auc(recall_6, precision_6)\n",
        "print(aupr_score6)"
      ],
      "metadata": {
        "colab": {
          "base_uri": "https://localhost:8080/"
        },
        "id": "MqiireK3ap_m",
        "outputId": "92b105f1-908c-4e99-e871-7480dd2636ae"
      },
      "execution_count": 136,
      "outputs": [
        {
          "output_type": "stream",
          "name": "stdout",
          "text": [
            "0.6765816874021386\n"
          ]
        }
      ]
    },
    {
      "cell_type": "markdown",
      "source": [
        "## 7. Glove + FastText +Word2vec"
      ],
      "metadata": {
        "id": "byCwfPEzrX9g"
      }
    },
    {
      "cell_type": "code",
      "source": [
        "import pandas as pd\n",
        "from pandas import read_excel\n",
        "file_name = '/content/gdrive/MyDrive/word2vec+fasttext+glove_allghor.csv'\n",
        "# Glove3decimal.csv\n",
        "# Gloveallghor.csv \n",
        "#df = pd.read_csv(file_name, index_col=0)\n",
        "df = pd.read_csv(file_name)\n",
        "print(df.head()) # print the first 5 rows"
      ],
      "metadata": {
        "colab": {
          "base_uri": "https://localhost:8080/"
        },
        "id": "O9AJ_7hYpjXo",
        "outputId": "2153cc26-894c-49e4-8b01-7d8298d7b42d"
      },
      "execution_count": 137,
      "outputs": [
        {
          "output_type": "stream",
          "name": "stdout",
          "text": [
            "       tpc0      tpc1      tpc2      tpc3      tpc4      tpc5      tpc6  \\\n",
            "0 -0.037980 -0.022374 -0.000357 -0.052267 -0.080404 -0.026881  0.054797   \n",
            "1 -0.046191 -0.036129 -0.002969 -0.074574 -0.081948 -0.029251  0.039459   \n",
            "2 -0.039378 -0.029917 -0.002562 -0.051458 -0.080362 -0.040203  0.048534   \n",
            "3 -0.037194 -0.028180  0.002139 -0.050322 -0.086340 -0.028409  0.051199   \n",
            "4 -0.038799 -0.011877  0.008337 -0.024062 -0.086949 -0.031327  0.053610   \n",
            "\n",
            "       tpc7      tpc8      tpc9  ...   glov503   glov504   glov505   glov506  \\\n",
            "0 -0.015409 -0.011325 -0.086878  ...  0.034153 -0.028236  0.067696 -0.096331   \n",
            "1 -0.008533 -0.009899 -0.084967  ...  0.035826 -0.019969  0.041198 -0.089281   \n",
            "2  0.002905 -0.015046 -0.078904  ...  0.027479 -0.015310  0.053065 -0.039859   \n",
            "3 -0.011362 -0.014576 -0.086905  ...  0.037971 -0.036039  0.087234 -0.085197   \n",
            "4 -0.003705 -0.022229 -0.075298  ...  0.012862 -0.017681  0.083901 -0.106877   \n",
            "\n",
            "    glov507   glov508   glov509   glov510   glov511  Target  \n",
            "0  0.025590  0.039283 -0.050542  0.122821 -0.076334       0  \n",
            "1  0.003722  0.021992 -0.056355  0.113405 -0.034552       1  \n",
            "2  0.043501  0.054468 -0.056376  0.150060 -0.062847       0  \n",
            "3  0.009901  0.028044 -0.068661  0.123129 -0.058323       0  \n",
            "4  0.073434  0.078891 -0.050987  0.136574 -0.083851       1  \n",
            "\n",
            "[5 rows x 1537 columns]\n"
          ]
        }
      ]
    },
    {
      "cell_type": "code",
      "source": [
        "df.shape"
      ],
      "metadata": {
        "colab": {
          "base_uri": "https://localhost:8080/"
        },
        "id": "COh-v6pPro4N",
        "outputId": "9d4cc5a5-4990-43c4-f91e-a3264d1e6b0e"
      },
      "execution_count": 138,
      "outputs": [
        {
          "output_type": "execute_result",
          "data": {
            "text/plain": [
              "(2104, 1537)"
            ]
          },
          "metadata": {},
          "execution_count": 138
        }
      ]
    },
    {
      "cell_type": "code",
      "source": [
        "features = np.array(df.columns[:-1])\n",
        "target = 'Target'"
      ],
      "metadata": {
        "id": "rX60W2I2rspD"
      },
      "execution_count": 139,
      "outputs": []
    },
    {
      "cell_type": "code",
      "source": [
        "X = df[features]\n",
        "y = df[target]"
      ],
      "metadata": {
        "id": "UqJWNHaarvcS"
      },
      "execution_count": 140,
      "outputs": []
    },
    {
      "cell_type": "code",
      "source": [
        "#Create independent and Dependent Features\n",
        "columns = df.columns.tolist()\n",
        "# Filter the columns to remove data we do not want \n",
        "columns = [c for c in columns if c not in [\"Target\"]]\n",
        "# Store the variable we are predicting \n",
        "target = \"Target\"\n",
        "# Define a random state \n",
        "state = np.random.RandomState(0)\n",
        "X = X\n",
        "y = y\n",
        "X_outliers = state.uniform(low=0, high=1, size=(X.shape[0], X.shape[1]))\n",
        "# Print the shapes of X & Y\n",
        "print(X.shape)\n",
        "print(y.shape)"
      ],
      "metadata": {
        "colab": {
          "base_uri": "https://localhost:8080/"
        },
        "id": "JajkLG1yrxzg",
        "outputId": "c8421d2f-a0f3-4773-9e2e-daf5e0cf7eee"
      },
      "execution_count": 141,
      "outputs": [
        {
          "output_type": "stream",
          "name": "stdout",
          "text": [
            "(2104, 1536)\n",
            "(2104,)\n"
          ]
        }
      ]
    },
    {
      "cell_type": "code",
      "source": [
        "count_classes = pd.value_counts(y, sort = True)\n",
        "\n",
        "count_classes.plot(kind = 'bar', rot=0)\n",
        "\n",
        "plt.title(\"Class Distribution\")\n",
        "\n",
        "LABELS = [\"Zero\", \"One\"]\n",
        "\n",
        "plt.xticks(range(2), LABELS)\n",
        "\n",
        "plt.xlabel(\"Class\")\n",
        "\n",
        "plt.ylabel(\"Frequency\")"
      ],
      "metadata": {
        "colab": {
          "base_uri": "https://localhost:8080/",
          "height": 312
        },
        "id": "nmPei2-5sO-v",
        "outputId": "2549773a-0523-4f97-fde9-7725229d29bb"
      },
      "execution_count": 142,
      "outputs": [
        {
          "output_type": "execute_result",
          "data": {
            "text/plain": [
              "Text(0, 0.5, 'Frequency')"
            ]
          },
          "metadata": {},
          "execution_count": 142
        },
        {
          "output_type": "display_data",
          "data": {
            "text/plain": [
              "<Figure size 432x288 with 1 Axes>"
            ],
            "image/png": "[encoded data removed]"
          },
          "metadata": {
            "needs_background": "light"
          }
        }
      ]
    },
    {
      "cell_type": "code",
      "source": [
        "One = df[y==1]\n",
        "\n",
        "Zero = df[y==0]\n",
        "\n",
        "print(Zero.shape,One.shape)"
      ],
      "metadata": {
        "colab": {
          "base_uri": "https://localhost:8080/"
        },
        "id": "i5yAacLysSxz",
        "outputId": "c26a5d9c-1aeb-4691-fd1c-beb2d42f0451"
      },
      "execution_count": 143,
      "outputs": [
        {
          "output_type": "stream",
          "name": "stdout",
          "text": [
            "(1041, 1537) (1063, 1537)\n"
          ]
        }
      ]
    },
    {
      "cell_type": "code",
      "source": [
        "from imblearn.over_sampling import SMOTE\n",
        "sm = SMOTE(sampling_strategy='minority')\n",
        "X_res,y_res=sm.fit_resample(X,y)"
      ],
      "metadata": {
        "id": "3vmWAawfsVyr"
      },
      "execution_count": 144,
      "outputs": []
    },
    {
      "cell_type": "code",
      "source": [
        "print(X_res.shape)\n",
        "print(y_res.shape)"
      ],
      "metadata": {
        "colab": {
          "base_uri": "https://localhost:8080/"
        },
        "id": "x_uNUEAtsd1c",
        "outputId": "1133b614-7684-46fa-dd30-b4052a378071"
      },
      "execution_count": 145,
      "outputs": [
        {
          "output_type": "stream",
          "name": "stdout",
          "text": [
            "(2126, 1536)\n",
            "(2126,)\n"
          ]
        }
      ]
    },
    {
      "cell_type": "code",
      "source": [
        "#Split data into independent (X) and dependent(Y) columns\n",
        "\n",
        "y = y_res\n",
        "X = X_res"
      ],
      "metadata": {
        "id": "pkGa-xUbsg9M"
      },
      "execution_count": 146,
      "outputs": []
    },
    {
      "cell_type": "code",
      "source": [
        "from sklearn.model_selection import train_test_split\n",
        "X_train, X_test, y_train, y_test = train_test_split(X, y, test_size = 0.20, random_state = 0)"
      ],
      "metadata": {
        "id": "EkuwHLcSskuo"
      },
      "execution_count": 191,
      "outputs": []
    },
    {
      "cell_type": "code",
      "source": [
        "print(X_train.shape)\n",
        "print(X_test.shape)"
      ],
      "metadata": {
        "colab": {
          "base_uri": "https://localhost:8080/"
        },
        "id": "SxJZVT3-soPR",
        "outputId": "9e57ceac-4f36-4ba3-e05c-20831daa042e"
      },
      "execution_count": 192,
      "outputs": [
        {
          "output_type": "stream",
          "name": "stdout",
          "text": [
            "(1700, 1536)\n",
            "(426, 1536)\n"
          ]
        }
      ]
    },
    {
      "cell_type": "code",
      "source": [
        "scaler = StandardScaler()\n",
        "X_train = scaler.fit_transform(X_train)\n",
        "X_test = scaler.transform(X_test)"
      ],
      "metadata": {
        "id": "vB2qV6T2sqoK"
      },
      "execution_count": 193,
      "outputs": []
    },
    {
      "cell_type": "code",
      "source": [
        "X_train = X_train.reshape(1700, 1536,1)\n",
        "X_test = X_test.reshape(426, 1536, 1)"
      ],
      "metadata": {
        "id": "lDrF28glstgb"
      },
      "execution_count": 194,
      "outputs": []
    },
    {
      "cell_type": "code",
      "source": [
        "epochs =45\n",
        "model = Sequential()\n",
        "model.add(Conv1D(filters=32, kernel_size=4, activation='relu', input_shape = (1536,1))) ##1st conv layer\n",
        "model.add(BatchNormalization())\n",
        "model.add(Dropout(0.2))\n",
        "\n",
        "model.add(Conv1D(filters=64, kernel_size=4, activation='relu'))  #2nd Conv layer\n",
        "model.add(BatchNormalization())\n",
        "#model.add(Dropout(0.3))\n",
        "\n",
        "model.add(Flatten())    #Flattening\n",
        "model.add(Dense(64, activation='relu'))  ##fully connected layer\n",
        "#model.add(Dropout(0.3))\n",
        "\n",
        "model.add(Dense(1, activation='sigmoid'))   #output layer"
      ],
      "metadata": {
        "id": "nIFeYIDks3qP"
      },
      "execution_count": 199,
      "outputs": []
    },
    {
      "cell_type": "code",
      "source": [
        "model.compile(optimizer=Adam(learning_rate=0.00001), loss = 'binary_crossentropy', metrics=['accuracy'])\n",
        "\n",
        "history = model.fit(X_train, y_train, epochs=epochs, batch_size=32,validation_data=(X_test, y_test), verbose=1)"
      ],
      "metadata": {
        "colab": {
          "base_uri": "https://localhost:8080/"
        },
        "id": "jtNxgtvKtVMO",
        "outputId": "5d2841d4-7252-4af8-ef93-eca0bf5da1d3"
      },
      "execution_count": 200,
      "outputs": [
        {
          "output_type": "stream",
          "name": "stdout",
          "text": [
            "Epoch 1/45\n",
            "54/54 [==============================] - 4s 37ms/step - loss: 0.7264 - accuracy: 0.6094 - val_loss: 0.6601 - val_accuracy: 0.6479\n",
            "Epoch 2/45\n",
            "54/54 [==============================] - 1s 25ms/step - loss: 0.5496 - accuracy: 0.7082 - val_loss: 0.6832 - val_accuracy: 0.5540\n",
            "Epoch 3/45\n",
            "54/54 [==============================] - 2s 29ms/step - loss: 0.4817 - accuracy: 0.7653 - val_loss: 0.6158 - val_accuracy: 0.6714\n",
            "Epoch 4/45\n",
            "54/54 [==============================] - 1s 26ms/step - loss: 0.4128 - accuracy: 0.8065 - val_loss: 0.6039 - val_accuracy: 0.6831\n",
            "Epoch 5/45\n",
            "54/54 [==============================] - 1s 23ms/step - loss: 0.3596 - accuracy: 0.8459 - val_loss: 0.6439 - val_accuracy: 0.6479\n",
            "Epoch 6/45\n",
            "54/54 [==============================] - 1s 23ms/step - loss: 0.3209 - accuracy: 0.8765 - val_loss: 0.6284 - val_accuracy: 0.6620\n",
            "Epoch 7/45\n",
            "54/54 [==============================] - 1s 22ms/step - loss: 0.2702 - accuracy: 0.9100 - val_loss: 0.6545 - val_accuracy: 0.6643\n",
            "Epoch 8/45\n",
            "54/54 [==============================] - 1s 23ms/step - loss: 0.2403 - accuracy: 0.9188 - val_loss: 0.6339 - val_accuracy: 0.6878\n",
            "Epoch 9/45\n",
            "54/54 [==============================] - 1s 22ms/step - loss: 0.2254 - accuracy: 0.9282 - val_loss: 0.6739 - val_accuracy: 0.6808\n",
            "Epoch 10/45\n",
            "54/54 [==============================] - 1s 24ms/step - loss: 0.1999 - accuracy: 0.9359 - val_loss: 0.6856 - val_accuracy: 0.6737\n",
            "Epoch 11/45\n",
            "54/54 [==============================] - 1s 24ms/step - loss: 0.1847 - accuracy: 0.9535 - val_loss: 0.6863 - val_accuracy: 0.6808\n",
            "Epoch 12/45\n",
            "54/54 [==============================] - 1s 23ms/step - loss: 0.1633 - accuracy: 0.9576 - val_loss: 0.7558 - val_accuracy: 0.6854\n",
            "Epoch 13/45\n",
            "54/54 [==============================] - 1s 23ms/step - loss: 0.1519 - accuracy: 0.9647 - val_loss: 0.7266 - val_accuracy: 0.6854\n",
            "Epoch 14/45\n",
            "54/54 [==============================] - 1s 22ms/step - loss: 0.1267 - accuracy: 0.9818 - val_loss: 0.7304 - val_accuracy: 0.6737\n",
            "Epoch 15/45\n",
            "54/54 [==============================] - 1s 23ms/step - loss: 0.1171 - accuracy: 0.9847 - val_loss: 0.7369 - val_accuracy: 0.6808\n",
            "Epoch 16/45\n",
            "54/54 [==============================] - 1s 24ms/step - loss: 0.1184 - accuracy: 0.9700 - val_loss: 0.7707 - val_accuracy: 0.6667\n",
            "Epoch 17/45\n",
            "54/54 [==============================] - 1s 23ms/step - loss: 0.1023 - accuracy: 0.9841 - val_loss: 0.7688 - val_accuracy: 0.6784\n",
            "Epoch 18/45\n",
            "54/54 [==============================] - 1s 22ms/step - loss: 0.0912 - accuracy: 0.9906 - val_loss: 0.7605 - val_accuracy: 0.6690\n",
            "Epoch 19/45\n",
            "54/54 [==============================] - 1s 22ms/step - loss: 0.0875 - accuracy: 0.9835 - val_loss: 0.7615 - val_accuracy: 0.6784\n",
            "Epoch 20/45\n",
            "54/54 [==============================] - 1s 24ms/step - loss: 0.0846 - accuracy: 0.9900 - val_loss: 0.8035 - val_accuracy: 0.6714\n",
            "Epoch 21/45\n",
            "54/54 [==============================] - 1s 24ms/step - loss: 0.0711 - accuracy: 0.9918 - val_loss: 0.8058 - val_accuracy: 0.6690\n",
            "Epoch 22/45\n",
            "54/54 [==============================] - 1s 23ms/step - loss: 0.0720 - accuracy: 0.9900 - val_loss: 0.8474 - val_accuracy: 0.6667\n",
            "Epoch 23/45\n",
            "54/54 [==============================] - 1s 22ms/step - loss: 0.0601 - accuracy: 0.9947 - val_loss: 0.8404 - val_accuracy: 0.6667\n",
            "Epoch 24/45\n",
            "54/54 [==============================] - 1s 22ms/step - loss: 0.0782 - accuracy: 0.9835 - val_loss: 0.8328 - val_accuracy: 0.6761\n",
            "Epoch 25/45\n",
            "54/54 [==============================] - 1s 22ms/step - loss: 0.0604 - accuracy: 0.9918 - val_loss: 0.8415 - val_accuracy: 0.6761\n",
            "Epoch 26/45\n",
            "54/54 [==============================] - 1s 23ms/step - loss: 0.0527 - accuracy: 0.9959 - val_loss: 0.8410 - val_accuracy: 0.6620\n",
            "Epoch 27/45\n",
            "54/54 [==============================] - 1s 23ms/step - loss: 0.0486 - accuracy: 0.9965 - val_loss: 0.8666 - val_accuracy: 0.6854\n",
            "Epoch 28/45\n",
            "54/54 [==============================] - 1s 23ms/step - loss: 0.0457 - accuracy: 0.9976 - val_loss: 0.8799 - val_accuracy: 0.6784\n",
            "Epoch 29/45\n",
            "54/54 [==============================] - 1s 23ms/step - loss: 0.0426 - accuracy: 0.9976 - val_loss: 0.8690 - val_accuracy: 0.6643\n",
            "Epoch 30/45\n",
            "54/54 [==============================] - 1s 23ms/step - loss: 0.0411 - accuracy: 0.9965 - val_loss: 0.8948 - val_accuracy: 0.6714\n",
            "Epoch 31/45\n",
            "54/54 [==============================] - 1s 24ms/step - loss: 0.0398 - accuracy: 0.9959 - val_loss: 0.9066 - val_accuracy: 0.6549\n",
            "Epoch 32/45\n",
            "54/54 [==============================] - 1s 22ms/step - loss: 0.0367 - accuracy: 0.9971 - val_loss: 0.9054 - val_accuracy: 0.6549\n",
            "Epoch 33/45\n",
            "54/54 [==============================] - 1s 23ms/step - loss: 0.0333 - accuracy: 0.9976 - val_loss: 0.9024 - val_accuracy: 0.6808\n",
            "Epoch 34/45\n",
            "54/54 [==============================] - 1s 22ms/step - loss: 0.0346 - accuracy: 0.9971 - val_loss: 0.9171 - val_accuracy: 0.6643\n",
            "Epoch 35/45\n",
            "54/54 [==============================] - 1s 23ms/step - loss: 0.0326 - accuracy: 0.9976 - val_loss: 0.9178 - val_accuracy: 0.6737\n",
            "Epoch 36/45\n",
            "54/54 [==============================] - 1s 24ms/step - loss: 0.0310 - accuracy: 0.9971 - val_loss: 0.9141 - val_accuracy: 0.6667\n",
            "Epoch 37/45\n",
            "54/54 [==============================] - 1s 24ms/step - loss: 0.0295 - accuracy: 0.9959 - val_loss: 0.9229 - val_accuracy: 0.6714\n",
            "Epoch 38/45\n",
            "54/54 [==============================] - 1s 22ms/step - loss: 0.0276 - accuracy: 0.9976 - val_loss: 0.9399 - val_accuracy: 0.6714\n",
            "Epoch 39/45\n",
            "54/54 [==============================] - 1s 24ms/step - loss: 0.0260 - accuracy: 0.9988 - val_loss: 0.9522 - val_accuracy: 0.6690\n",
            "Epoch 40/45\n",
            "54/54 [==============================] - 1s 22ms/step - loss: 0.0256 - accuracy: 0.9982 - val_loss: 0.9476 - val_accuracy: 0.6690\n",
            "Epoch 41/45\n",
            "54/54 [==============================] - 1s 22ms/step - loss: 0.0245 - accuracy: 0.9982 - val_loss: 0.9573 - val_accuracy: 0.6690\n",
            "Epoch 42/45\n",
            "54/54 [==============================] - 1s 22ms/step - loss: 0.0451 - accuracy: 0.9929 - val_loss: 0.9490 - val_accuracy: 0.6596\n",
            "Epoch 43/45\n",
            "54/54 [==============================] - 1s 23ms/step - loss: 0.0277 - accuracy: 0.9976 - val_loss: 0.9429 - val_accuracy: 0.6643\n",
            "Epoch 44/45\n",
            "54/54 [==============================] - 1s 23ms/step - loss: 0.0249 - accuracy: 0.9976 - val_loss: 0.9923 - val_accuracy: 0.6667\n",
            "Epoch 45/45\n",
            "54/54 [==============================] - 1s 24ms/step - loss: 0.0216 - accuracy: 0.9976 - val_loss: 0.9929 - val_accuracy: 0.6573\n"
          ]
        }
      ]
    },
    {
      "cell_type": "code",
      "source": [
        "#y_pred = model.predict(X_train).ravel()\n",
        "from sklearn.metrics import roc_curve\n",
        "y_pred_cnn7 = model.predict(X_test).ravel()\n",
        "fpr_7, tpr_7, thresholds = roc_curve(y_test, y_pred_cnn7)\n",
        "from sklearn.metrics import auc\n",
        "auc_score7 = auc(fpr_7, tpr_7)\n",
        "auc_score7"
      ],
      "metadata": {
        "colab": {
          "base_uri": "https://localhost:8080/"
        },
        "id": "N3uPp5OftcIt",
        "outputId": "64c31821-0b52-4edc-caf8-1eb06d6b9595"
      },
      "execution_count": 201,
      "outputs": [
        {
          "output_type": "execute_result",
          "data": {
            "text/plain": [
              "0.7346560846560847"
            ]
          },
          "metadata": {},
          "execution_count": 201
        }
      ]
    },
    {
      "cell_type": "code",
      "source": [
        "from sklearn.metrics import average_precision_score, precision_recall_curve\n",
        "y_pred_cnn7 = model.predict(X_test).ravel()\n",
        "precision_7, recall_7, thresholds = precision_recall_curve(y_test, y_pred_cnn7)\n",
        "aupr_score7 = auc(recall_7, precision_7)\n",
        "print(aupr_score7)"
      ],
      "metadata": {
        "colab": {
          "base_uri": "https://localhost:8080/"
        },
        "id": "-P37nm2KbYrE",
        "outputId": "bb12dfde-a4e3-4c57-a2cf-c4ac93f8784c"
      },
      "execution_count": 202,
      "outputs": [
        {
          "output_type": "stream",
          "name": "stdout",
          "text": [
            "0.7080927332545361\n"
          ]
        }
      ]
    },
    {
      "cell_type": "code",
      "source": [
        "#auc_score1 = 0.8639\n",
        "#auc_score2 = 0.8394\n",
        "#auc_score3 = 0.8198\n",
        "#auc_score4 = 0.8261\n",
        "#auc_score5 = 0.8096\n",
        "#auc_score6 = 0.7853\n",
        "#auc_score7 = 0.7931\n",
        "\n",
        "aupr_score1 = 0.7807\n",
        "aupr_score2 = 0.77167\n",
        "aupr_score3 = 0.74449\n",
        "aupr_score4 = 0.72747\n",
        "aupr_score5 = 0.70895\n",
        "aupr_score6 = 0.67658\n",
        "aupr_score7 = 0.6912\n"
      ],
      "metadata": {
        "id": "n-eGvUdjtyf7"
      },
      "execution_count": 203,
      "outputs": []
    },
    {
      "cell_type": "code",
      "source": [
        "sns.set_style(\"white\")\n",
        "plt.figure(figsize=(8,6))\n",
        "\n",
        "plt.plot(recall_1,precision_1, color = \"green\", label = \"Glove - %0.2f \" %aupr_score1, lw = 2)\n",
        "plt.plot(recall_2,precision_2, color = \"orange\", label = \"FastText - %0.2f \" %aupr_score2, lw = 2)\n",
        "plt.plot(recall_3,precision_3, color = \"red\", label = \"Word2vec - %0.2f \" %aupr_score3, lw = 2)\n",
        "plt.plot(recall_4,precision_4, color = \"blue\", label = \"Glove + FastText - %0.2f \" %aupr_score4, lw = 2)\n",
        "\n",
        "plt.plot(recall_5,precision_5, color = \"magenta\", label = \"Glove + Word2vec - %0.2f \" %aupr_score5, lw = 2)\n",
        "plt.plot(recall_6,precision_6, color = \"indigo\", label = \"FastText + Word2vec - %0.2f \" %aupr_score6, lw = 2)\n",
        "plt.plot(recall_7,precision_7, color = \"cyan\", label = \"Glove + FastText +Word2vec - %0.2f \" %aupr_score7, lw = 2)\n",
        "\n",
        "#plt.plot([0,1], [0,1], color = 'purple', lw=2, linestyle='--')\n",
        "plt.xlabel('Recall', fontsize = 19)\n",
        "plt.ylabel('Precision', fontsize=19)\n",
        "plt.title('Result of CNN without feature selection', fontsize=22)\n",
        "plt.legend(loc = \"lower left\", fontsize=11)\n",
        "\n",
        "plt.xticks(fontsize=13)\n",
        "plt.yticks(fontsize=13)\n",
        "plt.savefig('AUPR_all',dpi=300)\n",
        "plt.show()"
      ],
      "metadata": {
        "colab": {
          "base_uri": "https://localhost:8080/",
          "height": 422
        },
        "id": "rE8PdNCv0v_5",
        "outputId": "1c64b6c1-c97b-4327-e50d-fc96e9da59b2"
      },
      "execution_count": 207,
      "outputs": [
        {
          "output_type": "display_data",
          "data": {
            "text/plain": [
              "<Figure size 576x432 with 1 Axes>"
            ],
            "image/png": "[encoded data removed]"
          },
          "metadata": {}
        }
      ]
    },
    {
      "cell_type": "code",
      "source": [
        "plt.savefig('/content/gdrive/MyDrive/fig/Table-1 Without FST AUPR.png',bbox_inches='tight')"
      ],
      "metadata": {
        "colab": {
          "base_uri": "https://localhost:8080/",
          "height": 34
        },
        "id": "kxaDPjP73VLw",
        "outputId": "ea709192-acf8-467a-84e2-fa085003c909"
      },
      "execution_count": 205,
      "outputs": [
        {
          "output_type": "display_data",
          "data": {
            "text/plain": [
              "<Figure size 432x288 with 0 Axes>"
            ]
          },
          "metadata": {}
        }
      ]
    },
    {
      "cell_type": "code",
      "source": [
        "plt.figure(figsize=(7,6))\n",
        "plt.title('AREA UNDER PRECISION RECALL CURVE')\n",
        "plt.plot(recall, precision,color='red',label='AUPR = %0.2f' % auc_precision_recall,marker='.',linewidth=3,markersize=8)\n",
        "plt.legend(loc = 'lower right')\n",
        "plt.ylabel('Precision')\n",
        "plt.xlabel('Recall')"
      ],
      "metadata": {
        "id": "dDqiAgSY5BQ_"
      },
      "execution_count": null,
      "outputs": []
    },
    {
      "cell_type": "code",
      "source": [
        ""
      ],
      "metadata": {
        "id": "dPRefchGczoF"
      },
      "execution_count": null,
      "outputs": []
    }
  ]
}