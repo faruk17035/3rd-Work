{
  "nbformat": 4,
  "nbformat_minor": 0,
  "metadata": {
    "colab": {
      "name": "ROC curve+PF.ipynb",
      "provenance": [],
      "authorship_tag": "ABX9TyPz/wB+Akfo3xcTiSJIfam8",
      "include_colab_link": true
    },
    "kernelspec": {
      "name": "python3",
      "display_name": "Python 3"
    },
    "language_info": {
      "name": "python"
    },
    "accelerator": "GPU"
  },
  "cells": [
    {
      "cell_type": "markdown",
      "metadata": {
        "id": "view-in-github",
        "colab_type": "text"
      },
      "source": [
        "<a href=\"https://colab.research.google.com/github/faruk17035/3rd-Work/blob/main/ROC_curve%2BPF.ipynb\" target=\"_parent\"><img src=\"https://colab.research.google.com/assets/colab-badge.svg\" alt=\"Open In Colab\"/></a>"
      ]
    },
    {
      "cell_type": "code",
      "execution_count": null,
      "metadata": {
        "id": "eV7c96NBeh-7"
      },
      "outputs": [],
      "source": [
        "import numpy as np\n",
        "import matplotlib.pyplot as plt\n",
        "import pandas as pd"
      ]
    },
    {
      "cell_type": "code",
      "source": [
        "from google.colab import drive \n",
        "drive.mount('/content/gdrive')"
      ],
      "metadata": {
        "colab": {
          "base_uri": "https://localhost:8080/"
        },
        "id": "D5psWJFAe-P2",
        "outputId": "b0ba7a58-f309-4ea0-cf72-0e124f907e53"
      },
      "execution_count": null,
      "outputs": [
        {
          "output_type": "stream",
          "name": "stdout",
          "text": [
            "Drive already mounted at /content/gdrive; to attempt to forcibly remount, call drive.mount(\"/content/gdrive\", force_remount=True).\n"
          ]
        }
      ]
    },
    {
      "cell_type": "code",
      "source": [
        "import pandas as pd\n",
        "from pandas import read_excel\n",
        "file_name = '/content/gdrive/MyDrive/Enzyme A+X.xlsx' \n",
        "df = pd.read_excel(file_name, index_col=0)\n",
        "print(df.head()) # print the first 5 rows"
      ],
      "metadata": {
        "colab": {
          "base_uri": "https://localhost:8080/"
        },
        "id": "CGkSeP3wfD7H",
        "outputId": "1a229f84-7521-447c-ffba-b1a8690a1a51"
      },
      "execution_count": null,
      "outputs": [
        {
          "output_type": "stream",
          "name": "stdout",
          "text": [
            "            PubchemFP2  PubchemFP3  PubchemFP4  PubchemFP5  PubchemFP6  \\\n",
            "PubchemFP1                                                               \n",
            "1                    1           0           0           0           0   \n",
            "1                    1           0           0           0           0   \n",
            "1                    1           1           0           0           0   \n",
            "1                    1           1           0           0           0   \n",
            "1                    1           0           0           0           0   \n",
            "\n",
            "            PubchemFP7  PubchemFP8  PubchemFP9  PubchemFP10  PubchemFP11  ...  \\\n",
            "PubchemFP1                                                                ...   \n",
            "1                    0           0           0            1            1  ...   \n",
            "1                    0           0           0            1            1  ...   \n",
            "1                    0           0           0            1            1  ...   \n",
            "1                    0           0           0            1            1  ...   \n",
            "1                    0           0           0            1            1  ...   \n",
            "\n",
            "            BiGram392  BiGram393  BiGram394  BiGram395  BiGram396  BiGram397  \\\n",
            "PubchemFP1                                                                     \n",
            "1              2.5535    1.56200     2.6367     7.0272    1.29200    1.94570   \n",
            "1              1.4986    0.82920     1.8209     4.8760    0.52066    0.58678   \n",
            "1              1.4986    0.82920     1.8209     4.8760    0.52066    0.58678   \n",
            "1              1.1657    1.11370     2.8815     4.8719    1.09060    1.08480   \n",
            "1              2.3074    0.94947     2.4168     5.3011    0.45053    0.94737   \n",
            "\n",
            "            BiGram398  BiGram399  BiGram400  Target  \n",
            "PubchemFP1                                           \n",
            "1             11.0710     3.0730    0.75382       1  \n",
            "1              6.9477     2.1047    0.93939       1  \n",
            "1              6.9477     2.1047    0.93939       1  \n",
            "1              6.5877     2.8391    1.49230       1  \n",
            "1              6.4779     1.8568    1.73260       1  \n",
            "\n",
            "[5 rows x 1281 columns]\n"
          ]
        }
      ]
    },
    {
      "cell_type": "code",
      "source": [
        "features = np.array(df.columns[:-1])\n",
        "target = 'Target'"
      ],
      "metadata": {
        "id": "EzT4g7fMfxSN"
      },
      "execution_count": null,
      "outputs": []
    },
    {
      "cell_type": "code",
      "source": [
        "X = df[features]\n",
        "y = df[target]"
      ],
      "metadata": {
        "id": "bp1tB6ROiSsV"
      },
      "execution_count": null,
      "outputs": []
    },
    {
      "cell_type": "code",
      "source": [
        "from sklearn.model_selection import train_test_split\n",
        "X_train, X_test, y_train, y_test = train_test_split(X, y, test_size = 0.20, random_state = 50)"
      ],
      "metadata": {
        "id": "tIuCyOy9iU8X"
      },
      "execution_count": null,
      "outputs": []
    },
    {
      "cell_type": "code",
      "source": [
        "print(X_train.shape)\n",
        "print(X_test.shape)"
      ],
      "metadata": {
        "colab": {
          "base_uri": "https://localhost:8080/"
        },
        "id": "zL4ScohhiY1b",
        "outputId": "3df845e4-df6c-4681-d5c9-59eecebc93e9"
      },
      "execution_count": null,
      "outputs": [
        {
          "output_type": "stream",
          "name": "stdout",
          "text": [
            "(6525, 1280)\n",
            "(1632, 1280)\n"
          ]
        }
      ]
    },
    {
      "cell_type": "code",
      "source": [
        "import numpy as np\n",
        "import pandas as pd\n",
        "import tensorflow as tf\n",
        "from tensorflow import keras\n",
        "from tensorflow.keras import Sequential\n",
        "from tensorflow.keras.layers import Flatten, Dense, Dropout, BatchNormalization\n",
        "from tensorflow.keras.layers import Conv1D, MaxPool1D\n",
        "\n",
        "from tensorflow.keras.optimizers import Adam\n",
        "\n",
        "import  seaborn as sns\n",
        "import matplotlib.pyplot as plt\n",
        "from sklearn import datasets, metrics\n",
        "from sklearn.model_selection import train_test_split\n",
        "from sklearn.preprocessing import StandardScaler"
      ],
      "metadata": {
        "id": "ilrHkQqfibFB"
      },
      "execution_count": null,
      "outputs": []
    },
    {
      "cell_type": "code",
      "source": [
        "scaler = StandardScaler()\n",
        "X_train = scaler.fit_transform(X_train)\n",
        "X_test = scaler.transform(X_test)"
      ],
      "metadata": {
        "id": "tIHvhEy-kTbX"
      },
      "execution_count": null,
      "outputs": []
    },
    {
      "cell_type": "code",
      "source": [
        "X_train = X_train.reshape(6525, 1280,1)\n",
        "X_test = X_test.reshape(1632, 1280, 1)"
      ],
      "metadata": {
        "id": "7E0aEmbhkWgK"
      },
      "execution_count": null,
      "outputs": []
    },
    {
      "cell_type": "code",
      "source": [
        "epochs =50\n",
        "model = Sequential()\n",
        "model.add(Conv1D(filters=32, kernel_size=4, activation='relu', input_shape = (1280,1))) ##1st conv layer\n",
        "model.add(BatchNormalization())\n",
        "#model.add(Dropout(0.2))\n",
        "\n",
        "model.add(Conv1D(filters=64, kernel_size=4, activation='relu'))  #2nd Conv layer\n",
        "model.add(BatchNormalization())\n",
        "#model.add(Dropout(0.3))\n",
        "\n",
        "model.add(Flatten())    #Flattening\n",
        "model.add(Dense(64, activation='relu'))  ##fully connected layer\n",
        "model.add(Dropout(0.3))\n",
        "\n",
        "model.add(Dense(1, activation='sigmoid'))   #output layer"
      ],
      "metadata": {
        "id": "0v4Z_HDekgXC"
      },
      "execution_count": null,
      "outputs": []
    },
    {
      "cell_type": "code",
      "source": [
        "model.compile(optimizer=Adam(learning_rate=0.00001), loss = 'binary_crossentropy', metrics=['accuracy'])\n",
        "\n",
        "history = model.fit(X_train, y_train, epochs=epochs, batch_size=32,validation_data=(X_test, y_test), verbose=1)"
      ],
      "metadata": {
        "colab": {
          "base_uri": "https://localhost:8080/"
        },
        "id": "sEcZkSiqknS2",
        "outputId": "f4522c9e-b492-45a6-91f3-42e7f480648c"
      },
      "execution_count": null,
      "outputs": [
        {
          "output_type": "stream",
          "name": "stdout",
          "text": [
            "Epoch 1/50\n",
            "204/204 [==============================] - 17s 10ms/step - loss: 0.4768 - accuracy: 0.7939 - val_loss: 0.5139 - val_accuracy: 0.8315\n",
            "Epoch 2/50\n",
            "204/204 [==============================] - 2s 9ms/step - loss: 0.3436 - accuracy: 0.8601 - val_loss: 0.3525 - val_accuracy: 0.8793\n",
            "Epoch 3/50\n",
            "204/204 [==============================] - 2s 9ms/step - loss: 0.2935 - accuracy: 0.8818 - val_loss: 0.2985 - val_accuracy: 0.9026\n",
            "Epoch 4/50\n",
            "204/204 [==============================] - 2s 9ms/step - loss: 0.2552 - accuracy: 0.8985 - val_loss: 0.2703 - val_accuracy: 0.9001\n",
            "Epoch 5/50\n",
            "204/204 [==============================] - 2s 9ms/step - loss: 0.2317 - accuracy: 0.9094 - val_loss: 0.2581 - val_accuracy: 0.9105\n",
            "Epoch 6/50\n",
            "204/204 [==============================] - 2s 9ms/step - loss: 0.2163 - accuracy: 0.9179 - val_loss: 0.2555 - val_accuracy: 0.9069\n",
            "Epoch 7/50\n",
            "204/204 [==============================] - 2s 9ms/step - loss: 0.2025 - accuracy: 0.9225 - val_loss: 0.2452 - val_accuracy: 0.9203\n",
            "Epoch 8/50\n",
            "204/204 [==============================] - 2s 9ms/step - loss: 0.1879 - accuracy: 0.9261 - val_loss: 0.2391 - val_accuracy: 0.9216\n",
            "Epoch 9/50\n",
            "204/204 [==============================] - 2s 9ms/step - loss: 0.1810 - accuracy: 0.9310 - val_loss: 0.2334 - val_accuracy: 0.9246\n",
            "Epoch 10/50\n",
            "204/204 [==============================] - 2s 9ms/step - loss: 0.1668 - accuracy: 0.9387 - val_loss: 0.2318 - val_accuracy: 0.9259\n",
            "Epoch 11/50\n",
            "204/204 [==============================] - 2s 9ms/step - loss: 0.1530 - accuracy: 0.9424 - val_loss: 0.2199 - val_accuracy: 0.9283\n",
            "Epoch 12/50\n",
            "204/204 [==============================] - 2s 9ms/step - loss: 0.1439 - accuracy: 0.9496 - val_loss: 0.2237 - val_accuracy: 0.9277\n",
            "Epoch 13/50\n",
            "204/204 [==============================] - 2s 9ms/step - loss: 0.1424 - accuracy: 0.9490 - val_loss: 0.2212 - val_accuracy: 0.9301\n",
            "Epoch 14/50\n",
            "204/204 [==============================] - 2s 10ms/step - loss: 0.1347 - accuracy: 0.9497 - val_loss: 0.2237 - val_accuracy: 0.9314\n",
            "Epoch 15/50\n",
            "204/204 [==============================] - 2s 9ms/step - loss: 0.1266 - accuracy: 0.9549 - val_loss: 0.2128 - val_accuracy: 0.9320\n",
            "Epoch 16/50\n",
            "204/204 [==============================] - 2s 9ms/step - loss: 0.1183 - accuracy: 0.9565 - val_loss: 0.2138 - val_accuracy: 0.9338\n",
            "Epoch 17/50\n",
            "204/204 [==============================] - 2s 9ms/step - loss: 0.1141 - accuracy: 0.9580 - val_loss: 0.2130 - val_accuracy: 0.9350\n",
            "Epoch 18/50\n",
            "204/204 [==============================] - 2s 9ms/step - loss: 0.1115 - accuracy: 0.9608 - val_loss: 0.2187 - val_accuracy: 0.9308\n",
            "Epoch 19/50\n",
            "204/204 [==============================] - 2s 9ms/step - loss: 0.1070 - accuracy: 0.9621 - val_loss: 0.2088 - val_accuracy: 0.9375\n",
            "Epoch 20/50\n",
            "204/204 [==============================] - 2s 9ms/step - loss: 0.1008 - accuracy: 0.9634 - val_loss: 0.2073 - val_accuracy: 0.9320\n",
            "Epoch 21/50\n",
            "204/204 [==============================] - 2s 9ms/step - loss: 0.0942 - accuracy: 0.9677 - val_loss: 0.2065 - val_accuracy: 0.9412\n",
            "Epoch 22/50\n",
            "204/204 [==============================] - 2s 9ms/step - loss: 0.0966 - accuracy: 0.9683 - val_loss: 0.2125 - val_accuracy: 0.9363\n",
            "Epoch 23/50\n",
            "204/204 [==============================] - 2s 9ms/step - loss: 0.0915 - accuracy: 0.9675 - val_loss: 0.2126 - val_accuracy: 0.9357\n",
            "Epoch 24/50\n",
            "204/204 [==============================] - 2s 9ms/step - loss: 0.0876 - accuracy: 0.9709 - val_loss: 0.2066 - val_accuracy: 0.9381\n",
            "Epoch 25/50\n",
            "204/204 [==============================] - 2s 9ms/step - loss: 0.0839 - accuracy: 0.9712 - val_loss: 0.2046 - val_accuracy: 0.9338\n",
            "Epoch 26/50\n",
            "204/204 [==============================] - 2s 9ms/step - loss: 0.0817 - accuracy: 0.9736 - val_loss: 0.2233 - val_accuracy: 0.9375\n",
            "Epoch 27/50\n",
            "204/204 [==============================] - 2s 9ms/step - loss: 0.0790 - accuracy: 0.9743 - val_loss: 0.2086 - val_accuracy: 0.9326\n",
            "Epoch 28/50\n",
            "204/204 [==============================] - 2s 9ms/step - loss: 0.0741 - accuracy: 0.9735 - val_loss: 0.2157 - val_accuracy: 0.9412\n",
            "Epoch 29/50\n",
            "204/204 [==============================] - 2s 9ms/step - loss: 0.0715 - accuracy: 0.9759 - val_loss: 0.2078 - val_accuracy: 0.9357\n",
            "Epoch 30/50\n",
            "204/204 [==============================] - 2s 9ms/step - loss: 0.0737 - accuracy: 0.9741 - val_loss: 0.2065 - val_accuracy: 0.9436\n",
            "Epoch 31/50\n",
            "204/204 [==============================] - 2s 9ms/step - loss: 0.0656 - accuracy: 0.9790 - val_loss: 0.2079 - val_accuracy: 0.9393\n",
            "Epoch 32/50\n",
            "204/204 [==============================] - 2s 9ms/step - loss: 0.0686 - accuracy: 0.9782 - val_loss: 0.2192 - val_accuracy: 0.9406\n",
            "Epoch 33/50\n",
            "204/204 [==============================] - 2s 9ms/step - loss: 0.0645 - accuracy: 0.9796 - val_loss: 0.2099 - val_accuracy: 0.9393\n",
            "Epoch 34/50\n",
            "204/204 [==============================] - 2s 9ms/step - loss: 0.0597 - accuracy: 0.9813 - val_loss: 0.2184 - val_accuracy: 0.9418\n",
            "Epoch 35/50\n",
            "204/204 [==============================] - 2s 9ms/step - loss: 0.0591 - accuracy: 0.9821 - val_loss: 0.2100 - val_accuracy: 0.9442\n",
            "Epoch 36/50\n",
            "204/204 [==============================] - 2s 9ms/step - loss: 0.0598 - accuracy: 0.9808 - val_loss: 0.2138 - val_accuracy: 0.9381\n",
            "Epoch 37/50\n",
            "204/204 [==============================] - 2s 9ms/step - loss: 0.0543 - accuracy: 0.9842 - val_loss: 0.2167 - val_accuracy: 0.9375\n",
            "Epoch 38/50\n",
            "204/204 [==============================] - 2s 9ms/step - loss: 0.0535 - accuracy: 0.9831 - val_loss: 0.2197 - val_accuracy: 0.9412\n",
            "Epoch 39/50\n",
            "204/204 [==============================] - 2s 9ms/step - loss: 0.0544 - accuracy: 0.9822 - val_loss: 0.2137 - val_accuracy: 0.9400\n",
            "Epoch 40/50\n",
            "204/204 [==============================] - 2s 9ms/step - loss: 0.0538 - accuracy: 0.9839 - val_loss: 0.2227 - val_accuracy: 0.9381\n",
            "Epoch 41/50\n",
            "204/204 [==============================] - 2s 9ms/step - loss: 0.0527 - accuracy: 0.9824 - val_loss: 0.2174 - val_accuracy: 0.9418\n",
            "Epoch 42/50\n",
            "204/204 [==============================] - 2s 9ms/step - loss: 0.0475 - accuracy: 0.9854 - val_loss: 0.2237 - val_accuracy: 0.9412\n",
            "Epoch 43/50\n",
            "204/204 [==============================] - 2s 9ms/step - loss: 0.0504 - accuracy: 0.9844 - val_loss: 0.2175 - val_accuracy: 0.9406\n",
            "Epoch 44/50\n",
            "204/204 [==============================] - 2s 9ms/step - loss: 0.0499 - accuracy: 0.9841 - val_loss: 0.2275 - val_accuracy: 0.9369\n",
            "Epoch 45/50\n",
            "204/204 [==============================] - 2s 9ms/step - loss: 0.0479 - accuracy: 0.9845 - val_loss: 0.2210 - val_accuracy: 0.9424\n",
            "Epoch 46/50\n",
            "204/204 [==============================] - 2s 9ms/step - loss: 0.0469 - accuracy: 0.9868 - val_loss: 0.2194 - val_accuracy: 0.9400\n",
            "Epoch 47/50\n",
            "204/204 [==============================] - 2s 9ms/step - loss: 0.0447 - accuracy: 0.9868 - val_loss: 0.2217 - val_accuracy: 0.9449\n",
            "Epoch 48/50\n",
            "204/204 [==============================] - 2s 9ms/step - loss: 0.0424 - accuracy: 0.9880 - val_loss: 0.2221 - val_accuracy: 0.9449\n",
            "Epoch 49/50\n",
            "204/204 [==============================] - 2s 9ms/step - loss: 0.0408 - accuracy: 0.9882 - val_loss: 0.2218 - val_accuracy: 0.9449\n",
            "Epoch 50/50\n",
            "204/204 [==============================] - 2s 9ms/step - loss: 0.0411 - accuracy: 0.9884 - val_loss: 0.2231 - val_accuracy: 0.9461\n"
          ]
        }
      ]
    },
    {
      "cell_type": "code",
      "source": [
        "#y_pred = model.predict(X_train).ravel()\n",
        "from sklearn.metrics import roc_curve\n",
        "y_pred_cnn1 = model.predict(X_test).ravel()\n",
        "fpr_1, tpr_1, thresholds = roc_curve(y_test, y_pred_cnn1)\n",
        "from sklearn.metrics import auc\n",
        "auc_score1 = auc(fpr_1, tpr_1)\n",
        "auc_score1"
      ],
      "metadata": {
        "colab": {
          "base_uri": "https://localhost:8080/"
        },
        "id": "A4-vIqDBksMU",
        "outputId": "101a8e86-ed8c-482e-f28d-d90b565dc5a8"
      },
      "execution_count": null,
      "outputs": [
        {
          "output_type": "execute_result",
          "data": {
            "text/plain": [
              "0.9716337506917543"
            ]
          },
          "metadata": {},
          "execution_count": 15
        }
      ]
    },
    {
      "cell_type": "markdown",
      "source": [
        "## 2"
      ],
      "metadata": {
        "id": "NulNs40-lgy7"
      }
    },
    {
      "cell_type": "code",
      "source": [
        "import pandas as pd\n",
        "from pandas import read_excel\n",
        "file_name = '/content/gdrive/MyDrive/Enzyme A+X.xlsx' \n",
        "df = pd.read_excel(file_name, index_col=0)\n",
        "features = np.array(df.columns[:-1])\n",
        "target = 'Target'\n",
        "X = df[features]\n",
        "y = df[target]"
      ],
      "metadata": {
        "id": "l6BEVHqMlV8I"
      },
      "execution_count": null,
      "outputs": []
    },
    {
      "cell_type": "code",
      "source": [
        "from sklearn.model_selection import train_test_split\n",
        "X_train, X_test, y_train, y_test = train_test_split(X, y, test_size = 0.20, random_state = 0)"
      ],
      "metadata": {
        "id": "gq9T3QUWmtLE"
      },
      "execution_count": null,
      "outputs": []
    },
    {
      "cell_type": "code",
      "source": [
        "print(X_train.shape)\n",
        "print(X_test.shape)"
      ],
      "metadata": {
        "colab": {
          "base_uri": "https://localhost:8080/"
        },
        "id": "xu0HTh6xoPrJ",
        "outputId": "240151fe-0612-417f-c12d-694e5a584534"
      },
      "execution_count": null,
      "outputs": [
        {
          "output_type": "stream",
          "name": "stdout",
          "text": [
            "(6525, 1280)\n",
            "(1632, 1280)\n"
          ]
        }
      ]
    },
    {
      "cell_type": "code",
      "source": [
        "### Feature scaling\n",
        "from sklearn.preprocessing import StandardScaler\n",
        "sc = StandardScaler()\n",
        "X_train = sc.fit_transform(X_train)\n",
        "X_test = sc.transform(X_test)"
      ],
      "metadata": {
        "id": "YWSi1sRumzzr"
      },
      "execution_count": null,
      "outputs": []
    },
    {
      "cell_type": "code",
      "source": [
        "X_train = X_train.reshape(6525, 1280,1)\n",
        "X_test = X_test.reshape(1632, 1280, 1)"
      ],
      "metadata": {
        "id": "2aQJljSDnhct"
      },
      "execution_count": null,
      "outputs": []
    },
    {
      "cell_type": "code",
      "source": [
        "epochs =10\n",
        "model = Sequential()\n",
        "model.add(Conv1D(filters=32, kernel_size=4, activation='relu', input_shape = (1280,1))) ##1st conv layer\n",
        "model.add(BatchNormalization())\n",
        "#model.add(Dropout(0.2))\n",
        "\n",
        "model.add(Conv1D(filters=64, kernel_size=4, activation='relu'))  #2nd Conv layer\n",
        "model.add(BatchNormalization())\n",
        "#model.add(Dropout(0.3))\n",
        "\n",
        "model.add(Flatten())    #Flattening\n",
        "model.add(Dense(64, activation='relu'))  ##fully connected layer\n",
        "model.add(Dropout(0.3))\n",
        "\n",
        "model.add(Dense(1, activation='sigmoid'))   #output layer"
      ],
      "metadata": {
        "id": "cRKoO7nbolRi"
      },
      "execution_count": null,
      "outputs": []
    },
    {
      "cell_type": "code",
      "source": [
        "model.compile(optimizer=Adam(learning_rate=0.00001), loss = 'binary_crossentropy', metrics=['accuracy'])\n",
        "\n",
        "history = model.fit(X_train, y_train, epochs=epochs, batch_size=32,validation_data=(X_test, y_test), verbose=1)"
      ],
      "metadata": {
        "colab": {
          "base_uri": "https://localhost:8080/"
        },
        "id": "pnSILLeNon4O",
        "outputId": "38eae0a6-0683-4086-a946-8fcad2f7add4"
      },
      "execution_count": null,
      "outputs": [
        {
          "output_type": "stream",
          "name": "stdout",
          "text": [
            "Epoch 1/10\n",
            "204/204 [==============================] - 3s 10ms/step - loss: 0.4890 - accuracy: 0.7815 - val_loss: 0.5490 - val_accuracy: 0.8297\n",
            "Epoch 2/10\n",
            "204/204 [==============================] - 2s 9ms/step - loss: 0.3546 - accuracy: 0.8526 - val_loss: 0.3775 - val_accuracy: 0.8609\n",
            "Epoch 3/10\n",
            "204/204 [==============================] - 2s 9ms/step - loss: 0.3087 - accuracy: 0.8806 - val_loss: 0.3082 - val_accuracy: 0.8830\n",
            "Epoch 4/10\n",
            "204/204 [==============================] - 2s 9ms/step - loss: 0.2739 - accuracy: 0.8939 - val_loss: 0.2879 - val_accuracy: 0.9013\n",
            "Epoch 5/10\n",
            "204/204 [==============================] - 2s 9ms/step - loss: 0.2409 - accuracy: 0.9079 - val_loss: 0.2653 - val_accuracy: 0.9020\n",
            "Epoch 6/10\n",
            "204/204 [==============================] - 2s 9ms/step - loss: 0.2296 - accuracy: 0.9103 - val_loss: 0.2546 - val_accuracy: 0.9062\n",
            "Epoch 7/10\n",
            "204/204 [==============================] - 2s 9ms/step - loss: 0.2108 - accuracy: 0.9162 - val_loss: 0.2441 - val_accuracy: 0.9087\n",
            "Epoch 8/10\n",
            "204/204 [==============================] - 2s 9ms/step - loss: 0.2011 - accuracy: 0.9200 - val_loss: 0.2414 - val_accuracy: 0.9118\n",
            "Epoch 9/10\n",
            "204/204 [==============================] - 2s 9ms/step - loss: 0.1865 - accuracy: 0.9278 - val_loss: 0.2324 - val_accuracy: 0.9203\n",
            "Epoch 10/10\n",
            "204/204 [==============================] - 2s 9ms/step - loss: 0.1747 - accuracy: 0.9321 - val_loss: 0.2286 - val_accuracy: 0.9173\n"
          ]
        }
      ]
    },
    {
      "cell_type": "code",
      "source": [
        "#y_pred = model.predict(X_train).ravel()\n",
        "from sklearn.metrics import roc_curve\n",
        "y_pred_cnn2 = model.predict(X_test).ravel()\n",
        "fpr_2, tpr_2, thresholds = roc_curve(y_test, y_pred_cnn2)\n",
        "from sklearn.metrics import auc\n",
        "auc_score2 = auc(fpr_2, tpr_2)\n",
        "auc_score2"
      ],
      "metadata": {
        "colab": {
          "base_uri": "https://localhost:8080/"
        },
        "id": "Xrl1_l14ou4u",
        "outputId": "71767e7c-2a7a-4990-b6dd-f6dd12a4a040"
      },
      "execution_count": null,
      "outputs": [
        {
          "output_type": "execute_result",
          "data": {
            "text/plain": [
              "0.9599440601858482"
            ]
          },
          "metadata": {},
          "execution_count": 29
        }
      ]
    },
    {
      "cell_type": "markdown",
      "source": [
        "## 3"
      ],
      "metadata": {
        "id": "G1gUeQdtppna"
      }
    },
    {
      "cell_type": "code",
      "source": [
        "import pandas as pd\n",
        "from pandas import read_excel\n",
        "file_name = '/content/gdrive/MyDrive/Enzyme A+X.xlsx' \n",
        "df = pd.read_excel(file_name, index_col=0)\n",
        "features = np.array(df.columns[:-1])\n",
        "target = 'Target'\n",
        "X = df[features]\n",
        "y = df[target]\n",
        "from sklearn.model_selection import train_test_split\n",
        "X_train, X_test, y_train, y_test = train_test_split(X, y, test_size = 0.20, random_state = 100)\n",
        "print(X_train.shape)\n",
        "print(X_test.shape)"
      ],
      "metadata": {
        "colab": {
          "base_uri": "https://localhost:8080/"
        },
        "id": "ql7r-XkHpiZ0",
        "outputId": "12278a85-0d79-42d0-a8f8-c239dc0ce3b3"
      },
      "execution_count": null,
      "outputs": [
        {
          "output_type": "stream",
          "name": "stdout",
          "text": [
            "(6525, 1280)\n",
            "(1632, 1280)\n"
          ]
        }
      ]
    },
    {
      "cell_type": "code",
      "source": [
        "print(X_train.shape)\n",
        "print(X_test.shape)"
      ],
      "metadata": {
        "colab": {
          "base_uri": "https://localhost:8080/"
        },
        "id": "Psa66bbMp3aN",
        "outputId": "a4264437-bb7f-4f04-9bdd-0731bd3448dd"
      },
      "execution_count": null,
      "outputs": [
        {
          "output_type": "stream",
          "name": "stdout",
          "text": [
            "(6525, 1280)\n",
            "(1632, 1280)\n"
          ]
        }
      ]
    },
    {
      "cell_type": "code",
      "source": [
        "scaler = StandardScaler()\n",
        "X_train = scaler.fit_transform(X_train)\n",
        "X_test = scaler.transform(X_test)"
      ],
      "metadata": {
        "id": "mUzW89LqqrR6"
      },
      "execution_count": null,
      "outputs": []
    },
    {
      "cell_type": "code",
      "source": [
        "X_train = X_train.reshape(6525, 1280,1)\n",
        "X_test = X_test.reshape(1632, 1280, 1)"
      ],
      "metadata": {
        "id": "a_SxSjFFr-7Y"
      },
      "execution_count": null,
      "outputs": []
    },
    {
      "cell_type": "code",
      "source": [
        "epochs =10\n",
        "model = Sequential()\n",
        "model.add(Conv1D(filters=32, kernel_size=4, activation='relu', input_shape = (1280,1))) ##1st conv layer\n",
        "model.add(BatchNormalization())\n",
        "#model.add(Dropout(0.2))\n",
        "\n",
        "model.add(Conv1D(filters=64, kernel_size=4, activation='relu'))  #2nd Conv layer\n",
        "model.add(BatchNormalization())\n",
        "#model.add(Dropout(0.3))\n",
        "\n",
        "model.add(Flatten())    #Flattening\n",
        "model.add(Dense(64, activation='relu'))  ##fully connected layer\n",
        "model.add(Dropout(0.3))\n",
        "\n",
        "model.add(Dense(1, activation='sigmoid'))   #output layer"
      ],
      "metadata": {
        "id": "AvovbjBvsMHj"
      },
      "execution_count": null,
      "outputs": []
    },
    {
      "cell_type": "code",
      "source": [
        "model.compile(optimizer=Adam(learning_rate=0.0001), loss = 'binary_crossentropy', metrics=['accuracy'])\n",
        "\n",
        "history = model.fit(X_train, y_train, epochs=epochs, batch_size=32,validation_data=(X_test, y_test), verbose=1)"
      ],
      "metadata": {
        "colab": {
          "base_uri": "https://localhost:8080/"
        },
        "id": "RkD0_Dd8sRUq",
        "outputId": "19ccd1d2-03e6-4e87-a3e2-b69b47493537"
      },
      "execution_count": null,
      "outputs": [
        {
          "output_type": "stream",
          "name": "stdout",
          "text": [
            "Epoch 1/10\n",
            "204/204 [==============================] - 4s 10ms/step - loss: 0.5105 - accuracy: 0.7733 - val_loss: 0.5893 - val_accuracy: 0.7004\n",
            "Epoch 2/10\n",
            "204/204 [==============================] - 2s 9ms/step - loss: 0.3816 - accuracy: 0.8375 - val_loss: 0.3999 - val_accuracy: 0.8597\n",
            "Epoch 3/10\n",
            "204/204 [==============================] - 2s 9ms/step - loss: 0.3285 - accuracy: 0.8578 - val_loss: 0.3052 - val_accuracy: 0.8830\n",
            "Epoch 4/10\n",
            "204/204 [==============================] - 2s 9ms/step - loss: 0.3047 - accuracy: 0.8589 - val_loss: 0.2798 - val_accuracy: 0.8873\n",
            "Epoch 5/10\n",
            "204/204 [==============================] - 2s 9ms/step - loss: 0.2740 - accuracy: 0.8703 - val_loss: 0.2819 - val_accuracy: 0.8817\n",
            "Epoch 6/10\n",
            "204/204 [==============================] - 2s 9ms/step - loss: 0.2627 - accuracy: 0.8779 - val_loss: 0.2582 - val_accuracy: 0.8946\n",
            "Epoch 7/10\n",
            "204/204 [==============================] - 2s 9ms/step - loss: 0.2490 - accuracy: 0.8898 - val_loss: 0.2532 - val_accuracy: 0.8983\n",
            "Epoch 8/10\n",
            "204/204 [==============================] - 2s 9ms/step - loss: 0.2330 - accuracy: 0.8949 - val_loss: 0.2428 - val_accuracy: 0.9032\n",
            "Epoch 9/10\n",
            "204/204 [==============================] - 2s 9ms/step - loss: 0.2220 - accuracy: 0.8990 - val_loss: 0.2350 - val_accuracy: 0.9075\n",
            "Epoch 10/10\n",
            "204/204 [==============================] - 2s 9ms/step - loss: 0.2098 - accuracy: 0.9061 - val_loss: 0.2286 - val_accuracy: 0.9130\n"
          ]
        }
      ]
    },
    {
      "cell_type": "code",
      "source": [
        "#y_pred = model.predict(X_train).ravel()\n",
        "from sklearn.metrics import roc_curve\n",
        "y_pred_cnn3 = model.predict(X_test).ravel()\n",
        "fpr_3, tpr_3, thresholds = roc_curve(y_test, y_pred_cnn3)\n",
        "from sklearn.metrics import auc\n",
        "auc_score3 = auc(fpr_3, tpr_3)\n",
        "auc_score3"
      ],
      "metadata": {
        "colab": {
          "base_uri": "https://localhost:8080/"
        },
        "id": "ciqF6IMKsW3H",
        "outputId": "7cb057b9-a002-46c8-bc07-38b82fe5a34e"
      },
      "execution_count": null,
      "outputs": [
        {
          "output_type": "execute_result",
          "data": {
            "text/plain": [
              "0.9613344555087603"
            ]
          },
          "metadata": {},
          "execution_count": 47
        }
      ]
    },
    {
      "cell_type": "markdown",
      "source": [
        "## 4"
      ],
      "metadata": {
        "id": "crpGgZfds2KZ"
      }
    },
    {
      "cell_type": "code",
      "source": [
        "import pandas as pd\n",
        "from pandas import read_excel\n",
        "file_name = '/content/gdrive/MyDrive/Enzyme A+X.xlsx' \n",
        "df = pd.read_excel(file_name, index_col=0)\n",
        "features = np.array(df.columns[:-1])\n",
        "target = 'Target'\n",
        "X = df[features]\n",
        "y = df[target]\n",
        "from sklearn.model_selection import train_test_split\n",
        "X_train, X_test, y_train, y_test = train_test_split(X, y, test_size = 0.20, random_state = 42)\n",
        "print(X_train.shape)\n",
        "print(X_test.shape)"
      ],
      "metadata": {
        "colab": {
          "base_uri": "https://localhost:8080/"
        },
        "id": "J-3w6lOPsdmZ",
        "outputId": "2e66bbab-0468-4a36-fc8d-26ad06e81087"
      },
      "execution_count": null,
      "outputs": [
        {
          "output_type": "stream",
          "name": "stdout",
          "text": [
            "(6525, 1280)\n",
            "(1632, 1280)\n"
          ]
        }
      ]
    },
    {
      "cell_type": "code",
      "source": [
        "print(X_train.shape)\n",
        "print(X_test.shape)\n",
        "\n",
        "scaler = StandardScaler()\n",
        "X_train = scaler.fit_transform(X_train)\n",
        "X_test = scaler.transform(X_test)\n",
        "\n",
        "X_train = X_train.reshape(6525, 1280,1)\n",
        "X_test = X_test.reshape(1632, 1280, 1)"
      ],
      "metadata": {
        "colab": {
          "base_uri": "https://localhost:8080/"
        },
        "id": "hP6ZJya2s9uY",
        "outputId": "f4c2714a-4b25-465c-dff5-938168876272"
      },
      "execution_count": null,
      "outputs": [
        {
          "output_type": "stream",
          "name": "stdout",
          "text": [
            "(6525, 1280)\n",
            "(1632, 1280)\n"
          ]
        }
      ]
    },
    {
      "cell_type": "code",
      "source": [
        "epochs =15\n",
        "model = Sequential()\n",
        "model.add(Conv1D(filters=32, kernel_size=4, activation='relu', input_shape = (1280,1))) ##1st conv layer\n",
        "model.add(BatchNormalization())\n",
        "#model.add(Dropout(0.2))\n",
        "\n",
        "model.add(Conv1D(filters=64, kernel_size=4, activation='relu'))  #2nd Conv layer\n",
        "model.add(BatchNormalization())\n",
        "#model.add(Dropout(0.3))\n",
        "\n",
        "model.add(Flatten())    #Flattening\n",
        "model.add(Dense(64, activation='relu'))  ##fully connected layer\n",
        "model.add(Dropout(0.3))\n",
        "\n",
        "model.add(Dense(1, activation='sigmoid'))   #output layer"
      ],
      "metadata": {
        "id": "Rwu5aI0OtqMh"
      },
      "execution_count": null,
      "outputs": []
    },
    {
      "cell_type": "code",
      "source": [
        "model.compile(optimizer=Adam(learning_rate=0.0001), loss = 'binary_crossentropy', metrics=['accuracy'])\n",
        "\n",
        "history = model.fit(X_train, y_train, epochs=epochs, batch_size=32,validation_data=(X_test, y_test), verbose=1)"
      ],
      "metadata": {
        "colab": {
          "base_uri": "https://localhost:8080/"
        },
        "id": "P8tcXmg6tz3s",
        "outputId": "519b8684-ca76-492d-b0e8-4e65ad49e05b"
      },
      "execution_count": null,
      "outputs": [
        {
          "output_type": "stream",
          "name": "stdout",
          "text": [
            "Epoch 1/15\n",
            "204/204 [==============================] - 3s 10ms/step - loss: 0.5288 - accuracy: 0.7615 - val_loss: 0.5819 - val_accuracy: 0.7892\n",
            "Epoch 2/15\n",
            "204/204 [==============================] - 2s 9ms/step - loss: 0.3840 - accuracy: 0.8132 - val_loss: 0.3955 - val_accuracy: 0.8462\n",
            "Epoch 3/15\n",
            "204/204 [==============================] - 2s 9ms/step - loss: 0.3461 - accuracy: 0.8325 - val_loss: 0.3489 - val_accuracy: 0.8738\n",
            "Epoch 4/15\n",
            "204/204 [==============================] - 2s 9ms/step - loss: 0.3119 - accuracy: 0.8582 - val_loss: 0.3159 - val_accuracy: 0.8732\n",
            "Epoch 5/15\n",
            "204/204 [==============================] - 2s 10ms/step - loss: 0.2881 - accuracy: 0.8671 - val_loss: 0.3157 - val_accuracy: 0.8811\n",
            "Epoch 6/15\n",
            "204/204 [==============================] - 3s 13ms/step - loss: 0.2699 - accuracy: 0.8680 - val_loss: 0.2859 - val_accuracy: 0.8977\n",
            "Epoch 7/15\n",
            "204/204 [==============================] - 2s 9ms/step - loss: 0.2592 - accuracy: 0.8788 - val_loss: 0.2855 - val_accuracy: 0.8971\n",
            "Epoch 8/15\n",
            "204/204 [==============================] - 2s 9ms/step - loss: 0.2399 - accuracy: 0.8857 - val_loss: 0.2800 - val_accuracy: 0.8995\n",
            "Epoch 9/15\n",
            "204/204 [==============================] - 2s 9ms/step - loss: 0.2286 - accuracy: 0.8953 - val_loss: 0.2864 - val_accuracy: 0.8989\n",
            "Epoch 10/15\n",
            "204/204 [==============================] - 2s 9ms/step - loss: 0.2331 - accuracy: 0.8897 - val_loss: 0.2717 - val_accuracy: 0.9093\n",
            "Epoch 11/15\n",
            "204/204 [==============================] - 2s 9ms/step - loss: 0.2141 - accuracy: 0.9008 - val_loss: 0.2999 - val_accuracy: 0.9056\n",
            "Epoch 12/15\n",
            "204/204 [==============================] - 2s 9ms/step - loss: 0.2107 - accuracy: 0.9047 - val_loss: 0.2758 - val_accuracy: 0.9087\n",
            "Epoch 13/15\n",
            "204/204 [==============================] - 2s 9ms/step - loss: 0.2083 - accuracy: 0.9071 - val_loss: 0.2842 - val_accuracy: 0.9044\n",
            "Epoch 14/15\n",
            "204/204 [==============================] - 2s 9ms/step - loss: 0.1939 - accuracy: 0.9189 - val_loss: 0.2874 - val_accuracy: 0.9105\n",
            "Epoch 15/15\n",
            "204/204 [==============================] - 2s 9ms/step - loss: 0.1980 - accuracy: 0.9105 - val_loss: 0.2888 - val_accuracy: 0.9081\n"
          ]
        }
      ]
    },
    {
      "cell_type": "code",
      "source": [
        "#y_pred = model.predict(X_train).ravel()\n",
        "from sklearn.metrics import roc_curve\n",
        "y_pred_cnn4 = model.predict(X_test).ravel()\n",
        "fpr_4, tpr_4, thresholds = roc_curve(y_test, y_pred_cnn4)\n",
        "from sklearn.metrics import auc\n",
        "auc_score4 = auc(fpr_4, tpr_4)\n",
        "auc_score4"
      ],
      "metadata": {
        "colab": {
          "base_uri": "https://localhost:8080/"
        },
        "id": "NpcsEmdEt5Qu",
        "outputId": "9bb2b179-f957-4e3f-ae50-ff5dc150094b"
      },
      "execution_count": null,
      "outputs": [
        {
          "output_type": "execute_result",
          "data": {
            "text/plain": [
              "0.9542870391070704"
            ]
          },
          "metadata": {},
          "execution_count": 52
        }
      ]
    },
    {
      "cell_type": "markdown",
      "source": [
        "# 5"
      ],
      "metadata": {
        "id": "v9YxRCB4uO1h"
      }
    },
    {
      "cell_type": "code",
      "source": [
        "import pandas as pd\n",
        "from pandas import read_excel\n",
        "file_name = '/content/gdrive/MyDrive/Enzyme A+X.xlsx' \n",
        "df = pd.read_excel(file_name, index_col=0)\n",
        "features = np.array(df.columns[:-1])\n",
        "target = 'Target'\n",
        "X = df[features]\n",
        "y = df[target]\n",
        "from sklearn.model_selection import train_test_split\n",
        "X_train, X_test, y_train, y_test = train_test_split(X, y, test_size = 0.20, random_state = 58)\n",
        "print(X_train.shape)\n",
        "print(X_test.shape)"
      ],
      "metadata": {
        "colab": {
          "base_uri": "https://localhost:8080/"
        },
        "id": "oikND2A2uFt2",
        "outputId": "020f2e44-0e02-4141-89c4-16a470312876"
      },
      "execution_count": null,
      "outputs": [
        {
          "output_type": "stream",
          "name": "stdout",
          "text": [
            "(6525, 1280)\n",
            "(1632, 1280)\n"
          ]
        }
      ]
    },
    {
      "cell_type": "code",
      "source": [
        "print(X_train.shape)\n",
        "print(X_test.shape)\n",
        "\n",
        "scaler = StandardScaler()\n",
        "X_train = scaler.fit_transform(X_train)\n",
        "X_test = scaler.transform(X_test)\n",
        "\n",
        "X_train = X_train.reshape(6525, 1280,1)\n",
        "X_test = X_test.reshape(1632, 1280, 1)"
      ],
      "metadata": {
        "colab": {
          "base_uri": "https://localhost:8080/"
        },
        "id": "6tk0urqYuW9o",
        "outputId": "9c719265-e3b0-4439-8752-c484e5f0255a"
      },
      "execution_count": null,
      "outputs": [
        {
          "output_type": "stream",
          "name": "stdout",
          "text": [
            "(6525, 1280)\n",
            "(1632, 1280)\n"
          ]
        }
      ]
    },
    {
      "cell_type": "code",
      "source": [
        "epochs =20\n",
        "model = Sequential()\n",
        "model.add(Conv1D(filters=32, kernel_size=4, activation='relu', input_shape = (1280,1))) ##1st conv layer\n",
        "model.add(BatchNormalization())\n",
        "#model.add(Dropout(0.2))\n",
        "\n",
        "model.add(Conv1D(filters=64, kernel_size=4, activation='relu'))  #2nd Conv layer\n",
        "model.add(BatchNormalization())\n",
        "#model.add(Dropout(0.3))\n",
        "\n",
        "model.add(Flatten())    #Flattening\n",
        "model.add(Dense(64, activation='relu'))  ##fully connected layer\n",
        "model.add(Dropout(0.3))\n",
        "\n",
        "model.add(Dense(1, activation='sigmoid'))   #output layer"
      ],
      "metadata": {
        "id": "D41qQX_UucC-"
      },
      "execution_count": null,
      "outputs": []
    },
    {
      "cell_type": "code",
      "source": [
        "model.compile(optimizer=Adam(learning_rate=0.001), loss = 'binary_crossentropy', metrics=['accuracy'])\n",
        "\n",
        "history = model.fit(X_train, y_train, epochs=epochs, batch_size=32,validation_data=(X_test, y_test), verbose=1)"
      ],
      "metadata": {
        "colab": {
          "base_uri": "https://localhost:8080/"
        },
        "id": "be7FZS0auiwk",
        "outputId": "b47bdc74-85cf-4a8c-971a-6f87bccb0ada"
      },
      "execution_count": null,
      "outputs": [
        {
          "output_type": "stream",
          "name": "stdout",
          "text": [
            "Epoch 1/20\n",
            "204/204 [==============================] - 3s 10ms/step - loss: 0.8751 - accuracy: 0.6708 - val_loss: 0.6348 - val_accuracy: 0.6403\n",
            "Epoch 2/20\n",
            "204/204 [==============================] - 2s 9ms/step - loss: 0.5475 - accuracy: 0.6719 - val_loss: 0.5570 - val_accuracy: 0.6403\n",
            "Epoch 3/20\n",
            "204/204 [==============================] - 2s 9ms/step - loss: 0.5011 - accuracy: 0.6733 - val_loss: 0.4837 - val_accuracy: 0.6403\n",
            "Epoch 4/20\n",
            "204/204 [==============================] - 2s 9ms/step - loss: 0.4768 - accuracy: 0.7149 - val_loss: 0.4935 - val_accuracy: 0.8113\n",
            "Epoch 5/20\n",
            "204/204 [==============================] - 2s 9ms/step - loss: 0.4765 - accuracy: 0.7502 - val_loss: 0.4681 - val_accuracy: 0.8217\n",
            "Epoch 6/20\n",
            "204/204 [==============================] - 2s 9ms/step - loss: 0.4495 - accuracy: 0.7706 - val_loss: 0.4505 - val_accuracy: 0.8254\n",
            "Epoch 7/20\n",
            "204/204 [==============================] - 2s 9ms/step - loss: 0.4253 - accuracy: 0.7897 - val_loss: 0.4354 - val_accuracy: 0.8462\n",
            "Epoch 8/20\n",
            "204/204 [==============================] - 2s 9ms/step - loss: 0.4214 - accuracy: 0.8063 - val_loss: 0.4299 - val_accuracy: 0.8254\n",
            "Epoch 9/20\n",
            "204/204 [==============================] - 2s 9ms/step - loss: 0.4086 - accuracy: 0.8006 - val_loss: 0.4280 - val_accuracy: 0.8431\n",
            "Epoch 10/20\n",
            "204/204 [==============================] - 2s 9ms/step - loss: 0.3941 - accuracy: 0.8164 - val_loss: 0.4141 - val_accuracy: 0.8603\n",
            "Epoch 11/20\n",
            "204/204 [==============================] - 2s 9ms/step - loss: 0.3724 - accuracy: 0.8288 - val_loss: 0.4068 - val_accuracy: 0.8627\n",
            "Epoch 12/20\n",
            "204/204 [==============================] - 2s 9ms/step - loss: 0.3677 - accuracy: 0.8323 - val_loss: 0.4172 - val_accuracy: 0.8425\n",
            "Epoch 13/20\n",
            "204/204 [==============================] - 2s 9ms/step - loss: 0.3483 - accuracy: 0.8429 - val_loss: 0.3771 - val_accuracy: 0.8719\n",
            "Epoch 14/20\n",
            "204/204 [==============================] - 2s 9ms/step - loss: 0.3347 - accuracy: 0.8478 - val_loss: 0.3882 - val_accuracy: 0.8597\n",
            "Epoch 15/20\n",
            "204/204 [==============================] - 2s 9ms/step - loss: 0.3197 - accuracy: 0.8555 - val_loss: 0.3702 - val_accuracy: 0.8817\n",
            "Epoch 16/20\n",
            "204/204 [==============================] - 2s 9ms/step - loss: 0.3267 - accuracy: 0.8584 - val_loss: 0.3793 - val_accuracy: 0.8732\n",
            "Epoch 17/20\n",
            "204/204 [==============================] - 2s 9ms/step - loss: 0.3198 - accuracy: 0.8546 - val_loss: 0.3909 - val_accuracy: 0.8787\n",
            "Epoch 18/20\n",
            "204/204 [==============================] - 2s 9ms/step - loss: 0.3177 - accuracy: 0.8546 - val_loss: 0.3723 - val_accuracy: 0.8836\n",
            "Epoch 19/20\n",
            "204/204 [==============================] - 2s 9ms/step - loss: 0.2881 - accuracy: 0.8734 - val_loss: 0.3771 - val_accuracy: 0.8940\n",
            "Epoch 20/20\n",
            "204/204 [==============================] - 2s 9ms/step - loss: 0.3080 - accuracy: 0.8677 - val_loss: 0.3973 - val_accuracy: 0.8922\n"
          ]
        }
      ]
    },
    {
      "cell_type": "code",
      "source": [
        "#y_pred = model.predict(X_train).ravel()\n",
        "from sklearn.metrics import roc_curve\n",
        "y_pred_cnn5 = model.predict(X_test).ravel()\n",
        "fpr_5, tpr_5, thresholds = roc_curve(y_test, y_pred_cnn5)\n",
        "from sklearn.metrics import auc\n",
        "auc_score5 = auc(fpr_5, tpr_5)\n",
        "auc_score5"
      ],
      "metadata": {
        "colab": {
          "base_uri": "https://localhost:8080/"
        },
        "id": "-glOeeoNum8K",
        "outputId": "1f84d75e-983b-494f-feb8-523abecbdbf0"
      },
      "execution_count": null,
      "outputs": [
        {
          "output_type": "execute_result",
          "data": {
            "text/plain": [
              "0.9383394602349144"
            ]
          },
          "metadata": {},
          "execution_count": 57
        }
      ]
    },
    {
      "cell_type": "markdown",
      "source": [
        "## 6"
      ],
      "metadata": {
        "id": "q4pMuKUjximA"
      }
    },
    {
      "cell_type": "code",
      "source": [
        "import pandas as pd\n",
        "from pandas import read_excel\n",
        "file_name = '/content/gdrive/MyDrive/Enzyme A+X.xlsx' \n",
        "df = pd.read_excel(file_name, index_col=0)\n",
        "features = np.array(df.columns[:-1])\n",
        "target = 'Target'\n",
        "X = df[features]\n",
        "y = df[target]\n",
        "from sklearn.model_selection import train_test_split\n",
        "X_train, X_test, y_train, y_test = train_test_split(X, y, test_size = 0.20, random_state = 500)\n",
        "print(X_train.shape)\n",
        "print(X_test.shape)"
      ],
      "metadata": {
        "colab": {
          "base_uri": "https://localhost:8080/"
        },
        "id": "xLtqN6RdutnW",
        "outputId": "afd8f443-f1e7-4324-9004-2288242e5935"
      },
      "execution_count": null,
      "outputs": [
        {
          "output_type": "stream",
          "name": "stdout",
          "text": [
            "(6525, 1280)\n",
            "(1632, 1280)\n"
          ]
        }
      ]
    },
    {
      "cell_type": "code",
      "source": [
        "print(X_train.shape)\n",
        "print(X_test.shape)\n",
        "\n",
        "scaler = StandardScaler()\n",
        "X_train = scaler.fit_transform(X_train)\n",
        "X_test = scaler.transform(X_test)\n",
        "\n",
        "X_train = X_train.reshape(6525, 1280,1)\n",
        "X_test = X_test.reshape(1632, 1280, 1)"
      ],
      "metadata": {
        "colab": {
          "base_uri": "https://localhost:8080/"
        },
        "id": "Z10jAhDkxt-w",
        "outputId": "c180f4c3-9494-44c4-b094-adf9524608dc"
      },
      "execution_count": null,
      "outputs": [
        {
          "output_type": "stream",
          "name": "stdout",
          "text": [
            "(6525, 1280)\n",
            "(1632, 1280)\n"
          ]
        }
      ]
    },
    {
      "cell_type": "code",
      "source": [
        "epochs =40\n",
        "model = Sequential()\n",
        "model.add(Conv1D(filters=32, kernel_size=4, activation='relu', input_shape = (1280,1))) ##1st conv layer\n",
        "model.add(BatchNormalization())\n",
        "#model.add(Dropout(0.2))\n",
        "\n",
        "model.add(Conv1D(filters=64, kernel_size=4, activation='relu'))  #2nd Conv layer\n",
        "model.add(BatchNormalization())\n",
        "#model.add(Dropout(0.3))\n",
        "\n",
        "model.add(Flatten())    #Flattening\n",
        "model.add(Dense(64, activation='relu'))  ##fully connected layer\n",
        "model.add(Dropout(0.3))\n",
        "\n",
        "model.add(Dense(1, activation='sigmoid'))   #output layer"
      ],
      "metadata": {
        "id": "QNHmKCDmxx_N"
      },
      "execution_count": null,
      "outputs": []
    },
    {
      "cell_type": "code",
      "source": [
        "model.compile(optimizer=Adam(learning_rate=0.00001), loss = 'binary_crossentropy', metrics=['accuracy'])\n",
        "\n",
        "history = model.fit(X_train, y_train, epochs=epochs, batch_size=32,validation_data=(X_test, y_test), verbose=1)"
      ],
      "metadata": {
        "colab": {
          "base_uri": "https://localhost:8080/"
        },
        "id": "ng86_bqAx-Bu",
        "outputId": "74f64e86-820a-461e-d3f4-65cf17f2ed9a"
      },
      "execution_count": null,
      "outputs": [
        {
          "output_type": "stream",
          "name": "stdout",
          "text": [
            "Epoch 1/40\n",
            "204/204 [==============================] - 3s 10ms/step - loss: 0.2356 - accuracy: 0.9028 - val_loss: 0.4015 - val_accuracy: 0.9007\n",
            "Epoch 2/40\n",
            "204/204 [==============================] - 2s 9ms/step - loss: 0.2332 - accuracy: 0.9054 - val_loss: 0.4008 - val_accuracy: 0.9026\n",
            "Epoch 3/40\n",
            "204/204 [==============================] - 2s 9ms/step - loss: 0.2303 - accuracy: 0.9059 - val_loss: 0.4018 - val_accuracy: 0.9044\n",
            "Epoch 4/40\n",
            "204/204 [==============================] - 2s 9ms/step - loss: 0.2338 - accuracy: 0.9036 - val_loss: 0.4005 - val_accuracy: 0.9062\n",
            "Epoch 5/40\n",
            "204/204 [==============================] - 2s 9ms/step - loss: 0.2248 - accuracy: 0.9116 - val_loss: 0.3984 - val_accuracy: 0.9069\n",
            "Epoch 6/40\n",
            "204/204 [==============================] - 2s 9ms/step - loss: 0.2166 - accuracy: 0.9143 - val_loss: 0.3989 - val_accuracy: 0.9087\n",
            "Epoch 7/40\n",
            "204/204 [==============================] - 2s 9ms/step - loss: 0.2188 - accuracy: 0.9133 - val_loss: 0.4008 - val_accuracy: 0.9081\n",
            "Epoch 8/40\n",
            "204/204 [==============================] - 2s 9ms/step - loss: 0.2212 - accuracy: 0.9139 - val_loss: 0.4013 - val_accuracy: 0.9081\n",
            "Epoch 9/40\n",
            "204/204 [==============================] - 2s 9ms/step - loss: 0.2149 - accuracy: 0.9149 - val_loss: 0.4031 - val_accuracy: 0.9099\n",
            "Epoch 10/40\n",
            "204/204 [==============================] - 2s 9ms/step - loss: 0.2151 - accuracy: 0.9166 - val_loss: 0.4039 - val_accuracy: 0.9099\n",
            "Epoch 11/40\n",
            "204/204 [==============================] - 2s 9ms/step - loss: 0.2047 - accuracy: 0.9234 - val_loss: 0.4049 - val_accuracy: 0.9118\n",
            "Epoch 12/40\n",
            "204/204 [==============================] - 2s 9ms/step - loss: 0.2121 - accuracy: 0.9197 - val_loss: 0.4054 - val_accuracy: 0.9118\n",
            "Epoch 13/40\n",
            "204/204 [==============================] - 2s 9ms/step - loss: 0.2106 - accuracy: 0.9192 - val_loss: 0.4065 - val_accuracy: 0.9124\n",
            "Epoch 14/40\n",
            "204/204 [==============================] - 2s 9ms/step - loss: 0.2073 - accuracy: 0.9212 - val_loss: 0.4053 - val_accuracy: 0.9130\n",
            "Epoch 15/40\n",
            "204/204 [==============================] - 2s 9ms/step - loss: 0.2034 - accuracy: 0.9206 - val_loss: 0.4080 - val_accuracy: 0.9130\n",
            "Epoch 16/40\n",
            "204/204 [==============================] - 2s 9ms/step - loss: 0.2099 - accuracy: 0.9182 - val_loss: 0.4097 - val_accuracy: 0.9136\n",
            "Epoch 17/40\n",
            "204/204 [==============================] - 2s 9ms/step - loss: 0.2001 - accuracy: 0.9235 - val_loss: 0.4135 - val_accuracy: 0.9136\n",
            "Epoch 18/40\n",
            "204/204 [==============================] - 2s 9ms/step - loss: 0.2084 - accuracy: 0.9182 - val_loss: 0.4142 - val_accuracy: 0.9142\n",
            "Epoch 19/40\n",
            "204/204 [==============================] - 2s 9ms/step - loss: 0.2101 - accuracy: 0.9175 - val_loss: 0.4155 - val_accuracy: 0.9136\n",
            "Epoch 20/40\n",
            "204/204 [==============================] - 2s 9ms/step - loss: 0.2078 - accuracy: 0.9211 - val_loss: 0.4134 - val_accuracy: 0.9142\n",
            "Epoch 21/40\n",
            "204/204 [==============================] - 2s 9ms/step - loss: 0.2067 - accuracy: 0.9198 - val_loss: 0.4153 - val_accuracy: 0.9136\n",
            "Epoch 22/40\n",
            "204/204 [==============================] - 2s 9ms/step - loss: 0.2054 - accuracy: 0.9214 - val_loss: 0.4189 - val_accuracy: 0.9142\n",
            "Epoch 23/40\n",
            "204/204 [==============================] - 2s 9ms/step - loss: 0.2029 - accuracy: 0.9244 - val_loss: 0.4179 - val_accuracy: 0.9136\n",
            "Epoch 24/40\n",
            "204/204 [==============================] - 2s 9ms/step - loss: 0.2044 - accuracy: 0.9226 - val_loss: 0.4208 - val_accuracy: 0.9136\n",
            "Epoch 25/40\n",
            "204/204 [==============================] - 2s 9ms/step - loss: 0.2015 - accuracy: 0.9243 - val_loss: 0.4234 - val_accuracy: 0.9136\n",
            "Epoch 26/40\n",
            "204/204 [==============================] - 2s 9ms/step - loss: 0.2033 - accuracy: 0.9240 - val_loss: 0.4243 - val_accuracy: 0.9136\n",
            "Epoch 27/40\n",
            "204/204 [==============================] - 2s 9ms/step - loss: 0.2032 - accuracy: 0.9228 - val_loss: 0.4253 - val_accuracy: 0.9130\n",
            "Epoch 28/40\n",
            "204/204 [==============================] - 2s 9ms/step - loss: 0.2065 - accuracy: 0.9191 - val_loss: 0.4273 - val_accuracy: 0.9124\n",
            "Epoch 29/40\n",
            "204/204 [==============================] - 2s 9ms/step - loss: 0.1951 - accuracy: 0.9289 - val_loss: 0.4283 - val_accuracy: 0.9118\n",
            "Epoch 30/40\n",
            "204/204 [==============================] - 2s 9ms/step - loss: 0.1963 - accuracy: 0.9257 - val_loss: 0.4304 - val_accuracy: 0.9118\n",
            "Epoch 31/40\n",
            "204/204 [==============================] - 2s 11ms/step - loss: 0.1984 - accuracy: 0.9274 - val_loss: 0.4348 - val_accuracy: 0.9118\n",
            "Epoch 32/40\n",
            "204/204 [==============================] - 3s 13ms/step - loss: 0.1995 - accuracy: 0.9257 - val_loss: 0.4341 - val_accuracy: 0.9112\n",
            "Epoch 33/40\n",
            "204/204 [==============================] - 3s 13ms/step - loss: 0.1967 - accuracy: 0.9269 - val_loss: 0.4366 - val_accuracy: 0.9112\n",
            "Epoch 34/40\n",
            "204/204 [==============================] - 3s 13ms/step - loss: 0.1903 - accuracy: 0.9303 - val_loss: 0.4371 - val_accuracy: 0.9118\n",
            "Epoch 35/40\n",
            "204/204 [==============================] - 2s 10ms/step - loss: 0.1940 - accuracy: 0.9284 - val_loss: 0.4433 - val_accuracy: 0.9124\n",
            "Epoch 36/40\n",
            "204/204 [==============================] - 2s 9ms/step - loss: 0.2027 - accuracy: 0.9226 - val_loss: 0.4425 - val_accuracy: 0.9112\n",
            "Epoch 37/40\n",
            "204/204 [==============================] - 2s 9ms/step - loss: 0.1929 - accuracy: 0.9284 - val_loss: 0.4441 - val_accuracy: 0.9124\n",
            "Epoch 38/40\n",
            "204/204 [==============================] - 2s 9ms/step - loss: 0.1932 - accuracy: 0.9275 - val_loss: 0.4449 - val_accuracy: 0.9099\n",
            "Epoch 39/40\n",
            "204/204 [==============================] - 2s 9ms/step - loss: 0.1924 - accuracy: 0.9281 - val_loss: 0.4473 - val_accuracy: 0.9099\n",
            "Epoch 40/40\n",
            "204/204 [==============================] - 2s 9ms/step - loss: 0.1953 - accuracy: 0.9281 - val_loss: 0.4484 - val_accuracy: 0.9093\n"
          ]
        }
      ]
    },
    {
      "cell_type": "code",
      "source": [
        "#y_pred = model.predict(X_train).ravel()\n",
        "from sklearn.metrics import roc_curve\n",
        "y_pred_cnn6 = model.predict(X_test).ravel()\n",
        "fpr_6, tpr_6, thresholds = roc_curve(y_test, y_pred_cnn6)\n",
        "from sklearn.metrics import auc\n",
        "auc_score6 = auc(fpr_6, tpr_6)\n",
        "auc_score6"
      ],
      "metadata": {
        "colab": {
          "base_uri": "https://localhost:8080/"
        },
        "id": "YRK-1g3ByA_Y",
        "outputId": "510728a9-2f52-4acf-8e8f-a40da5237e0f"
      },
      "execution_count": null,
      "outputs": [
        {
          "output_type": "execute_result",
          "data": {
            "text/plain": [
              "0.9499690066892514"
            ]
          },
          "metadata": {},
          "execution_count": 63
        }
      ]
    },
    {
      "cell_type": "code",
      "source": [
        "#1 .9716\n",
        "#2 0.9599\n",
        "#3 0.961334\n",
        "#4 0.95428\n",
        "#5 0.93833\n",
        "#6 0.94996\n",
        "auc_score1 = 0.974\n",
        "auc_score2 = 0.966\n",
        "auc_score3 = 0.973\n",
        "auc_score4 = 0.971\n",
        "auc_score6 = 0.951\n",
        "auc_score5 = 0.941"
      ],
      "metadata": {
        "id": "M1X5ozW_yKdy"
      },
      "execution_count": null,
      "outputs": []
    },
    {
      "cell_type": "code",
      "source": [
        "sns.set_style(\"white\")\n",
        "plt.figure(figsize=(8,6))\n",
        "\n",
        "plt.plot(fpr_6,tpr_6, color = \"indigo\", label = \"G1:PF (AUC=%0.3f) \" %auc_score6, lw = 4)\n",
        "plt.plot(fpr_5,tpr_5, color = \"orange\", label = \"G2:PF (AUC=%0.3f) \" %auc_score5, lw = 4)\n",
        "plt.plot(fpr_4,tpr_4, color = \"red\", label = \"ComPF (AUC=%0.3f) \" %auc_score4, lw = 4)\n",
        "plt.plot(fpr_3,tpr_3, color = \"blue\", label = \"OF-G1:PF (AUC=%0.3f) \" %auc_score3, lw = 4)\n",
        "\n",
        "plt.plot(fpr_2,tpr_2, color = \"magenta\", label = \"OF-G2:PF (AUC=%0.3f) \" %auc_score2, lw = 4)\n",
        "plt.plot(fpr_1,tpr_1, color = \"green\", label = \"OF-ComPF (AUC=%0.3f) \" %auc_score1, lw = 4)\n",
        "#plt.plot(fpr_7,tpr_7, color = \"cyan\", label = \"Glove + FastText +Word2vec - %0.2f \" %auc_score7, lw = 4)\n",
        "\n",
        "plt.plot([0,1], [0,1], color = 'purple', lw=2, linestyle='--')\n",
        "plt.xlabel('False Positive Rate', fontsize = 19)\n",
        "plt.ylabel('True Positive Rate', fontsize=19)\n",
        "#plt.title('Result of CNN without feature selection', fontsize=22)\n",
        "plt.legend(loc = \"lower right\", fontsize=11)\n",
        "\n",
        "plt.xticks(fontsize=13)\n",
        "plt.yticks(fontsize=13)\n",
        "plt.savefig('ROC_all',dpi=700)\n",
        "plt.show()"
      ],
      "metadata": {
        "colab": {
          "base_uri": "https://localhost:8080/",
          "height": 400
        },
        "id": "J-jznN1R0klZ",
        "outputId": "bbd10ee2-3ff8-4432-fed4-f383bfa44495"
      },
      "execution_count": null,
      "outputs": [
        {
          "output_type": "display_data",
          "data": {
            "text/plain": [
              "<Figure size 576x432 with 1 Axes>"
            ],
            "image/png": "[encoded data removed]"
          },
          "metadata": {}
        }
      ]
    },
    {
      "cell_type": "code",
      "source": [
        ""
      ],
      "metadata": {
        "id": "lFrohmWf2g37"
      },
      "execution_count": null,
      "outputs": []
    }
  ]
}