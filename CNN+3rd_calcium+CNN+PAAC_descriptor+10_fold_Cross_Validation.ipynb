{
  "cells": [
    {
      "cell_type": "markdown",
      "metadata": {
        "id": "view-in-github",
        "colab_type": "text"
      },
      "source": [
        "<a href=\"https://colab.research.google.com/github/faruk17035/3rd-Work/blob/main/CNN%2B3rd_calcium%2BCNN%2BPAAC_descriptor%2B10_fold_Cross_Validation.ipynb\" target=\"_parent\"><img src=\"https://colab.research.google.com/assets/colab-badge.svg\" alt=\"Open In Colab\"/></a>"
      ]
    },
    {
      "cell_type": "code",
      "execution_count": 1,
      "metadata": {
        "id": "uZ_yl9WCL0m7"
      },
      "outputs": [],
      "source": [
        "import numpy as np\n",
        "import matplotlib.pyplot as plt\n",
        "import pandas as pd"
      ]
    },
    {
      "cell_type": "code",
      "execution_count": 2,
      "metadata": {
        "colab": {
          "base_uri": "https://localhost:8080/"
        },
        "id": "k2axU4UIMG03",
        "outputId": "e6ee0d8c-3639-4d59-c96f-3c37e4f10d8a"
      },
      "outputs": [
        {
          "output_type": "stream",
          "name": "stdout",
          "text": [
            "Mounted at /content/gdrive\n"
          ]
        }
      ],
      "source": [
        "from google.colab import drive \n",
        "drive.mount('/content/gdrive')"
      ]
    },
    {
      "cell_type": "code",
      "execution_count": 3,
      "metadata": {
        "colab": {
          "base_uri": "https://localhost:8080/",
          "height": 488
        },
        "id": "_PyChgRAMRy2",
        "outputId": "9ef57d00-5668-4e1d-a2b6-12020c0ddfb3"
      },
      "outputs": [
        {
          "output_type": "execute_result",
          "data": {
            "text/plain": [
              "         Xc1.A     Xc1.R     Xc1.N     Xc1.D     Xc1.C     Xc1.Q      Xc1.E  \\\n",
              "0     2.134649  2.668312  2.668312  2.668312  7.471272  1.067325   3.735636   \n",
              "1     7.518396  8.019623  8.019623  5.012264  6.014717  2.004906  10.024528   \n",
              "2     3.242188  3.242188  0.540365  1.080729  4.322918  1.080729   0.000000   \n",
              "3     3.171973  3.171973  0.000000  1.057324  4.229298  1.057324   0.528662   \n",
              "4     3.797621  1.085035  1.627552  3.255104  3.797621  0.542517   2.712586   \n",
              "...        ...       ...       ...       ...       ...       ...        ...   \n",
              "1296  1.630799  0.543600  2.174399  1.087200  0.000000  2.174399   0.543600   \n",
              "1297  1.750122  0.583374  2.916871  0.583374  2.916871  2.916871   0.583374   \n",
              "1298  3.319434  1.659717  2.212956  2.766195  1.659717  4.425912   2.212956   \n",
              "1299  5.335993  2.910542  1.940361  1.455271  0.000000  2.425452   1.940361   \n",
              "1300  1.476951  3.446219  4.430852  1.476951  0.984634  3.446219   1.969268   \n",
              "\n",
              "          Xc1.G     Xc1.H     Xc1.I  ...  Xc2.lambda2  Xc2.lambda3  \\\n",
              "0      6.403948  1.067325  3.735636  ...     0.041568     0.044960   \n",
              "1     10.525755  1.503679  4.511038  ...     0.054710     0.044541   \n",
              "2      2.701823  0.540365  1.621094  ...     0.041622     0.042830   \n",
              "3      2.114649  0.528662  1.057324  ...     0.045610     0.040029   \n",
              "4      1.627552  0.000000  0.542517  ...     0.041859     0.042847   \n",
              "...         ...       ...       ...  ...          ...          ...   \n",
              "1296   3.805198  1.630799  2.174399  ...     0.047020     0.049766   \n",
              "1297   0.583374  2.333496  4.666993  ...     0.039854     0.044362   \n",
              "1298   2.766195  1.106478  1.106478  ...     0.043983     0.044149   \n",
              "1299   1.940361  0.000000  2.910542  ...     0.040217     0.051592   \n",
              "1300   1.969268  0.492317  3.938535  ...     0.053073     0.046417   \n",
              "\n",
              "      Xc2.lambda4  Xc2.lambda5  Xc2.lambda6  Xc2.lambda7  Xc2.lambda8  \\\n",
              "0        0.047837     0.044699     0.046423     0.047815     0.049161   \n",
              "1        0.050106     0.051907     0.046856     0.049057     0.045716   \n",
              "2        0.043422     0.051258     0.038896     0.045552     0.042342   \n",
              "3        0.047778     0.049541     0.046201     0.046240     0.046455   \n",
              "4        0.042750     0.044118     0.047034     0.048849     0.046695   \n",
              "...           ...          ...          ...          ...          ...   \n",
              "1296     0.044627     0.039747     0.038946     0.044839     0.050290   \n",
              "1297     0.037729     0.042268     0.042712     0.040581     0.041281   \n",
              "1298     0.042121     0.042136     0.042860     0.050377     0.053817   \n",
              "1299     0.046111     0.052075     0.058168     0.049885     0.058677   \n",
              "1300     0.053413     0.053082     0.047861     0.051401     0.049591   \n",
              "\n",
              "      Xc2.lambda9  Xc2.lambda10  Target  \n",
              "0        0.048022      0.048208       1  \n",
              "1        0.052596      0.052101       1  \n",
              "2        0.050067      0.052146       1  \n",
              "3        0.048303      0.046023       1  \n",
              "4        0.053096      0.048845       1  \n",
              "...           ...           ...     ...  \n",
              "1296     0.048245      0.049684       0  \n",
              "1297     0.040837      0.046223       0  \n",
              "1298     0.048523      0.038556       0  \n",
              "1299     0.054725      0.055597       0  \n",
              "1300     0.042489      0.055238       0  \n",
              "\n",
              "[1301 rows x 31 columns]"
            ],
            "text/html": [
              "\n",
              "  <div id=\"df-f77935f6-1eee-42ce-ab4a-e7d44b8719ae\">\n",
              "    <div class=\"colab-df-container\">\n",
              "      <div>\n",
              "<style scoped>\n",
              "    .dataframe tbody tr th:only-of-type {\n",
              "        vertical-align: middle;\n",
              "    }\n",
              "\n",
              "    .dataframe tbody tr th {\n",
              "        vertical-align: top;\n",
              "    }\n",
              "\n",
              "    .dataframe thead th {\n",
              "        text-align: right;\n",
              "    }\n",
              "</style>\n",
              "<table border=\"1\" class=\"dataframe\">\n",
              "  <thead>\n",
              "    <tr style=\"text-align: right;\">\n",
              "      <th></th>\n",
              "      <th>Xc1.A</th>\n",
              "      <th>Xc1.R</th>\n",
              "      <th>Xc1.N</th>\n",
              "      <th>Xc1.D</th>\n",
              "      <th>Xc1.C</th>\n",
              "      <th>Xc1.Q</th>\n",
              "      <th>Xc1.E</th>\n",
              "      <th>Xc1.G</th>\n",
              "      <th>Xc1.H</th>\n",
              "      <th>Xc1.I</th>\n",
              "      <th>...</th>\n",
              "      <th>Xc2.lambda2</th>\n",
              "      <th>Xc2.lambda3</th>\n",
              "      <th>Xc2.lambda4</th>\n",
              "      <th>Xc2.lambda5</th>\n",
              "      <th>Xc2.lambda6</th>\n",
              "      <th>Xc2.lambda7</th>\n",
              "      <th>Xc2.lambda8</th>\n",
              "      <th>Xc2.lambda9</th>\n",
              "      <th>Xc2.lambda10</th>\n",
              "      <th>Target</th>\n",
              "    </tr>\n",
              "  </thead>\n",
              "  <tbody>\n",
              "    <tr>\n",
              "      <th>0</th>\n",
              "      <td>2.134649</td>\n",
              "      <td>2.668312</td>\n",
              "      <td>2.668312</td>\n",
              "      <td>2.668312</td>\n",
              "      <td>7.471272</td>\n",
              "      <td>1.067325</td>\n",
              "      <td>3.735636</td>\n",
              "      <td>6.403948</td>\n",
              "      <td>1.067325</td>\n",
              "      <td>3.735636</td>\n",
              "      <td>...</td>\n",
              "      <td>0.041568</td>\n",
              "      <td>0.044960</td>\n",
              "      <td>0.047837</td>\n",
              "      <td>0.044699</td>\n",
              "      <td>0.046423</td>\n",
              "      <td>0.047815</td>\n",
              "      <td>0.049161</td>\n",
              "      <td>0.048022</td>\n",
              "      <td>0.048208</td>\n",
              "      <td>1</td>\n",
              "    </tr>\n",
              "    <tr>\n",
              "      <th>1</th>\n",
              "      <td>7.518396</td>\n",
              "      <td>8.019623</td>\n",
              "      <td>8.019623</td>\n",
              "      <td>5.012264</td>\n",
              "      <td>6.014717</td>\n",
              "      <td>2.004906</td>\n",
              "      <td>10.024528</td>\n",
              "      <td>10.525755</td>\n",
              "      <td>1.503679</td>\n",
              "      <td>4.511038</td>\n",
              "      <td>...</td>\n",
              "      <td>0.054710</td>\n",
              "      <td>0.044541</td>\n",
              "      <td>0.050106</td>\n",
              "      <td>0.051907</td>\n",
              "      <td>0.046856</td>\n",
              "      <td>0.049057</td>\n",
              "      <td>0.045716</td>\n",
              "      <td>0.052596</td>\n",
              "      <td>0.052101</td>\n",
              "      <td>1</td>\n",
              "    </tr>\n",
              "    <tr>\n",
              "      <th>2</th>\n",
              "      <td>3.242188</td>\n",
              "      <td>3.242188</td>\n",
              "      <td>0.540365</td>\n",
              "      <td>1.080729</td>\n",
              "      <td>4.322918</td>\n",
              "      <td>1.080729</td>\n",
              "      <td>0.000000</td>\n",
              "      <td>2.701823</td>\n",
              "      <td>0.540365</td>\n",
              "      <td>1.621094</td>\n",
              "      <td>...</td>\n",
              "      <td>0.041622</td>\n",
              "      <td>0.042830</td>\n",
              "      <td>0.043422</td>\n",
              "      <td>0.051258</td>\n",
              "      <td>0.038896</td>\n",
              "      <td>0.045552</td>\n",
              "      <td>0.042342</td>\n",
              "      <td>0.050067</td>\n",
              "      <td>0.052146</td>\n",
              "      <td>1</td>\n",
              "    </tr>\n",
              "    <tr>\n",
              "      <th>3</th>\n",
              "      <td>3.171973</td>\n",
              "      <td>3.171973</td>\n",
              "      <td>0.000000</td>\n",
              "      <td>1.057324</td>\n",
              "      <td>4.229298</td>\n",
              "      <td>1.057324</td>\n",
              "      <td>0.528662</td>\n",
              "      <td>2.114649</td>\n",
              "      <td>0.528662</td>\n",
              "      <td>1.057324</td>\n",
              "      <td>...</td>\n",
              "      <td>0.045610</td>\n",
              "      <td>0.040029</td>\n",
              "      <td>0.047778</td>\n",
              "      <td>0.049541</td>\n",
              "      <td>0.046201</td>\n",
              "      <td>0.046240</td>\n",
              "      <td>0.046455</td>\n",
              "      <td>0.048303</td>\n",
              "      <td>0.046023</td>\n",
              "      <td>1</td>\n",
              "    </tr>\n",
              "    <tr>\n",
              "      <th>4</th>\n",
              "      <td>3.797621</td>\n",
              "      <td>1.085035</td>\n",
              "      <td>1.627552</td>\n",
              "      <td>3.255104</td>\n",
              "      <td>3.797621</td>\n",
              "      <td>0.542517</td>\n",
              "      <td>2.712586</td>\n",
              "      <td>1.627552</td>\n",
              "      <td>0.000000</td>\n",
              "      <td>0.542517</td>\n",
              "      <td>...</td>\n",
              "      <td>0.041859</td>\n",
              "      <td>0.042847</td>\n",
              "      <td>0.042750</td>\n",
              "      <td>0.044118</td>\n",
              "      <td>0.047034</td>\n",
              "      <td>0.048849</td>\n",
              "      <td>0.046695</td>\n",
              "      <td>0.053096</td>\n",
              "      <td>0.048845</td>\n",
              "      <td>1</td>\n",
              "    </tr>\n",
              "    <tr>\n",
              "      <th>...</th>\n",
              "      <td>...</td>\n",
              "      <td>...</td>\n",
              "      <td>...</td>\n",
              "      <td>...</td>\n",
              "      <td>...</td>\n",
              "      <td>...</td>\n",
              "      <td>...</td>\n",
              "      <td>...</td>\n",
              "      <td>...</td>\n",
              "      <td>...</td>\n",
              "      <td>...</td>\n",
              "      <td>...</td>\n",
              "      <td>...</td>\n",
              "      <td>...</td>\n",
              "      <td>...</td>\n",
              "      <td>...</td>\n",
              "      <td>...</td>\n",
              "      <td>...</td>\n",
              "      <td>...</td>\n",
              "      <td>...</td>\n",
              "      <td>...</td>\n",
              "    </tr>\n",
              "    <tr>\n",
              "      <th>1296</th>\n",
              "      <td>1.630799</td>\n",
              "      <td>0.543600</td>\n",
              "      <td>2.174399</td>\n",
              "      <td>1.087200</td>\n",
              "      <td>0.000000</td>\n",
              "      <td>2.174399</td>\n",
              "      <td>0.543600</td>\n",
              "      <td>3.805198</td>\n",
              "      <td>1.630799</td>\n",
              "      <td>2.174399</td>\n",
              "      <td>...</td>\n",
              "      <td>0.047020</td>\n",
              "      <td>0.049766</td>\n",
              "      <td>0.044627</td>\n",
              "      <td>0.039747</td>\n",
              "      <td>0.038946</td>\n",
              "      <td>0.044839</td>\n",
              "      <td>0.050290</td>\n",
              "      <td>0.048245</td>\n",
              "      <td>0.049684</td>\n",
              "      <td>0</td>\n",
              "    </tr>\n",
              "    <tr>\n",
              "      <th>1297</th>\n",
              "      <td>1.750122</td>\n",
              "      <td>0.583374</td>\n",
              "      <td>2.916871</td>\n",
              "      <td>0.583374</td>\n",
              "      <td>2.916871</td>\n",
              "      <td>2.916871</td>\n",
              "      <td>0.583374</td>\n",
              "      <td>0.583374</td>\n",
              "      <td>2.333496</td>\n",
              "      <td>4.666993</td>\n",
              "      <td>...</td>\n",
              "      <td>0.039854</td>\n",
              "      <td>0.044362</td>\n",
              "      <td>0.037729</td>\n",
              "      <td>0.042268</td>\n",
              "      <td>0.042712</td>\n",
              "      <td>0.040581</td>\n",
              "      <td>0.041281</td>\n",
              "      <td>0.040837</td>\n",
              "      <td>0.046223</td>\n",
              "      <td>0</td>\n",
              "    </tr>\n",
              "    <tr>\n",
              "      <th>1298</th>\n",
              "      <td>3.319434</td>\n",
              "      <td>1.659717</td>\n",
              "      <td>2.212956</td>\n",
              "      <td>2.766195</td>\n",
              "      <td>1.659717</td>\n",
              "      <td>4.425912</td>\n",
              "      <td>2.212956</td>\n",
              "      <td>2.766195</td>\n",
              "      <td>1.106478</td>\n",
              "      <td>1.106478</td>\n",
              "      <td>...</td>\n",
              "      <td>0.043983</td>\n",
              "      <td>0.044149</td>\n",
              "      <td>0.042121</td>\n",
              "      <td>0.042136</td>\n",
              "      <td>0.042860</td>\n",
              "      <td>0.050377</td>\n",
              "      <td>0.053817</td>\n",
              "      <td>0.048523</td>\n",
              "      <td>0.038556</td>\n",
              "      <td>0</td>\n",
              "    </tr>\n",
              "    <tr>\n",
              "      <th>1299</th>\n",
              "      <td>5.335993</td>\n",
              "      <td>2.910542</td>\n",
              "      <td>1.940361</td>\n",
              "      <td>1.455271</td>\n",
              "      <td>0.000000</td>\n",
              "      <td>2.425452</td>\n",
              "      <td>1.940361</td>\n",
              "      <td>1.940361</td>\n",
              "      <td>0.000000</td>\n",
              "      <td>2.910542</td>\n",
              "      <td>...</td>\n",
              "      <td>0.040217</td>\n",
              "      <td>0.051592</td>\n",
              "      <td>0.046111</td>\n",
              "      <td>0.052075</td>\n",
              "      <td>0.058168</td>\n",
              "      <td>0.049885</td>\n",
              "      <td>0.058677</td>\n",
              "      <td>0.054725</td>\n",
              "      <td>0.055597</td>\n",
              "      <td>0</td>\n",
              "    </tr>\n",
              "    <tr>\n",
              "      <th>1300</th>\n",
              "      <td>1.476951</td>\n",
              "      <td>3.446219</td>\n",
              "      <td>4.430852</td>\n",
              "      <td>1.476951</td>\n",
              "      <td>0.984634</td>\n",
              "      <td>3.446219</td>\n",
              "      <td>1.969268</td>\n",
              "      <td>1.969268</td>\n",
              "      <td>0.492317</td>\n",
              "      <td>3.938535</td>\n",
              "      <td>...</td>\n",
              "      <td>0.053073</td>\n",
              "      <td>0.046417</td>\n",
              "      <td>0.053413</td>\n",
              "      <td>0.053082</td>\n",
              "      <td>0.047861</td>\n",
              "      <td>0.051401</td>\n",
              "      <td>0.049591</td>\n",
              "      <td>0.042489</td>\n",
              "      <td>0.055238</td>\n",
              "      <td>0</td>\n",
              "    </tr>\n",
              "  </tbody>\n",
              "</table>\n",
              "<p>1301 rows × 31 columns</p>\n",
              "</div>\n",
              "      <button class=\"colab-df-convert\" onclick=\"convertToInteractive('df-f77935f6-1eee-42ce-ab4a-e7d44b8719ae')\"\n",
              "              title=\"Convert this dataframe to an interactive table.\"\n",
              "              style=\"display:none;\">\n",
              "        \n",
              "  <svg xmlns=\"http://www.w3.org/2000/svg\" height=\"24px\"viewBox=\"0 0 24 24\"\n",
              "       width=\"24px\">\n",
              "    <path d=\"M0 0h24v24H0V0z\" fill=\"none\"/>\n",
              "    <path d=\"M18.56 5.44l.94 2.06.94-2.06 2.06-.94-2.06-.94-.94-2.06-.94 2.06-2.06.94zm-11 1L8.5 8.5l.94-2.06 2.06-.94-2.06-.94L8.5 2.5l-.94 2.06-2.06.94zm10 10l.94 2.06.94-2.06 2.06-.94-2.06-.94-.94-2.06-.94 2.06-2.06.94z\"/><path d=\"M17.41 7.96l-1.37-1.37c-.4-.4-.92-.59-1.43-.59-.52 0-1.04.2-1.43.59L10.3 9.45l-7.72 7.72c-.78.78-.78 2.05 0 2.83L4 21.41c.39.39.9.59 1.41.59.51 0 1.02-.2 1.41-.59l7.78-7.78 2.81-2.81c.8-.78.8-2.07 0-2.86zM5.41 20L4 18.59l7.72-7.72 1.47 1.35L5.41 20z\"/>\n",
              "  </svg>\n",
              "      </button>\n",
              "      \n",
              "  <style>\n",
              "    .colab-df-container {\n",
              "      display:flex;\n",
              "      flex-wrap:wrap;\n",
              "      gap: 12px;\n",
              "    }\n",
              "\n",
              "    .colab-df-convert {\n",
              "      background-color: #E8F0FE;\n",
              "      border: none;\n",
              "      border-radius: 50%;\n",
              "      cursor: pointer;\n",
              "      display: none;\n",
              "      fill: #1967D2;\n",
              "      height: 32px;\n",
              "      padding: 0 0 0 0;\n",
              "      width: 32px;\n",
              "    }\n",
              "\n",
              "    .colab-df-convert:hover {\n",
              "      background-color: #E2EBFA;\n",
              "      box-shadow: 0px 1px 2px rgba(60, 64, 67, 0.3), 0px 1px 3px 1px rgba(60, 64, 67, 0.15);\n",
              "      fill: #174EA6;\n",
              "    }\n",
              "\n",
              "    [theme=dark] .colab-df-convert {\n",
              "      background-color: #3B4455;\n",
              "      fill: #D2E3FC;\n",
              "    }\n",
              "\n",
              "    [theme=dark] .colab-df-convert:hover {\n",
              "      background-color: #434B5C;\n",
              "      box-shadow: 0px 1px 3px 1px rgba(0, 0, 0, 0.15);\n",
              "      filter: drop-shadow(0px 1px 2px rgba(0, 0, 0, 0.3));\n",
              "      fill: #FFFFFF;\n",
              "    }\n",
              "  </style>\n",
              "\n",
              "      <script>\n",
              "        const buttonEl =\n",
              "          document.querySelector('#df-f77935f6-1eee-42ce-ab4a-e7d44b8719ae button.colab-df-convert');\n",
              "        buttonEl.style.display =\n",
              "          google.colab.kernel.accessAllowed ? 'block' : 'none';\n",
              "\n",
              "        async function convertToInteractive(key) {\n",
              "          const element = document.querySelector('#df-f77935f6-1eee-42ce-ab4a-e7d44b8719ae');\n",
              "          const dataTable =\n",
              "            await google.colab.kernel.invokeFunction('convertToInteractive',\n",
              "                                                     [key], {});\n",
              "          if (!dataTable) return;\n",
              "\n",
              "          const docLinkHtml = 'Like what you see? Visit the ' +\n",
              "            '<a target=\"_blank\" href=https://colab.research.google.com/notebooks/data_table.ipynb>data table notebook</a>'\n",
              "            + ' to learn more about interactive tables.';\n",
              "          element.innerHTML = '';\n",
              "          dataTable['output_type'] = 'display_data';\n",
              "          await google.colab.output.renderOutput(dataTable, element);\n",
              "          const docLink = document.createElement('div');\n",
              "          docLink.innerHTML = docLinkHtml;\n",
              "          element.appendChild(docLink);\n",
              "        }\n",
              "      </script>\n",
              "    </div>\n",
              "  </div>\n",
              "  "
            ]
          },
          "metadata": {},
          "execution_count": 3
        }
      ],
      "source": [
        "import pandas as pd\n",
        "from pandas import read_excel\n",
        "file_name = '/content/gdrive/MyDrive/calcium/cal_PAAC.csv' \n",
        "#df = pd.read_excel(file_name, index_col=0)\n",
        "df = pd.read_csv(file_name)\n",
        "#print(df.head()) # print the first 5 rows\n",
        "df"
      ]
    },
    {
      "cell_type": "code",
      "execution_count": 4,
      "metadata": {
        "colab": {
          "base_uri": "https://localhost:8080/"
        },
        "id": "0XADL-5AMZOo",
        "outputId": "42f61dae-08c0-495e-ff1f-f9435b421f6d"
      },
      "outputs": [
        {
          "output_type": "execute_result",
          "data": {
            "text/plain": [
              "(1301, 31)"
            ]
          },
          "metadata": {},
          "execution_count": 4
        }
      ],
      "source": [
        "from datetime import datetime\n",
        "df.shape"
      ]
    },
    {
      "cell_type": "code",
      "execution_count": 5,
      "metadata": {
        "id": "SJr2mUeSMc0W"
      },
      "outputs": [],
      "source": [
        "#Split data into independent (X) and dependent(Y) columns\n",
        "\n",
        "y = df['Target'].values\n",
        "X = df.drop('Target', axis=1).values"
      ]
    },
    {
      "cell_type": "code",
      "execution_count": 6,
      "metadata": {
        "id": "Dho1ekoMMe7f"
      },
      "outputs": [],
      "source": [
        "from sklearn.model_selection import train_test_split\n",
        "#X_train, X_test, y_train, y_test = train_test_split(X, y, test_size = 0.2, random_state = 20)\n",
        "X_train, X_test, y_train, y_test = train_test_split(X, y, test_size = 0.01, random_state = 20)"
      ]
    },
    {
      "cell_type": "code",
      "execution_count": 7,
      "metadata": {
        "colab": {
          "base_uri": "https://localhost:8080/"
        },
        "id": "G-jl8_CWMmH_",
        "outputId": "74fc9767-5b05-4d07-f5b7-5e51323db099"
      },
      "outputs": [
        {
          "output_type": "stream",
          "name": "stdout",
          "text": [
            "(1287, 30)\n",
            "(14, 30)\n"
          ]
        }
      ],
      "source": [
        "print(X_train.shape)\n",
        "print(X_test.shape)"
      ]
    },
    {
      "cell_type": "code",
      "execution_count": 8,
      "metadata": {
        "id": "0Uvf1XdXMr6b"
      },
      "outputs": [],
      "source": [
        "from sklearn import datasets, metrics\n",
        "from sklearn.model_selection import train_test_split\n",
        "from sklearn.preprocessing import StandardScaler\n",
        "scaler = StandardScaler()\n",
        "X_train = scaler.fit_transform(X_train)\n",
        "X_test = scaler.transform(X_test)"
      ]
    },
    {
      "cell_type": "code",
      "execution_count": 9,
      "metadata": {
        "id": "_V01g5-9Mxqy"
      },
      "outputs": [],
      "source": [
        "import numpy as np\n",
        "import pandas as pd\n",
        "import tensorflow as tf\n",
        "from tensorflow import keras\n",
        "from tensorflow.keras import Sequential\n",
        "from tensorflow.keras.layers import Flatten, Dense, Dropout, BatchNormalization\n",
        "from tensorflow.keras.layers import Conv1D, MaxPool1D\n",
        "\n",
        "from tensorflow.keras.optimizers import Adam\n",
        "\n",
        "import  seaborn as sns\n",
        "import matplotlib.pyplot as plt\n",
        "from sklearn import datasets, metrics\n",
        "from sklearn.model_selection import train_test_split\n",
        "from sklearn.preprocessing import StandardScaler"
      ]
    },
    {
      "cell_type": "code",
      "execution_count": 10,
      "metadata": {
        "colab": {
          "base_uri": "https://localhost:8080/"
        },
        "id": "8dTkauKeM2SC",
        "outputId": "ec185b29-3c58-46e5-f292-576c2617787b"
      },
      "outputs": [
        {
          "output_type": "stream",
          "name": "stderr",
          "text": [
            "/usr/local/lib/python3.7/dist-packages/ipykernel_launcher.py:24: DeprecationWarning: KerasClassifier is deprecated, use Sci-Keras (https://github.com/adriangb/scikeras) instead. See https://www.adriangb.com/scikeras/stable/migration.html for help migrating.\n"
          ]
        }
      ],
      "source": [
        "from keras.wrappers.scikit_learn import KerasClassifier\n",
        "from sklearn.model_selection import cross_val_score\n",
        "from keras.models import Sequential\n",
        "from keras.layers import Dense\n",
        "def built_classifier():\n",
        "  model = Sequential()\n",
        "  model.add(Conv1D(filters=32, kernel_size=4, activation='relu', input_shape = (30,1)))\n",
        "  model.add(BatchNormalization())\n",
        "  model.add(Dropout(0.2))\n",
        "\n",
        "  model.add(Conv1D(filters=64, kernel_size=4, activation='relu'))\n",
        "  model.add(BatchNormalization())\n",
        "  model.add(Dropout(0.2))\n",
        "\n",
        "  model.add(Flatten())\n",
        "  model.add(Dense(64, activation='relu'))\n",
        "  model.add(Dropout(0.1))\n",
        "\n",
        "  model.add(Dense(1, activation='sigmoid'))\n",
        "  model.compile(optimizer=Adam(lr=0.001), loss = 'binary_crossentropy', metrics=['accuracy'])\n",
        "\n",
        "  return model\n",
        "\n",
        "model = KerasClassifier(build_fn = built_classifier,batch_size=100,epochs=50)\n",
        "accuracies = cross_val_score(estimator=model,X=X_train,y=y_train,cv=10,n_jobs=-1)"
      ]
    },
    {
      "cell_type": "code",
      "execution_count": 11,
      "metadata": {
        "colab": {
          "base_uri": "https://localhost:8080/"
        },
        "id": "zSLROotSNKyC",
        "outputId": "eb09eea3-50b8-48db-a43c-8b34f058bcd0"
      },
      "outputs": [
        {
          "output_type": "execute_result",
          "data": {
            "text/plain": [
              "array([0.96899223, 1.        , 0.96899223, 0.99224806, 0.97674417,\n",
              "       0.96899223, 0.97674417, 0.984375  , 0.9921875 , 0.9921875 ])"
            ]
          },
          "metadata": {},
          "execution_count": 11
        }
      ],
      "source": [
        "accuracies"
      ]
    },
    {
      "cell_type": "code",
      "execution_count": 12,
      "metadata": {
        "id": "XY2WYgfrNOPV"
      },
      "outputs": [],
      "source": [
        "mean = accuracies.mean()"
      ]
    },
    {
      "cell_type": "code",
      "execution_count": 13,
      "metadata": {
        "colab": {
          "base_uri": "https://localhost:8080/"
        },
        "id": "2LFiQuLkNRpF",
        "outputId": "ffb88258-9479-4595-95fb-e884fca1f5cc"
      },
      "outputs": [
        {
          "output_type": "execute_result",
          "data": {
            "text/plain": [
              "0.9821463108062745"
            ]
          },
          "metadata": {},
          "execution_count": 13
        }
      ],
      "source": [
        "mean"
      ]
    },
    {
      "cell_type": "code",
      "execution_count": 14,
      "metadata": {
        "colab": {
          "base_uri": "https://localhost:8080/"
        },
        "id": "1BlJK7NkNd9q",
        "outputId": "e3b889c0-ade6-418a-82d2-7266e3a203f0"
      },
      "outputs": [
        {
          "output_type": "stream",
          "name": "stdout",
          "text": [
            "[[1050    8]\n",
            " [  19  210]]\n",
            "97.9020979020979\n"
          ]
        }
      ],
      "source": [
        "### Now making Confusion matrix\n",
        "from sklearn.model_selection import cross_val_predict\n",
        "from sklearn.metrics import confusion_matrix,accuracy_score\n",
        "y_pred1 = cross_val_predict(model,X_train, y_train, cv=10,n_jobs=-1)\n",
        "cmann1=confusion_matrix(y_train, y_pred1)\n",
        "print(cmann1)\n",
        "accuracy1 = (cmann1[0][0]+cmann1[1][1])/(cmann1[0][1] + cmann1[1][0] +cmann1[0][0] +cmann1[1][1]) \n",
        "print(accuracy1*100)"
      ]
    },
    {
      "cell_type": "code",
      "execution_count": 15,
      "metadata": {
        "colab": {
          "base_uri": "https://localhost:8080/"
        },
        "id": "-U1K7i3gNorT",
        "outputId": "8d27f932-25b2-4da3-a58a-77a22c1671aa"
      },
      "outputs": [
        {
          "output_type": "stream",
          "name": "stdout",
          "text": [
            "AUC =  0.954734565506311\n"
          ]
        }
      ],
      "source": [
        "from sklearn.metrics import roc_auc_score\n",
        "print(\"AUC = \",roc_auc_score(y_train,y_pred1))"
      ]
    },
    {
      "cell_type": "code",
      "execution_count": 16,
      "metadata": {
        "colab": {
          "base_uri": "https://localhost:8080/"
        },
        "id": "34wnt3QONsam",
        "outputId": "8b7fc7ed-adcf-40ff-d748-ecba5f92b8a4"
      },
      "outputs": [
        {
          "output_type": "execute_result",
          "data": {
            "text/plain": [
              "0.9273238690484517"
            ]
          },
          "metadata": {},
          "execution_count": 16
        }
      ],
      "source": [
        "from sklearn.metrics import matthews_corrcoef,confusion_matrix\n",
        "matthews_corrcoef(y_train,y_pred1)"
      ]
    },
    {
      "cell_type": "code",
      "execution_count": 17,
      "metadata": {
        "colab": {
          "base_uri": "https://localhost:8080/"
        },
        "id": "jPbljwuUNu9M",
        "outputId": "9ba5431e-1311-42b2-ee9a-3a8e272efc43"
      },
      "outputs": [
        {
          "output_type": "stream",
          "name": "stdout",
          "text": [
            "True Positives: 1050\n",
            "True Negatives: 210\n",
            "False Positives: 8\n",
            "False Negatives: 19\n"
          ]
        }
      ],
      "source": [
        "TP = cmann1[0][0]\n",
        "TN = cmann1[1][1]\n",
        "FP = cmann1[0][1]\n",
        "FN = cmann1[1][0]\n",
        "print('True Positives:', TP)\n",
        "print('True Negatives:', TN)\n",
        "print('False Positives:', FP)\n",
        "print('False Negatives:', FN)"
      ]
    },
    {
      "cell_type": "code",
      "execution_count": 18,
      "metadata": {
        "colab": {
          "base_uri": "https://localhost:8080/"
        },
        "id": "vUxb8J0GNy3P",
        "outputId": "a487acaa-f2a5-4ed2-e7b5-84c76ee19086"
      },
      "outputs": [
        {
          "output_type": "execute_result",
          "data": {
            "text/plain": [
              "0.9822263797942001"
            ]
          },
          "metadata": {},
          "execution_count": 18
        }
      ],
      "source": [
        "sensitivity=(TP/(TP+FN))\n",
        "sensitivity"
      ]
    },
    {
      "cell_type": "code",
      "execution_count": 19,
      "metadata": {
        "colab": {
          "base_uri": "https://localhost:8080/"
        },
        "id": "6lDRCQaCN1kF",
        "outputId": "8bbd9c12-7aab-4480-b8a8-8939e6b3261b"
      },
      "outputs": [
        {
          "output_type": "execute_result",
          "data": {
            "text/plain": [
              "0.963302752293578"
            ]
          },
          "metadata": {},
          "execution_count": 19
        }
      ],
      "source": [
        "specificity = (TN/(TN+FP))\n",
        "specificity"
      ]
    },
    {
      "cell_type": "code",
      "execution_count": 20,
      "metadata": {
        "colab": {
          "base_uri": "https://localhost:8080/"
        },
        "id": "gUSWfnA1N3qz",
        "outputId": "4e3b7701-d581-446f-badb-2af073732607"
      },
      "outputs": [
        {
          "output_type": "stream",
          "name": "stdout",
          "text": [
            "0.9924385633270322\n",
            "0.9822263797942001\n"
          ]
        }
      ],
      "source": [
        "precision = (TP/(TP+FP))\n",
        "recall = (TP/(TP+FN))\n",
        "print(precision)\n",
        "print(recall)"
      ]
    },
    {
      "cell_type": "code",
      "execution_count": 21,
      "metadata": {
        "colab": {
          "base_uri": "https://localhost:8080/"
        },
        "id": "7QWUzcgSN8-m",
        "outputId": "b726628b-00ba-48de-d801-cac502df87e8"
      },
      "outputs": [
        {
          "output_type": "execute_result",
          "data": {
            "text/plain": [
              "0.9873060648801129"
            ]
          },
          "metadata": {},
          "execution_count": 21
        }
      ],
      "source": [
        "f1 = (2*(precision*recall))/(precision+recall)\n",
        "f1"
      ]
    },
    {
      "cell_type": "code",
      "execution_count": null,
      "metadata": {
        "id": "8hU01TruN_yf"
      },
      "outputs": [],
      "source": [
        ""
      ]
    }
  ],
  "metadata": {
    "accelerator": "GPU",
    "colab": {
      "name": "CNN+3rd calcium+CNN+AAC descriptor+10 fold Cross Validation.ipynb",
      "provenance": [],
      "include_colab_link": true
    },
    "kernelspec": {
      "display_name": "Python 3",
      "name": "python3"
    },
    "language_info": {
      "name": "python"
    }
  },
  "nbformat": 4,
  "nbformat_minor": 0
}