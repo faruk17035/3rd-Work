{
  "nbformat": 4,
  "nbformat_minor": 0,
  "metadata": {
    "colab": {
      "name": "3rd calcium+CNN+AAC descriptor+10 fold Cross Validation.ipynb",
      "provenance": [],
      "authorship_tag": "ABX9TyOH+vQvXzY9Qz3tuKcN4F1a",
      "include_colab_link": true
    },
    "kernelspec": {
      "name": "python3",
      "display_name": "Python 3"
    },
    "language_info": {
      "name": "python"
    },
    "accelerator": "GPU"
  },
  "cells": [
    {
      "cell_type": "markdown",
      "metadata": {
        "id": "view-in-github",
        "colab_type": "text"
      },
      "source": [
        "<a href=\"https://colab.research.google.com/github/faruk17035/3rd-Work/blob/main/3rd_calcium%2BCNN%2BAAC_descriptor%2B10_fold_Cross_Validation.ipynb\" target=\"_parent\"><img src=\"https://colab.research.google.com/assets/colab-badge.svg\" alt=\"Open In Colab\"/></a>"
      ]
    },
    {
      "cell_type": "code",
      "execution_count": 1,
      "metadata": {
        "id": "uZ_yl9WCL0m7"
      },
      "outputs": [],
      "source": [
        "import numpy as np\n",
        "import matplotlib.pyplot as plt\n",
        "import pandas as pd"
      ]
    },
    {
      "cell_type": "code",
      "source": [
        "from google.colab import drive \n",
        "drive.mount('/content/gdrive')"
      ],
      "metadata": {
        "colab": {
          "base_uri": "https://localhost:8080/"
        },
        "id": "k2axU4UIMG03",
        "outputId": "4aca320e-aebe-41c4-a72f-e0c5c57bef07"
      },
      "execution_count": 2,
      "outputs": [
        {
          "output_type": "stream",
          "name": "stdout",
          "text": [
            "Mounted at /content/gdrive\n"
          ]
        }
      ]
    },
    {
      "cell_type": "code",
      "source": [
        "import pandas as pd\n",
        "from pandas import read_excel\n",
        "file_name = '/content/gdrive/MyDrive/calcium/cal_AAC.csv' \n",
        "#df = pd.read_excel(file_name, index_col=0)\n",
        "df = pd.read_csv(file_name)\n",
        "#print(df.head()) # print the first 5 rows\n",
        "df"
      ],
      "metadata": {
        "colab": {
          "base_uri": "https://localhost:8080/",
          "height": 488
        },
        "id": "_PyChgRAMRy2",
        "outputId": "f654fdbf-2318-492d-de3d-ed977145f91d"
      },
      "execution_count": 3,
      "outputs": [
        {
          "output_type": "execute_result",
          "data": {
            "text/plain": [
              "            A1        A2        A3        A4        A5        A6        A7  \\\n",
              "0     0.034483  0.120690  0.043103  0.060345  0.051724  0.103448  0.017241   \n",
              "1     0.062762  0.050209  0.041841  0.083682  0.037657  0.087866  0.012552   \n",
              "2     0.084507  0.112676  0.028169  0.000000  0.000000  0.070423  0.014085   \n",
              "3     0.085714  0.114286  0.028571  0.014286  0.000000  0.057143  0.014286   \n",
              "4     0.085366  0.085366  0.073171  0.060976  0.109756  0.036585  0.000000   \n",
              "...        ...       ...       ...       ...       ...       ...       ...   \n",
              "1296  0.037500  0.000000  0.025000  0.012500  0.100000  0.087500  0.037500   \n",
              "1297  0.036585  0.060976  0.012195  0.012195  0.097561  0.012195  0.048780   \n",
              "1298  0.072289  0.036145  0.060241  0.048193  0.024096  0.060241  0.024096   \n",
              "1299  0.141026  0.000000  0.038462  0.051282  0.025641  0.051282  0.000000   \n",
              "1300  0.035294  0.023529  0.035294  0.047059  0.035294  0.047059  0.011765   \n",
              "\n",
              "            A8        A9       A10  ...       A12       A13       A14  \\\n",
              "0     0.060345  0.094828  0.051724  ...  0.043103  0.025862  0.017241   \n",
              "1     0.037657  0.062762  0.071130  ...  0.066946  0.025105  0.016736   \n",
              "2     0.042254  0.098592  0.098592  ...  0.014085  0.014085  0.028169   \n",
              "3     0.028571  0.100000  0.128571  ...  0.000000  0.014286  0.028571   \n",
              "4     0.012195  0.073171  0.109756  ...  0.036585  0.036585  0.012195   \n",
              "...        ...       ...       ...  ...       ...       ...       ...   \n",
              "1296  0.050000  0.050000  0.187500  ...  0.050000  0.037500  0.050000   \n",
              "1297  0.097561  0.036585  0.158537  ...  0.060976  0.048780  0.060976   \n",
              "1298  0.024096  0.048193  0.096386  ...  0.048193  0.072289  0.096386   \n",
              "1299  0.076923  0.025641  0.089744  ...  0.051282  0.038462  0.064103   \n",
              "1300  0.094118  0.035294  0.094118  ...  0.105882  0.035294  0.082353   \n",
              "\n",
              "           A15       A16       A17       A18       A19       A20  Target  \n",
              "0     0.043103  0.060345  0.060345  0.068966  0.000000  0.017241       1  \n",
              "1     0.066946  0.083682  0.054393  0.058577  0.008368  0.041841       1  \n",
              "2     0.084507  0.098592  0.112676  0.042254  0.000000  0.014085       1  \n",
              "3     0.085714  0.071429  0.114286  0.057143  0.000000  0.028571       1  \n",
              "4     0.024390  0.060976  0.048780  0.036585  0.024390  0.012195       1  \n",
              "...        ...       ...       ...       ...       ...       ...     ...  \n",
              "1296  0.012500  0.050000  0.062500  0.087500  0.037500  0.012500       0  \n",
              "1297  0.012195  0.036585  0.048780  0.048780  0.012195  0.085366       0  \n",
              "1298  0.036145  0.072289  0.096386  0.012048  0.000000  0.036145       0  \n",
              "1299  0.076923  0.115385  0.012821  0.064103  0.012821  0.012821       0  \n",
              "1300  0.082353  0.058824  0.058824  0.011765  0.023529  0.070588       0  \n",
              "\n",
              "[1301 rows x 21 columns]"
            ],
            "text/html": [
              "\n",
              "  <div id=\"df-c63ddd84-8c17-4629-9ab2-8a6266a89f3d\">\n",
              "    <div class=\"colab-df-container\">\n",
              "      <div>\n",
              "<style scoped>\n",
              "    .dataframe tbody tr th:only-of-type {\n",
              "        vertical-align: middle;\n",
              "    }\n",
              "\n",
              "    .dataframe tbody tr th {\n",
              "        vertical-align: top;\n",
              "    }\n",
              "\n",
              "    .dataframe thead th {\n",
              "        text-align: right;\n",
              "    }\n",
              "</style>\n",
              "<table border=\"1\" class=\"dataframe\">\n",
              "  <thead>\n",
              "    <tr style=\"text-align: right;\">\n",
              "      <th></th>\n",
              "      <th>A1</th>\n",
              "      <th>A2</th>\n",
              "      <th>A3</th>\n",
              "      <th>A4</th>\n",
              "      <th>A5</th>\n",
              "      <th>A6</th>\n",
              "      <th>A7</th>\n",
              "      <th>A8</th>\n",
              "      <th>A9</th>\n",
              "      <th>A10</th>\n",
              "      <th>...</th>\n",
              "      <th>A12</th>\n",
              "      <th>A13</th>\n",
              "      <th>A14</th>\n",
              "      <th>A15</th>\n",
              "      <th>A16</th>\n",
              "      <th>A17</th>\n",
              "      <th>A18</th>\n",
              "      <th>A19</th>\n",
              "      <th>A20</th>\n",
              "      <th>Target</th>\n",
              "    </tr>\n",
              "  </thead>\n",
              "  <tbody>\n",
              "    <tr>\n",
              "      <th>0</th>\n",
              "      <td>0.034483</td>\n",
              "      <td>0.120690</td>\n",
              "      <td>0.043103</td>\n",
              "      <td>0.060345</td>\n",
              "      <td>0.051724</td>\n",
              "      <td>0.103448</td>\n",
              "      <td>0.017241</td>\n",
              "      <td>0.060345</td>\n",
              "      <td>0.094828</td>\n",
              "      <td>0.051724</td>\n",
              "      <td>...</td>\n",
              "      <td>0.043103</td>\n",
              "      <td>0.025862</td>\n",
              "      <td>0.017241</td>\n",
              "      <td>0.043103</td>\n",
              "      <td>0.060345</td>\n",
              "      <td>0.060345</td>\n",
              "      <td>0.068966</td>\n",
              "      <td>0.000000</td>\n",
              "      <td>0.017241</td>\n",
              "      <td>1</td>\n",
              "    </tr>\n",
              "    <tr>\n",
              "      <th>1</th>\n",
              "      <td>0.062762</td>\n",
              "      <td>0.050209</td>\n",
              "      <td>0.041841</td>\n",
              "      <td>0.083682</td>\n",
              "      <td>0.037657</td>\n",
              "      <td>0.087866</td>\n",
              "      <td>0.012552</td>\n",
              "      <td>0.037657</td>\n",
              "      <td>0.062762</td>\n",
              "      <td>0.071130</td>\n",
              "      <td>...</td>\n",
              "      <td>0.066946</td>\n",
              "      <td>0.025105</td>\n",
              "      <td>0.016736</td>\n",
              "      <td>0.066946</td>\n",
              "      <td>0.083682</td>\n",
              "      <td>0.054393</td>\n",
              "      <td>0.058577</td>\n",
              "      <td>0.008368</td>\n",
              "      <td>0.041841</td>\n",
              "      <td>1</td>\n",
              "    </tr>\n",
              "    <tr>\n",
              "      <th>2</th>\n",
              "      <td>0.084507</td>\n",
              "      <td>0.112676</td>\n",
              "      <td>0.028169</td>\n",
              "      <td>0.000000</td>\n",
              "      <td>0.000000</td>\n",
              "      <td>0.070423</td>\n",
              "      <td>0.014085</td>\n",
              "      <td>0.042254</td>\n",
              "      <td>0.098592</td>\n",
              "      <td>0.098592</td>\n",
              "      <td>...</td>\n",
              "      <td>0.014085</td>\n",
              "      <td>0.014085</td>\n",
              "      <td>0.028169</td>\n",
              "      <td>0.084507</td>\n",
              "      <td>0.098592</td>\n",
              "      <td>0.112676</td>\n",
              "      <td>0.042254</td>\n",
              "      <td>0.000000</td>\n",
              "      <td>0.014085</td>\n",
              "      <td>1</td>\n",
              "    </tr>\n",
              "    <tr>\n",
              "      <th>3</th>\n",
              "      <td>0.085714</td>\n",
              "      <td>0.114286</td>\n",
              "      <td>0.028571</td>\n",
              "      <td>0.014286</td>\n",
              "      <td>0.000000</td>\n",
              "      <td>0.057143</td>\n",
              "      <td>0.014286</td>\n",
              "      <td>0.028571</td>\n",
              "      <td>0.100000</td>\n",
              "      <td>0.128571</td>\n",
              "      <td>...</td>\n",
              "      <td>0.000000</td>\n",
              "      <td>0.014286</td>\n",
              "      <td>0.028571</td>\n",
              "      <td>0.085714</td>\n",
              "      <td>0.071429</td>\n",
              "      <td>0.114286</td>\n",
              "      <td>0.057143</td>\n",
              "      <td>0.000000</td>\n",
              "      <td>0.028571</td>\n",
              "      <td>1</td>\n",
              "    </tr>\n",
              "    <tr>\n",
              "      <th>4</th>\n",
              "      <td>0.085366</td>\n",
              "      <td>0.085366</td>\n",
              "      <td>0.073171</td>\n",
              "      <td>0.060976</td>\n",
              "      <td>0.109756</td>\n",
              "      <td>0.036585</td>\n",
              "      <td>0.000000</td>\n",
              "      <td>0.012195</td>\n",
              "      <td>0.073171</td>\n",
              "      <td>0.109756</td>\n",
              "      <td>...</td>\n",
              "      <td>0.036585</td>\n",
              "      <td>0.036585</td>\n",
              "      <td>0.012195</td>\n",
              "      <td>0.024390</td>\n",
              "      <td>0.060976</td>\n",
              "      <td>0.048780</td>\n",
              "      <td>0.036585</td>\n",
              "      <td>0.024390</td>\n",
              "      <td>0.012195</td>\n",
              "      <td>1</td>\n",
              "    </tr>\n",
              "    <tr>\n",
              "      <th>...</th>\n",
              "      <td>...</td>\n",
              "      <td>...</td>\n",
              "      <td>...</td>\n",
              "      <td>...</td>\n",
              "      <td>...</td>\n",
              "      <td>...</td>\n",
              "      <td>...</td>\n",
              "      <td>...</td>\n",
              "      <td>...</td>\n",
              "      <td>...</td>\n",
              "      <td>...</td>\n",
              "      <td>...</td>\n",
              "      <td>...</td>\n",
              "      <td>...</td>\n",
              "      <td>...</td>\n",
              "      <td>...</td>\n",
              "      <td>...</td>\n",
              "      <td>...</td>\n",
              "      <td>...</td>\n",
              "      <td>...</td>\n",
              "      <td>...</td>\n",
              "    </tr>\n",
              "    <tr>\n",
              "      <th>1296</th>\n",
              "      <td>0.037500</td>\n",
              "      <td>0.000000</td>\n",
              "      <td>0.025000</td>\n",
              "      <td>0.012500</td>\n",
              "      <td>0.100000</td>\n",
              "      <td>0.087500</td>\n",
              "      <td>0.037500</td>\n",
              "      <td>0.050000</td>\n",
              "      <td>0.050000</td>\n",
              "      <td>0.187500</td>\n",
              "      <td>...</td>\n",
              "      <td>0.050000</td>\n",
              "      <td>0.037500</td>\n",
              "      <td>0.050000</td>\n",
              "      <td>0.012500</td>\n",
              "      <td>0.050000</td>\n",
              "      <td>0.062500</td>\n",
              "      <td>0.087500</td>\n",
              "      <td>0.037500</td>\n",
              "      <td>0.012500</td>\n",
              "      <td>0</td>\n",
              "    </tr>\n",
              "    <tr>\n",
              "      <th>1297</th>\n",
              "      <td>0.036585</td>\n",
              "      <td>0.060976</td>\n",
              "      <td>0.012195</td>\n",
              "      <td>0.012195</td>\n",
              "      <td>0.097561</td>\n",
              "      <td>0.012195</td>\n",
              "      <td>0.048780</td>\n",
              "      <td>0.097561</td>\n",
              "      <td>0.036585</td>\n",
              "      <td>0.158537</td>\n",
              "      <td>...</td>\n",
              "      <td>0.060976</td>\n",
              "      <td>0.048780</td>\n",
              "      <td>0.060976</td>\n",
              "      <td>0.012195</td>\n",
              "      <td>0.036585</td>\n",
              "      <td>0.048780</td>\n",
              "      <td>0.048780</td>\n",
              "      <td>0.012195</td>\n",
              "      <td>0.085366</td>\n",
              "      <td>0</td>\n",
              "    </tr>\n",
              "    <tr>\n",
              "      <th>1298</th>\n",
              "      <td>0.072289</td>\n",
              "      <td>0.036145</td>\n",
              "      <td>0.060241</td>\n",
              "      <td>0.048193</td>\n",
              "      <td>0.024096</td>\n",
              "      <td>0.060241</td>\n",
              "      <td>0.024096</td>\n",
              "      <td>0.024096</td>\n",
              "      <td>0.048193</td>\n",
              "      <td>0.096386</td>\n",
              "      <td>...</td>\n",
              "      <td>0.048193</td>\n",
              "      <td>0.072289</td>\n",
              "      <td>0.096386</td>\n",
              "      <td>0.036145</td>\n",
              "      <td>0.072289</td>\n",
              "      <td>0.096386</td>\n",
              "      <td>0.012048</td>\n",
              "      <td>0.000000</td>\n",
              "      <td>0.036145</td>\n",
              "      <td>0</td>\n",
              "    </tr>\n",
              "    <tr>\n",
              "      <th>1299</th>\n",
              "      <td>0.141026</td>\n",
              "      <td>0.000000</td>\n",
              "      <td>0.038462</td>\n",
              "      <td>0.051282</td>\n",
              "      <td>0.025641</td>\n",
              "      <td>0.051282</td>\n",
              "      <td>0.000000</td>\n",
              "      <td>0.076923</td>\n",
              "      <td>0.025641</td>\n",
              "      <td>0.089744</td>\n",
              "      <td>...</td>\n",
              "      <td>0.051282</td>\n",
              "      <td>0.038462</td>\n",
              "      <td>0.064103</td>\n",
              "      <td>0.076923</td>\n",
              "      <td>0.115385</td>\n",
              "      <td>0.012821</td>\n",
              "      <td>0.064103</td>\n",
              "      <td>0.012821</td>\n",
              "      <td>0.012821</td>\n",
              "      <td>0</td>\n",
              "    </tr>\n",
              "    <tr>\n",
              "      <th>1300</th>\n",
              "      <td>0.035294</td>\n",
              "      <td>0.023529</td>\n",
              "      <td>0.035294</td>\n",
              "      <td>0.047059</td>\n",
              "      <td>0.035294</td>\n",
              "      <td>0.047059</td>\n",
              "      <td>0.011765</td>\n",
              "      <td>0.094118</td>\n",
              "      <td>0.035294</td>\n",
              "      <td>0.094118</td>\n",
              "      <td>...</td>\n",
              "      <td>0.105882</td>\n",
              "      <td>0.035294</td>\n",
              "      <td>0.082353</td>\n",
              "      <td>0.082353</td>\n",
              "      <td>0.058824</td>\n",
              "      <td>0.058824</td>\n",
              "      <td>0.011765</td>\n",
              "      <td>0.023529</td>\n",
              "      <td>0.070588</td>\n",
              "      <td>0</td>\n",
              "    </tr>\n",
              "  </tbody>\n",
              "</table>\n",
              "<p>1301 rows × 21 columns</p>\n",
              "</div>\n",
              "      <button class=\"colab-df-convert\" onclick=\"convertToInteractive('df-c63ddd84-8c17-4629-9ab2-8a6266a89f3d')\"\n",
              "              title=\"Convert this dataframe to an interactive table.\"\n",
              "              style=\"display:none;\">\n",
              "        \n",
              "  <svg xmlns=\"http://www.w3.org/2000/svg\" height=\"24px\"viewBox=\"0 0 24 24\"\n",
              "       width=\"24px\">\n",
              "    <path d=\"M0 0h24v24H0V0z\" fill=\"none\"/>\n",
              "    <path d=\"M18.56 5.44l.94 2.06.94-2.06 2.06-.94-2.06-.94-.94-2.06-.94 2.06-2.06.94zm-11 1L8.5 8.5l.94-2.06 2.06-.94-2.06-.94L8.5 2.5l-.94 2.06-2.06.94zm10 10l.94 2.06.94-2.06 2.06-.94-2.06-.94-.94-2.06-.94 2.06-2.06.94z\"/><path d=\"M17.41 7.96l-1.37-1.37c-.4-.4-.92-.59-1.43-.59-.52 0-1.04.2-1.43.59L10.3 9.45l-7.72 7.72c-.78.78-.78 2.05 0 2.83L4 21.41c.39.39.9.59 1.41.59.51 0 1.02-.2 1.41-.59l7.78-7.78 2.81-2.81c.8-.78.8-2.07 0-2.86zM5.41 20L4 18.59l7.72-7.72 1.47 1.35L5.41 20z\"/>\n",
              "  </svg>\n",
              "      </button>\n",
              "      \n",
              "  <style>\n",
              "    .colab-df-container {\n",
              "      display:flex;\n",
              "      flex-wrap:wrap;\n",
              "      gap: 12px;\n",
              "    }\n",
              "\n",
              "    .colab-df-convert {\n",
              "      background-color: #E8F0FE;\n",
              "      border: none;\n",
              "      border-radius: 50%;\n",
              "      cursor: pointer;\n",
              "      display: none;\n",
              "      fill: #1967D2;\n",
              "      height: 32px;\n",
              "      padding: 0 0 0 0;\n",
              "      width: 32px;\n",
              "    }\n",
              "\n",
              "    .colab-df-convert:hover {\n",
              "      background-color: #E2EBFA;\n",
              "      box-shadow: 0px 1px 2px rgba(60, 64, 67, 0.3), 0px 1px 3px 1px rgba(60, 64, 67, 0.15);\n",
              "      fill: #174EA6;\n",
              "    }\n",
              "\n",
              "    [theme=dark] .colab-df-convert {\n",
              "      background-color: #3B4455;\n",
              "      fill: #D2E3FC;\n",
              "    }\n",
              "\n",
              "    [theme=dark] .colab-df-convert:hover {\n",
              "      background-color: #434B5C;\n",
              "      box-shadow: 0px 1px 3px 1px rgba(0, 0, 0, 0.15);\n",
              "      filter: drop-shadow(0px 1px 2px rgba(0, 0, 0, 0.3));\n",
              "      fill: #FFFFFF;\n",
              "    }\n",
              "  </style>\n",
              "\n",
              "      <script>\n",
              "        const buttonEl =\n",
              "          document.querySelector('#df-c63ddd84-8c17-4629-9ab2-8a6266a89f3d button.colab-df-convert');\n",
              "        buttonEl.style.display =\n",
              "          google.colab.kernel.accessAllowed ? 'block' : 'none';\n",
              "\n",
              "        async function convertToInteractive(key) {\n",
              "          const element = document.querySelector('#df-c63ddd84-8c17-4629-9ab2-8a6266a89f3d');\n",
              "          const dataTable =\n",
              "            await google.colab.kernel.invokeFunction('convertToInteractive',\n",
              "                                                     [key], {});\n",
              "          if (!dataTable) return;\n",
              "\n",
              "          const docLinkHtml = 'Like what you see? Visit the ' +\n",
              "            '<a target=\"_blank\" href=https://colab.research.google.com/notebooks/data_table.ipynb>data table notebook</a>'\n",
              "            + ' to learn more about interactive tables.';\n",
              "          element.innerHTML = '';\n",
              "          dataTable['output_type'] = 'display_data';\n",
              "          await google.colab.output.renderOutput(dataTable, element);\n",
              "          const docLink = document.createElement('div');\n",
              "          docLink.innerHTML = docLinkHtml;\n",
              "          element.appendChild(docLink);\n",
              "        }\n",
              "      </script>\n",
              "    </div>\n",
              "  </div>\n",
              "  "
            ]
          },
          "metadata": {},
          "execution_count": 3
        }
      ]
    },
    {
      "cell_type": "code",
      "source": [
        "from datetime import datetime\n",
        "df.shape"
      ],
      "metadata": {
        "colab": {
          "base_uri": "https://localhost:8080/"
        },
        "id": "0XADL-5AMZOo",
        "outputId": "de8d4349-5410-4ec5-bfa4-6d90fcb1b65c"
      },
      "execution_count": 4,
      "outputs": [
        {
          "output_type": "execute_result",
          "data": {
            "text/plain": [
              "(1301, 21)"
            ]
          },
          "metadata": {},
          "execution_count": 4
        }
      ]
    },
    {
      "cell_type": "code",
      "source": [
        "#Split data into independent (X) and dependent(Y) columns\n",
        "\n",
        "y = df['Target'].values\n",
        "X = df.drop('Target', axis=1).values"
      ],
      "metadata": {
        "id": "SJr2mUeSMc0W"
      },
      "execution_count": 5,
      "outputs": []
    },
    {
      "cell_type": "code",
      "source": [
        "from sklearn.model_selection import train_test_split\n",
        "#X_train, X_test, y_train, y_test = train_test_split(X, y, test_size = 0.2, random_state = 20)\n",
        "X_train, X_test, y_train, y_test = train_test_split(X, y, test_size = 0.20, random_state = 100)"
      ],
      "metadata": {
        "id": "Dho1ekoMMe7f"
      },
      "execution_count": 7,
      "outputs": []
    },
    {
      "cell_type": "code",
      "source": [
        "print(X_train.shape)\n",
        "print(X_test.shape)"
      ],
      "metadata": {
        "colab": {
          "base_uri": "https://localhost:8080/"
        },
        "id": "G-jl8_CWMmH_",
        "outputId": "7fd650af-edc7-4f51-b485-2aa55067fc0f"
      },
      "execution_count": 8,
      "outputs": [
        {
          "output_type": "stream",
          "name": "stdout",
          "text": [
            "(1040, 20)\n",
            "(261, 20)\n"
          ]
        }
      ]
    },
    {
      "cell_type": "code",
      "source": [
        "from sklearn import datasets, metrics\n",
        "from sklearn.model_selection import train_test_split\n",
        "from sklearn.preprocessing import StandardScaler\n",
        "scaler = StandardScaler()\n",
        "X_train = scaler.fit_transform(X_train)\n",
        "X_test = scaler.transform(X_test)"
      ],
      "metadata": {
        "id": "0Uvf1XdXMr6b"
      },
      "execution_count": 9,
      "outputs": []
    },
    {
      "cell_type": "code",
      "source": [
        "import numpy as np\n",
        "import pandas as pd\n",
        "import tensorflow as tf\n",
        "from tensorflow import keras\n",
        "from tensorflow.keras import Sequential\n",
        "from tensorflow.keras.layers import Flatten, Dense, Dropout, BatchNormalization\n",
        "from tensorflow.keras.layers import Conv1D, MaxPool1D\n",
        "\n",
        "from tensorflow.keras.optimizers import Adam\n",
        "\n",
        "import  seaborn as sns\n",
        "import matplotlib.pyplot as plt\n",
        "from sklearn import datasets, metrics\n",
        "from sklearn.model_selection import train_test_split\n",
        "from sklearn.preprocessing import StandardScaler"
      ],
      "metadata": {
        "id": "_V01g5-9Mxqy"
      },
      "execution_count": 10,
      "outputs": []
    },
    {
      "cell_type": "code",
      "source": [
        "from keras.wrappers.scikit_learn import KerasClassifier\n",
        "from sklearn.model_selection import cross_val_score\n",
        "from keras.models import Sequential\n",
        "from keras.layers import Dense\n",
        "def built_classifier():\n",
        "  model = Sequential()\n",
        "  model.add(Conv1D(filters=32, kernel_size=4, activation='relu', input_shape = (20,1)))\n",
        "  model.add(BatchNormalization())\n",
        "  model.add(Dropout(0.2))\n",
        "\n",
        "  model.add(Conv1D(filters=64, kernel_size=4, activation='relu'))\n",
        "  model.add(BatchNormalization())\n",
        "  model.add(Dropout(0.5))\n",
        "\n",
        "  model.add(Flatten())\n",
        "  model.add(Dense(64, activation='relu'))\n",
        "  model.add(Dropout(0.5))\n",
        "\n",
        "  model.add(Dense(1, activation='sigmoid'))\n",
        "  model.compile(optimizer=Adam(lr=0.0001), loss = 'binary_crossentropy', metrics=['accuracy'])\n",
        "\n",
        "  return model\n",
        "\n",
        "model = KerasClassifier(build_fn = built_classifier,batch_size=100,epochs=50)\n",
        "accuracies = cross_val_score(estimator=model,X=X_train,y=y_train,cv=5,n_jobs=-1)"
      ],
      "metadata": {
        "colab": {
          "base_uri": "https://localhost:8080/"
        },
        "id": "8dTkauKeM2SC",
        "outputId": "623bcae4-6d84-423b-eac7-66aa87a0b83e"
      },
      "execution_count": 11,
      "outputs": [
        {
          "output_type": "stream",
          "name": "stderr",
          "text": [
            "/usr/local/lib/python3.7/dist-packages/ipykernel_launcher.py:24: DeprecationWarning: KerasClassifier is deprecated, use Sci-Keras (https://github.com/adriangb/scikeras) instead. See https://www.adriangb.com/scikeras/stable/migration.html for help migrating.\n"
          ]
        }
      ]
    },
    {
      "cell_type": "code",
      "source": [
        "accuracies"
      ],
      "metadata": {
        "colab": {
          "base_uri": "https://localhost:8080/"
        },
        "id": "zSLROotSNKyC",
        "outputId": "90b14ae9-6f59-4968-afc2-a144100ebef5"
      },
      "execution_count": 12,
      "outputs": [
        {
          "output_type": "execute_result",
          "data": {
            "text/plain": [
              "array([0.95192307, 0.95192307, 0.98076922, 0.98076922, 0.92788464])"
            ]
          },
          "metadata": {},
          "execution_count": 12
        }
      ]
    },
    {
      "cell_type": "code",
      "source": [
        "mean = accuracies.mean()"
      ],
      "metadata": {
        "id": "XY2WYgfrNOPV"
      },
      "execution_count": 14,
      "outputs": []
    },
    {
      "cell_type": "code",
      "source": [
        "mean"
      ],
      "metadata": {
        "colab": {
          "base_uri": "https://localhost:8080/"
        },
        "id": "2LFiQuLkNRpF",
        "outputId": "ebd5872d-082b-4cdd-911c-fc5e572aec08"
      },
      "execution_count": 15,
      "outputs": [
        {
          "output_type": "execute_result",
          "data": {
            "text/plain": [
              "0.9586538434028625"
            ]
          },
          "metadata": {},
          "execution_count": 15
        }
      ]
    },
    {
      "cell_type": "code",
      "source": [
        "### Now making Confusion matrix\n",
        "from sklearn.model_selection import cross_val_predict\n",
        "from sklearn.metrics import confusion_matrix,accuracy_score\n",
        "y_pred1 = cross_val_predict(model,X_train, y_train, cv=10,n_jobs=-1)\n",
        "cmann1=confusion_matrix(y_train, y_pred1)\n",
        "print(cmann1)\n",
        "accuracy1 = (cmann1[0][0]+cmann1[1][1])/(cmann1[0][1] + cmann1[1][0] +cmann1[0][0] +cmann1[1][1]) \n",
        "print(accuracy1*100)"
      ],
      "metadata": {
        "colab": {
          "base_uri": "https://localhost:8080/"
        },
        "id": "1BlJK7NkNd9q",
        "outputId": "c4edb792-9a10-48b4-be7b-181ceec30b01"
      },
      "execution_count": 16,
      "outputs": [
        {
          "output_type": "stream",
          "name": "stdout",
          "text": [
            "[[851   9]\n",
            " [ 33 147]]\n",
            "95.96153846153847\n"
          ]
        }
      ]
    },
    {
      "cell_type": "code",
      "source": [
        "from sklearn.metrics import roc_auc_score\n",
        "print(\"AUC = \",roc_auc_score(y_train,y_pred1))"
      ],
      "metadata": {
        "colab": {
          "base_uri": "https://localhost:8080/"
        },
        "id": "-U1K7i3gNorT",
        "outputId": "6388d5b9-4b3a-4c7f-d6c2-436e91c6731e"
      },
      "execution_count": 17,
      "outputs": [
        {
          "output_type": "stream",
          "name": "stdout",
          "text": [
            "AUC =  0.9031007751937984\n"
          ]
        }
      ]
    },
    {
      "cell_type": "code",
      "source": [
        "from sklearn.metrics import matthews_corrcoef,confusion_matrix\n",
        "matthews_corrcoef(y_train,y_pred1)"
      ],
      "metadata": {
        "colab": {
          "base_uri": "https://localhost:8080/"
        },
        "id": "34wnt3QONsam",
        "outputId": "ca59806b-15b7-4d03-92f4-2bf0af3d7f56"
      },
      "execution_count": 18,
      "outputs": [
        {
          "output_type": "execute_result",
          "data": {
            "text/plain": [
              "0.8541628435179641"
            ]
          },
          "metadata": {},
          "execution_count": 18
        }
      ]
    },
    {
      "cell_type": "code",
      "source": [
        "TP = cmann1[0][0]\n",
        "TN = cmann1[1][1]\n",
        "FP = cmann1[0][1]\n",
        "FN = cmann1[1][0]\n",
        "print('True Positives:', TP)\n",
        "print('True Negatives:', TN)\n",
        "print('False Positives:', FP)\n",
        "print('False Negatives:', FN)"
      ],
      "metadata": {
        "colab": {
          "base_uri": "https://localhost:8080/"
        },
        "id": "jPbljwuUNu9M",
        "outputId": "e377f2e0-2d64-434d-d897-4c0a33dae8ac"
      },
      "execution_count": 19,
      "outputs": [
        {
          "output_type": "stream",
          "name": "stdout",
          "text": [
            "True Positives: 851\n",
            "True Negatives: 147\n",
            "False Positives: 9\n",
            "False Negatives: 33\n"
          ]
        }
      ]
    },
    {
      "cell_type": "code",
      "source": [
        "sensitivity=(TP/(TP+FN))\n",
        "sensitivity"
      ],
      "metadata": {
        "colab": {
          "base_uri": "https://localhost:8080/"
        },
        "id": "vUxb8J0GNy3P",
        "outputId": "7844d4ae-607c-4357-fcf7-60d7f156367f"
      },
      "execution_count": 20,
      "outputs": [
        {
          "output_type": "execute_result",
          "data": {
            "text/plain": [
              "0.9626696832579186"
            ]
          },
          "metadata": {},
          "execution_count": 20
        }
      ]
    },
    {
      "cell_type": "code",
      "source": [
        "specificity = (TN/(TN+FP))\n",
        "specificity"
      ],
      "metadata": {
        "colab": {
          "base_uri": "https://localhost:8080/"
        },
        "id": "6lDRCQaCN1kF",
        "outputId": "0e3b27b0-e5ad-4da4-dcc6-eaf38e55c57b"
      },
      "execution_count": 21,
      "outputs": [
        {
          "output_type": "execute_result",
          "data": {
            "text/plain": [
              "0.9423076923076923"
            ]
          },
          "metadata": {},
          "execution_count": 21
        }
      ]
    },
    {
      "cell_type": "code",
      "source": [
        "precision = (TP/(TP+FP))\n",
        "recall = (TP/(TP+FN))\n",
        "print(precision)\n",
        "print(recall)"
      ],
      "metadata": {
        "colab": {
          "base_uri": "https://localhost:8080/"
        },
        "id": "gUSWfnA1N3qz",
        "outputId": "8ec46ea1-b463-478b-97d4-130b34e55ab5"
      },
      "execution_count": 22,
      "outputs": [
        {
          "output_type": "stream",
          "name": "stdout",
          "text": [
            "0.9895348837209302\n",
            "0.9626696832579186\n"
          ]
        }
      ]
    },
    {
      "cell_type": "code",
      "source": [
        "f1 = (2*(precision*recall))/(precision+recall)\n",
        "f1"
      ],
      "metadata": {
        "colab": {
          "base_uri": "https://localhost:8080/"
        },
        "id": "7QWUzcgSN8-m",
        "outputId": "cfa336e5-7e5a-46ef-d756-5430c689acb4"
      },
      "execution_count": 23,
      "outputs": [
        {
          "output_type": "execute_result",
          "data": {
            "text/plain": [
              "0.9759174311926605"
            ]
          },
          "metadata": {},
          "execution_count": 23
        }
      ]
    },
    {
      "cell_type": "code",
      "source": [
        ""
      ],
      "metadata": {
        "id": "8hU01TruN_yf"
      },
      "execution_count": null,
      "outputs": []
    }
  ]
}